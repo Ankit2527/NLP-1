{
 "cells": [
  {
   "cell_type": "code",
   "execution_count": 1,
   "metadata": {},
   "outputs": [
    {
     "name": "stdout",
     "output_type": "stream",
     "text": [
      "BOW - acc: 0.2809954751131221 - sd: 0.014053883927959159\n",
      "CBOW - acc: 0.36184012066365007 - sd: 0.012377217640379272\n",
      "Deep_CBOW - acc: 0.3728506787330317 - sd: 0.010475870500262637\n",
      "PT_Deep_CBOW - acc: 0.42473604826546 - sd: 0.005607128294250715\n",
      "LSTMClassifier_mb - acc: 0.455052790346908 - sd: 0.003227893598647454\n"
     ]
    }
   ],
   "source": [
    "import pickle\n",
    "from collections import OrderedDict\n",
    "from collections import defaultdict\n",
    "import numpy as np\n",
    "import matplotlib.pyplot as plt\n",
    "\n",
    "# reads 3 pickle files for different seeds (now all set to 42 for testing)\n",
    "seed_nums = [20, 10, 0]\n",
    "\n",
    "D = []\n",
    "for n in seed_nums: \n",
    "    with open('word_order_results_seed_{}.pickle'.format(n), 'rb') as handle:\n",
    "        r = pickle.load(handle)\n",
    "        D.append(r)\n",
    "\n",
    "\n",
    "# mean and std data\n",
    "test_acc_means = []\n",
    "test_acc_stds = []\n",
    "model_names =  []\n",
    "\n",
    "# sentence length data\n",
    "sl_data = []\n",
    "for model in D[0].keys():\n",
    "    \n",
    "    # change model names and skip LSTMClassifier \n",
    "    if model == 'LSTMClassifier':\n",
    "        continue\n",
    "    if model == 'LSTMClassifier_mb':\n",
    "        model_names.append('LSTM')\n",
    "    else:\n",
    "        model_names.append(model)\n",
    "        \n",
    "        \n",
    "    test_accs = np.array([D[0][model]['test_accuracy'], \n",
    "                          D[1][model]['test_accuracy'], \n",
    "                          D[2][model]['test_accuracy']])\n",
    "    test_acc_mean = np.mean(test_accs)\n",
    "    test_acc_sd = np.std(test_accs)\n",
    "    test_acc_means.append(test_acc_mean)\n",
    "    test_acc_stds.append(test_acc_sd)\n",
    "    \n",
    "    print(model,'- acc:', test_acc_mean,'- sd:', test_acc_sd)\n",
    "\n",
    "    "
   ]
  },
  {
   "cell_type": "code",
   "execution_count": 2,
   "metadata": {},
   "outputs": [
    {
     "name": "stdout",
     "output_type": "stream",
     "text": [
      "Populating the interactive namespace from numpy and matplotlib\n"
     ]
    },
    {
     "data": {
      "image/png": "[encoded data removed]",
      "text/plain": [
       "<Figure size 576x432 with 1 Axes>"
      ]
     },
     "metadata": {
      "needs_background": "light"
     },
     "output_type": "display_data"
    }
   ],
   "source": [
    "%pylab inline\n",
    "plt.rcParams[\"figure.figsize\"] = [15,7]\n",
    "\n",
    "# plot the accuracies for the standard models\n",
    "# barplot with standard deviation\n",
    "x_pos = np.arange(len(model_names))\n",
    "fig, ax = plt.subplots()\n",
    "ax.bar(x_pos[0:6], test_acc_means[0:6], yerr=test_acc_stds[0:6],  width=0.4, align='center', alpha=0.5, ecolor='black', capsize=5)\n",
    "ax.set_ylabel('Test accuracy word order')\n",
    "ax.set_xticks(x_pos[0:6])\n",
    "ax.set_xticklabels(model_names[0:6])\n",
    "ax.set_title('Test test accuracy for each model')\n",
    "ax.yaxis.grid(True)\n",
    "plt.tight_layout()\n",
    "fig.set_size_inches(8, 6)\n",
    "# Save the figure and show\n",
    "plt.savefig('plots/accuracies_word_order.png')\n",
    "plt.show()\n"
   ]
  },
  {
   "cell_type": "code",
   "execution_count": null,
   "metadata": {},
   "outputs": [],
   "source": []
  }
 ],
 "metadata": {
  "kernelspec": {
   "display_name": "Python 3",
   "language": "python",
   "name": "python3"
  },
  "language_info": {
   "codemirror_mode": {
    "name": "ipython",
    "version": 3
   },
   "file_extension": ".py",
   "mimetype": "text/x-python",
   "name": "python",
   "nbconvert_exporter": "python",
   "pygments_lexer": "ipython3",
   "version": "3.7.7"
  }
 },
 "nbformat": 4,
 "nbformat_minor": 2
}
