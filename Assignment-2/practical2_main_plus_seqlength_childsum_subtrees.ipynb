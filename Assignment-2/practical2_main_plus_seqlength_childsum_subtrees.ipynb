{
  "cells": [
    {
      "cell_type": "markdown",
      "metadata": {
        "id": "ptMZZMQlfn7c"
      },
      "source": [
        "------\n",
        "**You cannot apply any changes to this file, so please make sure to save it on your Google Colab drive or download it as a .ipynb file.**\n",
        "\n",
        "------\n"
      ]
    },
    {
      "cell_type": "markdown",
      "metadata": {
        "id": "jILqpPLlE9r0"
      },
      "source": [
        "# Practical 2: Representing Sentences with Neural Models"
      ]
    },
    {
      "cell_type": "markdown",
      "metadata": {
        "id": "8JXOZ5uhQ8Qq"
      },
      "source": [
        "In this second practical, we will train neural network models to obtain sentence representations. We can then use these sentence representations for a downstream task such as sentiment classification. \n",
        "\n",
        "In this notebook, we will help you to develop models for your experiments. But this time, next to completing the notebook, **you are expected to write a four-page scientific report with your findings**. Please still submit the notebook together with your scientific report so that we can reproduce your experiments. (Note: if you find it useful, you can split this notebook into multiple notebooks. If you do so, keep it mind that it should be possible for your TAs to reproduce the entire content of the notebooks without having to ask for clarifications or to copy and paste functions from one sub-notebook to another.) Make sure your code corresponds to the description you give in the report; we will deduct points if this is not the case.\n",
        "\n",
        "**Important!** The main purpose of this lab is for you to learn how to answer research questions by experimenting and then writing a scientific report.\n",
        "So you will be *judged by the quality of your report* but will lose points if your experiments are not reproducible.\n",
        "You can find the requirements for the report at the end of this notebook.\n",
        "\n",
        "\n",
        "### Data set\n",
        "We will use the [Stanford Sentiment Treebank](https://nlp.stanford.edu/sentiment/) (SST), which provides sentences, their binary tree structure, and fine-grained sentiment scores.\n",
        "This dataset is different from the one we used in the first practical. \n",
        "In Practical 1, a review consisted of several sentences, and we had one sentiment score for the whole review. Now, a review consists of a single sentence, and we have a sentiment score for each node in the binary tree that makes up the sentence, including the root node (i.e., we still have an overall sentiment score for the entire review). We will look at an example below.\n",
        "\n",
        "In the first part of this practical we will only make use of the sentence tokens whereas in the second part we will also exploit the tree structure that is provided by the SST.\n",
        "\n",
        "We will cover the following approaches:\n",
        "\n",
        "- Bag-of-words (BOW)\n",
        "- Continuous bag-of-words (CBOW)\n",
        "- Deep continuous bag-of-words (Deep CBOW)\n",
        "- LSTM\n",
        "- Tree-LSTM\n"
      ]
    },
    {
      "cell_type": "markdown",
      "metadata": {
        "id": "YbNKef3lymaj"
      },
      "source": [
        "## Preparing the data"
      ]
    },
    {
      "cell_type": "markdown",
      "metadata": {
        "id": "9jxTkpg59FlU"
      },
      "source": [
        "Let's first download the data set and take a look."
      ]
    },
    {
      "cell_type": "code",
      "execution_count": 1,
      "metadata": {
        "id": "WZp53HmMP3F2"
      },
      "outputs": [],
      "source": [
        "import re\n",
        "import random \n",
        "import time\n",
        "import math\n",
        "import numpy as np\n",
        "import nltk\n",
        "import matplotlib.pyplot as plt\n",
        "plt.style.use('default')"
      ]
    },
    {
      "cell_type": "code",
      "execution_count": 2,
      "metadata": {
        "colab": {
          "base_uri": "https://localhost:8080/"
        },
        "id": "TovFkDTgE_d6",
        "outputId": "55934eee-6345-43ca-ce5e-c44dad8bfaae"
      },
      "outputs": [
        {
          "output_type": "stream",
          "name": "stdout",
          "text": [
            "--2021-12-15 00:51:37--  https://nlp.stanford.edu/sentiment/trainDevTestTrees_PTB.zip\n",
            "Resolving nlp.stanford.edu (nlp.stanford.edu)... 171.64.67.140\n",
            "Connecting to nlp.stanford.edu (nlp.stanford.edu)|171.64.67.140|:443... connected.\n",
            "HTTP request sent, awaiting response... 200 OK\n",
            "Length: 789539 (771K) [application/zip]\n",
            "Saving to: ‘trainDevTestTrees_PTB.zip’\n",
            "\n",
            "trainDevTestTrees_P 100%[===================>] 771.03K  --.-KB/s    in 0.1s    \n",
            "\n",
            "2021-12-15 00:51:38 (6.39 MB/s) - ‘trainDevTestTrees_PTB.zip’ saved [789539/789539]\n",
            "\n",
            "Archive:  trainDevTestTrees_PTB.zip\n",
            "   creating: trees/\n",
            "  inflating: trees/dev.txt           \n",
            "  inflating: trees/test.txt          \n",
            "  inflating: trees/train.txt         \n"
          ]
        }
      ],
      "source": [
        "!wget https://nlp.stanford.edu/sentiment/trainDevTestTrees_PTB.zip \n",
        "!unzip trainDevTestTrees_PTB.zip"
      ]
    },
    {
      "cell_type": "code",
      "execution_count": 3,
      "metadata": {
        "id": "0IpAphkBO5eW"
      },
      "outputs": [],
      "source": [
        "# this function reads in a textfile and fixes an issue with \"\\\\\"\n",
        "def filereader(path): \n",
        "  with open(path, mode=\"r\", encoding=\"utf-8\") as f:\n",
        "    for line in f:\n",
        "      yield line.strip().replace(\"\\\\\",\"\")"
      ]
    },
    {
      "cell_type": "markdown",
      "metadata": {
        "id": "yP_jpquiprH8"
      },
      "source": [
        "Let's look at a data point. It is a **flattened binary tree**, with sentiment scores at every node, and words as the leaves (or *terminal nodes*)."
      ]
    },
    {
      "cell_type": "code",
      "execution_count": 4,
      "metadata": {
        "colab": {
          "base_uri": "https://localhost:8080/"
        },
        "id": "ylkIopm0QJML",
        "outputId": "d366278b-f44d-4557-d5be-6f5ce1a1ebdb"
      },
      "outputs": [
        {
          "output_type": "stream",
          "name": "stdout",
          "text": [
            "(3 (2 It) (4 (4 (2 's) (4 (3 (2 a) (4 (3 lovely) (2 film))) (3 (2 with) (4 (3 (3 lovely) (2 performances)) (2 (2 by) (2 (2 (2 Buy) (2 and)) (2 Accorsi))))))) (2 .)))\n"
          ]
        }
      ],
      "source": [
        "s = next(filereader(\"trees/dev.txt\"))\n",
        "print(s)"
      ]
    },
    {
      "cell_type": "code",
      "execution_count": 5,
      "metadata": {
        "colab": {
          "base_uri": "https://localhost:8080/"
        },
        "id": "7_U7HTFwdrWt",
        "outputId": "b2465449-8789-428b-8e09-4b2fc436dcd7"
      },
      "outputs": [
        {
          "output_type": "stream",
          "name": "stdout",
          "text": [
            "              3                                                                     \n",
            "  ____________|____________________                                                  \n",
            " |                                 4                                                \n",
            " |        _________________________|______________________________________________   \n",
            " |       4                                                                        | \n",
            " |    ___|______________                                                          |  \n",
            " |   |                  4                                                         | \n",
            " |   |         _________|__________                                               |  \n",
            " |   |        |                    3                                              | \n",
            " |   |        |               _____|______________________                        |  \n",
            " |   |        |              |                            4                       | \n",
            " |   |        |              |            ________________|_______                |  \n",
            " |   |        |              |           |                        2               | \n",
            " |   |        |              |           |                 _______|___            |  \n",
            " |   |        3              |           |                |           2           | \n",
            " |   |    ____|_____         |           |                |        ___|_____      |  \n",
            " |   |   |          4        |           3                |       2         |     | \n",
            " |   |   |     _____|___     |      _____|_______         |    ___|___      |     |  \n",
            " 2   2   2    3         2    2     3             2        2   2       2     2     2 \n",
            " |   |   |    |         |    |     |             |        |   |       |     |     |  \n",
            " It  's  a  lovely     film with lovely     performances  by Buy     and Accorsi  . \n",
            "\n"
          ]
        }
      ],
      "source": [
        "# We can use NLTK to better visualise the tree structure of the sentence\n",
        "from nltk import Tree\n",
        "from nltk.treeprettyprinter import TreePrettyPrinter\n",
        "tree = Tree.fromstring(s)\n",
        "print(TreePrettyPrinter(tree))"
      ]
    },
    {
      "cell_type": "markdown",
      "metadata": {
        "id": "ekAWKsji9t93"
      },
      "source": [
        "The sentiment scores range from 0 (very negative) to 5 (very positive). Again, as you can see, every node in the tree is labeled with a sentiment score. For now, we will only use the score at the **root node**, i.e., the sentiment score for the complete sentence."
      ]
    },
    {
      "cell_type": "code",
      "execution_count": 6,
      "metadata": {
        "colab": {
          "base_uri": "https://localhost:8080/"
        },
        "id": "DKynLm0xPKr2",
        "outputId": "ff226ed5-52f3-4268-d776-7d420e360695"
      },
      "outputs": [
        {
          "output_type": "stream",
          "name": "stdout",
          "text": [
            "['It', \"'s\", 'a', 'lovely', 'film', 'with', 'lovely', 'performances', 'by', 'Buy', 'and', 'Accorsi', '.']\n",
            "13\n"
          ]
        }
      ],
      "source": [
        "# Let's first make a function that extracts the tokens (the leaves).\n",
        "\n",
        "def tokens_from_treestring(s):\n",
        "  \"\"\"extract the tokens from a sentiment tree\"\"\"\n",
        "  return re.sub(r\"\\([0-9] |\\)\", \"\", s).split()\n",
        " \n",
        "# let's try it on our example tree\n",
        "tokens = tokens_from_treestring(s)\n",
        "print(tokens)\n",
        "print(len(tokens))"
      ]
    },
    {
      "cell_type": "markdown",
      "metadata": {
        "id": "B8vFkeqN-NLP"
      },
      "source": [
        "> *Warning: you could also parse a treestring using NLTK and ask it to return the leaves, but there seems to be an issue with NLTK not always correctly parsing the input, so do not rely on it.*"
      ]
    },
    {
      "cell_type": "code",
      "execution_count": 7,
      "metadata": {
        "id": "Akr9K_Mv4dym"
      },
      "outputs": [],
      "source": [
        "# We will also need the following function, but you can ignore this for now.\n",
        "# It is explained later on.\n",
        "\n",
        "SHIFT = 0\n",
        "REDUCE = 1\n",
        "\n",
        "def transitions_from_treestring(s):\n",
        "  s = re.sub(\"\\([0-5] ([^)]+)\\)\", \"0\", s)\n",
        "  s = re.sub(\"\\)\", \" )\", s)\n",
        "  s = re.sub(\"\\([0-4] \", \"\", s)\n",
        "  s = re.sub(\"\\([0-4] \", \"\", s)\n",
        "  s = re.sub(\"\\)\", \"1\", s)\n",
        "  return list(map(int, s.split()))"
      ]
    },
    {
      "cell_type": "code",
      "execution_count": 8,
      "metadata": {
        "colab": {
          "base_uri": "https://localhost:8080/"
        },
        "id": "mNtPdlwPgRat",
        "outputId": "a0935c57-77a8-4824-fc5f-1500ccbd78ac"
      },
      "outputs": [
        {
          "output_type": "stream",
          "name": "stdout",
          "text": [
            "trees/train.txt  8544\n",
            "trees/dev.txt    1101\n",
            "trees/test.txt   2210\n"
          ]
        }
      ],
      "source": [
        "# Now let's first see how large our data sets are.\n",
        "for path in (\"trees/train.txt\", \"trees/dev.txt\", \"trees/test.txt\"):\n",
        "  print(\"{:16s} {:4d}\".format(path, sum(1 for _ in filereader(path))))"
      ]
    },
    {
      "cell_type": "markdown",
      "metadata": {
        "id": "HexlSqTR_UrY"
      },
      "source": [
        "You can see that the number of sentences is not very large. That's probably because the data set required so much manual annotation. However, it is large enough to train a neural network on."
      ]
    },
    {
      "cell_type": "markdown",
      "metadata": {
        "id": "IfRjelOcsXuC"
      },
      "source": [
        "It will be useful to store each data example in an `Example` object,\n",
        "containing everything that we may need for each data point.\n",
        "It will contain the tokens, the tree, the top-level sentiment label, and \n",
        "the transitions (explained later)."
      ]
    },
    {
      "cell_type": "code",
      "execution_count": 9,
      "metadata": {
        "colab": {
          "base_uri": "https://localhost:8080/"
        },
        "id": "4I07Hb_-q8wg",
        "outputId": "43190f1d-2e1f-4368-bc7e-e9cf101f6e53"
      },
      "outputs": [
        {
          "output_type": "stream",
          "name": "stdout",
          "text": [
            "train 8544\n",
            "dev 1101\n",
            "test 2210\n"
          ]
        }
      ],
      "source": [
        "from collections import namedtuple\n",
        "from nltk import Tree\n",
        "\n",
        "\n",
        "# A simple way to define a class is using namedtuple.\n",
        "Example = namedtuple(\"Example\", [\"tokens\", \"tree\", \"label\", \"transitions\"])\n",
        "\n",
        "   \n",
        "def examplereader(path, lower=False):\n",
        "  \"\"\"Returns all examples in a file one by one.\"\"\"\n",
        "  for line in filereader(path):\n",
        "    line = line.lower() if lower else line\n",
        "    tokens = tokens_from_treestring(line)\n",
        "    tree = Tree.fromstring(line)  # use NLTK's Tree\n",
        "    label = int(line[1])\n",
        "    trans = transitions_from_treestring(line)\n",
        "    yield Example(tokens=tokens, tree=tree, label=label, transitions=trans)\n",
        "  \n",
        "\n",
        "# Let's load the data into memory.\n",
        "LOWER = False  # we will keep the original casing\n",
        "train_data = list(examplereader(\"trees/train.txt\", lower=LOWER))\n",
        "dev_data = list(examplereader(\"trees/dev.txt\", lower=LOWER))\n",
        "test_data = list(examplereader(\"trees/test.txt\", lower=LOWER))\n",
        "\n",
        "print(\"train\", len(train_data))\n",
        "print(\"dev\", len(dev_data))\n",
        "print(\"test\", len(test_data))"
      ]
    },
    {
      "cell_type": "markdown",
      "metadata": {
        "id": "6KM0bDyeVZtP"
      },
      "source": [
        "Let's check out an `Example` object."
      ]
    },
    {
      "cell_type": "code",
      "execution_count": 10,
      "metadata": {
        "colab": {
          "base_uri": "https://localhost:8080/"
        },
        "id": "J8mwcaZwxP1c",
        "outputId": "802def74-9912-4ccd-8b87-f964fb861997"
      },
      "outputs": [
        {
          "output_type": "stream",
          "name": "stdout",
          "text": [
            "First example: Example(tokens=['It', \"'s\", 'a', 'lovely', 'film', 'with', 'lovely', 'performances', 'by', 'Buy', 'and', 'Accorsi', '.'], tree=Tree('3', [Tree('2', ['It']), Tree('4', [Tree('4', [Tree('2', [\"'s\"]), Tree('4', [Tree('3', [Tree('2', ['a']), Tree('4', [Tree('3', ['lovely']), Tree('2', ['film'])])]), Tree('3', [Tree('2', ['with']), Tree('4', [Tree('3', [Tree('3', ['lovely']), Tree('2', ['performances'])]), Tree('2', [Tree('2', ['by']), Tree('2', [Tree('2', [Tree('2', ['Buy']), Tree('2', ['and'])]), Tree('2', ['Accorsi'])])])])])])]), Tree('2', ['.'])])]), label=3, transitions=[0, 0, 0, 0, 0, 1, 1, 0, 0, 0, 1, 0, 0, 0, 1, 0, 1, 1, 1, 1, 1, 1, 0, 1, 1])\n",
            "First example tokens: ['It', \"'s\", 'a', 'lovely', 'film', 'with', 'lovely', 'performances', 'by', 'Buy', 'and', 'Accorsi', '.']\n",
            "First example label: 3\n"
          ]
        }
      ],
      "source": [
        "example = dev_data[0]\n",
        "print(\"First example:\", example)\n",
        "print(\"First example tokens:\", example.tokens)\n",
        "print(\"First example label:\",  example.label)"
      ]
    },
    {
      "cell_type": "markdown",
      "metadata": {
        "id": "-WDSprDBVcr-"
      },
      "source": [
        "#### Vocabulary \n",
        "A first step in most NLP tasks is collecting all the word types that appear in the data into a vocabulary, and counting the frequency of their occurrences. On the one hand, this will give us an overview of the word distribution of the data set (what are the most frequent words, how many rare words are there, ...). On the other hand, we will also use the vocabulary to map each word to a unique numeric ID, which is a more handy index than a string."
      ]
    },
    {
      "cell_type": "code",
      "execution_count": 11,
      "metadata": {
        "id": "VvNgKx7usRSt"
      },
      "outputs": [],
      "source": [
        "# Here we first define a class that can map a word to an ID (w2i)\n",
        "# and back (i2w).\n",
        "\n",
        "from collections import Counter, OrderedDict, defaultdict\n",
        "\n",
        "\n",
        "class OrderedCounter(Counter, OrderedDict):\n",
        "  \"\"\"Counter that remembers the order elements are first seen\"\"\"\n",
        "  def __repr__(self):\n",
        "    return '%s(%r)' % (self.__class__.__name__,\n",
        "                      OrderedDict(self))\n",
        "  def __reduce__(self):\n",
        "    return self.__class__, (OrderedDict(self),)\n",
        "\n",
        "\n",
        "class Vocabulary:\n",
        "  \"\"\"A vocabulary, assigns IDs to tokens\"\"\"\n",
        "  \n",
        "  def __init__(self):\n",
        "    self.freqs = OrderedCounter()\n",
        "    self.w2i = {}\n",
        "    self.i2w = []\n",
        "\n",
        "  def count_token(self, t):\n",
        "    self.freqs[t] += 1\n",
        "    \n",
        "  def add_token(self, t):\n",
        "    self.w2i[t] = len(self.w2i)\n",
        "    self.i2w.append(t)    \n",
        "    \n",
        "  def build(self, min_freq=0):\n",
        "    '''\n",
        "    min_freq: minimum number of occurrences for a word to be included  \n",
        "              in the vocabulary\n",
        "    '''\n",
        "    self.add_token(\"<unk>\")  # reserve 0 for <unk> (unknown words)\n",
        "    self.add_token(\"<pad>\")  # reserve 1 for <pad> (discussed later)   \n",
        "    \n",
        "    tok_freq = list(self.freqs.items())\n",
        "    tok_freq.sort(key=lambda x: x[1], reverse=True)\n",
        "    for tok, freq in tok_freq:\n",
        "      if freq >= min_freq:\n",
        "        self.add_token(tok)"
      ]
    },
    {
      "cell_type": "markdown",
      "metadata": {
        "id": "kOvkH_llVsoW"
      },
      "source": [
        "The vocabulary has by default an `<unk>` token and a `<pad>` token. The `<unk>` token is reserved for all words which do not appear in the training data (and for which, therefore, we cannot learn word representations). The function of the `<pad>` token will be explained later.\n",
        "\n",
        "\n",
        "Let's build the vocabulary!\n"
      ]
    },
    {
      "cell_type": "code",
      "execution_count": 12,
      "metadata": {
        "colab": {
          "base_uri": "https://localhost:8080/"
        },
        "id": "GwGQgQQBNUSq",
        "outputId": "6045d64a-f727-464b-c86b-c16cac3c84c1"
      },
      "outputs": [
        {
          "output_type": "stream",
          "name": "stdout",
          "text": [
            "Vocabulary size: 18280\n"
          ]
        }
      ],
      "source": [
        "# This process should be deterministic and should have the same result \n",
        "# if run multiple times on the same data set.\n",
        "\n",
        "v = Vocabulary()\n",
        "for data_set in (train_data,):\n",
        "  for ex in data_set:\n",
        "    for token in ex.tokens:\n",
        "      v.count_token(token)\n",
        "\n",
        "v.build()\n",
        "print(\"Vocabulary size:\", len(v.w2i))"
      ]
    },
    {
      "cell_type": "markdown",
      "metadata": {
        "id": "-UNIedPrPdCw"
      },
      "source": [
        "Let's have a closer look at the properties of our vocabulary. Having a good idea of what it is like can facilitate data analysis and debugging later on."
      ]
    },
    {
      "cell_type": "code",
      "execution_count": 13,
      "metadata": {
        "colab": {
          "base_uri": "https://localhost:8080/"
        },
        "id": "oJyuogmh0CA7",
        "outputId": "ccae50a7-2120-49f0-a8d6-5c880336c6b6"
      },
      "outputs": [
        {
          "output_type": "stream",
          "name": "stdout",
          "text": [
            "1973\n"
          ]
        }
      ],
      "source": [
        "# What is the ID for \"century?\"\n",
        "print(v.w2i['century'])"
      ]
    },
    {
      "cell_type": "code",
      "execution_count": 14,
      "metadata": {
        "colab": {
          "base_uri": "https://localhost:8080/"
        },
        "id": "O8OkPQ8Zv-rI",
        "outputId": "772cf20e-1ebf-45c4-dc43-20645ee43918"
      },
      "outputs": [
        {
          "output_type": "stream",
          "name": "stdout",
          "text": [
            "<unk>\n",
            "<pad>\n",
            ".\n",
            ",\n",
            "the\n",
            "and\n",
            "a\n",
            "of\n",
            "to\n",
            "'s\n"
          ]
        }
      ],
      "source": [
        "# What are the first 10 words in the vocabulary (based on their IDs)?\n",
        "for i in range(10):\n",
        "    print(v.i2w[i])"
      ]
    },
    {
      "cell_type": "code",
      "execution_count": 15,
      "metadata": {
        "colab": {
          "base_uri": "https://localhost:8080/"
        },
        "id": "kmXwu02lOLWI",
        "outputId": "8f0d8586-fb55-44a1-9dce-c0f9cfdfa45c"
      },
      "outputs": [
        {
          "output_type": "stream",
          "name": "stdout",
          "text": [
            ".\n",
            ",\n",
            "the\n",
            "and\n",
            "a\n",
            "of\n",
            "to\n",
            "'s\n",
            "is\n",
            "that\n"
          ]
        }
      ],
      "source": [
        "# What are the 10 most common words?\n",
        "v_freq = Counter(v.freqs)\n",
        "\n",
        "for token, count in v_freq.most_common(10):\n",
        "    print(token)"
      ]
    },
    {
      "cell_type": "code",
      "execution_count": 16,
      "metadata": {
        "colab": {
          "base_uri": "https://localhost:8080/"
        },
        "id": "__NDPaCeOT_m",
        "outputId": "2e6cfe36-e888-4440-a8d3-a2476895b755"
      },
      "outputs": [
        {
          "output_type": "stream",
          "name": "stdout",
          "text": [
            "9543\n"
          ]
        }
      ],
      "source": [
        "# And how many words are there with frequency 1?\n",
        "# (A fancy name for these is hapax legomena.)\n",
        "freq_1 = []\n",
        "for token in v_freq:\n",
        "    if v_freq[token] == 1:\n",
        "        freq_1.append(token)\n",
        "print(len(freq_1))\n",
        "        "
      ]
    },
    {
      "cell_type": "code",
      "execution_count": 17,
      "metadata": {
        "colab": {
          "base_uri": "https://localhost:8080/"
        },
        "id": "xKHocugctZGM",
        "outputId": "0be2b532-b68a-482e-f484-72ca54657b98"
      },
      "outputs": [
        {
          "output_type": "stream",
          "name": "stdout",
          "text": [
            "['dismiss', 'Unfunny', 'N', 'qual', 'stricken', 'Wal-Mart', 'yahoo-ing', 'Directed', 'dug', 'schoolgirl', 'crowded', 'clones', 'PB', 'mistakes', 'absolute', 'Deep', 'march', 'illness', 'Galan', 'Melanie']\n"
          ]
        }
      ],
      "source": [
        "# Finally 20 random words from the vocabulary.\n",
        "# This is a simple way to get a feeling for the data. \n",
        "# You could use the `choice` function from the already imported `random` package\n",
        "random_words = []\n",
        "for i in range(20):\n",
        "    r_w_20 = random.choice(list(v.w2i.keys()))\n",
        "    random_words.append(r_w_20)\n",
        "print(random_words) "
      ]
    },
    {
      "cell_type": "markdown",
      "metadata": {
        "id": "nGWaZahKV_dH"
      },
      "source": [
        "#### Sentiment label vocabulary"
      ]
    },
    {
      "cell_type": "code",
      "execution_count": 18,
      "metadata": {
        "colab": {
          "base_uri": "https://localhost:8080/"
        },
        "id": "AmTC-rvQelpl",
        "outputId": "1960a688-8fa5-49fe-d6fd-3a208ea0b1b0"
      },
      "outputs": [
        {
          "output_type": "stream",
          "name": "stdout",
          "text": [
            "['very negative', 'negative', 'neutral', 'positive', 'very positive']\n",
            "very positive\n"
          ]
        }
      ],
      "source": [
        "# Now let's map the sentiment labels 0-4 to a more readable form\n",
        "i2t = [\"very negative\", \"negative\", \"neutral\", \"positive\", \"very positive\"]\n",
        "print(i2t)\n",
        "print(i2t[4])"
      ]
    },
    {
      "cell_type": "code",
      "execution_count": 19,
      "metadata": {
        "colab": {
          "base_uri": "https://localhost:8080/"
        },
        "id": "D7UI26DP2dr2",
        "outputId": "b63ba2a4-2229-425d-df77-33170b0ea5eb"
      },
      "outputs": [
        {
          "output_type": "stream",
          "name": "stdout",
          "text": [
            "OrderedDict([('very negative', 0), ('negative', 1), ('neutral', 2), ('positive', 3), ('very positive', 4)])\n",
            "4\n"
          ]
        }
      ],
      "source": [
        "# And let's also create the opposite mapping.\n",
        "# We won't use a Vocabulary for this (although we could), since the labels\n",
        "# are already numeric.\n",
        "t2i = OrderedDict({p : i for p, i in zip(i2t, range(len(i2t)))})\n",
        "print(t2i)\n",
        "print(t2i['very positive'])"
      ]
    },
    {
      "cell_type": "markdown",
      "metadata": {
        "id": "y0067ax54-rd"
      },
      "source": [
        "## PyTorch\n",
        "\n",
        "In Colab notebooks, the last available version of PyTorch is already installed.The current stable version is 1.7.\n",
        "\n",
        "*For installing PyTorch in your own computer, follow the instructions on [pytorch.org](pytorch.org) instead. This is for Google Colab only.*"
      ]
    },
    {
      "cell_type": "code",
      "execution_count": 20,
      "metadata": {
        "colab": {
          "base_uri": "https://localhost:8080/"
        },
        "id": "qKQMGtkR5KWr",
        "outputId": "0ec07be6-89fc-41f8-995e-9789f4ddc856"
      },
      "outputs": [
        {
          "output_type": "stream",
          "name": "stdout",
          "text": [
            "Using torch 1.10.0+cu111\n"
          ]
        }
      ],
      "source": [
        "import torch\n",
        "print(\"Using torch\", torch.__version__) # should say 1.7.0+cu101"
      ]
    },
    {
      "cell_type": "code",
      "execution_count": 21,
      "metadata": {
        "id": "mnvPcd_E1xH8"
      },
      "outputs": [],
      "source": [
        "# Let's also import torch.nn, a PyTorch package that  \n",
        "# makes building neural networks more convenient.\n",
        "from torch import nn"
      ]
    },
    {
      "cell_type": "code",
      "execution_count": 22,
      "metadata": {
        "colab": {
          "base_uri": "https://localhost:8080/"
        },
        "id": "BYt8uTyGCKc7",
        "outputId": "f032684f-84aa-49c7-b09d-33eb6d1682e1"
      },
      "outputs": [
        {
          "output_type": "execute_result",
          "data": {
            "text/plain": [
              "device(type='cuda')"
            ]
          },
          "metadata": {},
          "execution_count": 22
        }
      ],
      "source": [
        "# PyTorch can run on CPU or on Nvidia GPU (video card) using CUDA\n",
        "# This cell selects the GPU if one is available.\n",
        "device = torch.device('cuda' if torch.cuda.is_available() else 'cpu')\n",
        "device"
      ]
    },
    {
      "cell_type": "code",
      "execution_count": 23,
      "metadata": {
        "id": "2d1VMOOYx1Bw"
      },
      "outputs": [],
      "source": [
        "# Seed manually to make runs reproducible\n",
        "# You need to set this again if you do multiple runs of the same model\n",
        "SEED_NUM = 42\n",
        "torch.manual_seed(SEED_NUM)\n",
        "\n",
        "# When running on the CuDNN backend two further options must be set for reproducibility\n",
        "if torch.cuda.is_available():\n",
        "  torch.backends.cudnn.deterministic = True\n",
        "  torch.backends.cudnn.benchmark = False"
      ]
    },
    {
      "cell_type": "markdown",
      "metadata": {
        "id": "uWBTzkuE3CtZ"
      },
      "source": [
        "# BOW"
      ]
    },
    {
      "cell_type": "markdown",
      "metadata": {
        "id": "TBAjYYySOA5W"
      },
      "source": [
        "Our first model is a rather simple neural **bag-of-words (BOW) model**.\n",
        "Unlike the bag-of-words model that you used in the previous lab, where we would look at the presence / frequency of words in a text, here we associate each word with a multi-dimensional vector which expresses what sentiment is conveyed by the word. In particular, our BOW vectors will be of size 5, exactly our number of sentiment classes. \n",
        "\n",
        "To classify a sentence, we **sum** the vectors of the words in the sentence and a bias vector. Because we sum the vectors, we lose word order: that's why we call this a neural bag-of-words model.\n",
        "\n",
        "```\n",
        "this   [0.0, 0.1, 0.1, 0.1, 0.0]\n",
        "movie  [0.0, 0.1, 0.1, 0.2, 0.1]\n",
        "is     [0.0, 0.1, 0.0, 0.0, 0.0]\n",
        "stupid [0.9, 0.5, 0.1, 0.0, 0.0]\n",
        "\n",
        "bias   [0.0, 0.0, 0.0, 0.0, 0.0]\n",
        "--------------------------------\n",
        "sum    [0.9, 0.8, 0.3, 0.3, 0.1]\n",
        "\n",
        "argmax: 0 (very negative)\n",
        "```\n",
        "\n",
        "The **argmax** of this sum is our predicted label.\n",
        "\n",
        "We initialize all vectors *randomly* and train them using cross-entropy loss."
      ]
    },
    {
      "cell_type": "markdown",
      "metadata": {
        "id": "rLtBAIQGynkB"
      },
      "source": [
        "#### Model class"
      ]
    },
    {
      "cell_type": "code",
      "execution_count": 24,
      "metadata": {
        "id": "QZfNklWf3tvs"
      },
      "outputs": [],
      "source": [
        "class BOW(nn.Module):\n",
        "  \"\"\"A simple bag-of-words model\"\"\"\n",
        "\n",
        "  def __init__(self, vocab_size, embedding_dim, vocab):\n",
        "    super(BOW, self).__init__()\n",
        "    self.vocab = vocab\n",
        "    \n",
        "    # this is a trainable look-up table with word embeddings\n",
        "    self.embed = nn.Embedding(vocab_size, embedding_dim)\n",
        "    \n",
        "    # this is a trainable bias term\n",
        "    self.bias = nn.Parameter(torch.zeros(embedding_dim), requires_grad=True)        \n",
        "\n",
        "  def forward(self, inputs):\n",
        "    # this is the forward pass of the neural network\n",
        "    # it applies a function to the input and returns the output\n",
        "\n",
        "    # this looks up the embeddings for each word ID in inputs\n",
        "    # the result is a sequence of word embeddings\n",
        "    embeds = self.embed(inputs)\n",
        "    \n",
        "    # the output is the sum across the time dimension (1)\n",
        "    # with the bias term added\n",
        "    logits = embeds.sum(1) + self.bias\n",
        "\n",
        "    return logits"
      ]
    },
    {
      "cell_type": "code",
      "execution_count": 25,
      "metadata": {
        "colab": {
          "base_uri": "https://localhost:8080/"
        },
        "id": "eKHvBnoBAr6z",
        "outputId": "a3627902-fa29-4994-bff6-6861da4e2ac2"
      },
      "outputs": [
        {
          "output_type": "stream",
          "name": "stdout",
          "text": [
            "BOW(\n",
            "  (embed): Embedding(18280, 5)\n",
            ")\n"
          ]
        }
      ],
      "source": [
        "# Let's create a model.\n",
        "vocab_size = len(v.w2i)\n",
        "n_classes = len(t2i)\n",
        "bow_model = BOW(vocab_size, n_classes, v)\n",
        "print(bow_model)"
      ]
    },
    {
      "cell_type": "markdown",
      "metadata": {
        "id": "vfCx-HvMH1qQ"
      },
      "source": [
        "> **Hey, wait, where is the bias vector?**\n",
        "> PyTorch does not print Parameters, only Modules!\n",
        "\n",
        "> We can print it ourselves though, to check that it is there."
      ]
    },
    {
      "cell_type": "code",
      "execution_count": 26,
      "metadata": {
        "colab": {
          "base_uri": "https://localhost:8080/"
        },
        "id": "Fhvk5HenAroT",
        "outputId": "7deae360-c0dd-487e-b5e3-6cf47c65440b"
      },
      "outputs": [
        {
          "output_type": "stream",
          "name": "stdout",
          "text": [
            "bias                     [5]          requires_grad=True\n",
            "embed.weight             [18280, 5]   requires_grad=True\n",
            "\n",
            "Total number of parameters: 91405\n",
            "\n"
          ]
        }
      ],
      "source": [
        "# Here we print each parameter name, shape, and if it is trainable.\n",
        "def print_parameters(model):\n",
        "  total = 0\n",
        "  for name, p in model.named_parameters():\n",
        "    total += np.prod(p.shape)\n",
        "    print(\"{:24s} {:12s} requires_grad={}\".format(name, str(list(p.shape)), p.requires_grad))\n",
        "  print(\"\\nTotal number of parameters: {}\\n\".format(total))\n",
        "    \n",
        "\n",
        "print_parameters(bow_model)"
      ]
    },
    {
      "cell_type": "markdown",
      "metadata": {
        "id": "WSAw292WxuP4"
      },
      "source": [
        "#### Preparing an example for input\n",
        "\n",
        "To feed sentences to our PyTorch model, we need to convert a sequence of tokens to a sequence of IDs. The `prepare_example` function below takes care of this for us. We then use these IDs as indices for the word embedding table. "
      ]
    },
    {
      "cell_type": "code",
      "execution_count": 27,
      "metadata": {
        "id": "YWeGTC_OGReV"
      },
      "outputs": [],
      "source": [
        "def prepare_example(example, vocab):\n",
        "  \"\"\"\n",
        "  Map tokens to their IDs for a single example\n",
        "  \"\"\"\n",
        "  \n",
        "  # vocab returns 0 if the word is not there (i2w[0] = <unk>)\n",
        "  x = [vocab.w2i.get(t, 0) for t in example.tokens]\n",
        "  \n",
        "  x = torch.LongTensor([x])\n",
        "  x = x.to(device)\n",
        "  \n",
        "  y = torch.LongTensor([example.label])\n",
        "  y = y.to(device)\n",
        "  \n",
        "  return x, y"
      ]
    },
    {
      "cell_type": "code",
      "execution_count": 28,
      "metadata": {
        "colab": {
          "base_uri": "https://localhost:8080/"
        },
        "id": "sfbdv9px3uFF",
        "outputId": "51dc1fd6-9d2f-460a-891d-4940ea61a62a"
      },
      "outputs": [
        {
          "output_type": "stream",
          "name": "stdout",
          "text": [
            "x: tensor([[  28,    9,    6,  998,   16,   18,  998,  135,   32, 7688,    5,    0,\n",
            "            2]], device='cuda:0')\n",
            "y: tensor([3], device='cuda:0')\n"
          ]
        }
      ],
      "source": [
        "x, y = prepare_example(dev_data[0], v)\n",
        "print('x:', x)\n",
        "print('y:', y)"
      ]
    },
    {
      "cell_type": "markdown",
      "metadata": {
        "id": "oKNQjEc0yXnJ"
      },
      "source": [
        "#### Evaluation\n",
        "We now need to define an evaluation metric.\n",
        "How many predictions do we get right? The accuracy will tell us.\n",
        "Make sure that you understand this code block.\n"
      ]
    },
    {
      "cell_type": "code",
      "execution_count": 29,
      "metadata": {
        "id": "yGmQLcVYKZsh"
      },
      "outputs": [],
      "source": [
        "def simple_evaluate(model, data, prep_fn=prepare_example, **kwargs):\n",
        "  \"\"\"Accuracy of a model on given data set.\"\"\"\n",
        "  correct = 0\n",
        "  total = 0\n",
        "  model.eval()  # disable dropout (explained later)\n",
        "\n",
        "  for example in data:\n",
        "    \n",
        "    # convert the example input and label to PyTorch tensors\n",
        "    x, target = prep_fn(example, model.vocab)\n",
        "\n",
        "    # forward pass without backpropagation (no_grad)\n",
        "    # get the output from the neural network for input x\n",
        "    with torch.no_grad():\n",
        "      logits = model(x)\n",
        "    \n",
        "    # get the prediction\n",
        "    prediction = logits.argmax(dim=-1)\n",
        "    \n",
        "    # add the number of correct predictions to the total correct\n",
        "    correct += (prediction == target).sum().item()\n",
        "    total += 1\n",
        "\n",
        "  return correct, total, correct / float(total)"
      ]
    },
    {
      "cell_type": "code",
      "execution_count": 30,
      "metadata": {
        "id": "E8j6KgyNGHPu"
      },
      "outputs": [],
      "source": [
        "def eval_sentence_length(model, data, prep_fn=prepare_example, **kwargs):\n",
        "    counts_correct = {}\n",
        "    counts_total = {}\n",
        "    model.eval() \n",
        "    for example in data:\n",
        "    \n",
        "        x, target = prep_fn(example, model.vocab)\n",
        "        with torch.no_grad():\n",
        "            logits = model(x)\n",
        "\n",
        "\n",
        "        pred = logits.argmax(dim=-1)\n",
        "        l = len(example.tokens)\n",
        "\n",
        "        if l in counts_correct.keys():\n",
        "            counts_correct[l] += (pred == target).int().item()\n",
        "            counts_total[l] += 1\n",
        "        else:\n",
        "            counts_correct[l] = (pred == target).int().item()\n",
        "            counts_total[l] = 1\n",
        "\n",
        "\n",
        "    # return dict with accuracies for each sentence length\n",
        "    accs = {l: counts_correct[l] / float(counts_total[l]) for l in counts_correct}\n",
        "    \n",
        "    accs = OrderedDict(sorted(accs.items()))\n",
        "\n",
        "    return counts_correct, counts_total, accs\n"
      ]
    },
    {
      "cell_type": "markdown",
      "metadata": {
        "id": "5KlIGFXllWWm"
      },
      "source": [
        "We are using accuracy as a handy evaluation metric. Please consider using [alternative metrics](https://scikit-learn.org/stable/modules/classes.html#classification-metrics) for your experiments if that makes more theoretical sense (see, e.g., Q3.3 in Practical 1). "
      ]
    },
    {
      "cell_type": "markdown",
      "metadata": {
        "id": "dIk6OtSdzGRP"
      },
      "source": [
        "#### Example feed\n",
        "For stochastic gradient descent (SGD) we will need a random training example for every update.\n",
        "We implement this by shuffling the training data and returning examples one by one using `yield`.\n",
        "\n",
        "Shuffling is optional so that we get to use this function to get validation and test examples, too."
      ]
    },
    {
      "cell_type": "code",
      "execution_count": 31,
      "metadata": {
        "id": "dxDFOZLfCXvJ"
      },
      "outputs": [],
      "source": [
        "def get_examples(data, shuffle=True, **kwargs):\n",
        "  \"\"\"Shuffle data set and return 1 example at a time (until nothing left)\"\"\"\n",
        "  if shuffle:\n",
        "    print(\"Shuffling training data\")\n",
        "    random.shuffle(data)  # shuffle training data each epoch\n",
        "  for example in data:\n",
        "    yield example"
      ]
    },
    {
      "cell_type": "markdown",
      "metadata": {
        "id": "g09SM8yb2cjx"
      },
      "source": [
        "#### Exercise: Training function\n",
        "\n",
        "Your task is now to complete the training loop below.\n",
        "Before you do so, please read the section about optimisation."
      ]
    },
    {
      "cell_type": "markdown",
      "metadata": {
        "id": "TVfUukVdM_1c"
      },
      "source": [
        "**Optimisation**\n",
        "\n",
        "As mentioned in the \"Intro to PyTorch\" notebook, one of the perks of using PyTorch is automatic differentiation. We will use it to train our BOW model. \n",
        "\n",
        "We train our model by feeding it an input, performing a **forward** pass, obtaining an output prediction, and calculating a **loss** with our loss function.\n",
        "After the gradients are computed in the **backward** pass, we can take a step on the surface of the loss function towards more optimal parameter settings (gradient descent). \n",
        "\n",
        "The package we will use to do this optimisation is [torch.optim](https://pytorch.org/docs/stable/optim.html). "
      ]
    },
    {
      "cell_type": "code",
      "execution_count": 32,
      "metadata": {
        "id": "KhQigDrQ--YU"
      },
      "outputs": [],
      "source": [
        "from torch import optim"
      ]
    },
    {
      "cell_type": "markdown",
      "metadata": {
        "id": "wGIvcTZU_Cez"
      },
      "source": [
        "Besides implementations of stochastic gradient descent (SGD), this package also implements the optimisation algorithm Adam, which we'll be using in this practical. \n",
        "For the purposes of this assignment you do not need to know what Adam does besides that it uses gradient information to update our model parameters by calling: \n",
        "\n",
        "```\n",
        "optimizer.step()\n",
        "```\n",
        "Remember when we updated our parameters in the PyTorch tutorial in a loop?\n",
        "\n",
        "\n",
        "```python\n",
        "# update weights\n",
        "learning_rate = 0.5\n",
        "for f in net.parameters():\n",
        "    # for each parameter, take a small step in the opposite dir of the gradient\n",
        "    p.data = p.data - p.grad.data * learning_rate\n",
        "\n",
        "```\n",
        "The function call optimizer.step() does effectively the same thing.\n",
        "\n",
        "*(If you want to know more about optimisation algorithms using gradient information, [this blog](http://ruder.io/optimizing-gradient-descent/.) gives a nice intuitive overview.)*"
      ]
    },
    {
      "cell_type": "code",
      "execution_count": 33,
      "metadata": {
        "id": "XgAq918OSd1-"
      },
      "outputs": [],
      "source": [
        "## In this dict all the results will be stored\n",
        "results_dict = {}"
      ]
    },
    {
      "cell_type": "code",
      "execution_count": 34,
      "metadata": {
        "id": "ktFnKBux25lD"
      },
      "outputs": [],
      "source": [
        "def train_model(model, optimizer, num_iterations=10000, \n",
        "                print_every=1000, eval_every=1000,\n",
        "                batch_fn=get_examples, \n",
        "                prep_fn=prepare_example,\n",
        "                eval_fn=simple_evaluate,\n",
        "                batch_size=1, eval_batch_size=None, model_name=None):\n",
        "  \"\"\"Train a model.\"\"\"  \n",
        "  iter_i = 0\n",
        "  train_loss = 0.\n",
        "  print_num = 0\n",
        "  start = time.time()\n",
        "  criterion = nn.CrossEntropyLoss() # loss function\n",
        "  best_eval = 0.\n",
        "  best_iter = 0\n",
        "  \n",
        "  # store train loss and validation accuracy during training\n",
        "  # so we can plot them afterwards\n",
        "  losses = []\n",
        "  accuracies = []  \n",
        "  \n",
        "  if eval_batch_size is None:\n",
        "    eval_batch_size = batch_size\n",
        "\n",
        "  no_new_best_acc_count = 0\n",
        "  while True:  # when we run out of examples, shuffle and continue\n",
        "    for batch in batch_fn(train_data, batch_size=batch_size):\n",
        "\n",
        "      # forward pass\n",
        "      model.train()\n",
        "      x, targets = prep_fn(batch, model.vocab)\n",
        "      logits = model(x)\n",
        "\n",
        "      B = targets.size(0)  # later we will use B examples per update\n",
        "      \n",
        "      # compute cross-entropy loss (our criterion)\n",
        "      # note that the cross entropy loss function computes the softmax for us\n",
        "      loss = criterion(logits.view([B, -1]), targets.view(-1))\n",
        "      train_loss += loss.item()\n",
        "\n",
        "      # backward pass (tip: check the Introduction to PyTorch notebook)\n",
        "\n",
        "      # erase previous gradients\n",
        "      # YOUR CODE HERE\n",
        "      optimizer.zero_grad()\n",
        "\n",
        "      \n",
        "      # compute gradients\n",
        "      # YOUR CODE HERE\n",
        "      loss.backward()\n",
        "\n",
        "      # update weights - take a small step in the opposite dir of the gradient\n",
        "      # YOUR CODE HERE\n",
        "      optimizer.step()\n",
        "\n",
        "      print_num += 1\n",
        "      iter_i += 1\n",
        "\n",
        "      # print info\n",
        "      if iter_i % print_every == 0:\n",
        "        print(\"Iter %r: loss=%.4f, time=%.2fs\" % \n",
        "              (iter_i, train_loss, time.time()-start))\n",
        "        losses.append(train_loss)\n",
        "        print_num = 0        \n",
        "        train_loss = 0.\n",
        "\n",
        "      \n",
        "      # evaluate\n",
        "      if iter_i % eval_every == 0:\n",
        "        _, _, accuracy = eval_fn(model, dev_data, batch_size=eval_batch_size,\n",
        "                                 batch_fn=batch_fn, prep_fn=prep_fn)\n",
        "        accuracies.append(accuracy)\n",
        "        print(\"iter %r: dev acc=%.4f\" % (iter_i, accuracy))     \n",
        "        # save best model parameters\n",
        "        if accuracy > best_eval:\n",
        "          print(\"new highscore\")\n",
        "          no_new_best_acc_count = 0\n",
        "          \n",
        "          best_eval = accuracy\n",
        "          best_iter = iter_i\n",
        "\n",
        "          if model_name != None:\n",
        "              path = \"{}.pt\".format(model_name)\n",
        "          else:\n",
        "              path = \"{}.pt\".format(model.__class__.__name__)\n",
        "\n",
        "          ckpt = {\n",
        "              \"state_dict\": model.state_dict(),\n",
        "              \"optimizer_state_dict\": optimizer.state_dict(),\n",
        "              \"best_eval\": best_eval,\n",
        "              \"best_iter\": best_iter\n",
        "          }\n",
        "          torch.save(ckpt, path)\n",
        "        else:\n",
        "            no_new_best_acc_count += 1\n",
        "\n",
        "      # done training when accuracy is the same\n",
        "      if no_new_best_acc_count == 10:\n",
        "        print(\"Done training, model converged\")\n",
        "        \n",
        "        # evaluate on train, dev, and test with best model\n",
        "        print(\"Loading best model\")\n",
        "\n",
        "    \n",
        "        if model_name != None:\n",
        "            path = \"{}.pt\".format(model_name)\n",
        "        else:\n",
        "            path = \"{}.pt\".format(model.__class__.__name__)        \n",
        "        ckpt = torch.load(path)\n",
        "        model.load_state_dict(ckpt[\"state_dict\"])\n",
        "        \n",
        "        _, _, train_acc = eval_fn(\n",
        "            model, train_data, batch_size=eval_batch_size, \n",
        "            batch_fn=batch_fn, prep_fn=prep_fn)\n",
        "        _, _, dev_acc = eval_fn(\n",
        "            model, dev_data, batch_size=eval_batch_size,\n",
        "            batch_fn=batch_fn, prep_fn=prep_fn)\n",
        "        _, _, test_acc = eval_fn(\n",
        "            model, test_data, batch_size=eval_batch_size, \n",
        "            batch_fn=batch_fn, prep_fn=prep_fn)\n",
        "        \n",
        "        print(\"best model iter {:d}: \"\n",
        "              \"train acc={:.4f}, dev acc={:.4f}, test acc={:.4f}\".format(\n",
        "                  best_iter, train_acc, dev_acc, test_acc))\n",
        "        \n",
        "        return losses, accuracies"
      ]
    },
    {
      "cell_type": "markdown",
      "metadata": {
        "id": "XEPsLvI-3D5b"
      },
      "source": [
        "### Training the BOW model"
      ]
    },
    {
      "cell_type": "code",
      "execution_count": 35,
      "metadata": {
        "colab": {
          "base_uri": "https://localhost:8080/"
        },
        "id": "9luJnNuN_d3q",
        "outputId": "8eb630d7-319c-4aaf-debe-5305eaeefede"
      },
      "outputs": [
        {
          "output_type": "stream",
          "name": "stdout",
          "text": [
            "BOW(\n",
            "  (embed): Embedding(18280, 5)\n",
            ")\n",
            "Shuffling training data\n",
            "Iter 1000: loss=5072.3737, time=0.93s\n",
            "iter 1000: dev acc=0.2171\n",
            "new highscore\n",
            "Iter 2000: loss=4852.7573, time=1.94s\n",
            "iter 2000: dev acc=0.2180\n",
            "new highscore\n",
            "Iter 3000: loss=4384.7376, time=2.94s\n",
            "iter 3000: dev acc=0.2307\n",
            "new highscore\n",
            "Iter 4000: loss=4903.0285, time=4.07s\n",
            "iter 4000: dev acc=0.2361\n",
            "new highscore\n",
            "Iter 5000: loss=4536.2918, time=5.10s\n",
            "iter 5000: dev acc=0.2380\n",
            "new highscore\n",
            "Iter 6000: loss=4296.9362, time=6.17s\n",
            "iter 6000: dev acc=0.2452\n",
            "new highscore\n",
            "Iter 7000: loss=4435.3216, time=7.21s\n",
            "iter 7000: dev acc=0.2470\n",
            "new highscore\n",
            "Iter 8000: loss=4124.3011, time=8.24s\n",
            "iter 8000: dev acc=0.2480\n",
            "new highscore\n",
            "Shuffling training data\n",
            "Iter 9000: loss=4092.2254, time=9.33s\n",
            "iter 9000: dev acc=0.2507\n",
            "new highscore\n",
            "Iter 10000: loss=4102.3651, time=10.38s\n",
            "iter 10000: dev acc=0.2507\n",
            "Iter 11000: loss=3885.0164, time=11.43s\n",
            "iter 11000: dev acc=0.2534\n",
            "new highscore\n",
            "Iter 12000: loss=4091.6491, time=12.47s\n",
            "iter 12000: dev acc=0.2561\n",
            "new highscore\n",
            "Iter 13000: loss=3752.1269, time=13.48s\n",
            "iter 13000: dev acc=0.2598\n",
            "new highscore\n",
            "Iter 14000: loss=3871.9184, time=14.55s\n",
            "iter 14000: dev acc=0.2661\n",
            "new highscore\n",
            "Iter 15000: loss=3748.8768, time=15.60s\n",
            "iter 15000: dev acc=0.2652\n",
            "Iter 16000: loss=3895.1122, time=16.64s\n",
            "iter 16000: dev acc=0.2661\n",
            "Iter 17000: loss=3563.9986, time=17.62s\n",
            "iter 17000: dev acc=0.2670\n",
            "new highscore\n",
            "Shuffling training data\n",
            "Iter 18000: loss=3603.0711, time=18.69s\n",
            "iter 18000: dev acc=0.2625\n",
            "Iter 19000: loss=3325.4459, time=19.71s\n",
            "iter 19000: dev acc=0.2661\n",
            "Iter 20000: loss=3542.8724, time=20.77s\n",
            "iter 20000: dev acc=0.2679\n",
            "new highscore\n",
            "Iter 21000: loss=3346.6989, time=21.77s\n",
            "iter 21000: dev acc=0.2688\n",
            "new highscore\n",
            "Iter 22000: loss=3319.3717, time=22.81s\n",
            "iter 22000: dev acc=0.2752\n",
            "new highscore\n",
            "Iter 23000: loss=3274.2450, time=23.86s\n",
            "iter 23000: dev acc=0.2734\n",
            "Iter 24000: loss=3518.2007, time=24.88s\n",
            "iter 24000: dev acc=0.2725\n",
            "Iter 25000: loss=3336.2767, time=25.97s\n",
            "iter 25000: dev acc=0.2797\n",
            "new highscore\n",
            "Shuffling training data\n",
            "Iter 26000: loss=3202.7904, time=27.04s\n",
            "iter 26000: dev acc=0.2770\n",
            "Iter 27000: loss=3140.5011, time=28.04s\n",
            "iter 27000: dev acc=0.2770\n",
            "Iter 28000: loss=3068.3102, time=29.04s\n",
            "iter 28000: dev acc=0.2825\n",
            "new highscore\n",
            "Iter 29000: loss=3056.3391, time=30.09s\n",
            "iter 29000: dev acc=0.2861\n",
            "new highscore\n",
            "Iter 30000: loss=3092.4154, time=31.11s\n",
            "iter 30000: dev acc=0.2843\n",
            "Iter 31000: loss=2911.8542, time=32.11s\n",
            "iter 31000: dev acc=0.2925\n",
            "new highscore\n",
            "Iter 32000: loss=3010.0163, time=33.14s\n",
            "iter 32000: dev acc=0.2943\n",
            "new highscore\n",
            "Iter 33000: loss=3103.2688, time=34.16s\n",
            "iter 33000: dev acc=0.2943\n",
            "Iter 34000: loss=2932.5182, time=35.18s\n",
            "iter 34000: dev acc=0.2879\n",
            "Shuffling training data\n",
            "Iter 35000: loss=2784.2502, time=36.25s\n",
            "iter 35000: dev acc=0.2897\n",
            "Iter 36000: loss=2838.7938, time=37.31s\n",
            "iter 36000: dev acc=0.2916\n",
            "Iter 37000: loss=2755.7643, time=38.37s\n",
            "iter 37000: dev acc=0.2934\n",
            "Iter 38000: loss=2754.9133, time=39.41s\n",
            "iter 38000: dev acc=0.2979\n",
            "new highscore\n",
            "Iter 39000: loss=2704.3856, time=40.45s\n",
            "iter 39000: dev acc=0.2952\n",
            "Iter 40000: loss=2770.2083, time=41.46s\n",
            "iter 40000: dev acc=0.2961\n",
            "Iter 41000: loss=2610.4512, time=42.47s\n",
            "iter 41000: dev acc=0.2961\n",
            "Iter 42000: loss=2741.0769, time=43.54s\n",
            "iter 42000: dev acc=0.2988\n",
            "new highscore\n",
            "Shuffling training data\n",
            "Iter 43000: loss=2596.7631, time=44.60s\n",
            "iter 43000: dev acc=0.2952\n",
            "Iter 44000: loss=2492.6658, time=45.61s\n",
            "iter 44000: dev acc=0.2997\n",
            "new highscore\n",
            "Iter 45000: loss=2476.1865, time=46.65s\n",
            "iter 45000: dev acc=0.3015\n",
            "new highscore\n",
            "Iter 46000: loss=2515.7912, time=47.70s\n",
            "iter 46000: dev acc=0.3006\n",
            "Iter 47000: loss=2584.8331, time=48.69s\n",
            "iter 47000: dev acc=0.3015\n",
            "Iter 48000: loss=2431.7396, time=49.67s\n",
            "iter 48000: dev acc=0.2961\n",
            "Iter 49000: loss=2473.7167, time=50.74s\n",
            "iter 49000: dev acc=0.2979\n",
            "Iter 50000: loss=2460.2553, time=51.79s\n",
            "iter 50000: dev acc=0.2970\n",
            "Iter 51000: loss=2300.7915, time=52.78s\n",
            "iter 51000: dev acc=0.2997\n",
            "Shuffling training data\n",
            "Iter 52000: loss=2348.0979, time=53.85s\n",
            "iter 52000: dev acc=0.3006\n",
            "Iter 53000: loss=2279.4271, time=54.87s\n",
            "iter 53000: dev acc=0.3043\n",
            "new highscore\n",
            "Iter 54000: loss=2323.3543, time=55.89s\n",
            "iter 54000: dev acc=0.2988\n",
            "Iter 55000: loss=2287.0818, time=56.91s\n",
            "iter 55000: dev acc=0.3061\n",
            "new highscore\n",
            "Iter 56000: loss=2315.7033, time=57.96s\n",
            "iter 56000: dev acc=0.3079\n",
            "new highscore\n",
            "Iter 57000: loss=2191.4833, time=59.05s\n",
            "iter 57000: dev acc=0.3070\n",
            "Iter 58000: loss=2162.7966, time=60.06s\n",
            "iter 58000: dev acc=0.3088\n",
            "new highscore\n",
            "Iter 59000: loss=2099.8571, time=61.07s\n",
            "iter 59000: dev acc=0.3097\n",
            "new highscore\n",
            "Shuffling training data\n",
            "Iter 60000: loss=2130.9042, time=62.14s\n",
            "iter 60000: dev acc=0.3115\n",
            "new highscore\n",
            "Iter 61000: loss=2071.6115, time=63.33s\n",
            "iter 61000: dev acc=0.3106\n",
            "Iter 62000: loss=2116.1098, time=64.45s\n",
            "iter 62000: dev acc=0.3134\n",
            "new highscore\n",
            "Iter 63000: loss=2088.4673, time=65.48s\n",
            "iter 63000: dev acc=0.3170\n",
            "new highscore\n",
            "Iter 64000: loss=1954.3281, time=66.47s\n",
            "iter 64000: dev acc=0.3170\n",
            "Iter 65000: loss=2029.4279, time=67.48s\n",
            "iter 65000: dev acc=0.3170\n",
            "Iter 66000: loss=2090.7565, time=68.53s\n",
            "iter 66000: dev acc=0.3188\n",
            "new highscore\n",
            "Iter 67000: loss=2090.6642, time=69.57s\n",
            "iter 67000: dev acc=0.3179\n",
            "Iter 68000: loss=1951.4346, time=70.54s\n",
            "iter 68000: dev acc=0.3197\n",
            "new highscore\n",
            "Shuffling training data\n",
            "Iter 69000: loss=2034.6050, time=71.56s\n",
            "iter 69000: dev acc=0.3206\n",
            "new highscore\n",
            "Iter 70000: loss=1886.0870, time=72.61s\n",
            "iter 70000: dev acc=0.3261\n",
            "new highscore\n",
            "Iter 71000: loss=1998.4133, time=73.56s\n",
            "iter 71000: dev acc=0.3206\n",
            "Iter 72000: loss=1777.8540, time=74.60s\n",
            "iter 72000: dev acc=0.3243\n",
            "Iter 73000: loss=1808.7048, time=75.66s\n",
            "iter 73000: dev acc=0.3233\n",
            "Iter 74000: loss=1918.4533, time=76.71s\n",
            "iter 74000: dev acc=0.3243\n",
            "Iter 75000: loss=1892.8150, time=77.75s\n",
            "iter 75000: dev acc=0.3206\n",
            "Iter 76000: loss=1933.2201, time=78.80s\n",
            "iter 76000: dev acc=0.3224\n",
            "Shuffling training data\n",
            "Iter 77000: loss=1765.1349, time=79.80s\n",
            "iter 77000: dev acc=0.3233\n",
            "Iter 78000: loss=1694.3876, time=80.79s\n",
            "iter 78000: dev acc=0.3270\n",
            "new highscore\n",
            "Iter 79000: loss=1768.3432, time=81.78s\n",
            "iter 79000: dev acc=0.3252\n",
            "Iter 80000: loss=1761.8785, time=82.79s\n",
            "iter 80000: dev acc=0.3306\n",
            "new highscore\n",
            "Iter 81000: loss=1716.8436, time=83.87s\n",
            "iter 81000: dev acc=0.3270\n",
            "Iter 82000: loss=1650.1118, time=84.92s\n",
            "iter 82000: dev acc=0.3233\n",
            "Iter 83000: loss=1816.4423, time=85.95s\n",
            "iter 83000: dev acc=0.3252\n",
            "Iter 84000: loss=1732.7996, time=86.97s\n",
            "iter 84000: dev acc=0.3233\n",
            "Iter 85000: loss=1720.0464, time=87.95s\n",
            "iter 85000: dev acc=0.3224\n",
            "Shuffling training data\n",
            "Iter 86000: loss=1596.1724, time=89.00s\n",
            "iter 86000: dev acc=0.3243\n",
            "Iter 87000: loss=1661.1005, time=90.04s\n",
            "iter 87000: dev acc=0.3243\n",
            "Iter 88000: loss=1469.0241, time=91.10s\n",
            "iter 88000: dev acc=0.3270\n",
            "Iter 89000: loss=1607.8064, time=92.10s\n",
            "iter 89000: dev acc=0.3224\n",
            "Iter 90000: loss=1676.1344, time=93.08s\n",
            "iter 90000: dev acc=0.3224\n",
            "Done training, model converged\n",
            "Loading best model\n",
            "best model iter 80000: train acc=0.4926, dev acc=0.3306, test acc=0.3267\n"
          ]
        }
      ],
      "source": [
        "# If everything is in place we can now train our first model!\n",
        "bow_model = BOW(len(v.w2i), len(t2i), vocab=v)\n",
        "print(bow_model)\n",
        "import os\n",
        "bow_model = bow_model.to(device)\n",
        "model_name = bow_model.__class__.__name__\n",
        "\n",
        "optimizer = optim.Adam(bow_model.parameters(), lr=0.0005)\n",
        "\n",
        "if not os.path.exists(\"{}.pt\".format(model_name)):\n",
        "    bow_losses, bow_accuracies = train_model(bow_model, optimizer, num_iterations=30000, print_every=1000, eval_every=1000)\n",
        "else:\n",
        "    print('Model already trained')\n",
        "    bow_losses, bow_accuracies = 'No training done', 'No training done'\n",
        "\n",
        "# get accuracies for each sentence length and store all results\n",
        "path = \"{}.pt\".format(model_name)        \n",
        "ckpt = torch.load(path)\n",
        "bow_model.load_state_dict(ckpt[\"state_dict\"])\n",
        "\n",
        "_, _, bow_test_acc = simple_evaluate(bow_model, test_data, prep_fn=prepare_example)\n",
        "_, _, bow_sentence_length_accs = eval_sentence_length(bow_model, test_data, prep_fn=prepare_example)\n",
        "\n",
        "# save results in results dict\n",
        "results_dict[model_name] = {}\n",
        "results_dict[model_name]['train_losses'] = bow_losses\n",
        "results_dict[model_name]['train_accuracies'] = bow_accuracies\n",
        "results_dict[model_name]['test_accuracy'] = bow_test_acc\n",
        "results_dict[model_name]['sentence_length_results'] = bow_sentence_length_accs"
      ]
    },
    {
      "cell_type": "code",
      "execution_count": 36,
      "metadata": {
        "colab": {
          "base_uri": "https://localhost:8080/",
          "height": 282
        },
        "id": "dvYLj8LIAzfS",
        "outputId": "e754f278-00bb-4fba-d60b-f37b897d7233"
      },
      "outputs": [
        {
          "output_type": "execute_result",
          "data": {
            "text/plain": [
              "[<matplotlib.lines.Line2D at 0x7f1a15711850>]"
            ]
          },
          "metadata": {},
          "execution_count": 36
        },
        {
          "output_type": "display_data",
          "data": {
            "image/png": "[encoded data removed]",
            "text/plain": [
              "<Figure size 432x288 with 1 Axes>"
            ]
          },
          "metadata": {
            "needs_background": "light"
          }
        }
      ],
      "source": [
        "# This will plot the validation accuracies across time.\n",
        "plt.plot(bow_accuracies)"
      ]
    },
    {
      "cell_type": "code",
      "execution_count": 37,
      "metadata": {
        "colab": {
          "base_uri": "https://localhost:8080/",
          "height": 282
        },
        "id": "vUHm9JfSI4po",
        "outputId": "4ffed516-b654-49d9-b484-53998aa1f18c"
      },
      "outputs": [
        {
          "output_type": "execute_result",
          "data": {
            "text/plain": [
              "[<matplotlib.lines.Line2D at 0x7f1a1527ba50>]"
            ]
          },
          "metadata": {},
          "execution_count": 37
        },
        {
          "output_type": "display_data",
          "data": {
            "image/png": "[encoded data removed]",
            "text/plain": [
              "<Figure size 432x288 with 1 Axes>"
            ]
          },
          "metadata": {
            "needs_background": "light"
          }
        }
      ],
      "source": [
        "# This will plot the training loss over time.\n",
        "plt.plot(bow_losses)"
      ]
    },
    {
      "cell_type": "markdown",
      "metadata": {
        "id": "Psxh-Le1BMDQ"
      },
      "source": [
        "Please note that we set the number of iterations to 30K as an indicative value, after which we simply stop training without checking for convergence. You should choose an appropriate number of iterations and motivate your decision. **This holds for all pre-set numbers of iteration in the following code blocks.**"
      ]
    },
    {
      "cell_type": "markdown",
      "metadata": {
        "id": "E9mB1_XhMPNN"
      },
      "source": [
        "# CBOW"
      ]
    },
    {
      "cell_type": "markdown",
      "metadata": {
        "id": "pWk78FvNMw4o"
      },
      "source": [
        "We now continue with a **continuous bag-of-words (CBOW)** model. (*This is not the same as the word2vec CBOW model!*)\n",
        "\n",
        "It is similar to the BOW model above, but now embeddings can have a dimension of *arbitrary size*. \n",
        "This means that we can choose a higher dimensionality and learn more aspects of each word. We will still sum word vectors to get a sentence representation, but now the size of the resulting vector will no longer correspond to the number of sentiment classes. \n",
        "\n",
        "So to turn the size of our summed vector into the number of output classes, we can *learn* a parameter matrix $W$ and multiply it by the sum vector $x$: $$Wx$$\n",
        "If the size of $x$ is `d x 1`, we can set $W$ to be `5 x d`, so that the output of the matrix multiplication will be the of the desired size, `5 x 1`. Then, just like for the BOW model, we can obtain a prediction using the argmax function."
      ]
    },
    {
      "cell_type": "markdown",
      "metadata": {
        "id": "gIjrCPfCwsXI"
      },
      "source": [
        "## Exercise: implement and train the CBOW model\n",
        "\n",
        "Write a class `CBOW` that:\n",
        "\n",
        "- has word embeddings with size 300\n",
        "- sums the word vectors for the input words (just like in `BOW`)\n",
        "- projects the resulting vector down to 5 units using a linear layer and a bias term (check out `nn.Linear`)\n",
        "\n",
        "Train your CBOW model and plot the validation accuracy and training loss over time."
      ]
    },
    {
      "cell_type": "code",
      "execution_count": 38,
      "metadata": {
        "id": "PEV22aR2MP0Q"
      },
      "outputs": [],
      "source": [
        "# YOUR CODE HERE\n",
        "class CBOW(nn.Module):\n",
        "  \"\"\"A simple bag-of-words model\"\"\"\n",
        "\n",
        "  def __init__(self, vocab_size, embedding_dim, vocab, num_classes):\n",
        "    super(CBOW, self).__init__()\n",
        "    self.vocab = vocab\n",
        "    \n",
        "    # this is a trainable look-up table with word embeddings\n",
        "    self.embed = nn.Embedding(vocab_size, embedding_dim)\n",
        "    \n",
        "    #Output projection layer\n",
        "    self.linear = nn.Linear(embedding_dim, num_classes)        \n",
        "\n",
        "  def forward(self, inputs):\n",
        "    # this is the forward pass of the neural network\n",
        "    # it applies a function to the input and returns the output\n",
        "\n",
        "    # this looks up the embeddings for each word ID in inputs\n",
        "    # the result is a sequence of word embeddings\n",
        "    embeds = self.embed(inputs)\n",
        "\n",
        "    # Projection from embeddings to the num of classes\n",
        "    output = self.linear(embeds)\n",
        "    \n",
        "    # the output is the sum across the time dimension (1)\n",
        "    # with the bias term added\n",
        "    logits = output.sum(1)\n",
        "\n",
        "    return logits"
      ]
    },
    {
      "cell_type": "code",
      "execution_count": 39,
      "metadata": {
        "colab": {
          "base_uri": "https://localhost:8080/"
        },
        "id": "T_kN9qLQTRpi",
        "outputId": "579fa34b-6b75-4e6a-deab-a4fcb2611632"
      },
      "outputs": [
        {
          "output_type": "stream",
          "name": "stdout",
          "text": [
            "CBOW(\n",
            "  (embed): Embedding(18280, 300)\n",
            "  (linear): Linear(in_features=300, out_features=5, bias=True)\n",
            ")\n",
            "embed.weight             [18280, 300] requires_grad=True\n",
            "linear.weight            [5, 300]     requires_grad=True\n",
            "linear.bias              [5]          requires_grad=True\n",
            "\n",
            "Total number of parameters: 5485505\n",
            "\n"
          ]
        }
      ],
      "source": [
        "# Let's create a model.\n",
        "vocab_size = len(v.w2i)\n",
        "num_classes = len(t2i)\n",
        "num_embed = 300\n",
        "cbow_model = CBOW(vocab_size, num_embed, v, num_classes)\n",
        "print(cbow_model)\n",
        "\n",
        "# Here we print each parameter name, shape, and if it is trainable.\n",
        "def print_parameters(model):\n",
        "  total = 0\n",
        "  for name, p in model.named_parameters():\n",
        "    total += np.prod(p.shape)\n",
        "    print(\"{:24s} {:12s} requires_grad={}\".format(name, str(list(p.shape)), p.requires_grad))\n",
        "  print(\"\\nTotal number of parameters: {}\\n\".format(total))\n",
        "    \n",
        "\n",
        "print_parameters(cbow_model)"
      ]
    },
    {
      "cell_type": "code",
      "execution_count": 40,
      "metadata": {
        "colab": {
          "base_uri": "https://localhost:8080/"
        },
        "id": "2w4kuI1pTRpi",
        "outputId": "21583523-e670-49c9-de3e-2af8ebdc33e7"
      },
      "outputs": [
        {
          "output_type": "stream",
          "name": "stdout",
          "text": [
            "CBOW(\n",
            "  (embed): Embedding(18280, 300)\n",
            "  (linear): Linear(in_features=300, out_features=5, bias=True)\n",
            ")\n",
            "Shuffling training data\n",
            "Iter 1000: loss=2772.9620, time=1.71s\n",
            "iter 1000: dev acc=0.2271\n",
            "new highscore\n",
            "Iter 2000: loss=2259.4555, time=3.71s\n",
            "iter 2000: dev acc=0.2380\n",
            "new highscore\n",
            "Iter 3000: loss=2073.7841, time=5.76s\n",
            "iter 3000: dev acc=0.2552\n",
            "new highscore\n",
            "Iter 4000: loss=1941.2226, time=7.80s\n",
            "iter 4000: dev acc=0.2534\n",
            "Iter 5000: loss=1943.7449, time=9.69s\n",
            "iter 5000: dev acc=0.2743\n",
            "new highscore\n",
            "Iter 6000: loss=1910.3584, time=11.74s\n",
            "iter 6000: dev acc=0.2743\n",
            "Iter 7000: loss=1913.2514, time=13.67s\n",
            "iter 7000: dev acc=0.2843\n",
            "new highscore\n",
            "Iter 8000: loss=1850.0398, time=15.71s\n",
            "iter 8000: dev acc=0.2925\n",
            "new highscore\n",
            "Shuffling training data\n",
            "Iter 9000: loss=1736.8717, time=17.74s\n",
            "iter 9000: dev acc=0.2943\n",
            "new highscore\n",
            "Iter 10000: loss=1534.7445, time=19.78s\n",
            "iter 10000: dev acc=0.3170\n",
            "new highscore\n",
            "Iter 11000: loss=1571.4554, time=21.84s\n",
            "iter 11000: dev acc=0.2861\n",
            "Iter 12000: loss=1604.3465, time=23.73s\n",
            "iter 12000: dev acc=0.2925\n",
            "Iter 13000: loss=1659.5048, time=25.60s\n",
            "iter 13000: dev acc=0.2834\n",
            "Iter 14000: loss=1592.3284, time=27.45s\n",
            "iter 14000: dev acc=0.2988\n",
            "Iter 15000: loss=1614.8471, time=29.30s\n",
            "iter 15000: dev acc=0.2997\n",
            "Iter 16000: loss=1648.3935, time=31.14s\n",
            "iter 16000: dev acc=0.2952\n",
            "Iter 17000: loss=1578.8005, time=32.98s\n",
            "iter 17000: dev acc=0.3270\n",
            "new highscore\n",
            "Shuffling training data\n",
            "Iter 18000: loss=1264.6105, time=34.99s\n",
            "iter 18000: dev acc=0.3233\n",
            "Iter 19000: loss=1271.7998, time=36.86s\n",
            "iter 19000: dev acc=0.3315\n",
            "new highscore\n",
            "Iter 20000: loss=1356.9323, time=38.90s\n",
            "iter 20000: dev acc=0.2961\n",
            "Iter 21000: loss=1286.3029, time=40.79s\n",
            "iter 21000: dev acc=0.3361\n",
            "new highscore\n",
            "Iter 22000: loss=1334.4180, time=42.81s\n",
            "iter 22000: dev acc=0.3361\n",
            "Iter 23000: loss=1374.6071, time=44.71s\n",
            "iter 23000: dev acc=0.3243\n",
            "Iter 24000: loss=1386.7877, time=46.57s\n",
            "iter 24000: dev acc=0.3288\n",
            "Iter 25000: loss=1325.5893, time=48.46s\n",
            "iter 25000: dev acc=0.3379\n",
            "new highscore\n",
            "Shuffling training data\n",
            "Iter 26000: loss=1217.9834, time=50.47s\n",
            "iter 26000: dev acc=0.3224\n",
            "Iter 27000: loss=926.9364, time=52.33s\n",
            "iter 27000: dev acc=0.3224\n",
            "Iter 28000: loss=1020.8571, time=54.17s\n",
            "iter 28000: dev acc=0.3315\n",
            "Iter 29000: loss=1023.1996, time=56.08s\n",
            "iter 29000: dev acc=0.3261\n",
            "Iter 30000: loss=1138.1434, time=57.95s\n",
            "iter 30000: dev acc=0.3333\n",
            "Iter 31000: loss=987.6484, time=59.82s\n",
            "iter 31000: dev acc=0.3324\n",
            "Iter 32000: loss=1087.8942, time=61.67s\n",
            "iter 32000: dev acc=0.3342\n",
            "Iter 33000: loss=1088.9550, time=63.53s\n",
            "iter 33000: dev acc=0.3488\n",
            "new highscore\n",
            "Iter 34000: loss=1156.2544, time=65.51s\n",
            "iter 34000: dev acc=0.3333\n",
            "Shuffling training data\n",
            "Iter 35000: loss=737.6214, time=67.37s\n",
            "iter 35000: dev acc=0.3361\n",
            "Iter 36000: loss=712.4772, time=69.22s\n",
            "iter 36000: dev acc=0.3143\n",
            "Iter 37000: loss=757.5275, time=71.11s\n",
            "iter 37000: dev acc=0.3370\n",
            "Iter 38000: loss=824.4823, time=72.97s\n",
            "iter 38000: dev acc=0.2897\n",
            "Iter 39000: loss=859.4270, time=74.86s\n",
            "iter 39000: dev acc=0.3224\n",
            "Iter 40000: loss=847.5131, time=76.72s\n",
            "iter 40000: dev acc=0.3124\n",
            "Iter 41000: loss=805.0968, time=78.64s\n",
            "iter 41000: dev acc=0.3388\n",
            "Iter 42000: loss=882.8648, time=80.49s\n",
            "iter 42000: dev acc=0.3333\n",
            "Shuffling training data\n",
            "Iter 43000: loss=738.8634, time=82.37s\n",
            "iter 43000: dev acc=0.3297\n",
            "Done training, model converged\n",
            "Loading best model\n",
            "best model iter 33000: train acc=0.7320, dev acc=0.3488, test acc=0.3430\n"
          ]
        }
      ],
      "source": [
        "cbow_model = CBOW(len(v.w2i), embedding_dim=num_embed, vocab=v, num_classes=n_classes)\n",
        "print(cbow_model)\n",
        "cbow_model = cbow_model.to(device)\n",
        "model_name = cbow_model.__class__.__name__\n",
        "\n",
        "optimizer = optim.Adam(cbow_model.parameters(), lr=0.0005)\n",
        "\n",
        "if not os.path.exists(\"{}.pt\".format(model_name)):\n",
        "    cbow_losses, cbow_accuracies = train_model(cbow_model, optimizer, num_iterations=30000, print_every=1000, eval_every=1000)\n",
        "else:\n",
        "    print('Model already trained')\n",
        "    cbow_losses, cbow_accuracies = 'No training done', 'No training done'\n",
        "\n",
        "# get accuracies for each sentence length and store all results\n",
        "path = \"{}.pt\".format(model_name)       \n",
        "ckpt = torch.load(path)\n",
        "cbow_model.load_state_dict(ckpt[\"state_dict\"])\n",
        "\n",
        "_, _, cbow_test_acc = simple_evaluate(cbow_model, test_data, prep_fn=prepare_example)\n",
        "_, _, cbow_sentence_length_accs = eval_sentence_length(cbow_model, test_data, prep_fn=prepare_example)\n",
        "\n",
        "# save results in results dict\n",
        "results_dict[model_name] = {}\n",
        "results_dict[model_name]['train_losses'] = cbow_losses\n",
        "results_dict[model_name]['train_accuracies'] = cbow_accuracies\n",
        "results_dict[model_name]['test_accuracy'] = cbow_test_acc\n",
        "results_dict[model_name]['sentence_length_results'] = cbow_sentence_length_accs"
      ]
    },
    {
      "cell_type": "code",
      "execution_count": 41,
      "metadata": {
        "colab": {
          "base_uri": "https://localhost:8080/",
          "height": 282
        },
        "id": "V8HlFRO7TRpj",
        "outputId": "2810fc9a-200f-4d30-ae74-e979586ad785"
      },
      "outputs": [
        {
          "output_type": "execute_result",
          "data": {
            "text/plain": [
              "[<matplotlib.lines.Line2D at 0x7f1a1517d890>]"
            ]
          },
          "metadata": {},
          "execution_count": 41
        },
        {
          "output_type": "display_data",
          "data": {
            "image/png": "[encoded data removed]",
            "text/plain": [
              "<Figure size 432x288 with 1 Axes>"
            ]
          },
          "metadata": {
            "needs_background": "light"
          }
        }
      ],
      "source": [
        "plt.plot(cbow_accuracies)"
      ]
    },
    {
      "cell_type": "code",
      "execution_count": 42,
      "metadata": {
        "colab": {
          "base_uri": "https://localhost:8080/",
          "height": 282
        },
        "id": "kXzHHPvDTRpj",
        "outputId": "f535658b-8171-419a-e04b-dab51f768cf9"
      },
      "outputs": [
        {
          "output_type": "execute_result",
          "data": {
            "text/plain": [
              "[<matplotlib.lines.Line2D at 0x7f1a15161b90>]"
            ]
          },
          "metadata": {},
          "execution_count": 42
        },
        {
          "output_type": "display_data",
          "data": {
            "image/png": "[encoded data removed]",
            "text/plain": [
              "<Figure size 432x288 with 1 Axes>"
            ]
          },
          "metadata": {
            "needs_background": "light"
          }
        }
      ],
      "source": [
        "plt.plot(cbow_losses)"
      ]
    },
    {
      "cell_type": "markdown",
      "metadata": {
        "id": "zpFt_Fo2TdN0"
      },
      "source": [
        "# Deep CBOW"
      ]
    },
    {
      "cell_type": "markdown",
      "metadata": {
        "id": "iZanOMesTfEZ"
      },
      "source": [
        "To see if we can squeeze some more performance out of the CBOW model, we can make it deeper and non-linear by adding more layers and, e.g., tanh-activations.\n",
        "By using more parameters we can learn more aspects of the data, and by using more layers and non-linearities, we can try to learn a more complex function. \n",
        "This is not something that always works. If the input-output mapping of your data is simple, then a complicated function could easily overfit on your training set, thereby leading to poor generalization. \n",
        "\n",
        "#### Exercise: write Deep CBOW class and train it\n",
        "\n",
        "Write a class `DeepCBOW`.\n",
        "\n",
        "In your code, make sure that your `output_layer` consists of the following:\n",
        "- A linear transformation from E units to D units.\n",
        "- A Tanh activation\n",
        "- A linear transformation from D units to D units\n",
        "- A Tanh activation\n",
        "- A linear transformation from D units to 5 units (our output classes).\n",
        "\n",
        "E is the size of the word embeddings (please use E=300) and D for the size of a hidden layer (please use D=100).\n",
        "\n",
        "We recommend using [nn.Sequential](https://pytorch.org/docs/stable/nn.html?highlight=sequential#torch.nn.Sequential) to implement this exercise."
      ]
    },
    {
      "cell_type": "code",
      "execution_count": 43,
      "metadata": {
        "id": "l8Z1igvpTrZq"
      },
      "outputs": [],
      "source": [
        "# YOUR CODE HERE\n",
        "# YOUR CODE HERE\n",
        "class Deep_CBOW(nn.Module):\n",
        "  \"\"\"A simple bag-of-words model\"\"\"\n",
        "\n",
        "  def __init__(self, vocab_size, embedding_dim, vocab, num_classes, num_hidden):\n",
        "    super(Deep_CBOW, self).__init__()\n",
        "    self.vocab = vocab\n",
        "    \n",
        "    # this is a trainable look-up table with word embeddings\n",
        "    self.embed = nn.Embedding(vocab_size, embedding_dim)\n",
        "    \n",
        "    # Linear layer\n",
        "    self.linear1 = nn.Linear(embedding_dim, num_hidden)   \n",
        "    self.linear2 = nn.Linear(num_hidden, num_hidden) \n",
        "\n",
        "    # Output Projection layer\n",
        "    self.linear3 = nn.Linear(num_hidden, num_classes)     \n",
        "\n",
        "    #Activation Layer\n",
        "    self.act_fn = nn.Tanh()\n",
        "\n",
        "  def forward(self, inputs):\n",
        "    # this is the forward pass of the neural network\n",
        "    # it applies a function to the input and returns the output\n",
        "\n",
        "    # this looks up the embeddings for each word ID in inputs\n",
        "    # the result is a sequence of word embeddings\n",
        "    output = self.embed(inputs)\n",
        "    output = self.linear1(output)\n",
        "    output = self.act_fn(output)\n",
        "    output = self.linear2(output)\n",
        "    output = self.act_fn(output)\n",
        "    output = self.linear3(output)\n",
        "\n",
        "    \n",
        "    # the output is the sum across the time dimension (1)\n",
        "    # with the bias term added\n",
        "    logits = output.sum(1)\n",
        "\n",
        "    return logits"
      ]
    },
    {
      "cell_type": "code",
      "execution_count": 44,
      "metadata": {
        "colab": {
          "base_uri": "https://localhost:8080/"
        },
        "id": "SqblC1zETRpj",
        "outputId": "b64361bd-f51e-48ed-c5d3-6d1c0eb468a5"
      },
      "outputs": [
        {
          "output_type": "stream",
          "name": "stdout",
          "text": [
            "Deep_CBOW(\n",
            "  (embed): Embedding(18280, 300)\n",
            "  (linear1): Linear(in_features=300, out_features=100, bias=True)\n",
            "  (linear2): Linear(in_features=100, out_features=100, bias=True)\n",
            "  (linear3): Linear(in_features=100, out_features=5, bias=True)\n",
            "  (act_fn): Tanh()\n",
            ")\n",
            "embed.weight             [18280, 300] requires_grad=True\n",
            "linear1.weight           [100, 300]   requires_grad=True\n",
            "linear1.bias             [100]        requires_grad=True\n",
            "linear2.weight           [100, 100]   requires_grad=True\n",
            "linear2.bias             [100]        requires_grad=True\n",
            "linear3.weight           [5, 100]     requires_grad=True\n",
            "linear3.bias             [5]          requires_grad=True\n",
            "\n",
            "Total number of parameters: 5524705\n",
            "\n"
          ]
        }
      ],
      "source": [
        "# Let's create a model.\n",
        "vocab_size = len(v.w2i)\n",
        "num_classes = len(t2i)\n",
        "num_embed = 300\n",
        "num_hidden = 100\n",
        "deep_cbow_model = Deep_CBOW(vocab_size, num_embed, v, num_classes, num_hidden)\n",
        "print(deep_cbow_model)\n",
        "\n",
        "# Here we print each parameter name, shape, and if it is trainable.\n",
        "def print_parameters(model):\n",
        "  total = 0\n",
        "  for name, p in model.named_parameters():\n",
        "    total += np.prod(p.shape)\n",
        "    print(\"{:24s} {:12s} requires_grad={}\".format(name, str(list(p.shape)), p.requires_grad))\n",
        "  print(\"\\nTotal number of parameters: {}\\n\".format(total))\n",
        "    \n",
        "\n",
        "print_parameters(deep_cbow_model)"
      ]
    },
    {
      "cell_type": "code",
      "execution_count": 45,
      "metadata": {
        "colab": {
          "base_uri": "https://localhost:8080/"
        },
        "id": "ovoPirqHTRpj",
        "outputId": "00de4f29-1ed1-47ff-ca0c-637855e91c41"
      },
      "outputs": [
        {
          "output_type": "stream",
          "name": "stdout",
          "text": [
            "Deep_CBOW(\n",
            "  (embed): Embedding(18280, 300)\n",
            "  (linear1): Linear(in_features=300, out_features=100, bias=True)\n",
            "  (linear2): Linear(in_features=100, out_features=100, bias=True)\n",
            "  (linear3): Linear(in_features=100, out_features=5, bias=True)\n",
            "  (act_fn): Tanh()\n",
            ")\n",
            "Shuffling training data\n",
            "Iter 1000: loss=1752.4108, time=2.06s\n",
            "iter 1000: dev acc=0.2752\n",
            "new highscore\n",
            "Iter 2000: loss=1684.9534, time=4.55s\n",
            "iter 2000: dev acc=0.2716\n",
            "Iter 3000: loss=1625.6822, time=6.91s\n",
            "iter 3000: dev acc=0.2788\n",
            "new highscore\n",
            "Iter 4000: loss=1605.3248, time=9.47s\n",
            "iter 4000: dev acc=0.2788\n",
            "Iter 5000: loss=1601.1517, time=11.84s\n",
            "iter 5000: dev acc=0.3043\n",
            "new highscore\n",
            "Iter 6000: loss=1531.5010, time=14.39s\n",
            "iter 6000: dev acc=0.2897\n",
            "Iter 7000: loss=1527.9607, time=16.77s\n",
            "iter 7000: dev acc=0.3324\n",
            "new highscore\n",
            "Iter 8000: loss=1513.5423, time=19.49s\n",
            "iter 8000: dev acc=0.3361\n",
            "new highscore\n",
            "Shuffling training data\n",
            "Iter 9000: loss=1456.8003, time=22.08s\n",
            "iter 9000: dev acc=0.3025\n",
            "Iter 10000: loss=1384.8810, time=24.51s\n",
            "iter 10000: dev acc=0.3252\n",
            "Iter 11000: loss=1404.6721, time=26.91s\n",
            "iter 11000: dev acc=0.3288\n",
            "Iter 12000: loss=1384.7354, time=29.28s\n",
            "iter 12000: dev acc=0.3306\n",
            "Iter 13000: loss=1388.3106, time=31.65s\n",
            "iter 13000: dev acc=0.3324\n",
            "Iter 14000: loss=1413.7337, time=34.03s\n",
            "iter 14000: dev acc=0.3397\n",
            "new highscore\n",
            "Iter 15000: loss=1354.3872, time=36.54s\n",
            "iter 15000: dev acc=0.3270\n",
            "Iter 16000: loss=1386.7415, time=38.98s\n",
            "iter 16000: dev acc=0.3597\n",
            "new highscore\n",
            "Iter 17000: loss=1355.3717, time=41.51s\n",
            "iter 17000: dev acc=0.3597\n",
            "Shuffling training data\n",
            "Iter 18000: loss=1189.0060, time=43.96s\n",
            "iter 18000: dev acc=0.3660\n",
            "new highscore\n",
            "Iter 19000: loss=1205.3207, time=46.49s\n",
            "iter 19000: dev acc=0.3442\n",
            "Iter 20000: loss=1182.8878, time=48.88s\n",
            "iter 20000: dev acc=0.3579\n",
            "Iter 21000: loss=1145.1231, time=51.26s\n",
            "iter 21000: dev acc=0.3551\n",
            "Iter 22000: loss=1164.4413, time=53.63s\n",
            "iter 22000: dev acc=0.3152\n",
            "Iter 23000: loss=1157.1025, time=56.00s\n",
            "iter 23000: dev acc=0.3615\n",
            "Iter 24000: loss=1174.4099, time=58.37s\n",
            "iter 24000: dev acc=0.3333\n",
            "Iter 25000: loss=1206.4096, time=60.80s\n",
            "iter 25000: dev acc=0.3442\n",
            "Shuffling training data\n",
            "Iter 26000: loss=1056.2720, time=63.15s\n",
            "iter 26000: dev acc=0.3533\n",
            "Iter 27000: loss=887.8855, time=65.51s\n",
            "iter 27000: dev acc=0.3524\n",
            "Iter 28000: loss=973.0299, time=67.85s\n",
            "iter 28000: dev acc=0.3460\n",
            "Done training, model converged\n",
            "Loading best model\n",
            "best model iter 18000: train acc=0.5171, dev acc=0.3660, test acc=0.3584\n"
          ]
        }
      ],
      "source": [
        "deep_cbow_model = Deep_CBOW(vocab_size, num_embed, v, num_classes, num_hidden)\n",
        "print(deep_cbow_model)\n",
        "deep_cbow_model = deep_cbow_model.to(device)\n",
        "model_name = deep_cbow_model.__class__.__name__\n",
        "\n",
        "optimizer = optim.Adam(deep_cbow_model.parameters(), lr=0.0005)\n",
        "\n",
        "if not os.path.exists(\"{}.pt\".format(model_name)):\n",
        "    deep_cbow_losses, deep_cbow_accuracies = train_model(deep_cbow_model, optimizer, num_iterations=30000, print_every=1000, eval_every=1000)\n",
        "else:\n",
        "    print('Model already trained')\n",
        "    deep_cbow_losses, deep_cbow_accuracies = 'No training done', 'No training done'\n",
        "\n",
        "# get accuracies for each sentence length and store all results\n",
        "path = \"{}.pt\".format(model_name)       \n",
        "ckpt = torch.load(path)\n",
        "deep_cbow_model.load_state_dict(ckpt[\"state_dict\"])\n",
        "\n",
        "_, _, deep_cbow_test_acc = simple_evaluate(deep_cbow_model, test_data, prep_fn=prepare_example)\n",
        "_, _, deep_cbow_sentence_length_accs = eval_sentence_length(deep_cbow_model, test_data, prep_fn=prepare_example)\n",
        "\n",
        "# save results in results dict\n",
        "results_dict[model_name] = {}\n",
        "results_dict[model_name]['train_losses'] = deep_cbow_losses\n",
        "results_dict[model_name]['train_accuracies'] = deep_cbow_accuracies\n",
        "results_dict[model_name]['test_accuracy'] = deep_cbow_test_acc\n",
        "results_dict[model_name]['sentence_length_results'] = deep_cbow_sentence_length_accs"
      ]
    },
    {
      "cell_type": "code",
      "execution_count": 46,
      "metadata": {
        "colab": {
          "base_uri": "https://localhost:8080/",
          "height": 282
        },
        "id": "WXqisOkuTRpk",
        "outputId": "4206d99d-5c5d-4763-e346-3f5a750b4b8e"
      },
      "outputs": [
        {
          "output_type": "execute_result",
          "data": {
            "text/plain": [
              "[<matplotlib.lines.Line2D at 0x7f1a150daad0>]"
            ]
          },
          "metadata": {},
          "execution_count": 46
        },
        {
          "output_type": "display_data",
          "data": {
            "image/png": "[encoded data removed]",
            "text/plain": [
              "<Figure size 432x288 with 1 Axes>"
            ]
          },
          "metadata": {
            "needs_background": "light"
          }
        }
      ],
      "source": [
        "plt.plot(deep_cbow_accuracies)"
      ]
    },
    {
      "cell_type": "code",
      "execution_count": 47,
      "metadata": {
        "colab": {
          "base_uri": "https://localhost:8080/",
          "height": 282
        },
        "id": "PZlAJZ_wTRpk",
        "outputId": "b36f5c4e-d1d3-4f56-99cd-42e60958ff4b"
      },
      "outputs": [
        {
          "output_type": "execute_result",
          "data": {
            "text/plain": [
              "[<matplotlib.lines.Line2D at 0x7f1a1503fdd0>]"
            ]
          },
          "metadata": {},
          "execution_count": 47
        },
        {
          "output_type": "display_data",
          "data": {
            "image/png": "[encoded data removed]",
            "text/plain": [
              "<Figure size 432x288 with 1 Axes>"
            ]
          },
          "metadata": {
            "needs_background": "light"
          }
        }
      ],
      "source": [
        "plt.plot(deep_cbow_losses)"
      ]
    },
    {
      "cell_type": "markdown",
      "metadata": {
        "id": "MQZ5flHwiiHY"
      },
      "source": [
        "# Pre-trained word embeddings"
      ]
    },
    {
      "cell_type": "markdown",
      "metadata": {
        "id": "9NX35vecmHy6"
      },
      "source": [
        "The Stanford Sentiment Treebank is a rather small data set, since it required fine-grained manual annotatation. This makes it difficult for the Deep CBOW model to learn good word embeddings, i.e. to learn good word representations for the words in our vocabulary.\n",
        "In fact, the only error signal that the network receives is from predicting the sentiment of entire sentences!\n",
        "\n",
        "To start off with better word representations, we can download **pre-trained word embeddings**. \n",
        "You can choose which pre-trained word embeddings to use:\n",
        "\n",
        "- **GloVe**. The \"original\" Stanford Sentiment classification [paper](http://aclweb.org/anthology/P/P15/P15-1150.pdf) used Glove embeddings, which are just another method (like *word2vec*) to get word embeddings from unannotated text. Glove is described in the following paper which you should cite if you use them:\n",
        "> Jeffrey Pennington, Richard Socher, and Christopher Manning. [\"Glove: Global vectors for word representation.\"](https://nlp.stanford.edu/pubs/glove.pdf) EMNLP 2014. \n",
        "\n",
        "- **Word2Vec**. This is the method that you learned about in class, described in:\n",
        "> Mikolov, Tomas, et al. [\"Distributed representations of words and phrases and their compositionality.\"](https://papers.nips.cc/paper/5021-distributed-representations-of-words-and-phrases-and-their-compositionality.pdf) Advances in neural information processing systems. 2013.\n",
        "\n",
        "Using these pre-trained word embeddings, we can initialize our word embedding lookup table and start form a point where similar words are already close to one another in the distributional semantic space. \n",
        "\n",
        "You can choose to keep the word embeddings **fixed** or to train them further, specialising them to the task at hand.\n",
        "We will keep them fixed for now.\n",
        "\n",
        "For the purposes of this lab, it is enough if you understand how word2vec works (whichever vectors you use), but if you are interested, we encourage you to also check out the GloVe paper.\n",
        "\n",
        "You can either download the word2vec vectors, or the Glove vectors.\n",
        "If you want to compare your results to the Stanford paper later on, then you should use Glove. \n",
        "**At the end of this lab you have the option to compare which vectors give you the best performance. For now, simply choose one of them and continue with that.**\n",
        "\n",
        "[**OPTIONAL in case you don't want to mount Google Drive:** instead of running all the 5 boxes below, you can 1) download the GloVe and word2vec in your local machine, 2) upload them on your Drive folder (\"My Drive\"). Then, uncomment the first 2 lines in box 6 before writing your code!]\n"
      ]
    },
    {
      "cell_type": "code",
      "execution_count": 48,
      "metadata": {
        "colab": {
          "base_uri": "https://localhost:8080/"
        },
        "id": "lGYr02WWO993",
        "outputId": "fb1a711f-6d3a-4666-cd63-623e2988d79d"
      },
      "outputs": [
        {
          "output_type": "stream",
          "name": "stdout",
          "text": [
            "--2021-12-15 00:56:13--  https://gist.githubusercontent.com/bastings/b094de2813da58056a05e8e7950d4ad1/raw/3fbd3976199c2b88de2ae62afc0ecc6f15e6f7ce/glove.840B.300d.sst.txt\n",
            "Resolving gist.githubusercontent.com (gist.githubusercontent.com)... 185.199.108.133, 185.199.109.133, 185.199.110.133, ...\n",
            "Connecting to gist.githubusercontent.com (gist.githubusercontent.com)|185.199.108.133|:443... connected.\n",
            "HTTP request sent, awaiting response... 200 OK\n",
            "Length: 53933315 (51M) [text/plain]\n",
            "Saving to: ‘glove.840B.300d.sst.txt’\n",
            "\n",
            "glove.840B.300d.sst 100%[===================>]  51.43M   306MB/s    in 0.2s    \n",
            "\n",
            "2021-12-15 00:56:14 (306 MB/s) - ‘glove.840B.300d.sst.txt’ saved [53933315/53933315]\n",
            "\n"
          ]
        }
      ],
      "source": [
        "# This downloads the Glove 840B 300d embeddings.\n",
        "# The original file is at http://nlp.stanford.edu/data/glove.840B.300d.zip\n",
        "# Since that file is 2GB, we provide you with a *filtered version*\n",
        "# which contains all the words you need for this data set.\n",
        "\n",
        "# You only need to do this once.\n",
        "# Please comment this cell out after downloading.\n",
        "\n",
        "!wget https://gist.githubusercontent.com/bastings/b094de2813da58056a05e8e7950d4ad1/raw/3fbd3976199c2b88de2ae62afc0ecc6f15e6f7ce/glove.840B.300d.sst.txt"
      ]
    },
    {
      "cell_type": "code",
      "execution_count": 49,
      "metadata": {
        "colab": {
          "base_uri": "https://localhost:8080/"
        },
        "id": "6NLsgFGiTjmI",
        "outputId": "b5d07bf3-8d40-4f30-c025-84c3ff4ae817"
      },
      "outputs": [
        {
          "output_type": "stream",
          "name": "stdout",
          "text": [
            "--2021-12-15 00:56:15--  https://gist.githubusercontent.com/bastings/4d1c346c68969b95f2c34cfbc00ba0a0/raw/76b4fefc9ef635a79d0d8002522543bc53ca2683/googlenews.word2vec.300d.txt\n",
            "Resolving gist.githubusercontent.com (gist.githubusercontent.com)... 185.199.108.133, 185.199.109.133, 185.199.110.133, ...\n",
            "Connecting to gist.githubusercontent.com (gist.githubusercontent.com)|185.199.108.133|:443... connected.\n",
            "HTTP request sent, awaiting response... 200 OK\n",
            "Length: 66209703 (63M) [text/plain]\n",
            "Saving to: ‘googlenews.word2vec.300d.txt’\n",
            "\n",
            "googlenews.word2vec 100%[===================>]  63.14M   248MB/s    in 0.3s    \n",
            "\n",
            "2021-12-15 00:56:16 (248 MB/s) - ‘googlenews.word2vec.300d.txt’ saved [66209703/66209703]\n",
            "\n"
          ]
        }
      ],
      "source": [
        "# This downloads the word2vec 300D Google News vectors \n",
        "# The file has been truncated to only contain words that appear in our data set.\n",
        "# You can find the original file here: https://code.google.com/archive/p/word2vec/\n",
        "\n",
        "# You only need to do this once.\n",
        "# Please comment this out after downloading.\n",
        "!wget https://gist.githubusercontent.com/bastings/4d1c346c68969b95f2c34cfbc00ba0a0/raw/76b4fefc9ef635a79d0d8002522543bc53ca2683/googlenews.word2vec.300d.txt"
      ]
    },
    {
      "cell_type": "code",
      "execution_count": 50,
      "metadata": {
        "cellView": "both",
        "colab": {
          "base_uri": "https://localhost:8080/"
        },
        "id": "GXBITzPRQUQb",
        "outputId": "4809ffa3-115e-4f0b-ddfa-574acd449e4b"
      },
      "outputs": [
        {
          "output_type": "stream",
          "name": "stdout",
          "text": [
            "Mounted at /gdrive\n"
          ]
        }
      ],
      "source": [
        "# Mount Google Drive (to save the downloaded files)\n",
        "from google.colab import drive\n",
        "drive.mount('/gdrive')"
      ]
    },
    {
      "cell_type": "code",
      "execution_count": 51,
      "metadata": {
        "id": "uFvzPuiKSCbl"
      },
      "outputs": [],
      "source": [
        "# Copy word vectors *to* Google Drive\n",
        "\n",
        "# You only need to do this once.\n",
        "# Please comment this out after running it. \n",
        "!cp \"glove.840B.300d.sst.txt\" \"/gdrive/My Drive/\"\n",
        "!cp \"googlenews.word2vec.300d.txt\" \"/gdrive/My Drive/\""
      ]
    },
    {
      "cell_type": "code",
      "execution_count": 52,
      "metadata": {
        "id": "kUMH0bM6BuY9"
      },
      "outputs": [],
      "source": [
        "# If you copied the word vectors to your Drive before,\n",
        "# here is where you copy them back to the Colab notebook.\n",
        "\n",
        "# Copy Glove vectors *from* Google Drive\n",
        "!cp \"/gdrive/My Drive/glove.840B.300d.sst.txt\" .\n",
        "!cp \"/gdrive/My Drive/googlenews.word2vec.300d.txt\" ."
      ]
    },
    {
      "cell_type": "code",
      "execution_count": 53,
      "metadata": {
        "id": "xcpkoh6PIjfe"
      },
      "outputs": [],
      "source": [
        "# Uncomment these 2 lines below if went for the OPTIONAL method described above\n",
        "# !cp \"glove.840B.300d.sst.txt\" \"./\"\n",
        "# !cp \"googlenews.word2vec.300d.txt\" \"./\""
      ]
    },
    {
      "cell_type": "markdown",
      "metadata": {
        "id": "MX2GJVHILM8n"
      },
      "source": [
        "At this point you have the pre-trained word embedding files, but what do they look like?"
      ]
    },
    {
      "cell_type": "code",
      "execution_count": 54,
      "metadata": {
        "colab": {
          "base_uri": "https://localhost:8080/"
        },
        "id": "ChsChH14Ruxn",
        "outputId": "65c9e110-2ce4-411f-c4b6-d1c61bba122d"
      },
      "outputs": [
        {
          "output_type": "stream",
          "name": "stdout",
          "text": [
            "in 0.0703125 0.08691406 0.087890625 0.0625 0.06933594 -0.10888672 -0.08154297 -0.15429688 0.020751953 0.13183594 -0.11376953 -0.037353516 0.06933594 0.078125 -0.103027344 -0.09765625 0.044189453 0.10253906 -0.060791016 -0.036132812 -0.045410156 0.04736328 -0.12060547 -0.063964844 0.0022583008 0.037109375 -0.0029144287 0.11767578 0.061767578 0.063964844 0.08105469 -0.068847656 -0.021362305 0.05517578 -0.08544922 0.068847656 -0.12792969 -0.033203125 0.09863281 0.17578125 0.110839844 -0.03466797 -0.04711914 -0.008483887 0.035888672 0.103027344 0.026977539 -0.028686523 -0.005126953 0.10644531 0.059814453 0.09423828 0.033691406 -0.02709961 -0.09423828 0.0010299683 -0.048339844 0.034423828 0.08105469 -0.11328125 -0.08886719 0.035888672 -0.14550781 -0.24414062 -0.061523438 0.052978516 0.056884766 0.1796875 0.061035156 0.08691406 0.12402344 -0.040283203 0.022583008 0.17773438 -0.029663086 -0.029663086 0.1171875 0.03112793 -0.096191406 0.06640625 0.004699707 -0.080078125 0.06298828 -0.020629883 -0.0546875 -0.13574219 -0.06347656 0.083496094 -0.063964844 0.021484375 0.07714844 -0.037109375 -0.033691406 -0.18359375 -0.072753906 0.01586914 0.09326172 -0.061523438 -0.014221191 -0.0034484863 0.011108398 -0.15820312 -0.017089844 0.0061950684 -0.008728027 -0.080566406 -0.015258789 -0.087890625 0.003479004 -0.016113281 -0.012329102 0.09765625 -0.13964844 -0.0859375 -0.026855469 0.053955078 0.1328125 0.11279297 0.12109375 0.08544922 -0.0071105957 0.044677734 -0.14550781 -0.0032043457 -0.11767578 -0.06542969 0.07128906 -0.09423828 -0.030273438 0.12011719 0.080078125 -0.09472656 -0.16210938 -0.07763672 0.021240234 -0.08154297 0.0039367676 -0.15722656 -0.09814453 0.039794922 0.03930664 -0.009094238 0.103027344 0.067871094 -0.04272461 0.06347656 -0.049072266 0.020874023 -0.16699219 0.09326172 0.09375 0.006866455 0.053710938 0.052490234 -0.024414062 -0.032470703 -0.061523438 -0.005554199 0.096191406 0.037841797 0.012207031 -0.043945312 -0.0074768066 0.10546875 0.020385742 0.14550781 0.08203125 0.0057678223 0.0045776367 -0.09277344 -0.13867188 -0.057373047 -0.051513672 -0.13085938 -0.13964844 -0.020507812 -0.02709961 0.032714844 0.10498047 -0.0023345947 -0.022583008 0.00050354004 -0.110839844 0.08496094 -0.12988281 -0.017456055 -0.00035858154 0.107910156 0.08886719 0.044677734 0.025146484 0.023803711 0.08105469 0.02368164 -0.10986328 0.0053710938 -0.017700195 -0.033935547 -0.032958984 -0.1640625 0.095703125 -0.018310547 0.0053100586 -0.034423828 -0.044189453 -0.06640625 -0.017944336 -0.029663086 -0.007598877 -0.05126953 -0.05419922 0.08935547 -0.071777344 0.015258789 -0.08251953 -0.03173828 0.03564453 -0.021240234 -0.059326172 -0.013061523 0.046875 0.023071289 0.020996094 -0.07861328 -0.008056641 0.01953125 -0.005554199 0.041503906 0.027832031 0.01361084 0.03466797 -0.18261719 0.12011719 0.07421875 -0.041015625 -0.0099487305 0.04296875 -0.007293701 0.123046875 0.057617188 -0.053466797 -0.032226562 -0.009094238 -0.04663086 0.043945312 -0.05078125 0.068847656 0.0029907227 -0.004180908 -0.044189453 0.07373047 -0.012756348 0.06738281 0.006286621 0.07519531 -0.037841797 0.0048828125 0.044677734 -0.06738281 0.00970459 0.0047302246 0.020507812 0.07128906 0.17089844 0.17382812 0.055664062 0.091308594 -0.037353516 0.049804688 -0.03930664 0.044189453 0.0625 0.048583984 -0.053222656 0.048828125 -0.13085938 -0.028930664 -0.036132812 -0.060791016 -0.057373047 0.123046875 -0.08251953 -0.0119018555 0.125 0.0013580322 0.063964844 -0.10644531 -0.14355469 -0.042236328 0.024047852 -0.16894531 -0.08886719 -0.080566406 0.064941406 0.061279297 -0.04736328 -0.05883789 -0.047607422 0.014465332 -0.0625\n",
            "\n",
            "for -0.011779785 -0.04736328 0.044677734 0.06347656 -0.018188477 -0.063964844 -0.0013122559 -0.072265625 0.064453125 0.08642578 -0.16992188 -0.039794922 0.07128906 -0.025878906 0.018188477 0.13671875 0.14453125 -0.033691406 -0.09765625 -0.12011719 -0.079589844 0.0625 -0.06689453 0.07421875 0.022705078 0.033447266 -0.18066406 0.052001953 0.0138549805 0.09277344 0.0035095215 -0.009094238 -0.09716797 0.067871094 -0.0087890625 0.044189453 -0.13378906 -0.099609375 0.033203125 0.027954102 0.15527344 -0.017700195 0.014282227 -0.10986328 -0.08544922 -0.07324219 -0.024658203 0.17285156 0.061767578 0.08935547 -0.024291992 0.14160156 -0.032958984 0.02746582 -0.15527344 0.007873535 -0.07080078 0.043701172 0.006011963 -0.055908203 -0.14746094 0.028442383 -0.1328125 -0.17675781 -0.091308594 -0.05078125 -0.026000977 -0.1484375 -0.080566406 0.15039062 -0.04345703 0.07910156 0.033203125 0.09033203 0.022705078 -0.0625 0.1640625 0.0859375 -0.012390137 0.19628906 -0.06225586 0.022460938 -0.030151367 0.021240234 0.003326416 -0.055419922 -0.07324219 0.029785156 0.049804688 0.017456055 0.10449219 0.03881836 0.08496094 -0.24804688 0.06933594 -0.14941406 0.05834961 0.095703125 -0.033447266 0.06298828 0.021362305 -0.14550781 0.053710938 -0.09082031 -0.025390625 0.045410156 0.0053100586 -0.115722656 -0.01953125 0.12109375 0.032226562 0.09472656 -0.064453125 0.022705078 0.12060547 0.060302734 0.12060547 0.048828125 0.09326172 0.06689453 0.029296875 -0.034179688 -0.111328125 0.053466797 -0.025634766 0.017822266 0.06225586 -0.025878906 0.14550781 0.0625 0.107910156 -0.16308594 -0.09765625 -0.10595703 -0.08544922 -0.08886719 0.10107422 -0.079589844 0.008422852 0.024047852 0.13085938 0.05126953 0.08154297 0.09375 -0.05859375 -0.09667969 -0.028320312 -0.14550781 -0.14746094 0.14550781 -0.017578125 0.032958984 -0.08544922 -0.010986328 -0.037109375 -0.013671875 0.035888672 -0.008239746 0.05029297 -0.09472656 0.047851562 0.020751953 0.030639648 0.12988281 0.052734375 0.018798828 -0.017578125 0.03491211 0.018310547 -0.009887695 -0.18457031 -0.08984375 -0.029052734 -0.060791016 -0.05126953 -0.0023651123 0.06640625 -0.08251953 -0.040039062 0.096191406 -0.15429688 -0.15332031 0.028320312 0.013122559 0.029907227 -0.012145996 -0.09667969 0.024780273 0.19335938 0.013000488 0.024169922 -0.035888672 0.09863281 -0.09667969 -0.20019531 -0.013793945 0.0859375 -0.080078125 -0.17675781 -0.17480469 0.005126953 -0.03491211 -0.0546875 0.09375 -0.09326172 -0.011962891 -0.0005645752 0.09765625 0.024780273 -0.039794922 0.009765625 0.11816406 0.025756836 0.123046875 0.064453125 0.07080078 0.029296875 -0.049560547 -0.078125 0.028930664 0.045654297 -0.04296875 0.025878906 -0.051757812 0.140625 0.004272461 -0.037841797 0.02746582 0.060058594 0.028320312 0.028076172 -0.036621094 0.13085938 -9.679794e-05 -0.06933594 -0.022094727 0.067871094 -0.02331543 -0.015319824 -0.05834961 0.061035156 0.00064468384 0.0039978027 -0.07128906 0.091796875 0.026245117 0.020019531 0.03540039 -0.057861328 -0.029663086 0.02734375 0.025146484 0.060302734 0.13183594 -0.0043640137 0.0027313232 0.059814453 0.09863281 -0.091796875 -0.045898438 -0.017456055 0.038330078 -0.019165039 0.04638672 0.047851562 0.09814453 -0.040283203 0.09423828 -0.03466797 -0.042236328 0.0703125 -0.013671875 0.10644531 0.016479492 0.13183594 -0.0016937256 -0.008483887 -0.14257812 -0.04663086 -0.10986328 0.08203125 -0.041015625 -0.018920898 0.087890625 -0.0028076172 0.23828125 -0.04711914 -0.022949219 0.040771484 0.029296875 -0.022583008 0.0037231445 -0.08251953 0.08154297 0.00793457 0.00047683716 0.018432617 0.07128906 -0.03491211 0.024169922\n",
            "\n",
            "that -0.01574707 -0.028320312 0.083496094 0.05029297 -0.11035156 0.03173828 -0.014221191 -0.08984375 0.11767578 0.11816406 -0.071777344 -0.07714844 -0.068847656 0.07714844 -0.13867188 0.006500244 0.010986328 -0.015136719 -0.0009613037 -0.030273438 -0.00015830994 0.038330078 -0.024169922 -0.045898438 0.09472656 -0.05517578 -0.064941406 0.0061035156 0.0008544922 0.06201172 -0.05444336 0.014099121 0.022216797 -0.044921875 0.111328125 -0.03857422 0.05126953 0.025146484 0.016967773 0.06298828 0.13769531 0.13574219 0.06542969 -0.064453125 -0.024047852 -0.013366699 -0.037109375 0.0043029785 -0.01574707 0.019042969 0.10839844 0.044677734 -0.044921875 -0.095214844 0.08691406 0.08203125 0.0068359375 -0.13183594 0.0027313232 -0.075683594 0.022460938 0.171875 -0.048583984 0.038330078 -0.088378906 -0.017211914 0.021850586 0.13378906 0.010681152 0.049804688 0.038085938 -0.0052490234 0.061279297 -0.050048828 -0.10595703 0.055664062 0.15429688 0.17089844 0.048095703 0.12695312 0.08154297 -0.1015625 0.043945312 -0.013549805 -0.13378906 -0.15722656 0.024291992 0.20898438 -0.10205078 -0.09375 0.048583984 0.07519531 0.0035247803 -0.123535156 -0.024169922 -0.0013198853 0.038330078 0.007598877 0.017700195 0.043701172 -0.09814453 -0.05810547 0.014099121 0.041015625 -0.03540039 -0.022949219 -0.13085938 -0.14453125 0.028930664 -0.122558594 -0.07128906 -0.0071411133 -0.09667969 0.05859375 0.104003906 0.026367188 0.0075683594 0.036132812 0.040283203 0.052734375 -0.20410156 -0.033447266 -0.029052734 0.03173828 -0.123535156 -0.06738281 0.01586914 -0.08642578 0.012512207 -0.06298828 -0.12060547 0.0234375 -0.13183594 -0.11816406 -0.012145996 -0.10986328 0.095214844 -0.041992188 0.018310547 0.051757812 0.014953613 -0.15917969 -0.021728516 -0.005126953 0.035888672 -0.003036499 -0.078125 -0.05126953 -0.0074157715 0.087402344 -0.023925781 0.044189453 -0.11376953 0.021484375 -0.003829956 -0.04345703 -0.104003906 -0.18554688 -0.044921875 0.044921875 -0.044433594 0.019042969 -0.020996094 0.0134887695 0.015258789 -0.030395508 0.04663086 0.10253906 -0.0138549805 0.008239746 -0.052734375 0.01965332 -0.076171875 -0.08984375 0.043945312 0.00793457 0.012634277 -0.10839844 -0.018554688 -0.10449219 -0.15234375 -0.07910156 -0.028808594 -0.018676758 0.09716797 -0.008361816 -0.03540039 0.007537842 0.05810547 0.08203125 0.028808594 0.05102539 0.0031738281 -0.018554688 0.014953613 -0.072753906 -0.034179688 0.043945312 -0.048828125 -0.16113281 0.025634766 0.036621094 -0.00015354156 -0.0012588501 -0.039794922 -0.032226562 -0.01574707 0.060791016 0.09716797 -0.015014648 -0.033691406 -0.015319824 0.0046691895 0.032958984 -0.08203125 0.10644531 0.15429688 0.0087890625 -0.12011719 0.061279297 0.05859375 0.03881836 -0.015991211 -0.043945312 0.12011719 -0.07519531 0.125 0.03515625 0.072753906 0.087402344 0.021118164 -0.07373047 0.034423828 -0.09423828 0.01159668 -0.057128906 -0.07861328 0.015991211 0.075683594 0.030517578 0.0046081543 -0.14550781 -0.024780273 -0.107910156 0.068847656 0.05810547 0.125 -0.06542969 0.005279541 0.01184082 0.06982422 0.12695312 0.06542969 -0.017333984 0.119140625 -0.032470703 0.14453125 0.076660156 -0.032226562 -0.06591797 0.06298828 -0.0625 -0.096191406 0.10644531 -0.039794922 0.11621094 -0.00970459 -0.03540039 -0.06542969 0.05883789 0.16210938 0.05126953 0.15917969 0.095214844 0.076171875 -0.091796875 0.025146484 -0.07861328 0.08935547 -0.05859375 -0.040039062 0.045898438 0.03100586 0.0390625 0.03564453 -0.10595703 -0.037109375 -0.16113281 0.021362305 0.0012207031 -0.011291504 -0.015625 -0.033447266 -0.020629883 -0.01940918 0.063964844 0.020141602 0.006866455 0.061035156 -0.1484375\n",
            "\n",
            "is 0.0070495605 -0.07324219 0.171875 0.022583008 -0.1328125 0.19824219 0.11279297 -0.107910156 0.071777344 0.020874023 -0.123046875 -0.05908203 0.10107422 0.0107421875 0.14355469 0.25976562 -0.036376953 0.18554688 -0.07861328 -0.022705078 -0.12060547 0.17773438 0.049560547 0.017211914 0.079589844 -0.045654297 -0.18847656 0.18945312 -0.02319336 0.06298828 0.09765625 -0.019042969 -0.07910156 0.15234375 0.17382812 0.1015625 -0.16308594 0.114746094 0.10058594 -0.09277344 0.109375 0.05883789 -0.021606445 0.06347656 0.041992188 -0.008850098 0.032226562 0.10644531 0.064453125 -0.118652344 0.030517578 0.06689453 0.12207031 -0.08300781 0.171875 0.07861328 0.095214844 -0.0077819824 0.02319336 0.0234375 -0.016845703 0.15527344 -0.10986328 -0.17675781 -0.11621094 0.0234375 -0.010620117 0.052734375 -0.13378906 0.079589844 0.07373047 0.043945312 0.115234375 -0.020629883 0.07470703 -0.0115356445 0.080566406 0.041748047 0.080078125 0.3515625 0.09667969 -0.21289062 0.16503906 -0.078125 0.06982422 -0.0013961792 -0.091308594 0.12988281 0.25195312 -0.016113281 0.09326172 -0.14648438 -0.0015106201 -0.15136719 -0.026855469 -0.15722656 0.026367188 0.0859375 0.071777344 0.07714844 -0.0390625 0.05444336 -0.12792969 0.091308594 -0.18457031 -0.037597656 -0.027954102 -0.08984375 -0.11669922 -0.09863281 0.048095703 -0.16210938 -0.10888672 0.08496094 -0.045654297 0.15820312 -0.038085938 -0.08203125 0.203125 0.08642578 0.06933594 0.032226562 -0.16015625 0.09472656 -0.024658203 0.05419922 0.027954102 0.044921875 0.16992188 0.072753906 -0.036376953 -0.010253906 -0.017089844 -0.107421875 -0.0007019043 -0.07373047 0.25390625 0.056640625 0.03515625 -0.008605957 0.18554688 0.021484375 0.26367188 -0.023803711 -0.099121094 -0.041259766 -0.06933594 -0.11376953 0.050048828 -0.05883789 0.046142578 0.087402344 0.10546875 0.10644531 0.027954102 0.09472656 0.11621094 -0.17285156 -0.03491211 -0.20800781 0.059570312 0.104003906 -0.0017929077 0.05859375 -0.029785156 -0.037597656 0.048583984 -0.063964844 0.079589844 0.06933594 -0.10498047 -0.14453125 0.04345703 -0.068847656 -0.03564453 -0.01171875 0.013671875 -0.06591797 0.119140625 0.03125 -0.04638672 -0.0019683838 0.0073547363 -0.056640625 0.027832031 0.08251953 -0.0134887695 0.071777344 0.14453125 0.12792969 0.042236328 0.14160156 -0.018066406 0.021606445 -0.091796875 0.13378906 -0.1953125 -0.05029297 -0.037841797 -0.096191406 0.103027344 -0.106933594 -0.14746094 0.099609375 -0.23046875 0.22753906 -0.07519531 0.064941406 0.091796875 0.046875 0.06298828 0.06982422 0.046142578 0.09716797 -0.20214844 0.19921875 0.18652344 -0.119628906 -0.14257812 0.15039062 -0.033691406 -0.14550781 -0.0006904602 -0.07324219 0.13378906 0.03564453 -0.022949219 0.027709961 -0.07910156 0.20703125 -0.083496094 -0.049560547 0.03149414 0.1484375 0.055664062 -0.044921875 -0.079589844 0.004760742 -0.020751953 0.060058594 0.004760742 0.011169434 0.17285156 -0.13476562 0.030761719 -0.079589844 0.09033203 0.061035156 0.07714844 -0.05029297 -0.092285156 -0.26757812 0.107910156 0.0859375 0.06298828 0.107910156 -0.026733398 0.10205078 -0.12060547 0.052978516 0.09472656 -0.16503906 0.044189453 0.072265625 0.041259766 0.42578125 -0.103027344 -0.16015625 -0.09033203 -0.063964844 -0.048095703 0.14453125 0.06542969 0.049316406 0.05419922 0.13574219 -0.01928711 -0.21582031 -0.07421875 -0.14648438 0.011474609 -0.16503906 -0.10498047 0.0032043457 0.13476562 -0.003967285 -0.103515625 -0.13964844 0.10449219 -0.012573242 -0.23339844 -0.036376953 -0.09375 0.18261719 0.02709961 0.12792969 -0.024780273 0.011230469 0.1640625 0.106933594\n",
            "\n",
            "on 0.026733398 -0.09082031 0.027832031 0.20410156 0.006225586 -0.09033203 0.022583008 -0.16113281 0.1328125 0.061035156 -0.01574707 0.088378906 0.013793945 0.04638672 -0.055908203 -0.06689453 0.012268066 0.13671875 0.15429688 -0.046142578 -0.03930664 -0.15429688 -0.16503906 0.107910156 0.033203125 -0.05102539 0.037109375 0.1015625 0.11035156 0.020507812 0.0067749023 0.0011825562 -0.012512207 -0.125 0.014831543 -0.026855469 -0.021484375 0.015075684 0.13867188 0.048583984 -0.076660156 -0.11669922 0.106933594 0.041748047 0.012817383 -0.009460449 -0.028930664 -0.03857422 0.24316406 0.009521484 0.022094727 0.22265625 0.009155273 -0.045410156 -0.03540039 0.140625 -0.18457031 0.07763672 0.041503906 -0.08496094 -0.099121094 0.05834961 -0.09667969 -0.20214844 -0.014038086 -0.0023651123 0.14746094 0.20019531 0.059570312 0.15429688 0.13476562 0.005279541 0.125 0.08544922 -0.027709961 -0.05810547 0.18359375 0.007873535 -0.15332031 0.12402344 -0.080078125 -0.14355469 0.14941406 0.014587402 0.107910156 -0.20117188 -0.15039062 0.052490234 0.07714844 0.091796875 -0.038085938 0.1484375 0.0546875 -0.15136719 0.014282227 -0.10498047 0.019042969 -0.06347656 0.053466797 0.03491211 0.13964844 -0.13378906 0.21679688 -0.19433594 -0.05834961 -0.13476562 -0.265625 -0.104003906 0.03540039 -0.21582031 0.08251953 0.045166016 -0.06982422 -0.04321289 0.026977539 -0.09033203 0.005493164 0.049804688 -0.03564453 0.059814453 -0.14941406 -0.022094727 -0.033203125 0.17578125 -0.06640625 -0.018310547 0.011291504 -0.042236328 -0.07714844 0.017456055 -0.10498047 -0.10449219 -0.04736328 -0.029541016 -0.061523438 -0.05078125 -0.025634766 -0.095214844 -0.08105469 -0.1015625 0.20214844 0.118652344 -0.002822876 -0.060302734 0.022460938 0.13085938 0.080566406 -0.15429688 -0.08251953 0.16015625 0.057861328 0.09765625 -0.020996094 -0.045166016 -0.07324219 0.0043640137 -0.09082031 0.019165039 -0.016601562 -0.05029297 0.014709473 -0.0041503906 0.03466797 0.057373047 0.080078125 0.006225586 0.063964844 0.024536133 0.03173828 -0.125 -0.078125 -0.024536133 -0.072265625 -0.08642578 -0.07714844 0.04345703 -0.00018787384 -0.011413574 -0.099121094 0.026245117 0.053466797 0.045410156 -0.07128906 0.13867188 0.041015625 0.011169434 -0.015319824 0.032958984 0.18261719 0.017456055 -0.031982422 0.107910156 0.032958984 -0.03515625 -0.21777344 0.10205078 -0.029296875 -0.0009460449 -0.0071411133 -0.026367188 0.061767578 -0.016967773 -0.021728516 -0.119140625 0.009094238 0.103027344 -0.0030059814 0.14941406 0.10595703 -0.040283203 -0.018432617 0.035888672 -0.038085938 0.056884766 0.015319824 0.01977539 0.18066406 0.008178711 -0.15136719 0.032226562 0.15722656 0.05078125 -0.028930664 0.043945312 -0.05859375 0.0030975342 -0.012634277 0.16113281 0.10595703 -0.033935547 0.18164062 -0.044677734 0.034179688 -0.037841797 -0.008850098 -0.036865234 0.07861328 0.02709961 0.046142578 0.068847656 0.05053711 -0.0017471313 -0.13671875 -0.15332031 0.09863281 -0.16113281 0.0066223145 -0.0859375 -0.017578125 0.040771484 0.029907227 0.011413574 -0.020263672 -0.064453125 0.017456055 -0.12890625 -0.00034713745 0.042236328 0.0032958984 0.122558594 -0.095703125 0.092285156 0.10498047 -0.12451172 0.035888672 0.14550781 -0.10546875 0.022949219 -0.008361816 0.004638672 0.21972656 -0.049560547 0.23828125 -0.05834961 0.048339844 0.060546875 -0.037353516 -0.17773438 0.044921875 -0.042236328 0.08251953 0.11035156 -0.109375 0.09423828 -0.072265625 0.049072266 -0.15820312 0.078125 0.029541016 -0.12109375 0.026855469 -0.027954102 0.030883789 0.040527344 -0.13085938 0.08300781 0.01574707 -0.11669922 -0.029418945 -0.07080078\n",
            "\n",
            "300\n",
            "300\n"
          ]
        }
      ],
      "source": [
        "# Exercise: Print the first 4 lines of the files that you downloaded.\n",
        "# What do you see?\n",
        "path = './googlenews.word2vec.300d.txt'\n",
        "\n",
        "# Show the first 4 lines of the file\n",
        "file = open(path, \"r\")\n",
        "for i in range(4):\n",
        "    print(file.readline())\n",
        "print(file.readline())\n",
        "\n",
        "\n",
        "# Check the no of embeddings for each line\n",
        "list_of_lists = []\n",
        "for line in file:\n",
        "  stripped_line = line.strip()\n",
        "  line_list = stripped_line.split()\n",
        "  list_of_lists.append(line_list)\n",
        "\n",
        "file.close()\n",
        "\n",
        "print(len(list_of_lists[0][1:]))\n",
        "print(len(list_of_lists[15][1:]))\n",
        "\n"
      ]
    },
    {
      "cell_type": "markdown",
      "metadata": {
        "id": "WIVCkUkE_IjR"
      },
      "source": [
        "#### Exercise: New Vocabulary\n",
        "\n",
        "Since we now use pre-trained word embeddings, we need to create a new vocabulary. \n",
        "This is because of two reasons:\n",
        "\n",
        "1. We do not have pre-trained word embeddings for all words in our SST training set, and we do not want words in our vocabulary for which we have no word embeddings.\n",
        "2. We should be able to look up the pre-trained word embedding for words in the validation and test set, even if these words are unseen in training. \n",
        "\n",
        "Now, create a new vocabulary object `v` based on the word set of pre-trained embeddings, and load the corresponding embeddings into a list `vectors`.\n",
        "\n",
        "The vocabulary `v` should consist of:\n",
        " - a  `<unk>` token at position 0,\n",
        " - a  `<pad>` token at position 1, \n",
        " - and then all words in the pre-trained embedding set.\n",
        " \n",
        "\n",
        "After storing each vector in a list `vectors`, turn the list into a numpy matrix like this:\n",
        "```python\n",
        " vectors = np.stack(vectors, axis=0)\n",
        "```\n",
        "\n",
        "Remember to add new embeddings for the `<unk>` and `<pad>` tokens, as they're not part of the word2vec/GloVe embeddings. These embeddings can be randomly initialized or 0-valued, think about what makes sense and see what the effects are.\n",
        " "
      ]
    },
    {
      "cell_type": "code",
      "execution_count": 55,
      "metadata": {
        "colab": {
          "base_uri": "https://localhost:8080/"
        },
        "id": "ITyyCvDnCL4U",
        "outputId": "10a1b3aa-8376-4e11-9a3d-cff6ead8d6f4"
      },
      "outputs": [
        {
          "output_type": "stream",
          "name": "stdout",
          "text": [
            "18922\n",
            "(18922, 300)\n",
            "Vocabulary size:  18922\n",
            "Shape of vector:  (18922, 300)\n",
            "{'<unk>': 0, '<pad>': 1, 'in': 2, 'for': 3, 'that': 4, 'is': 5, 'on': 6, 'The': 7, 'with': 8, 'said': 9, 'was': 10, 'the': 11, 'at': 12, 'not': 13, 'as': 14, 'it': 15, 'be': 16, 'from': 17, 'by': 18, 'are': 19, 'I': 20, 'have': 21, 'he': 22, 'will': 23, 'has': 24, 'his': 25, 'an': 26, 'this': 27, 'or': 28, 'their': 29, 'who': 30, 'they': 31, 'but': 32, '$': 33, 'had': 34, 'year': 35, 'were': 36, 'we': 37, 'more': 38, 'up': 39, 'been': 40, 'you': 41, 'its': 42, 'one': 43, 'about': 44, 'would': 45, 'which': 46, 'out': 47, 'can': 48, 'It': 49, 'all': 50, 'also': 51, 'two': 52, 'after': 53, 'first': 54, 'He': 55, 'do': 56, 'time': 57, 'than': 58, 'when': 59, 'We': 60, 'over': 61, 'last': 62, 'new': 63, 'other': 64, 'her': 65, 'people': 66, 'into': 67, 'In': 68, 'our': 69, 'there': 70, 'A': 71, 'she': 72, 'could': 73, 'just': 74, 'years': 75, 'some': 76, 'U.S.': 77, 'three': 78, 'million': 79, 'them': 80, 'what': 81, 'But': 82, 'so': 83, 'no': 84, 'like': 85, 'if': 86, 'only': 87, 'get': 88, 'did': 89, 'him': 90, 'game': 91, 'back': 92, 'because': 93, 'now': 94, 'before': 95, 'company': 96, 'any': 97, 'team': 98, 'against': 99, 'off': 100, 'This': 101, 'most': 102, 'made': 103, 'through': 104, 'make': 105, 'second': 106, 'state': 107, 'well': 108, 'day': 109, 'season': 110, 'says': 111, 'week': 112, 'where': 113, 'while': 114, 'down': 115, 'being': 116, 'government': 117, 'your': 118, 'home': 119, 'going': 120, 'my': 121, 'good': 122, 'They': 123, \"'re\": 124, 'should': 125, 'many': 126, 'way': 127, 'those': 128, 'four': 129, 'during': 130, 'such': 131, 'may': 132, 'very': 133, 'how': 134, 'since': 135, 'work': 136, 'take': 137, 'including': 138, 'high': 139, 'then': 140, '%': 141, 'next': 142, 'By': 143, 'much': 144, 'still': 145, 'go': 146, 'think': 147, 'old': 148, 'even': 149, 'world': 150, 'see': 151, 'say': 152, 'business': 153, 'five': 154, 'told': 155, 'under': 156, 'us': 157, '1': 158, 'these': 159, 'If': 160, 'right': 161, 'And': 162, 'me': 163, 'between': 164, 'play': 165, 'help': 166, 'market': 167, 'That': 168, 'know': 169, 'end': 170, 'long': 171, 'information': 172, 'points': 173, 'does': 174, 'both': 175, 'There': 176, 'part': 177, 'around': 178, 'police': 179, 'want': 180, \"'ve\": 181, 'based': 182, 'For': 183, 'got': 184, 'third': 185, 'school': 186, 'left': 187, 'another': 188, 'country': 189, 'need': 190, '2': 191, 'best': 192, 'win': 193, 'quarter': 194, 'use': 195, 'today': 196, 'same': 197, 'public': 198, 'run': 199, 'Friday': 200, 'set': 201, 'month': 202, 'top': 203, 'come': 204, 'Monday': 205, 'She': 206, 'city': 207, 'place': 208, 'night': 209, 'six': 210, 'each': 211, 'Wednesday': 212, 'here': 213, 'You': 214, 'group': 215, 'really': 216, 'found': 217, 'As': 218, 'used': 219, '3': 220, 'lot': 221, \"'m\": 222, 'money': 223, 'put': 224, 'games': 225, 'support': 226, 'program': 227, 'half': 228, 'report': 229, 'family': 230, 'months': 231, 'number': 232, 'am': 233, 'former': 234, 'own': 235, 'man': 236, 'Saturday': 237, 'too': 238, 'better': 239, 'days': 240, 'came': 241, 'lead': 242, 'life': 243, 'American': 244, 'show': 245, 'past': 246, 'took': 247, 'added': 248, 'expected': 249, 'called': 250, 'great': 251, 'State': 252, 'services': 253, 'children': 254, 'hit': 255, 'area': 256, 'system': 257, 'every': 258, 'big': 259, 'service': 260, 'few': 261, 'per': 262, 'members': 263, 'Sunday': 264, 'early': 265, 'point': 266, 'start': 267, 'little': 268, '&': 269, 'case': 270, 'ago': 271, 'local': 272, 'according': 273, 'never': 274, '5': 275, 'without': 276, 'sales': 277, 'until': 278, 'went': 279, 'players': 280, 'won': 281, 'financial': 282, 'news': 283, '4': 284, 'When': 285, 'share': 286, 'several': 287, 'free': 288, 'away': 289, 'already': 290, 'On': 291, 'industry': 292, \"'ll\": 293, 'call': 294, 'With': 295, 'students': 296, 'line': 297, 'available': 298, 'County': 299, 'making': 300, 'held': 301, 'final': 302, 'power': 303, 'plan': 304, 'might': 305, 'least': 306, 'look': 307, 'forward': 308, 'give': 309, 'At': 310, 'again': 311, 'later': 312, 'full': 313, 'must': 314, 'things': 315, 'major': 316, 'community': 317, 'open': 318, 'record': 319, 'reported': 320, 'court': 321, 'working': 322, 'able': 323, 'something': 324, 'president': 325, 'meeting': 326, 'keep': 327, 'future': 328, 'far': 329, 'deal': 330, 'City': 331, 'May': 332, 'development': 333, 'find': 334, 'times': 335, 'After': 336, 'office': 337, 'led': 338, 'among': 339, 'June': 340, 'increase': 341, 'China': 342, 'John': 343, 'whether': 344, 'cost': 345, 'security': 346, 'job': 347, 'less': 348, 'head': 349, 'seven': 350, 'growth': 351, 'lost': 352, 'pay': 353, 'looking': 354, 'provide': 355, '6': 356, 'To': 357, 'plans': 358, 'products': 359, 'car': 360, 'recent': 361, 'hard': 362, 'always': 363, 'include': 364, 'women': 365, 'across': 366, 'tax': 367, 'water': 368, 'April': 369, 'continue': 370, 'important': 371, 'different': 372, 'close': 373, '7': 374, 'One': 375, 'late': 376, 'decision': 377, 'current': 378, 'law': 379, 'within': 380, 'along': 381, 'played': 382, 'move': 383, 'enough': 384, 'become': 385, 'side': 386, 'national': 387, 'Inc.': 388, 'results': 389, 'level': 390, 'loss': 391, 'economic': 392, 'near': 393, 'getting': 394, 'price': 395, 'Department': 396, 'event': 397, 'fourth': 398, 'change': 399, 'All': 400, 'small': 401, 'board': 402, 'National': 403, 'So': 404, 'goal': 405, 'taken': 406, 'field': 407, 'weeks': 408, 'men': 409, 'asked': 410, 'eight': 411, 'shot': 412, 'New': 413, 'started': 414, 'director': 415, 'party': 416, 'done': 417, 'political': 418, 'minutes': 419, 'taking': 420, 'Company': 421, 'technology': 422, 'project': 423, 'center': 424, 'leading': 425, 'issue': 426, 'though': 427, 'having': 428, 'period': 429, 'likely': 430, 'scored': 431, '8': 432, 'strong': 433, 'series': 434, 'military': 435, 'seen': 436, 'trying': 437, 'What': 438, 'coming': 439, 'process': 440, 'building': 441, 'behind': 442, 'performance': 443, 'saying': 444, 'earlier': 445, 'believe': 446, 'oil': 447, 'given': 448, 'Police': 449, 'customers': 450, 'due': 451, 'following': 452, 'term': 453, 'others': 454, 'statement': 455, 'international': 456, 'economy': 457, 'health': 458, 'thing': 459, 'return': 460, 'killed': 461, 'Washington': 462, 'further': 463, 'However': 464, 'doing': 465, 'face': 466, 'low': 467, 'higher': 468, 'once': 469, 'yet': 470, 'hours': 471, 'America': 472, 'control': 473, 'received': 474, 'rate': 475, 'career': 476, 'Bush': 477, 'teams': 478, 'known': 479, 'offer': 480, 'race': 481, 'ever': 482, 'experience': 483, 'playing': 484, 'name': 485, 'possible': 486, 'Mr.': 487, 'average': 488, 'together': 489, 'using': 490, '9': 491, 'cut': 492, 'While': 493, 'total': 494, 'round': 495, 'young': 496, 'nearly': 497, 'shares': 498, 'member': 499, 'campaign': 500, 'media': 501, 'needs': 502, 'why': 503, 'house': 504, 'issues': 505, 'costs': 506, 'fire': 507, 'player': 508, 'began': 509, 'sure': 510, 'story': 511, 'North': 512, 'His': 513, 'order': 514, 'war': 515, 'large': 516, 'interest': 517, 'stock': 518, 'food': 519, 'research': 520, 'key': 521, 'India': 522, 'South': 523, 'morning': 524, 'senior': 525, 'Center': 526, 'death': 527, 'person': 528, 'thought': 529, 'gave': 530, 'feel': 531, 'energy': 532, 'history': 533, 'recently': 534, 'No.': 535, 'general': 536, 'official': 537, 'released': 538, 'wanted': 539, 'meet': 540, 'short': 541, 'outside': 542, 'running': 543, 'live': 544, 'ball': 545, 'online': 546, 'real': 547, 'position': 548, 'fact': 549, 'fell': 550, 'nine': 551, 'front': 552, 'action': 553, 'defense': 554, 'problem': 555, 'problems': 556, 'Mr': 557, 'nation': 558, 'needed': 559, 'special': 560, 'January': 561, 'almost': 562, 'chance': 563, \"'d\": 564, 'result': 565, 'West': 566, 'September': 567, 'reports': 568, 'leader': 569, 'investment': 570, 'yesterday': 571, 'Some': 572, 'ahead': 573, 'production': 574, 'comes': 575, 'No': 576, 'runs': 577, 'match': 578, 'role': 579, 'kind': 580, 'try': 581, 'ended': 582, 'risk': 583, 'areas': 584, 'election': 585, 'workers': 586, 'visit': 587, 'bring': 588, 'road': 589, 'music': 590, 'study': 591, 'makes': 592, 'often': 593, 'release': 594, 'woman': 595, 'vote': 596, 'care': 597, 'town': 598, 'clear': 599, 'comment': 600, 'budget': 601, 'potential': 602, 'single': 603, 'markets': 604, 'policy': 605, 'saw': 606, 'access': 607, 'weekend': 608, 'whose': 609, 'net': 610, 'House': 611, 'hand': 612, 'charges': 613, 'winning': 614, 'trade': 615, 'These': 616, 'value': 617, 'involved': 618, 'Bank': 619, 'bill': 620, 'compared': 621, 'anything': 622, 'manager': 623, 'Texas': 624, 'property': 625, 'stop': 626, 'annual': 627, 'private': 628, 'contract': 629, 'died': 630, 'Now': 631, 'hope': 632, 'product': 633, 'fans': 634, 'lower': 635, 'demand': 636, 'News': 637, 'David': 638, 'club': 639, 'comments': 640, 'film': 641, 'quality': 642, 'currently': 643, 'events': 644, 'addition': 645, 'couple': 646, 'schools': 647, 'attack': 648, 'region': 649, 'latest': 650, 'opportunity': 651, 'worked': 652, 'course': 653, 'bad': 654, 'fall': 655, 'Group': 656, 'list': 657, 'let': 658, 'however': 659, 'chief': 660, 'summer': 661, 'programs': 662, 'According': 663, 'Our': 664, 'previous': 665, 'TV': 666, 'football': 667, 'biggest': 668, 'changes': 669, 'residents': 670, 'means': 671, 'agreement': 672, 'includes': 673, 'post': 674, 'Canada': 675, 'probably': 676, 'related': 677, 'training': 678, 'allowed': 679, 'class': 680, 'bit': 681, 'video': 682, 'Michael': 683, 'An': 684, 'sent': 685, 'education': 686, 'states': 687, 'straight': 688, 'love': 689, 'beat': 690, 'hold': 691, 'turn': 692, 'finished': 693, 'network': 694, 'Smith': 695, 'buy': 696, 'foreign': 697, 'especially': 698, 'groups': 699, 'wants': 700, 'title': 701, 'included': 702, 'turned': 703, 'bank': 704, 'efforts': 705, 'personal': 706, 'businesses': 707, 'August': 708, 'California': 709, 'situation': 710, 'allow': 711, 'helped': 712, 'body': 713, 'nothing': 714, 'soon': 715, 'officer': 716, 'Europe': 717, 'St.': 718, 'additional': 719, 'wife': 720, 'showed': 721, 'leave': 722, 'parents': 723, 'medical': 724, 'spending': 725, 'London': 726, 'matter': 727, 'spent': 728, 'child': 729, 'World': 730, 'effort': 731, 'opening': 732, 'either': 733, 'range': 734, 'question': 735, 'European': 736, 'goals': 737, 'administration': 738, 'friends': 739, 'himself': 740, 'shows': 741, 'difficult': 742, 'kids': 743, 'paid': 744, 'create': 745, 'cash': 746, 'age': 747, 'league': 748, 'form': 749, 'impact': 750, 'drive': 751, 'someone': 752, 'became': 753, 'stay': 754, 'fight': 755, 'significant': 756, 'hospital': 757, 'charged': 758, 'operating': 759, 'main': 760, 'book': 761, 'success': 762, 'son': 763, 'trading': 764, 'focus': 765, 'room': 766, 'continued': 767, 'everything': 768, 'Park': 769, 'agency': 770, 'brought': 771, 'talk': 772, 'break': 773, 'air': 774, 'software': 775, 'decided': 776, 'Do': 777, 'ready': 778, 'arrested': 779, 'track': 780, 'provides': 781, 'mother': 782, 'base': 783, 'trial': 784, 'phone': 785, 'My': 786, 'build': 787, 'conditions': 788, 'rest': 789, 'Johnson': 790, 'terms': 791, 'expect': 792, 'England': 793, 'Israel': 794, 'despite': 795, 'closed': 796, 'starting': 797, 'provided': 798, 'pressure': 799, 'lives': 800, 'step': 801, 'remain': 802, 'similar': 803, 'charge': 804, 'date': 805, 'whole': 806, 'land': 807, 'growing': 808, 'James': 809, 'Internet': 810, 'projects': 811, 'British': 812, 'cases': 813, 'ground': 814, 'legal': 815, 'agreed': 816, 'tell': 817, 'test': 818, 'everyone': 819, 'pretty': 820, 'Two': 821, 'above': 822, 'moved': 823, 'profit': 824, 'throughout': 825, 'inside': 826, 'ability': 827, 'overall': 828, 'pass': 829, 'rather': 830, 'Australia': 831, 'actually': 832, 'amount': 833, 'themselves': 834, 'giving': 835, 'credit': 836, 'father': 837, 'drug': 838, 'investigation': 839, 'families': 840, 'takes': 841, 'Japan': 842, 'complete': 843, 'sold': 844, 'practice': 845, 'calls': 846, 'UK': 847, 'force': 848, 'student': 849, 'idea': 850, 'reached': 851, 'reason': 852, 'levels': 853, 'space': 854, 'competition': 855, 'forces': 856, 'Last': 857, 'tried': 858, 'common': 859, 'homes': 860, 'stage': 861, 'department': 862, 'named': 863, 'offers': 864, 'star': 865, 'certain': 866, 'double': 867, 'longer': 868, 'followed': 869, 'cause': 870, 'Association': 871, 'hour': 872, 'college': 873, 'Iran': 874, 'sign': 875, 'living': 876, 'failed': 877, 'reach': 878, 'quickly': 879, 'receive': 880, 'debt': 881, 'sale': 882, 'Americans': 883, 'Road': 884, 'Brown': 885, 'insurance': 886, 'anyone': 887, 'More': 888, 'gas': 889, 'talks': 890, 'serious': 891, 'required': 892, 'sell': 893, 'construction': 894, 'evidence': 895, 'remains': 896, 'black': 897, 'below': 898, 'improve': 899, 'crisis': 900, 'address': 901, 'questions': 902, 'easy': 903, 'begin': 904, 'view': 905, 'School': 906, 'heard': 907, 'executive': 908, 'raised': 909, 'Paul': 910, 'store': 911, 'gets': 912, 'huge': 913, 'moving': 914, 'seems': 915, 'met': 916, 'thousands': 917, 'CEO': 918, 'solutions': 919, 'score': 920, 'content': 921, 'treatment': 922, 'offered': 923, 'built': 924, 'hits': 925, 'present': 926, 'Chicago': 927, 'attacks': 928, 'although': 929, 'social': 930, 'afternoon': 931, 'vehicle': 932, 'read': 933, 'example': 934, 'rise': 935, 'minute': 936, 'rates': 937, 'tough': 938, 'Chinese': 939, 'Even': 940, 'works': 941, 'fifth': 942, 'knew': 943, 'felt': 944, 'Street': 945, 'website': 946, 'immediately': 947, 'opened': 948, 'goes': 949, 'happy': 950, 'guys': 951, 'response': 952, 'numbers': 953, 'benefits': 954, 'happened': 955, 'light': 956, 'positive': 957, 'claims': 958, 'People': 959, 'details': 960, 'Williams': 961, 'East': 962, 'accused': 963, 'equipment': 964, 'dropped': 965, 'dollars': 966, 'various': 967, 'worth': 968, 'judge': 969, 'considered': 970, 'commercial': 971, 'activities': 972, 'dollar': 973, 'plant': 974, 'television': 975, 'rules': 976, 'rights': 977, 'review': 978, 'quite': 979, 'regular': 980, 'Dr.': 981, 'served': 982, 'kept': 983, 'marketing': 984, 'created': 985, 'heart': 986, 'wrote': 987, 'prison': 988, 'instead': 989, 'concerns': 990, 'offering': 991, 'returned': 992, 'benefit': 993, 'designed': 994, 'foot': 995, 'search': 996, 'miles': 997, 'planned': 998, 'driving': 999, 'Indian': 1000, 'entire': 1001, 'First': 1002, 'providing': 1003, 'host': 1004, 'ask': 1005, 'design': 1006, 'hearing': 1007, 'save': 1008, 'looked': 1009, 'travel': 1010, 'successful': 1011, 'beginning': 1012, 'movie': 1013, 'adding': 1014, 'forced': 1015, 'toward': 1016, 'ensure': 1017, 'passed': 1018, 'unit': 1019, 'happen': 1020, 'mean': 1021, 'Many': 1022, 'shooting': 1023, 'gone': 1024, 'winner': 1025, 'hopes': 1026, 'understand': 1027, 'planning': 1028, 'trip': 1029, 'raise': 1030, 'popular': 1031, 'completed': 1032, 'ways': 1033, 'attention': 1034, 'feet': 1035, 'assets': 1036, 'traffic': 1037, 'Mike': 1038, 'Since': 1039, 'environment': 1040, 'Both': 1041, 'interview': 1042, 'consumers': 1043, 'Jones': 1044, 'Not': 1045, 'hands': 1046, 'contact': 1047, 'cars': 1048, 'Although': 1049, 'dead': 1050, 'features': 1051, 'challenge': 1052, 'Canadian': 1053, 'particularly': 1054, 'basis': 1055, 'violence': 1056, 'stand': 1057, 'sense': 1058, 'driver': 1059, 'highest': 1060, 'finish': 1061, 'limited': 1062, 'source': 1063, 'Hall': 1064, 'serve': 1065, 'Sept.': 1066, 'spot': 1067, 'Then': 1068, 'advantage': 1069, 'scoring': 1070, 'words': 1071, 'Russia': 1072, 'reduce': 1073, 'How': 1074, 'white': 1075, 'appeared': 1076, 'itself': 1077, 'fuel': 1078, 'During': 1079, 'simply': 1080, 'Jackson': 1081, 'plays': 1082, 'account': 1083, 'follow': 1084, 'statements': 1085, 'pick': 1086, 'continues': 1087, 'session': 1088, 'nuclear': 1089, 'French': 1090, 'seconds': 1091, 'daughter': 1092, 'co': 1093, 'sports': 1094, 'Most': 1095, 'caused': 1096, 'United': 1097, 'effect': 1098, 'selling': 1099, 'middle': 1100, 'cuts': 1101, 'drop': 1102, 'true': 1103, 'target': 1104, 'consider': 1105, 'watch': 1106, 'Other': 1107, 'resources': 1108, 'opportunities': 1109, 'strategy': 1110, 'learn': 1111, 're': 1112, 'Mexico': 1113, 'message': 1114, 'injured': 1115, 'parties': 1116, 'seeking': 1117, 'missed': 1118, 'wrong': 1119, 'letter': 1120, 'From': 1121, 'looks': 1122, 'individual': 1123, 'approach': 1124, 'damage': 1125, 'else': 1126, 'speed': 1127, 'France': 1128, 'mind': 1129, 'bid': 1130, 'subject': 1131, 'ran': 1132, 'send': 1133, 'Mark': 1134, 'existing': 1135, 'fun': 1136, 'press': 1137, 'championship': 1138, 'leaving': 1139, 'earned': 1140, 'effective': 1141, 'poor': 1142, 'friend': 1143, 'solution': 1144, 'corporate': 1145, 'independent': 1146, 'human': 1147, 'shots': 1148, 'believes': 1149, 'computer': 1150, 's': 1151, 'items': 1152, 'confidence': 1153, 'add': 1154, 'award': 1155, 'parts': 1156, 'cover': 1157, 'missing': 1158, 'fast': 1159, 'Iraqi': 1160, 'incident': 1161, 'husband': 1162, 'responsible': 1163, 'losses': 1164, 'guy': 1165, 'Australian': 1166, 'helping': 1167, 'finally': 1168, 'spend': 1169, 'scene': 1170, 'develop': 1171, 'certainly': 1172, 'extra': 1173, 'UN': 1174, 'talking': 1175, 'spring': 1176, 'emergency': 1177, 'station': 1178, 'check': 1179, 'Chris': 1180, 'soldiers': 1181, 'vehicles': 1182, 'launch': 1183, 'Business': 1184, 'critical': 1185, 'professional': 1186, 'described': 1187, 'choice': 1188, 'moment': 1189, 'size': 1190, 'changed': 1191, 'holding': 1192, 'door': 1193, 'R': 1194, 'condition': 1195, 'lose': 1196, 'joined': 1197, 'gives': 1198, 'developed': 1199, 'protect': 1200, 'girls': 1201, 'necessary': 1202, 'taxes': 1203, 'sites': 1204, 'Day': 1205, 'beyond': 1206, 'African': 1207, 'daily': 1208, 'yard': 1209, 'calling': 1210, 'Those': 1211, 'options': 1212, 'peace': 1213, 'previously': 1214, 'owned': 1215, 'Thomas': 1216, 'hear': 1217, 'housing': 1218, 'owners': 1219, 'exchange': 1220, 'majority': 1221, 'starts': 1222, 'victims': 1223, 'Times': 1224, 'model': 1225, 'struck': 1226, 'tour': 1227, 'basketball': 1228, 'published': 1229, 'twice': 1230, 'population': 1231, 'evening': 1232, 'lack': 1233, 'fighting': 1234, 'reporters': 1235, 'concerned': 1236, 'fine': 1237, 'weather': 1238, 'figures': 1239, 'floor': 1240, 'relationship': 1241, 'activity': 1242, 'remaining': 1243, 'believed': 1244, 'Scott': 1245, 'placed': 1246, 'caught': 1247, 'crime': 1248, 'crowd': 1249, 'appear': 1250, 'version': 1251, 'Western': 1252, 'Boston': 1253, 'girl': 1254, 'join': 1255, 'discuss': 1256, 'church': 1257, 'original': 1258, 'aid': 1259, 'expectations': 1260, 'Bill': 1261, 'clients': 1262, 'Germany': 1263, 'Israeli': 1264, 'gold': 1265, 'killing': 1266, 'specific': 1267, 'Robert': 1268, 'act': 1269, 'partner': 1270, 'losing': 1271, 'claim': 1272, 'records': 1273, 'offense': 1274, 'Just': 1275, 'alone': 1276, 'Another': 1277, 'division': 1278, 'retail': 1279, 'worst': 1280, 'page': 1281, 'Lee': 1282, 'measures': 1283, 'brand': 1284, 'expects': 1285, 'art': 1286, 'standards': 1287, 'central': 1288, 'safe': 1289, 'style': 1290, '*': 1291, 'primary': 1292, 'greater': 1293, 'progress': 1294, 'managed': 1295, 'supply': 1296, 'gain': 1297, 'prior': 1298, 'wins': 1299, 'recovery': 1300, 'upon': 1301, 'plus': 1302, 'type': 1303, 'paper': 1304, 'attempt': 1305, 'High': 1306, 'focused': 1307, 'injuries': 1308, 'street': 1309, 'stores': 1310, 'block': 1311, 'Big': 1312, 'allows': 1313, 'hundreds': 1314, 'avoid': 1315, 'figure': 1316, 'band': 1317, 'option': 1318, 'lines': 1319, 'sources': 1320, 'domestic': 1321, 'knows': 1322, 'seem': 1323, 'feature': 1324, 'walk': 1325, 'broke': 1326, 'factors': 1327, 'battle': 1328, 'developing': 1329, 'threat': 1330, 'written': 1331, 'Christmas': 1332, 'committed': 1333, 'green': 1334, 'improved': 1335, 'traditional': 1336, 'fair': 1337, 'border': 1338, 'About': 1339, 'concern': 1340, 'mark': 1341, 'allowing': 1342, 'capacity': 1343, 'putting': 1344, 'appears': 1345, 'stories': 1346, 'grow': 1347, 'unique': 1348, 'favorite': 1349, 'nice': 1350, 'measure': 1351, 'debate': 1352, 'direct': 1353, 'stopped': 1354, 'drugs': 1355, 'tied': 1356, 'rising': 1357, 'risks': 1358, 'League': 1359, 'Despite': 1360, 'mid': 1361, 'arrived': 1362, 'increasing': 1363, 'presented': 1364, 'Her': 1365, 'boy': 1366, 'standard': 1367, 'prevent': 1368, 'mission': 1369, 'deep': 1370, 'word': 1371, 'pulled': 1372, 'difference': 1373, 'pair': 1374, 'suffered': 1375, 'perfect': 1376, 'advanced': 1377, 'prepared': 1378, 'fully': 1379, 'blood': 1380, 'signs': 1381, 'showing': 1382, 'English': 1383, 'interested': 1384, 'material': 1385, 'bottom': 1386, 'answer': 1387, 'D': 1388, 'George': 1389, 'usually': 1390, 'wait': 1391, 'Davis': 1392, 'laws': 1393, 'units': 1394, 'directly': 1395, 'particular': 1396, 'baseball': 1397, 'pre': 1398, 'born': 1399, 'affected': 1400, 'waiting': 1401, 'simple': 1402, 'Martin': 1403, 'picked': 1404, 'faces': 1405, 'Russian': 1406, 'names': 1407, 'generation': 1408, 'responsibility': 1409, 'combined': 1410, 'audience': 1411, 'hurt': 1412, 'seemed': 1413, 'red': 1414, 'candidate': 1415, 'Under': 1416, 'cities': 1417, 'places': 1418, 'Green': 1419, 'speak': 1420, 'strike': 1421, 'documents': 1422, 'Year': 1423, 'sometimes': 1424, 'King': 1425, 'via': 1426, 'carry': 1427, 'boys': 1428, 'facing': 1429, 'learned': 1430, 'hotel': 1431, 'produced': 1432, 'seeing': 1433, 'seat': 1434, 'produce': 1435, 'millions': 1436, 'box': 1437, 'decisions': 1438, 'voice': 1439, 'respect': 1440, 'cancer': 1441, 'shown': 1442, 'decades': 1443, 'reasons': 1444, 'tonight': 1445, 'commitment': 1446, 'alleged': 1447, 'competitive': 1448, 'Miller': 1449, 'individuals': 1450, 'thinking': 1451, 'established': 1452, 'books': 1453, 'deliver': 1454, 'remained': 1455, 'guard': 1456, 'God': 1457, 'appeal': 1458, 'digital': 1459, 'ordered': 1460, 'speech': 1461, 'push': 1462, 'highly': 1463, 'decline': 1464, 'holiday': 1465, 'self': 1466, 'Three': 1467, 'accident': 1468, 'radio': 1469, 'require': 1470, 'murder': 1471, 'wide': 1472, 'park': 1473, 'Their': 1474, 'champion': 1475, 'pleased': 1476, 'heavy': 1477, 'eventually': 1478, 'crash': 1479, 'hot': 1480, 'serving': 1481, 'asking': 1482, 'keeping': 1483, 'partners': 1484, 'remember': 1485, 'seek': 1486, 'teachers': 1487, 'towards': 1488, 'buying': 1489, 'warned': 1490, 'Steve': 1491, 'initial': 1492, 'pounds': 1493, 'brother': 1494, 'becoming': 1495, 'entered': 1496, 'sides': 1497, 'victim': 1498, 'setting': 1499, 'Co.': 1500, 'environmental': 1501, 'bus': 1502, 'Is': 1503, 'Asia': 1504, 'note': 1505, 'carried': 1506, 'older': 1507, 'criminal': 1508, 'Richard': 1509, 'bought': 1510, 'Georgia': 1511, 'decade': 1512, 'clean': 1513, 'penalty': 1514, 'boost': 1515, 'separate': 1516, 'enjoy': 1517, 'table': 1518, 'analysis': 1519, 'Japanese': 1520, 'German': 1521, 'skills': 1522, 'jail': 1523, 'Valley': 1524, 'mostly': 1525, 'paying': 1526, 'draw': 1527, 'Director': 1528, 'Taylor': 1529, 'perhaps': 1530, 'reading': 1531, 'cross': 1532, 'presence': 1533, 'meetings': 1534, 'strength': 1535, 'Of': 1536, 'delivery': 1537, 'location': 1538, 'positions': 1539, 'regarding': 1540, 'hoping': 1541, 'Ryan': 1542, 'offensive': 1543, 'spread': 1544, 'White': 1545, 'whom': 1546, 'deficit': 1547, 'powerful': 1548, 'Club': 1549, 'continuing': 1550, 'natural': 1551, 'revealed': 1552, 'feeling': 1553, 'Jim': 1554, 'grew': 1555, 'watching': 1556, 'suggested': 1557, 'slow': 1558, 'challenges': 1559, 'Writer': 1560, 'larger': 1561, 'quick': 1562, 'definitely': 1563, 'flight': 1564, 'university': 1565, 'junior': 1566, 'ones': 1567, 'Apple': 1568, 'honor': 1569, 'solid': 1570, 'determine': 1571, 'reduced': 1572, 'fees': 1573, 'multiple': 1574, 'decide': 1575, 'language': 1576, 'expressed': 1577, 'steps': 1578, 'easily': 1579, 'bringing': 1580, 'physical': 1581, 'throw': 1582, 'schedule': 1583, 'denied': 1584, 'finding': 1585, 'Game': 1586, 'section': 1587, 'admitted': 1588, 'actions': 1589, 'normal': 1590, 'devices': 1591, 'Because': 1592, 'squad': 1593, 'creating': 1594, 'walked': 1595, 'streets': 1596, 'clearly': 1597, 'complex': 1598, 'lawyer': 1599, 'excited': 1600, 'helps': 1601, 'relief': 1602, 'determined': 1603, 'maybe': 1604, 'suspect': 1605, 'Hill': 1606, 'sound': 1607, 'piece': 1608, 'campus': 1609, 'southern': 1610, 'degree': 1611, 'smaller': 1612, 'status': 1613, 'headed': 1614, 'healthy': 1615, 'massive': 1616, 'testing': 1617, 'Why': 1618, 'completely': 1619, 'onto': 1620, 'hitting': 1621, 'closing': 1622, 'fresh': 1623, 'winter': 1624, 'Tom': 1625, 'contest': 1626, 'outstanding': 1627, 'exactly': 1628, 'Joe': 1629, 'contributed': 1630, 'movement': 1631, 'storm': 1632, 'fear': 1633, 'weight': 1634, 'conducted': 1635, 'Over': 1636, 'maintain': 1637, 'rally': 1638, 'knowledge': 1639, 'recorded': 1640, 'assistant': 1641, 'proud': 1642, 'advice': 1643, 'Secretary': 1644, 'sex': 1645, 'Peter': 1646, 'refused': 1647, 'Miami': 1648, 'agent': 1649, 'draft': 1650, 'pitch': 1651, 'General': 1652, 'tie': 1653, 'Africa': 1654, 'sort': 1655, 'disease': 1656, 'tomorrow': 1657, 'core': 1658, 'willing': 1659, 'patient': 1660, 'Hospital': 1661, 'considering': 1662, 'Still': 1663, 'technical': 1664, 'trouble': 1665, 'Its': 1666, 'picture': 1667, 'extremely': 1668, 'confident': 1669, 'count': 1670, 'extended': 1671, 'Once': 1672, 'reality': 1673, 'expand': 1674, 'Christian': 1675, 'expansion': 1676, 'lived': 1677, 'Lake': 1678, 'Palestinian': 1679, 'downtown': 1680, 'doubt': 1681, 'nature': 1682, 'leads': 1683, 'opinion': 1684, 'River': 1685, 'row': 1686, 'fellow': 1687, 'corner': 1688, 'author': 1689, 'screen': 1690, 'faced': 1691, 'plants': 1692, 'arrest': 1693, 'society': 1694, 'character': 1695, 'labor': 1696, 'science': 1697, 'teacher': 1698, 'web': 1699, 'learning': 1700, 'raising': 1701, 'failure': 1702, 'airport': 1703, 'intelligence': 1704, 'zone': 1705, 'buildings': 1706, 'advance': 1707, 'fit': 1708, 'tickets': 1709, 'youth': 1710, 'variety': 1711, 'matches': 1712, 'defensive': 1713, 'package': 1714, 'connection': 1715, 'writing': 1716, 'ongoing': 1717, 'accept': 1718, 'Wilson': 1719, 'profile': 1720, 'ending': 1721, 'myself': 1722, 'stuff': 1723, 'standing': 1724, 'covered': 1725, 'Young': 1726, 'politics': 1727, 'aware': 1728, 'device': 1729, 'display': 1730, 'culture': 1731, 'train': 1732, 'driven': 1733, 'closer': 1734, 'illegal': 1735, 'meant': 1736, 'technologies': 1737, 'card': 1738, 'dog': 1739, 'enter': 1740, 'communications': 1741, 'gained': 1742, 'eye': 1743, 'associated': 1744, 'chances': 1745, 'Instead': 1746, 'centers': 1747, 'dangerous': 1748, 'views': 1749, 'worse': 1750, 'studies': 1751, 'discussion': 1752, 'pace': 1753, 'album': 1754, 'entertainment': 1755, 'camp': 1756, 'Before': 1757, 'trust': 1758, 'strategic': 1759, 'falling': 1760, 'favor': 1761, 'removed': 1762, 'army': 1763, 'balance': 1764, 'plane': 1765, 'banking': 1766, 'baby': 1767, 'truck': 1768, 'Ford': 1769, 'sought': 1770, 'write': 1771, 'partnership': 1772, 'image': 1773, 'stars': 1774, 'volume': 1775, 'effects': 1776, 'interests': 1777, 'Philadelphia': 1778, 'bond': 1779, 'introduced': 1780, 'sport': 1781, 'behavior': 1782, 'defeat': 1783, 'treated': 1784, 'direction': 1785, 'Only': 1786, 'bigger': 1787, 'crew': 1788, 'allegedly': 1789, 'uses': 1790, 'miss': 1791, 'Among': 1792, 'catch': 1793, 'appearance': 1794, 'welcome': 1795, 'experienced': 1796, 'ideas': 1797, 'Asian': 1798, 'authority': 1799, 'slightly': 1800, 'hole': 1801, 'achieve': 1802, 'Brian': 1803, 'delivered': 1804, 'compete': 1805, 'link': 1806, 'choose': 1807, 'possibility': 1808, 'interesting': 1809, 'seats': 1810, 'threw': 1811, 'Anderson': 1812, 'B': 1813, 'immediate': 1814, 'northern': 1815, 'license': 1816, 'discovered': 1817, 'prove': 1818, 'perform': 1819, 'governments': 1820, 'debut': 1821, 'researchers': 1822, 'Well': 1823, 'limit': 1824, 'eyes': 1825, 'deaths': 1826, 'Here': 1827, 'neighborhood': 1828, 'handed': 1829, 'veteran': 1830, 'alternative': 1831, 'basic': 1832, 'manage': 1833, 'tools': 1834, 'negative': 1835, 'Each': 1836, 'secretary': 1837, 'kill': 1838, 'receiving': 1839, 'Jr.': 1840, 'collection': 1841, 'returns': 1842, 'Black': 1843, 'gun': 1844, 'replace': 1845, 'fan': 1846, 'personnel': 1847, 'golf': 1848, 'happens': 1849, 'surprise': 1850, 'changing': 1851, 'kick': 1852, 'resolution': 1853, 'broken': 1854, 'plenty': 1855, 'nor': 1856, 'easier': 1857, 'passing': 1858, 'pain': 1859, 'Kevin': 1860, 'bar': 1861, 'Bob': 1862, 'everybody': 1863, 'talent': 1864, 'represent': 1865, 'unless': 1866, 'pull': 1867, 'cast': 1868, 'deals': 1869, 'grade': 1870, 'song': 1871, 'filled': 1872, 'wish': 1873, 'begins': 1874, 'affect': 1875, 'nations': 1876, 'Post': 1877, 'largely': 1878, 'apparently': 1879, 'NBA': 1880, 'recognized': 1881, 'speaking': 1882, 'shut': 1883, 'sit': 1884, 'profits': 1885, 'reporting': 1886, 'holds': 1887, 'represents': 1888, 'dozen': 1889, 'practices': 1890, 'declared': 1891, 'rich': 1892, 'thanks': 1893, 'supplies': 1894, 'convicted': 1895, 'native': 1896, 'Dallas': 1897, 'improvement': 1898, 'amid': 1899, 'classes': 1900, 'participate': 1901, 'jump': 1902, 'village': 1903, 'aircraft': 1904, 'abuse': 1905, 'carrying': 1906, 'east': 1907, 'pro': 1908, 'sitting': 1909, 'generally': 1910, 'notes': 1911, 'unable': 1912, 'ice': 1913, 'houses': 1914, 'stake': 1915, 'rain': 1916, 'warning': 1917, 'brings': 1918, 'discussed': 1919, 'adults': 1920, 'Spain': 1921, 'parking': 1922, 'Let': 1923, 'returning': 1924, 'orders': 1925, 'telling': 1926, 'encourage': 1927, 'Like': 1928, 'William': 1929, 'pushed': 1930, 'joint': 1931, 'suspended': 1932, 'wind': 1933, 'edge': 1934, 'roads': 1935, 'female': 1936, 'sentence': 1937, 'backed': 1938, 'eighth': 1939, 'influence': 1940, 'organized': 1941, 'Seattle': 1942, 'cold': 1943, 'bills': 1944, 'properties': 1945, 'scale': 1946, 'Your': 1947, 'rival': 1948, 'religious': 1949, 'possibly': 1950, 'turning': 1951, 'civil': 1952, 'moves': 1953, 'currency': 1954, 'aimed': 1955, 'Italy': 1956, 'breaking': 1957, 'awards': 1958, 'talked': 1959, 'wall': 1960, 'requires': 1961, 'Indiana': 1962, 'races': 1963, 'struggling': 1964, 'whatever': 1965, 'appointed': 1966, 'Matt': 1967, 'voting': 1968, 'Will': 1969, 'Home': 1970, 'significantly': 1971, 'heat': 1972, 'structure': 1973, 'transfer': 1974, 'supporting': 1975, 'trend': 1976, 'increasingly': 1977, 'otherwise': 1978, 'conflict': 1979, 'cutting': 1980, 'modern': 1981, 'wearing': 1982, 'executives': 1983, 'entry': 1984, 'Beijing': 1985, 'playoff': 1986, 'wireless': 1987, 'T': 1988, 'Fire': 1989, 'Every': 1990, 'M': 1991, 'meaning': 1992, 'intended': 1993, 'appropriate': 1994, 'excellent': 1995, 'involving': 1996, 'heads': 1997, 'rescue': 1998, 'walking': 1999, 'locations': 2000, 'materials': 2001, 'sending': 2002, 'bodies': 2003, 'snow': 2004, 'fish': 2005, 'feels': 2006, 'mile': 2007, 'Olympic': 2008, 'except': 2009, 'shop': 2010, 'Lewis': 2011, 'supposed': 2012, 'numerous': 2013, 'songs': 2014, 'awarded': 2015, 'sister': 2016, 'realize': 2017, 'understanding': 2018, 'ten': 2019, 'justice': 2020, 'rating': 2021, 'expensive': 2022, 'animals': 2023, 'Howard': 2024, 'dedicated': 2025, 'tight': 2026, 'lawyers': 2027, 'sets': 2028, 'stands': 2029, 'terrorism': 2030, 'arm': 2031, 'freedom': 2032, 'notice': 2033, 'touch': 2034, 'Women': 2035, 'exercise': 2036, 'disaster': 2037, 'electronic': 2038, 'combination': 2039, 'apply': 2040, 'shared': 2041, 'doctor': 2042, 'US': 2043, 'comprehensive': 2044, 'Andrew': 2045, 'earn': 2046, 'fill': 2047, 'rock': 2048, 'giant': 2049, 'please': 2050, 'suit': 2051, 'Life': 2052, 'exciting': 2053, 'winners': 2054, 'beating': 2055, 'Though': 2056, 'rejected': 2057, 'ticket': 2058, 'Church': 2059, 'Charles': 2060, 'ride': 2061, 'maker': 2062, 'heading': 2063, 'Yet': 2064, 'models': 2065, 'ends': 2066, 'Sports': 2067, 'innovative': 2068, 'upcoming': 2069, 'writer': 2070, 'performed': 2071, 'films': 2072, 'arms': 2073, 'married': 2074, 'agents': 2075, 'handle': 2076, 'duty': 2077, 'captain': 2078, 'employment': 2079, 'surprised': 2080, 'worried': 2081, 'ninth': 2082, 'pointed': 2083, 'magazine': 2084, 'threatened': 2085, 'Italian': 2086, 'participants': 2087, 'fly': 2088, 'Jordan': 2089, 'primarily': 2090, 'respectively': 2091, 'Spanish': 2092, 'younger': 2093, 'jury': 2094, 'respond': 2095, 'rural': 2096, 'acting': 2097, 'factor': 2098, 'update': 2099, 'island': 2100, 'Afghan': 2101, 'flat': 2102, 'photo': 2103, 'Mary': 2104, 'selection': 2105, 'impressive': 2106, 'becomes': 2107, 'P': 2108, 'indicated': 2109, 'Jeff': 2110, 'photos': 2111, 'professionals': 2112, 'fewer': 2113, 'shopping': 2114, 'split': 2115, 'Public': 2116, 'Moore': 2117, 'stretch': 2118, 'stronger': 2119, 'racing': 2120, 'Tennessee': 2121, 'none': 2122, 'values': 2123, 'farm': 2124, 'producer': 2125, 'reduction': 2126, 'famous': 2127, 'Brazil': 2128, 'broadcast': 2129, 'promised': 2130, 'Allen': 2131, 'acquired': 2132, 'goods': 2133, 'Paris': 2134, 'relatively': 2135, 'passes': 2136, 'purpose': 2137, 'movies': 2138, 'directors': 2139, 'Southern': 2140, 'clubs': 2141, 'conservative': 2142, 'Delhi': 2143, 'Call': 2144, 'comfortable': 2145, 'replaced': 2146, 'matters': 2147, 'hospitals': 2148, 'Hollywood': 2149, 'targets': 2150, 'suffering': 2151, 'festival': 2152, 'guilty': 2153, 'efficient': 2154, 'truly': 2155, 'faith': 2156, 'scores': 2157, 'busy': 2158, 'extend': 2159, 'faster': 2160, 'yourself': 2161, 'weak': 2162, 'rare': 2163, 'initially': 2164, 'importance': 2165, 'waste': 2166, 'suspected': 2167, 'margin': 2168, 'watched': 2169, 'Ireland': 2170, 'franchise': 2171, 'fashion': 2172, 'pound': 2173, 'professor': 2174, 'Alabama': 2175, 'grown': 2176, 'document': 2177, 'register': 2178, 'cable': 2179, 'obviously': 2180, 'familiar': 2181, 'scientists': 2182, 'Cleveland': 2183, 'artists': 2184, 'invited': 2185, 'vs.': 2186, 'crimes': 2187, 'prepare': 2188, 'cool': 2189, 'images': 2190, 'hired': 2191, 'enable': 2192, 'camera': 2193, 'Food': 2194, 'memory': 2195, 'historic': 2196, 'dinner': 2197, 'proved': 2198, 'sees': 2199, 'telephone': 2200, 'vision': 2201, 'reportedly': 2202, 'soccer': 2203, 'Irish': 2204, 'ship': 2205, 'path': 2206, 'actor': 2207, 'circumstances': 2208, 'severe': 2209, 'expert': 2210, 'engineering': 2211, 'Four': 2212, 'dance': 2213, 'Jason': 2214, 'Turkey': 2215, 'Several': 2216, 'bridge': 2217, 'counts': 2218, 'attempts': 2219, 'reflect': 2220, 'color': 2221, 'Tim': 2222, 'wounded': 2223, 'secret': 2224, 'greatest': 2225, 'leaves': 2226, 'types': 2227, 'worry': 2228, 'internal': 2229, 'adds': 2230, 'athletes': 2231, 'Harris': 2232, 'mix': 2233, 'signing': 2234, 'Woods': 2235, 'targeted': 2236, 'tells': 2237, 'Please': 2238, 'serves': 2239, 'lots': 2240, 'featured': 2241, 'marriage': 2242, 'contained': 2243, 'Man': 2244, 'terrorist': 2245, 'Commerce': 2246, 'unlikely': 2247, 'causing': 2248, 'directed': 2249, 'code': 2250, 'die': 2251, 'category': 2252, 'chosen': 2253, 'shift': 2254, 'Gaza': 2255, 'maintenance': 2256, 'apartment': 2257, 'theater': 2258, 'effectively': 2259, 'Denver': 2260, 'mine': 2261, 'upset': 2262, 'western': 2263, 'nationwide': 2264, 'thinks': 2265, 'Joseph': 2266, 'closely': 2267, 'friendly': 2268, 'channel': 2269, 'brain': 2270, 'barrel': 2271, 'afford': 2272, 'Who': 2273, 'Yes': 2274, 'dogs': 2275, 'dream': 2276, 'actual': 2277, 'reaching': 2278, 'boat': 2279, 'investigating': 2280, 'communication': 2281, 'freshman': 2282, 'surface': 2283, 'parent': 2284, 'eat': 2285, 'asset': 2286, 'truth': 2287, 'delay': 2288, 'enjoyed': 2289, 'shape': 2290, 'anticipated': 2291, 'representing': 2292, 'hoped': 2293, 'portion': 2294, 'opposed': 2295, 'enterprise': 2296, 'animal': 2297, 'controlled': 2298, 'Dan': 2299, 'cards': 2300, 'suggest': 2301, 'Family': 2302, 'concert': 2303, 'uncertainties': 2304, 'granted': 2305, 'beautiful': 2306, 'recognize': 2307, 'flights': 2308, 'absolutely': 2309, 'Hamilton': 2310, 'dealing': 2311, 'turns': 2312, 'ties': 2313, 'informed': 2314, 'Jack': 2315, 'window': 2316, 'Best': 2317, 'pool': 2318, 'titles': 2319, 'blue': 2320, 'amazing': 2321, 'fears': 2322, 'demands': 2323, 'behalf': 2324, 'bonds': 2325, 'shoulder': 2326, 'seriously': 2327, 'aggressive': 2328, 'alive': 2329, 'Utah': 2330, 'bomb': 2331, 'suspects': 2332, 'dark': 2333, 'sea': 2334, 'therefore': 2335, 'overtime': 2336, 'agenda': 2337, 'establish': 2338, 'engine': 2339, 'Program': 2340, 'mainly': 2341, 'maximum': 2342, 'male': 2343, 'pushing': 2344, 'principal': 2345, 'library': 2346, 'pieces': 2347, 'corruption': 2348, 'reserve': 2349, 'Children': 2350, 'reducing': 2351, 'originally': 2352, 'sharing': 2353, 'mixed': 2354, 'complaint': 2355, 'J.': 2356, 'realized': 2357, 'crucial': 2358, 'province': 2359, 'ultimately': 2360, 'distance': 2361, 'struggle': 2362, 'Or': 2363, 'judges': 2364, 'Maybe': 2365, 'extensive': 2366, 'Award': 2367, 'Giants': 2368, 'Jewish': 2369, 'Egypt': 2370, 'achieved': 2371, 'defeated': 2372, 'assault': 2373, 'worker': 2374, 'criticism': 2375, 'usual': 2376, 'presentation': 2377, 'Anthony': 2378, 'represented': 2379, 'Such': 2380, 'Any': 2381, 'findings': 2382, 'K': 2383, 'expense': 2384, 'Daniel': 2385, 'Dr': 2386, 'editor': 2387, 'herself': 2388, 'complaints': 2389, 'A.': 2390, 'mentioned': 2391, 'stayed': 2392, 'efficiency': 2393, 'democracy': 2394, 'connected': 2395, 'Q': 2396, 'terror': 2397, 'operates': 2398, 'Series': 2399, 'successfully': 2400, 'permanent': 2401, 'Tony': 2402, 'adult': 2403, 'ages': 2404, 'consistent': 2405, 'explain': 2406, 'formed': 2407, 'coast': 2408, 'broad': 2409, 'relevant': 2410, 'detailed': 2411, 'Iranian': 2412, 'letters': 2413, 'guess': 2414, 'internet': 2415, 'struggled': 2416, 'entering': 2417, 'widely': 2418, 'recovered': 2419, 'happening': 2420, 'par': 2421, 'II': 2422, 'colleagues': 2423, 'tool': 2424, 'trees': 2425, 'text': 2426, 'capable': 2427, 'Phoenix': 2428, 'limits': 2429, '#': 2430, 'expanded': 2431, 'Ms.': 2432, 'reputation': 2433, 'brief': 2434, 'motion': 2435, 'treat': 2436, 'gap': 2437, 'unemployment': 2438, 'ad': 2439, 'surrounding': 2440, 'stepped': 2441, 'drew': 2442, 'collected': 2443, 'wear': 2444, 'Chelsea': 2445, 'invest': 2446, 'Town': 2447, 'concept': 2448, 'recommended': 2449, 'flying': 2450, 'minimum': 2451, 'flow': 2452, 'resulted': 2453, 'marked': 2454, 'chain': 2455, 'combat': 2456, 'rookie': 2457, 'Stephen': 2458, 'performances': 2459, 'Gary': 2460, 'artist': 2461, 'celebrate': 2462, 'featuring': 2463, 'Star': 2464, 'potentially': 2465, 'PC': 2466, 'Kennedy': 2467, 'disappointed': 2468, 'pictures': 2469, 'fallen': 2470, 'depth': 2471, 'wonderful': 2472, 'essential': 2473, 'damaged': 2474, 'suggests': 2475, 'specifically': 2476, 'Scotland': 2477, 'Project': 2478, 'loved': 2479, 'dozens': 2480, 'typically': 2481, 'era': 2482, 'Stewart': 2483, 'singer': 2484, 'thus': 2485, 'creation': 2486, 'teaching': 2487, 'Sydney': 2488, 'acres': 2489, 'challenging': 2490, 'Northern': 2491, 'quarters': 2492, 'momentum': 2493, 'Dave': 2494, 'producing': 2495, 'segment': 2496, 'versus': 2497, 'route': 2498, 'Five': 2499, 'wing': 2500, 'promise': 2501, 'Are': 2502, 'integrated': 2503, 'neither': 2504, 'Robinson': 2505, 'Academy': 2506, 'puts': 2507, 'Press': 2508, 'foundation': 2509, 'overnight': 2510, 'armed': 2511, 'outcome': 2512, 'reaction': 2513, 'producers': 2514, 'follows': 2515, 'fields': 2516, 'stadium': 2517, 'Be': 2518, 'failing': 2519, 'aside': 2520, 'bed': 2521, 'doors': 2522, 'pilot': 2523, 'E': 2524, 'forms': 2525, 'extension': 2526, 'mass': 2527, 'substantial': 2528, 'carries': 2529, 'trained': 2530, 'contain': 2531, 'proven': 2532, 'violent': 2533, 'danger': 2534, 'tree': 2535, 'boss': 2536, 'Frank': 2537, 'apart': 2538, 'gift': 2539, 'musical': 2540, 'warm': 2541, 'creative': 2542, 'developers': 2543, 'OK': 2544, 'likes': 2545, 'Henry': 2546, 'Ben': 2547, 'courts': 2548, 'wake': 2549, 'shoot': 2550, 'Report': 2551, 'kid': 2552, 'task': 2553, 'drawn': 2554, 'regime': 2555, 'ourselves': 2556, 'threatening': 2557, 'mistake': 2558, 'Through': 2559, 'laid': 2560, 'journalists': 2561, 'cultural': 2562, 'blame': 2563, 'copy': 2564, 'machine': 2565, 'mail': 2566, 'proper': 2567, 'listen': 2568, 'Columbia': 2569, 'relationships': 2570, 'generated': 2571, 'Campbell': 2572, 'Second': 2573, 'captured': 2574, 'Can': 2575, 'climate': 2576, 'sophomore': 2577, 'keeps': 2578, 'dismissed': 2579, 'Time': 2580, 'generate': 2581, 'vital': 2582, 'territory': 2583, 'Eastern': 2584, 'elsewhere': 2585, 'hair': 2586, 'Mississippi': 2587, 'veterans': 2588, 'recognition': 2589, 'accounting': 2590, 'holes': 2591, 'amounts': 2592, 'finishing': 2593, 'See': 2594, 'length': 2595, 'birth': 2596, 'rivals': 2597, 'gay': 2598, 'roughly': 2599, 'performing': 2600, 'futures': 2601, 'tested': 2602, 'blow': 2603, 'historical': 2604, 'starter': 2605, '+': 2606, 'guests': 2607, 'river': 2608, 'minor': 2609, 'pop': 2610, 'roll': 2611, 'acts': 2612, 'anybody': 2613, 'strategies': 2614, 'sharp': 2615, 'horse': 2616, 'Games': 2617, 'prize': 2618, 'valuable': 2619, 'witness': 2620, 'drinking': 2621, 'contribute': 2622, 'Arkansas': 2623, 'guidelines': 2624, 'delayed': 2625, 'handling': 2626, 'Austin': 2627, 'repeatedly': 2628, 'academic': 2629, 'Mitchell': 2630, 'contributions': 2631, 'background': 2632, 'runner': 2633, 'applied': 2634, 'thank': 2635, 'Eric': 2636, 'Right': 2637, 'characters': 2638, 'wine': 2639, 'saving': 2640, 'lift': 2641, 'identity': 2642, 'ownership': 2643, 'obvious': 2644, 'throwing': 2645, 'settle': 2646, 'tracks': 2647, 'smart': 2648, 'developments': 2649, 'lunch': 2650, 'forget': 2651, 'transition': 2652, 'equal': 2653, 'involvement': 2654, 'gotten': 2655, 'Class': 2656, 'ABC': 2657, 'S.': 2658, 'Music': 2659, 'Little': 2660, 'competing': 2661, 'cell': 2662, 'monitor': 2663, 'century': 2664, 'sessions': 2665, 'meets': 2666, 'begun': 2667, 'metal': 2668, 'critics': 2669, 'forum': 2670, 'honored': 2671, 'ballot': 2672, 'affairs': 2673, 'desire': 2674, 'click': 2675, 'topic': 2676, 'Red': 2677, 'causes': 2678, 'ease': 2679, 'marks': 2680, 'consumption': 2681, 'officially': 2682, 'argument': 2683, 'newly': 2684, 'Palestinians': 2685, 'wonder': 2686, '`': 2687, 'spirit': 2688, 'Atlantic': 2689, 'ring': 2690, 'strongly': 2691, 'Total': 2692, 'classic': 2693, 'educational': 2694, 'feed': 2695, 'managing': 2696, 'stick': 2697, 'exploration': 2698, 'insisted': 2699, 'conversation': 2700, 'elements': 2701, 'guidance': 2702, 'charity': 2703, 'emerged': 2704, 'covering': 2705, 'powers': 2706, 'tourism': 2707, 'enhance': 2708, 'Roberts': 2709, 'saved': 2710, 'plate': 2711, 'engaged': 2712, 'expecting': 2713, 'ranks': 2714, 'mention': 2715, 'emerging': 2716, 'moments': 2717, 'testimony': 2718, 'witnesses': 2719, 'impossible': 2720, 'tries': 2721, 'exposure': 2722, 'celebration': 2723, 'instance': 2724, 'controversial': 2725, 'Alex': 2726, 'harder': 2727, 'stress': 2728, 'settled': 2729, 'remarks': 2730, 'false': 2731, 'Get': 2732, 'dominated': 2733, 'Labor': 2734, 'Island': 2735, 'Murray': 2736, 'dramatic': 2737, 'collapse': 2738, 'attempted': 2739, 'drama': 2740, 'boards': 2741, 'museum': 2742, 'attract': 2743, 'remote': 2744, 'experiences': 2745, 'Show': 2746, 'chair': 2747, 'anywhere': 2748, 'messages': 2749, 'ads': 2750, 'opens': 2751, 'Journal': 2752, 'error': 2753, 'Museum': 2754, 'print': 2755, 'pitcher': 2756, 'contains': 2757, 'Nelson': 2758, 'attending': 2759, 'System': 2760, 'thrown': 2761, 'unusual': 2762, 'stability': 2763, 'Earth': 2764, 'makers': 2765, 'yield': 2766, 'square': 2767, 'glass': 2768, 'inspired': 2769, 'flag': 2770, 'fishing': 2771, 'activists': 2772, 'alongside': 2773, 'aim': 2774, 'guarantee': 2775, 'clinical': 2776, 'Good': 2777, 'staying': 2778, 'Duke': 2779, 'tremendous': 2780, 'contribution': 2781, 'terrorists': 2782, 'wave': 2783, 'electric': 2784, 'recall': 2785, 'knowing': 2786, 'skin': 2787, 'halftime': 2788, 'fix': 2789, 'emotional': 2790, 'maintained': 2791, 'counter': 2792, 'Craig': 2793, 'Lady': 2794, 'Indians': 2795, 'abroad': 2796, 'Mexican': 2797, 'tradition': 2798, 'totally': 2799, 'hosts': 2800, 'Long': 2801, 'pitched': 2802, 'Larry': 2803, 'necessarily': 2804, 'beaten': 2805, 'Adam': 2806, 'reasonable': 2807, 'drink': 2808, 'poverty': 2809, 'properly': 2810, 'somebody': 2811, 'sounds': 2812, 'sick': 2813, 'saves': 2814, 'Society': 2815, 'Nick': 2816, 'Carter': 2817, 'lucky': 2818, 'folks': 2819, 'defend': 2820, 'lights': 2821, 'minority': 2822, 'differences': 2823, 'Love': 2824, 'roster': 2825, 'bankruptcy': 2826, 'S': 2827, 'participation': 2828, 'stuck': 2829, 'delivering': 2830, 'viewers': 2831, 'Catholic': 2832, 'W.': 2833, 'Sometimes': 2834, 'smoke': 2835, 'War': 2836, 'manner': 2837, 'Back': 2838, 'yes': 2839, 'M.': 2840, 'mistakes': 2841, 'Baker': 2842, 'formal': 2843, 'Vietnam': 2844, 'speculation': 2845, 'Sam': 2846, 'Next': 2847, 'finds': 2848, 'quiet': 2849, 'Everyone': 2850, 'bag': 2851, 'explosion': 2852, 'guide': 2853, 'occur': 2854, 'encouraging': 2855, 'highway': 2856, 'sleep': 2857, 'interviews': 2858, 'Rock': 2859, 'satellite': 2860, 'entirely': 2861, 'dry': 2862, 'Where': 2863, 'soldier': 2864, 'covers': 2865, 'Science': 2866, 'blast': 2867, 'capture': 2868, 'function': 2869, 'lending': 2870, 'peak': 2871, 'wild': 2872, 'facts': 2873, 'lap': 2874, 'awareness': 2875, 'Up': 2876, 'pursue': 2877, 'edition': 2878, 'studio': 2879, 'correct': 2880, 'Great': 2881, 'switch': 2882, 'tend': 2883, 'Kim': 2884, 'Blue': 2885, 'lay': 2886, 'Trade': 2887, 'purposes': 2888, 'departments': 2889, 'THE': 2890, 'perspective': 2891, 'Marshall': 2892, 'components': 2893, 'Having': 2894, 'clothing': 2895, 'drawing': 2896, 'resistance': 2897, 'choices': 2898, 'recording': 2899, 'demanding': 2900, 'urban': 2901, 'pages': 2902, 'doubled': 2903, 'suspension': 2904, 'innovation': 2905, 'Russell': 2906, 'Adams': 2907, 'G': 2908, 'brothers': 2909, 'relatives': 2910, 'atmosphere': 2911, 'defined': 2912, 'absence': 2913, 'steady': 2914, 'normally': 2915, 'gathering': 2916, 'empty': 2917, 'obligation': 2918, 'falls': 2919, 'taught': 2920, 'promotion': 2921, 'incidents': 2922, 'operational': 2923, 'Water': 2924, 'silver': 2925, 'qualify': 2926, 'Art': 2927, 'escape': 2928, 'wealth': 2929, 'singles': 2930, 'extent': 2931, 'spots': 2932, 'scientific': 2933, 'Ray': 2934, 'preliminary': 2935, 'rooms': 2936, 'degrees': 2937, 'eating': 2938, 'Morgan': 2939, 'resume': 2940, 'involve': 2941, 'resolve': 2942, 'sexual': 2943, 'prospect': 2944, 'typical': 2945, 'Bears': 2946, 'Murphy': 2947, 'Rice': 2948, 'consideration': 2949, 'fairly': 2950, 'investigate': 2951, 'pipeline': 2952, 'seeks': 2953, 'hire': 2954, 'theme': 2955, 'walks': 2956, 'roles': 2957, 'reference': 2958, 'timing': 2959, 'imagine': 2960, 'rapidly': 2961, 'angry': 2962, 'riding': 2963, 'attitude': 2964, 'guest': 2965, 'Cameron': 2966, 'sensitive': 2967, 'Graham': 2968, 'intent': 2969, 'channels': 2970, 'ministers': 2971, 'referred': 2972, 'Building': 2973, 'column': 2974, 'Ross': 2975, 'Terry': 2976, 'arrive': 2977, 'Unfortunately': 2978, 'rushed': 2979, 'frame': 2980, 'fail': 2981, 'completion': 2982, 'traveled': 2983, 'Daily': 2984, 'heavily': 2985, 'acquire': 2986, 'striking': 2987, 'DVD': 2988, 'breaks': 2989, 'Greg': 2990, 'attractive': 2991, 'indeed': 2992, 'survived': 2993, 'intense': 2994, 'somewhat': 2995, 'aims': 2996, 'talented': 2997, 'permission': 2998, 'judgment': 2999, 'beer': 3000, 'clothes': 3001, 'coal': 3002, 'packed': 3003, 'flood': 3004, 'approached': 3005, 'disappointing': 3006, 'Old': 3007, 'collaboration': 3008, 'hopefully': 3009, 'streak': 3010, 'Based': 3011, 'sustained': 3012, 'noticed': 3013, 'beach': 3014, 'Grant': 3015, 'collect': 3016, 'journey': 3017, 'victories': 3018, 'fantastic': 3019, 'rail': 3020, 'Take': 3021, 'hundred': 3022, 'pack': 3023, 'cycle': 3024, 'comedy': 3025, 'thoughts': 3026, 'hardware': 3027, 'bound': 3028, 'Price': 3029, 'proceeds': 3030, 'suicide': 3031, 'prisoners': 3032, 'discovery': 3033, 'dad': 3034, 'searching': 3035, 'longtime': 3036, 'premier': 3037, 'command': 3038, 'enables': 3039, 'nobody': 3040, 'actress': 3041, 'aspects': 3042, 'Orange': 3043, 'videos': 3044, 'cricket': 3045, 'ratio': 3046, 'birthday': 3047, 'episode': 3048, 'Field': 3049, 'Parker': 3050, 'cameras': 3051, 'answers': 3052, 'promises': 3053, 'unknown': 3054, 'argue': 3055, 'Rose': 3056, 'Evans': 3057, 'surge': 3058, 'focusing': 3059, 'doubles': 3060, 'Bruce': 3061, 'ideal': 3062, 'equivalent': 3063, 'reliable': 3064, 'factory': 3065, 'Without': 3066, 'scenes': 3067, 'survive': 3068, 'trips': 3069, 'hotels': 3070, 'unclear': 3071, 'gang': 3072, 'grounds': 3073, 'carrier': 3074, 'liked': 3075, 'accurate': 3076, 'advised': 3077, 'slowly': 3078, 'Read': 3079, 'mom': 3080, 'tons': 3081, 'Perhaps': 3082, 'forcing': 3083, 'frequently': 3084, 'overcome': 3085, 'inquiry': 3086, 'situations': 3087, 'apparent': 3088, 'map': 3089, 'bear': 3090, 'Whether': 3091, 'stroke': 3092, 'medicine': 3093, 'drives': 3094, 'teach': 3095, 'medium': 3096, 'prime': 3097, 'Andy': 3098, 'basically': 3099, 'exposed': 3100, 'Hotel': 3101, 'F': 3102, 'dialogue': 3103, 'stimulus': 3104, 'probe': 3105, 'Perry': 3106, 'Ron': 3107, 'shall': 3108, 'stages': 3109, 'luxury': 3110, 'dates': 3111, 'vulnerable': 3112, 'preparation': 3113, 'indicate': 3114, 'theft': 3115, 'appreciate': 3116, 'Oh': 3117, 'relative': 3118, 'consequences': 3119, 'imposed': 3120, 'rolled': 3121, 'alert': 3122, 'virtually': 3123, 'provincial': 3124, 'Dean': 3125, 'strikes': 3126, 'athletic': 3127, 'neck': 3128, 'tourists': 3129, 'sad': 3130, 'prominent': 3131, 'Josh': 3132, 'writes': 3133, 'alliance': 3134, 'method': 3135, 'meanwhile': 3136, 'Simon': 3137, 'Morris': 3138, 'Beach': 3139, 'crude': 3140, 'suffer': 3141, 'quit': 3142, 'shock': 3143, 'picking': 3144, 'clock': 3145, 'regard': 3146, 'convention': 3147, 'rapid': 3148, 'independence': 3149, 'novel': 3150, 'Korean': 3151, 'scandal': 3152, 'Assembly': 3153, 'species': 3154, 'audio': 3155, 'explains': 3156, 'investing': 3157, 'welcomed': 3158, 'detail': 3159, 'religion': 3160, 'wedding': 3161, 'Don': 3162, 'Six': 3163, 'restore': 3164, 'plot': 3165, 'lifted': 3166, 'coffee': 3167, 'sun': 3168, 'honest': 3169, 'passion': 3170, 'periods': 3171, 'swing': 3172, 'Wood': 3173, 'master': 3174, 'useful': 3175, 'answered': 3176, 'neighbor': 3177, 'promising': 3178, 'maintaining': 3179, 'soft': 3180, 'format': 3181, 'honors': 3182, 'teen': 3183, 'impressed': 3184, 'tiny': 3185, 'windows': 3186, 'Cook': 3187, 'deadly': 3188, 'label': 3189, 'foul': 3190, 'Rogers': 3191, 'Stanford': 3192, 'succeed': 3193, 'nomination': 3194, 'rely': 3195, 'string': 3196, 'trail': 3197, 'aged': 3198, 'personally': 3199, 'preferred': 3200, 'winds': 3201, 'lies': 3202, 'exist': 3203, 'Besides': 3204, 'proof': 3205, 'tank': 3206, 'etc.': 3207, 'zero': 3208, 'secondary': 3209, 'Special': 3210, 'consistently': 3211, 'delighted': 3212, 'Rodriguez': 3213, 'suddenly': 3214, 'Wayne': 3215, 'Go': 3216, 'routine': 3217, 'anonymity': 3218, 'introduce': 3219, 'teens': 3220, 'Others': 3221, 'Franklin': 3222, 'meat': 3223, 'Way': 3224, 'concrete': 3225, 'anyway': 3226, 'convinced': 3227, 'McDonald': 3228, 'Charlotte': 3229, 'legs': 3230, 'Given': 3231, 'cheap': 3232, 'programming': 3233, 'Theatre': 3234, 'demonstrated': 3235, 'bright': 3236, 'comeback': 3237, 'offset': 3238, 'forth': 3239, 'harm': 3240, 'protecting': 3241, 'meter': 3242, 'glad': 3243, 'duties': 3244, 'rated': 3245, 'upper': 3246, 'Jerry': 3247, 'pulling': 3248, 'exit': 3249, 'Ward': 3250, 'shoes': 3251, 'entitled': 3252, 'viewed': 3253, 'clash': 3254, 'Manhattan': 3255, 'bike': 3256, 'afraid': 3257, 'hardly': 3258, 'bonus': 3259, 'lying': 3260, 'elderly': 3261, 'reflects': 3262, 'hate': 3263, 'errors': 3264, 'kinds': 3265, 'Look': 3266, 'Chamber': 3267, 'Lane': 3268, 'belief': 3269, 'Cooper': 3270, 'assigned': 3271, 'crazy': 3272, 'arts': 3273, 'retain': 3274, 'longest': 3275, 'assume': 3276, 'mouth': 3277, 'sufficient': 3278, 'barely': 3279, 'sharply': 3280, 'connect': 3281, 'offerings': 3282, 'funeral': 3283, 'express': 3284, 'kitchen': 3285, 'kills': 3286, 'burning': 3287, 'extreme': 3288, 'updated': 3289, 'Festival': 3290, 'unprecedented': 3291, 'Reid': 3292, 'Al': 3293, 'dealers': 3294, 'tired': 3295, 'Hughes': 3296, 'ups': 3297, 'Blair': 3298, 'optimistic': 3299, 'Lawrence': 3300, 'funny': 3301, 'Alan': 3302, 'handful': 3303, 'broader': 3304, 'rape': 3305, 'intention': 3306, 'super': 3307, 'L.': 3308, 'regardless': 3309, 'nights': 3310, 'abandoned': 3311, 'Matthew': 3312, 'Cuba': 3313, 'conviction': 3314, 'celebrated': 3315, 'taste': 3316, 'relating': 3317, 'locked': 3318, 'Coast': 3319, 'Sarah': 3320, 'paint': 3321, 'load': 3322, 'essentially': 3323, 'horses': 3324, 'Steven': 3325, 'reviewed': 3326, 'guns': 3327, 'Douglas': 3328, 'handled': 3329, 'walls': 3330, 'reveal': 3331, 'everywhere': 3332, 'occasion': 3333, 'carefully': 3334, 'engage': 3335, 'incredible': 3336, 'constant': 3337, 'sons': 3338, 'compromise': 3339, 'Christopher': 3340, 'worries': 3341, 'raises': 3342, 'Out': 3343, 'Obviously': 3344, 'opposite': 3345, 'diverse': 3346, 'stops': 3347, 'battery': 3348, 'rush': 3349, 'burden': 3350, 'controversy': 3351, 'departure': 3352, 'luck': 3353, 'repeated': 3354, 'involves': 3355, 'firing': 3356, 'troubled': 3357, 'Korea': 3358, 'benchmark': 3359, 'backs': 3360, 'anymore': 3361, 'institution': 3362, 'keen': 3363, 'fighters': 3364, 'contrast': 3365, 'invested': 3366, 'Video': 3367, 'assembly': 3368, 'LA': 3369, 'intends': 3370, 'plastic': 3371, 'converted': 3372, 'depending': 3373, 'ordinary': 3374, 'credits': 3375, 'actors': 3376, 'democratic': 3377, 'Sean': 3378, 'bet': 3379, 'writers': 3380, 'execution': 3381, 'requirement': 3382, 'automatically': 3383, 'Fame': 3384, 'plea': 3385, 'machines': 3386, 'modest': 3387, 'procedure': 3388, 'Mrs.': 3389, 'calm': 3390, 'updates': 3391, 'Golden': 3392, 'Warren': 3393, 'swept': 3394, 'loose': 3395, 'latter': 3396, 'nervous': 3397, 'pregnant': 3398, 'Awards': 3399, 'conclusion': 3400, 'household': 3401, 'prefer': 3402, 'enforcement': 3403, 'Lord': 3404, 'requiring': 3405, 'definition': 3406, 'demonstrate': 3407, 'parade': 3408, 'Anyone': 3409, 'hero': 3410, 'explore': 3411, 'surprising': 3412, 'anger': 3413, 'Channel': 3414, 'Live': 3415, 'Republic': 3416, 'Sullivan': 3417, 'legacy': 3418, 'fleet': 3419, 'fat': 3420, 'presents': 3421, 'vacation': 3422, 'introduction': 3423, 'discount': 3424, 'Ken': 3425, 'praised': 3426, 'lane': 3427, 'enhanced': 3428, 'copies': 3429, 'pride': 3430, 'odds': 3431, 'challenged': 3432, 'singing': 3433, 'equally': 3434, 'thousand': 3435, 'landing': 3436, 'techniques': 3437, 'III': 3438, 'item': 3439, 'objective': 3440, 'Stars': 3441, 'robbery': 3442, 'comparison': 3443, 'Rick': 3444, 'Until': 3445, 'gifts': 3446, 'bags': 3447, 'versions': 3448, 'extraordinary': 3449, 'sight': 3450, 'Neither': 3451, 'recruiting': 3452, 'attacking': 3453, 'describe': 3454, 'reflected': 3455, 'conspiracy': 3456, 'Point': 3457, 'Finally': 3458, 'creates': 3459, 'Broadway': 3460, 'minds': 3461, 'Have': 3462, 'midnight': 3463, 'Elizabeth': 3464, 'functions': 3465, 'Scottish': 3466, 'virtual': 3467, 'delivers': 3468, 'badly': 3469, 'indication': 3470, 'Orlando': 3471, 'ultimate': 3472, 'beauty': 3473, 'spoken': 3474, 'invasion': 3475, 'fires': 3476, 'concerning': 3477, 'waters': 3478, 'authors': 3479, 'tea': 3480, 'buried': 3481, 'rent': 3482, 'Rob': 3483, 'Jonathan': 3484, 'probation': 3485, 'excess': 3486, 'girlfriend': 3487, 'Did': 3488, 'robust': 3489, 'tracking': 3490, 'lie': 3491, 'dating': 3492, 'Super': 3493, 'Shanghai': 3494, 'bowl': 3495, 'highlight': 3496, 'guaranteed': 3497, 'R.': 3498, 'chapter': 3499, 'Poor': 3500, 'tape': 3501, 'Express': 3502, 'enormous': 3503, 'illness': 3504, 'hall': 3505, 'exhibit': 3506, 'soil': 3507, 'noise': 3508, 'outs': 3509, 'deserve': 3510, 'Disney': 3511, 'CIA': 3512, 'rolling': 3513, 'rarely': 3514, 'C.': 3515, 'Warriors': 3516, 'elite': 3517, 'arena': 3518, 'solo': 3519, 'liability': 3520, 'somewhere': 3521, 'Ed': 3522, 'displayed': 3523, 'Alexander': 3524, 'divided': 3525, 'context': 3526, 'clinic': 3527, 'lifestyle': 3528, 'Part': 3529, 'de': 3530, 'screening': 3531, 'dramatically': 3532, 'Watson': 3533, 'classroom': 3534, 'fundamental': 3535, 'partly': 3536, 'Oscar': 3537, 'Entertainment': 3538, 'tackles': 3539, 'slide': 3540, 'suggesting': 3541, 'ill': 3542, 'highlights': 3543, 'Garcia': 3544, 'assured': 3545, 'bunch': 3546, 'constantly': 3547, 'holidays': 3548, 'touched': 3549, 'fate': 3550, 'listening': 3551, 'decent': 3552, 'hanging': 3553, 'certified': 3554, 'nominated': 3555, 'lists': 3556, 'lessons': 3557, 'closure': 3558, 'lifetime': 3559, 'CD': 3560, 'Fisher': 3561, 'wider': 3562, 'shocked': 3563, 'destination': 3564, 'tens': 3565, 'recommendation': 3566, 'phones': 3567, 'Delta': 3568, 'observed': 3569, 'trials': 3570, 'subsequent': 3571, 'scenario': 3572, 'liberal': 3573, 'lab': 3574, 'pet': 3575, 'Todd': 3576, 'milk': 3577, 'starters': 3578, 'bombing': 3579, 'popularity': 3580, 'menu': 3581, 'asks': 3582, 'tragedy': 3583, 'packages': 3584, 'Check': 3585, 'memories': 3586, 'colors': 3587, 'welfare': 3588, 'designs': 3589, 'verdict': 3590, 'sparked': 3591, 'Contact': 3592, 'remarkable': 3593, 'accompanied': 3594, 'briefly': 3595, 'letting': 3596, 'Hudson': 3597, 'Overall': 3598, 'wore': 3599, 'dynamic': 3600, 'Third': 3601, 'Directors': 3602, 'attached': 3603, 'tone': 3604, 'reverse': 3605, 'Columbus': 3606, 'survival': 3607, 'establishment': 3608, 'meal': 3609, 'Country': 3610, 'reception': 3611, 'memorial': 3612, 'complicated': 3613, 'inmates': 3614, 'Does': 3615, 'rough': 3616, 'earth': 3617, 'merely': 3618, 'smile': 3619, 'Miss': 3620, 'J': 3621, 'sweep': 3622, 'mountain': 3623, 'associate': 3624, 'Plus': 3625, 'sorry': 3626, 'recovering': 3627, 'subjects': 3628, 'enabling': 3629, 'legitimate': 3630, 'terrible': 3631, 'shed': 3632, 'achievement': 3633, 'launching': 3634, 'dress': 3635, 'reward': 3636, 'Jennifer': 3637, 'circuit': 3638, 'Birmingham': 3639, 'boxes': 3640, 'vast': 3641, 'adopt': 3642, 'affair': 3643, 'Men': 3644, 'enjoying': 3645, 'predict': 3646, 'respective': 3647, 'recommend': 3648, 'permits': 3649, 'Dennis': 3650, 'Place': 3651, 'Blues': 3652, 'satisfied': 3653, 'principles': 3654, 'crossed': 3655, 'landscape': 3656, 'deposits': 3657, 'Susan': 3658, 'narrow': 3659, 'practical': 3660, 'installation': 3661, 'D.': 3662, 'exception': 3663, 'loaded': 3664, 'Harrison': 3665, 'Station': 3666, 'cup': 3667, 'Make': 3668, 'unlike': 3669, 'sudden': 3670, 'Hunter': 3671, 'wood': 3672, 'eager': 3673, 'climb': 3674, 'careful': 3675, 'mode': 3676, 'enemy': 3677, 'wanting': 3678, 'desperate': 3679, 'AIDS': 3680, 'Further': 3681, 'Enterprise': 3682, 'powered': 3683, 'dealt': 3684, 'Indeed': 3685, 'admission': 3686, 'Friends': 3687, 'connections': 3688, 'therapy': 3689, 'Roy': 3690, 'topics': 3691, 'comfort': 3692, 'hang': 3693, 'addressing': 3694, 'celebrity': 3695, 'Unlike': 3696, 'theory': 3697, 'depends': 3698, 'ships': 3699, 'Creek': 3700, 'boom': 3701, 'innocent': 3702, 'Spring': 3703, 'fence': 3704, 'bars': 3705, 'sentiment': 3706, 'cheaper': 3707, 'journalist': 3708, 'rental': 3709, 'Barry': 3710, 'deeply': 3711, 'Egyptian': 3712, 'van': 3713, 'speaks': 3714, 'yellow': 3715, 'Bridge': 3716, 'Photo': 3717, 'accuracy': 3718, 'determination': 3719, 'Nearly': 3720, 'Hope': 3721, 'Greek': 3722, 'loves': 3723, 'grand': 3724, 'Bennett': 3725, 'routes': 3726, 'graduated': 3727, 'Everything': 3728, 'underlying': 3729, 'matched': 3730, 'households': 3731, 'prevention': 3732, 'highlighted': 3733, 'insists': 3734, 'reviews': 3735, 'daughters': 3736, 'capability': 3737, 'vice': 3738, 'weakness': 3739, 'Casey': 3740, 'flexible': 3741, 'Prince': 3742, 'deny': 3743, 'structures': 3744, 'adequate': 3745, 'Michelle': 3746, 'admit': 3747, 'forever': 3748, 'humans': 3749, 'emphasis': 3750, 'crossing': 3751, 'studied': 3752, 'Queen': 3753, 'conversion': 3754, 'proceedings': 3755, 'sweet': 3756, 'organic': 3757, 'hopeful': 3758, 'Cox': 3759, 'releases': 3760, 'aspect': 3761, 'gear': 3762, 'superior': 3763, 'bands': 3764, 'resolved': 3765, 'salaries': 3766, 'mental': 3767, 'bedroom': 3768, 'Seven': 3769, 'Thanks': 3770, 'entrance': 3771, 'lake': 3772, 'Everybody': 3773, 'element': 3774, 'camps': 3775, 'chase': 3776, 'difficulties': 3777, 'Doug': 3778, 'surveillance': 3779, 'fault': 3780, 'thin': 3781, 'boats': 3782, 'dominant': 3783, 'considerable': 3784, 'Major': 3785, 'fruit': 3786, 'Fair': 3787, 'deciding': 3788, 'input': 3789, 'Being': 3790, 'anniversary': 3791, 'respected': 3792, 'violated': 3793, 'assess': 3794, 'arrangements': 3795, 'frustrated': 3796, 'marketplace': 3797, 'cooking': 3798, 'affecting': 3799, 'forest': 3800, 'chest': 3801, 'H': 3802, 'signature': 3803, 'intervention': 3804, 'tougher': 3805, 'teenager': 3806, 'Wallace': 3807, 'planet': 3808, 'dressed': 3809, 'underground': 3810, 'exact': 3811, 'depend': 3812, 'replacing': 3813, 'Night': 3814, 'questioning': 3815, 'athlete': 3816, 'Saddam': 3817, 'comparable': 3818, 'accomplished': 3819, 'riders': 3820, 'Ian': 3821, 'Using': 3822, 'unexpected': 3823, 'painting': 3824, 'gross': 3825, 'lighting': 3826, 'Should': 3827, 'feelings': 3828, 'pays': 3829, 'documentary': 3830, 'addresses': 3831, 'brilliant': 3832, 'Again': 3833, 'waited': 3834, 'Metro': 3835, 'sub': 3836, 'ESPN': 3837, 'costly': 3838, 'height': 3839, 'volumes': 3840, 'Harvard': 3841, 'Jon': 3842, 'till': 3843, 'grab': 3844, 'sample': 3845, 'favorites': 3846, 'shortage': 3847, 'estate': 3848, 'globe': 3849, 'Newcastle': 3850, 'evaluate': 3851, 'sits': 3852, 'venture': 3853, 'Gray': 3854, 'signals': 3855, 'lesson': 3856, 'Jesus': 3857, 'escaped': 3858, 'survivors': 3859, 'Charlie': 3860, 'integrity': 3861, 'unchanged': 3862, 'trains': 3863, 'mainstream': 3864, 'ignored': 3865, 'Ellis': 3866, 'negotiate': 3867, 'Jews': 3868, 'receives': 3869, 'ethnic': 3870, 'focuses': 3871, 'measured': 3872, 'produces': 3873, 'skill': 3874, 'indicates': 3875, 'Angels': 3876, 'Jay': 3877, 'surrounded': 3878, 'detention': 3879, 'Rome': 3880, 'York': 3881, 'tears': 3882, 'examine': 3883, 'visible': 3884, 'steal': 3885, 'generations': 3886, 'Ashley': 3887, 'deemed': 3888, 'fatal': 3889, 'mess': 3890, 'deeper': 3891, 'publishing': 3892, 'grass': 3893, 'footage': 3894, 'Looking': 3895, 'everyday': 3896, 'literally': 3897, 'acted': 3898, 'photographs': 3899, 'somehow': 3900, 'dancing': 3901, 'bulk': 3902, 'highs': 3903, 'chamber': 3904, 'checking': 3905, '3D': 3906, 'corn': 3907, 'hidden': 3908, 'boosted': 3909, 'moral': 3910, 'Much': 3911, 'Stevens': 3912, 'Berlin': 3913, 'audiences': 3914, 'Kids': 3915, 'Singh': 3916, 'crack': 3917, 'gaining': 3918, 'Work': 3919, 'tap': 3920, 'wrapped': 3921, 'Foster': 3922, 'thrilled': 3923, 'Lisa': 3924, 'Canadians': 3925, 'arguing': 3926, 'placing': 3927, 'trades': 3928, 'End': 3929, 'childhood': 3930, 'scope': 3931, 'disclosure': 3932, 'pump': 3933, 'inspection': 3934, 'spin': 3935, 'knock': 3936, 'capped': 3937, 'existence': 3938, 'responsibilities': 3939, 'mood': 3940, 'witnessed': 3941, 'Martinez': 3942, 'demonstration': 3943, 'safely': 3944, 'fake': 3945, 'garage': 3946, 'arguments': 3947, 'catches': 3948, 'destruction': 3949, 'borders': 3950, 'disabled': 3951, 'None': 3952, 'workshop': 3953, 'stream': 3954, 'strange': 3955, 'drill': 3956, 'Action': 3957, 'divisions': 3958, 'sophisticated': 3959, 'sugar': 3960, 'nationally': 3961, 'stance': 3962, 'obligations': 3963, 'passage': 3964, 'span': 3965, 'punishment': 3966, 'Freedom': 3967, 'Brooks': 3968, 'immigrants': 3969, 'margins': 3970, 'excitement': 3971, 'Nothing': 3972, 'lets': 3973, 'discipline': 3974, 'Jerusalem': 3975, 'toys': 3976, 'accepting': 3977, 'balanced': 3978, 'accessible': 3979, 'architecture': 3980, 'personality': 3981, 'debris': 3982, 'Bonds': 3983, 'aging': 3984, 'Hispanic': 3985, 'fed': 3986, 'filling': 3987, 'march': 3988, 'Bond': 3989, 'pocket': 3990, 'Simpson': 3991, 'Thanksgiving': 3992, 'conventional': 3993, 'segments': 3994, 'burn': 3995, 'battling': 3996, 'exceptional': 3997, 'strongest': 3998, 'encounter': 3999, 'perfectly': 4000, 'Me': 4001, 'Portugal': 4002, 'lady': 4003, 'slip': 4004, 'laugh': 4005, 'buyer': 4006, 'Ali': 4007, 'rank': 4008, 'Heat': 4009, 'Mason': 4010, 'framework': 4011, 'Edward': 4012, 'rebel': 4013, 'Sea': 4014, 'patent': 4015, 'devastating': 4016, 'identification': 4017, 'editorial': 4018, 'Blake': 4019, 'Watch': 4020, 'uncertain': 4021, 'Camp': 4022, 'babies': 4023, 'slight': 4024, 'greatly': 4025, 'torture': 4026, 'trapped': 4027, 'roots': 4028, 'Farm': 4029, 'difficulty': 4030, 'slowed': 4031, 'physically': 4032, 'specialty': 4033, 'weaker': 4034, 'insight': 4035, 'Linda': 4036, 'pollution': 4037, 'Rams': 4038, 'Silver': 4039, 'accommodate': 4040, 'humanitarian': 4041, 'achievements': 4042, 'Midwest': 4043, 'executed': 4044, 'flowers': 4045, 'Chase': 4046, 'batting': 4047, 'breach': 4048, 'reductions': 4049, 'stunning': 4050, 'Roger': 4051, 'B.': 4052, 'pointing': 4053, 'finale': 4054, 'suitable': 4055, 'establishing': 4056, 'responses': 4057, 'dying': 4058, 'tune': 4059, 'sky': 4060, 'remembered': 4061, 'prizes': 4062, 'discover': 4063, 'generating': 4064, 'frustration': 4065, 'surely': 4066, 'circle': 4067, 'Nobody': 4068, 'Laura': 4069, 'spectacular': 4070, 'musicians': 4071, 'hell': 4072, 'lock': 4073, 'dreams': 4074, 'displays': 4075, 'Which': 4076, 'Karen': 4077, 'button': 4078, 'communicate': 4079, 'States': 4080, 'arriving': 4081, 'trailer': 4082, 'Wells': 4083, 'ocean': 4084, 'tribute': 4085, 'urge': 4086, 'meaningful': 4087, 'automatic': 4088, 'frequent': 4089, 'declines': 4090, 'restored': 4091, 'shore': 4092, 'Digital': 4093, 'n': 4094, 'joins': 4095, 'transit': 4096, 'viewing': 4097, 'rises': 4098, 'N': 4099, 'unity': 4100, 'finger': 4101, 'achieving': 4102, 'Garden': 4103, 'sporting': 4104, 'divorce': 4105, 'hide': 4106, 'crowds': 4107, 'duo': 4108, 'acceptable': 4109, 'Notes': 4110, 'pursuing': 4111, 'wound': 4112, 'considers': 4113, 'describes': 4114, 'physician': 4115, 'contemporary': 4116, 'chemicals': 4117, 'maintains': 4118, 'diversity': 4119, 'teenagers': 4120, 'painful': 4121, 'explanation': 4122, 'Bishop': 4123, 'convince': 4124, 'destroy': 4125, 'formula': 4126, 'blown': 4127, 'Harry': 4128, 'Things': 4129, 'odd': 4130, 'wars': 4131, 'coastal': 4132, 'impression': 4133, 'showcase': 4134, 'manages': 4135, 'trio': 4136, 'contributing': 4137, 'caution': 4138, 'description': 4139, 'grateful': 4140, 'bombs': 4141, 'wildlife': 4142, 'edged': 4143, 'understands': 4144, 'reviewing': 4145, 'subscription': 4146, 'suspicion': 4147, 'philosophy': 4148, 'Gibson': 4149, 'occasions': 4150, 'shirt': 4151, 'whenever': 4152, 'Hills': 4153, 'underway': 4154, 'approaches': 4155, 'indictment': 4156, 'Rather': 4157, 'mini': 4158, 'dual': 4159, 'swimming': 4160, 'fueled': 4161, 'proceed': 4162, 'Wade': 4163, 'emerge': 4164, 'wet': 4165, 'fights': 4166, 'rocket': 4167, 'examined': 4168, 'majors': 4169, 'guarantees': 4170, 'disappointment': 4171, 'counting': 4172, 'wise': 4173, 'treating': 4174, 'tactics': 4175, 'examples': 4176, 'kicks': 4177, 'shake': 4178, 'headlines': 4179, 'carbon': 4180, 'sisters': 4181, 'ethics': 4182, 'choosing': 4183, 'doubts': 4184, 'killer': 4185, 'Amy': 4186, 'ounce': 4187, 'appearing': 4188, 'neutral': 4189, 'suburban': 4190, 'nurses': 4191, 'joy': 4192, 'pledge': 4193, 'O': 4194, 'cat': 4195, 'praise': 4196, 'Money': 4197, 'wholesale': 4198, 'conversations': 4199, 'struggles': 4200, 'consists': 4201, 'Bryan': 4202, 'depression': 4203, 'elect': 4204, 'Land': 4205, 'Would': 4206, 'waves': 4207, 'import': 4208, 'instruments': 4209, 'foster': 4210, 'Holland': 4211, 'L': 4212, 'surplus': 4213, 'occupied': 4214, 'careers': 4215, 'exists': 4216, 'Danny': 4217, 'titled': 4218, 'inappropriate': 4219, 'hearts': 4220, 'spill': 4221, 'Fred': 4222, 'warnings': 4223, 'nose': 4224, 'compare': 4225, 'freeze': 4226, 'unfortunate': 4227, 'sing': 4228, 'deserves': 4229, 'slot': 4230, 'closest': 4231, 'Jessica': 4232, 'compelling': 4233, 'ambitious': 4234, 'soul': 4235, 'affects': 4236, 'moon': 4237, 'appeals': 4238, 'combine': 4239, 'sealed': 4240, 'humor': 4241, 'scared': 4242, 'U': 4243, 'employs': 4244, 'evil': 4245, 'spreading': 4246, 'motorcycle': 4247, 'Real': 4248, 'excessive': 4249, 'recycling': 4250, 'mothers': 4251, 'exclusively': 4252, 'Ten': 4253, 'convert': 4254, 'exceed': 4255, 'tall': 4256, 'threaten': 4257, 'vessel': 4258, 'shy': 4259, 'Cuban': 4260, 'patterns': 4261, 'valid': 4262, 'reminded': 4263, 'criminals': 4264, 'heritage': 4265, 'Lopez': 4266, 'smooth': 4267, 'interior': 4268, 'burst': 4269, 'ignore': 4270, 'lowered': 4271, 'flames': 4272, 'lobby': 4273, 'Abbas': 4274, 'approaching': 4275, 'poised': 4276, 'loud': 4277, 'radical': 4278, 'awesome': 4279, 'technique': 4280, 'dealer': 4281, 'chicken': 4282, 'acceptance': 4283, 'appreciation': 4284, 'figured': 4285, 'drops': 4286, 'Donald': 4287, 'tables': 4288, 'dies': 4289, 'collision': 4290, 'ingredients': 4291, 'partnerships': 4292, 'helpful': 4293, 'Stone': 4294, 'stakes': 4295, 'stone': 4296, 'Sir': 4297, 'prayer': 4298, 'sand': 4299, 'Tiger': 4300, 'Brady': 4301, 'draws': 4302, 'solely': 4303, 'guitar': 4304, 'Summer': 4305, 'overwhelming': 4306, 'elementary': 4307, 'Book': 4308, 'devoted': 4309, 'Bobby': 4310, 'Christians': 4311, 'northwest': 4312, 'volatile': 4313, 'script': 4314, 'catching': 4315, 'effectiveness': 4316, 'wrestling': 4317, 'Spencer': 4318, 'implications': 4319, 'recalls': 4320, 'hybrid': 4321, 'genuine': 4322, 'fails': 4323, 'scrutiny': 4324, 'venues': 4325, 'hiding': 4326, 'milestone': 4327, 'strict': 4328, 'wondering': 4329, 'silence': 4330, 'credibility': 4331, 'traditionally': 4332, 'intensity': 4333, 'dated': 4334, 'opposing': 4335, 'Luke': 4336, 'enthusiasm': 4337, 'Pierce': 4338, 'trash': 4339, 'Khan': 4340, 'Fish': 4341, 'battles': 4342, 'retiring': 4343, 'realistic': 4344, 'Christ': 4345, 'lengthy': 4346, 'isolated': 4347, 'spotlight': 4348, 'inspiration': 4349, 'staged': 4350, 'frozen': 4351, 'alternatives': 4352, 'avoided': 4353, 'dependent': 4354, 'pose': 4355, 'contests': 4356, 'appreciated': 4357, 'slump': 4358, 'invitation': 4359, 'Knight': 4360, 'occupation': 4361, 'expression': 4362, 'Barbara': 4363, 'cope': 4364, 'remainder': 4365, 'reflecting': 4366, 'movements': 4367, 'confirmation': 4368, 'notion': 4369, 'fare': 4370, 'laboratory': 4371, 'exchanges': 4372, 'Billy': 4373, 'joke': 4374, 'screens': 4375, 'dedication': 4376, 'nowhere': 4377, 'X': 4378, 'Neil': 4379, 'legendary': 4380, 'Room': 4381, 'ancient': 4382, 'alike': 4383, 'courtroom': 4384, 'supplied': 4385, 'Eight': 4386, 'testify': 4387, 'youngsters': 4388, 'releasing': 4389, 'mystery': 4390, 'Boys': 4391, 'applying': 4392, 'sustain': 4393, 'Latin': 4394, 'commentary': 4395, 'Against': 4396, 'timely': 4397, 'wire': 4398, 'loyal': 4399, 'engaging': 4400, 'Future': 4401, 'kidnapping': 4402, 'Reynolds': 4403, 'reveals': 4404, 'classified': 4405, 'crowded': 4406, 'gradually': 4407, 'mere': 4408, 'object': 4409, 'vegetables': 4410, 'organize': 4411, 'strip': 4412, 'spiritual': 4413, 'urgent': 4414, 'concentrate': 4415, 'chaos': 4416, 'revolution': 4417, 'substitute': 4418, 'advances': 4419, 'Ball': 4420, 'finishes': 4421, 'sweeping': 4422, 'pressed': 4423, 'contacts': 4424, 'terminal': 4425, 'bounce': 4426, 'Linux': 4427, 'turmoil': 4428, 'Brooklyn': 4429, 'spell': 4430, 'Parents': 4431, 'belt': 4432, 'Griffin': 4433, 'History': 4434, 'jazz': 4435, 'credited': 4436, 'log': 4437, 'frustrating': 4438, 'thick': 4439, 'Thank': 4440, 'dust': 4441, 'specialized': 4442, 'experiencing': 4443, 'stays': 4444, 'forgotten': 4445, 'appealing': 4446, 'Light': 4447, 'favored': 4448, 'pit': 4449, 'commodity': 4450, 'Almost': 4451, 'Kate': 4452, 'Swedish': 4453, 'Yeah': 4454, 'stepping': 4455, 'deserved': 4456, 'bearing': 4457, 'hardest': 4458, 'environments': 4459, 'compiled': 4460, 'visual': 4461, 'reluctant': 4462, 'craft': 4463, 'magic': 4464, 'gallery': 4465, 'generous': 4466, 'landmark': 4467, 'successor': 4468, 'influential': 4469, 'voices': 4470, 'Whatever': 4471, 'Stuart': 4472, 'vacant': 4473, 'sometime': 4474, 'strain': 4475, 'governance': 4476, 'pure': 4477, 'seemingly': 4478, 'Bible': 4479, 'transparency': 4480, 'optimism': 4481, 'Resources': 4482, 'Monroe': 4483, 'Player': 4484, 'excellence': 4485, 'refuse': 4486, 'Stock': 4487, 'Jimmy': 4488, 'Rich': 4489, 'performers': 4490, 'Walsh': 4491, 'speeds': 4492, 'Nancy': 4493, 'entries': 4494, 'lasting': 4495, 'Burns': 4496, 'Nation': 4497, 'incredibly': 4498, 'seal': 4499, 'economics': 4500, 'beliefs': 4501, 'tragic': 4502, 'adventure': 4503, 'reaches': 4504, 'collective': 4505, 'controlling': 4506, 'reject': 4507, 'evident': 4508, 'hungry': 4509, 'gray': 4510, 'clerk': 4511, 'fame': 4512, 'array': 4513, 'salt': 4514, 'emphasized': 4515, 'steals': 4516, 'Drew': 4517, 'Care': 4518, 'Magazine': 4519, 'grandmother': 4520, 'advocacy': 4521, 'spectrum': 4522, 'explaining': 4523, 'casualties': 4524, 'sorts': 4525, 'sends': 4526, 'mall': 4527, 'commenting': 4528, 'perception': 4529, 'differently': 4530, 'loving': 4531, 'Eagle': 4532, 'cattle': 4533, 'confusion': 4534, 'scientist': 4535, 'Car': 4536, 'embrace': 4537, 'Hart': 4538, 'kicking': 4539, 'absolute': 4540, 'bone': 4541, 'Working': 4542, 'upside': 4543, 'printed': 4544, 'relation': 4545, 'eliminating': 4546, 'Nine': 4547, 'painted': 4548, 'mechanism': 4549, 'define': 4550, 'Walter': 4551, 'outing': 4552, 'muscle': 4553, 'educate': 4554, 'boxing': 4555, 'Property': 4556, 'intelligent': 4557, 'betting': 4558, 'legend': 4559, 'barriers': 4560, 'theaters': 4561, 'Shaw': 4562, 'Down': 4563, 'snap': 4564, 'schemes': 4565, 'prompting': 4566, 'entity': 4567, 'breakthrough': 4568, 'triumph': 4569, 'ton': 4570, 'Quinn': 4571, 'minus': 4572, 'trails': 4573, 'Twenty': 4574, 'refugees': 4575, 'excuse': 4576, 'celebrities': 4577, 'tension': 4578, 'electoral': 4579, 'invite': 4580, 'Israelis': 4581, 'portable': 4582, 'Sure': 4583, 'Remember': 4584, 'intentions': 4585, 'refusing': 4586, 'graduation': 4587, 'Penn': 4588, '=': 4589, 'ought': 4590, 'sole': 4591, 'couples': 4592, 'Jeremy': 4593, 'clashes': 4594, 'breath': 4595, 'elaborate': 4596, 'organizing': 4597, 'mature': 4598, 'directions': 4599, 'Wild': 4600, 'fighter': 4601, 'motivated': 4602, 'plug': 4603, 'weighed': 4604, 'Was': 4605, 'harsh': 4606, 'bitter': 4607, 'reconstruction': 4608, 'assurance': 4609, 'Cross': 4610, 'gender': 4611, 'Jane': 4612, 'dose': 4613, 'supportive': 4614, 'introducing': 4615, 'hat': 4616, 'tanks': 4617, 'lottery': 4618, 'tender': 4619, 'instant': 4620, 'stupid': 4621, 'enemies': 4622, 'Fans': 4623, 'subsequently': 4624, 'advantages': 4625, 'worthy': 4626, 'shame': 4627, 'conflicts': 4628, 'quietly': 4629, 'benefited': 4630, 'Space': 4631, 'complain': 4632, 'inevitable': 4633, 'desert': 4634, 'Warner': 4635, 'mountains': 4636, 'mosque': 4637, 'occasionally': 4638, 'besides': 4639, 'Sharks': 4640, 'remind': 4641, 'hip': 4642, 'entertaining': 4643, 'willingness': 4644, 'episodes': 4645, 'courage': 4646, 'shifted': 4647, 'Due': 4648, 'counterparts': 4649, 'sentences': 4650, 'satisfaction': 4651, 'fulfill': 4652, 'silent': 4653, 'tourist': 4654, 'Band': 4655, 'Emily': 4656, 'bowling': 4657, 'objects': 4658, 'gonna': 4659, 'endorsement': 4660, 'examination': 4661, 'tensions': 4662, 'Anne': 4663, 'explosive': 4664, 'fantasy': 4665, 'suits': 4666, 'recognizes': 4667, 'minimal': 4668, 'Full': 4669, 'medal': 4670, 'reads': 4671, 'locals': 4672, 'suggestion': 4673, 'workplace': 4674, 'Play': 4675, 'Between': 4676, 'simultaneously': 4677, 'Bar': 4678, 'Rachel': 4679, 'universal': 4680, 'Burke': 4681, 'lifting': 4682, 'recruitment': 4683, 'quest': 4684, 'Holmes': 4685, 'grave': 4686, 'Lynch': 4687, 'argues': 4688, 'bold': 4689, 'brutal': 4690, 'renowned': 4691, 'reconciliation': 4692, 'Jeffrey': 4693, 'Lucas': 4694, 'sleeping': 4695, 'sooner': 4696, 'surveyed': 4697, 'swim': 4698, 'marking': 4699, 'breathing': 4700, 'blind': 4701, 'immune': 4702, 'founding': 4703, 'shifts': 4704, 'Myers': 4705, 'representation': 4706, 'Snow': 4707, 'random': 4708, 'transported': 4709, 'mounted': 4710, 'bottles': 4711, 'presenting': 4712, 'pleasure': 4713, 'Search': 4714, 'surveys': 4715, 'accomplish': 4716, 'dumped': 4717, 'Winter': 4718, 'weigh': 4719, 'evolution': 4720, 'teeth': 4721, 'lately': 4722, 'loses': 4723, 'politically': 4724, 'Carl': 4725, 'Jean': 4726, 'coupled': 4727, 'heels': 4728, 'apartments': 4729, 'Nathan': 4730, 'centered': 4731, 'Jake': 4732, 'unfortunately': 4733, 'Morrison': 4734, 'Owen': 4735, 'chocolate': 4736, 'shootout': 4737, 'tale': 4738, 'marine': 4739, 'tunnel': 4740, 'stomach': 4741, 'enjoys': 4742, 'ugly': 4743, 'Add': 4744, 'arrives': 4745, 'drunk': 4746, 'spare': 4747, 'Boulevard': 4748, 'inability': 4749, 'Julie': 4750, 'Glenn': 4751, 'risky': 4752, 'Tracy': 4753, 'worn': 4754, 'convenient': 4755, 'amongst': 4756, 'exploring': 4757, 'dirty': 4758, 'unnecessary': 4759, 'Private': 4760, 'decides': 4761, 'Hey': 4762, 'inform': 4763, 'yields': 4764, 'implied': 4765, 'Cal': 4766, 'aggressively': 4767, 'devastated': 4768, 'chasing': 4769, 'Smart': 4770, 'spends': 4771, 'Could': 4772, 'graphics': 4773, 'ridiculous': 4774, 'sellers': 4775, 'naturally': 4776, 'Going': 4777, 'calculated': 4778, 'publicity': 4779, 'teenage': 4780, 'justify': 4781, 'radar': 4782, 'mounting': 4783, 'bathroom': 4784, 'liable': 4785, 'climbing': 4786, 'substance': 4787, 'Eddie': 4788, 'Newton': 4789, 'boundaries': 4790, 'pot': 4791, 'dubbed': 4792, 'Raymond': 4793, 'beneath': 4794, 'debts': 4795, 'advancing': 4796, 'Arthur': 4797, 'trusted': 4798, 'Buy': 4799, 'punch': 4800, 'pink': 4801, 'tossed': 4802, 'soaring': 4803, 'possibilities': 4804, 'commonly': 4805, 'pregnancy': 4806, 'Davies': 4807, 'Think': 4808, 'experiment': 4809, 'T.': 4810, 'hostile': 4811, 'expectation': 4812, 'indoor': 4813, 'spaces': 4814, 'firmly': 4815, 'passionate': 4816, 'collections': 4817, 'W': 4818, 'sacrifice': 4819, 'horror': 4820, 'drag': 4821, 'react': 4822, 'raw': 4823, 'Harvey': 4824, 'grows': 4825, 'describing': 4826, 'aiming': 4827, 'belong': 4828, 'Greene': 4829, 'flags': 4830, 'Carol': 4831, 'semi': 4832, 'motivation': 4833, 'continent': 4834, 'Tommy': 4835, 'toy': 4836, 'steadily': 4837, 'Triple': 4838, 'reserved': 4839, 'tops': 4840, 'efficiently': 4841, 'Travis': 4842, 'dragged': 4843, 'refer': 4844, 'emotions': 4845, 'midst': 4846, 'beats': 4847, 'root': 4848, 'memorable': 4849, 'Jose': 4850, 'awful': 4851, 'seeds': 4852, 'Together': 4853, 'occurs': 4854, 'connecting': 4855, 'labels': 4856, 'grandfather': 4857, 'spark': 4858, 'sized': 4859, 'Too': 4860, 'marathon': 4861, 'prospective': 4862, 'tier': 4863, 'Brussels': 4864, 'proportion': 4865, 'deer': 4866, 'cousin': 4867, 'cry': 4868, 'Meyer': 4869, 'hill': 4870, 'Schwarzenegger': 4871, 'Film': 4872, 'transform': 4873, 'warn': 4874, 'Order': 4875, 'teaches': 4876, 'stranded': 4877, 'b': 4878, 'workshops': 4879, 'transformation': 4880, 'terrific': 4881, 'significance': 4882, 'Woman': 4883, 'AND': 4884, 'apology': 4885, 'fierce': 4886, 'contrary': 4887, 'Brett': 4888, 'unacceptable': 4889, 'progressive': 4890, 'constructed': 4891, 'Vincent': 4892, 'friendship': 4893, 'sounded': 4894, 'applies': 4895, 'icon': 4896, 'Tonight': 4897, 'phenomenon': 4898, 'succeeded': 4899, 'Chuck': 4900, 'Making': 4901, 'Credit': 4902, 'hook': 4903, 'Belgium': 4904, 'atop': 4905, 'Theater': 4906, 'relate': 4907, 'corners': 4908, 'G.': 4909, 'fireworks': 4910, 'grain': 4911, 'scary': 4912, 'Performance': 4913, 'toxic': 4914, 'shorter': 4915, 'forming': 4916, 'varsity': 4917, 'partially': 4918, 'decisive': 4919, 'feeding': 4920, 'Days': 4921, 'toughest': 4922, 'orange': 4923, 'paintings': 4924, 'automated': 4925, 'Talk': 4926, 'extends': 4927, 'Max': 4928, 'conscious': 4929, 'poorly': 4930, 'Stanley': 4931, 'lows': 4932, 'instrument': 4933, 'dangers': 4934, 'columnist': 4935, 'seasonal': 4936, 'grounded': 4937, 'Sanders': 4938, 'journalism': 4939, 'shifting': 4940, 'owed': 4941, 'interaction': 4942, 'confused': 4943, 'dominate': 4944, 'sank': 4945, 'loyalty': 4946, 'encourages': 4947, 'followers': 4948, 'Grace': 4949, 'Zone': 4950, 'robbed': 4951, 'notably': 4952, 'embedded': 4953, 'Gregory': 4954, 'Denmark': 4955, 'liquid': 4956, 'Devils': 4957, 'talents': 4958, 'fits': 4959, 'preview': 4960, 'ladies': 4961, 'colorful': 4962, 'employ': 4963, 'twenty': 4964, 'relieved': 4965, 'demonstrates': 4966, 'heroes': 4967, 'superb': 4968, 'courtesy': 4969, 'Girls': 4970, 'halfway': 4971, 'anxious': 4972, 'strengths': 4973, 'minded': 4974, 'mild': 4975, 'humanity': 4976, 'manufactured': 4977, 'centuries': 4978, 'pray': 4979, 'screaming': 4980, 'cheese': 4981, 'combines': 4982, 'shoulders': 4983, 'Temple': 4984, 'Elliott': 4985, 'severely': 4986, 'Marcus': 4987, 'recreation': 4988, 'notable': 4989, 'bite': 4990, 'bears': 4991, 'pupils': 4992, 'laying': 4993, 'premises': 4994, 'searches': 4995, 'caring': 4996, 'Child': 4997, 'profession': 4998, 'hurting': 4999, 'inquiries': 5000, 'contender': 5001, 'Fortune': 5002, 'relaxed': 5003, 'literature': 5004, 'Norman': 5005, 'historically': 5006, 'Heart': 5007, 'travels': 5008, 'throws': 5009, 'stunned': 5010, 'patience': 5011, 'Nevertheless': 5012, 'regain': 5013, 'Leading': 5014, 'Final': 5015, 'photographer': 5016, 'floating': 5017, 'showdown': 5018, 'chemistry': 5019, 'questionable': 5020, 'Give': 5021, 'openly': 5022, 'Professional': 5023, 'Never': 5024, 'impacts': 5025, 'pin': 5026, 'scattered': 5027, 'rider': 5028, 'wherever': 5029, 'wrap': 5030, 'reduces': 5031, 'sticking': 5032, 'Run': 5033, 'stretched': 5034, 'torn': 5035, 'ace': 5036, 'rocks': 5037, 'styles': 5038, 'importantly': 5039, 'Left': 5040, 'trademark': 5041, 'blowing': 5042, 'hostage': 5043, 'proving': 5044, 'develops': 5045, 'diluted': 5046, 'bolster': 5047, 'credible': 5048, 'complaining': 5049, 'transparent': 5050, 'Reagan': 5051, 'Strong': 5052, 'undergo': 5053, 'Ted': 5054, 'attracting': 5055, 'Robin': 5056, 'smell': 5057, 'considerably': 5058, 'psychological': 5059, 'desperately': 5060, 'Discovery': 5061, 'fingers': 5062, 'remembers': 5063, 'aftermath': 5064, 't': 5065, 'Charleston': 5066, 'origin': 5067, 'analyze': 5068, 'sum': 5069, 'mainland': 5070, 'mill': 5071, 'bloody': 5072, 'Case': 5073, 'Auto': 5074, 'Has': 5075, 'Said': 5076, 'disagree': 5077, 'regret': 5078, 'Better': 5079, 'pact': 5080, 'starring': 5081, 'Dick': 5082, 'celebrates': 5083, 'abilities': 5084, 'reminder': 5085, 'brown': 5086, 'Inside': 5087, 'haul': 5088, 'Lauren': 5089, 'artistic': 5090, 'eventual': 5091, 'flows': 5092, 'closes': 5093, 'locate': 5094, 'unbelievable': 5095, 'satisfy': 5096, 'Leonard': 5097, 'flavor': 5098, 'ski': 5099, 'surprisingly': 5100, 'tipped': 5101, 'Pete': 5102, 'strokes': 5103, 'Miles': 5104, 'Oliver': 5105, 'unhappy': 5106, 'Philip': 5107, 'denying': 5108, 'influenced': 5109, 'shootings': 5110, 'beloved': 5111, 'shocking': 5112, 'Goldman': 5113, 'predecessor': 5114, 'plagued': 5115, 'recipe': 5116, 'plain': 5117, 'routinely': 5118, 'civic': 5119, 'investigator': 5120, 'assignment': 5121, 'Father': 5122, 'PR': 5123, 'buzz': 5124, 'enters': 5125, 'contenders': 5126, 'garbage': 5127, 'borrow': 5128, 'Ocean': 5129, 'builds': 5130, 'BMW': 5131, 'emotion': 5132, 'commerce': 5133, 'abandon': 5134, 'Yale': 5135, 'occasional': 5136, 'phrase': 5137, 'Geneva': 5138, 'Death': 5139, 'rhythm': 5140, 'undermine': 5141, 'mate': 5142, 'avoiding': 5143, 'Less': 5144, 'weakened': 5145, 'boasts': 5146, 'contents': 5147, 'pickup': 5148, 'grip': 5149, 'combining': 5150, 'shaped': 5151, 'reliance': 5152, 'scare': 5153, 'refusal': 5154, 'fortune': 5155, 'visitor': 5156, 'subscriber': 5157, 'tear': 5158, 'bout': 5159, 'workout': 5160, 'pants': 5161, 'convenience': 5162, 'Dance': 5163, 'glory': 5164, 'F.': 5165, 'trick': 5166, 'laughing': 5167, 'seller': 5168, 'beaches': 5169, 'Late': 5170, 'Beyond': 5171, 'separation': 5172, 'mad': 5173, 'AAA': 5174, 'Louis': 5175, 'amateur': 5176, 'anchor': 5177, 'placement': 5178, 'contend': 5179, 'wasted': 5180, 'limitations': 5181, 'Welsh': 5182, 'confrontation': 5183, 'wondered': 5184, 'cure': 5185, 'Moon': 5186, 'upbeat': 5187, 'inner': 5188, 'Ask': 5189, 'horrible': 5190, 'countless': 5191, 'distinct': 5192, 'skilled': 5193, 'needing': 5194, 'directing': 5195, 'casual': 5196, 'Nicole': 5197, 'diplomat': 5198, 'Moody': 5199, 'chef': 5200, 'pile': 5201, 'Set': 5202, 'concentration': 5203, 'rewards': 5204, 'technological': 5205, 'worship': 5206, 'assuming': 5207, 'corrupt': 5208, 'cheer': 5209, 'catalog': 5210, 'improves': 5211, 'processor': 5212, 'Low': 5213, 'sheet': 5214, 'shadow': 5215, 'homicide': 5216, 'Critics': 5217, 'inspire': 5218, 'Freeman': 5219, 'Basketball': 5220, 'interference': 5221, 'rivalry': 5222, 'embarrassing': 5223, 'Apparently': 5224, 'Barrett': 5225, 'Had': 5226, 'MTV': 5227, 'complications': 5228, 'Derek': 5229, 'convincing': 5230, '7th': 5231, 'smiling': 5232, 'trauma': 5233, 'undergoing': 5234, 'Castro': 5235, 'transformed': 5236, 'lacked': 5237, 'prescription': 5238, 'abused': 5239, 'fragile': 5240, 'Stern': 5241, 'Short': 5242, 'instances': 5243, 'chronic': 5244, 'twist': 5245, 'blend': 5246, 'Throughout': 5247, 'Anna': 5248, 'machinery': 5249, 'revenge': 5250, 'mud': 5251, 'misdemeanor': 5252, 'Arnold': 5253, 'fax': 5254, 'intact': 5255, 'weird': 5256, 'swap': 5257, 'strained': 5258, 'dig': 5259, 'Shore': 5260, 'summary': 5261, 'rhetoric': 5262, 'associations': 5263, 'exam': 5264, 'zoning': 5265, 'vary': 5266, 'Story': 5267, 'architect': 5268, 'Halloween': 5269, 'flash': 5270, 'naked': 5271, 'patch': 5272, 'turf': 5273, 'counterpart': 5274, 'dip': 5275, 'Human': 5276, 'instantly': 5277, 'PA': 5278, 'Johnny': 5279, 'coordinated': 5280, 'Master': 5281, 'finest': 5282, 'wounds': 5283, 'retreat': 5284, 'outright': 5285, 'settings': 5286, 'Certainly': 5287, 'downs': 5288, 'themes': 5289, 'distributors': 5290, 'Colin': 5291, 'precisely': 5292, 'Boyd': 5293, 'immigrant': 5294, 'tissue': 5295, 'rolls': 5296, 'enthusiastic': 5297, 'filming': 5298, 'capitalize': 5299, 'sake': 5300, 'correctly': 5301, 'lacking': 5302, 'precise': 5303, 'linking': 5304, 'practiced': 5305, 'creativity': 5306, 'lovely': 5307, 'Margaret': 5308, 'iconic': 5309, 'Stop': 5310, 'woods': 5311, 'unlimited': 5312, 'Gay': 5313, 'gates': 5314, 'accomplishments': 5315, 'dipped': 5316, 'lyrics': 5317, 'Schmidt': 5318, 'steam': 5319, 'divide': 5320, 'dishes': 5321, 'Off': 5322, 'animated': 5323, 'layer': 5324, 'belongs': 5325, 'enacted': 5326, 'battered': 5327, 'confronted': 5328, 'Kenneth': 5329, 'genes': 5330, 'televised': 5331, 'relax': 5332, 'Jesse': 5333, 'hailed': 5334, 'casting': 5335, 'rounded': 5336, 'folk': 5337, 'elevated': 5338, 'lesser': 5339, 'Chen': 5340, 'Kurdish': 5341, 'Doyle': 5342, 'thorough': 5343, 'poster': 5344, 'studios': 5345, 'performer': 5346, 'Pa.': 5347, 'Traffic': 5348, 'assembled': 5349, 'bother': 5350, 'consistency': 5351, 'Someone': 5352, 'Tucker': 5353, 'cake': 5354, 'worrying': 5355, 'Nicholas': 5356, 'marry': 5357, 'wheels': 5358, 'Playing': 5359, 'altogether': 5360, 'exercises': 5361, 'favors': 5362, 'Boy': 5363, 'photography': 5364, 'instructor': 5365, 'yelling': 5366, 'disturbing': 5367, 'murders': 5368, 'compact': 5369, 'examining': 5370, 'threatens': 5371, 'Bowl': 5372, 'reflection': 5373, 'touching': 5374, 'proves': 5375, 'pizza': 5376, 'prisoner': 5377, 'diamond': 5378, 'Shawn': 5379, 'uncomfortable': 5380, 'anonymous': 5381, 'crushed': 5382, 'brave': 5383, 'obstacles': 5384, 'juvenile': 5385, 'merit': 5386, 'clicking': 5387, 'piano': 5388, 'stripped': 5389, 'enhancing': 5390, 'romantic': 5391, 'interact': 5392, 'blacks': 5393, 'webcast': 5394, 'billing': 5395, 'ear': 5396, 'Joel': 5397, 'composed': 5398, 'convictions': 5399, 'cops': 5400, 'Unless': 5401, 'Mars': 5402, 'interpretation': 5403, 'Very': 5404, '8th': 5405, 'poses': 5406, 'healing': 5407, 'cinema': 5408, 'photograph': 5409, 'heated': 5410, 'processed': 5411, 'Heather': 5412, 'parallel': 5413, 'Half': 5414, 'wash': 5415, 'editing': 5416, 'incorporate': 5417, 'racist': 5418, 'observations': 5419, 'mechanical': 5420, 'precious': 5421, 'lowering': 5422, 'lovers': 5423, 'forwards': 5424, 'highways': 5425, 'dignity': 5426, 'Vice': 5427, 'tends': 5428, 'universe': 5429, 'lacks': 5430, 'Brent': 5431, 'accelerated': 5432, 'wary': 5433, 'Walk': 5434, 'spite': 5435, 'conclusions': 5436, 'Tell': 5437, 'resist': 5438, 'undertaken': 5439, 'jokes': 5440, 'embraced': 5441, 'characterized': 5442, 'dismiss': 5443, 'suited': 5444, 'fitting': 5445, 'lend': 5446, 'Hicks': 5447, 'misleading': 5448, 'insights': 5449, 'freely': 5450, 'Battle': 5451, 'duration': 5452, 'accompanying': 5453, 'Falls': 5454, 'standout': 5455, 'slim': 5456, 'genre': 5457, 'abuses': 5458, 'K.': 5459, 'overwhelmed': 5460, 'documented': 5461, 'mirror': 5462, 'Baby': 5463, 'Outside': 5464, 'dependence': 5465, 'portions': 5466, 'recreational': 5467, 'consuming': 5468, 'breakdown': 5469, 'revealing': 5470, 'bust': 5471, 'racial': 5472, 'wooden': 5473, 'encountered': 5474, 'Hours': 5475, 'belonged': 5476, 'anticipation': 5477, 'trim': 5478, 'deferred': 5479, 'Kathy': 5480, 'maturity': 5481, 'pub': 5482, 'Deal': 5483, 'Carlos': 5484, 'flee': 5485, 'distant': 5486, 'circles': 5487, 'secrets': 5488, 'expressing': 5489, 'niche': 5490, 'toss': 5491, 'nightmare': 5492, 'suspend': 5493, 'preference': 5494, 'inadequate': 5495, 'confirms': 5496, 'Jersey': 5497, 'revolutionary': 5498, 'scam': 5499, 'Nash': 5500, 'booking': 5501, 'rode': 5502, 'Lost': 5503, 'slash': 5504, 'Bernard': 5505, 'Santa': 5506, 'backyard': 5507, 'Beck': 5508, 'wounding': 5509, 'Meet': 5510, 'surrender': 5511, 'dish': 5512, 'performs': 5513, 'handles': 5514, 'oral': 5515, 'relying': 5516, 'washed': 5517, 'spy': 5518, 'bizarre': 5519, 'shook': 5520, 'Hoffman': 5521, 'Rebecca': 5522, 'Universal': 5523, 'invisible': 5524, 'Something': 5525, 'meltdown': 5526, 'Berkeley': 5527, 'derived': 5528, 'twin': 5529, 'scratch': 5530, 'Meeting': 5531, 'doses': 5532, 'Fortunately': 5533, 'okay': 5534, 'fleeing': 5535, 'ethical': 5536, 'consumed': 5537, 'Guardian': 5538, 'brush': 5539, 'traditions': 5540, 'ears': 5541, 'Guard': 5542, 'faithful': 5543, 'believing': 5544, 'Willis': 5545, 'Bucks': 5546, 'digs': 5547, 'desired': 5548, 'bones': 5549, 'insult': 5550, 'existed': 5551, 'Hot': 5552, 'Berry': 5553, 'persistent': 5554, 'portal': 5555, 'mixture': 5556, 'cultures': 5557, 'Want': 5558, 'bullet': 5559, 'urges': 5560, 'candy': 5561, 'feat': 5562, 'unaware': 5563, 'angle': 5564, 'Veterans': 5565, 'generic': 5566, 'curious': 5567, 'squeeze': 5568, 'gangs': 5569, 'compatible': 5570, 'Spirit': 5571, 'smallest': 5572, 'Election': 5573, 'wisdom': 5574, 'blessed': 5575, 'owe': 5576, 'promotes': 5577, 'continually': 5578, 'beside': 5579, 'spirits': 5580, 'evolved': 5581, 'threshold': 5582, 'Drug': 5583, 'qualities': 5584, 'backdrop': 5585, 'rewarded': 5586, 'protective': 5587, 'urgency': 5588, 'hottest': 5589, 'Few': 5590, 'ceremonies': 5591, 'journal': 5592, 'critic': 5593, 'blessing': 5594, 'cotton': 5595, 'silly': 5596, 'deliberately': 5597, 'violates': 5598, 'tapped': 5599, 'epic': 5600, 'blues': 5601, 'concludes': 5602, 'complexity': 5603, 'Carpenter': 5604, 'Vietnamese': 5605, 'Danish': 5606, 'dancers': 5607, 'fabric': 5608, 'references': 5609, 'forests': 5610, 'collaborative': 5611, 'regards': 5612, 'albeit': 5613, 'Portuguese': 5614, 'nasty': 5615, 'Eventually': 5616, 'dawn': 5617, 'holy': 5618, 'renewal': 5619, 'Georgian': 5620, 'plunge': 5621, \"O'Neill\": 5622, 'manual': 5623, 'comic': 5624, 'Christine': 5625, 'Nixon': 5626, 'prone': 5627, 'gaps': 5628, 'refers': 5629, 'Weber': 5630, 'Wang': 5631, 'nod': 5632, 'fundamentals': 5633, 'thoroughly': 5634, 'vibrant': 5635, 'Madonna': 5636, 'hostages': 5637, 'successes': 5638, 'tackling': 5639, 'absent': 5640, 'Floyd': 5641, 'genocide': 5642, 'mum': 5643, 'lawn': 5644, 'tense': 5645, 'bubble': 5646, 'attraction': 5647, 'overweight': 5648, 'pursued': 5649, 'surviving': 5650, 'exploit': 5651, 'Cunningham': 5652, 'mount': 5653, 'shaking': 5654, 'booming': 5655, 'Welcome': 5656, 'mentally': 5657, 'disabilities': 5658, 'Behind': 5659, 'arguably': 5660, 'Either': 5661, 'True': 5662, 'endured': 5663, 'Brothers': 5664, 'underneath': 5665, 'supposedly': 5666, 'ensures': 5667, 'assassination': 5668, 'blasts': 5669, 'logic': 5670, 'laughed': 5671, 'Rookie': 5672, 'cellular': 5673, 'unrelated': 5674, 'Nor': 5675, 'confront': 5676, 'sack': 5677, 'Leon': 5678, 'scrap': 5679, 'Samuel': 5680, 'knees': 5681, 'Revolution': 5682, 'Try': 5683, 'siblings': 5684, 'concepts': 5685, 'wines': 5686, 'profiles': 5687, 'Double': 5688, 'twelve': 5689, 'forefront': 5690, 'racism': 5691, 'Century': 5692, 'imagination': 5693, 'cigarette': 5694, 'scan': 5695, 'Apart': 5696, 'lean': 5697, 'lecture': 5698, 'Bear': 5699, 'Latino': 5700, 'wreck': 5701, 'Start': 5702, 'alter': 5703, 'stellar': 5704, 'Abbott': 5705, 'glasses': 5706, 'Opera': 5707, 'colored': 5708, 'grace': 5709, 'unsuccessful': 5710, 'attackers': 5711, 'males': 5712, 'skip': 5713, 'bronze': 5714, 'distinction': 5715, 'detective': 5716, 'resolutions': 5717, 'distinguished': 5718, 'translate': 5719, 'superstar': 5720, 'cop': 5721, 'sequence': 5722, 'calories': 5723, 'Otherwise': 5724, 'tail': 5725, 'swinging': 5726, 'outlet': 5727, 'explosions': 5728, 'breed': 5729, 'strictly': 5730, 'Angel': 5731, 'laptops': 5732, 'Independence': 5733, 'Courtney': 5734, 'alternate': 5735, 'Pelosi': 5736, 'Block': 5737, 'secular': 5738, 'ours': 5739, 'lighter': 5740, 'construct': 5741, 'lit': 5742, 'ate': 5743, 'Girl': 5744, 'sensitivity': 5745, 'refuses': 5746, 'Nolan': 5747, 'Mom': 5748, 'attitudes': 5749, 'Guy': 5750, 'honestly': 5751, 'Hopkins': 5752, 'Queens': 5753, 'Fraser': 5754, 'therapeutic': 5755, 'sluggish': 5756, 'sticks': 5757, 'Electric': 5758, 'giants': 5759, 'mobility': 5760, 'codes': 5761, 'respects': 5762, 'shelf': 5763, 'Focus': 5764, 'intimate': 5765, 'bias': 5766, 'Klein': 5767, 'shine': 5768, 'rings': 5769, 'laser': 5770, 'demonstrating': 5771, 'romance': 5772, 'smuggling': 5773, 'moratorium': 5774, 'pivotal': 5775, 'namely': 5776, 'beverage': 5777, 'denial': 5778, 'sights': 5779, 'stamp': 5780, 'inviting': 5781, 'observe': 5782, 'relies': 5783, 'boots': 5784, 'Alice': 5785, 'outrage': 5786, 'Sound': 5787, 'Dad': 5788, 'watches': 5789, 'fraction': 5790, 'Belgian': 5791, 'depressed': 5792, 'realizing': 5793, 'sexy': 5794, 'addiction': 5795, 'creator': 5796, 'clouds': 5797, 'starred': 5798, 'Donovan': 5799, 'jacket': 5800, 'hurts': 5801, 'scenarios': 5802, 'solved': 5803, 'stimulate': 5804, 'leap': 5805, 'shelves': 5806, 'Ralph': 5807, 'Empire': 5808, 'appetite': 5809, 'bothered': 5810, 'shell': 5811, 'essence': 5812, 'pen': 5813, 'borrowed': 5814, 'verge': 5815, 'Allison': 5816, 'worlds': 5817, 'expose': 5818, 'accurately': 5819, 'Stage': 5820, 'structured': 5821, 'setup': 5822, 'suffers': 5823, 'relied': 5824, 'Victor': 5825, 'reunion': 5826, 'Dawson': 5827, 'Middle': 5828, 'shower': 5829, 'Eugene': 5830, 'similarly': 5831, 'Reyes': 5832, 'supermarket': 5833, 'notorious': 5834, 'happiness': 5835, 'filmed': 5836, 'monster': 5837, 'mysterious': 5838, 'Thirty': 5839, 'Sharp': 5840, 'Catherine': 5841, 'Weaver': 5842, 'Imagine': 5843, 'logical': 5844, 'fiction': 5845, 'isolation': 5846, 'vintage': 5847, 'acute': 5848, 'reminds': 5849, 'glimpse': 5850, 'Ultimately': 5851, 'Average': 5852, 'yielded': 5853, 'subjected': 5854, 'framing': 5855, 'embarrassed': 5856, 'helm': 5857, 'tightening': 5858, 'collectively': 5859, 'cheering': 5860, 'fascinating': 5861, 'technically': 5862, 'reasonably': 5863, 'surprises': 5864, 'archive': 5865, 'Mother': 5866, 'IV': 5867, 'mouse': 5868, 'welcomes': 5869, 'practically': 5870, 'Put': 5871, 'shouted': 5872, 'restoring': 5873, 'stabbing': 5874, 'positively': 5875, 'clause': 5876, 'Stay': 5877, 'discretion': 5878, 'extremists': 5879, 'Sara': 5880, 'sympathy': 5881, 'unified': 5882, 'Bad': 5883, 'arise': 5884, 'Joshua': 5885, 'territories': 5886, 'Hanson': 5887, 'pork': 5888, 'notch': 5889, 'Betty': 5890, 'Diane': 5891, 'misses': 5892, 'sink': 5893, 'throat': 5894, 'commercials': 5895, 'Circuit': 5896, 'punched': 5897, 'Trinity': 5898, 'frames': 5899, 'admitting': 5900, 'hooked': 5901, 'attributable': 5902, 'Schneider': 5903, 'themed': 5904, 'Age': 5905, 'laughs': 5906, 'governmental': 5907, 'Norwegian': 5908, 'portrait': 5909, 'makeup': 5910, 'Copenhagen': 5911, 'utilizing': 5912, 'arc': 5913, 'clinch': 5914, 'poetry': 5915, 'egg': 5916, 'ignoring': 5917, 'Dog': 5918, 'weaknesses': 5919, 'miracle': 5920, 'suppose': 5921, 'cracked': 5922, 'portrayed': 5923, 'compensate': 5924, 'slots': 5925, 'bargain': 5926, 'Dream': 5927, 'plates': 5928, 'experimental': 5929, 'boring': 5930, 'staging': 5931, 'propaganda': 5932, 'diplomacy': 5933, 'farther': 5934, 'capturing': 5935, 'rejection': 5936, 'innovations': 5937, 'lengths': 5938, 'Events': 5939, 'Edge': 5940, 'observation': 5941, 'Li': 5942, 'participant': 5943, 'rewarding': 5944, 'clever': 5945, 'bikes': 5946, 'prolonged': 5947, 'treats': 5948, 'selecting': 5949, 'Dana': 5950, 'burns': 5951, 'clarity': 5952, 'exceeding': 5953, 'professors': 5954, 'Enron': 5955, 'profound': 5956, 'stranger': 5957, 'smoothly': 5958, 'slain': 5959, 'Fast': 5960, 'specifics': 5961, 'akin': 5962, 'contentious': 5963, 'Fiji': 5964, 'Russians': 5965, 'unexpectedly': 5966, 'bow': 5967, 'Payne': 5968, 'Close': 5969, 'Rules': 5970, 'pinch': 5971, 'fancy': 5972, 'individually': 5973, 'disastrous': 5974, 'Dead': 5975, 'disappear': 5976, 'undoubtedly': 5977, 'Edition': 5978, 'autopsy': 5979, 'Jackie': 5980, 'stretches': 5981, 'Diaz': 5982, 'drain': 5983, 'caliber': 5984, 'endless': 5985, 'Except': 5986, 'comparing': 5987, 'em': 5988, 'subtle': 5989, 'companion': 5990, 'Ever': 5991, 'adequately': 5992, 'batch': 5993, 'Upper': 5994, 'nightclub': 5995, 'afterwards': 5996, 'fluid': 5997, 'famed': 5998, 'NYC': 5999, 'pumps': 6000, 'feeds': 6001, 'disciplined': 6002, 'indigenous': 6003, 'dug': 6004, 'Side': 6005, 'popped': 6006, 'grandparents': 6007, 'Kane': 6008, 'spun': 6009, 'lifts': 6010, 'sequel': 6011, 'BA': 6012, 'Hardy': 6013, 'economically': 6014, 'honoring': 6015, 'defeats': 6016, 'Juan': 6017, 'artwork': 6018, 'leather': 6019, 'shaky': 6020, 'singers': 6021, 'personalities': 6022, 'Adrian': 6023, 'inspiring': 6024, 'Q.': 6025, 'hype': 6026, 'trace': 6027, 'bullets': 6028, 'preceded': 6029, 'necessity': 6030, 'unusually': 6031, 'crashing': 6032, 'dive': 6033, 'demographic': 6034, 'guilt': 6035, 'void': 6036, 'Erin': 6037, 'Sweet': 6038, 'float': 6039, 'opera': 6040, 'intellectual': 6041, 'layers': 6042, 'ambitions': 6043, 'downside': 6044, 'acknowledges': 6045, 'loads': 6046, 'surpassed': 6047, 'hammer': 6048, 'gesture': 6049, 'ladder': 6050, 'bits': 6051, 'broadly': 6052, 'Aside': 6053, 'mechanisms': 6054, 'grief': 6055, 'hefty': 6056, 'masses': 6057, 'touches': 6058, 'Return': 6059, 'aspirations': 6060, 'temple': 6061, 'Works': 6062, 'slice': 6063, 'Large': 6064, 'phenomenal': 6065, 'sheer': 6066, 'Willie': 6067, 'hence': 6068, 'outings': 6069, 'freight': 6070, 'junk': 6071, 'leaning': 6072, 'sailors': 6073, 'assumption': 6074, 'heightened': 6075, 'authentic': 6076, 'tricky': 6077, 'flies': 6078, 'unsure': 6079, 'Upon': 6080, 'brink': 6081, 'ranges': 6082, 'precision': 6083, 'Lead': 6084, 'delight': 6085, 'Animal': 6086, 'Speed': 6087, 'distinctive': 6088, 'jumps': 6089, 'bull': 6090, 'stretching': 6091, 'Box': 6092, 'tunes': 6093, 'Tomorrow': 6094, 'Angela': 6095, 'Randolph': 6096, 'cushion': 6097, 'charitable': 6098, 'riot': 6099, 'intentionally': 6100, 'experiments': 6101, 'trap': 6102, 'unavailable': 6103, 'Aussie': 6104, 'balances': 6105, 'utilized': 6106, 'furious': 6107, 'hinted': 6108, 'playground': 6109, 'confined': 6110, 'wonders': 6111, 'mask': 6112, 'rap': 6113, 'ambition': 6114, 'losers': 6115, 'shouting': 6116, 'reversal': 6117, 'consequence': 6118, 'Dawn': 6119, 'pinned': 6120, 'pulls': 6121, 'preserving': 6122, 'proposes': 6123, 'installment': 6124, 'blanket': 6125, 'exhausted': 6126, 'posing': 6127, 'mentality': 6128, 'Morning': 6129, 'rigorous': 6130, 'hint': 6131, 'pond': 6132, 'expands': 6133, 'Especially': 6134, 'foremost': 6135, 'Know': 6136, 'plight': 6137, 'heal': 6138, 'queen': 6139, 'Nature': 6140, 'aided': 6141, 'overlooked': 6142, 'coat': 6143, 'columns': 6144, 'lightning': 6145, 'Norton': 6146, 'altered': 6147, 'tighter': 6148, 'richest': 6149, 'sunny': 6150, 'absorb': 6151, 'astronauts': 6152, 'Really': 6153, 'evolving': 6154, 'Usually': 6155, 'lobbyists': 6156, 'toilet': 6157, 'grocery': 6158, 'costumes': 6159, 'flawed': 6160, 'Fresh': 6161, 'criticizing': 6162, 'nicely': 6163, 'Joan': 6164, 'Often': 6165, 'Austrian': 6166, 'tendency': 6167, 'obstacle': 6168, 'sheets': 6169, 'shaping': 6170, 'smiles': 6171, 'stuffed': 6172, 'doubling': 6173, 'showers': 6174, 'purely': 6175, 'cares': 6176, 'topping': 6177, 'Croatia': 6178, 'Consider': 6179, 'catastrophic': 6180, 'breast': 6181, 'tolerance': 6182, 'wives': 6183, 'Carey': 6184, 'Nike': 6185, 'whites': 6186, 'Blood': 6187, 'earns': 6188, 'animation': 6189, 'Harbor': 6190, 'emergence': 6191, 'Ice': 6192, 'precedent': 6193, 'literacy': 6194, 'La': 6195, 'Bring': 6196, 'enthusiasts': 6197, 'generates': 6198, 'lover': 6199, 'clarify': 6200, 'elegant': 6201, 'jam': 6202, 'wears': 6203, 'vulnerability': 6204, 'Personal': 6205, 'accomplishment': 6206, 'comparisons': 6207, 'spinning': 6208, 'tenth': 6209, 'crises': 6210, 'fairness': 6211, 'Flynn': 6212, 'filter': 6213, 'Job': 6214, 'inconsistent': 6215, 'Soldiers': 6216, 'surgical': 6217, 'constraints': 6218, 'Dylan': 6219, 'navigate': 6220, 'Mediterranean': 6221, 'possess': 6222, 'youngster': 6223, 'attractions': 6224, 'reactions': 6225, 'cheered': 6226, 'prescribed': 6227, 'Everett': 6228, 'fabulous': 6229, 'innocence': 6230, 'darkness': 6231, 'imagined': 6232, 'terrain': 6233, 'Argentine': 6234, 'Hewitt': 6235, 'dismal': 6236, 'cared': 6237, 'grasp': 6238, 'mold': 6239, 'arising': 6240, 'Holocaust': 6241, 'staggering': 6242, 'narrative': 6243, 'delicious': 6244, 'spreads': 6245, 'liver': 6246, 'productions': 6247, 'literary': 6248, 'turkey': 6249, 'intriguing': 6250, 'pros': 6251, 'lightly': 6252, 'costume': 6253, 'awkward': 6254, 'Basically': 6255, 'adaptation': 6256, 'outrageous': 6257, 'Levy': 6258, 'Potter': 6259, 'Alzheimer': 6260, 'accuse': 6261, 'shallow': 6262, 'bump': 6263, 'tortured': 6264, 'deliberate': 6265, 'cute': 6266, 'curve': 6267, 'Holly': 6268, 'embarrassment': 6269, 'grabs': 6270, 'assumes': 6271, 'potent': 6272, 'pause': 6273, 'Bollywood': 6274, 'rage': 6275, 'versatile': 6276, 'gunfire': 6277, 'Past': 6278, 'sheep': 6279, 'hats': 6280, 'composition': 6281, 'forged': 6282, 'shorts': 6283, 'homework': 6284, 'weighs': 6285, 'entertain': 6286, 'unpaid': 6287, 'overwhelmingly': 6288, 'crafts': 6289, 'ample': 6290, 'clips': 6291, 'recordings': 6292, 'accepts': 6293, 'tube': 6294, 'widow': 6295, 'grim': 6296, 'empire': 6297, 'imprisonment': 6298, 'buttons': 6299, 'Julia': 6300, 'debated': 6301, 'predictable': 6302, 'naval': 6303, 'flip': 6304, 'immense': 6305, 'Barker': 6306, 'confusing': 6307, 'Crystal': 6308, 'consume': 6309, 'sprawling': 6310, 'emotionally': 6311, 'Need': 6312, 'inherent': 6313, 'Acting': 6314, 'undertaking': 6315, 'exceptions': 6316, 'Probably': 6317, 'Sandra': 6318, 'Teen': 6319, 'Van': 6320, 'nephew': 6321, 'inspector': 6322, 'cleaner': 6323, 'recycled': 6324, 'gays': 6325, 'accumulated': 6326, 'troubling': 6327, 'upscale': 6328, 'cooler': 6329, 'owes': 6330, 'nuts': 6331, 'thrilling': 6332, 'muscles': 6333, 'Rising': 6334, 'Rush': 6335, 'Samantha': 6336, 'Pool': 6337, 'sampling': 6338, 'graphic': 6339, 'hampered': 6340, 'Pay': 6341, 'shaken': 6342, 'pleasant': 6343, 'clutch': 6344, 'Sex': 6345, 'chunk': 6346, 'undercover': 6347, 'Catholics': 6348, 'newcomers': 6349, 'Movie': 6350, 'edited': 6351, 'instability': 6352, 'integrating': 6353, 'fuels': 6354, 'Say': 6355, 'swung': 6356, 'surf': 6357, 'Nazi': 6358, 'Fields': 6359, 'thriller': 6360, 'Mann': 6361, 'List': 6362, 'PlayStation': 6363, 'genius': 6364, 'pedestrian': 6365, 'succession': 6366, 'premise': 6367, 'dire': 6368, 'flaws': 6369, 'outline': 6370, 'destined': 6371, 'blank': 6372, 'exotic': 6373, 'continuity': 6374, 'wishing': 6375, 'savvy': 6376, 'packs': 6377, 'defining': 6378, 'Song': 6379, 'filmmakers': 6380, 'satisfying': 6381, 'tentative': 6382, 'wallet': 6383, 'Eleven': 6384, 'insider': 6385, 'enjoyable': 6386, 'merits': 6387, 'cheating': 6388, 'confirming': 6389, 'adapted': 6390, 'Spears': 6391, 'Weekend': 6392, 'horrific': 6393, 'interrupted': 6394, 'heavyweight': 6395, 'Shirley': 6396, 'shield': 6397, 'prevents': 6398, 'Initially': 6399, 'bounds': 6400, 'indefinitely': 6401, 'registering': 6402, 'magical': 6403, 'delicate': 6404, 'lingering': 6405, 'miserable': 6406, 'breathe': 6407, 'cracks': 6408, 'NOT': 6409, 'unnamed': 6410, 'bride': 6411, 'hurry': 6412, 'comfortably': 6413, 'neat': 6414, 'principals': 6415, 'bucket': 6416, 'inevitably': 6417, 'ruined': 6418, 'stiff': 6419, 'verbal': 6420, 'retaliation': 6421, 'drastic': 6422, 'merge': 6423, 'garnered': 6424, 'whatsoever': 6425, 'tongue': 6426, 'reign': 6427, 'compromised': 6428, 'surgeon': 6429, 'hatred': 6430, 'prop': 6431, 'solving': 6432, 'appropriately': 6433, 'Bentley': 6434, 'tainted': 6435, 'slick': 6436, 'Kurds': 6437, 'Tyson': 6438, 'tolerate': 6439, 'artificial': 6440, 'Fleming': 6441, 'cows': 6442, 'Pearl': 6443, 'influences': 6444, 'leaks': 6445, 'crush': 6446, 'lightweight': 6447, 'enforced': 6448, 'overview': 6449, 'irresponsible': 6450, 'laughter': 6451, 'transplant': 6452, 'continuation': 6453, 'thirty': 6454, 'infants': 6455, 'Katherine': 6456, 'readings': 6457, 'societies': 6458, 'Gerald': 6459, 'retaining': 6460, 'impress': 6461, 'Liu': 6462, 'kiss': 6463, 'magnificent': 6464, 'brains': 6465, 'charm': 6466, 'catastrophe': 6467, 'Morton': 6468, 'buck': 6469, 'humble': 6470, 'architectural': 6471, 'pronounced': 6472, 'physics': 6473, 'answering': 6474, 'backward': 6475, 'variations': 6476, 'Rule': 6477, 'nonetheless': 6478, 'enduring': 6479, 'filmmaker': 6480, 'deteriorating': 6481, 'psychology': 6482, 'tailored': 6483, 'spouse': 6484, 'compassion': 6485, 'oh': 6486, 'ideology': 6487, 'formidable': 6488, 'conscience': 6489, 'heck': 6490, 'Rain': 6491, 'swings': 6492, 'advises': 6493, 'connects': 6494, 'bishops': 6495, 'tactic': 6496, 'Randall': 6497, 'edit': 6498, 'dock': 6499, 'praying': 6500, 'Gallagher': 6501, 'bang': 6502, 'Dover': 6503, 'nonsense': 6504, 'cow': 6505, 'catalyst': 6506, 'Minutes': 6507, 'pushes': 6508, 'Wow': 6509, 'flower': 6510, 'chorus': 6511, 'unveil': 6512, 'butter': 6513, 'seated': 6514, 'Considering': 6515, 'speedy': 6516, 'diverted': 6517, 'Waters': 6518, 'alarming': 6519, 'wreckage': 6520, 'drum': 6521, 'definitive': 6522, 'projection': 6523, 'contributes': 6524, 'competent': 6525, 'downhill': 6526, 'nerves': 6527, 'massacre': 6528, 'contempt': 6529, 'orbit': 6530, 'distraction': 6531, 'tricks': 6532, 'relentless': 6533, 'Roman': 6534, 'demise': 6535, 'unpredictable': 6536, 'Mueller': 6537, 'comedian': 6538, 'ingredient': 6539, 'seasoned': 6540, 'heaven': 6541, 'pad': 6542, 'clue': 6543, 'exterior': 6544, 'Kathleen': 6545, 'cracking': 6546, 'rope': 6547, 'Oscars': 6548, 'evolve': 6549, 'cried': 6550, 'Reno': 6551, 'Mario': 6552, 'relates': 6553, 'adjusting': 6554, 'Coal': 6555, 'Bates': 6556, 'k': 6557, 'resorts': 6558, 'nerve': 6559, 'loop': 6560, 'Hogan': 6561, 'prevail': 6562, 'sweat': 6563, 'mortality': 6564, 'shoots': 6565, 'kingdom': 6566, 'blockbuster': 6567, 'stir': 6568, 'trailers': 6569, 'rainy': 6570, 'bent': 6571, 'mergers': 6572, 'powerhouse': 6573, 'rejects': 6574, 'lifelong': 6575, 'distress': 6576, 'detailing': 6577, 'sensation': 6578, 'blows': 6579, 'mob': 6580, 'calculations': 6581, 'crushing': 6582, 'Yang': 6583, 'incomplete': 6584, 'restraint': 6585, 'cruel': 6586, 'o': 6587, 'duck': 6588, 'Glass': 6589, 'needy': 6590, 'Were': 6591, 'variable': 6592, 'trimmed': 6593, 'Malone': 6594, 'testament': 6595, 'ordeal': 6596, 'symbolic': 6597, 'goodwill': 6598, 'classical': 6599, 'destructive': 6600, 'ineffective': 6601, 'thrust': 6602, 'mixing': 6603, 'metropolitan': 6604, 'strangers': 6605, 'paths': 6606, 'dynamics': 6607, 'founders': 6608, 'vague': 6609, 'forgot': 6610, 'tastes': 6611, 'whistle': 6612, 'monopoly': 6613, 'backgrounds': 6614, 'advertised': 6615, 'handy': 6616, 'deterioration': 6617, 'progressed': 6618, 'displaying': 6619, 'subjective': 6620, 'accompany': 6621, 'Dragons': 6622, 'tightened': 6623, 'Simply': 6624, 'toddler': 6625, 'Amid': 6626, 'strides': 6627, 'redemption': 6628, 'gentle': 6629, 'gifted': 6630, 'bore': 6631, 'originated': 6632, 'loser': 6633, 'dresses': 6634, 'Chancellor': 6635, 'underwater': 6636, 'closet': 6637, 'overly': 6638, 'prints': 6639, 'drowned': 6640, 'invites': 6641, 'overdue': 6642, 'Christina': 6643, 'invented': 6644, 'saga': 6645, 'stylish': 6646, 'influx': 6647, 'composer': 6648, 'secretly': 6649, 'consciousness': 6650, 'Hu': 6651, 'backlash': 6652, 'bankrupt': 6653, 'attracts': 6654, 'lesbian': 6655, 'realization': 6656, 'endangered': 6657, 'surfing': 6658, 'Fuller': 6659, 'Powers': 6660, 'endeavor': 6661, 'lively': 6662, 'mechanics': 6663, 'plots': 6664, 'Driver': 6665, 'groundbreaking': 6666, 'Antonio': 6667, 'Shakespeare': 6668, 'translation': 6669, 'quota': 6670, 'undergraduate': 6671, 'withstand': 6672, 'recommending': 6673, 'neglected': 6674, 'creatures': 6675, 'discovering': 6676, 'balloon': 6677, 'bucks': 6678, 'Ellen': 6679, 'dilemma': 6680, 'Truth': 6681, 'troopers': 6682, 'ruin': 6683, 'Marks': 6684, 'commanding': 6685, 'worthwhile': 6686, 'chooses': 6687, 'concession': 6688, 'sounding': 6689, 'insiders': 6690, 'exceptionally': 6691, 'explored': 6692, 'genuinely': 6693, 'dreamed': 6694, 'paced': 6695, 'Phillip': 6696, 'Apollo': 6697, 'Whenever': 6698, 'skies': 6699, 'Far': 6700, 'powder': 6701, 'Hit': 6702, 'Bronx': 6703, 'frankly': 6704, 'comprise': 6705, 'Moving': 6706, 'steering': 6707, 'auditorium': 6708, 'applauded': 6709, 'trusts': 6710, 'skating': 6711, 'tackled': 6712, 'bypass': 6713, 'bath': 6714, 'Body': 6715, 'Cannon': 6716, 'Got': 6717, 'packaged': 6718, 'accidental': 6719, 'collegiate': 6720, 'Happy': 6721, 'relocation': 6722, 'porn': 6723, 'jeopardy': 6724, 'Larson': 6725, 'edges': 6726, 'viewer': 6727, 'endure': 6728, 'tapping': 6729, 'peaked': 6730, 'invaluable': 6731, 'overshadowed': 6732, 'traced': 6733, 'mandates': 6734, 'monument': 6735, 'timeout': 6736, 'Y': 6737, 'cyber': 6738, 'straightforward': 6739, 'Move': 6740, 'fathers': 6741, 'mindset': 6742, 'regrets': 6743, 'acknowledging': 6744, 'Becker': 6745, 'Friedman': 6746, 'killers': 6747, 'Schultz': 6748, 'ins': 6749, 'OS': 6750, 'pie': 6751, 'indicative': 6752, 'irrelevant': 6753, 'sacred': 6754, 'essay': 6755, 'Amber': 6756, 'cream': 6757, 'Son': 6758, 'drawings': 6759, 'Hard': 6760, 'someday': 6761, 'surfaces': 6762, 'swiftly': 6763, 'introduces': 6764, 'gorgeous': 6765, 'equalizer': 6766, 'bug': 6767, 'salvage': 6768, 'plotting': 6769, 'pill': 6770, 'exceeds': 6771, 'cage': 6772, 'Sparks': 6773, 'lungs': 6774, 'extradition': 6775, 'directive': 6776, 'concentrating': 6777, 'ensuing': 6778, 'Content': 6779, 'Claire': 6780, 'resumes': 6781, 'methodology': 6782, 'communicating': 6783, 'Am': 6784, 'yours': 6785, 'Farrell': 6786, 'sums': 6787, 'fueling': 6788, 'Christianity': 6789, 'relocated': 6790, 'Macy': 6791, 'lackluster': 6792, 'stones': 6793, 'MacDonald': 6794, 'energetic': 6795, 'norm': 6796, 'Hussein': 6797, 'bare': 6798, 'fulfilling': 6799, 'fearing': 6800, 'strains': 6801, 'realizes': 6802, 'scandals': 6803, 'revived': 6804, 'gamble': 6805, 'spanning': 6806, 'revelations': 6807, 'smarter': 6808, 'recalling': 6809, 'misery': 6810, 'crisp': 6811, 'mock': 6812, 'revision': 6813, 'faded': 6814, 'improperly': 6815, 'revelation': 6816, 'winding': 6817, 'Norris': 6818, 'Wong': 6819, 'sacrifices': 6820, 'vacuum': 6821, 'definite': 6822, 'Martha': 6823, 'measurements': 6824, 'Damon': 6825, 'rampant': 6826, 'cartoon': 6827, 'mileage': 6828, 'predominantly': 6829, 'reinforced': 6830, 'realities': 6831, 'unconscious': 6832, 'Stevenson': 6833, 'hated': 6834, 'Lodge': 6835, 'juice': 6836, 'anytime': 6837, 'Letter': 6838, 'Savage': 6839, 'extensively': 6840, 'thoughtful': 6841, 'defines': 6842, 'speculative': 6843, 'consolation': 6844, 'slapped': 6845, 'festive': 6846, 'varying': 6847, 'asleep': 6848, 'Malcolm': 6849, 'newcomer': 6850, 'Sally': 6851, 'puzzle': 6852, 'recount': 6853, 'Mile': 6854, 'settlers': 6855, 'couch': 6856, 'laundry': 6857, 'damn': 6858, 'whopping': 6859, 'injected': 6860, 'glance': 6861, 'permitting': 6862, 'rein': 6863, 'crosses': 6864, 'desirable': 6865, 'Wins': 6866, 'ink': 6867, 'nail': 6868, 'Brendan': 6869, 'rendered': 6870, 'Always': 6871, 'Made': 6872, 'understandable': 6873, 'advertisement': 6874, 'soup': 6875, 'problematic': 6876, 'wraps': 6877, 'conditioning': 6878, 'reckless': 6879, 'completes': 6880, 'Fifty': 6881, 'constitutes': 6882, 'Cut': 6883, 'Complex': 6884, 'Opening': 6885, 'Kraft': 6886, 'theatrical': 6887, 'lounge': 6888, 'Ring': 6889, 'heights': 6890, 'convey': 6891, 'exploitation': 6892, 'viability': 6893, 'Orders': 6894, 'slew': 6895, 'vicious': 6896, 'Bermuda': 6897, 'incorporates': 6898, 'absurd': 6899, '**': 6900, 'barbecue': 6901, 'sentiments': 6902, 'dare': 6903, 'lens': 6904, 'Paula': 6905, 'interrogation': 6906, 'responsive': 6907, 'commands': 6908, 'exposing': 6909, 'obsessed': 6910, 'masters': 6911, 'Ladies': 6912, 'refined': 6913, 'Parade': 6914, 'generosity': 6915, 'doubtful': 6916, 'avenues': 6917, 'wipe': 6918, 'elusive': 6919, 'paralyzed': 6920, 'acclaimed': 6921, 'circus': 6922, 'dimension': 6923, 'robberies': 6924, 'translates': 6925, 'punches': 6926, 'Wise': 6927, 'bio': 6928, 'Millions': 6929, 'laden': 6930, 'rattled': 6931, 'switches': 6932, 'battlefield': 6933, 'splitting': 6934, 'Native': 6935, 'Beat': 6936, 'doomed': 6937, 'absorbed': 6938, 'organ': 6939, 'Sorry': 6940, 'adhere': 6941, 'dressing': 6942, 'Rudd': 6943, 'unleashed': 6944, 'outraged': 6945, 'reminiscent': 6946, 'remake': 6947, 'equation': 6948, 'bleak': 6949, 'Normally': 6950, 'devastation': 6951, 'squeezed': 6952, 'screenings': 6953, 'distracted': 6954, 'Horton': 6955, 'mercy': 6956, 'remarkably': 6957, 'Nicholson': 6958, 'Kendall': 6959, 'smash': 6960, 'slavery': 6961, 'retrieve': 6962, 'Bartlett': 6963, 'aisle': 6964, 'happily': 6965, 'crafted': 6966, 'ventures': 6967, 'encounters': 6968, 'mighty': 6969, 'carved': 6970, 'irony': 6971, 'annoying': 6972, 'mourning': 6973, 'sufficiently': 6974, 'motorcycles': 6975, 'Armenia': 6976, 'spray': 6977, 'Taiwanese': 6978, 'poet': 6979, 'Swift': 6980, 'Chan': 6981, 'Leave': 6982, 'yeah': 6983, 'breadth': 6984, 'tended': 6985, 'flick': 6986, 'merchant': 6987, 'frightening': 6988, 'prevalent': 6989, 'boast': 6990, 'nevertheless': 6991, 'retains': 6992, 'bruised': 6993, 'respectful': 6994, 'Below': 6995, 'Annie': 6996, 'cult': 6997, 'twisted': 6998, 'myth': 6999, 'ensemble': 7000, 'cafeteria': 7001, 'Compared': 7002, 'moisture': 7003, 'gravity': 7004, 'seamless': 7005, 'serial': 7006, 'Watts': 7007, 'aerial': 7008, 'artifacts': 7009, 'hail': 7010, 'prolific': 7011, 'destiny': 7012, 'Hood': 7013, 'Rocky': 7014, 'extensions': 7015, 'headache': 7016, 'Schumacher': 7017, 'Fight': 7018, 'privileged': 7019, 'justification': 7020, 'butt': 7021, 'Quick': 7022, 'Initial': 7023, 'honesty': 7024, 'simulation': 7025, 'skipped': 7026, 'captures': 7027, 'congratulate': 7028, 'extremist': 7029, 'Sadly': 7030, 'framed': 7031, 'archives': 7032, 'shapes': 7033, 'Natalie': 7034, 'traces': 7035, 'ideological': 7036, 'labeling': 7037, 'assaults': 7038, 'sandwich': 7039, 'bidder': 7040, 'progression': 7041, 'shores': 7042, 'maiden': 7043, 'simplify': 7044, 'Certain': 7045, 'Studios': 7046, 'accent': 7047, 'soundtrack': 7048, 'portray': 7049, 'Wesley': 7050, 'Dustin': 7051, 'wasting': 7052, 'gotta': 7053, 'Lang': 7054, 'drained': 7055, 'paved': 7056, 'Gets': 7057, 'Venus': 7058, 'Anyway': 7059, 'pretend': 7060, 'Signs': 7061, 'marginal': 7062, 'descent': 7063, 'hardship': 7064, 'Sugar': 7065, 'classification': 7066, 'outdated': 7067, 'indoors': 7068, 'Marina': 7069, 'Cherry': 7070, 'dear': 7071, 'guiding': 7072, 'backbone': 7073, 'chefs': 7074, 'elephant': 7075, 'De': 7076, 'Dogs': 7077, 'chaotic': 7078, 'forgive': 7079, 'fundamentally': 7080, 'abundance': 7081, 'enact': 7082, 'surroundings': 7083, 'envelope': 7084, 'Nice': 7085, 'Ventura': 7086, 'Knoxville': 7087, 'bouncing': 7088, 'Maggie': 7089, 'slap': 7090, 'flesh': 7091, 'daunting': 7092, 'novels': 7093, 'brass': 7094, 'myriad': 7095, 'ravaged': 7096, 'motions': 7097, 'Deep': 7098, 'pour': 7099, 'Citizen': 7100, 'clearer': 7101, 'balancing': 7102, 'Molly': 7103, 'Hitler': 7104, 'sympathetic': 7105, 'realm': 7106, 'sewage': 7107, 'Heroes': 7108, 'remotely': 7109, 'blueprint': 7110, 'dictate': 7111, 'underdog': 7112, 'captive': 7113, 'durable': 7114, 'headaches': 7115, 'gratitude': 7116, 'deleted': 7117, 'Skinner': 7118, 'Sheridan': 7119, 'spouses': 7120, 'orientation': 7121, 'origins': 7122, 'accountant': 7123, 'cart': 7124, 'classics': 7125, 'lips': 7126, 'photographed': 7127, 'ropes': 7128, 'spirited': 7129, 'Lucy': 7130, 'marred': 7131, 'Forget': 7132, 'embracing': 7133, 'rightly': 7134, 'thumbs': 7135, 'Highlights': 7136, 'tales': 7137, 'sensational': 7138, 'asylum': 7139, 'repeating': 7140, 'conventions': 7141, 'susceptible': 7142, 'burnt': 7143, 'sloppy': 7144, 'commended': 7145, 'unanswered': 7146, 'reassure': 7147, 'Franco': 7148, 'Seth': 7149, 'thrill': 7150, 'charming': 7151, 'buddy': 7152, 'Reilly': 7153, 'Hence': 7154, 'adventures': 7155, 'hints': 7156, 'respectable': 7157, 'Teacher': 7158, 'vanished': 7159, 'yacht': 7160, 'pig': 7161, 'sparking': 7162, 'terribly': 7163, 'soap': 7164, 'Kurt': 7165, 'sincere': 7166, 'entirety': 7167, 'Absolutely': 7168, 'similarities': 7169, 'blowout': 7170, 'frenzy': 7171, 'ghost': 7172, 'virtue': 7173, 'Cat': 7174, 'Katz': 7175, 'guessing': 7176, 'stacked': 7177, 'Lots': 7178, 'discoveries': 7179, 'wrapping': 7180, 'fills': 7181, 'practitioners': 7182, 'potatoes': 7183, 'Romero': 7184, 'envisioned': 7185, 'ransom': 7186, 'Laurel': 7187, 'satisfactory': 7188, 'grind': 7189, 'banquet': 7190, 'lectures': 7191, 'Enter': 7192, 'conflicting': 7193, 'behave': 7194, 'refreshing': 7195, 'cumulative': 7196, 'Venice': 7197, 'hilarious': 7198, 'fool': 7199, 'evenings': 7200, 'transporting': 7201, 'beautifully': 7202, 'inspirational': 7203, 'admire': 7204, 'Farmer': 7205, 'faulty': 7206, 'relaxing': 7207, 'gently': 7208, 'promoter': 7209, 'Us': 7210, 'Led': 7211, 'unparalleled': 7212, 'pairing': 7213, 'directs': 7214, 'undermined': 7215, 'Clean': 7216, 'Sunshine': 7217, 'Marvin': 7218, 'apple': 7219, 'spectacle': 7220, 'hug': 7221, 'Guys': 7222, 'daytime': 7223, 'Ivan': 7224, 'reminding': 7225, 'Mideast': 7226, 'Weeks': 7227, 'hugely': 7228, 'fog': 7229, 'debating': 7230, 'slides': 7231, 'Weiss': 7232, 'deserving': 7233, 'admired': 7234, 'rocky': 7235, 'lasts': 7236, 'dimensional': 7237, 'Complete': 7238, 'robots': 7239, 'grueling': 7240, 'Cruise': 7241, 'coincidence': 7242, 'substances': 7243, 'prey': 7244, 'Course': 7245, 'fade': 7246, 'sway': 7247, 'lonely': 7248, 'symbols': 7249, 'Griffith': 7250, 'updating': 7251, 'Elvis': 7252, 'Armenian': 7253, 'Safe': 7254, 'Easy': 7255, 'Conrad': 7256, 'McLaughlin': 7257, 'narcotics': 7258, 'cuisine': 7259, 'weary': 7260, 'sneak': 7261, 'thunderstorms': 7262, 'Luis': 7263, 'McGrath': 7264, 'distances': 7265, 'Eye': 7266, 'distinguish': 7267, 'McDowell': 7268, 'simpler': 7269, 'theories': 7270, 'staple': 7271, 'thereafter': 7272, 'anchored': 7273, 'motivate': 7274, 'stunt': 7275, 'racked': 7276, 'rash': 7277, 'greed': 7278, 'professionalism': 7279, 'passive': 7280, 'perpetrators': 7281, 'awhile': 7282, 'clout': 7283, 'relegated': 7284, 'bored': 7285, 'relevance': 7286, 'picnic': 7287, 'Cedar': 7288, 'snapping': 7289, 'alien': 7290, 'figuring': 7291, 'rebellion': 7292, 'inflated': 7293, 'chanting': 7294, 'revoked': 7295, 'fiery': 7296, 'transcript': 7297, 'religions': 7298, 'grader': 7299, 'whip': 7300, 'Le': 7301, 'underwear': 7302, 'Standing': 7303, 'rooted': 7304, 'hood': 7305, 'adamant': 7306, 'astonishing': 7307, 'provocative': 7308, 'Leigh': 7309, 'Modern': 7310, 'Irvine': 7311, 'Cliff': 7312, 'descriptions': 7313, 'escort': 7314, 'runaway': 7315, 'glorious': 7316, 'aspiring': 7317, 'freeway': 7318, 'unfairly': 7319, 'barrage': 7320, 'gadgets': 7321, 'abundant': 7322, 'useless': 7323, 'perceptions': 7324, 'Kramer': 7325, 'injustice': 7326, 'affluent': 7327, 'creators': 7328, 'obscure': 7329, 'Into': 7330, 'conceived': 7331, 'examines': 7332, 'dash': 7333, 'Kidd': 7334, 'staring': 7335, 'Pan': 7336, 'Enjoy': 7337, 'canvas': 7338, 'toes': 7339, 'footing': 7340, 'Freddie': 7341, 'booths': 7342, 'Calvin': 7343, 'upfront': 7344, 'sadness': 7345, 'Bright': 7346, 'seldom': 7347, 'bloodshed': 7348, 'Yankee': 7349, 'prejudice': 7350, 'unstable': 7351, 'jungle': 7352, 'splash': 7353, 'noticeable': 7354, 'dances': 7355, 'Pick': 7356, 'lodging': 7357, 'PBS': 7358, 'icons': 7359, 'Wave': 7360, 'explores': 7361, 'dumb': 7362, 'piles': 7363, 'Wolfe': 7364, 'sadly': 7365, 'tucked': 7366, 'fifty': 7367, 'residences': 7368, 'lauded': 7369, 'Expect': 7370, \"o'clock\": 7371, 'fringe': 7372, 'Offers': 7373, 'memoir': 7374, 'enhances': 7375, 'honey': 7376, 'homosexuality': 7377, 'comics': 7378, 'Dark': 7379, 'explicit': 7380, 'lazy': 7381, 'desperation': 7382, 'fading': 7383, 'discomfort': 7384, 'snaps': 7385, 'underlined': 7386, 'hobby': 7387, 'sings': 7388, 'confession': 7389, 'emerges': 7390, 'entertained': 7391, 'lured': 7392, 'arresting': 7393, 'stricken': 7394, 'Renaissance': 7395, 'god': 7396, 'Beauty': 7397, 'syndrome': 7398, 'ignorance': 7399, 'Fun': 7400, 'Depending': 7401, 'tearing': 7402, 'erase': 7403, 'readily': 7404, 'cocktail': 7405, 'disadvantage': 7406, 'biography': 7407, 'ritual': 7408, 'spree': 7409, 'synthetic': 7410, 'nursery': 7411, 'trek': 7412, 'revolt': 7413, 'depleted': 7414, 'abruptly': 7415, 'avert': 7416, 'harmed': 7417, 'treasure': 7418, 'bend': 7419, 'weakest': 7420, 'polite': 7421, 'carnival': 7422, 'underscores': 7423, 'rats': 7424, 'ironic': 7425, 'Holden': 7426, 'soar': 7427, 'procession': 7428, 'Townsend': 7429, 'opting': 7430, 'preschool': 7431, 'rip': 7432, 'Oprah': 7433, 'champagne': 7434, 'propelled': 7435, 'confronting': 7436, 'Reese': 7437, 'compensated': 7438, 'patriotic': 7439, 'implies': 7440, 'vein': 7441, 'Giles': 7442, 'hey': 7443, 'El': 7444, 'motives': 7445, 'bundle': 7446, 'bogus': 7447, 'seas': 7448, 'despair': 7449, 'illustrates': 7450, 'capitalism': 7451, 'inexperienced': 7452, 'Zhang': 7453, 'frontier': 7454, 'fifteen': 7455, 'illustrated': 7456, 'deposited': 7457, 'diary': 7458, 'Lucky': 7459, 'Twilight': 7460, 'Paramount': 7461, 'fumbled': 7462, 'sting': 7463, 'standardized': 7464, 'reap': 7465, 'manipulation': 7466, 'slips': 7467, 'baggage': 7468, 'sunk': 7469, 'cheek': 7470, 'McKay': 7471, 'Hell': 7472, 'knockout': 7473, 'emphasizes': 7474, 'jockey': 7475, 'inject': 7476, 'airs': 7477, 'richer': 7478, 'icy': 7479, 'Fine': 7480, 'seriousness': 7481, 'variation': 7482, 'pleas': 7483, 'Calling': 7484, 'ashamed': 7485, 'rubbish': 7486, 'Britney': 7487, 'Soul': 7488, 'disturbed': 7489, 'IS': 7490, 'depart': 7491, 'civilization': 7492, 'emphasizing': 7493, 'tempted': 7494, 'Tara': 7495, 'Coke': 7496, 'teaming': 7497, 'refugee': 7498, 'Crane': 7499, 'Hugh': 7500, 'Mitch': 7501, 'tremendously': 7502, 'Avon': 7503, 'stature': 7504, 'sexuality': 7505, 'affection': 7506, 'renting': 7507, 'legends': 7508, 'blunt': 7509, 'misuse': 7510, 'hears': 7511, 'fearful': 7512, 'critically': 7513, 'intimidated': 7514, 'modeled': 7515, 'Byron': 7516, 'quartet': 7517, 'sin': 7518, 'spans': 7519, 'dimensions': 7520, 'perennial': 7521, 'perspectives': 7522, 'intimidating': 7523, 'obsession': 7524, 'popping': 7525, 'tabloid': 7526, 'recovers': 7527, 'succeeds': 7528, 'candles': 7529, 'Malik': 7530, 'openness': 7531, 'fraternity': 7532, 'Break': 7533, 'offended': 7534, 'inflammatory': 7535, 'Pearce': 7536, 'utterly': 7537, 'Superior': 7538, 'compelled': 7539, 'Shapiro': 7540, 'rests': 7541, 'geared': 7542, 'delete': 7543, 'provoked': 7544, 'Westbrook': 7545, 'punching': 7546, 'observer': 7547, 'authenticity': 7548, 'videotape': 7549, 'Allied': 7550, 'Pasadena': 7551, 'invention': 7552, 'Date': 7553, 'biased': 7554, 'chess': 7555, 'interpret': 7556, 'sour': 7557, 'spine': 7558, 'muster': 7559, 'gestures': 7560, 'Personally': 7561, 'curtain': 7562, 'perfection': 7563, 'dubious': 7564, 'Driving': 7565, 'expiration': 7566, 'repairing': 7567, 'boil': 7568, 'invade': 7569, 'expressions': 7570, 'endurance': 7571, 'widen': 7572, 'embark': 7573, 'ballet': 7574, 'shout': 7575, 'poem': 7576, 'domination': 7577, 'applaud': 7578, 'burgeoning': 7579, 'Flowers': 7580, 'waits': 7581, 'equals': 7582, 'explode': 7583, 'ringing': 7584, 'frantic': 7585, 'modestly': 7586, 'earnest': 7587, 'Irwin': 7588, 'handsome': 7589, 'beers': 7590, 'doctrine': 7591, 'publicist': 7592, 'dull': 7593, 'Monica': 7594, 'depths': 7595, 'marching': 7596, 'predecessors': 7597, 'Shot': 7598, 'wrestler': 7599, 'devote': 7600, 'roadside': 7601, 'flame': 7602, 'depicted': 7603, 'snake': 7604, 'herd': 7605, 'onstage': 7606, 'spells': 7607, 'Bravo': 7608, 'shortcomings': 7609, 'debuts': 7610, 'rationale': 7611, 'Glover': 7612, 'buildup': 7613, 'dentist': 7614, 'markers': 7615, 'substantive': 7616, 'courageous': 7617, 'Generally': 7618, 'Stein': 7619, 'terrified': 7620, 'mediocre': 7621, 'clad': 7622, 'knowingly': 7623, 'inhabitants': 7624, 'unfamiliar': 7625, 'banged': 7626, 'milestones': 7627, 'humidity': 7628, 'render': 7629, 'warmth': 7630, 'stirring': 7631, 'tightly': 7632, 'Cannes': 7633, 'Rubin': 7634, 'unlock': 7635, 'foolish': 7636, 'flush': 7637, 'Cool': 7638, 'turbulent': 7639, 'buddies': 7640, 'Picture': 7641, 'fictional': 7642, 'sterling': 7643, 'adversity': 7644, 'static': 7645, 'addicted': 7646, 'pulse': 7647, 'undermining': 7648, 'swimmer': 7649, 'strings': 7650, 'circular': 7651, 'integrates': 7652, 'Beautiful': 7653, 'Same': 7654, 'haunted': 7655, 'amassed': 7656, 'Watching': 7657, 'crippled': 7658, 'Les': 7659, 'flourish': 7660, 'guarded': 7661, 'rogue': 7662, 'Koreans': 7663, 'mistaken': 7664, 'Must': 7665, 'ideals': 7666, 'insane': 7667, 'Guillen': 7668, 'Drop': 7669, 'prominence': 7670, 'marginally': 7671, 'punishing': 7672, 'stalls': 7673, 'Funeral': 7674, 'jackets': 7675, 'uniquely': 7676, 'handheld': 7677, 'polished': 7678, 'McCann': 7679, 'Makes': 7680, 'pegged': 7681, 'magnetic': 7682, 'attach': 7683, 'submarine': 7684, 'parental': 7685, 'imagery': 7686, 'crap': 7687, 'Dragon': 7688, 'ruins': 7689, 'reacting': 7690, 'insistence': 7691, 'bumper': 7692, 'Gone': 7693, 'youthful': 7694, 'weddings': 7695, 'antique': 7696, 'Baird': 7697, 'Lion': 7698, 'Seeing': 7699, 'gut': 7700, 'acid': 7701, 'Lin': 7702, 'plunging': 7703, 'analytical': 7704, 'declares': 7705, 'Notice': 7706, 'evidenced': 7707, 'cartoons': 7708, 'buoyed': 7709, 'sunset': 7710, 'daring': 7711, 'mistakenly': 7712, 'multitude': 7713, 'swallow': 7714, 'Prime': 7715, 'entrepreneurial': 7716, 'Iron': 7717, 'illicit': 7718, 'meaningless': 7719, 'ripe': 7720, 'rendering': 7721, 'reside': 7722, 'fledgling': 7723, 'Formula': 7724, 'feast': 7725, 'asphalt': 7726, 'sleek': 7727, 'coping': 7728, 'Planet': 7729, 'shiny': 7730, 'grenade': 7731, 'spiked': 7732, 'Hurley': 7733, 'simplicity': 7734, 'Beckett': 7735, 'rethink': 7736, 'outsiders': 7737, 'cardiac': 7738, 'Pink': 7739, 'Grey': 7740, 'Sixth': 7741, 'spawned': 7742, 'empowerment': 7743, 'activate': 7744, 'glamorous': 7745, 'heroic': 7746, 'homosexual': 7747, 'Melanie': 7748, 'tailor': 7749, 'reps': 7750, 'spelled': 7751, 'slave': 7752, 'infusion': 7753, 'Haynes': 7754, 'whale': 7755, 'Goldberg': 7756, 'belly': 7757, 'clocked': 7758, 'desires': 7759, 'aesthetic': 7760, 'lent': 7761, 'lavish': 7762, 'Rates': 7763, 'stocked': 7764, 'Written': 7765, 'Designed': 7766, 'backstage': 7767, 'prevalence': 7768, 'compliment': 7769, 'handicap': 7770, 'w': 7771, 'vain': 7772, 'Batman': 7773, 'astronaut': 7774, 'selfish': 7775, 'slogans': 7776, 'forgiveness': 7777, 'begging': 7778, 'taxing': 7779, 'wisely': 7780, 'appraisal': 7781, 'Armed': 7782, 'tossing': 7783, 'Pretty': 7784, 'Opens': 7785, 'defunct': 7786, 'historians': 7787, 'Streets': 7788, 'tattoo': 7789, 'scream': 7790, 'assert': 7791, 'scenic': 7792, 'Murder': 7793, 'raft': 7794, 'Pryor': 7795, 'sacrificed': 7796, 'Hawaiian': 7797, 'unlucky': 7798, 'unrealistic': 7799, 'extortion': 7800, 'wildly': 7801, 'raging': 7802, 'positives': 7803, 'Benefits': 7804, 'Monster': 7805, 'profanity': 7806, 'longevity': 7807, 'Isle': 7808, 'downward': 7809, 'upload': 7810, 'noble': 7811, 'Berg': 7812, 'endeavors': 7813, 'reflective': 7814, 'specials': 7815, 'Forrest': 7816, 'Build': 7817, 'ecological': 7818, 'intentional': 7819, 'portraits': 7820, 'lopsided': 7821, 'angles': 7822, 'atrocities': 7823, 'gossip': 7824, 'outer': 7825, 'showcases': 7826, 'enjoyment': 7827, 'contemplating': 7828, 'flaw': 7829, 'shadows': 7830, 'Mind': 7831, 'exaggerated': 7832, 'tunnels': 7833, 'slope': 7834, 'surround': 7835, 'strategically': 7836, 'disturbance': 7837, 'nails': 7838, 'Ash': 7839, 'forty': 7840, 'pardon': 7841, 'defiance': 7842, 'botched': 7843, 'melt': 7844, 'Turns': 7845, 'Pamela': 7846, 'mornings': 7847, 'Finn': 7848, 'Marilyn': 7849, 'chill': 7850, 'quirky': 7851, 'deepest': 7852, 'curiosity': 7853, 'Trying': 7854, 'dime': 7855, 'penned': 7856, 'urine': 7857, 'badge': 7858, 'Wes': 7859, 'cozy': 7860, 'diversion': 7861, 'snapshot': 7862, 'socially': 7863, 'dense': 7864, 'paycheck': 7865, 'nude': 7866, 'prince': 7867, 'Traditional': 7868, 'Alfred': 7869, 'Clare': 7870, 'soda': 7871, 'engulfed': 7872, 'malls': 7873, 'manipulate': 7874, 'orchestrated': 7875, 'strips': 7876, 'wartime': 7877, 'striving': 7878, 'slack': 7879, 'Francisco': 7880, 'sword': 7881, 'Stacy': 7882, 'economical': 7883, 'extras': 7884, 'lessen': 7885, 'Harlem': 7886, 'Patriot': 7887, 'groove': 7888, 'redundant': 7889, 'Jarvis': 7890, 'abstract': 7891, 'liberation': 7892, 'vigorously': 7893, 'discarded': 7894, 'Swanson': 7895, 'Heavy': 7896, 'odor': 7897, 'impacting': 7898, 'awake': 7899, 'resides': 7900, 'seizures': 7901, 'pains': 7902, 'predators': 7903, 'cynical': 7904, 'depicting': 7905, 'messy': 7906, 'tuned': 7907, 'learns': 7908, 'wit': 7909, 'psychiatrist': 7910, 'traits': 7911, 'lays': 7912, 'inactive': 7913, 'brunt': 7914, 'victorious': 7915, 'marquee': 7916, 'warfare': 7917, 'encompasses': 7918, 'vastly': 7919, 'restrictive': 7920, 'cries': 7921, 'plasma': 7922, 'communal': 7923, 'resemble': 7924, 'creature': 7925, 'Clyde': 7926, 'biting': 7927, 'coffin': 7928, 'noisy': 7929, 'unfold': 7930, 'shades': 7931, 'sung': 7932, 'Comedy': 7933, 'admiration': 7934, 'Claims': 7935, 'senses': 7936, 'arrogant': 7937, 'boasted': 7938, 'probing': 7939, 'purported': 7940, 'integral': 7941, 'Secret': 7942, 'smashing': 7943, 'towering': 7944, 'streamlined': 7945, 'thwart': 7946, 'insulting': 7947, 'stark': 7948, 'heed': 7949, 'utilizes': 7950, 'recycle': 7951, 'harmless': 7952, 'Enough': 7953, 'clan': 7954, 'informative': 7955, 'dogged': 7956, 'urgently': 7957, 'knot': 7958, 'alarmed': 7959, 'pornography': 7960, 'guts': 7961, 'Looks': 7962, 'restrained': 7963, 'hovering': 7964, 'stirred': 7965, 'dues': 7966, 'Friend': 7967, 'culprit': 7968, 'bouts': 7969, 'derivative': 7970, 'fencing': 7971, 'epicenter': 7972, 'souls': 7973, 'Pictures': 7974, 'Bo': 7975, 'demographics': 7976, 'awe': 7977, 'soaked': 7978, 'Ritchie': 7979, 'interfering': 7980, 'erratic': 7981, 'cautions': 7982, 'limbo': 7983, 'afforded': 7984, 'sober': 7985, 'Pedro': 7986, 'charismatic': 7987, 'indie': 7988, 'remembering': 7989, 'pleasing': 7990, 'Reader': 7991, 'portrayal': 7992, 'Machine': 7993, 'appalling': 7994, 'startling': 7995, 'misguided': 7996, 'Scores': 7997, 'Mel': 7998, 'Turks': 7999, 'gymnastics': 8000, 'Darling': 8001, 'procedural': 8002, 'curse': 8003, 'inadvertently': 8004, 'texture': 8005, 'magnet': 8006, 'gritty': 8007, 'Mick': 8008, 'chilly': 8009, 'naive': 8010, 'bruising': 8011, 'dangerously': 8012, 'tempered': 8013, 'Newfoundland': 8014, 'gloom': 8015, 'sabotage': 8016, 'distractions': 8017, 'possesses': 8018, 'exhaust': 8019, 'brisk': 8020, 'Cinema': 8021, 'surreal': 8022, 'Featuring': 8023, 'rendition': 8024, 'salute': 8025, 'explanations': 8026, 'liner': 8027, 'protracted': 8028, 'Blockbuster': 8029, 'Effective': 8030, 'terrifying': 8031, 'pianist': 8032, 'Sisters': 8033, 'grad': 8034, 'insecurity': 8035, 'harvesting': 8036, 'Films': 8037, 'bonding': 8038, 'rooting': 8039, 'morality': 8040, 'ego': 8041, 'accessibility': 8042, 'culmination': 8043, 'possessed': 8044, 'mantra': 8045, 'shining': 8046, 'arbitrary': 8047, 'imply': 8048, 'guru': 8049, 'traveler': 8050, 'exploits': 8051, 'ashes': 8052, 'hoops': 8053, 'greatness': 8054, 'gem': 8055, 'freak': 8056, 'forbidden': 8057, 'loudly': 8058, 'unconventional': 8059, 'derailed': 8060, 'toast': 8061, 'mired': 8062, 'volcano': 8063, 'tasty': 8064, 'garner': 8065, '***': 8066, 'recognizable': 8067, 'composure': 8068, 'Putting': 8069, 'geographical': 8070, 'excel': 8071, 'unfinished': 8072, 'et': 8073, 'logistical': 8074, 'textbook': 8075, 'Catch': 8076, 'Vanessa': 8077, 'Heaven': 8078, 'compassionate': 8079, 'puppy': 8080, 'warmed': 8081, 'duplicate': 8082, 'Celebrity': 8083, 'bracing': 8084, 'dismantle': 8085, 'punk': 8086, 'outage': 8087, 'hop': 8088, 'eats': 8089, 'San': 8090, 'Kill': 8091, 'probes': 8092, 'beast': 8093, 'kindness': 8094, 'Olympia': 8095, 'seizing': 8096, 'Connection': 8097, 'sparks': 8098, 'pathetic': 8099, 'temptation': 8100, 'antics': 8101, 'characteristic': 8102, 'masked': 8103, 'precinct': 8104, 'Shows': 8105, 'capsule': 8106, 'timer': 8107, 'amidst': 8108, 'mattered': 8109, 'establishes': 8110, 'jaw': 8111, 'Hands': 8112, 'limbs': 8113, 'revered': 8114, 'rude': 8115, 'cheated': 8116, 'scams': 8117, 'appreciates': 8118, 'impetus': 8119, 'flawless': 8120, 'topple': 8121, 'Ethan': 8122, 'extraordinarily': 8123, 'villain': 8124, 'Draft': 8125, 'grieving': 8126, 'Pet': 8127, 'disappoint': 8128, 'waged': 8129, 'bumps': 8130, 'shedding': 8131, 'heel': 8132, 'Alpha': 8133, 'wrestle': 8134, 'exploiting': 8135, 'Generation': 8136, 'Features': 8137, 'Wait': 8138, 'brilliantly': 8139, 'storytelling': 8140, 'crawl': 8141, 'rehearsal': 8142, 'creations': 8143, 'deepen': 8144, 'storyline': 8145, 'worm': 8146, 'ethnicity': 8147, 'trajectory': 8148, 'suspending': 8149, 'Hawk': 8150, 'scripts': 8151, 'swear': 8152, 'madness': 8153, 'Interview': 8154, 'prom': 8155, 'Cahill': 8156, 'dude': 8157, 'blasting': 8158, 'dazzling': 8159, 'crossover': 8160, 'Fidelity': 8161, 'screenplay': 8162, 'Harbour': 8163, 'ramifications': 8164, 'devotion': 8165, 'Heidi': 8166, 'nowadays': 8167, 'genres': 8168, 'airborne': 8169, 'humiliation': 8170, 'suck': 8171, 'competence': 8172, 'upsets': 8173, 'nationalist': 8174, 'discourse': 8175, 'teamwork': 8176, 'unfolding': 8177, 'heartbreaking': 8178, 'impressions': 8179, 'amusing': 8180, 'pessimistic': 8181, 'rigid': 8182, 'Thankfully': 8183, 'waking': 8184, 'dominates': 8185, 'disregard': 8186, 'upsetting': 8187, 'wholly': 8188, 'apartheid': 8189, 'sequences': 8190, 'bees': 8191, 'uneasy': 8192, 'Bean': 8193, 'clears': 8194, 'continental': 8195, 'Sunset': 8196, 'fertility': 8197, 'grinding': 8198, 'Kathryn': 8199, 'squandered': 8200, 'coma': 8201, 'betrayed': 8202, 'overtake': 8203, 'Hartley': 8204, 'rigged': 8205, 'temper': 8206, 'Simple': 8207, 'blended': 8208, 'overlook': 8209, 'numbered': 8210, 'Jet': 8211, 'flashing': 8212, 'leukemia': 8213, 'uncover': 8214, 'activism': 8215, 'Judith': 8216, 'cheat': 8217, 'ailments': 8218, 'collar': 8219, 'Fear': 8220, 'Alternative': 8221, 'ripping': 8222, 'Triangle': 8223, 'grains': 8224, 'Cold': 8225, 'Anybody': 8226, 'convict': 8227, 'nominal': 8228, 'shocks': 8229, 'protestors': 8230, 'Novak': 8231, 'cooks': 8232, 'exemplary': 8233, 'Russo': 8234, 'avalanche': 8235, 'resentment': 8236, 'redeem': 8237, 'regimes': 8238, 'Takes': 8239, 'stereo': 8240, 'drying': 8241, 'depressing': 8242, 'dissidents': 8243, 'athleticism': 8244, 'earmarks': 8245, 'warrior': 8246, 'prowess': 8247, 'monkey': 8248, 'Adults': 8249, 'flair': 8250, 'ordinances': 8251, 'Ultimate': 8252, 'plumbing': 8253, 'provoke': 8254, 'eroded': 8255, 'cruelty': 8256, 'muted': 8257, 'writings': 8258, 'kissing': 8259, 'vivid': 8260, 'Michele': 8261, 'defiant': 8262, 'modernize': 8263, 'plague': 8264, 'Terri': 8265, 'Attack': 8266, 'resembles': 8267, 'Bernstein': 8268, 'TNT': 8269, 'frustrations': 8270, 'traps': 8271, 'Playboy': 8272, 'varies': 8273, 'canned': 8274, 'ignorant': 8275, 'calculating': 8276, 'deception': 8277, 'Parts': 8278, 'qualifies': 8279, 'visionary': 8280, 'tick': 8281, 'pat': 8282, 'baked': 8283, 'f': 8284, 'unsuccessfully': 8285, 'submerged': 8286, 'Frankly': 8287, 'improbable': 8288, 'rat': 8289, 'disbelief': 8290, 'Sitting': 8291, 'misunderstanding': 8292, 'hectic': 8293, 'sparkling': 8294, 'skipping': 8295, 'combo': 8296, 'uproar': 8297, 'Jacobson': 8298, 'adolescents': 8299, 'tempting': 8300, 'graves': 8301, 'tissues': 8302, 'Actress': 8303, 'reassuring': 8304, 'Mattel': 8305, 'Wen': 8306, 'Original': 8307, 'knocks': 8308, 'doorstep': 8309, 'hiatus': 8310, 'arrogance': 8311, 'fusion': 8312, 'Killed': 8313, 'Variety': 8314, 'annoyed': 8315, 'unpleasant': 8316, 'progresses': 8317, 'curling': 8318, 'EMI': 8319, 'likened': 8320, 'stubborn': 8321, 'mankind': 8322, 'faults': 8323, 'darker': 8324, 'freeing': 8325, 'littered': 8326, 'plugged': 8327, 'Harmon': 8328, 'comparative': 8329, 'tame': 8330, 'Cho': 8331, 'Adventure': 8332, 'articulate': 8333, 'Noon': 8334, 'sucked': 8335, 'sitcom': 8336, 'sketch': 8337, 'Roach': 8338, 'taps': 8339, 'timeframe': 8340, 'Him': 8341, 'decidedly': 8342, 'Ritter': 8343, 'princess': 8344, 'unresolved': 8345, 'disgusting': 8346, 'delightful': 8347, 'brutality': 8348, 'Bullock': 8349, 'noteworthy': 8350, 'Kid': 8351, 'guessed': 8352, 'Brother': 8353, 'tumultuous': 8354, 'Somehow': 8355, 'pale': 8356, 'Marvel': 8357, 'tattoos': 8358, 'disguise': 8359, 'schooling': 8360, 'ruthless': 8361, 'intimidate': 8362, 'Roland': 8363, 'Barrow': 8364, 'hierarchy': 8365, 'cue': 8366, 'pervasive': 8367, 'dreaming': 8368, 'fest': 8369, 'severed': 8370, 'uneven': 8371, 'fuss': 8372, 'avid': 8373, 'discontent': 8374, 'gloomy': 8375, 'palm': 8376, 'philosophical': 8377, 'demeanor': 8378, 'breathtaking': 8379, 'steak': 8380, 'praises': 8381, 'illusion': 8382, 'peninsula': 8383, 'repression': 8384, 'Underwood': 8385, 'muddy': 8386, 'liking': 8387, 'spikes': 8388, 'novice': 8389, 'Numbers': 8390, 'rails': 8391, 'conceal': 8392, 'Thirteen': 8393, 'blackout': 8394, 'skinny': 8395, 'duel': 8396, 'fury': 8397, 'MGM': 8398, 'Tel': 8399, 'heaviest': 8400, 'funk': 8401, 'melted': 8402, 'pitted': 8403, 'downfall': 8404, 'moderately': 8405, 'menace': 8406, 'forgiven': 8407, 'disposition': 8408, 'vibe': 8409, 'trimming': 8410, 'Ledger': 8411, 'foil': 8412, 'presiding': 8413, 'populist': 8414, 'operative': 8415, 'Hour': 8416, 'fascinated': 8417, 'avoids': 8418, 'Corbett': 8419, 'castle': 8420, 'populated': 8421, 'separates': 8422, 'Immediately': 8423, 'Quite': 8424, 'spat': 8425, 'tooth': 8426, 'routines': 8427, 'Historical': 8428, 'dislike': 8429, 'expulsion': 8430, 'strives': 8431, 'idiot': 8432, 'embroiled': 8433, 'louder': 8434, 'humorous': 8435, 'Dreams': 8436, 'assign': 8437, 'monumental': 8438, 'honorable': 8439, 'distract': 8440, 'melting': 8441, 'Kaufman': 8442, 'horns': 8443, 'homage': 8444, 'choking': 8445, 'documentaries': 8446, 'paints': 8447, 'carnage': 8448, 'Brit': 8449, 'heavyweights': 8450, 'depicts': 8451, 'Xerox': 8452, 'attachment': 8453, 'laced': 8454, 'Kmart': 8455, 'persona': 8456, 'Molina': 8457, 'sleeve': 8458, 'landscapes': 8459, 'puppet': 8460, 'Broadcast': 8461, 'Cary': 8462, 'Goes': 8463, 'dusty': 8464, 'bursting': 8465, 'dreadful': 8466, 'disgrace': 8467, 'Fellowship': 8468, 'Ryder': 8469, 'surrendering': 8470, 'bind': 8471, 'Gilmore': 8472, 'worms': 8473, 'dough': 8474, 'scooped': 8475, 'ominous': 8476, 'grin': 8477, 'mayhem': 8478, 'bitten': 8479, 'stray': 8480, 'sticky': 8481, 'fond': 8482, 'Janice': 8483, 'appreciative': 8484, 'Sofia': 8485, 'echo': 8486, 'scenery': 8487, 'Eve': 8488, 'Movies': 8489, 'Denis': 8490, 'mesh': 8491, 'streamed': 8492, 'takeoff': 8493, 'Ram': 8494, 'inspires': 8495, 'com': 8496, 'favorably': 8497, 'Kahn': 8498, 'coating': 8499, 'glow': 8500, 'marvelous': 8501, 'Ah': 8502, 'computerized': 8503, 'treasures': 8504, 'settles': 8505, 'instincts': 8506, 'spoil': 8507, 'dramas': 8508, 'Warrior': 8509, 'thereof': 8510, 'shortest': 8511, 'Kline': 8512, 'Whereas': 8513, 'playwright': 8514, 'apparatus': 8515, 'espionage': 8516, 'voyage': 8517, 'accumulate': 8518, 'validated': 8519, 'gigantic': 8520, 'splits': 8521, 'percentages': 8522, 'Gang': 8523, 'Regan': 8524, 'pity': 8525, 'scratching': 8526, 'pertinent': 8527, 'faltering': 8528, 'meager': 8529, 'visions': 8530, 'Letterman': 8531, 'chilling': 8532, 'kidnappings': 8533, 'underscore': 8534, 'hates': 8535, 'Rudy': 8536, 'Carmen': 8537, 'fork': 8538, 'fumbles': 8539, 'Michel': 8540, 'twists': 8541, 'rewrite': 8542, 'flashes': 8543, 'upheaval': 8544, 'configurations': 8545, 'greedy': 8546, 'stereotypes': 8547, 'preaching': 8548, 'vowing': 8549, 'kinda': 8550, 'screams': 8551, 'spice': 8552, 'popcorn': 8553, 'prostitute': 8554, 'envy': 8555, 'flowed': 8556, 'energized': 8557, 'dysfunctional': 8558, 'actresses': 8559, 'pristine': 8560, 'respite': 8561, 'petty': 8562, 'Lights': 8563, 'hormones': 8564, 'Color': 8565, 'jealous': 8566, 'Yellow': 8567, 'drunken': 8568, 'stimulating': 8569, 'shameful': 8570, 'facial': 8571, 'fatality': 8572, 'divine': 8573, 'stalking': 8574, 'systematically': 8575, 'roaring': 8576, 'underestimated': 8577, 'Definitely': 8578, 'Towers': 8579, 'regeneration': 8580, 'expresses': 8581, 'friendships': 8582, 'bully': 8583, 'flattened': 8584, 'incapable': 8585, 'astounding': 8586, 'elevate': 8587, 'intricate': 8588, 'novelty': 8589, 'suppression': 8590, 'breasts': 8591, 'classy': 8592, 'spiral': 8593, 'phony': 8594, 'Drama': 8595, 'fabricated': 8596, 'sailor': 8597, 'JFK': 8598, 'converts': 8599, 'Shipping': 8600, 'Rosa': 8601, 'bustling': 8602, 'brushed': 8603, 'dished': 8604, 'notwithstanding': 8605, 'Bowling': 8606, 'disparate': 8607, 'Producer': 8608, 'Lacey': 8609, 'adapting': 8610, 'agendas': 8611, 'digest': 8612, 'potato': 8613, 'utmost': 8614, 'Criminal': 8615, 'obsolete': 8616, 'candid': 8617, 'poignant': 8618, 'spit': 8619, 'doctorate': 8620, 'blends': 8621, 'linger': 8622, 'Abrams': 8623, 'intrigued': 8624, 'afloat': 8625, 'mixes': 8626, 'evacuations': 8627, 'Elder': 8628, 'budding': 8629, 'echoes': 8630, 'Beard': 8631, 'slippery': 8632, 'sermon': 8633, 'deceptive': 8634, 'Exxon': 8635, 'rife': 8636, 'masterpiece': 8637, 'plentiful': 8638, 'ticking': 8639, 'dolls': 8640, 'decorating': 8641, 'Debate': 8642, 'Choose': 8643, 'confuse': 8644, 'havoc': 8645, 'linear': 8646, 'grips': 8647, 'sharper': 8648, 'orphans': 8649, 'encompassing': 8650, 'Sellers': 8651, 'nonstop': 8652, 'Uncle': 8653, 'tangled': 8654, 'floats': 8655, 'O.': 8656, 'meditation': 8657, 'charred': 8658, 'aliens': 8659, 'windshield': 8660, 'boasting': 8661, 'portraying': 8662, 'revitalize': 8663, 'bubbles': 8664, 'knots': 8665, 'enormously': 8666, 'velocity': 8667, 'intern': 8668, 'Woody': 8669, 'nostalgia': 8670, 'spies': 8671, 'insanity': 8672, 'cherished': 8673, 'hypocrisy': 8674, 'benign': 8675, 'squarely': 8676, 'clipped': 8677, 'Worse': 8678, 'gods': 8679, 'peril': 8680, 'Holy': 8681, 'survives': 8682, 'Barlow': 8683, 'goodness': 8684, 'Worth': 8685, 'manifesto': 8686, 'banging': 8687, 'Matrix': 8688, 'infectious': 8689, 'ignite': 8690, 'wool': 8691, 'robotic': 8692, 'adrift': 8693, 'eternal': 8694, 'lad': 8695, 'Pleasant': 8696, 'Extreme': 8697, 'Ways': 8698, 'scent': 8699, 'Die': 8700, 'dotted': 8701, 'Seeking': 8702, 'Birds': 8703, 'payback': 8704, 'underestimate': 8705, 'Provide': 8706, 'sibling': 8707, 'Gift': 8708, 'lofty': 8709, 'weathered': 8710, 'flop': 8711, 'climax': 8712, 'burger': 8713, 'Finch': 8714, 'synagogue': 8715, 'portrays': 8716, 'sporadic': 8717, 'absorbing': 8718, 'unthinkable': 8719, 'gruesome': 8720, 'appalled': 8721, 'Wash.': 8722, 'Polanski': 8723, 'precarious': 8724, 'Fears': 8725, 'crammed': 8726, 'definitions': 8727, 'spontaneous': 8728, 'Breaking': 8729, 'Sting': 8730, 'warriors': 8731, 'attendant': 8732, 'bites': 8733, 'tones': 8734, 'bells': 8735, 'fruition': 8736, 'Fork': 8737, 'Soldier': 8738, 'con': 8739, 'retro': 8740, 'ironically': 8741, 'Teens': 8742, 'Returning': 8743, 'pops': 8744, 'hyped': 8745, 'cafes': 8746, 'Brits': 8747, 'vampire': 8748, 'Siegel': 8749, 'cinematic': 8750, 'delinquent': 8751, 'spectator': 8752, 'schizophrenia': 8753, 'indulge': 8754, 'inferior': 8755, 'Resistance': 8756, 'victimized': 8757, 'adolescent': 8758, 'humane': 8759, 'Hole': 8760, 'Daddy': 8761, 'bordering': 8762, 'Jolie': 8763, 'Ambrose': 8764, 'Seriously': 8765, 'testosterone': 8766, 'hallmark': 8767, 'Sand': 8768, 'blatant': 8769, 'Showtime': 8770, 'loopholes': 8771, 'plethora': 8772, 'enthusiast': 8773, 'biblical': 8774, 'murky': 8775, 'camaraderie': 8776, 'Orchard': 8777, 'tug': 8778, 'cues': 8779, 'chatter': 8780, 'choke': 8781, 'incompetent': 8782, 'playful': 8783, 'familiarity': 8784, 'crafting': 8785, 'betrayal': 8786, 'saddled': 8787, 'matured': 8788, 'Yu': 8789, 'collaborators': 8790, 'Whitaker': 8791, 'Marriage': 8792, 'gears': 8793, 'wandered': 8794, 'insults': 8795, 'natives': 8796, 'Per': 8797, 'skeptics': 8798, 'assailants': 8799, 'firmer': 8800, 'goodies': 8801, 'kiosks': 8802, 'scant': 8803, 'midway': 8804, 'dreaded': 8805, 'Derry': 8806, 'telescope': 8807, 'swipe': 8808, 'surrounds': 8809, 'oversized': 8810, 'regimen': 8811, 'Merchant': 8812, 'diminishing': 8813, 'Patch': 8814, 'frank': 8815, 'don': 8816, 'tragedies': 8817, 'affirming': 8818, 'sorrow': 8819, 'usher': 8820, 'inherently': 8821, 'Mostly': 8822, 'Bacon': 8823, 'immensely': 8824, 'la': 8825, 'maneuvers': 8826, 'pointless': 8827, 'Lily': 8828, 'utter': 8829, 'Hits': 8830, 'Directed': 8831, 'AMC': 8832, 'scripted': 8833, 'needles': 8834, 'viewpoint': 8835, 'Eyes': 8836, 'casts': 8837, 'engages': 8838, 'brilliance': 8839, 'penchant': 8840, 'Romeo': 8841, 'reprieve': 8842, 'romp': 8843, 'wow': 8844, 'boiling': 8845, 'yell': 8846, 'Ernest': 8847, 'lax': 8848, 'discouraging': 8849, 'poise': 8850, 'Solid': 8851, 'Mora': 8852, 'dependable': 8853, 'lagging': 8854, 'Clint': 8855, 'Doris': 8856, 'pedigree': 8857, 'intensely': 8858, 'superhero': 8859, 'reminders': 8860, 'profoundly': 8861, 'kin': 8862, 'unstoppable': 8863, 'namesake': 8864, 'hack': 8865, 'Boat': 8866, 'skeleton': 8867, 'ideally': 8868, 'dot': 8869, 'radioactive': 8870, 'worthless': 8871, 'Chicken': 8872, 'lowly': 8873, 'sturdy': 8874, 'cardboard': 8875, 'sticker': 8876, 'Griffiths': 8877, 'shave': 8878, 'Crazy': 8879, 'candle': 8880, 'Guzman': 8881, 'IQ': 8882, 'Troopers': 8883, 'Provides': 8884, 'knack': 8885, 'suitcase': 8886, 'sickness': 8887, 'monkeys': 8888, 'Gee': 8889, 'remorse': 8890, 'Lines': 8891, 'sexually': 8892, 'interpretations': 8893, 'disgust': 8894, 'downright': 8895, 'Piper': 8896, 'treacherous': 8897, 'stardom': 8898, 'myths': 8899, 'hose': 8900, 'acquires': 8901, 'dismay': 8902, 'dips': 8903, 'goats': 8904, 'tacked': 8905, 'stab': 8906, 'Passion': 8907, 'outweigh': 8908, 'flashy': 8909, 'bravery': 8910, 'intrusion': 8911, 'Resident': 8912, 'Rings': 8913, 'McGowan': 8914, 'stoked': 8915, 'undercut': 8916, 'Away': 8917, 'respecting': 8918, 'starving': 8919, 'Fat': 8920, 'disconnected': 8921, 'heartland': 8922, 'Tunisian': 8923, 'Changing': 8924, 'creepy': 8925, 'Songs': 8926, 'swamped': 8927, 'proportions': 8928, 'Ivy': 8929, 'Maguire': 8930, 'apt': 8931, 'preferring': 8932, 'cylinders': 8933, 'dwell': 8934, 'shovel': 8935, 'implication': 8936, 'metaphor': 8937, 'Judging': 8938, 'clicks': 8939, 'commonplace': 8940, 'Twin': 8941, 'embraces': 8942, 'swirling': 8943, 'ed': 8944, 'leash': 8945, 'template': 8946, 'unforgettable': 8947, 'abrupt': 8948, 'Godfrey': 8949, 'shines': 8950, 'emphatic': 8951, 'unaffected': 8952, 'bilingual': 8953, 'Glory': 8954, 'debilitating': 8955, 'Ace': 8956, 'fascination': 8957, 'lousy': 8958, 'solidly': 8959, 'screwed': 8960, 'believer': 8961, 'Waste': 8962, 'Essentially': 8963, 'comforting': 8964, 'passions': 8965, 'WWII': 8966, 'captors': 8967, 'coherent': 8968, 'novelist': 8969, 'nurturing': 8970, 'soured': 8971, 'maid': 8972, 'murderer': 8973, 'grit': 8974, 'eviction': 8975, 'confidently': 8976, 'sinister': 8977, 'saddle': 8978, 'Barney': 8979, 'allegiance': 8980, 'Schaefer': 8981, 'instinct': 8982, 'violently': 8983, 'monsters': 8984, 'fooled': 8985, 'enriched': 8986, 'embarking': 8987, 'proficient': 8988, 'humility': 8989, 'invariably': 8990, 'underdogs': 8991, 'Evelyn': 8992, 'ploy': 8993, 'Waiting': 8994, 'wonderfully': 8995, 'hooks': 8996, 'tuning': 8997, 'paste': 8998, 'daddy': 8999, 'glue': 9000, 'Blind': 9001, 'gourmet': 9002, 'characterize': 9003, 'critique': 9004, 'markedly': 9005, 'lapses': 9006, 'Lynne': 9007, 'sophistication': 9008, 'vent': 9009, 'sausage': 9010, 'amazingly': 9011, 'punishable': 9012, 'tuna': 9013, 'eccentric': 9014, 'bittersweet': 9015, 'austerity': 9016, 'unsettled': 9017, 'Browning': 9018, 'preach': 9019, 'gems': 9020, 'glaring': 9021, 'hindered': 9022, 'Sundance': 9023, 'Ninety': 9024, 'frontman': 9025, 'sinks': 9026, 'beg': 9027, 'Count': 9028, 'Chung': 9029, 'jolt': 9030, 'Pure': 9031, 'unearthed': 9032, 'springs': 9033, 'predicament': 9034, 'reliably': 9035, 'horrified': 9036, 'relish': 9037, 'admittedly': 9038, 'Raja': 9039, 'Flat': 9040, 'Weinstein': 9041, 'complexities': 9042, 'dearly': 9043, 'payoff': 9044, 'ham': 9045, 'ponder': 9046, 'Rae': 9047, 'disguised': 9048, 'angels': 9049, 'futile': 9050, 'veins': 9051, 'symptom': 9052, 'agony': 9053, 'achieves': 9054, 'adorned': 9055, 'fluids': 9056, 'edgy': 9057, 'Needless': 9058, 'visually': 9059, 'empathy': 9060, 'collapses': 9061, 'noticing': 9062, 'Damage': 9063, 'devise': 9064, 'conquer': 9065, 'limb': 9066, 'leveling': 9067, 'anew': 9068, 'documenting': 9069, 'escapes': 9070, 'requisite': 9071, 'Han': 9072, 'bursts': 9073, 'SO': 9074, 'adventurous': 9075, 'PTA': 9076, 'manners': 9077, 'Remove': 9078, 'gracious': 9079, 'gel': 9080, 'suspense': 9081, 'lull': 9082, 'choreography': 9083, 'leaps': 9084, 'intellectuals': 9085, 'veered': 9086, 'Audrey': 9087, 'leaping': 9088, 'contradictory': 9089, 'corpse': 9090, 'buoyant': 9091, 'presses': 9092, 'Chevy': 9093, 'blending': 9094, 'Jacques': 9095, 'adulthood': 9096, 'Pepper': 9097, 'specter': 9098, 'creeping': 9099, 'stacks': 9100, 'thesis': 9101, 'feathers': 9102, 'peculiar': 9103, 'prognosis': 9104, 'Wife': 9105, 'dared': 9106, 'informs': 9107, 'pulp': 9108, 'Beta': 9109, 'alcoholic': 9110, 'ushered': 9111, 'provocation': 9112, 'civilized': 9113, 'stuffing': 9114, 'fragmented': 9115, 'unnoticed': 9116, 'librarian': 9117, 'handicapped': 9118, 'hollow': 9119, 'Eileen': 9120, 'Patient': 9121, 'Funny': 9122, 'tad': 9123, 'sprung': 9124, 'anchors': 9125, 'gripping': 9126, 'duly': 9127, 'Strip': 9128, 'blazing': 9129, 'Jacqueline': 9130, 'Cuts': 9131, 'fiercely': 9132, 'evade': 9133, 'cultivation': 9134, 'affinity': 9135, 'divides': 9136, 'suicidal': 9137, 'Roberto': 9138, 'redeemed': 9139, 'disco': 9140, 'noses': 9141, 'assures': 9142, 'shakes': 9143, 'gratifying': 9144, 'seaside': 9145, 'Steinberg': 9146, 'ghosts': 9147, 'pencil': 9148, 'forgetting': 9149, 'Swimming': 9150, 'funky': 9151, 'Minority': 9152, 'kings': 9153, 'puppies': 9154, 'rusty': 9155, 'vitality': 9156, 'eyebrows': 9157, 'wander': 9158, 'ascertain': 9159, 'comparatively': 9160, 'lush': 9161, 'Seems': 9162, 'scares': 9163, 'wicked': 9164, 'hindsight': 9165, 'purportedly': 9166, 'hammering': 9167, 'evenly': 9168, 'impatient': 9169, 'handguns': 9170, 'stump': 9171, 'tenor': 9172, 'nighttime': 9173, 'idol': 9174, 'manipulating': 9175, 'yourselves': 9176, 'intensifying': 9177, 'cons': 9178, 'initiation': 9179, 'photographic': 9180, 'Exactly': 9181, 'triumphant': 9182, 'Shepard': 9183, 'trumpet': 9184, 'skewed': 9185, 'Strange': 9186, 'Houses': 9187, 'preferably': 9188, 'exquisite': 9189, 'tributes': 9190, 'misunderstood': 9191, 'fore': 9192, 'faint': 9193, 'indispensable': 9194, 'Mormon': 9195, 'verse': 9196, 'induce': 9197, 'awfully': 9198, 'brainer': 9199, 'mined': 9200, 'thinner': 9201, 'bolt': 9202, 'reel': 9203, 'ferocious': 9204, 'unconditional': 9205, 'Werner': 9206, 'Feel': 9207, 'threads': 9208, 'dorm': 9209, 'undermines': 9210, 'Funk': 9211, 'raucous': 9212, 'riddled': 9213, 'ticks': 9214, 'demons': 9215, 'dissatisfied': 9216, 'commend': 9217, 'atmospheric': 9218, 'descend': 9219, 'disgusted': 9220, 'restroom': 9221, 'Disneyland': 9222, 'detractors': 9223, 'clocks': 9224, 'plateau': 9225, 'allergy': 9226, 'WWF': 9227, 'neatly': 9228, 'variant': 9229, 'Smoke': 9230, 'boiled': 9231, 'somber': 9232, 'sham': 9233, 'admirable': 9234, 'complicate': 9235, 'comedies': 9236, 'SAT': 9237, 'veil': 9238, 'fried': 9239, 'Runner': 9240, 'tack': 9241, 'Returns': 9242, 'charisma': 9243, 'addictive': 9244, 'offend': 9245, 'summons': 9246, 'intrigue': 9247, 'occupational': 9248, 'slightest': 9249, 'exposes': 9250, 'facade': 9251, 'haunting': 9252, 'hotter': 9253, 'autistic': 9254, 'perpetual': 9255, 'Problem': 9256, 'Camera': 9257, 'indifferent': 9258, 'venerable': 9259, 'Rosenthal': 9260, 'humiliated': 9261, 'wherein': 9262, 'simulate': 9263, 'Trouble': 9264, 'Kind': 9265, 'forceful': 9266, 'Throw': 9267, 'iceberg': 9268, 'peek': 9269, 'fruitful': 9270, 'Garry': 9271, 'timeless': 9272, 'thrashing': 9273, 'relentlessly': 9274, 'thankfully': 9275, 'willingly': 9276, 'shelved': 9277, 'dictates': 9278, 'Expands': 9279, 'puzzled': 9280, 'wanna': 9281, 'bushels': 9282, 'breakdowns': 9283, 'complacency': 9284, 'depict': 9285, 'forcefully': 9286, 'priceless': 9287, 'plausible': 9288, 'Smaller': 9289, 'hinges': 9290, 'Eisenhower': 9291, 'butterflies': 9292, 'Cam': 9293, 'Juliet': 9294, 'eclipse': 9295, 'ludicrous': 9296, 'Serving': 9297, 'retrospective': 9298, 'appease': 9299, 'installments': 9300, 'Excellent': 9301, 'Marquis': 9302, 'hardened': 9303, 'sketches': 9304, 'reproduce': 9305, 'Burger': 9306, 'Gil': 9307, 'hooker': 9308, 'omitted': 9309, 'virtues': 9310, 'characterization': 9311, 'careless': 9312, 'Ferris': 9313, 'unfolds': 9314, 'Bombay': 9315, 'objectionable': 9316, 'Feature': 9317, 'Wonder': 9318, 'creep': 9319, 'impulse': 9320, 'Worst': 9321, 'goers': 9322, 'anomaly': 9323, 'Wedding': 9324, 'criticizes': 9325, 'Somewhere': 9326, 'DJs': 9327, 'Disaster': 9328, 'negatives': 9329, 'curves': 9330, 'Smoking': 9331, 'mysteries': 9332, 'Texan': 9333, 'Mafia': 9334, 'Panther': 9335, 'Includes': 9336, 'primitive': 9337, 'passages': 9338, 'evangelical': 9339, 'redundancy': 9340, 'Thatcher': 9341, 'Bart': 9342, 'parallels': 9343, 'detached': 9344, 'extravaganza': 9345, 'intrusive': 9346, 'rant': 9347, 'filmmaking': 9348, 'stumble': 9349, 'agile': 9350, 'cabins': 9351, 'comprehend': 9352, 'Clements': 9353, 'displacement': 9354, 'stamina': 9355, 'scarf': 9356, 'Adventures': 9357, 'darling': 9358, 'witty': 9359, 'playbook': 9360, 'punctuated': 9361, 'watered': 9362, 'aquatic': 9363, 'Benoit': 9364, 'disposable': 9365, 'nascent': 9366, 'conception': 9367, 'fluke': 9368, 'enticing': 9369, 'cultivated': 9370, 'maternal': 9371, 'satire': 9372, 'holistic': 9373, 'fraught': 9374, 'twisting': 9375, 'downtime': 9376, 'energies': 9377, 'dormant': 9378, 'substitutes': 9379, 'purity': 9380, 'warden': 9381, 'VI': 9382, 'bloated': 9383, 'heroine': 9384, 'café': 9385, 'truths': 9386, 'tweaked': 9387, 'farce': 9388, 'vengeance': 9389, 'aboriginal': 9390, 'Ghost': 9391, 'Bourne': 9392, 'imaginative': 9393, 'Crossroads': 9394, 'Viewers': 9395, 'Kiss': 9396, 'musicals': 9397, 'persistence': 9398, 'comedians': 9399, 'Matters': 9400, 'aspire': 9401, 'horrors': 9402, 'Rafael': 9403, 'relays': 9404, 'feisty': 9405, 'shouts': 9406, 'hapless': 9407, 'ya': 9408, 'Demons': 9409, 'quieter': 9410, 'LeBlanc': 9411, 'martial': 9412, 'mildly': 9413, 'spotting': 9414, 'bounces': 9415, 'salvation': 9416, 'sentimental': 9417, 'Graduate': 9418, 'spins': 9419, 'spicy': 9420, 'derive': 9421, 'tidy': 9422, 'dissolution': 9423, 'weaponry': 9424, 'sucks': 9425, 'skirts': 9426, 'Nickelodeon': 9427, 'troupe': 9428, 'continual': 9429, 'Surprisingly': 9430, 'lame': 9431, 'lurking': 9432, 'emailed': 9433, 'Hook': 9434, 'realistically': 9435, 'adherence': 9436, 'abound': 9437, 'flagging': 9438, 'Walt': 9439, 'overdose': 9440, 'insignificant': 9441, 'triumphs': 9442, 'pared': 9443, 'Lifetime': 9444, 'misplaced': 9445, 'stare': 9446, 'democracies': 9447, 'Bella': 9448, 'Singles': 9449, 'tweak': 9450, 'Slow': 9451, 'Places': 9452, 'feminist': 9453, 'nagging': 9454, 'enthusiastically': 9455, 'drains': 9456, 'curtains': 9457, 'remembrance': 9458, 'rug': 9459, 'whirlwind': 9460, 'irrational': 9461, 'decency': 9462, 'menacing': 9463, 'stunts': 9464, 'observes': 9465, 'Hatfield': 9466, 'Shrek': 9467, 'Needs': 9468, 'nifty': 9469, 'heartfelt': 9470, 'Mama': 9471, 'resonate': 9472, 'nostalgic': 9473, 'Papa': 9474, 'perseverance': 9475, 'liar': 9476, 'prominently': 9477, 'Serbs': 9478, 'U.': 9479, 'ballroom': 9480, 'unsettling': 9481, 'digitally': 9482, 'fists': 9483, 'rhythms': 9484, 'beginnings': 9485, 'rarity': 9486, 'choppy': 9487, 'hobbled': 9488, 'implements': 9489, 'distinctly': 9490, 'sincerity': 9491, 'insightful': 9492, 'Barrie': 9493, 'er': 9494, 'dots': 9495, 'prank': 9496, 'Judd': 9497, 'Amish': 9498, 'gasp': 9499, 'heyday': 9500, 'cohesive': 9501, 'solace': 9502, 'girlfriends': 9503, 'humbling': 9504, 'loosely': 9505, 'singular': 9506, 'weaving': 9507, 'Lock': 9508, 'pitfalls': 9509, 'mundane': 9510, 'clown': 9511, 'churn': 9512, 'Yanks': 9513, 'hallways': 9514, 'acclaim': 9515, 'Walls': 9516, 'nationalism': 9517, 'punitive': 9518, 'Balkans': 9519, 'understatement': 9520, 'Desmond': 9521, 'seeming': 9522, 'extremes': 9523, 'Winds': 9524, 'cheerful': 9525, 'anguish': 9526, 'chop': 9527, 'Foreman': 9528, 'blunder': 9529, 'Salt': 9530, 'flamboyant': 9531, 'devoid': 9532, 'contagious': 9533, 'drone': 9534, 'sweating': 9535, 'nightmares': 9536, 'adrenaline': 9537, 'Wilder': 9538, 'exiled': 9539, 'Eastwood': 9540, 'rabbits': 9541, 'splendid': 9542, 'Faces': 9543, 'dim': 9544, 'Heller': 9545, 'meddling': 9546, 'Amos': 9547, 'proficiency': 9548, 'realism': 9549, 'insecure': 9550, 'Colgate': 9551, 'Lives': 9552, 'miracles': 9553, 'Bray': 9554, 'Clive': 9555, 'paradigm': 9556, 'skates': 9557, 'predator': 9558, 'inconclusive': 9559, 'cloudy': 9560, 'stereotype': 9561, 'inflict': 9562, 'imaginary': 9563, 'salvaged': 9564, 'Thinking': 9565, 'detriment': 9566, 'parody': 9567, 'cling': 9568, 'resembling': 9569, 'streaks': 9570, 'relayed': 9571, 'unsuspecting': 9572, 'theology': 9573, 'angst': 9574, 'refresh': 9575, 'tedious': 9576, 'undo': 9577, 'accents': 9578, 'baffled': 9579, 'noticeably': 9580, 'conceptual': 9581, 'trusting': 9582, 'stud': 9583, 'infused': 9584, 'Floor': 9585, 'Rosemary': 9586, 'Cortez': 9587, 'stationary': 9588, 'Skip': 9589, 'lemon': 9590, 'perch': 9591, 'representations': 9592, 'societal': 9593, 'famine': 9594, 'opium': 9595, 'diner': 9596, 'wacky': 9597, 'guardians': 9598, 'bothers': 9599, 'errant': 9600, 'boiler': 9601, 'repeats': 9602, 'malnutrition': 9603, 'whipping': 9604, 'cumbersome': 9605, 'zip': 9606, 'claw': 9607, 'affirm': 9608, 'hinge': 9609, 'gathers': 9610, 'repetitive': 9611, 'Magnolia': 9612, 'Amir': 9613, 'rapes': 9614, 'slapping': 9615, 'microscope': 9616, 'touts': 9617, 'Cinderella': 9618, 'spirituality': 9619, 'Frankie': 9620, 'Teddy': 9621, 'fluent': 9622, 'failings': 9623, 'comedic': 9624, 'maze': 9625, 'sheds': 9626, 'rockers': 9627, 'Wonderland': 9628, 'noises': 9629, 'Ramsay': 9630, 'annex': 9631, 'Pixar': 9632, 'devotees': 9633, 'Plummer': 9634, 'universally': 9635, 'nausea': 9636, 'transitions': 9637, 'heap': 9638, 'staggered': 9639, 'sizzling': 9640, 'Hal': 9641, 'disapproval': 9642, 'Mystery': 9643, 'monarch': 9644, 'burdened': 9645, 'Posey': 9646, 'bickering': 9647, 'estranged': 9648, 'Diesel': 9649, 'psyche': 9650, 'uplifting': 9651, 'zombie': 9652, 'nap': 9653, 'gum': 9654, 'guise': 9655, 'senseless': 9656, 'exhaustion': 9657, 'simplest': 9658, 'mistress': 9659, 'exhausting': 9660, 'ha': 9661, 'Helps': 9662, 'Simpsons': 9663, 'Melrose': 9664, 'psychologically': 9665, 'Sopranos': 9666, 'eagerly': 9667, 'indifference': 9668, 'adept': 9669, 'shrug': 9670, 'gushing': 9671, 'intolerance': 9672, 'Tang': 9673, 'slowest': 9674, 'arrow': 9675, 'tendencies': 9676, 'Horner': 9677, 'Bees': 9678, 'fuzzy': 9679, 'stymied': 9680, 'Chances': 9681, 'cameo': 9682, 'hastily': 9683, 'chuckle': 9684, 'Eddy': 9685, 'trivial': 9686, 'Killer': 9687, 'scathing': 9688, 'crawling': 9689, 'puzzles': 9690, 'Doors': 9691, 'Episode': 9692, 'intoxication': 9693, 'perpetrated': 9694, 'unchecked': 9695, 'egregious': 9696, 'spinoff': 9697, 'Sen': 9698, 'brazen': 9699, 'hyper': 9700, 'tepid': 9701, 'aura': 9702, 'diapers': 9703, 'Granger': 9704, 'diverting': 9705, 'Critical': 9706, 'visuals': 9707, 'Leavitt': 9708, 'Sonny': 9709, 'chilled': 9710, 'bumpy': 9711, 'juggling': 9712, 'Serious': 9713, 'Presents': 9714, 'harrowing': 9715, 'hypothesis': 9716, 'leftover': 9717, 'hopeless': 9718, 'Trey': 9719, 'Esther': 9720, 'omission': 9721, 'overrun': 9722, 'formulas': 9723, 'plotted': 9724, 'caste': 9725, 'Intelligent': 9726, 'resorting': 9727, 'Combining': 9728, 'Cage': 9729, 'Angelina': 9730, 'retribution': 9731, 'fashioned': 9732, 'glossy': 9733, 'Judaism': 9734, 'Hitchcock': 9735, 'liberated': 9736, 'fumes': 9737, 'bark': 9738, 'jar': 9739, 'excesses': 9740, 'beads': 9741, 'cannon': 9742, 'Combine': 9743, 'Clooney': 9744, 'fiddle': 9745, 'disdain': 9746, 'transforms': 9747, 'blur': 9748, 'drown': 9749, 'deficiency': 9750, 'dampened': 9751, 'freshly': 9752, 'amused': 9753, 'ambiguous': 9754, 'fearless': 9755, 'unease': 9756, 'rot': 9757, 'lump': 9758, 'dishonest': 9759, 'captives': 9760, 'bland': 9761, 'triangle': 9762, 'futuristic': 9763, 'undeniable': 9764, 'sleepy': 9765, 'overflowing': 9766, 'contrasts': 9767, 'churning': 9768, 'Chin': 9769, 'rowdy': 9770, 'swagger': 9771, 'compositions': 9772, 'wielding': 9773, 'steadfast': 9774, 'Might': 9775, 'Proposal': 9776, 'trilogy': 9777, 'calamity': 9778, 'pacing': 9779, 'jams': 9780, 'rainbow': 9781, 'juicy': 9782, 'smoother': 9783, 'reputations': 9784, 'Naomi': 9785, 'bedside': 9786, 'feminine': 9787, 'Claude': 9788, 'gimmick': 9789, 'dodge': 9790, 'acquainted': 9791, 'rousing': 9792, 'innovators': 9793, 'slender': 9794, 'scrappy': 9795, 'Orleans': 9796, 'Weight': 9797, 'glucose': 9798, 'workable': 9799, 'bumping': 9800, 'extravagant': 9801, 'Vega': 9802, 'interiors': 9803, 'stifling': 9804, 'gunning': 9805, 'Luther': 9806, 'immersed': 9807, 'Phantom': 9808, 'Zoe': 9809, 'overboard': 9810, 'Vera': 9811, 'faked': 9812, 'splashed': 9813, 'ridicule': 9814, 'Attempts': 9815, 'sucking': 9816, 'understated': 9817, 'passionately': 9818, 'protagonist': 9819, 'glued': 9820, 'heartbeat': 9821, 'Midnight': 9822, 'inexperience': 9823, 'shattering': 9824, 'unseen': 9825, 'Monty': 9826, 'ante': 9827, 'CGI': 9828, 'gaze': 9829, 'fictitious': 9830, 'limp': 9831, 'Daisy': 9832, 'Ship': 9833, 'elegance': 9834, 'adopts': 9835, 'Killing': 9836, 'beacon': 9837, 'concentrates': 9838, 'Everywhere': 9839, 'Craven': 9840, 'nudity': 9841, 'distracting': 9842, 'painfully': 9843, 'fatally': 9844, 'euphoria': 9845, 'subsided': 9846, 'millennium': 9847, 'Alas': 9848, 'pinnacle': 9849, 'peppered': 9850, 'Leroy': 9851, 'superbly': 9852, 'grease': 9853, 'pics': 9854, 'fashions': 9855, 'layered': 9856, 'anemic': 9857, 'dispel': 9858, 'bald': 9859, 'happiest': 9860, 'lends': 9861, 'proverbial': 9862, 'inventive': 9863, 'Important': 9864, 'Diego': 9865, 'Abdul': 9866, 'sobering': 9867, 'decisively': 9868, 'savage': 9869, 'heist': 9870, 'uphill': 9871, 'villains': 9872, 'mounts': 9873, 'intimacy': 9874, 'illuminated': 9875, 'sincerely': 9876, 'condone': 9877, 'journalistic': 9878, 'siren': 9879, 'estrogen': 9880, 'agonizing': 9881, 'unscathed': 9882, 'adorable': 9883, 'beatings': 9884, 'sweetheart': 9885, 'insulted': 9886, 'goofy': 9887, 'hitch': 9888, 'superficial': 9889, 'Beast': 9890, 'Springer': 9891, 'apprehension': 9892, 'confrontations': 9893, 'impeccable': 9894, 'Del': 9895, 'incarnation': 9896, 'Napoli': 9897, 'truthful': 9898, 'contradiction': 9899, 'palpable': 9900, 'paranoid': 9901, 'bra': 9902, 'Begins': 9903, 'chronicles': 9904, 'pornographic': 9905, 'frenzied': 9906, 'phenomena': 9907, 'unruly': 9908, 'smack': 9909, 'solemn': 9910, 'undisputed': 9911, 'casually': 9912, 'irresistible': 9913, 'Meat': 9914, 'disturb': 9915, 'pony': 9916, 'oddly': 9917, 'grapple': 9918, 'shoving': 9919, 'woven': 9920, 'morally': 9921, 'max': 9922, 'alienated': 9923, 'straining': 9924, 'pesky': 9925, 'resemblance': 9926, 'Seeks': 9927, 'spitting': 9928, 'instruct': 9929, 'negligible': 9930, 'choreographed': 9931, 'soothing': 9932, 'summertime': 9933, 'Toy': 9934, 'confines': 9935, 'counterproductive': 9936, 'Tierney': 9937, 'projector': 9938, 'outward': 9939, 'interpreting': 9940, 'combatants': 9941, 'Bridget': 9942, 'pessimism': 9943, 'Delhomme': 9944, 'Ana': 9945, 'sanity': 9946, 'Drawing': 9947, 'strangely': 9948, 'insensitive': 9949, 'disappointments': 9950, 'downsizing': 9951, 'Worlds': 9952, 'Lieutenant': 9953, 'potholes': 9954, 'irreversible': 9955, 'aisles': 9956, 'Helms': 9957, 'Nicky': 9958, 'thirst': 9959, 'disappears': 9960, 'topical': 9961, 'dialog': 9962, 'undone': 9963, 'courting': 9964, 'cashing': 9965, 'gowns': 9966, 'depiction': 9967, 'screenwriter': 9968, 'sandwiched': 9969, 'lingerie': 9970, 'Message': 9971, 'spasms': 9972, 'Secrets': 9973, 'Altman': 9974, 'Evil': 9975, 'imprint': 9976, 'beware': 9977, 'inconsistencies': 9978, 'bathtub': 9979, 'sociology': 9980, 'clamoring': 9981, 'behaving': 9982, 'misfortune': 9983, 'diva': 9984, 'Tonga': 9985, 'preserves': 9986, 'tearful': 9987, 'Famous': 9988, 'arch': 9989, 'damned': 9990, 'verbally': 9991, 'geek': 9992, 'percussion': 9993, 'Pauline': 9994, 'unsolved': 9995, 'wizard': 9996, 'scooter': 9997, 'whistles': 9998, 'snagged': 9999, 'wastes': 10000, 'etched': 10001, 'Daughter': 10002, 'appropriated': 10003, 'Satan': 10004, 'moist': 10005, 'flattering': 10006, 'quaint': 10007, 'Gallo': 10008, 'unprepared': 10009, 'dread': 10010, 'padded': 10011, 'taboo': 10012, 'Gives': 10013, 'boldly': 10014, 'Napoleon': 10015, 'exhilarating': 10016, 'overlapping': 10017, 'savor': 10018, 'sportsmanship': 10019, 'overstated': 10020, 'brew': 10021, 'hangover': 10022, 'shoddy': 10023, 'restless': 10024, 'fateful': 10025, 'colonel': 10026, 'unwillingness': 10027, 'hurried': 10028, 'endorses': 10029, 'celebratory': 10030, 'murderous': 10031, 'narrator': 10032, 'scrutinize': 10033, 'underscoring': 10034, 'grounding': 10035, 'creatively': 10036, 'begs': 10037, 'overwhelm': 10038, 'embodies': 10039, 'Shearer': 10040, 'preferable': 10041, 'fortified': 10042, 'missteps': 10043, 'alterations': 10044, 'idiots': 10045, 'Comes': 10046, 'fleeting': 10047, 'blacked': 10048, 'thrives': 10049, 'meticulous': 10050, 'thinkers': 10051, 'underlines': 10052, 'Radcliffe': 10053, 'convincingly': 10054, 'notions': 10055, 'Tank': 10056, 'complicity': 10057, 'needless': 10058, 'collide': 10059, 'Wally': 10060, 'purge': 10061, 'Mad': 10062, 'ancillary': 10063, 'Circus': 10064, 'profiling': 10065, 'Saving': 10066, 'majestic': 10067, 'faulted': 10068, 'Trip': 10069, 'substandard': 10070, 'conditioned': 10071, 'unimaginable': 10072, 'painkillers': 10073, 'fertile': 10074, 'Seen': 10075, 'glitches': 10076, 'ridiculously': 10077, 'ingenuity': 10078, 'aesthetics': 10079, 'decay': 10080, 'brutally': 10081, 'unbearable': 10082, 'catchy': 10083, 'Scandinavian': 10084, 'ethos': 10085, 'Amazing': 10086, 'quantum': 10087, 'blight': 10088, 'Erika': 10089, 'articulated': 10090, 'undetermined': 10091, 'Diary': 10092, 'bluntly': 10093, 'scratches': 10094, 'sublime': 10095, 'rotten': 10096, 'startled': 10097, 'limping': 10098, 'anarchy': 10099, 'despicable': 10100, 'Westerners': 10101, 'juncture': 10102, 'morals': 10103, 'Likely': 10104, 'damning': 10105, 'immature': 10106, 'simmering': 10107, 'crawled': 10108, 'gangster': 10109, 'liberties': 10110, 'chew': 10111, 'deem': 10112, 'bows': 10113, 'Coburn': 10114, 'Mandy': 10115, 'Ayala': 10116, 'nurtured': 10117, 'trump': 10118, 'enlightened': 10119, 'undeveloped': 10120, 'Roses': 10121, 'pies': 10122, 'wayward': 10123, 'Norma': 10124, 'shrapnel': 10125, 'Carmichael': 10126, 'contrasting': 10127, 'stupidity': 10128, 'Thought': 10129, 'hides': 10130, 'tides': 10131, 'maverick': 10132, 'clueless': 10133, 'Shame': 10134, 'compromising': 10135, 'foursome': 10136, 'inclination': 10137, 'tiring': 10138, 'paces': 10139, 'oblivious': 10140, 'graced': 10141, 'Armenians': 10142, 'mischief': 10143, 'presumption': 10144, 'cynicism': 10145, 'infiltrated': 10146, 'reef': 10147, 'syrup': 10148, 'eagles': 10149, 'pretended': 10150, 'facilitator': 10151, 'unloading': 10152, 'provoking': 10153, 'compressed': 10154, 'nuances': 10155, 'unjustified': 10156, 'Kirsten': 10157, 'scar': 10158, 'populace': 10159, 'surfer': 10160, 'drags': 10161, 'railing': 10162, 'bigotry': 10163, 'banter': 10164, 'Wars': 10165, 'equate': 10166, 'expressly': 10167, 'tabloids': 10168, 'dearth': 10169, 'motivations': 10170, 'ditched': 10171, 'dragon': 10172, 'unrelenting': 10173, 'consummate': 10174, 'letdown': 10175, 'IMAX': 10176, 'aborted': 10177, 'puzzling': 10178, 'penis': 10179, 'wrists': 10180, 'Moves': 10181, 'retrospect': 10182, 'pondering': 10183, 'miraculous': 10184, 'persuasive': 10185, 'erasing': 10186, 'wrecks': 10187, 'Hong': 10188, 'loom': 10189, 'irritating': 10190, 'spotty': 10191, 'horrifying': 10192, 'tenuous': 10193, 'leniency': 10194, 'imaginable': 10195, 'Ackerman': 10196, 'attentive': 10197, 'illusions': 10198, 'intermediary': 10199, 'marvel': 10200, 'culled': 10201, 'joyous': 10202, 'sewing': 10203, 'circa': 10204, 'pine': 10205, 'stormy': 10206, 'admirers': 10207, 'predictably': 10208, 'commendable': 10209, 'Prepare': 10210, 'spawn': 10211, 'proclaim': 10212, 'unbelievably': 10213, 'springboard': 10214, 'drenched': 10215, 'simplistic': 10216, 'Silence': 10217, 'reconciled': 10218, 'Technically': 10219, 'gutsy': 10220, 'accomplishing': 10221, 'larceny': 10222, 'awash': 10223, 'Rare': 10224, 'leaner': 10225, 'Regis': 10226, 'prevails': 10227, 'seater': 10228, 'chiefly': 10229, 'Oriental': 10230, 'clinically': 10231, 'lingered': 10232, 'Hanley': 10233, 'Thing': 10234, 'Hunting': 10235, 'VH1': 10236, 'exploratory': 10237, 'rapport': 10238, 'repetition': 10239, 'Tales': 10240, 'endemic': 10241, 'Domino': 10242, 'checkout': 10243, 'sacrificing': 10244, 'rake': 10245, 'Javier': 10246, 'handily': 10247, 'governs': 10248, 'excessively': 10249, 'effortlessly': 10250, 'horizons': 10251, 'impressively': 10252, 'sparse': 10253, 'Nurse': 10254, 'bouquet': 10255, 'classify': 10256, 'Dash': 10257, 'civility': 10258, 'wiser': 10259, 'believable': 10260, 'trot': 10261, 'Feeling': 10262, 'THIS': 10263, 'esteemed': 10264, 'crank': 10265, 'rebirth': 10266, 'experimentation': 10267, 'hogs': 10268, 'Ends': 10269, 'coloring': 10270, 'gamut': 10271, 'itching': 10272, 'bestowed': 10273, 'reviewers': 10274, 'stripe': 10275, 'Anton': 10276, 'graceful': 10277, 'pathology': 10278, 'Brings': 10279, 'advert': 10280, 'tragically': 10281, 'paranoia': 10282, 'tireless': 10283, 'inhabited': 10284, 'Identity': 10285, 'oppressive': 10286, 'clone': 10287, 'patchwork': 10288, 'puppets': 10289, 'dashing': 10290, 'tenacious': 10291, 'weave': 10292, 'presume': 10293, 'inept': 10294, 'craving': 10295, 'Recall': 10296, 'Selection': 10297, 'overt': 10298, 'monstrous': 10299, 'shun': 10300, 'UB': 10301, 'styled': 10302, 'industrialized': 10303, 'penetrating': 10304, 'Blade': 10305, 'longing': 10306, 'hysteria': 10307, 'stale': 10308, 'Lo': 10309, 'heady': 10310, 'dispatching': 10311, 'bleed': 10312, 'orphan': 10313, 'mug': 10314, 'Husband': 10315, 'Dante': 10316, 'yarn': 10317, 'stinging': 10318, 'heartbreak': 10319, 'zombies': 10320, 'dives': 10321, 'messing': 10322, 'glimpses': 10323, 'Slim': 10324, 'Yep': 10325, 'Motown': 10326, 'smartest': 10327, 'scrape': 10328, 'lore': 10329, 'SNL': 10330, 'alternating': 10331, 'unexplained': 10332, 'Rockwell': 10333, 'arduous': 10334, 'Performances': 10335, 'evoke': 10336, 'Hinton': 10337, 'Bale': 10338, 'hysterical': 10339, 'standouts': 10340, 'Conduct': 10341, 'Toward': 10342, 'servants': 10343, 'Jeffs': 10344, 'vaunted': 10345, 'Spend': 10346, 'strung': 10347, 'underrated': 10348, 'Springsteen': 10349, 'nonexistent': 10350, 'Lifestyle': 10351, 'Einstein': 10352, 'Escape': 10353, 'Belt': 10354, 'Tune': 10355, 'redundancies': 10356, 'wrinkles': 10357, 'chops': 10358, 'viewpoints': 10359, 'Sergio': 10360, 'diver': 10361, 'Occasionally': 10362, 'conflicted': 10363, 'darn': 10364, 'workings': 10365, 'tantamount': 10366, 'Broken': 10367, 'Thurman': 10368, 'tract': 10369, 'masterful': 10370, 'darkest': 10371, 'Dickens': 10372, 'hypocritical': 10373, 'anime': 10374, 'zeal': 10375, 'synthesis': 10376, 'patched': 10377, 'shadowy': 10378, 'Jiang': 10379, 'pic': 10380, 'Taken': 10381, 'Hate': 10382, 'bonanza': 10383, 'sane': 10384, 'poetic': 10385, 'synchronized': 10386, 'cohesion': 10387, 'resurrection': 10388, 'adage': 10389, 'selfless': 10390, 'funniest': 10391, 'laughable': 10392, 'teasing': 10393, 'Wedge': 10394, 'languishing': 10395, 'Seinfeld': 10396, 'graveyard': 10397, 'intellect': 10398, 'tub': 10399, 'uh': 10400, 'lyrical': 10401, 'Bard': 10402, 'Val': 10403, 'digit': 10404, 'accompanies': 10405, 'Memories': 10406, 'lewd': 10407, 'ecstasy': 10408, 'camouflage': 10409, 'Kang': 10410, 'Quentin': 10411, 'Greatest': 10412, 'eternity': 10413, 'Topics': 10414, 'Taxi': 10415, 'soggy': 10416, 'diaries': 10417, 'abusers': 10418, 'originality': 10419, 'Proof': 10420, 'parting': 10421, 'whining': 10422, 'biz': 10423, 'merry': 10424, 'transports': 10425, 'glimmer': 10426, 'Clara': 10427, 'fuse': 10428, 'adultery': 10429, 'chimney': 10430, 'joys': 10431, 'Soft': 10432, 'acumen': 10433, 'Wanderers': 10434, 'prose': 10435, 'tinkering': 10436, 'amusement': 10437, 'lobbies': 10438, 'typed': 10439, 'Abel': 10440, 'eerie': 10441, 'crackers': 10442, 'intermittent': 10443, 'chases': 10444, 'cheesy': 10445, 'contradictions': 10446, 'tv': 10447, 'Rye': 10448, 'labored': 10449, 'degrading': 10450, 'wholesome': 10451, 'Hamlet': 10452, 'extracting': 10453, 'Ridley': 10454, 'lighted': 10455, 'propensity': 10456, 'symbolism': 10457, 'plainly': 10458, 'unwittingly': 10459, 'joyful': 10460, 'resurrect': 10461, 'untold': 10462, 'heroism': 10463, 'numb': 10464, 'spoof': 10465, 'aspiration': 10466, 'fret': 10467, 'spoiler': 10468, 'deli': 10469, 'invaders': 10470, 'confrontational': 10471, 'inexplicably': 10472, 'giddy': 10473, 'gag': 10474, 'sprinkled': 10475, 'ants': 10476, 'timid': 10477, 'molestation': 10478, 'overpowered': 10479, 'malaise': 10480, 'subordinate': 10481, 'persistently': 10482, 'infidelity': 10483, 'drumming': 10484, 'negativity': 10485, 'narrated': 10486, 'implicit': 10487, 'orchestrating': 10488, 'Skin': 10489, 'soars': 10490, 'gloss': 10491, 'gravy': 10492, 'creamy': 10493, 'Laurence': 10494, 'naughty': 10495, 'futility': 10496, 'Beatrice': 10497, 'Limit': 10498, 'virgin': 10499, 'unqualified': 10500, 'ambiguity': 10501, 'Driven': 10502, 'dosage': 10503, 'Mohawk': 10504, 'Elm': 10505, 'supernatural': 10506, 'Nights': 10507, 'coral': 10508, 'fantasies': 10509, 'Cheese': 10510, 'derives': 10511, 'whimsical': 10512, 'Hilary': 10513, 'infinite': 10514, 'posturing': 10515, 'marketable': 10516, 'Chain': 10517, 'Auschwitz': 10518, 'fools': 10519, 'addict': 10520, 'Burr': 10521, 'visualize': 10522, 'literal': 10523, 'steeped': 10524, 'excursion': 10525, 'fringes': 10526, 'Coral': 10527, 'overload': 10528, 'weeping': 10529, 'ransacked': 10530, 'refreshed': 10531, 'Prophet': 10532, 'Starts': 10533, 'Augustine': 10534, 'cheeks': 10535, 'Solo': 10536, 'ills': 10537, 'comical': 10538, 'Conan': 10539, 'Notwithstanding': 10540, 'wig': 10541, 'Leaves': 10542, 'riveting': 10543, 'rappers': 10544, 'tangle': 10545, 'affirmation': 10546, 'hallmarks': 10547, 'captivated': 10548, 'endlessly': 10549, 'imperfect': 10550, 'clumsy': 10551, 'staircase': 10552, 'Poetry': 10553, 'perfected': 10554, 'exceedingly': 10555, 'peanut': 10556, 'Revenge': 10557, 'buff': 10558, 'Tyco': 10559, 'grinning': 10560, 'underwritten': 10561, 'vaguely': 10562, 'occurrences': 10563, 'Whole': 10564, 'increments': 10565, 'dispense': 10566, 'flux': 10567, 'Translation': 10568, 'Officially': 10569, 'tease': 10570, 'bearded': 10571, 'fanatics': 10572, 'resolute': 10573, 'checklist': 10574, 'Beau': 10575, 'nimble': 10576, 'sip': 10577, 'succumb': 10578, 'motherhood': 10579, 'jealousy': 10580, 'abysmal': 10581, 'wafer': 10582, 'brethren': 10583, 'breezy': 10584, 'legion': 10585, 'Brody': 10586, 'Das': 10587, 'fulfills': 10588, 'goose': 10589, 'crave': 10590, 'signify': 10591, 'soulful': 10592, 'Interesting': 10593, 'Ellie': 10594, 'sparring': 10595, 'Hallmark': 10596, 'luster': 10597, 'persecuted': 10598, 'strands': 10599, 'behold': 10600, 'videogame': 10601, 'stimulation': 10602, 'bless': 10603, 'Lau': 10604, 'Olivier': 10605, 'Riviera': 10606, 'rite': 10607, 'thrills': 10608, 'morphed': 10609, 'gleaned': 10610, 'censure': 10611, 'Stress': 10612, 'cleverly': 10613, 'distressing': 10614, 'Zen': 10615, 'trumps': 10616, 'bitch': 10617, 'reopens': 10618, 'Dirty': 10619, 'bypassing': 10620, 'downing': 10621, 'Ismail': 10622, 'unorthodox': 10623, 'sterile': 10624, 'inflate': 10625, 'unifying': 10626, 'indulging': 10627, 'quashed': 10628, 'expressive': 10629, 'miniseries': 10630, 'Bergman': 10631, 'dynamite': 10632, 'Cheap': 10633, 'stepmother': 10634, 'flocking': 10635, 'discerning': 10636, 'lust': 10637, 'delve': 10638, 'blond': 10639, 'Iris': 10640, 'throwback': 10641, 'brash': 10642, 'evolves': 10643, 'blurred': 10644, 'vulgar': 10645, 'torrent': 10646, 'yearning': 10647, 'Zhao': 10648, 'pissed': 10649, 'unmistakable': 10650, 'loneliness': 10651, 'sketchy': 10652, 'stubbornly': 10653, 'reactive': 10654, 'doc': 10655, 'spoon': 10656, 'Trailer': 10657, 'audacious': 10658, 'sportsmen': 10659, 'patiently': 10660, 'Cassel': 10661, 'sequels': 10662, 'erotic': 10663, 'rebellious': 10664, 'doldrums': 10665, 'rattling': 10666, 'Guns': 10667, 'obligatory': 10668, 'mist': 10669, 'juggle': 10670, 'leftovers': 10671, 'Freddy': 10672, 'contradicts': 10673, 'Sets': 10674, 'Ending': 10675, 'Clancy': 10676, 'insomnia': 10677, 'Nicolas': 10678, 'Caruso': 10679, 'mediocrity': 10680, 'blip': 10681, 'drawbacks': 10682, 'Legendary': 10683, 'erupt': 10684, 'resent': 10685, 'boisterous': 10686, 'treasured': 10687, 'Gifford': 10688, 'steamy': 10689, 'sleeper': 10690, 'finesse': 10691, 'messenger': 10692, 'Pie': 10693, 'cowardly': 10694, 'richness': 10695, 'uncontrolled': 10696, 'hostess': 10697, 'unwavering': 10698, 'tracts': 10699, 'hereby': 10700, 'principled': 10701, 'Pluto': 10702, 'bubbly': 10703, 'assertive': 10704, 'Spike': 10705, 'tosses': 10706, 'smear': 10707, 'magician': 10708, 'Titus': 10709, 'Possibly': 10710, 'resonates': 10711, 'Breen': 10712, 'Tori': 10713, 'lament': 10714, 'ambience': 10715, 'Reunion': 10716, 'scandalous': 10717, 'captivating': 10718, 'poking': 10719, 'encountering': 10720, 'brushes': 10721, 'conceivable': 10722, 'porous': 10723, 'airtime': 10724, 'fascist': 10725, 'anatomy': 10726, 'Yi': 10727, 'uplift': 10728, 'Beware': 10729, 'Gambling': 10730, 'improvised': 10731, 'neglecting': 10732, 'cutter': 10733, 'whispers': 10734, 'plaguing': 10735, 'departs': 10736, 'dwarf': 10737, 'Sabrina': 10738, 'Spielberg': 10739, 'scarcely': 10740, 'unwise': 10741, 'affirms': 10742, 'justifies': 10743, 'Typical': 10744, 'rung': 10745, 'astute': 10746, 'adolescence': 10747, 'marathons': 10748, 'unhappiness': 10749, 'wannabe': 10750, 'alienating': 10751, 'quintessential': 10752, 'Yard': 10753, 'restatement': 10754, 'soothe': 10755, 'Done': 10756, 'nicest': 10757, 'sexes': 10758, 'tar': 10759, 'cliché': 10760, 'spectacularly': 10761, 'overblown': 10762, 'flute': 10763, 'obnoxious': 10764, 'discreet': 10765, 'psychic': 10766, 'consciously': 10767, 'flicks': 10768, 'exuberant': 10769, 'postcard': 10770, 'boredom': 10771, 'stylist': 10772, 'flushed': 10773, 'busts': 10774, 'Selby': 10775, 'fondness': 10776, 'Hawley': 10777, 'fondly': 10778, 'Simone': 10779, 'Emperor': 10780, 'sensibility': 10781, 'artworks': 10782, 'Trials': 10783, 'Dirk': 10784, 'Schaeffer': 10785, 'assesses': 10786, 'bluff': 10787, 'symbolizes': 10788, 'notches': 10789, 'Pipe': 10790, 'Them': 10791, 'schoolboy': 10792, 'Axis': 10793, 'Lanes': 10794, 'Ordinary': 10795, 'cocky': 10796, 'timelines': 10797, 'philosopher': 10798, 'carpets': 10799, 'assassin': 10800, 'peas': 10801, 'Pandora': 10802, 'magnified': 10803, 'bucked': 10804, 'afterthought': 10805, 'Beating': 10806, 'feeble': 10807, 'Mehta': 10808, 'pent': 10809, 'seams': 10810, 'Brave': 10811, 'delights': 10812, 'biennial': 10813, 'affords': 10814, 'apex': 10815, 'lukewarm': 10816, 'kudos': 10817, 'brimming': 10818, 'walker': 10819, 'effortless': 10820, 'warmly': 10821, 'Lear': 10822, 'instilled': 10823, 'uniqueness': 10824, 'shambles': 10825, 'blanks': 10826, 'loops': 10827, 'Psychology': 10828, 'annoyance': 10829, 'vampires': 10830, 'obsessive': 10831, 'matinee': 10832, 'Cedric': 10833, 'snuck': 10834, 'artistes': 10835, 'crystals': 10836, 'aggrieved': 10837, 'pauses': 10838, 'manifestation': 10839, 'unequivocally': 10840, 'Wiseman': 10841, 'painters': 10842, 'vinegar': 10843, 'stink': 10844, 'chore': 10845, 'Hearst': 10846, 'Debut': 10847, 'Carlin': 10848, 'Rowling': 10849, 'detachment': 10850, 'moviegoers': 10851, 'bathing': 10852, 'justifying': 10853, 'elbows': 10854, 'perils': 10855, 'obscured': 10856, 'abiding': 10857, 'awkwardly': 10858, 'Burning': 10859, 'adhering': 10860, 'Hardly': 10861, 'Americana': 10862, 'Hare': 10863, 'charms': 10864, 'expiry': 10865, 'Segal': 10866, 'shred': 10867, 'alienate': 10868, 'subtly': 10869, 'intertwined': 10870, 'stagnation': 10871, 'innate': 10872, 'idling': 10873, 'Paid': 10874, 'palate': 10875, 'palette': 10876, 'sickening': 10877, 'Lite': 10878, 'stiffness': 10879, 'dreary': 10880, 'palatable': 10881, 'horribly': 10882, 'tirade': 10883, 'clowns': 10884, 'reigns': 10885, 'sensibilities': 10886, 'uncompromising': 10887, 'immersive': 10888, 'sweetness': 10889, 'modem': 10890, 'ardent': 10891, 'DreamWorks': 10892, 'sympathize': 10893, 'aggravating': 10894, 'fathom': 10895, 'hi': 10896, 'aggressiveness': 10897, 'stomping': 10898, 'aloft': 10899, 'programmer': 10900, 'outlandish': 10901, 'cautionary': 10902, 'fades': 10903, 'cursing': 10904, 'lighten': 10905, 'hateful': 10906, 'reunions': 10907, 'torturing': 10908, 'monologue': 10909, 'Forster': 10910, 'intolerable': 10911, 'frenetic': 10912, 'chewing': 10913, 'sweaty': 10914, 'lipstick': 10915, 'evoked': 10916, 'iced': 10917, 'coldest': 10918, 'Hunger': 10919, 'specimen': 10920, 'conceive': 10921, 'thirsty': 10922, 'Philippe': 10923, 'heartache': 10924, 'retreats': 10925, 'Bow': 10926, 'kitten': 10927, 'illustrating': 10928, 'aficionados': 10929, 'bloodstream': 10930, 'snapshots': 10931, 'rhetorical': 10932, 'Bland': 10933, 'comforted': 10934, 'Told': 10935, 'swallowing': 10936, 'stifled': 10937, 'smoky': 10938, 'illuminate': 10939, 'searing': 10940, 'Melville': 10941, 'Dangerous': 10942, 'Chong': 10943, 'conclusive': 10944, 'transplanted': 10945, 'evokes': 10946, 'violinist': 10947, 'Fidel': 10948, 'cheats': 10949, 'mishandled': 10950, 'skyscraper': 10951, 'reflections': 10952, 'rigors': 10953, 'laurels': 10954, 'underworld': 10955, 'disservice': 10956, 'rustic': 10957, 'jarring': 10958, 'pronounce': 10959, 'eh': 10960, 'lunar': 10961, 'meticulously': 10962, 'mythology': 10963, 'spiritually': 10964, 'eventful': 10965, 'needlessly': 10966, 'Godfather': 10967, 'Birthday': 10968, 'Thriller': 10969, 'Tuck': 10970, 'furiously': 10971, 'awakening': 10972, 'fluctuating': 10973, 'melodic': 10974, 'Praise': 10975, 'Warm': 10976, 'Lola': 10977, 'storylines': 10978, 'ART': 10979, 'coke': 10980, 'grisly': 10981, 'Nesbitt': 10982, 'locales': 10983, 'angling': 10984, 'warmest': 10985, 'fuller': 10986, 'benefitted': 10987, 'crazed': 10988, 'Audience': 10989, 'smothered': 10990, 'clashing': 10991, 'piercing': 10992, 'serene': 10993, 'prejudices': 10994, 'Lucia': 10995, 'eloquent': 10996, 'bravely': 10997, 'intelligently': 10998, 'nuanced': 10999, 'hamburgers': 11000, 'Tap': 11001, 'Treasure': 11002, 'Chronicles': 11003, 'freshness': 11004, 'felons': 11005, 'blossom': 11006, 'satirical': 11007, 'widget': 11008, 'enigmatic': 11009, 'excels': 11010, 'wallpaper': 11011, 'contemporaries': 11012, 'cranked': 11013, 'Kidman': 11014, 'excite': 11015, 'overheated': 11016, 'Ally': 11017, 'Solaris': 11018, 'generational': 11019, 'artistry': 11020, 'discern': 11021, 'Astoria': 11022, 'cleansing': 11023, 'Hanks': 11024, 'shabby': 11025, 'stench': 11026, 'Elmer': 11027, 'shocker': 11028, 'fanatic': 11029, 'pleasures': 11030, 'shrewd': 11031, 'ragged': 11032, 'massacres': 11033, 'obscurity': 11034, 'Rosario': 11035, 'grandkids': 11036, 'Columbine': 11037, 'exaggeration': 11038, 'powerfully': 11039, 'Pinochet': 11040, 'teeming': 11041, 'endearing': 11042, 'rambling': 11043, 'Woo': 11044, 'Musicians': 11045, 'drizzle': 11046, 'borderline': 11047, 'glee': 11048, 'vanity': 11049, 'faceoff': 11050, 'teetering': 11051, 'tormented': 11052, 'elicit': 11053, 'scheming': 11054, 'blatantly': 11055, 'Woodard': 11056, 'abbreviated': 11057, 'opaque': 11058, 'folly': 11059, 'McWilliams': 11060, 'choirs': 11061, 'mosaic': 11062, 'uncles': 11063, 'Spy': 11064, 'naïve': 11065, 'charting': 11066, 'miscellaneous': 11067, 'distort': 11068, 'witch': 11069, 'Swim': 11070, 'tutorial': 11071, 'imagining': 11072, 'plum': 11073, 'strangling': 11074, 'rotting': 11075, 'Fabian': 11076, 'jabs': 11077, 'Dolly': 11078, 'elude': 11079, 'ray': 11080, 'modernized': 11081, 'perplexed': 11082, 'cliche': 11083, 'stew': 11084, 'harvests': 11085, 'augmented': 11086, 'painstaking': 11087, 'Deadly': 11088, 'cascade': 11089, 'chronicle': 11090, 'Lai': 11091, 'spider': 11092, 'hash': 11093, 'Spalding': 11094, 'atrocious': 11095, 'strenuous': 11096, 'haunts': 11097, 'linguistic': 11098, 'Paxton': 11099, 'knitting': 11100, 'Kimmel': 11101, 'Quiet': 11102, 'renders': 11103, 'Altogether': 11104, 'clamor': 11105, 'liberalism': 11106, 'communicates': 11107, 'defies': 11108, 'imitation': 11109, 'swords': 11110, 'motorized': 11111, 'mellow': 11112, 'degraded': 11113, 'Ideal': 11114, 'crooks': 11115, 'goggles': 11116, 'plastered': 11117, 'Ensemble': 11118, 'Bread': 11119, 'topless': 11120, 'pancakes': 11121, 'Raphael': 11122, 'techno': 11123, 'fancied': 11124, 'Kong': 11125, 'adored': 11126, 'Divine': 11127, 'Edmund': 11128, 'recital': 11129, 'dope': 11130, 'Hutchins': 11131, 'referencing': 11132, 'pausing': 11133, 'closeness': 11134, 'reaffirms': 11135, 'smartly': 11136, 'shenanigans': 11137, 'disingenuous': 11138, 'PB': 11139, 'heinous': 11140, 'delusional': 11141, 'inhabit': 11142, 'humming': 11143, 'mystical': 11144, 'childish': 11145, 'chick': 11146, 'woodland': 11147, 'geeks': 11148, 'deceit': 11149, 'receding': 11150, 'inhuman': 11151, 'conspicuous': 11152, 'jargon': 11153, 'lumps': 11154, 'stitched': 11155, 'buoy': 11156, 'unintentional': 11157, 'channeling': 11158, 'likable': 11159, 'Bubba': 11160, 'lags': 11161, 'racy': 11162, 'Tale': 11163, 'downbeat': 11164, 'bewildered': 11165, 'mettle': 11166, 'boardwalk': 11167, 'structuring': 11168, 'footnote': 11169, 'offsets': 11170, 'fluffy': 11171, 'Monte': 11172, 'Significantly': 11173, 'outnumber': 11174, 'mating': 11175, 'fosters': 11176, 'Alone': 11177, 'discord': 11178, 'Boris': 11179, 'spaghetti': 11180, 'schoolers': 11181, 'glitzy': 11182, 'buffs': 11183, 'skateboarding': 11184, 'distortions': 11185, 'forgettable': 11186, 'Jeanette': 11187, 'Dot': 11188, 'inconceivable': 11189, 'Character': 11190, 'faking': 11191, 'wobbly': 11192, 'dazed': 11193, 'unbalanced': 11194, 'lashing': 11195, 'blockbusters': 11196, 'BV': 11197, 'skeletons': 11198, 'flimsy': 11199, 'stoned': 11200, 'cloak': 11201, 'potency': 11202, 'inexcusable': 11203, 'doubting': 11204, 'wane': 11205, 'embody': 11206, 'sap': 11207, 'inventing': 11208, 'lingers': 11209, 'Elmore': 11210, 'inexplicable': 11211, 'Cry': 11212, 'evaded': 11213, 'conformity': 11214, 'stroked': 11215, 'alas': 11216, 'Awesome': 11217, 'marveled': 11218, 'conveying': 11219, 'anxieties': 11220, 'Plays': 11221, 'Silent': 11222, 'freighter': 11223, 'ninety': 11224, 'conundrum': 11225, 'Rises': 11226, 'mute': 11227, 'debatable': 11228, 'Mariah': 11229, 'dwellers': 11230, 'binds': 11231, 'liberating': 11232, 'cheeky': 11233, 'sorority': 11234, 'reiterates': 11235, 'continuum': 11236, 'distinctions': 11237, 'hating': 11238, 'Peralta': 11239, 'eavesdropping': 11240, 'snared': 11241, 'melancholy': 11242, 'backseat': 11243, 'Argentinian': 11244, 'mindless': 11245, 'undeniably': 11246, 'combustion': 11247, 'Herzog': 11248, 'plying': 11249, 'Triumph': 11250, 'Tunis': 11251, 'Offensive': 11252, 'outbursts': 11253, 'macho': 11254, 'ingenious': 11255, 'feces': 11256, 'sands': 11257, 'Olympus': 11258, 'confluence': 11259, 'spooky': 11260, 'drawers': 11261, 'baffling': 11262, 'asparagus': 11263, 'muck': 11264, 'undoing': 11265, 'enamored': 11266, 'sensitivities': 11267, 'stoke': 11268, 'padding': 11269, 'Mean': 11270, 'willful': 11271, 'Catcher': 11272, 'gutter': 11273, 'freaking': 11274, 'unnatural': 11275, 'impart': 11276, 'Kingsley': 11277, 'conscientious': 11278, 'expertly': 11279, 'compass': 11280, 'vividly': 11281, 'vile': 11282, 'Remains': 11283, 'wills': 11284, 'bundling': 11285, 'preposterous': 11286, 'conveys': 11287, 'Borg': 11288, 'wade': 11289, 'moods': 11290, 'Neighbor': 11291, 'fad': 11292, 'elicited': 11293, 'eagerness': 11294, 'detract': 11295, 'biopic': 11296, 'candor': 11297, 'Drops': 11298, 'lick': 11299, 'saturation': 11300, 'china': 11301, 'tinged': 11302, 'upping': 11303, 'pointedly': 11304, 'subversive': 11305, 'Ratliff': 11306, 'digits': 11307, 'whiff': 11308, 'islanders': 11309, 'onscreen': 11310, 'Splash': 11311, 'Pair': 11312, 'hourlong': 11313, 'Hannibal': 11314, 'reinforcement': 11315, 'steers': 11316, 'Shafer': 11317, 'platter': 11318, 'whitewash': 11319, 'retaliatory': 11320, 'opts': 11321, 'Piano': 11322, 'tempt': 11323, 'seductive': 11324, 'seventeen': 11325, 'chord': 11326, 'adaptations': 11327, 'restate': 11328, 'veritable': 11329, 'entangled': 11330, 'Witherspoon': 11331, 'fresher': 11332, 'incessant': 11333, 'Caucasian': 11334, 'resonance': 11335, 'burly': 11336, 'Digest': 11337, 'uniformly': 11338, 'privy': 11339, 'lord': 11340, 'boomers': 11341, 'flopped': 11342, 'Huston': 11343, 'deft': 11344, 'swirl': 11345, 'genitals': 11346, 'chills': 11347, 'convoluted': 11348, 'disarming': 11349, 'skirmishes': 11350, 'reverence': 11351, 'swims': 11352, 'furry': 11353, 'fab': 11354, 'stinks': 11355, 'pours': 11356, 'lethargic': 11357, 'stalked': 11358, 'Barely': 11359, 'minimalist': 11360, 'recite': 11361, 'travesty': 11362, 'negated': 11363, 'rut': 11364, 'trappings': 11365, 'Ark': 11366, 'grandeur': 11367, 'deflated': 11368, 'unrealized': 11369, 'crafty': 11370, 'amp': 11371, 'comebacks': 11372, 'satisfies': 11373, 'makings': 11374, 'roller': 11375, 'Broomfield': 11376, 'reruns': 11377, 'buggy': 11378, 'replete': 11379, 'caricature': 11380, 'objectivity': 11381, 'antidote': 11382, 'flashbacks': 11383, 'predictability': 11384, 'Sit': 11385, 'dismissive': 11386, 'purport': 11387, 'stumbles': 11388, 'sarcastic': 11389, 'Achilles': 11390, 'Rarely': 11391, 'Allegiance': 11392, 'Dani': 11393, 'invincible': 11394, 'deftly': 11395, 'reworked': 11396, 'Caesar': 11397, 'amazement': 11398, 'Kieran': 11399, 'nonfiction': 11400, 'tranquil': 11401, 'fling': 11402, 'mulls': 11403, 'narration': 11404, 'contrived': 11405, 'craftsmanship': 11406, 'incomprehensible': 11407, 'Delivers': 11408, 'Sandler': 11409, 'injustices': 11410, 'crux': 11411, 'aching': 11412, 'schoolgirl': 11413, 'grasping': 11414, 'Rodrigues': 11415, 'résumé': 11416, 'torpedo': 11417, 'perverse': 11418, 'Visits': 11419, 'dysfunction': 11420, 'tidal': 11421, 'bombshell': 11422, 'Franz': 11423, 'gracefully': 11424, 'hardy': 11425, 'Whale': 11426, 'narratives': 11427, 'cringe': 11428, 'resuscitate': 11429, 'Battlefield': 11430, 'appetizer': 11431, 'Deeds': 11432, 'storyteller': 11433, 'Goliath': 11434, 'canon': 11435, 'Photographer': 11436, 'suffocating': 11437, 'negate': 11438, 'caved': 11439, 'surfacing': 11440, 'sporadically': 11441, 'sprawl': 11442, 'Monsters': 11443, 'collage': 11444, 'pastry': 11445, 'ghetto': 11446, 'tantalizing': 11447, 'Bang': 11448, 'beasts': 11449, 'Wilde': 11450, 'Um': 11451, 'Reef': 11452, 'du': 11453, 'heartening': 11454, 'Aniston': 11455, 'Ivory': 11456, 'impartiality': 11457, 'methodically': 11458, 'amicable': 11459, 'Dong': 11460, 'Hubert': 11461, 'adore': 11462, 'bedtime': 11463, 'scorn': 11464, 'Karim': 11465, 'interfaith': 11466, 'unintended': 11467, 'malice': 11468, 'impersonation': 11469, 'Laramie': 11470, 'Hanukkah': 11471, 'lovable': 11472, 'cello': 11473, 'transcend': 11474, 'Seas': 11475, 'unquestionably': 11476, 'Berkley': 11477, 'reefs': 11478, 'rekindled': 11479, 'succumbing': 11480, 'Newcomer': 11481, 'alternately': 11482, 'Matheson': 11483, 'unassuming': 11484, 'concocted': 11485, 'someplace': 11486, 'shootouts': 11487, 'Aldrich': 11488, 'Schrader': 11489, 'Scream': 11490, 'clutches': 11491, 'folds': 11492, 'belated': 11493, 'rhythmic': 11494, 'gimmicks': 11495, 'prod': 11496, 'sheen': 11497, 'Runs': 11498, 'sympathies': 11499, 'protagonists': 11500, 'blockage': 11501, 'transcends': 11502, 'jolted': 11503, 'Happiness': 11504, 'Musketeers': 11505, 'gymnast': 11506, 'animations': 11507, 'obscenity': 11508, 'gurus': 11509, 'spiders': 11510, 'Fantastic': 11511, 'Jeopardy': 11512, 'shackles': 11513, 'bled': 11514, 'conjure': 11515, 'Dodger': 11516, 'Rover': 11517, 'rerun': 11518, 'overdone': 11519, 'illumination': 11520, 'recyclable': 11521, 'shockingly': 11522, 'Replacing': 11523, 'Brilliant': 11524, 'abyss': 11525, 'gosh': 11526, 'brightly': 11527, 'steaming': 11528, 'innocuous': 11529, 'grumbling': 11530, 'polishing': 11531, 'relic': 11532, 'mixer': 11533, 'oblivion': 11534, 'McCracken': 11535, 'Afternoon': 11536, 'fastballs': 11537, 'archival': 11538, 'perpetually': 11539, 'Petersburg': 11540, 'reprehensible': 11541, 'unattractive': 11542, 'Rea': 11543, 'unbroken': 11544, 'impair': 11545, 'pawn': 11546, 'modesty': 11547, 'forthright': 11548, 'Amazingly': 11549, 'squabbling': 11550, 'pandering': 11551, 'skateboard': 11552, 'hideous': 11553, 'disoriented': 11554, 'Truly': 11555, 'Trains': 11556, 'mischievous': 11557, 'tagline': 11558, 'cartons': 11559, 'conciliatory': 11560, 'aroused': 11561, 'sexist': 11562, 'odyssey': 11563, 'Nadia': 11564, 'pearls': 11565, 'blush': 11566, 'stately': 11567, 'Murdock': 11568, 'ringside': 11569, 'montage': 11570, 'explodes': 11571, 'rediscover': 11572, 'composing': 11573, 'tongues': 11574, 'aberration': 11575, 'masterpieces': 11576, 'profane': 11577, 'Rambo': 11578, 'awry': 11579, 'dizzying': 11580, 'Skins': 11581, 'affable': 11582, 'suggestive': 11583, 'bisexual': 11584, 'testimonials': 11585, 'Sad': 11586, 'Communion': 11587, 'devaluation': 11588, 'Tully': 11589, 'longs': 11590, 'SLC': 11591, 'leisurely': 11592, 'Ong': 11593, 'scintillating': 11594, 'pretense': 11595, 'reshaping': 11596, 'cram': 11597, 'patchy': 11598, 'stereotypical': 11599, 'overtly': 11600, 'rips': 11601, 'Pull': 11602, 'simmer': 11603, 'Pageant': 11604, 'stimulates': 11605, 'compels': 11606, 'terrorizing': 11607, 'skittish': 11608, 'rekindle': 11609, 'Hmm': 11610, 'alienation': 11611, 'willfully': 11612, 'admirer': 11613, 'exposition': 11614, 'lifeless': 11615, 'instinctively': 11616, 'revisiting': 11617, 'pedestal': 11618, 'anchoring': 11619, 'painless': 11620, 'Kudos': 11621, 'evocative': 11622, 'Leone': 11623, 'brow': 11624, 'keenly': 11625, 'twister': 11626, 'audacity': 11627, 'MY': 11628, 'exasperated': 11629, 'throes': 11630, 'primer': 11631, 'jaded': 11632, 'illuminating': 11633, 'quintet': 11634, 'strongman': 11635, 'Been': 11636, 'malnourished': 11637, 'infinitely': 11638, 'Shoe': 11639, 'creed': 11640, 'admiring': 11641, 'visceral': 11642, 'indulged': 11643, 'galore': 11644, 'masculine': 11645, 'Parisian': 11646, 'vine': 11647, 'Venezuelans': 11648, 'courtship': 11649, 'pollute': 11650, 'hazy': 11651, 'Comedian': 11652, 'arbitrarily': 11653, 'bolder': 11654, 'frighten': 11655, 'veiled': 11656, 'cunning': 11657, 'Garth': 11658, 'Bicycle': 11659, 'mesmerizing': 11660, 'Gilliam': 11661, 'Witch': 11662, 'ebb': 11663, 'Kumble': 11664, 'spotlights': 11665, 'Ricci': 11666, 'hue': 11667, 'absurdity': 11668, 'drifts': 11669, 'outweighs': 11670, 'cone': 11671, 'strut': 11672, 'Aidan': 11673, 'aversion': 11674, 'puff': 11675, 'Spider': 11676, 'keel': 11677, 'reclaiming': 11678, 'anthropology': 11679, 'infecting': 11680, 'assassins': 11681, 'Bigelow': 11682, 'unintentionally': 11683, 'tattered': 11684, 'ruse': 11685, 'Finds': 11686, 'savory': 11687, 'reconsideration': 11688, 'logically': 11689, 'stirs': 11690, 'rewritten': 11691, 'infuse': 11692, 'bravado': 11693, 'Dumas': 11694, 'thorn': 11695, 'bends': 11696, 'Tarantino': 11697, 'jolly': 11698, 'bitterly': 11699, 'fairytale': 11700, 'magically': 11701, 'diminishes': 11702, 'wildcard': 11703, 'fumbling': 11704, 'culminates': 11705, 'Sense': 11706, 'offbeat': 11707, 'Johnnie': 11708, 'locale': 11709, 'wading': 11710, 'Wonderful': 11711, 'Reveals': 11712, 'forgets': 11713, 'mortal': 11714, 'idealistic': 11715, 'fetching': 11716, 'multifaceted': 11717, 'psychedelic': 11718, 'irreverent': 11719, 'chords': 11720, 'Bride': 11721, 'Forced': 11722, 'gazing': 11723, 'Seasons': 11724, 'crappy': 11725, 'underdeveloped': 11726, 'wretched': 11727, 'naught': 11728, 'swaying': 11729, 'Highly': 11730, 'aspires': 11731, 'facet': 11732, 'fireball': 11733, 'Nair': 11734, 'da': 11735, 'Bradbury': 11736, 'reactionary': 11737, 'alleys': 11738, 'Daphne': 11739, 'intermittently': 11740, 'McCulloch': 11741, 'distinguishing': 11742, 'collectible': 11743, 'slog': 11744, 'petite': 11745, 'improvisation': 11746, 'prehistoric': 11747, 'muddled': 11748, 'enlightening': 11749, 'admirably': 11750, 'dour': 11751, 'foreground': 11752, 'lighthearted': 11753, 'consigned': 11754, 'hinged': 11755, 'scuttled': 11756, 'Purdy': 11757, 'vomit': 11758, 'jaunt': 11759, 'illogical': 11760, 'Siberian': 11761, 'implosion': 11762, 'parlor': 11763, 'glitz': 11764, 'betray': 11765, 'Grease': 11766, 'Halfway': 11767, 'Fatal': 11768, 'fragment': 11769, 'excruciating': 11770, 'flowering': 11771, 'Myer': 11772, 'unsurpassed': 11773, 'Pieces': 11774, 'intellectually': 11775, 'incendiary': 11776, 'overworked': 11777, 'hippie': 11778, 'dissipated': 11779, 'deploys': 11780, 'preaches': 11781, 'cub': 11782, 'hustling': 11783, 'olives': 11784, 'SLA': 11785, 'manipulative': 11786, 'jelly': 11787, 'grotesque': 11788, 'delicacy': 11789, 'reserving': 11790, 'spaceship': 11791, 'Justine': 11792, 'institutionalized': 11793, 'companionship': 11794, 'filler': 11795, 'ferocity': 11796, 'melodrama': 11797, 'Snake': 11798, 'resourceful': 11799, 'alluring': 11800, 'campfire': 11801, 'defiantly': 11802, 'smarts': 11803, 'romped': 11804, 'emptying': 11805, 'clones': 11806, 'tequila': 11807, 'suitably': 11808, 'manic': 11809, 'hoopla': 11810, 'orthodox': 11811, 'wrought': 11812, 'sneaky': 11813, 'squandering': 11814, 'mommy': 11815, 'beings': 11816, 'Choices': 11817, 'lovingly': 11818, 'gunfight': 11819, 'greasy': 11820, 'individuality': 11821, 'eyeballs': 11822, 'Smackdown': 11823, 'Armageddon': 11824, 'Graphic': 11825, 'moody': 11826, 'hairy': 11827, 'rudimentary': 11828, 'bliss': 11829, 'distinguishes': 11830, 'Blow': 11831, 'bloodbath': 11832, 'humankind': 11833, 'austere': 11834, 'Hmmm': 11835, 'smacks': 11836, 'cinematography': 11837, 'Panic': 11838, 'bowel': 11839, 'Jonah': 11840, 'Kwan': 11841, 'flailing': 11842, 'whine': 11843, 'purposeful': 11844, 'puberty': 11845, 'scrawled': 11846, 'unsavory': 11847, 'totalitarian': 11848, 'sumptuous': 11849, 'heaps': 11850, 'inseparable': 11851, 'hopelessly': 11852, 'sarcasm': 11853, 'multiplex': 11854, 'Busy': 11855, 'cape': 11856, 'payoffs': 11857, 'McMullen': 11858, 'depress': 11859, 'POW': 11860, 'titans': 11861, 'gusto': 11862, 'Uncertainty': 11863, 'dizzy': 11864, 'Bertrand': 11865, 'intro': 11866, 'claws': 11867, 'Alien': 11868, 'idiotic': 11869, 'Portrait': 11870, 'wagers': 11871, 'Neverland': 11872, 'impersonating': 11873, 'Miramax': 11874, 'cognizant': 11875, 'desolate': 11876, 'Fisk': 11877, 'mystique': 11878, 'gleefully': 11879, 'blaring': 11880, 'sultry': 11881, 'hammers': 11882, 'thunderous': 11883, 'muse': 11884, 'junkie': 11885, 'emblematic': 11886, 'Audiences': 11887, 'Dolls': 11888, 'dishonesty': 11889, 'subjecting': 11890, 'Needed': 11891, 'mimics': 11892, 'overgrown': 11893, 'scooping': 11894, 'Los': 11895, 'Caulfield': 11896, 'provocations': 11897, 'grandiose': 11898, 'hovers': 11899, 'stoic': 11900, 'virulent': 11901, 'personable': 11902, 'reparations': 11903, 'colonialism': 11904, 'breathless': 11905, 'traverse': 11906, 'Tango': 11907, 'Lil': 11908, 'porcelain': 11909, 'dares': 11910, 'Guilty': 11911, 'shameless': 11912, 'brittle': 11913, 'mimicking': 11914, 'Inuit': 11915, 'gong': 11916, 'Sexy': 11917, 'gore': 11918, 'lectured': 11919, 'pyrotechnics': 11920, 'Undoubtedly': 11921, 'Bruin': 11922, 'cracker': 11923, 'seeping': 11924, 'spied': 11925, 'Baja': 11926, 'splashing': 11927, 'homophobia': 11928, 'calculus': 11929, 'Chasing': 11930, 'affectionate': 11931, 'comprehension': 11932, 'fingernails': 11933, 'Gilligan': 11934, 'flavorful': 11935, 'smeared': 11936, 'Twist': 11937, 'fanatical': 11938, 'interestingly': 11939, 'instructs': 11940, 'leaky': 11941, 'revel': 11942, 'amiss': 11943, 'enlightenment': 11944, 'Swamp': 11945, 'moaning': 11946, 'substituting': 11947, 'edits': 11948, 'Fathers': 11949, 'Chalk': 11950, 'instructive': 11951, 'loathe': 11952, 'glorified': 11953, 'Resurrection': 11954, 'Killers': 11955, 'di': 11956, 'insistent': 11957, 'disintegration': 11958, 'parochial': 11959, 'Carrying': 11960, 'lyric': 11961, 'playlist': 11962, 'Bloody': 11963, 'slug': 11964, 'doubtless': 11965, 'cerebral': 11966, 'jumbo': 11967, 'Expanded': 11968, 'tatters': 11969, 'Fontaine': 11970, 'dynamism': 11971, 'abrasive': 11972, 'skillful': 11973, 'raunchy': 11974, 'wrenching': 11975, 'Copy': 11976, 'candidly': 11977, 'grasped': 11978, 'selves': 11979, 'sucker': 11980, 'relishes': 11981, 'Mendes': 11982, 'Amidst': 11983, 'interchangeable': 11984, 'Worthy': 11985, 'springing': 11986, 'Mat': 11987, 'Saigon': 11988, 'Avengers': 11989, 'Pray': 11990, 'Ikea': 11991, 'Literally': 11992, 'indulgence': 11993, 'reinvented': 11994, 'deafening': 11995, 'educates': 11996, 'royals': 11997, 'Reginald': 11998, 'characterizes': 11999, 'Diva': 12000, 'oily': 12001, 'riff': 12002, 'auspicious': 12003, 'devotes': 12004, 'pitiful': 12005, 'Scorsese': 12006, 'le': 12007, 'rhyme': 12008, 'absorbs': 12009, 'howling': 12010, 'Trek': 12011, 'innumerable': 12012, 'inadvertent': 12013, 'stylized': 12014, 'fused': 12015, 'indignation': 12016, 'ilk': 12017, 'curiously': 12018, 'Nightmare': 12019, 'diversions': 12020, 'hitman': 12021, 'coughed': 12022, 'yesteryear': 12023, 'rumblings': 12024, 'exuberance': 12025, 'caricatures': 12026, 'physique': 12027, 'veracity': 12028, 'floundering': 12029, 'demeaning': 12030, 'stockbroker': 12031, 'Howie': 12032, 'cranky': 12033, 'mull': 12034, 'overcomes': 12035, 'specificity': 12036, 'riffs': 12037, 'Elmo': 12038, 'Meaning': 12039, 'watercolor': 12040, 'blinding': 12041, 'posse': 12042, 'unnerving': 12043, 'centering': 12044, 'Puts': 12045, 'riled': 12046, 'galvanize': 12047, 'stuttering': 12048, 'graces': 12049, 'Affleck': 12050, 'unflattering': 12051, 'airy': 12052, 'laudable': 12053, 'McFarlane': 12054, 'Holds': 12055, 'interplay': 12056, 'sensual': 12057, 'miraculously': 12058, 'categorize': 12059, 'genesis': 12060, 'feminism': 12061, 'weighty': 12062, 'averse': 12063, 'intolerant': 12064, 'worldly': 12065, 'discourages': 12066, 'blustery': 12067, 'Senegalese': 12068, 'serenity': 12069, 'nuance': 12070, 'Arguably': 12071, 'loitering': 12072, 'anthology': 12073, 'el': 12074, 'Leather': 12075, 'immortal': 12076, 'bemused': 12077, 'glide': 12078, 'Coppola': 12079, 'sordid': 12080, 'valiant': 12081, 'roars': 12082, 'Eisenberg': 12083, 'thematic': 12084, 'arcane': 12085, 'overuse': 12086, 'Cusack': 12087, 'prequel': 12088, 'Possession': 12089, 'itch': 12090, 'BMX': 12091, 'disjointed': 12092, 'drab': 12093, 'gratuitous': 12094, 'retina': 12095, 'condensed': 12096, 'Redford': 12097, 'hyperbole': 12098, 'concoction': 12099, 'likeable': 12100, 'latent': 12101, 'Holm': 12102, 'Snipes': 12103, 'queens': 12104, 'frayed': 12105, 'literate': 12106, 'psychotic': 12107, 'imagines': 12108, 'Boot': 12109, 'entree': 12110, 'conjured': 12111, 'Viva': 12112, 'enveloped': 12113, 'shrugging': 12114, 'Alfonso': 12115, 'Whaley': 12116, 'Sailor': 12117, 'Fiction': 12118, 'caretakers': 12119, 'withering': 12120, 'tribulations': 12121, 'stitch': 12122, 'couture': 12123, 'chronically': 12124, 'False': 12125, 'encyclopedia': 12126, 'Zucker': 12127, 'expanse': 12128, 'ponders': 12129, 'Becomes': 12130, 'stalk': 12131, 'Rosenbaum': 12132, 'strikingly': 12133, 'Ghosts': 12134, 'Chaplin': 12135, 'cheery': 12136, 'Kerrigan': 12137, 'straddles': 12138, 'subcontinent': 12139, 'Promises': 12140, 'MPAA': 12141, 'spurts': 12142, 'aptitude': 12143, 'Zoom': 12144, 'contours': 12145, 'wink': 12146, 'environs': 12147, 'Boomers': 12148, 'reaffirming': 12149, 'worldview': 12150, 'brooding': 12151, 'splendor': 12152, 'dud': 12153, 'freaks': 12154, 'Tu': 12155, 'Chick': 12156, 'hairs': 12157, 'Confessions': 12158, 'Frankenstein': 12159, 'Lovers': 12160, 'Angeles': 12161, 'weaves': 12162, 'thoroughfare': 12163, 'appetites': 12164, 'Ayres': 12165, 'gasping': 12166, 'mourns': 12167, 'Shadows': 12168, 'unwieldy': 12169, 'funnier': 12170, 'RED': 12171, 'cube': 12172, 'Tries': 12173, 'heartwarming': 12174, 'flashback': 12175, 'hunk': 12176, 'trims': 12177, 'smug': 12178, 'woe': 12179, 'ghastly': 12180, 'scribe': 12181, 'biographical': 12182, 'Archibald': 12183, \"C'mon\": 12184, 'tart': 12185, 'shortness': 12186, 'warped': 12187, 'Herrmann': 12188, 'artifact': 12189, 'fanciful': 12190, 'Giovanni': 12191, 'depictions': 12192, 'Totally': 12193, 'disrupts': 12194, 'purposefully': 12195, 'semen': 12196, 'coarse': 12197, 'clams': 12198, 'Sven': 12199, 'seduced': 12200, 'quests': 12201, 'aptly': 12202, 'Partly': 12203, 'Comic': 12204, 'tacky': 12205, 'Waltz': 12206, 'idealism': 12207, 'partisans': 12208, 'carousel': 12209, 'flatly': 12210, 'Na': 12211, 'agreeable': 12212, 'operas': 12213, 'borrows': 12214, 'Determined': 12215, 'oftentimes': 12216, 'Equal': 12217, 'Speaks': 12218, 'impresses': 12219, 'Jules': 12220, 'intersect': 12221, 'Lovely': 12222, 'grainy': 12223, 'wailing': 12224, 'septic': 12225, 'immaculate': 12226, 'purists': 12227, 'trickery': 12228, 'Sight': 12229, 'manifestations': 12230, 'averting': 12231, '****': 12232, 'dreamy': 12233, 'paws': 12234, 'warlord': 12235, 'meandering': 12236, 'Firth': 12237, 'Communism': 12238, 'alarmingly': 12239, 'annals': 12240, 'flops': 12241, 'Mandel': 12242, 'handsomely': 12243, 'pegs': 12244, 'slumber': 12245, 'parrot': 12246, 'impulses': 12247, 'shimmering': 12248, 'unconcerned': 12249, 'technicality': 12250, 'strangest': 12251, 'buffeted': 12252, 'scariest': 12253, 'babysitter': 12254, 'bumbling': 12255, 'sustains': 12256, 'Oops': 12257, 'Winger': 12258, 'Spectacular': 12259, 'barbs': 12260, 'motocross': 12261, 'skips': 12262, 'niches': 12263, 'pulsating': 12264, 'snags': 12265, 'rigor': 12266, 'pleases': 12267, 'sleazy': 12268, 'fixated': 12269, 'flattening': 12270, 'Graceland': 12271, 'Jed': 12272, 'togetherness': 12273, 'rigorously': 12274, 'uneventful': 12275, 'valedictorian': 12276, 'perplexing': 12277, 'Zeus': 12278, 'stockings': 12279, 'tolerable': 12280, 'Waldo': 12281, 'chuckles': 12282, 'exemplify': 12283, 'vibes': 12284, 'overture': 12285, 'ushers': 12286, 'iteration': 12287, 'redeeming': 12288, 'earthy': 12289, 'nightmarish': 12290, 'uncomfortably': 12291, 'Trades': 12292, 'heaped': 12293, 'acidic': 12294, 'dislocation': 12295, 'quirks': 12296, 'meaty': 12297, 'Oliveira': 12298, 'reconfigured': 12299, 'Onion': 12300, 'autobiographical': 12301, 'dutifully': 12302, 'Loses': 12303, 'apes': 12304, 'espoused': 12305, 'fantastically': 12306, 'familial': 12307, 'woefully': 12308, 'dredge': 12309, 'Asbury': 12310, 'Crimes': 12311, 'plump': 12312, 'Kissinger': 12313, 'Asks': 12314, 'melts': 12315, 'conspirators': 12316, 'Suspects': 12317, 'Toro': 12318, 'impossibly': 12319, 'Duvall': 12320, 'Suffice': 12321, 'sexism': 12322, 'razor': 12323, 'unimpressive': 12324, 'Wyman': 12325, 'reworking': 12326, 'anarchist': 12327, 'aloof': 12328, 'creeps': 12329, 'Drives': 12330, 'Guaranteed': 12331, 'distasteful': 12332, 'Graffiti': 12333, 'unearth': 12334, 'biscuit': 12335, 'digested': 12336, 'Blessed': 12337, 'Ratner': 12338, 'eponymous': 12339, 'testimonial': 12340, 'deleting': 12341, 'Atom': 12342, 'nonsensical': 12343, 'unfulfilled': 12344, 'smitten': 12345, 'boobs': 12346, 'recreated': 12347, 'envious': 12348, 'unprovoked': 12349, 'flatter': 12350, 'craziness': 12351, 'dwarfs': 12352, 'listless': 12353, 'ambivalent': 12354, 'Coolidge': 12355, 'Throwing': 12356, 'zest': 12357, 'scripting': 12358, 'patronizing': 12359, 'Picnic': 12360, 'Sewer': 12361, 'fluff': 12362, 'delusions': 12363, 'benevolent': 12364, 'inconsequential': 12365, 'embellished': 12366, 'Yourself': 12367, 'sketched': 12368, 'Chips': 12369, 'adherents': 12370, 'Marisa': 12371, 'Violent': 12372, 'clunky': 12373, 'vignettes': 12374, 'Thin': 12375, 'gargantuan': 12376, 'comfy': 12377, 'Beneath': 12378, 'brandishing': 12379, 'cheerfully': 12380, 'Confirms': 12381, 'backhanded': 12382, 'blurry': 12383, 'intractable': 12384, 'zealous': 12385, 'flourishes': 12386, 'Gothic': 12387, 'milking': 12388, 'repelled': 12389, 'mercenary': 12390, 'microcosm': 12391, 'Finder': 12392, 'Uses': 12393, 'grossly': 12394, 'chuckling': 12395, 'stalker': 12396, 'ops': 12397, 'jostling': 12398, 'subtlety': 12399, 'Spectators': 12400, 'sixties': 12401, 'giggle': 12402, 'merited': 12403, 'spades': 12404, 'sustenance': 12405, 'inkling': 12406, 'Alain': 12407, 'Pal': 12408, 'sassy': 12409, 'enchanting': 12410, 'infuriating': 12411, 'smelly': 12412, 'unending': 12413, 'machinations': 12414, 'von': 12415, 'existential': 12416, 'vagina': 12417, 'hormonal': 12418, 'transparently': 12419, 'Ferrara': 12420, 'Cube': 12421, 'gaping': 12422, 'confessional': 12423, 'shudder': 12424, 'Fabulous': 12425, 'uncanny': 12426, 'sweetest': 12427, 'heartless': 12428, 'Busby': 12429, 'prickly': 12430, 'sly': 12431, 'binary': 12432, 'excites': 12433, 'hamstrung': 12434, 'fishes': 12435, 'copycat': 12436, 'sadistic': 12437, 'fright': 12438, 'ascension': 12439, 'Epps': 12440, 'ape': 12441, 'filth': 12442, 'evergreen': 12443, 'harnesses': 12444, 'precocious': 12445, 'slaps': 12446, 'Renner': 12447, 'Clouds': 12448, 'gags': 12449, 'piss': 12450, 'ineptitude': 12451, 'hoods': 12452, 'inertia': 12453, 'teenaged': 12454, 'Enemy': 12455, 'decadent': 12456, 'Vertical': 12457, 'figuratively': 12458, 'crass': 12459, 'Stallone': 12460, 'suspiciously': 12461, 'craftsmen': 12462, 'compulsion': 12463, 'numbness': 12464, 'Haunted': 12465, 'Hepburn': 12466, 'ode': 12467, 'Crush': 12468, 'Bound': 12469, 'temptations': 12470, 'Velocity': 12471, 'Dolby': 12472, 'Isabelle': 12473, 'revolutionaries': 12474, 'metaphors': 12475, 'prologue': 12476, 'musings': 12477, 'downplaying': 12478, 'fetish': 12479, 'docs': 12480, 'horde': 12481, 'anecdote': 12482, 'incisive': 12483, 'Merry': 12484, 'Simultaneously': 12485, 'Ya': 12486, 'spectacles': 12487, 'pranks': 12488, 'innuendo': 12489, 'trifecta': 12490, 'hymn': 12491, 'Iditarod': 12492, 'mugs': 12493, 'gaudy': 12494, 'exacting': 12495, 'impulsive': 12496, 'stills': 12497, 'weep': 12498, 'wearer': 12499, 'travails': 12500, 'delicately': 12501, 'winded': 12502, 'underwhelming': 12503, 'armchair': 12504, 'criminally': 12505, 'amaze': 12506, 'Kincaid': 12507, 'imitating': 12508, 'Rumor': 12509, 'blender': 12510, 'buoys': 12511, 'decorum': 12512, 'inescapable': 12513, 'evasive': 12514, 'stylists': 12515, 'eke': 12516, 'unelected': 12517, 'Guillermo': 12518, 'Stupid': 12519, 'shreds': 12520, 'chasm': 12521, 'chemists': 12522, 'José': 12523, 'elegantly': 12524, 'handiwork': 12525, 'saddest': 12526, 'marginalization': 12527, 'participatory': 12528, 'resolutely': 12529, 'subtitles': 12530, 'Janine': 12531, 'trimmings': 12532, 'overpower': 12533, 'Jagger': 12534, 'tickled': 12535, 'wrench': 12536, 'prosthetic': 12537, 'swan': 12538, 'discernible': 12539, 'Genevieve': 12540, 'fuses': 12541, 'Carnahan': 12542, 'conspiracies': 12543, 'oatmeal': 12544, 'DiCaprio': 12545, 'Ignoring': 12546, 'thrillers': 12547, 'stomp': 12548, 'Clothes': 12549, 'Palma': 12550, 'squashed': 12551, 'Aladdin': 12552, 'conversational': 12553, 'radiant': 12554, 'tact': 12555, 'bouncy': 12556, 'dicey': 12557, 'pretentious': 12558, 'squander': 12559, 'epiphany': 12560, 'recklessness': 12561, 'attuned': 12562, 'prettiest': 12563, 'distaste': 12564, 'evaporation': 12565, 'Grisham': 12566, 'Earns': 12567, 'spousal': 12568, 'tasteful': 12569, 'overbearing': 12570, 'Steamboat': 12571, 'morph': 12572, 'X.': 12573, 'resists': 12574, 'strays': 12575, 'orbits': 12576, 'clichés': 12577, 'ravages': 12578, 'passable': 12579, 'improvise': 12580, 'Joaquin': 12581, 'accomplishes': 12582, 'immediacy': 12583, 'tenderness': 12584, 'orchestrate': 12585, 'easygoing': 12586, 'rarest': 12587, 'bask': 12588, 'empathize': 12589, 'stunningly': 12590, 'ballast': 12591, 'pun': 12592, 'prophetic': 12593, 'apocalypse': 12594, 'overkill': 12595, 'Aggressive': 12596, 'Unsurprisingly': 12597, 'Aliens': 12598, 'Remarkably': 12599, 'recreating': 12600, 'Bubble': 12601, 'entertains': 12602, 'sizzle': 12603, 'scrapbook': 12604, 'Scrooge': 12605, 'Argentinean': 12606, 'unbridled': 12607, 'fortify': 12608, 'Literary': 12609, 'despondent': 12610, 'Schindler': 12611, 'disillusionment': 12612, 'pileup': 12613, 'parlance': 12614, 'branched': 12615, 'falters': 12616, 'Gentlemen': 12617, 'Fancy': 12618, 'artiste': 12619, 'avalanches': 12620, 'Liza': 12621, 'canines': 12622, 'spiced': 12623, 'raving': 12624, 'Generations': 12625, 'gullible': 12626, 'snappy': 12627, 'esoteric': 12628, 'outrun': 12629, 'sedentary': 12630, 'superstitious': 12631, 'jagged': 12632, 'sideshow': 12633, 'Beers': 12634, 'unconvincing': 12635, 'Strikes': 12636, 'remade': 12637, 'raps': 12638, 'attentions': 12639, 'sneeze': 12640, 'Villeneuve': 12641, 'haphazard': 12642, 'Exploring': 12643, 'Kinnear': 12644, 'astray': 12645, 'caustic': 12646, 'arctic': 12647, 'masquerading': 12648, 'trove': 12649, 'discloses': 12650, 'Romantic': 12651, 'chemically': 12652, 'luminous': 12653, 'cliches': 12654, 'maddening': 12655, 'lightest': 12656, 'operatic': 12657, 'acidity': 12658, 'Mai': 12659, 'arithmetic': 12660, 'ho': 12661, 'Mask': 12662, 'Able': 12663, 'anarchists': 12664, 'renown': 12665, 'Hawke': 12666, 'Saved': 12667, 'authenticate': 12668, 'Tells': 12669, 'affectionately': 12670, 'setups': 12671, 'afterlife': 12672, 'reversals': 12673, 'hibernation': 12674, 'plucky': 12675, 'horrid': 12676, 'minefield': 12677, 'elevates': 12678, 'awed': 12679, 'vexing': 12680, 'Slack': 12681, 'repressed': 12682, 'deranged': 12683, 'uninspired': 12684, 'characterizing': 12685, 'robustness': 12686, 'thoughtfully': 12687, 'climactic': 12688, 'surrenders': 12689, 'orgy': 12690, 'eighties': 12691, 'Lux': 12692, 'unapologetic': 12693, 'sniping': 12694, 'intrepid': 12695, 'clique': 12696, 'ambivalence': 12697, 'tiresome': 12698, 'pretends': 12699, 'calibrated': 12700, 'Weil': 12701, 'lurid': 12702, 'uninspiring': 12703, 'Rothman': 12704, 'adapts': 12705, 'exudes': 12706, 'dogma': 12707, 'nutty': 12708, 'unfathomable': 12709, 'Prejudice': 12710, 'theatrics': 12711, 'Congrats': 12712, 'gesturing': 12713, 'decommissioned': 12714, 'silliness': 12715, 'distilled': 12716, 'eloquently': 12717, 'ethereal': 12718, 'motherland': 12719, 'energizing': 12720, 'fifties': 12721, 'Callie': 12722, 'contemplates': 12723, 'Zelda': 12724, 'opulent': 12725, 'Swank': 12726, 'unremarkable': 12727, 'abhorrent': 12728, 'LDS': 12729, 'Goose': 12730, 'macabre': 12731, 'satisfactorily': 12732, 'lingo': 12733, 'fatherhood': 12734, 'shards': 12735, 'Arnie': 12736, 'Efficient': 12737, 'Creates': 12738, 'skillfully': 12739, 'Cleopatra': 12740, 'inequities': 12741, 'Coy': 12742, 'del': 12743, 'retooled': 12744, 'trembling': 12745, 'fundamentalists': 12746, 'Leagues': 12747, 'forte': 12748, 'overburdened': 12749, 'stuffy': 12750, 'curls': 12751, 'morbidity': 12752, 'virtuoso': 12753, 'staid': 12754, 'lo': 12755, 'hushed': 12756, 'Metropolis': 12757, 'wondrous': 12758, 'Viewing': 12759, 'Yo': 12760, 'Spiderman': 12761, 'Halle': 12762, 'yank': 12763, 'Tsai': 12764, 'jettisoned': 12765, 'Hogwarts': 12766, 'incoherent': 12767, 'chimpanzees': 12768, 'Hermitage': 12769, 'Filmmaker': 12770, 'showmanship': 12771, 'prism': 12772, 'corny': 12773, 'tumult': 12774, 'regal': 12775, 'Applegate': 12776, 'dazzle': 12777, 'episodic': 12778, 'elves': 12779, 'plundered': 12780, 'upstaged': 12781, 'gliding': 12782, 'coasting': 12783, 'descends': 12784, 'conjures': 12785, 'reinvigorated': 12786, 'expend': 12787, 'momentary': 12788, 'miniscule': 12789, 'salient': 12790, 'dragons': 12791, 'assembles': 12792, 'stoop': 12793, 'grandstanding': 12794, 'Predictably': 12795, 'Conversations': 12796, 'bastard': 12797, 'DV': 12798, 'posthumously': 12799, 'Gangs': 12800, 'freewheeling': 12801, 'heft': 12802, 'Pokemon': 12803, 'paranormal': 12804, 'Landau': 12805, 'yearn': 12806, 'pleasurable': 12807, 'sabotaged': 12808, 'telemarketers': 12809, 'Pianist': 12810, 'cameos': 12811, 'ponytail': 12812, 'astonishingly': 12813, 'broached': 12814, 'gory': 12815, 'hippies': 12816, 'ruthlessly': 12817, 'Horns': 12818, 'evoking': 12819, 'mercilessly': 12820, 'chimps': 12821, 'breathes': 12822, 'widescreen': 12823, 'butler': 12824, 'Matches': 12825, 'confounded': 12826, 'skidding': 12827, 'fatter': 12828, 'Chill': 12829, 'intimately': 12830, 'Yiddish': 12831, 'aplomb': 12832, 'ineffectual': 12833, 'ethnicities': 12834, 'agnostic': 12835, 'Freud': 12836, 'hoot': 12837, 'motifs': 12838, 'Plato': 12839, 'synergistic': 12840, 'infrequently': 12841, 'Weird': 12842, 'Pender': 12843, 'cleavage': 12844, 'Releasing': 12845, 'Chao': 12846, 'succinct': 12847, 'retooling': 12848, 'toothless': 12849, 'watery': 12850, 'jovial': 12851, 'gifting': 12852, 'pious': 12853, 'LL': 12854, 'combustible': 12855, 'Smokers': 12856, 'Scratch': 12857, 'judicious': 12858, 'subconscious': 12859, 'sorely': 12860, 'mojo': 12861, 'moron': 12862, 'taunt': 12863, 'Happily': 12864, 'propels': 12865, 'trotting': 12866, 'contraption': 12867, 'veneer': 12868, 'Margarita': 12869, 'Butterworth': 12870, 'crushes': 12871, 'faraway': 12872, 'tasteless': 12873, 'winged': 12874, 'intently': 12875, 'fairy': 12876, 'introspection': 12877, 'vistas': 12878, 'Loud': 12879, 'Lone': 12880, 'ye': 12881, 'purports': 12882, 'ably': 12883, 'posterity': 12884, 'scum': 12885, 'revives': 12886, 'insanely': 12887, 'Tattoo': 12888, 'decrying': 12889, 'Yong': 12890, 'folksy': 12891, 'farcical': 12892, 'Entertainer': 12893, 'embers': 12894, 'Terrible': 12895, 'cursory': 12896, 'nerdy': 12897, 'emaciated': 12898, 'Chesterton': 12899, 'enigma': 12900, 'Moonlight': 12901, 'geeky': 12902, 'amiable': 12903, 'Traveler': 12904, 'unrepentant': 12905, 'mistaking': 12906, 'Extraordinary': 12907, 'Went': 12908, 'decrepit': 12909, 'pore': 12910, 'bluster': 12911, 'ingest': 12912, 'lapping': 12913, 'ferret': 12914, 'rollicking': 12915, 'invigorating': 12916, 'Clown': 12917, 'giggles': 12918, 'unabashed': 12919, 'sedate': 12920, 'aspired': 12921, 'freezers': 12922, 'screwing': 12923, 'delving': 12924, 'Caine': 12925, 'Groove': 12926, 'graphically': 12927, 'enthralling': 12928, 'suckers': 12929, 'Gosling': 12930, 'Reaches': 12931, 'heralds': 12932, 'autopilot': 12933, 'Bundy': 12934, 'Mojo': 12935, 'cassette': 12936, 'unseemly': 12937, 'bangs': 12938, 'introspective': 12939, 'merges': 12940, 'uncommitted': 12941, 'Plot': 12942, 'righteousness': 12943, 'plodding': 12944, 'commune': 12945, 'beckons': 12946, 'WW': 12947, 'uncovers': 12948, 'suffocation': 12949, 'recharged': 12950, 'instilling': 12951, 'Madame': 12952, 'impenetrable': 12953, 'Oddly': 12954, 'underpinnings': 12955, 'graze': 12956, 'uptight': 12957, 'symmetry': 12958, 'costumed': 12959, 'cruelly': 12960, 'motionless': 12961, 'reinvention': 12962, 'deteriorates': 12963, 'delves': 12964, 'mar': 12965, 'implausible': 12966, 'earthly': 12967, 'crescendo': 12968, 'adoration': 12969, 'moan': 12970, 'Vicente': 12971, 'taut': 12972, 'retelling': 12973, 'flinch': 12974, 'glancing': 12975, 'cacophony': 12976, 'inquisitive': 12977, 'beheadings': 12978, 'aplenty': 12979, 'tome': 12980, 'marvels': 12981, 'Bros.': 12982, 'wintry': 12983, 'patting': 12984, 'Allows': 12985, 'monologues': 12986, 'reincarnation': 12987, 'puddle': 12988, 'straddle': 12989, 'adoring': 12990, 'Macbeth': 12991, 'Massacre': 12992, 'breezes': 12993, 'Guided': 12994, 'scrubbing': 12995, 'inspirations': 12996, 'delightfully': 12997, 'schoolhouse': 12998, 'Confusion': 12999, 'scruffy': 13000, 'barbershop': 13001, 'devious': 13002, 'ugliest': 13003, 'dimming': 13004, 'labors': 13005, 'Earnest': 13006, 'seedy': 13007, 'Mika': 13008, 'Ca': 13009, 'canning': 13010, 'insular': 13011, 'thud': 13012, 'dichotomy': 13013, 'lite': 13014, 'firebrand': 13015, 'duds': 13016, 'standup': 13017, 'Excessive': 13018, 'Alias': 13019, 'idiosyncratic': 13020, 'earnestly': 13021, 'McAdams': 13022, 'brim': 13023, 'Mulholland': 13024, 'Scooter': 13025, 'warp': 13026, 'unmoved': 13027, 'stylistic': 13028, 'fervently': 13029, 'Vinnie': 13030, 'Mummy': 13031, 'preemptive': 13032, 'convinces': 13033, 'trombone': 13034, 'effecting': 13035, 'chainsaw': 13036, 'clothed': 13037, 'Highlander': 13038, 'waterlogged': 13039, 'gels': 13040, 'Delia': 13041, 'orgasm': 13042, 'ahem': 13043, 'zany': 13044, 'slugfest': 13045, 'constructs': 13046, 'skids': 13047, 'engulfing': 13048, 'underutilized': 13049, 'delectable': 13050, 'biologically': 13051, 'strutting': 13052, 'pathological': 13053, 'Myrtle': 13054, 'condescending': 13055, 'suspecting': 13056, 'crotch': 13057, 'superfluous': 13058, 'majesty': 13059, 'wanders': 13060, 'redeemable': 13061, 'burlesque': 13062, 'anguished': 13063, 'antithesis': 13064, 'serviceable': 13065, 'observant': 13066, 'cinematographer': 13067, 'resuscitation': 13068, 'Scarlet': 13069, 'riveted': 13070, 'crucifixion': 13071, 'Tender': 13072, 'Exciting': 13073, 'Ka': 13074, 'panoramic': 13075, 'philosophers': 13076, 'captions': 13077, 'voyages': 13078, 'Clause': 13079, 'tiniest': 13080, 'euphemism': 13081, 'indignant': 13082, 'Odd': 13083, 'Theron': 13084, 'Savvy': 13085, 'neurotic': 13086, 'bourgeois': 13087, 'herring': 13088, 'artistically': 13089, 'bigoted': 13090, 'Fugitive': 13091, 'denizens': 13092, 'lucid': 13093, 'pantheon': 13094, 'afresh': 13095, 'ensues': 13096, 'repetitions': 13097, 'pained': 13098, 'emptiness': 13099, 'superlative': 13100, 'Fahrenheit': 13101, 'nosedive': 13102, 'Demands': 13103, 'Thief': 13104, 'Minnie': 13105, 'spontaneity': 13106, 'endings': 13107, 'titular': 13108, 'ballplayer': 13109, 'Booty': 13110, 'promenade': 13111, 'ache': 13112, 'contemplation': 13113, 'sledgehammer': 13114, 'unguarded': 13115, 'personified': 13116, 'romances': 13117, 'liberally': 13118, 'peep': 13119, 'castles': 13120, 'shrill': 13121, 'roiling': 13122, 'Barrymore': 13123, 'faceless': 13124, 'featherweight': 13125, 'Aiello': 13126, 'cynics': 13127, 'poodle': 13128, 'Pumpkin': 13129, 'Curiously': 13130, 'fishy': 13131, 'incessantly': 13132, 'geriatric': 13133, 'sainthood': 13134, 'mopping': 13135, 'sickly': 13136, 'Com': 13137, 'reams': 13138, 'dubbing': 13139, 'Curves': 13140, 'accumulates': 13141, 'bewildering': 13142, 'Easily': 13143, 'unsteady': 13144, 'muddle': 13145, 'cuddly': 13146, 'Babbitt': 13147, 'deceptively': 13148, 'seduce': 13149, 'Recalls': 13150, 'oozing': 13151, 'luscious': 13152, 'panache': 13153, 'thump': 13154, 'outcast': 13155, 'hallucinations': 13156, 'inert': 13157, 'subtext': 13158, 'Sushi': 13159, 'ballerina': 13160, 'Loved': 13161, 'Measured': 13162, 'pawns': 13163, 'permeates': 13164, 'absurdly': 13165, 'hypnotic': 13166, 'secondhand': 13167, 'veering': 13168, 'indelible': 13169, 'lunatic': 13170, 'Stonehenge': 13171, 'sandbox': 13172, 'sanguine': 13173, 'Manas': 13174, 'Parton': 13175, 'claustrophobic': 13176, 'watchful': 13177, 'Blossom': 13178, 'Majid': 13179, 'hounds': 13180, 'slapstick': 13181, 'diabolical': 13182, 'ensnared': 13183, 'ramshackle': 13184, 'infamy': 13185, 'grinder': 13186, 'bodily': 13187, 'affections': 13188, 'Nicks': 13189, 'overtones': 13190, 'disappoints': 13191, 'Exhibits': 13192, 'patrolman': 13193, 'manhood': 13194, \"O'Fallon\": 13195, 'butchered': 13196, 'transcendent': 13197, 'facades': 13198, 'bedeviled': 13199, 'savored': 13200, 'weakly': 13201, 'sweetly': 13202, 'pageantry': 13203, 'matchmaking': 13204, 'degrades': 13205, 'Psycho': 13206, 'Eyre': 13207, 'supremely': 13208, 'gait': 13209, 'Versace': 13210, 'temporal': 13211, 'befuddled': 13212, 'explorations': 13213, 'racehorse': 13214, 'regrettably': 13215, 'undercurrent': 13216, 'gothic': 13217, 'threefold': 13218, 'resentful': 13219, 'Bernal': 13220, 'chatty': 13221, 'Challenging': 13222, 'Trier': 13223, 'untrained': 13224, 'Shining': 13225, 'unsatisfied': 13226, 'solemnly': 13227, 'mugging': 13228, 'shamelessly': 13229, 'Smokey': 13230, 'Wilco': 13231, 'equations': 13232, 'primal': 13233, 'comatose': 13234, 'pee': 13235, 'tummy': 13236, 'Poets': 13237, 'inhale': 13238, 'Cabin': 13239, 'laborious': 13240, 'civics': 13241, 'Socrates': 13242, 'Ignore': 13243, 'smoothed': 13244, 'decomposition': 13245, 'dingy': 13246, 'disrespected': 13247, 'italics': 13248, 'gamely': 13249, 'tapestry': 13250, 'capricious': 13251, 'saucy': 13252, 'Helene': 13253, 'Kangaroo': 13254, 'richly': 13255, 'Characters': 13256, 'adjective': 13257, 'Andrei': 13258, 'dumplings': 13259, 'lavishly': 13260, 'jumble': 13261, 'freaky': 13262, 'oddity': 13263, 'daft': 13264, 'Pryce': 13265, 'outrageously': 13266, 'truncated': 13267, 'Austen': 13268, 'recycles': 13269, 'publicists': 13270, 'mismatched': 13271, 'Sly': 13272, 'brine': 13273, 'Turpin': 13274, 'Lacking': 13275, 'grinds': 13276, 'portrayals': 13277, 'unleashes': 13278, 'Collision': 13279, 'uninitiated': 13280, 'coherence': 13281, 'fable': 13282, 'indulgent': 13283, 'Dalrymple': 13284, 'laziness': 13285, 'crusty': 13286, 'unconnected': 13287, 'unedited': 13288, 'intuitively': 13289, 'slanted': 13290, 'Kaufmann': 13291, 'pastel': 13292, 'adjectives': 13293, 'Vampire': 13294, 'undead': 13295, 'Goodall': 13296, 'frustrates': 13297, 'trumpets': 13298, 'virtuous': 13299, 'gobble': 13300, 'pleasantly': 13301, 'resurrecting': 13302, 'Lagoon': 13303, 'Ganesh': 13304, 'lurks': 13305, 'deliciously': 13306, 'Harsh': 13307, 'Humor': 13308, 'figurative': 13309, 'dyslexia': 13310, 'embarrassingly': 13311, 'endgame': 13312, 'refreshingly': 13313, 'Kafka': 13314, 'Rembrandt': 13315, 'impervious': 13316, 'Strictly': 13317, 'fleshed': 13318, 'milieu': 13319, 'vices': 13320, 'miscalculation': 13321, 'Reiner': 13322, 'fussy': 13323, 'Stealing': 13324, 'Glitter': 13325, 'screenwriters': 13326, 'Tchaikovsky': 13327, 'downer': 13328, 'Demi': 13329, 'garnish': 13330, 'fantastical': 13331, 'unfaithful': 13332, 'banal': 13333, 'conned': 13334, 'princesses': 13335, 'feasting': 13336, 'Prozac': 13337, 'juxtaposition': 13338, 'panorama': 13339, 'remakes': 13340, 'Strangely': 13341, 'Hardman': 13342, 'wistful': 13343, 'jazzy': 13344, 'Theology': 13345, 'rivaling': 13346, 'Strangers': 13347, 'sugary': 13348, 'caterer': 13349, 'Trapped': 13350, 'conspicuously': 13351, 'redone': 13352, 'vigils': 13353, 'flickering': 13354, 'treading': 13355, 'Shocking': 13356, 'cloaked': 13357, 'affluence': 13358, 'morbid': 13359, 'demented': 13360, 'shear': 13361, 'bothersome': 13362, 'Cleaver': 13363, 'uncomplicated': 13364, 'psycho': 13365, 'drumbeat': 13366, 'throwaway': 13367, 'parodies': 13368, 'wry': 13369, 'injects': 13370, 'impressionable': 13371, 'Generic': 13372, 'Importance': 13373, 'flurries': 13374, 'modicum': 13375, 'Fincher': 13376, 'scented': 13377, 'hodgepodge': 13378, 'artful': 13379, 'cutthroat': 13380, 'unflappable': 13381, 'Diggs': 13382, 'docile': 13383, 'withered': 13384, 'rhino': 13385, 'Principle': 13386, 'Parris': 13387, 'Aimed': 13388, 'Costner': 13389, 'characterizations': 13390, 'Lambs': 13391, 'slurs': 13392, 'suburbia': 13393, 'muttering': 13394, 'Python': 13395, 'Disappointing': 13396, 'Format': 13397, 'otherworldly': 13398, 'middling': 13399, 'incarnations': 13400, 'sneaks': 13401, 'repugnant': 13402, 'apolitical': 13403, 'prescient': 13404, 'concealment': 13405, 'unflinching': 13406, 'glum': 13407, 'footnotes': 13408, 'Stiller': 13409, 'minimally': 13410, 'ugliness': 13411, 'nocturnal': 13412, 'yawning': 13413, 'unabashedly': 13414, 'doomsday': 13415, 'storytellers': 13416, 'paucity': 13417, 'provokes': 13418, 'Stockwell': 13419, 'skimpy': 13420, 'undisciplined': 13421, 'Effectively': 13422, 'Frequent': 13423, 'fizzle': 13424, 'chimes': 13425, 'Woodman': 13426, 'Bibi': 13427, 'pompous': 13428, 'gravitas': 13429, 'Xmas': 13430, 'monotonous': 13431, 'Fails': 13432, 'assuredly': 13433, 'Pulp': 13434, 'scarier': 13435, 'moat': 13436, 'Easier': 13437, 'skunk': 13438, 'unafraid': 13439, 'afflicting': 13440, 'illuminates': 13441, 'Alexandre': 13442, 'mannerisms': 13443, 'Completely': 13444, 'magnificently': 13445, 'Signals': 13446, 'boldness': 13447, 'caper': 13448, 'infomercial': 13449, 'omnibus': 13450, 'impersonal': 13451, 'metaphorical': 13452, 'Margot': 13453, 'repulsive': 13454, 'Faithful': 13455, 'imparted': 13456, 'splashy': 13457, 'unsurprising': 13458, 'imbued': 13459, 'misconstrued': 13460, 'antagonism': 13461, 'overused': 13462, 'savaged': 13463, 'Goldie': 13464, 'perverted': 13465, 'broadside': 13466, 'vaudeville': 13467, 'iota': 13468, 'Ranks': 13469, 'temperamental': 13470, 'melodramatic': 13471, 'lumbering': 13472, 'elbowed': 13473, 'canny': 13474, 'twinkle': 13475, 'irrevocable': 13476, 'Godzilla': 13477, 'cathartic': 13478, 'keg': 13479, 'delirious': 13480, 'Quaid': 13481, 'Gordy': 13482, 'Brosnan': 13483, 'glories': 13484, 'unhinged': 13485, 'bugged': 13486, 'Extremely': 13487, 'freakish': 13488, 'sprouts': 13489, 'Mira': 13490, 'wilt': 13491, 'statesmen': 13492, 'Ballot': 13493, 'smirk': 13494, 'Explosions': 13495, 'holocaust': 13496, 'preamble': 13497, 'Mood': 13498, 'Flick': 13499, 'inane': 13500, 'gamesmanship': 13501, 'riddle': 13502, 'Ran': 13503, 'hellish': 13504, 'offends': 13505, 'confining': 13506, 'empathetic': 13507, 'miserably': 13508, 'showy': 13509, 'plucking': 13510, 'Jia': 13511, 'projectile': 13512, 'spouting': 13513, 'cadence': 13514, 'Seemingly': 13515, 'shifty': 13516, 'dabbling': 13517, 'Chai': 13518, 'nary': 13519, 'Beginners': 13520, 'pep': 13521, 'engrossing': 13522, 'Spare': 13523, 'ole': 13524, 'missive': 13525, 'aristocratic': 13526, 'childlike': 13527, 'unexplored': 13528, 'unspeakable': 13529, 'Largely': 13530, 'Qualls': 13531, 'Shum': 13532, 'luckiest': 13533, 'drooling': 13534, 'demonic': 13535, 'undeserved': 13536, 'Tron': 13537, 'Geddes': 13538, 'sequins': 13539, 'conspire': 13540, 'drowns': 13541, 'eerily': 13542, 'irrepressible': 13543, 'foreboding': 13544, 'finely': 13545, 'frosting': 13546, 'fullness': 13547, 'Josef': 13548, 'campy': 13549, 'nobility': 13550, 'induces': 13551, 'shading': 13552, 'Expecting': 13553, 'Gooding': 13554, 'quibble': 13555, 'bearable': 13556, 'kitsch': 13557, 'brazenly': 13558, 'Monsoon': 13559, 'extraterrestrial': 13560, 'everlasting': 13561, 'compulsive': 13562, 'conveyor': 13563, 'consoled': 13564, 'maxim': 13565, 'whimper': 13566, 'misdirected': 13567, 'baroque': 13568, 'Paltrow': 13569, 'bummer': 13570, 'Claus': 13571, 'bombastic': 13572, 'wildest': 13573, 'pandemonium': 13574, 'seduction': 13575, 'narcissistic': 13576, 'invokes': 13577, 'tinge': 13578, 'ca': 13579, 'midsection': 13580, 'groans': 13581, 'Fundamentals': 13582, 'sag': 13583, 'wanton': 13584, 'viciously': 13585, 'backwater': 13586, 'pathos': 13587, 'Sommers': 13588, 'parrots': 13589, 'washout': 13590, 'insensitivity': 13591, 'revels': 13592, 'punctuation': 13593, 'Hornby': 13594, 'placid': 13595, 'connoisseurs': 13596, 'platitudes': 13597, 'Lan': 13598, 'bohemian': 13599, 'antsy': 13600, 'genial': 13601, 'fluidity': 13602, 'salacious': 13603, 'quotient': 13604, 'intrinsically': 13605, 'surefire': 13606, 'jock': 13607, 'bungling': 13608, 'jumpsuit': 13609, 'Undercover': 13610, 'Maid': 13611, 'hilariously': 13612, 'Campion': 13613, 'bizarrely': 13614, 'Begley': 13615, 'awkwardness': 13616, 'Tarzan': 13617, 'intrigues': 13618, 'werewolf': 13619, 'exalted': 13620, 'nervy': 13621, 'dissolves': 13622, 'Amaro': 13623, 'diatribe': 13624, 'celibacy': 13625, 'idolized': 13626, 'oversize': 13627, 'pimps': 13628, 'eloquence': 13629, 'Paulette': 13630, 'kinetic': 13631, 'swipes': 13632, 'overdoses': 13633, 'André': 13634, 'whimsy': 13635, 'verve': 13636, 'imperious': 13637, 'Axel': 13638, 'mending': 13639, 'triumphantly': 13640, 'Resnick': 13641, 'grumble': 13642, 'Grief': 13643, 'Blanchett': 13644, 'interlocking': 13645, 'parable': 13646, 'Boring': 13647, 'relevancy': 13648, 'spout': 13649, 'Enchanted': 13650, 'boundless': 13651, 'babes': 13652, 'rainbows': 13653, 'conduits': 13654, 'overrides': 13655, 'cocoon': 13656, 'Hickenlooper': 13657, 'writhing': 13658, 'redneck': 13659, 'usurp': 13660, 'underappreciated': 13661, 'bastards': 13662, 'Fabric': 13663, 'suffocate': 13664, 'swathe': 13665, 'environmentalism': 13666, 'swooping': 13667, 'mannered': 13668, 'ignites': 13669, 'trite': 13670, 'repackaged': 13671, 'fluttering': 13672, 'Lightweight': 13673, 'ecologically': 13674, 'Gentle': 13675, 'frothy': 13676, 'arouse': 13677, 'tortuous': 13678, 'slacker': 13679, 'overstating': 13680, 'mushy': 13681, 'Chou': 13682, 'Ghostbusters': 13683, 'Chateau': 13684, 'Ribbon': 13685, 'drinker': 13686, 'interpersonal': 13687, 'blasphemous': 13688, 'elemental': 13689, 'delineate': 13690, 'boils': 13691, 'begrudge': 13692, 'subservient': 13693, 'Curling': 13694, 'entrapment': 13695, 'glacial': 13696, 'resonant': 13697, 'sunburn': 13698, 'revulsion': 13699, 'abomination': 13700, 'Fence': 13701, 'shtick': 13702, 'intoxicating': 13703, 'locusts': 13704, 'smorgasbord': 13705, 'deceitful': 13706, 'nadir': 13707, 'balding': 13708, 'lackadaisical': 13709, 'amuse': 13710, 'formulaic': 13711, 'subtitled': 13712, 'screenplays': 13713, 'rambunctious': 13714, 'Clever': 13715, 'deadpan': 13716, 'heresy': 13717, 'confuses': 13718, 'Looney': 13719, 'burrito': 13720, 'Shakespearean': 13721, 'whirl': 13722, 'Jackass': 13723, 'Represents': 13724, 'venomous': 13725, 'Imax': 13726, 'swashbuckling': 13727, 'Supposedly': 13728, 'supercharged': 13729, 'Travels': 13730, 'countenance': 13731, 'inexorably': 13732, 'Byzantine': 13733, 'noir': 13734, 'clunker': 13735, 'bared': 13736, 'Nikita': 13737, 'expectant': 13738, 'rehash': 13739, 'Mirren': 13740, 'rapids': 13741, 'Dario': 13742, 'Dey': 13743, 'exquisitely': 13744, 'ephemeral': 13745, 'dispossessed': 13746, 'thinnest': 13747, 'spits': 13748, 'Ararat': 13749, 'Bai': 13750, 'yawn': 13751, 'Wives': 13752, 'Friel': 13753, 'Frei': 13754, 'Silly': 13755, 'boarders': 13756, 'Dummies': 13757, 'Wrath': 13758, 'Pax': 13759, 'exploitative': 13760, 'afflicts': 13761, 'Hitchens': 13762, 'shallower': 13763, 'characteristically': 13764, 'workmanlike': 13765, 'Antonia': 13766, 'amalgam': 13767, 'theocracy': 13768, 'singularly': 13769, 'correctness': 13770, 'muffled': 13771, 'ebullient': 13772, 'Lonely': 13773, 'Legally': 13774, 'snail': 13775, 'numbing': 13776, 'serials': 13777, 'foibles': 13778, 'entrée': 13779, 'augmentation': 13780, 'Polson': 13781, 'conceit': 13782, 'truffle': 13783, 'dithering': 13784, 'imparting': 13785, 'tickle': 13786, 'wanes': 13787, 'camouflaged': 13788, 'lifelike': 13789, 'uglier': 13790, 'trashy': 13791, 'Grenier': 13792, 'dissecting': 13793, 'irreparable': 13794, 'disturbingly': 13795, 'hookers': 13796, 'frat': 13797, 'Greta': 13798, 'backdrops': 13799, 'heaving': 13800, 'ravaging': 13801, 'dumbest': 13802, 'Woolf': 13803, 'anatomical': 13804, 'whiplash': 13805, 'purest': 13806, 'insufficiently': 13807, 'Wimmer': 13808, 'pique': 13809, 'Grave': 13810, 'Carrera': 13811, 'disquiet': 13812, 'misfits': 13813, 'Filmmakers': 13814, 'fancies': 13815, 'inclusiveness': 13816, 'bristles': 13817, 'melding': 13818, 'crystalline': 13819, 'sociological': 13820, 'Slick': 13821, 'Tinseltown': 13822, 'Shatner': 13823, 'subculture': 13824, 'sentimentality': 13825, 'Scorpion': 13826, 'Impossible': 13827, 'parachutes': 13828, 'Thumbs': 13829, 'Trademark': 13830, 'coolness': 13831, 'Philbin': 13832, 'Blonde': 13833, 'Lazy': 13834, 'milked': 13835, 'dissection': 13836, 'spunky': 13837, 'vulgarity': 13838, 'pander': 13839, 'condensation': 13840, 'tightrope': 13841, 'flaunting': 13842, 'Reign': 13843, 'comically': 13844, 'pageants': 13845, 'harmlessly': 13846, 'lulled': 13847, 'spirals': 13848, 'feral': 13849, 'loathing': 13850, 'coaster': 13851, 'eternally': 13852, 'Tian': 13853, 'Coen': 13854, 'zeroes': 13855, 'pungent': 13856, 'twirling': 13857, 'squalor': 13858, 'groan': 13859, 'wattage': 13860, 'distorts': 13861, 'cartoonish': 13862, 'grievous': 13863, 'darned': 13864, 'sellouts': 13865, 'churns': 13866, 'Sensitive': 13867, 'aground': 13868, 'downplays': 13869, 'Pogue': 13870, 'stillborn': 13871, 'sleaze': 13872, 'Mild': 13873, 'microwaves': 13874, 'Snacks': 13875, 'categorization': 13876, 'incongruous': 13877, 'artfully': 13878, 'adrenalin': 13879, 'defensible': 13880, 'Filled': 13881, 'lunacy': 13882, 'meditative': 13883, 'libido': 13884, 'bloodletting': 13885, 'goo': 13886, 'imminently': 13887, 'perceptive': 13888, 'repellent': 13889, 'disguising': 13890, 'Orwell': 13891, 'aesthetically': 13892, 'villainous': 13893, 'treachery': 13894, 'infusing': 13895, 'Lina': 13896, 'squirm': 13897, 'peddled': 13898, 'backstory': 13899, 'celluloid': 13900, 'gloriously': 13901, 'outwardly': 13902, 'Colosseum': 13903, 'copious': 13904, 'sensuality': 13905, 'Wahlberg': 13906, 'eyelids': 13907, 'contemplative': 13908, 'brat': 13909, 'paradoxically': 13910, 'Mention': 13911, 'minutiae': 13912, 'ruinous': 13913, 'obsessively': 13914, 'Ones': 13915, 'Steers': 13916, 'masturbation': 13917, 'unpretentious': 13918, 'transgression': 13919, 'boatload': 13920, 'directorial': 13921, 'Carrey': 13922, 'oddities': 13923, 'Rouge': 13924, 'genteel': 13925, 'Dumb': 13926, 'predisposed': 13927, 'Boasting': 13928, 'Unexpected': 13929, 'instigator': 13930, 'grouper': 13931, 'abject': 13932, 'weaned': 13933, 'softens': 13934, 'chokes': 13935, 'gulp': 13936, 'stupendous': 13937, 'methamphetamines': 13938, 'unsung': 13939, 'grating': 13940, 'monotony': 13941, 'unreachable': 13942, 'fillers': 13943, 'undercuts': 13944, 'bilked': 13945, 'wheezing': 13946, 'si': 13947, 'inadequately': 13948, 'hilarity': 13949, 'und': 13950, 'oomph': 13951, 'actuary': 13952, 'liven': 13953, 'Dreyfus': 13954, 'misty': 13955, 'myopic': 13956, 'suspenseful': 13957, 'deathbed': 13958, 'violins': 13959, 'subplot': 13960, 'disconnection': 13961, 'symmetrical': 13962, 'gasps': 13963, 'subtleties': 13964, 'brotherly': 13965, 'blemishes': 13966, 'Mullan': 13967, 'wallow': 13968, 'underlies': 13969, 'postmodern': 13970, 'honorably': 13971, 'valiantly': 13972, 'Animated': 13973, 'terrier': 13974, 'peeved': 13975, 'amateurish': 13976, 'casings': 13977, 'noodle': 13978, 'befall': 13979, 'irrevocably': 13980, 'expeditious': 13981, 'paraphrase': 13982, 'doggie': 13983, 'shorn': 13984, 'revolting': 13985, 'noxious': 13986, 'shiver': 13987, 'compendium': 13988, 'immorality': 13989, 'Accuracy': 13990, 'Viewed': 13991, 'slasher': 13992, 'Gong': 13993, 'mournful': 13994, 'snazzy': 13995, 'inimitable': 13996, 'glows': 13997, 'throbbing': 13998, 'Keener': 13999, 'immaturity': 14000, 'magnify': 14001, 'crematorium': 14002, 'acerbic': 14003, 'garish': 14004, 'kiddie': 14005, 'surest': 14006, 'Kilmer': 14007, 'professes': 14008, 'Nervous': 14009, 'flinging': 14010, 'jumbled': 14011, 'distracts': 14012, 'outta': 14013, 'assimilated': 14014, 'disintegrating': 14015, 'Christophe': 14016, 'rackets': 14017, 'aristocracy': 14018, 'dollop': 14019, 'animator': 14020, 'infatuation': 14021, 'Peaks': 14022, 'vivacious': 14023, 'mythic': 14024, 'turntable': 14025, 'memorialize': 14026, 'Marker': 14027, 'Routine': 14028, 'supple': 14029, 'insatiable': 14030, 'upstage': 14031, 'freebie': 14032, 'Englishmen': 14033, 'boozy': 14034, 'Sa': 14035, 'creaking': 14036, 'idiocy': 14037, 'precipitously': 14038, 'Sum': 14039, 'dishonor': 14040, 'helluva': 14041, 'Hayek': 14042, 'weirdness': 14043, 'ambiguities': 14044, 'veers': 14045, 'Bambi': 14046, 'cynic': 14047, 'unaccountable': 14048, 'juiced': 14049, 'Fierce': 14050, 'rouse': 14051, 'tots': 14052, 'Jakob': 14053, 'Consequences': 14054, 'slugs': 14055, 'Carlito': 14056, 'unmistakably': 14057, 'permeate': 14058, 'metaphysical': 14059, 'depraved': 14060, 'Loyal': 14061, 'hairdo': 14062, 'wryly': 14063, 'touchstone': 14064, 'waffle': 14065, 'marveling': 14066, 'XXX': 14067, 'unaccustomed': 14068, 'drips': 14069, 'Delight': 14070, 'sleight': 14071, 'artsy': 14072, 'obsessions': 14073, 'Asphalt': 14074, 'sampler': 14075, 'Criterion': 14076, 'disappointingly': 14077, 'penance': 14078, 'belittle': 14079, 'Weigel': 14080, 'Tolkien': 14081, 'Requiem': 14082, 'samurai': 14083, 'conniving': 14084, 'hunky': 14085, 'wizardry': 14086, 'mush': 14087, 'glib': 14088, 'regalia': 14089, 'wince': 14090, 'masterfully': 14091, 'opposites': 14092, 'connoisseur': 14093, 'flaky': 14094, 'triangles': 14095, 'Theirs': 14096, 'bile': 14097, 'maggots': 14098, 'helpfully': 14099, 'whacking': 14100, 'customarily': 14101, 'Bubbles': 14102, 'Speck': 14103, 'capitalizes': 14104, 'chewy': 14105, 'reassures': 14106, 'porridge': 14107, 'materializes': 14108, 'Julianne': 14109, 'hooliganism': 14110, 'Familiar': 14111, 'dupe': 14112, 'fashioning': 14113, 'interviewees': 14114, 'interminable': 14115, 'immerse': 14116, 'Kapur': 14117, 'oops': 14118, 'vectors': 14119, 'Gerardo': 14120, 'mystic': 14121, 'presumes': 14122, 'Weissman': 14123, 'Buff': 14124, 'Andersson': 14125, 'lightness': 14126, 'superhuman': 14127, 'sparkles': 14128, 'grimy': 14129, 'Kicks': 14130, 'baggy': 14131, 'grub': 14132, 'cutout': 14133, 'bygone': 14134, 'frighteningly': 14135, 'gambles': 14136, 'Munch': 14137, 'Somewhat': 14138, 'bastions': 14139, 'ribbing': 14140, 'archetypal': 14141, 'Muniz': 14142, 'gimmicky': 14143, 'wail': 14144, 'interwoven': 14145, 'crawls': 14146, 'wallowing': 14147, 'antagonists': 14148, 'Mule': 14149, 'griping': 14150, 'thrusts': 14151, 'struts': 14152, 'startlingly': 14153, 'bloodless': 14154, 'Lips': 14155, 'heretofore': 14156, 'squeamish': 14157, 'strolls': 14158, 'savagery': 14159, 'UHF': 14160, 'Errol': 14161, 'escapades': 14162, 'Valium': 14163, 'bawdy': 14164, 'masquerade': 14165, 'arguable': 14166, 'patronized': 14167, 'Grenoble': 14168, 'Weddings': 14169, 'undoubted': 14170, 'levity': 14171, 'slowness': 14172, 'shuns': 14173, 'midlevel': 14174, 'crypt': 14175, 'anarchic': 14176, 'misadventures': 14177, 'stabs': 14178, 'exude': 14179, 'Braveheart': 14180, 'tawdry': 14181, 'Eudora': 14182, 'Spreads': 14183, 'Juliette': 14184, 'Witty': 14185, 'poignancy': 14186, 'marrow': 14187, 'Gere': 14188, 'overwhelms': 14189, 'Octopus': 14190, 'skateboards': 14191, 'Prelude': 14192, 'stodgy': 14193, 'Kazan': 14194, 'bytes': 14195, 'nonchalant': 14196, 'dreamer': 14197, 'Kev': 14198, 'misfiring': 14199, 'exhilaration': 14200, 'Smarter': 14201, 'stinky': 14202, 'Cute': 14203, 'fatigues': 14204, 'careening': 14205, 'interdependence': 14206, 'Burdette': 14207, 'headlong': 14208, 'Bette': 14209, 'unappealing': 14210, 'Gosford': 14211, 'quench': 14212, 'punchline': 14213, 'ducts': 14214, 'dramatized': 14215, 'improbably': 14216, 'Authentic': 14217, 'secularists': 14218, 'trolls': 14219, 'queasy': 14220, 'blob': 14221, 'grosses': 14222, 'creaky': 14223, 'uncut': 14224, 'Sophisticated': 14225, 'cowering': 14226, 'outshine': 14227, 'maniac': 14228, 'jerky': 14229, 'Longest': 14230, 'flopping': 14231, 'Afghani': 14232, 'everyman': 14233, 'der': 14234, 'Pentecostal': 14235, 'screenwriting': 14236, 'grimly': 14237, 'Gyllenhaal': 14238, 'neophyte': 14239, 'brats': 14240, 'handkerchief': 14241, 'eclipses': 14242, 'anachronistic': 14243, 'Cows': 14244, 'perfunctory': 14245, 'heartily': 14246, 'enveloping': 14247, 'narcissism': 14248, 'Tomatoes': 14249, 'floppy': 14250, 'personas': 14251, 'gravitational': 14252, 'jolts': 14253, 'thumbing': 14254, 'Vin': 14255, 'devilish': 14256, 'Bon': 14257, 'circumstantial': 14258, 'Pokémon': 14259, 'unwrapped': 14260, 'Mana': 14261, 'perpetrating': 14262, 'overflows': 14263, 'Bicentennial': 14264, 'Directing': 14265, 'hem': 14266, 'despairing': 14267, 'misfit': 14268, 'zeitgeist': 14269, 'Welles': 14270, 'Yuen': 14271, 'prefabricated': 14272, 'underbelly': 14273, 'kooky': 14274, 'contemptuous': 14275, 'Attraction': 14276, 'groggy': 14277, 'elicits': 14278, 'lumpy': 14279, 'plummets': 14280, 'Redgrave': 14281, 'theatrically': 14282, 'pessimists': 14283, 'Antitrust': 14284, 'entwined': 14285, 'whet': 14286, 'evaporates': 14287, 'slop': 14288, 'Narc': 14289, 'sensuous': 14290, 'thinly': 14291, 'peppering': 14292, 'wistfully': 14293, 'Stooges': 14294, 'gall': 14295, 'Damned': 14296, 'authentically': 14297, 'treatise': 14298, 'appetizing': 14299, 'glorifying': 14300, 'ostentatious': 14301, 'overshadows': 14302, 'yarns': 14303, 'reeks': 14304, 'Spinning': 14305, 'vanishes': 14306, 'sprightly': 14307, 'rediscovering': 14308, 'opportunism': 14309, 'Beresford': 14310, 'crazier': 14311, 'eludes': 14312, 'tenet': 14313, 'rumbles': 14314, 'bludgeoning': 14315, 'stupidly': 14316, 'conflagration': 14317, 'García': 14318, 'subplots': 14319, 'distillation': 14320, 'Statham': 14321, 'counterculture': 14322, 'Tweedy': 14323, 'cliques': 14324, 'blurs': 14325, 'tundra': 14326, 'puns': 14327, 'frolic': 14328, 'tangy': 14329, 'bong': 14330, 'adorns': 14331, 'punchy': 14332, 'unsympathetic': 14333, 'Lolita': 14334, 'Stands': 14335, 'Sleeper': 14336, 'Wrote': 14337, 'sinner': 14338, 'fearlessly': 14339, 'foreshadowing': 14340, 'Tosca': 14341, 'inversion': 14342, 'shatters': 14343, 'Arteta': 14344, 'Nasty': 14345, 'soiree': 14346, 'unclean': 14347, 'omits': 14348, 'newness': 14349, 'weirdly': 14350, 'nourishing': 14351, 'BMWs': 14352, 'stereotyped': 14353, 'drowsy': 14354, 'umpteenth': 14355, 'reputedly': 14356, 'grizzled': 14357, 'permutations': 14358, 'Alcatraz': 14359, 'blithely': 14360, 'conjuring': 14361, 'Stomp': 14362, 'Supremes': 14363, 'meekly': 14364, 'Achieves': 14365, 'frazzled': 14366, 'depravity': 14367, 'margaritas': 14368, 'Kathie': 14369, 'weariness': 14370, 'ruthlessness': 14371, 'oozes': 14372, 'whiny': 14373, 'bluffs': 14374, 'fabulously': 14375, 'catalytic': 14376, 'domineering': 14377, 'frailty': 14378, 'concoctions': 14379, 'Rehearsals': 14380, 'matron': 14381, 'Shorty': 14382, 'vertigo': 14383, 'spinoffs': 14384, 'reassembled': 14385, 'wreak': 14386, 'Uma': 14387, 'moldy': 14388, 'Collateral': 14389, 'prepackaged': 14390, 'brainy': 14391, 'outtakes': 14392, 'soulless': 14393, 'undertones': 14394, 'beguiling': 14395, 'misperception': 14396, 'recreates': 14397, 'Breitbart': 14398, 'insipid': 14399, 'overwrought': 14400, 'ditty': 14401, 'competently': 14402, 'threadbare': 14403, 'Adaptation': 14404, 'ghoulish': 14405, 'brawn': 14406, 'spoofing': 14407, 'deviant': 14408, 'loopy': 14409, 'Lethal': 14410, 'satanic': 14411, 'allegory': 14412, 'Sober': 14413, 'unsophisticated': 14414, 'Scarface': 14415, 'cooker': 14416, 'Emilie': 14417, 'novella': 14418, 'bobbed': 14419, 'congenital': 14420, 'watchable': 14421, 'echelons': 14422, 'Feels': 14423, 'retrospectively': 14424, 'rapt': 14425, 'dustbin': 14426, 'vat': 14427, 'Harland': 14428, 'crooning': 14429, 'viewings': 14430, 'clichéd': 14431, 'Favor': 14432, 'incandescent': 14433, 'cogent': 14434, 'mire': 14435, 'barbarism': 14436, 'facile': 14437, 'sodden': 14438, 'escapism': 14439, 'disinterest': 14440, 'crummy': 14441, 'Neeson': 14442, 'mystifying': 14443, 'intelligentsia': 14444, 'glides': 14445, 'indigestion': 14446, 'decoder': 14447, 'Giannini': 14448, 'logistically': 14449, 'Yoda': 14450, 'Celebrated': 14451, 'oeuvre': 14452, 'oddest': 14453, 'Electra': 14454, 'whirling': 14455, 'indomitable': 14456, 'Successfully': 14457, 'infatuated': 14458, 'spunk': 14459, 'baloney': 14460, 'visualized': 14461, 'awakens': 14462, 'radiates': 14463, 'foundering': 14464, 'mores': 14465, 'ironies': 14466, 'coincidences': 14467, 'delirium': 14468, 'Notorious': 14469, 'squirming': 14470, 'gratefully': 14471, 'residuals': 14472, 'curlers': 14473, 'virtuosity': 14474, 'swank': 14475, 'valentine': 14476, 'arty': 14477, 'Spacey': 14478, 'doting': 14479, 'disloyal': 14480, 'recapturing': 14481, 'loveable': 14482, 'kaleidoscope': 14483, 'dimmer': 14484, 'entranced': 14485, 'tonal': 14486, 'nauseating': 14487, 'morphs': 14488, 'sensationalism': 14489, 'trudge': 14490, 'goth': 14491, 'prosaic': 14492, 'pummel': 14493, 'snowballs': 14494, 'Crispin': 14495, 'Bebe': 14496, 'bottomless': 14497, 'eminently': 14498, 'navigates': 14499, 'darkly': 14500, 'Pollak': 14501, 'Chekhov': 14502, 'irritates': 14503, 'egotistical': 14504, 'faintly': 14505, 'twisty': 14506, 'inexorable': 14507, 'meander': 14508, 'solidity': 14509, 'Nia': 14510, 'Velma': 14511, 'distanced': 14512, 'parsing': 14513, 'silences': 14514, 'cadavers': 14515, 'attics': 14516, 'languid': 14517, 'vies': 14518, 'pretensions': 14519, 'epics': 14520, 'grimace': 14521, 'enliven': 14522, 'disobedience': 14523, 'quintessentially': 14524, 'Dubya': 14525, 'Eh': 14526, 'metaphorically': 14527, 'LITTLE': 14528, 'fandom': 14529, 'Elegant': 14530, 'penetrates': 14531, 'patriarchal': 14532, 'Tupac': 14533, 'mindsets': 14534, 'unfocused': 14535, 'wallop': 14536, 'Sticky': 14537, 'trifle': 14538, 'visualizing': 14539, 'lark': 14540, 'sisterhood': 14541, 'Colorful': 14542, 'Pacino': 14543, 'Sy': 14544, 'voluptuous': 14545, 'Static': 14546, 'Helmer': 14547, 'kiddies': 14548, 'Pinocchio': 14549, 'Makin': 14550, 'unholy': 14551, 'spiteful': 14552, 'allusions': 14553, 'aristocrat': 14554, 'snooze': 14555, 'deliberative': 14556, 'CQ': 14557, 'ripening': 14558, 'shallows': 14559, 'groupies': 14560, 'catharsis': 14561, 'Padre': 14562, 'dulled': 14563, 'Edited': 14564, 'boomer': 14565, 'putrid': 14566, 'putters': 14567, 'neglects': 14568, 'befits': 14569, 'malleable': 14570, 'barbers': 14571, 'elliptical': 14572, 'Kept': 14573, 'Cyndi': 14574, 'shriveled': 14575, 'DeVito': 14576, 'endear': 14577, 'distancing': 14578, 'pursuers': 14579, 'Runyon': 14580, 'nurtures': 14581, 'merrily': 14582, 'chipper': 14583, 'marvelously': 14584, 'taxicab': 14585, 'lint': 14586, 'percolating': 14587, 'dramatize': 14588, 'bores': 14589, 'moronic': 14590, 'overplayed': 14591, 'lawmen': 14592, 'drivel': 14593, 'inventiveness': 14594, 'undeserving': 14595, 'Kung': 14596, 'woozy': 14597, 'Uncertain': 14598, 'dainty': 14599, 'eschews': 14600, 'arthritic': 14601, 'Lantern': 14602, 'kitschy': 14603, 'itinerant': 14604, 'introverted': 14605, 'indoctrinated': 14606, 'Shiner': 14607, 'dunno': 14608, 'Baran': 14609, 'idiom': 14610, 'fi': 14611, 'ruffle': 14612, 'thuggery': 14613, 'cutesy': 14614, 'indisputably': 14615, 'mishmash': 14616, 'dispassionate': 14617, 'crudely': 14618, 'chastity': 14619, 'jolting': 14620, 'doings': 14621, 'Tobey': 14622, 'forewarned': 14623, 'thoughtfulness': 14624, 'DOA': 14625, 'Appropriately': 14626, 'treads': 14627, 'splendidly': 14628, 'android': 14629, 'zap': 14630, 'fizz': 14631, 'Sweetheart': 14632, 'Stiff': 14633, 'greased': 14634, 'frightful': 14635, 'Sayles': 14636, 'clumsily': 14637, 'oodles': 14638, 'Levant': 14639, 'Puccini': 14640, 'blondes': 14641, 'quiver': 14642, 'spoofs': 14643, 'critiquing': 14644, 'pithy': 14645, 'infuses': 14646, 'uninhibited': 14647, 'toasts': 14648, 'confection': 14649, 'weightlessness': 14650, 'frisky': 14651, 'beached': 14652, 'helmer': 14653, 'pokes': 14654, 'playfulness': 14655, 'lapel': 14656, 'charmer': 14657, 'commercialism': 14658, 'paperbacks': 14659, 'uncharted': 14660, 'ooze': 14661, 'Siege': 14662, 'Boyz': 14663, 'swaggering': 14664, 'Tolstoy': 14665, 'Knows': 14666, 'Superb': 14667, 'shoestring': 14668, 'Gorgeous': 14669, 'sardonic': 14670, 'gibberish': 14671, 'sappy': 14672, 'lyricism': 14673, 'preteen': 14674, 'Goya': 14675, 'recesses': 14676, 'François': 14677, 'Bedroom': 14678, 'reenactment': 14679, 'pasts': 14680, 'auteur': 14681, 'patter': 14682, 'impostor': 14683, 'frustratingly': 14684, 'Zellweger': 14685, 'outpaces': 14686, 'Moretti': 14687, 'alchemy': 14688, 'ashtray': 14689, 'dumber': 14690, 'bleep': 14691, 'sloppiness': 14692, 'Broder': 14693, 'Adrien': 14694, 'uninteresting': 14695, 'abundantly': 14696, 'Tunes': 14697, 'urbane': 14698, 'Lush': 14699, 'Mastering': 14700, 'Slight': 14701, 'EEE': 14702, 'cliched': 14703, 'Brash': 14704, 'posits': 14705, 'swooning': 14706, 'Clarissa': 14707, 'lulls': 14708, 'follies': 14709, 'Barbershop': 14710, 'quixotic': 14711, 'Decent': 14712, 'hackles': 14713, 'doles': 14714, 'earplugs': 14715, 'humanist': 14716, 'flirts': 14717, 'Hailed': 14718, 'midlife': 14719, 'dutiful': 14720, 'typifies': 14721, 'Chanukah': 14722, 'moviemaking': 14723, 'Synthetic': 14724, 'deconstruction': 14725, 'Invincible': 14726, 'savagely': 14727, 'servitude': 14728, 'mods': 14729, 'ferment': 14730, 'aimless': 14731, 'Revisited': 14732, 'unravels': 14733, 'undergrad': 14734, 'tinsel': 14735, 'McConaughey': 14736, 'decibel': 14737, 'Everyman': 14738, 'Stays': 14739, 'crisply': 14740, 'nastier': 14741, 'homespun': 14742, 'Quietly': 14743, 'Sharpie': 14744, 'Ridiculous': 14745, 'harshness': 14746, 'Elie': 14747, 'sulking': 14748, 'Afraid': 14749, 'stilted': 14750, 'mysticism': 14751, 'machismo': 14752, 'slogged': 14753, 'Gallic': 14754, 'ne': 14755, 'Raimi': 14756, 'deceptions': 14757, 'Merely': 14758, 'waltzed': 14759, 'drudgery': 14760, 'exasperating': 14761, 'dodges': 14762, 'Leaks': 14763, 'Analyze': 14764, 'Seldom': 14765, 'approximation': 14766, 'braided': 14767, 'Longley': 14768, 'Ambitious': 14769, 'exposé': 14770, 'crackle': 14771, 'sieve': 14772, 'Sounding': 14773, 'Miyazaki': 14774, 'Diaries': 14775, 'madcap': 14776, 'unapologetically': 14777, 'tamer': 14778, 'amoral': 14779, 'forsaken': 14780, 'kilt': 14781, 'tremble': 14782, 'poo': 14783, 'regimented': 14784, 'winking': 14785, 'Lyne': 14786, 'detracts': 14787, 'frowns': 14788, 'uncommonly': 14789, 'uncoordinated': 14790, 'blooper': 14791, 'strenuously': 14792, 'messianic': 14793, 'Pauly': 14794, 'pranksters': 14795, 'redemptive': 14796, 'shamefully': 14797, 'fanboy': 14798, 'fearlessness': 14799, 'ostensible': 14800, 'ROSE': 14801, 'Bardem': 14802, 'Shimizu': 14803, 'Stitch': 14804, 'untidy': 14805, 'weirder': 14806, 'rancorous': 14807, 'lusty': 14808, 'Deeper': 14809, 'Gaye': 14810, 'libretto': 14811, 'temerity': 14812, 'personifies': 14813, 'bender': 14814, 'misfire': 14815, 'Nicely': 14816, 'heartstrings': 14817, 'constricted': 14818, 'succumbs': 14819, 'Remarkable': 14820, 'Visually': 14821, 'Intended': 14822, 'Ghetto': 14823, 'aimlessly': 14824, 'tux': 14825, 'revelatory': 14826, 'diction': 14827, 'uncool': 14828, 'knockoff': 14829, 'viewfinder': 14830, 'crisper': 14831, 'Soderbergh': 14832, 'Shu': 14833, 'twinkling': 14834, 'Lizard': 14835, 'vagueness': 14836, 'ramble': 14837, 'Ja': 14838, 'tedium': 14839, 'pillage': 14840, 'ponderous': 14841, 'disagreeable': 14842, 'spiffy': 14843, 'unsatisfying': 14844, 'SATs': 14845, 'internalized': 14846, 'Dull': 14847, 'shaggy': 14848, 'denouement': 14849, 'gored': 14850, 'Cimarron': 14851, 'rigidly': 14852, 'hardscrabble': 14853, 'Jeong': 14854, 'porno': 14855, 'Snowman': 14856, 'embellishment': 14857, 'insinuating': 14858, 'undernourished': 14859, 'wreaked': 14860, 'exclamation': 14861, 'windup': 14862, 'frankness': 14863, 'blips': 14864, 'fart': 14865, 'persuades': 14866, 'luminary': 14867, 'MapQuest': 14868, 'histrionics': 14869, 'Diop': 14870, 'Ode': 14871, 'travelogue': 14872, 'serendipity': 14873, 'preachy': 14874, 'rote': 14875, 'hustler': 14876, 'meanders': 14877, 'vastness': 14878, 'holographic': 14879, 'womanhood': 14880, 'Pabst': 14881, 'Shyamalan': 14882, 'livelier': 14883, 'profanities': 14884, 'spry': 14885, 'passivity': 14886, 'Submarine': 14887, 'Entertaining': 14888, 'hiss': 14889, 'Cardoso': 14890, 'unimaginative': 14891, 'quicksand': 14892, 'FILM': 14893, 'flowery': 14894, 'antiseptic': 14895, 'stifles': 14896, 'Capra': 14897, 'scriptwriter': 14898, 'manifestos': 14899, 'aristocrats': 14900, 'Contains': 14901, 'Adolescents': 14902, 'Denzel': 14903, 'asinine': 14904, 'normative': 14905, 'Demonstrates': 14906, 'canter': 14907, 'disquieting': 14908, 'tits': 14909, 'fisticuffs': 14910, 'Sisterhood': 14911, 'bestowing': 14912, 'Shower': 14913, 'chiller': 14914, 'humdrum': 14915, 'whoop': 14916, 'dwells': 14917, 'Elvira': 14918, 'superficially': 14919, 'Storytelling': 14920, 'Clue': 14921, 'navel': 14922, 'charmingly': 14923, 'wincing': 14924, 'Mamet': 14925, 'befallen': 14926, 'portraiture': 14927, 'cussing': 14928, 'Displaying': 14929, 'Feathers': 14930, 'imitations': 14931, 'Sade': 14932, 'Snowball': 14933, 'hedonistic': 14934, 'Drunken': 14935, 'Terrific': 14936, 'wo': 14937, 'flog': 14938, 'sorrowful': 14939, 'sexiness': 14940, 'capably': 14941, 'unashamedly': 14942, 'Godard': 14943, 'dishonorable': 14944, 'outselling': 14945, 'naturalistic': 14946, 'randomness': 14947, 'Battista': 14948, 'Assassin': 14949, 'highbrow': 14950, 'overcooked': 14951, 'blissfully': 14952, 'vapid': 14953, 'Escapes': 14954, 'dilutes': 14955, 'gander': 14956, 'indulges': 14957, 'laugher': 14958, 'dozing': 14959, 'wimp': 14960, 'cesspool': 14961, 'droll': 14962, 'gawk': 14963, 'Zwick': 14964, 'dramatics': 14965, 'monotone': 14966, 'anyplace': 14967, 'hokey': 14968, 'Stallion': 14969, 'miscalculations': 14970, 'acolytes': 14971, 'Freaks': 14972, 'Swinging': 14973, 'jell': 14974, 'haywire': 14975, 'Elizabethan': 14976, 'musty': 14977, 'Clueless': 14978, 'loony': 14979, 'spellbinding': 14980, 'Drowning': 14981, 'conceptions': 14982, 'uncluttered': 14983, 'Passionate': 14984, 'Petri': 14985, 'kinky': 14986, 'Ops': 14987, 'dawns': 14988, 'truest': 14989, 'Arquette': 14990, 'crock': 14991, 'cleverness': 14992, 'happenstance': 14993, 'Foolish': 14994, 'transvestite': 14995, 'saps': 14996, 'resents': 14997, 'infantile': 14998, 'densely': 14999, 'thrall': 15000, 'stylishly': 15001, 'plotline': 15002, 'theorist': 15003, 'comprehensible': 15004, 'hyperbolic': 15005, 'goosebumps': 15006, 'Ayurveda': 15007, 'cavorting': 15008, 'dehumanizing': 15009, 'flippant': 15010, 'bogs': 15011, 'Gibney': 15012, 'titillating': 15013, 'Vampires': 15014, 'sneering': 15015, 'saintly': 15016, 'glint': 15017, 'Lit': 15018, 'peels': 15019, 'vacuous': 15020, 'jingles': 15021, 'intergalactic': 15022, 'stuffs': 15023, 'Ia': 15024, 'quivering': 15025, 'Rainy': 15026, 'ramblings': 15027, 'Ranging': 15028, 'quickie': 15029, 'Biggie': 15030, 'daydreaming': 15031, 'Spade': 15032, 'crystallize': 15033, 'dramatization': 15034, 'Shreve': 15035, 'stinker': 15036, 'trounce': 15037, 'insinuation': 15038, 'amok': 15039, 'baffle': 15040, 'schematic': 15041, 'humorously': 15042, 'Probes': 15043, 'catapulting': 15044, 'dramedy': 15045, 'Maud': 15046, 'Tackles': 15047, 'potion': 15048, 'Screenwriter': 15049, 'insufferable': 15050, 'retold': 15051, 'Welty': 15052, 'iconography': 15053, 'inscrutable': 15054, 'grownups': 15055, 'terrors': 15056, 'cringing': 15057, 'undertone': 15058, 'Shallow': 15059, 'Wai': 15060, 'whodunit': 15061, 'gazes': 15062, 'extant': 15063, 'revisionist': 15064, 'Meatballs': 15065, 'newfangled': 15066, 'Enigma': 15067, 'mars': 15068, 'placeholder': 15069, 'intricately': 15070, 'resoundingly': 15071, 'zips': 15072, 'epitaph': 15073, 'snobbery': 15074, 'chicanery': 15075, 'puke': 15076, 'escapade': 15077, 'directionless': 15078, 'staggeringly': 15079, 'dreamlike': 15080, 'stylings': 15081, 'Boll': 15082, 'dank': 15083, 'Ravel': 15084, 'brainpower': 15085, 'serpent': 15086, 'balm': 15087, 'misogyny': 15088, 'shriek': 15089, 'forges': 15090, 'prim': 15091, 'disorienting': 15092, 'Sensation': 15093, 'Clones': 15094, 'gourd': 15095, 'romanticism': 15096, 'imprimatur': 15097, 'Consistently': 15098, 'monastic': 15099, 'meshes': 15100, 'Dunst': 15101, 'skateboarder': 15102, 'Troll': 15103, 'polemic': 15104, 'unexplainable': 15105, 'telegraphed': 15106, 'millisecond': 15107, 'slyly': 15108, 'Limbo': 15109, 'Tuxedo': 15110, 'whence': 15111, 'stoner': 15112, 'Heartbreak': 15113, 'discards': 15114, 'Zealand': 15115, 'humanism': 15116, 'Assured': 15117, 'distinguishable': 15118, 'Jacobi': 15119, 'comeuppance': 15120, 'Waking': 15121, 'Hawn': 15122, 'unevenly': 15123, 'refreshes': 15124, 'talkers': 15125, 'softest': 15126, 'agitator': 15127, 'Lohman': 15128, 'dwindles': 15129, 'pinks': 15130, 'irreconcilable': 15131, 'condescension': 15132, 'slathered': 15133, 'twentieth': 15134, 'pastiche': 15135, 'earnestness': 15136, 'squint': 15137, 'peter': 15138, 'Mobius': 15139, 'thievery': 15140, 'Risky': 15141, 'falcon': 15142, 'winks': 15143, 'essayist': 15144, 'Masterpiece': 15145, 'meanest': 15146, 'submerging': 15147, 'Gently': 15148, 'lazily': 15149, 'parodied': 15150, 'rehashing': 15151, 'Crocodile': 15152, 'weightless': 15153, 'wispy': 15154, 'fantasized': 15155, 'squinting': 15156, 'spliced': 15157, 'bounties': 15158, 'tacks': 15159, 'Spit': 15160, 'sympathetically': 15161, 'Brecht': 15162, 'philandering': 15163, 'roughshod': 15164, 'twentysomething': 15165, 'unadulterated': 15166, 'germinate': 15167, 'hackneyed': 15168, 'dampens': 15169, 'eccentricity': 15170, 'Deliverance': 15171, 'jackass': 15172, 'inflection': 15173, 'specious': 15174, 'Obvious': 15175, 'extrusion': 15176, 'fascinates': 15177, 'Rife': 15178, 'multilayered': 15179, 'Accidental': 15180, 'Schwartzman': 15181, 'unfunny': 15182, 'Bui': 15183, 'humanistic': 15184, 'conspiratorial': 15185, 'Arkin': 15186, 'brassy': 15187, 'Bolstered': 15188, 'trots': 15189, 'starry': 15190, 'loosens': 15191, 'gangsta': 15192, 'epilogue': 15193, 'Transporter': 15194, 'harmoniously': 15195, 'bitchy': 15196, 'fussing': 15197, 'terrifically': 15198, 'pathetically': 15199, 'besotted': 15200, 'Spader': 15201, 'thankless': 15202, 'boilerplate': 15203, 'Sliding': 15204, 'melds': 15205, 'Gianni': 15206, 'Wiser': 15207, 'preteens': 15208, 'loathsome': 15209, 'summery': 15210, 'retrograde': 15211, 'eccentricities': 15212, 'wonderment': 15213, 'emulates': 15214, 'trippy': 15215, 'morsels': 15216, 'melancholic': 15217, 'blah': 15218, 'ravishing': 15219, 'preschooler': 15220, 'annoyances': 15221, 'Sontag': 15222, 'ke': 15223, 'patrolmen': 15224, 'Gangster': 15225, 'artifice': 15226, 'overdoing': 15227, 'icky': 15228, 'Vonnegut': 15229, 'Charming': 15230, 'perversely': 15231, 'sterility': 15232, 'distill': 15233, 'dissing': 15234, 'Contenders': 15235, 'Everytime': 15236, 'Handsome': 15237, 'lovebirds': 15238, 'annoyingly': 15239, 'Behan': 15240, 'workman': 15241, 'morose': 15242, 'bravura': 15243, 'WASP': 15244, 'fascinate': 15245, 'Shakes': 15246, 'tripe': 15247, 'Menace': 15248, 'Magi': 15249, 'coda': 15250, 'begets': 15251, 'praiseworthy': 15252, 'hogwash': 15253, 'Usual': 15254, 'hitmen': 15255, 'brawny': 15256, 'jerking': 15257, 'Sylvie': 15258, 'gutless': 15259, 'Mermaid': 15260, 'doodle': 15261, 'upholstered': 15262, 'wordplay': 15263, 'pap': 15264, 'iconoclastic': 15265, 'Danilo': 15266, 'Maggio': 15267, 'tics': 15268, 'Constantly': 15269, 'obtuse': 15270, 'solemnity': 15271, 'verging': 15272, 'analgesic': 15273, 'Seine': 15274, 'Salma': 15275, 'mockumentary': 15276, 'ardor': 15277, 'caffeinated': 15278, 'shivers': 15279, 'weirdo': 15280, 'overstuffed': 15281, 'generalities': 15282, 'Utter': 15283, 'excruciatingly': 15284, 'crooned': 15285, 'wiggling': 15286, 'Katzenberg': 15287, 'Gaunt': 15288, 'laughably': 15289, 'oppositions': 15290, 'Akira': 15291, 'articulates': 15292, 'spooks': 15293, 'voyeuristic': 15294, 'Fairly': 15295, 'riddles': 15296, 'marshaled': 15297, 'interludes': 15298, 'mucking': 15299, 'Fuhrman': 15300, 'costuming': 15301, 'abridged': 15302, 'amusingly': 15303, 'Kissing': 15304, 'plumbed': 15305, 'absurdities': 15306, 'Pap': 15307, 'Maryam': 15308, 'ardently': 15309, 'thematically': 15310, 'Dangerfield': 15311, 'wisecracking': 15312, 'friggin': 15313, 'finery': 15314, 'Reversal': 15315, 'Bellini': 15316, 'unadorned': 15317, 'stylistically': 15318, 'freshened': 15319, 'hysterics': 15320, 'Sluggish': 15321, 'irreverence': 15322, 'arousing': 15323, 'Iles': 15324, 'mummified': 15325, 'spews': 15326, 'cloying': 15327, 'survivable': 15328, 'Almodovar': 15329, 'shrewdly': 15330, 'unsaid': 15331, 'boorish': 15332, 'sandal': 15333, 'romanticized': 15334, 'swingers': 15335, 'chafing': 15336, 'Horrible': 15337, 'twitchy': 15338, 'humanize': 15339, 'nonbelievers': 15340, 'energizes': 15341, 'deriding': 15342, 'stupor': 15343, 'peculiarly': 15344, 'Closely': 15345, 'Stripped': 15346, 'skilfully': 15347, 'laconic': 15348, 'humorless': 15349, 'Maintains': 15350, 'botching': 15351, 'overexposed': 15352, 'Ostensibly': 15353, 'subtler': 15354, 'poof': 15355, 'laughingly': 15356, 'Fluffy': 15357, 'populating': 15358, 'corkscrew': 15359, 'magnificence': 15360, 'tormentor': 15361, 'grasps': 15362, 'Functions': 15363, 'Halos': 15364, 'Follows': 15365, 'inauspicious': 15366, 'hijinks': 15367, 'clanging': 15368, 'Shekhar': 15369, 'Watched': 15370, 'Throws': 15371, 'expounded': 15372, 'grooved': 15373, 'latches': 15374, 'wetsuit': 15375, 'flabby': 15376, 'discerned': 15377, 'garbled': 15378, 'chins': 15379, 'slivers': 15380, 'wan': 15381, 'generically': 15382, 'Bruckheimer': 15383, 'Antlers': 15384, 'Crikey': 15385, 'cradles': 15386, 'Highlighted': 15387, 'deconstruct': 15388, 'fallible': 15389, 'desolation': 15390, 'Franc': 15391, 'Barbarian': 15392, 'unknowable': 15393, 'Weimar': 15394, 'Primavera': 15395, 'Painful': 15396, 'sharpens': 15397, 'retread': 15398, 'Corpus': 15399, 'insignificance': 15400, 'Goodfellas': 15401, 'rapturous': 15402, 'sociopath': 15403, 'lookin': 15404, 'Gabriele': 15405, 'sanctimonious': 15406, 'deconstructed': 15407, 'stepdad': 15408, 'dazzles': 15409, 'songbird': 15410, 'Captures': 15411, 'diatribes': 15412, 'Faso': 15413, 'excepting': 15414, 'unwary': 15415, 'zealously': 15416, 'Encounters': 15417, 'reverent': 15418, 'perilously': 15419, 'Shaggy': 15420, 'undiminished': 15421, 'conquers': 15422, 'devastatingly': 15423, 'dopey': 15424, 'undistinguished': 15425, 'hairline': 15426, 'provocatively': 15427, 'sanded': 15428, 'Ilya': 15429, 'sidekicks': 15430, 'stomps': 15431, 'screed': 15432, 'demographically': 15433, 'carol': 15434, 'Kappa': 15435, 'Professionally': 15436, 'signpost': 15437, 'Passions': 15438, 'exhilarated': 15439, 'fluidly': 15440, 'Remembers': 15441, 'Hades': 15442, 'showboating': 15443, 'wickedly': 15444, 'Renoir': 15445, 'omnipotent': 15446, 'Goofy': 15447, 'Liar': 15448, 'stoically': 15449, 'Alternately': 15450, 'Cotswolds': 15451, 'Sinks': 15452, 'Nanette': 15453, 'coldly': 15454, 'flatulence': 15455, 'opacity': 15456, 'Automatically': 15457, 'labyrinthine': 15458, 'startle': 15459, 'fudged': 15460, 'ribcage': 15461, 'pedagogy': 15462, 'Bewitched': 15463, 'cad': 15464, 'Culkin': 15465, 'Involving': 15466, 'schtick': 15467, 'surrealist': 15468, 'paean': 15469, 'decorates': 15470, 'Shag': 15471, 'Cruel': 15472, 'chirpy': 15473, 'droning': 15474, 'afterschool': 15475, 'reeked': 15476, 'sidesteps': 15477, 'cresting': 15478, 'mirth': 15479, 'castrated': 15480, 'dreadfully': 15481, 'barbed': 15482, 'Verne': 15483, 'irk': 15484, 'Insomnia': 15485, 'frailties': 15486, 'sunnier': 15487, 'frothing': 15488, 'Menzel': 15489, 'misogynistic': 15490, 'unpleasantness': 15491, 'syrupy': 15492, 'Frida': 15493, 'strangeness': 15494, 'grungy': 15495, 'Exposing': 15496, 'howler': 15497, 'Intimate': 15498, 'contemptible': 15499, 'Heist': 15500, 'cuss': 15501, 'goofball': 15502, 'Sturges': 15503, 'Ferrera': 15504, 'rancid': 15505, 'signposts': 15506, 'ayatollah': 15507, 'bungle': 15508, 'troubadour': 15509, 'tidings': 15510, 'Anakin': 15511, 'Suggests': 15512, 'diss': 15513, 'hooting': 15514, 'saccharine': 15515, 'churlish': 15516, 'Altar': 15517, 'Tunney': 15518, 'entertainments': 15519, 'incognito': 15520, 'Sleek': 15521, 'redolent': 15522, 'yuppie': 15523, 'dramatist': 15524, 'Touched': 15525, 'overachieving': 15526, 'cuteness': 15527, 'Latifah': 15528, 'skewering': 15529, 'Satin': 15530, 'Pretend': 15531, 'psyches': 15532, 'transcendence': 15533, 'crumb': 15534, 'chides': 15535, 'expound': 15536, 'MIB': 15537, 'Sorority': 15538, 'undying': 15539, 'breathtakingly': 15540, 'Farrelly': 15541, 'Banderas': 15542, 'Fiennes': 15543, 'sameness': 15544, 'didactic': 15545, 'vainly': 15546, 'bludgeon': 15547, 'Bratt': 15548, 'Proves': 15549, 'sympathizing': 15550, 'streetwise': 15551, 'betters': 15552, 'Pow': 15553, 'ratchets': 15554, 'waxes': 15555, 'ungainly': 15556, 'Slap': 15557, 'rehashed': 15558, 'filmgoers': 15559, 'Hilarious': 15560, 'vulgarities': 15561, 'Lilo': 15562, 'randy': 15563, 'flamboyance': 15564, 'colorfully': 15565, 'lullaby': 15566, 'surfeit': 15567, 'moviegoing': 15568, 'Examines': 15569, 'provocateur': 15570, 'astoundingly': 15571, 'pasty': 15572, 'sleepless': 15573, 'tenderly': 15574, 'imperfection': 15575, 'Gandalf': 15576, 'trivialize': 15577, 'weepy': 15578, 'Angelique': 15579, 'peroxide': 15580, 'stickiness': 15581, 'pretension': 15582, 'uneasily': 15583, 'zippy': 15584, 'Cheech': 15585, 'cobbled': 15586, 'Martyr': 15587, 'Psychologically': 15588, 'splatter': 15589, 'brainless': 15590, 'disconnects': 15591, 'linearity': 15592, 'Nemesis': 15593, 'craven': 15594, 'symbiotic': 15595, 'kibosh': 15596, 'surrealism': 15597, 'impressionistic': 15598, 'guises': 15599, 'discontented': 15600, 'Def': 15601, 'exterminator': 15602, 'Bittersweet': 15603, 'Schiffer': 15604, 'bard': 15605, 'recompense': 15606, 'loquacious': 15607, 'byways': 15608, 'improvisations': 15609, 'unknowing': 15610, 'Unforgiven': 15611, 'shapely': 15612, 'blushing': 15613, 'Meant': 15614, 'Fist': 15615, 'passe': 15616, 'Gulzar': 15617, 'curmudgeon': 15618, 'Besson': 15619, 'wrenches': 15620, 'septuagenarian': 15621, 'Seagal': 15622, 'Stuffed': 15623, 'backstabbing': 15624, 'seesawed': 15625, 'Burstein': 15626, 'gorgeously': 15627, 'damsel': 15628, 'Rifkin': 15629, 'Beavis': 15630, 'modulated': 15631, 'purer': 15632, 'amusements': 15633, 'preoccupations': 15634, 'Sarandon': 15635, 'fingering': 15636, 'fogging': 15637, 'preordained': 15638, 'nanosecond': 15639, 'knickknacks': 15640, 'Jackal': 15641, 'Navajos': 15642, 'Believes': 15643, 'igloo': 15644, 'playwriting': 15645, 'discordant': 15646, 'Baz': 15647, 'alacrity': 15648, 'Dragonfly': 15649, 'smugly': 15650, 'moviemakers': 15651, 'claustrophobia': 15652, 'quirkiness': 15653, 'Danis': 15654, 'fisher': 15655, 'maudlin': 15656, 'Sparkling': 15657, 'banality': 15658, 'gluing': 15659, 'underachiever': 15660, 'allying': 15661, 'gunplay': 15662, 'unnerve': 15663, 'hippest': 15664, 'redux': 15665, 'wavers': 15666, 'Devotees': 15667, 'irksome': 15668, 'inoffensive': 15669, 'stupidest': 15670, 'redefinition': 15671, 'snicker': 15672, 'Warmth': 15673, 'standbys': 15674, 'evocation': 15675, 'Awful': 15676, 'whetted': 15677, 'salvos': 15678, 'reverberates': 15679, 'Imogen': 15680, 'sardine': 15681, 'comin': 15682, 'EYE': 15683, 'depressingly': 15684, 'lustrous': 15685, 'Greenlight': 15686, 'outrunning': 15687, 'Borchardt': 15688, 'forgivable': 15689, 'playthings': 15690, 'extravagantly': 15691, 'Perfectly': 15692, 'tickles': 15693, 'carnivore': 15694, 'Aranda': 15695, 'ascends': 15696, 'egregiously': 15697, 'Sidewalks': 15698, 'snide': 15699, 'Americanized': 15700, 'McTiernan': 15701, 'Contempt': 15702, 'verges': 15703, 'grandly': 15704, 'winsome': 15705, 'masala': 15706, 'creme': 15707, 'jeweled': 15708, 'Danang': 15709, 'Kubrick': 15710, 'Began': 15711, 'masterly': 15712, 'Petter': 15713, 'Suffers': 15714, 'plausibility': 15715, 'Helga': 15716, 'intriguingly': 15717, 'blare': 15718, 'derisive': 15719, 'Gollum': 15720, 'costars': 15721, 'heaviness': 15722, 'Hush': 15723, 'ennui': 15724, 'ou': 15725, 'slights': 15726, 'slipper': 15727, 'invulnerable': 15728, 'Phi': 15729, 'enchantment': 15730, 'Cynics': 15731, 'Credibility': 15732, 'Bolero': 15733, 'disreputable': 15734, 'tingle': 15735, 'baboon': 15736, 'shockwaves': 15737, 'believability': 15738, 'betrayals': 15739, 'Hossein': 15740, 'Janey': 15741, 'fiend': 15742, 'reverie': 15743, 'doze': 15744, 'ridiculousness': 15745, 'evenhanded': 15746, 'impatiently': 15747, 'whit': 15748, 'tropes': 15749, 'Liana': 15750, 'Detox': 15751, 'imbue': 15752, 'payola': 15753, 'ugh': 15754, 'Delirious': 15755, 'pasteurized': 15756, 'Campanella': 15757, 'accentuating': 15758, 'cipher': 15759, 'platonic': 15760, 'mouthpieces': 15761, 'undercurrents': 15762, 'grouchy': 15763, 'withholds': 15764, 'Daring': 15765, 'globalizing': 15766, 'quietness': 15767, 'thinness': 15768, 'sulky': 15769, 'Barrels': 15770, 'Testament': 15771, 'jokester': 15772, 'fizzles': 15773, 'serenely': 15774, 'Taymor': 15775, 'chillingly': 15776, 'ornamentation': 15777, 'flattens': 15778, 'milks': 15779, 'Sia': 15780, 'unforced': 15781, 'superman': 15782, 'freshening': 15783, 'reassuringly': 15784, 'unmotivated': 15785, 'nihilistic': 15786, 'Disturbing': 15787, 'Dench': 15788, 'suffused': 15789, 'Combines': 15790, 'Jelinek': 15791, 'Boni': 15792, 'Memorable': 15793, 'fireballs': 15794, 'virtuosic': 15795, 'Abandon': 15796, 'wordless': 15797, 'peopled': 15798, 'Cronenberg': 15799, 'Creepy': 15800, 'cuter': 15801, 'Nerds': 15802, 'zingers': 15803, 'Dickensian': 15804, 'ballerinas': 15805, 'Flawed': 15806, 'Suspend': 15807, 'aftertaste': 15808, 'impish': 15809, 'tinny': 15810, 'jugglers': 15811, 'purr': 15812, 'workaday': 15813, 'Sturdy': 15814, 'masochistic': 15815, 'sags': 15816, 'avarice': 15817, 'ballsy': 15818, 'extravaganzas': 15819, 'atmospherics': 15820, 'notations': 15821, 'ensnare': 15822, 'enthuse': 15823, 'misfires': 15824, 'sophomoric': 15825, 'seductively': 15826, 'Stainton': 15827, 'derails': 15828, 'cheapen': 15829, 'Fiorentino': 15830, 'creeped': 15831, 'snore': 15832, 'ricocheting': 15833, 'Bedouins': 15834, 'Gauge': 15835, 'satiric': 15836, 'romantics': 15837, 'psychopathic': 15838, 'wades': 15839, 'unread': 15840, 'potshots': 15841, 'Unofficially': 15842, 'Tonto': 15843, 'uppity': 15844, 'amble': 15845, 'screwball': 15846, 'halfhearted': 15847, 'Quitting': 15848, 'seduces': 15849, 'subjugate': 15850, 'ageism': 15851, 'turgid': 15852, 'coinage': 15853, 'yawns': 15854, 'Trainspotting': 15855, 'pleasingly': 15856, 'Sling': 15857, 'spindly': 15858, 'raptures': 15859, 'allegorical': 15860, 'DePalma': 15861, 'Uwe': 15862, 'jokers': 15863, 'Lacks': 15864, 'lurches': 15865, 'Pascale': 15866, 'abhors': 15867, 'promisingly': 15868, 'Paradiso': 15869, 'wordy': 15870, 'documentarian': 15871, 'cannibal': 15872, 'Memento': 15873, 'hustlers': 15874, 'yearnings': 15875, 'Compelling': 15876, 'Obstacles': 15877, 'flagrantly': 15878, 'cutoffs': 15879, 'horrifically': 15880, 'denuded': 15881, 'envelops': 15882, 'Calculated': 15883, 'lynchings': 15884, 'valedictory': 15885, 'quaking': 15886, 'intelligible': 15887, 'Lise': 15888, 'latrine': 15889, 'blundering': 15890, 'ingeniously': 15891, 'Cherish': 15892, 'sloppily': 15893, 'Malkovich': 15894, 'achingly': 15895, 'Porky': 15896, 'stooping': 15897, 'exigencies': 15898, 'upends': 15899, 'tis': 15900, 'Linklater': 15901, 'absurdist': 15902, 'helpings': 15903, 'unoriginal': 15904, 'escapist': 15905, 'Aaliyah': 15906, 'Krawczyk': 15907, 'Germanic': 15908, 'reeking': 15909, 'fetid': 15910, 'Goo': 15911, 'Starship': 15912, 'adroitly': 15913, 'optic': 15914, 'puzzlement': 15915, 'enthrall': 15916, 'scorcher': 15917, 'propulsive': 15918, 'blubber': 15919, 'fatalism': 15920, 'Alarms': 15921, 'Shaky': 15922, 'Girlfriends': 15923, 'Patricio': 15924, 'Anchored': 15925, 'Massoud': 15926, 'fictions': 15927, 'Frodo': 15928, 'reek': 15929, 'Plympton': 15930, 'facetious': 15931, 'imaginatively': 15932, 'girlish': 15933, 'sadism': 15934, 'fragmentary': 15935, 'dystopian': 15936, 'flotsam': 15937, 'preconceived': 15938, 'overplay': 15939, 'staggers': 15940, 'Caddyshack': 15941, 'Enduring': 15942, 'Flatbush': 15943, 'unbearably': 15944, 'Deepa': 15945, 'repetitious': 15946, 'misogynist': 15947, 'compulsively': 15948, 'lightens': 15949, 'sledgehammers': 15950, 'henna': 15951, 'Leoni': 15952, 'unmentioned': 15953, 'melange': 15954, 'piquant': 15955, 'miscast': 15956, 'unstinting': 15957, 'adroit': 15958, 'psychedelia': 15959, 'insubstantial': 15960, 'embellishing': 15961, 'Interacting': 15962, 'Grumpy': 15963, 'tactfully': 15964, 'Snatch': 15965, 'hums': 15966, 'telenovela': 15967, 'burlap': 15968, 'captivates': 15969, 'Bouquet': 15970, 'unsentimental': 15971, 'dabbles': 15972, 'puerile': 15973, 'portent': 15974, 'Gantz': 15975, 'hammy': 15976, 'Awkward': 15977, 'unemotional': 15978, 'Noyce': 15979, 'arthouse': 15980, 'salesmanship': 15981, 'Muzak': 15982, 'trenchant': 15983, 'scattershot': 15984, 'silliest': 15985, 'torments': 15986, 'painterly': 15987, 'Coupling': 15988, 'trifling': 15989, 'moralistic': 15990, 'unhurried': 15991, 'unceasing': 15992, 'royally': 15993, 'Sugarman': 15994, 'Tootsie': 15995, 'duking': 15996, 'telegrams': 15997, 'unwatchable': 15998, 'grotesquely': 15999, 'secretions': 16000, 'lameness': 16001, 'revolve': 16002, 'Hibiscus': 16003, 'uncouth': 16004, 'chitchat': 16005, 'Nakata': 16006, 'Thornberry': 16007, 'Bela': 16008, 'sputters': 16009, 'sanctified': 16010, 'stasis': 16011, 'Branagh': 16012, 'warpath': 16013, 'reheated': 16014, 'existent': 16015, 'Niels': 16016, 'jokey': 16017, 'curmudgeonly': 16018, 'wisp': 16019, 'hotdog': 16020, 'segues': 16021, 'extols': 16022, 'Rymer': 16023, 'horrendously': 16024, 'pizazz': 16025, 'Jar': 16026, 'EXIT': 16027, 'indecipherable': 16028, 'maddeningly': 16029, 'Khouri': 16030, 'Quirky': 16031, 'por': 16032, 'ruminations': 16033, 'glumly': 16034, 'naiveté': 16035, 'obscenely': 16036, 'terminally': 16037, 'Ranges': 16038, 'Swingers': 16039, 'sneers': 16040, 'doppelganger': 16041, 'Jiri': 16042, 'Dungeons': 16043, 'scriptwriters': 16044, 'Hampered': 16045, 'Freudian': 16046, 'FISHER': 16047, 'clobbering': 16048, 'frisk': 16049, 'offal': 16050, 'moralizing': 16051, 'Purgatory': 16052, 'pratfalls': 16053, 'Lillard': 16054, 'waltzes': 16055, 'Lookin': 16056, 'Twinkie': 16057, 'Catechism': 16058, 'hothouse': 16059, 'Galan': 16060, 'lowbrow': 16061, 'mope': 16062, 'Vibes': 16063, 'Tres': 16064, 'Astonishingly': 16065, 'stammering': 16066, 'ambitiously': 16067, 'Veggie': 16068, 'Dogtown': 16069, 'mimicry': 16070, 'developmentally': 16071, 'embalmed': 16072, 'Marmite': 16073, 'mutates': 16074, 'Orson': 16075, 'astronomically': 16076, 'orchestrates': 16077, 'immaculately': 16078, 'nakedness': 16079, 'hallucinogenic': 16080, 'Tomcats': 16081, 'endearingly': 16082, 'Lame': 16083, 'bratty': 16084, 'hemlock': 16085, 'Hardwood': 16086, 'Gai': 16087, 'partway': 16088, 'ditties': 16089, 'eccentrics': 16090, 'lampoon': 16091, 'fleetingly': 16092, 'soberly': 16093, 'Michell': 16094, 'overlong': 16095, 'bullseye': 16096, 'Beanie': 16097, 'hideously': 16098, 'gauzy': 16099, 'gobbler': 16100, 'Greengrass': 16101, 'millennial': 16102, 'textural': 16103, 'voyeur': 16104, 'leavened': 16105, 'Buscemi': 16106, 'degenerating': 16107, 'Belushi': 16108, 'rawness': 16109, 'Luhrmann': 16110, 'yung': 16111, 'empress': 16112, 'mongrel': 16113, 'soapy': 16114, 'irreparably': 16115, 'ambling': 16116, 'avuncular': 16117, 'majorly': 16118, 'Phifer': 16119, 'stepmom': 16120, 'Affirms': 16121, 'Andie': 16122, 'leaden': 16123, 'daydreams': 16124, 'joyless': 16125, 'Donati': 16126, 'progenitor': 16127, 'unhappily': 16128, 'Zemeckis': 16129, 'Byler': 16130, 'Koepp': 16131, 'flinching': 16132, 'dismember': 16133, 'Plimpton': 16134, 'elegiac': 16135, 'chump': 16136, 'compellingly': 16137, 'bonehead': 16138, 'Sleepless': 16139, 'pillowcases': 16140, 'Patric': 16141, 'hallucinatory': 16142, 'likability': 16143, 'callow': 16144, 'Razzie': 16145, 'unmolested': 16146, 'Spirited': 16147, 'smoothes': 16148, 'insistently': 16149, 'Amari': 16150, 'Intriguing': 16151, 'deconstructing': 16152, 'rueful': 16153, 'Brisk': 16154, 'McCoist': 16155, 'trope': 16156, 'plucks': 16157, 'tangents': 16158, 'pitifully': 16159, 'viscerally': 16160, 'mingles': 16161, 'collie': 16162, 'Marvelous': 16163, 'giggly': 16164, 'Jez': 16165, 'parables': 16166, 'underplayed': 16167, 'gyro': 16168, 'reptilian': 16169, 'wizened': 16170, 'Gump': 16171, 'prurient': 16172, 'Liotta': 16173, 'Takashi': 16174, 'Punish': 16175, 'stringently': 16176, 'Gremlins': 16177, 'Propelled': 16178, 'quibbles': 16179, 'hoary': 16180, 'Reminiscent': 16181, 'farts': 16182, 'leafing': 16183, 'Accorsi': 16184, 'turd': 16185, 'unobtrusively': 16186, 'desultory': 16187, 'DeMeo': 16188, 'repartee': 16189, 'eroticism': 16190, 'Samira': 16191, 'Emerges': 16192, 'bod': 16193, 'inarticulate': 16194, 'Dilbert': 16195, 'Dafoe': 16196, 'homogenized': 16197, 'irresistibly': 16198, 'stanzas': 16199, 'crackles': 16200, 'trickster': 16201, 'Saldanha': 16202, 'Lagaan': 16203, 'Dass': 16204, 'harps': 16205, 'Kurosawa': 16206, 'chomp': 16207, 'Believer': 16208, 'Wraps': 16209, 'madmen': 16210, 'reminiscence': 16211, 'Dumber': 16212, 'glosses': 16213, 'Purely': 16214, 'Sever': 16215, 'Translating': 16216, 'lovefest': 16217, 'edifying': 16218, 'Sprecher': 16219, 'Landings': 16220, 'conceited': 16221, 'fencer': 16222, 'Tailored': 16223, 'disorientated': 16224, 'moviegoer': 16225, 'unerring': 16226, 'Dormer': 16227, 'sillier': 16228, 'piecing': 16229, 'indistinct': 16230, 'regurgitated': 16231, 'ingenue': 16232, 'exuberantly': 16233, 'Energetic': 16234, 'incoherence': 16235, 'AWAY': 16236, 'Dumbo': 16237, 'Eccentric': 16238, 'Escaping': 16239, 'waif': 16240, 'Chaotic': 16241, 'poetically': 16242, 'Tropic': 16243, 'misconceived': 16244, 'MacNaughton': 16245, 'slipshod': 16246, 'Blob': 16247, 'daredevils': 16248, 'Cagney': 16249, 'Groen': 16250, 'Rewarding': 16251, 'schlock': 16252, 'snickers': 16253, 'Beautifully': 16254, 'knucklehead': 16255, 'Chilling': 16256, 'Gayton': 16257, 'slather': 16258, 'Disguise': 16259, 'tweener': 16260, 'devolves': 16261, 'Quotations': 16262, 'megalomaniac': 16263, 'disintegrates': 16264, 'polemical': 16265, 'uproarious': 16266, 'Engages': 16267, 'compassionately': 16268, 'theorizing': 16269, 'clink': 16270, 'camerawork': 16271, 'broiling': 16272, 'neuroses': 16273, 'overhearing': 16274, 'Elling': 16275, 'surrealistic': 16276, 'Lathan': 16277, 'seaworthy': 16278, 'Sica': 16279, 'Swept': 16280, 'unimpeachable': 16281, 'Executed': 16282, 'Salton': 16283, 'impassive': 16284, 'slapdash': 16285, 'Croc': 16286, 'florid': 16287, 'ergo': 16288, 'britches': 16289, 'respectably': 16290, 'Bola': 16291, 'naturalism': 16292, 'Zipper': 16293, 'antidotes': 16294, 'fiendish': 16295, 'haute': 16296, 'lioness': 16297, 'tarantula': 16298, 'cadences': 16299, 'Jie': 16300, 'fu': 16301, 'flaccid': 16302, 'Gondry': 16303, 'middles': 16304, 'timelessness': 16305, 'oversimplification': 16306, 'Elaborate': 16307, 'hopefulness': 16308, 'Shamu': 16309, 'shockers': 16310, 'Overly': 16311, 'Jonze': 16312, 'humanizing': 16313, 'liveliness': 16314, 'Dazzling': 16315, 'Doo': 16316, 'ripoff': 16317, 'ingratiating': 16318, 'Showgirls': 16319, 'mein': 16320, 'Eisenstein': 16321, 'cheapened': 16322, 'Sendak': 16323, 'tooled': 16324, 'amuses': 16325, 'unexamined': 16326, 'bedfellows': 16327, 'Lilia': 16328, 'vicarious': 16329, 'waster': 16330, 'buffoons': 16331, 'contentedly': 16332, 'meatier': 16333, 'Milla': 16334, 'rekindles': 16335, 'contrivance': 16336, 'flashbulbs': 16337, 'hijacks': 16338, 'blandness': 16339, 'fulsome': 16340, 'giddily': 16341, 'Dramatically': 16342, 'plod': 16343, 'Scooby': 16344, 'titillation': 16345, 'squirts': 16346, 'Maids': 16347, 'jones': 16348, 'twirls': 16349, 'omniscient': 16350, 'Bullwinkle': 16351, 'Gidget': 16352, 'serviceability': 16353, 'Loosely': 16354, 'saddens': 16355, 'Tense': 16356, 'XFL': 16357, 'tomfoolery': 16358, 'redeems': 16359, 'Vague': 16360, 'MacDowell': 16361, 'artefact': 16362, 'anthropomorphic': 16363, 'Petrovich': 16364, 'grayish': 16365, 'jaundiced': 16366, 'Rorschach': 16367, 'sublimely': 16368, 'Crypt': 16369, 'Demme': 16370, 'infirmity': 16371, 'intermingling': 16372, 'wallflower': 16373, 'Huppert': 16374, 'engendering': 16375, 'movingly': 16376, 'Shankman': 16377, 'Mulan': 16378, 'Lauper': 16379, 'coos': 16380, 'clumsiness': 16381, 'savvier': 16382, 'muting': 16383, 'entrancing': 16384, 'fistfights': 16385, 'shapeless': 16386, 'confusions': 16387, 'cruelties': 16388, 'densest': 16389, 'satisfyingly': 16390, 'Walken': 16391, 'Rug': 16392, 'blandly': 16393, 'mumbles': 16394, 'superficiality': 16395, 'Theological': 16396, 'blacken': 16397, 'deckhand': 16398, 'Mattei': 16399, 'vaporize': 16400, 'pokey': 16401, 'earthbound': 16402, 'oration': 16403, 'lecherous': 16404, 'ribald': 16405, 'Ghandi': 16406, 'obviousness': 16407, 'deflates': 16408, 'Argento': 16409, 'moviemaker': 16410, 'torpor': 16411, 'subgenre': 16412, 'Tomei': 16413, 'molehill': 16414, 'Kirshner': 16415, 'Goyer': 16416, 'filmic': 16417, 'suffices': 16418, 'witless': 16419, 'ethnographic': 16420, 'gaiety': 16421, 'Kahlo': 16422, 'noblest': 16423, 'mélange': 16424, 'Plutonium': 16425, 'Skolnick': 16426, 'atheistic': 16427, 'comradeship': 16428, 'exploitive': 16429, 'Strap': 16430, 'Thoughtful': 16431, 'humanly': 16432, 'skullduggery': 16433, 'trivializing': 16434, 'fritters': 16435, 'cleverer': 16436, 'LaBute': 16437, 'unburdened': 16438, 'Veronique': 16439, 'scarily': 16440, 'swill': 16441, 'Imitation': 16442, 'screwy': 16443, 'prissy': 16444, 'Stoppard': 16445, 'fidgeted': 16446, 'junctures': 16447, 'Wasabi': 16448, 'dimwitted': 16449, 'Woven': 16450, 'Perdition': 16451, 'fetishes': 16452, 'animatronic': 16453, 'Disgusting': 16454, 'forgoes': 16455, 'cleverest': 16456, 'Toes': 16457, 'Crudup': 16458, 'misbegotten': 16459, 'winces': 16460, 'credulous': 16461, 'furrow': 16462, 'Asquith': 16463, 'immortals': 16464, 'honks': 16465, 'quizzical': 16466, 'consumerist': 16467, 'slumming': 16468, 'Hennings': 16469, 'Macaroni': 16470, 'Lavinia': 16471, 'Vittorio': 16472, 'loneliest': 16473, 'nailbiter': 16474, 'weasels': 16475, 'Sascha': 16476, 'monstrously': 16477, 'wishful': 16478, 'metaphoric': 16479, 'costumer': 16480, 'neurosis': 16481, 'Tremors': 16482, 'bewitched': 16483, 'reductive': 16484, 'Undisputed': 16485, 'Lasker': 16486, 'claptrap': 16487, 'slavishly': 16488, 'Morrissette': 16489, 'standoffish': 16490, 'unlikable': 16491, 'Salle': 16492, 'profundity': 16493, 'persecutions': 16494, 'implodes': 16495, 'plex': 16496, 'neater': 16497, 'Ontiveros': 16498, 'Balzac': 16499, 'buffoonery': 16500, 'Balk': 16501, 'Orc': 16502, 'spiritualism': 16503, 'oo': 16504, 'pallid': 16505, 'gussied': 16506, 'Koury': 16507, 'stolid': 16508, 'bleakness': 16509, 'savviest': 16510, 'subcultures': 16511, 'histrionic': 16512, 'Streamlined': 16513, 'roundhouse': 16514, 'Tout': 16515, 'intermissions': 16516, 'pomposity': 16517, 'deform': 16518, 'smallness': 16519, 'fallibility': 16520, 'mikes': 16521, 'overloads': 16522, 'GUN': 16523, 'goofiness': 16524, 'kindred': 16525, 'louts': 16526, 'ripper': 16527, 'blessedly': 16528, 'hamming': 16529, 'stoops': 16530, 'ut': 16531, 'thrillingly': 16532, 'expressiveness': 16533, 'flounders': 16534, 'undemanding': 16535, 'underdone': 16536, 'juxtapose': 16537, 'ver': 16538, 'perversity': 16539, 'loco': 16540, 'amalgamating': 16541, 'Unbreakable': 16542, 'humping': 16543, 'statecraft': 16544, 'Informative': 16545, 'Aviv': 16546, 'slovenly': 16547, 'prepubescent': 16548, 'Weighted': 16549, 'outshined': 16550, 'kung': 16551, 'Collapses': 16552, 'studiously': 16553, 'Hoult': 16554, 'unrecoverable': 16555, 'fitfully': 16556, 'romanced': 16557, 'grandiosity': 16558, 'sketchbook': 16559, 'fiascos': 16560, 'ineffable': 16561, 'minutely': 16562, 'wackiness': 16563, 'Scrappy': 16564, 'awfulness': 16565, 'antic': 16566, 'Knees': 16567, 'overeager': 16568, 'messiness': 16569, 'quadrangle': 16570, 'Saddled': 16571, 'Dogma': 16572, 'heartrending': 16573, 'gulps': 16574, 'Thrilling': 16575, 'Pompeo': 16576, 'astringent': 16577, 'preprogrammed': 16578, 'byzantine': 16579, 'Schweiger': 16580, 'PHONE': 16581, 'dexterous': 16582, 'sisterly': 16583, 'goodly': 16584, 'overwritten': 16585, 'revisionism': 16586, 'leanest': 16587, 'glibly': 16588, 'schmaltzy': 16589, 'unreality': 16590, 'Tok': 16591, 'Ver': 16592, 'keenest': 16593, 'phonograph': 16594, 'devilishly': 16595, 'rambles': 16596, 'hems': 16597, 'deathly': 16598, 'hooey': 16599, 'rumination': 16600, 'syncopated': 16601, 'heedless': 16602, 'gawky': 16603, 'elapse': 16604, 'skims': 16605, 'Deserves': 16606, 'welled': 16607, 'dullness': 16608, 'oddballs': 16609, 'bode': 16610, 'welt': 16611, 'Pug': 16612, 'hermetic': 16613, 'overcook': 16614, 'Conceptually': 16615, 'Liman': 16616, 'errs': 16617, 'Flamboyant': 16618, 'Buttercup': 16619, 'regurgitation': 16620, 'unexceptional': 16621, 'CELL': 16622, 'actioner': 16623, 'Featherweight': 16624, 'dramatizing': 16625, 'sociopaths': 16626, 'stupefying': 16627, 'doggedness': 16628, 'Bursting': 16629, 'Haneke': 16630, 'disarmingly': 16631, 'Charly': 16632, 'Zoolander': 16633, 'Entirely': 16634, 'Predictable': 16635, 'heartbreakingly': 16636, 'elan': 16637, 'seesawing': 16638, 'Thoroughly': 16639, 'doofus': 16640, 'befuddling': 16641, 'hippopotamus': 16642, 'sloughs': 16643, 'disgracefully': 16644, 'shimmers': 16645, 'Barris': 16646, 'malarkey': 16647, 'rediscovers': 16648, 'Freaky': 16649, 'glinting': 16650, 'misanthropic': 16651, 'inauthentic': 16652, 'relentlessness': 16653, 'Sheds': 16654, 'exhibitionism': 16655, 'Characterization': 16656, 'overproduced': 16657, 'Housekeeping': 16658, 'Charlize': 16659, 'acrid': 16660, 'nonjudgmental': 16661, 'Vile': 16662, 'deliriously': 16663, 'bogged': 16664, 'Persuasion': 16665, 'tendentious': 16666, 'epiphanies': 16667, 'whir': 16668, 'nada': 16669, 'balletic': 16670, 'huskies': 16671, 'Screenwriters': 16672, 'inextricably': 16673, 'pummels': 16674, 'gnat': 16675, 'hipness': 16676, 'Kunis': 16677, 'egomaniac': 16678, 'L.A.': 16679, 'Refreshing': 16680, 'transpose': 16681, 'underarm': 16682, 'larded': 16683, 'punchlines': 16684, 'Feral': 16685, 'irrelevancy': 16686, 'proficiently': 16687, 'appealingly': 16688, 'pandered': 16689, 'creepiness': 16690, 'topnotch': 16691, 'fanatically': 16692, 'ai': 16693, 'Troubling': 16694, 'borderlands': 16695, 'mangle': 16696, 'Binks': 16697, 'CHARLIE': 16698, 'Desperately': 16699, 'dullest': 16700, 'Disappointingly': 16701, 'Loaf': 16702, 'Zaza': 16703, 'elegy': 16704, 'Dahmer': 16705, 'unapproachable': 16706, 'Naipaul': 16707, 'vex': 16708, 'Collinwood': 16709, 'burr': 16710, 'pubescent': 16711, 'schmaltz': 16712, 'telegraphing': 16713, 'Fai': 16714, 'melodramas': 16715, 'Candid': 16716, 'calcified': 16717, 'Silberstein': 16718, 'pathologically': 16719, 'insouciance': 16720, 'tearjerker': 16721, 'Meara': 16722, 'soupy': 16723, 'Bailly': 16724, 'engagingly': 16725, 'rom': 16726, 'Pimental': 16727, 'Choppy': 16728, 'prostituted': 16729, 'repulse': 16730, 'squanders': 16731, 'haranguing': 16732, 'blithe': 16733, 'entertainingly': 16734, 'Thou': 16735, 'Alternating': 16736, 'distressingly': 16737, 'soufflé': 16738, 'Philosophically': 16739, 'Derailed': 16740, 'snoozer': 16741, 'brio': 16742, 'hidebound': 16743, 'Chainsaw': 16744, 'valueless': 16745, 'exhuming': 16746, 'overindulgence': 16747, 'Continually': 16748, 'guffaw': 16749, 'daringly': 16750, 'sensationalize': 16751, 'questing': 16752, 'fryers': 16753, 'Kafkaesque': 16754, 'nubile': 16755, 'Chyna': 16756, 'resonances': 16757, 'Uneasy': 16758, 'lulling': 16759, 'waddling': 16760, 'stagings': 16761, 'Scouse': 16762, 'muckraking': 16763, 'stultifying': 16764, 'digressions': 16765, 'Manages': 16766, 'coulda': 16767, 'reawaken': 16768, 'ENOUGH': 16769, 'looseness': 16770, 'juxtapositions': 16771, 'homages': 16772, 'empathizes': 16773, 'Skulls': 16774, 'innuendoes': 16775, 'airless': 16776, 'Leys': 16777, 'Dense': 16778, 'obnoxiously': 16779, 'clownish': 16780, 'marquis': 16781, 'U.N.': 16782, 'choppiness': 16783, 'boffo': 16784, 'Rho': 16785, 'enjoyably': 16786, 'wending': 16787, 'slickest': 16788, 'unfulfilling': 16789, 'hoofing': 16790, 'unfurls': 16791, 'affectation': 16792, 'amiably': 16793, 'demigod': 16794, 'unrequited': 16795, 'Wim': 16796, 'cluelessness': 16797, 'smutty': 16798, 'hairpiece': 16799, 'yikes': 16800, 'hos': 16801, 'credulity': 16802, 'Fairies': 16803, 'dreck': 16804, 'curtsy': 16805, 'Equilibrium': 16806, 'badness': 16807, 'interlocked': 16808, 'lampoons': 16809, 'DeNiro': 16810, 'newsreels': 16811, 'Polished': 16812, 'Poetic': 16813, 'crescendos': 16814, 'nonthreatening': 16815, 'vertiginous': 16816, 'élan': 16817, 'Foxworthy': 16818, 'breezily': 16819, 'intentioned': 16820, 'repetitively': 16821, 'Bettany': 16822, 'preposterously': 16823, 'trivializes': 16824, 'enthusiasms': 16825, 'avant': 16826, 'Gellar': 16827, 'schlepping': 16828, 'Utterly': 16829, 'Mediocre': 16830, 'Cinematic': 16831, 'Lanie': 16832, 'lobotomy': 16833, 'becalmed': 16834, 'seacoast': 16835, 'inanity': 16836, 'touchingly': 16837, 'meow': 16838, 'patois': 16839, 'talky': 16840, 'verisimilitude': 16841, 'worshipful': 16842, 'subliminally': 16843, 'Dolman': 16844, 'astonish': 16845, 'crème': 16846, 'howlers': 16847, 'lethally': 16848, 'inescapably': 16849, 'Plunges': 16850, 'Fessenden': 16851, 'soporific': 16852, 'ROCKS': 16853, 'adorably': 16854, 'Leaping': 16855, 'Infidelity': 16856, 'treatises': 16857, 'unpersuasive': 16858, 'affronted': 16859, 'hallelujah': 16860, 'avenges': 16861, 'inchoate': 16862, 'Ignorant': 16863, 'Thi': 16864, 'Morgen': 16865, 'Jarecki': 16866, 'unrelentingly': 16867, 'slickness': 16868, 'Amini': 16869, 'huckster': 16870, 'concocts': 16871, 'unmentionable': 16872, 'unsubtle': 16873, 'commiserating': 16874, 'slobbering': 16875, 'Generates': 16876, 'Toback': 16877, 'cheapening': 16878, 'wilts': 16879, 'bogging': 16880, 'Afterschool': 16881, 'outdoes': 16882, 'amnesiac': 16883, 'impudent': 16884, 'airhead': 16885, 'moodiness': 16886, 'thoughtlessly': 16887, 'milquetoast': 16888, 'Transforms': 16889, 'gob': 16890, 'sturdiness': 16891, 'pulpy': 16892, 'modernizes': 16893, 'Bots': 16894, 'invitingly': 16895, 'slickly': 16896, 'Vivi': 16897, 'Sleepers': 16898, 'Flashy': 16899, 'tumbleweeds': 16900, 'classicism': 16901, 'Ecclesiastes': 16902, 'populates': 16903, 'Krige': 16904, 'natured': 16905, 'jangle': 16906, 'narcissists': 16907, 'Raimondi': 16908, 'Uneven': 16909, 'potboiler': 16910, 'enlivens': 16911, 'lolling': 16912, 'interstitial': 16913, 'Binoche': 16914, 'contorting': 16915, 'shambling': 16916, 'dystopia': 16917, 'Bickle': 16918, 'boho': 16919, 'underlay': 16920, 'dawdle': 16921, 'Downbeat': 16922, 'Sonnenfeld': 16923, 'fidget': 16924, 'startles': 16925, 'Granddad': 16926, 'inelegant': 16927, 'Gainsbourg': 16928, 'otherness': 16929, 'hollowness': 16930, 'Addams': 16931, 'prattle': 16932, 'unblinking': 16933, 'Sacre': 16934, 'interminably': 16935, 'Egoyan': 16936, 'improbability': 16937, 'reworks': 16938, 'binging': 16939, 'Aragorn': 16940, 'bromides': 16941, 'Genet': 16942, 'masochism': 16943, 'highfalutin': 16944, 'dingoes': 16945, 'transgressive': 16946, 'dulls': 16947, 'quandaries': 16948, 'Photographed': 16949, 'Mocking': 16950, 'diverges': 16951, 'deportment': 16952, 'hokum': 16953, 'creepiest': 16954, 'Ago': 16955, 'Benjamins': 16956, 'Enriched': 16957, 'tediously': 16958, 'Leguizamo': 16959, 'agitprop': 16960, 'Heathers': 16961, 'swashbuckler': 16962, 'bombards': 16963, 'Astonishing': 16964, 'Kaos': 16965, 'desiccated': 16966, 'irritatingly': 16967, 'Touches': 16968, 'Bugsy': 16969, 'pixilated': 16970, 'tartness': 16971, 'raunch': 16972, 'Exceptionally': 16973, 'imitator': 16974, 'intercut': 16975, 'bowser': 16976, 'hicks': 16977, 'Molony': 16978, 'untalented': 16979, 'Guzmán': 16980, 'murk': 16981, 'dilettante': 16982, 'Brockovich': 16983, 'Boasts': 16984, 'Veggies': 16985, 'stupider': 16986, 'phlegmatic': 16987, 'cinematically': 16988, 'Admirers': 16989, 'dazzlingly': 16990, 'Moulin': 16991, 'Vardalos': 16992, 'thyself': 16993, 'Cassavetes': 16994, 'agape': 16995, 'naturalness': 16996, 'hypocrisies': 16997, 'contrivances': 16998, 'geeked': 16999, 'sleepwalk': 17000, 'loveless': 17001, 'disconcertingly': 17002, 'Goths': 17003, 'mawkish': 17004, 'Bisset': 17005, 'agreeably': 17006, 'recoiling': 17007, 'nuked': 17008, 'robotically': 17009, 'mesmerize': 17010, 'Aesop': 17011, 'lugubrious': 17012, 'Piccoli': 17013, 'slimed': 17014, 'scatological': 17015, 'bespeaks': 17016, 'Marries': 17017, 'yammering': 17018, 'Yvan': 17019, 'camouflaging': 17020, 'Elysian': 17021, 'Humorous': 17022, 'Ze': 17023, 'Ballistic': 17024, 'atonal': 17025, 'bestial': 17026, 'Firestorm': 17027, 'ricochets': 17028, 'overinflated': 17029, 'traffics': 17030, 'Rohmer': 17031, 'willies': 17032, 'lacerating': 17033, 'outrageousness': 17034, 'cribbing': 17035, 'Stylistically': 17036, 'bailiwick': 17037, 'Severely': 17038, 'sabotages': 17039, 'Drags': 17040, 'Rocawear': 17041, 'venality': 17042, 'Dowse': 17043, 'Sorvino': 17044, 'Jovovich': 17045, 'Tavernier': 17046, 'cockney': 17047, 'scorns': 17048, 'thornier': 17049, 'Mixes': 17050, 'vim': 17051, 'João': 17052, 'Bravado': 17053, 'Burkinabe': 17054, 'Meow': 17055, 'Karmen': 17056, 'Fairlane': 17057, 'libertine': 17058, 'gentility': 17059, 'engorged': 17060, 'nuttiness': 17061, 'laziest': 17062, 'disrobed': 17063, 'gratify': 17064, 'pretentiousness': 17065, 'decorous': 17066, 'bon': 17067, 'Imperfect': 17068, 'slogs': 17069, 'Deliberately': 17070, 'enthronement': 17071, 'stave': 17072, 'recognizably': 17073, 'Banal': 17074, 'cockeyed': 17075, 'psychodrama': 17076, 'erects': 17077, 'Sorcerer': 17078, 'illogic': 17079, 'cribbed': 17080, 'naïveté': 17081, 'dunce': 17082, 'Stains': 17083, 'Arty': 17084, 'lensing': 17085, 'Sparkles': 17086, 'treacle': 17087, 'nonconformist': 17088, 'mournfully': 17089, 'emigre': 17090, 'flavorless': 17091, 'unromantic': 17092, 'Sinise': 17093, 'Piscopo': 17094, 'soppy': 17095, 'dynamited': 17096, 'Balto': 17097, 'no.': 17098, 'bodacious': 17099, 'Château': 17100, 'porthole': 17101, 'Stepford': 17102, 'Neuwirth': 17103, 'earthshaking': 17104, 'coeducational': 17105, 'lactating': 17106, 'Raccoons': 17107, 'Avary': 17108, 'Babak': 17109, 'strictness': 17110, 'Presson': 17111, 'Staggers': 17112, 'damsels': 17113, 'cockamamie': 17114, 'Unfaithful': 17115, 'boldface': 17116, 'Melodrama': 17117, 'unpleasantly': 17118, 'lamentations': 17119, 'varmints': 17120, 'affability': 17121, 'percolates': 17122, 'jammies': 17123, 'frights': 17124, 'thuds': 17125, 'seamy': 17126, 'monosyllabic': 17127, 'wearisome': 17128, 'existentialism': 17129, 'curio': 17130, 'herbivore': 17131, 'charmless': 17132, 'Milder': 17133, 'epochs': 17134, 'telegraphs': 17135, 'artificiality': 17136, 'Dwarfs': 17137, 'languorous': 17138, 'wreaks': 17139, 'whirls': 17140, 'goulash': 17141, 'Undiscovered': 17142, 'Trekkie': 17143, 'exoticism': 17144, 'Rugrats': 17145, 'conceits': 17146, 'atypically': 17147, 'unspeakably': 17148, 'paunchy': 17149, 'preciousness': 17150, 'interweaves': 17151, 'bullfighters': 17152, 'Clayburgh': 17153, 'befuddlement': 17154, 'travail': 17155, 'fantasia': 17156, 'puffery': 17157, 'Wiel': 17158, 'Moot': 17159, 'bedevils': 17160, 'Stirs': 17161, 'interrelationships': 17162, 'expressionistic': 17163, 'overripe': 17164, 'careens': 17165, 'honeys': 17166, 'defoliation': 17167, 'Adrift': 17168, 'Bogdanovich': 17169, 'doddering': 17170, 'Benigni': 17171, 'sniffle': 17172, 'sophisticates': 17173, 'fixating': 17174, 'Caviezel': 17175, 'Symbolically': 17176, 'meanderings': 17177, 'whiney': 17178, 'Cranky': 17179, 'Cuaron': 17180, 'Estela': 17181, 'soliloquies': 17182, 'patchouli': 17183, 'sadists': 17184, 'Papin': 17185, 'unmemorable': 17186, 'unschooled': 17187, 'Rodan': 17188, 'Shinya': 17189, 'documentarians': 17190, 'atavistic': 17191, 'Diverting': 17192, 'Kjell': 17193, 'hankies': 17194, 'Merci': 17195, 'bellyaching': 17196, 'unturned': 17197, 'nonprofessional': 17198, \"n't\": 17199, 'ineptly': 17200, 'Ronn': 17201, 'pleaser': 17202, 'barf': 17203, 'Morph': 17204, 'Exploits': 17205, 'folktales': 17206, 'minty': 17207, 'libidinous': 17208, 'fusty': 17209, 'Almodóvar': 17210, 'cheapo': 17211, 'rehashes': 17212, 'Defies': 17213, 'sickeningly': 17214, 'Oleander': 17215, 'mends': 17216, 'astounds': 17217, 'Truffaut': 17218, 'Chimpanzees': 17219, 'imitative': 17220, 'graceless': 17221, 'persnickety': 17222, 'recessive': 17223, 'diffuses': 17224, 'shadings': 17225, 'Sits': 17226, 'tonally': 17227, 'Verbinski': 17228, 'Belongs': 17229, 'twaddle': 17230, 'expedience': 17231, 'expository': 17232, 'cleaving': 17233, 'ick': 17234, 'grubbing': 17235, 'knockabout': 17236, 'Parmentier': 17237, 'Intermezzo': 17238, 'lazier': 17239, 'bloodsucker': 17240, 'sanctimony': 17241, 'Butthead': 17242, 'plods': 17243, 'Originality': 17244, 'fuzziness': 17245, 'nonagenarian': 17246, 'Alagna': 17247, 'kickass': 17248, 'trifles': 17249, 'Musketeer': 17250, 'megaplex': 17251, 'Everlasting': 17252, 'Sacrifices': 17253, 'badder': 17254, 'wedgie': 17255, 'Dodgy': 17256, 'reimagine': 17257, 'yawner': 17258, 'backrooms': 17259, 'Femme': 17260, 'Gheorghiu': 17261, 'Drumline': 17262, 'perdition': 17263, 'hubristic': 17264, 'purposeless': 17265, 'Connoisseurs': 17266, 'jackasses': 17267, 'Chabrol': 17268, 'dreamscape': 17269, 'enactments': 17270, 'Minkoff': 17271, 'vocalized': 17272, 'Solondz': 17273, 'clambake': 17274, 'plumbs': 17275, 'Weirdly': 17276, 'Nijinsky': 17277, 'hews': 17278, 'languidly': 17279, 'Hunk': 17280, 'TelePrompTer': 17281, 'unrewarding': 17282, 'indescribably': 17283, 'Abandons': 17284, 'brogue': 17285, 'Illuminating': 17286, 'uselessly': 17287, 'reenacting': 17288, 'slashers': 17289, 'rouses': 17290, 'Zaidan': 17291, 'recasts': 17292, 'demonizes': 17293, 'broaches': 17294, 'palaver': 17295, 'mordant': 17296, 'Harmless': 17297, 'indigestible': 17298, 'Apted': 17299, 'SECRETARY': 17300, 'Dramas': 17301, 'veiling': 17302, 'Garbus': 17303, 'horrifyingly': 17304, 'Handled': 17305, 'mishandle': 17306, 'divining': 17307, 'dogmatism': 17308, 'sexualization': 17309, 'Ado': 17310, 'wondrously': 17311, 'Devos': 17312, 'infuriatingly': 17313, 'Tadpole': 17314, 'limply': 17315, 'Gryffindor': 17316, 'Willams': 17317, 'inquisitiveness': 17318, 'Disturbingly': 17319, 'Moderately': 17320, 'villainess': 17321, 'Lothario': 17322, 'despising': 17323, 'presuppose': 17324, 'grossest': 17325, 'Inventive': 17326, 'coarseness': 17327, 'sudsy': 17328, 'Tarantula': 17329, 'Cristo': 17330, 'GUYS': 17331, 'somnolent': 17332, 'cornball': 17333, 'gushy': 17334, 'unspool': 17335, 'lushness': 17336, 'rez': 17337, 'electrocute': 17338, 'Baio': 17339, 'reductionist': 17340, 'scummy': 17341, 'Kilner': 17342, 'Kiarostami': 17343, 'Ahhhh': 17344, 'treacly': 17345, 'keening': 17346, 'irredeemably': 17347, 'simpering': 17348, 'Wittgenstein': 17349, 'rhapsodic': 17350, 'Hélène': 17351, 'raindrop': 17352, 'clamorous': 17353, 'winningly': 17354, 'Shiri': 17355, 'turfs': 17356, 'ensnaring': 17357, 'paeans': 17358, 'lector': 17359, 'Wenders': 17360, 'pointlessness': 17361, 'unmentionables': 17362, 'cackles': 17363, 'Breheny': 17364, 'Reassuring': 17365, 'ethnography': 17366, 'LaPaglia': 17367, 'devotedly': 17368, 'atrociously': 17369, 'fiendishly': 17370, 'Quills': 17371, 'scathingly': 17372, 'blarney': 17373, 'unforgettably': 17374, 'Tso': 17375, 'Doorstep': 17376, 'sourness': 17377, 'idiosyncrasy': 17378, 'harangues': 17379, 'Coven': 17380, 'Alternates': 17381, 'Nalin': 17382, 'unforgivably': 17383, 'horrifies': 17384, 'ces': 17385, 'Heidegger': 17386, 'numbs': 17387, 'odorous': 17388, 'manically': 17389, 'cooly': 17390, 'Cliffhanger': 17391, 'Hrs': 17392, 'triviality': 17393, 'Rhames': 17394, 'vainglorious': 17395, 'botches': 17396, 'cheesiness': 17397, 'Shandling': 17398, 'tarted': 17399, 'Banzai': 17400, 'Sterile': 17401, 'ladles': 17402, 'Deserving': 17403, 'forcefulness': 17404, 'Turturro': 17405, 'thesps': 17406, 'Spall': 17407, 'Corny': 17408, 'Payoff': 17409, 'peevish': 17410, 'boosterism': 17411, 'Derrida': 17412, 'Quelle': 17413, 'Abbass': 17414, 'Juni': 17415, 'grittiest': 17416, 'consigliere': 17417, 'unconventionally': 17418, 'Hemmingway': 17419, 'evanescent': 17420, 'sermonizing': 17421, 'expressively': 17422, 'inventively': 17423, 'quietude': 17424, 'Shattering': 17425, 'Hideo': 17426, 'inanities': 17427, 'lushly': 17428, 'Banger': 17429, 'Tautou': 17430, 'novelistic': 17431, 'Sandrine': 17432, 'unremittingly': 17433, 'sugarcoated': 17434, 'Clumsy': 17435, 'sorriest': 17436, 'Orgasm': 17437, 'Burkina': 17438, 'tartly': 17439, 'fetishism': 17440, 'italicized': 17441, 'blab': 17442, 'distended': 17443, 'Scarcely': 17444, 'crudeness': 17445, 'basted': 17446, 'phoniness': 17447, 'melancholia': 17448, 'schlocky': 17449, 'feminized': 17450, 'rampantly': 17451, 'naptime': 17452, 'raucously': 17453, 'argot': 17454, 'limpid': 17455, 'Lecter': 17456, 'reedy': 17457, 'enervating': 17458, 'rollerblades': 17459, 'Poignant': 17460, 'Hitchcockian': 17461, 'nutjob': 17462, 'Worthless': 17463, 'artless': 17464, 'obliviousness': 17465, 'hedonist': 17466, 'Crammed': 17467, 'Absorbing': 17468, 'galled': 17469, 'Sensual': 17470, 'beaut': 17471, 'Succeeds': 17472, 'Fanboy': 17473, 'Privates': 17474, 'amorality': 17475, 'flails': 17476, 'Uplifting': 17477, 'urinates': 17478, 'crushingly': 17479, 'Overcomes': 17480, 'disassociation': 17481, 'Amélie': 17482, 'Bille': 17483, 'fervid': 17484, 'GoodFellas': 17485, 'McDormand': 17486, 'Niro': 17487, 'sturdiest': 17488, 'subzero': 17489, 'poetics': 17490, 'incarnated': 17491, 'Orlean': 17492, 'referential': 17493, 'archly': 17494, 'Blimp': 17495, 'Qualities': 17496, 'Glazed': 17497, 'Distances': 17498, 'hypnotically': 17499, 'Chaiken': 17500, 'Devoid': 17501, 'Wobbly': 17502, 'piffle': 17503, 'Galinsky': 17504, 'Brilliantly': 17505, 'Nouvelle': 17506, 'defuses': 17507, 'Potemkin': 17508, 'Homeboy': 17509, 'subtlest': 17510, 'Peppered': 17511, 'basest': 17512, 'weirded': 17513, 'Enticing': 17514, 'insultingly': 17515, 'irrigates': 17516, 'cowrote': 17517, 'Consists': 17518, 'flatfooted': 17519, 'fabulousness': 17520, 'lumpen': 17521, 'Carvey': 17522, 'Serry': 17523, 'cryin': 17524, 'inhalant': 17525, 'foo': 17526, 'wretchedness': 17527, 'yuks': 17528, 'wazoo': 17529, 'unlikeable': 17530, 'Majidi': 17531, 'blaxploitation': 17532, 'whooshing': 17533, 'crassness': 17534, 'Sandeman': 17535, 'gestalt': 17536, 'grimness': 17537, 'Frustratingly': 17538, 'Borrows': 17539, 'VeggieTales': 17540, 'formalism': 17541, 'Screenwriting': 17542, 'Wildly': 17543, 'Softly': 17544, 'warthog': 17545, 'Zany': 17546, 'Byatt': 17547, 'clotted': 17548, 'intelligibility': 17549, 'arcana': 17550, 'Miike': 17551, 'ron': 17552, 'oppressively': 17553, 'Tambor': 17554, 'Laced': 17555, 'Deuces': 17556, 'icily': 17557, 'misanthropy': 17558, 'Hugely': 17559, 'exalts': 17560, 'psychopathy': 17561, 'repugnance': 17562, 'oafish': 17563, 'roughage': 17564, 'Passer': 17565, 'infectiously': 17566, 'Maelstrom': 17567, 'teenybopper': 17568, 'druggy': 17569, 'Sucking': 17570, 'dyspeptic': 17571, 'Straightforward': 17572, 'urbanity': 17573, 'solipsistic': 17574, 'uncreative': 17575, 'Waterboy': 17576, 'Shrewd': 17577, 'imbecilic': 17578, 'Ozu': 17579, 'Perceptive': 17580, 'Tezuka': 17581, 'Impresses': 17582, 'jettisons': 17583, 'Schnitzler': 17584, 'deviously': 17585, 'Thewlis': 17586, 'Suge': 17587, 'nonconformity': 17588, 'Holofcener': 17589, 'jazzman': 17590, 'fil': 17591, 'Charade': 17592, 'crassly': 17593, 'implausibility': 17594, 'Buckaroo': 17595, 'lovably': 17596, 'Freundlich': 17597, 'assuredness': 17598, 'pablum': 17599, 'limerick': 17600, 'CHiPs': 17601, 'sci': 17602, 'Mindless': 17603, 'torpid': 17604, 'Leppard': 17605, 'Abomination': 17606, 'outré': 17607, 'Patchy': 17608, 'Jeunet': 17609, 'chortles': 17610, 'Sweetest': 17611, 'huggers': 17612, 'Boldly': 17613, 'bleakly': 17614, 'Nanook': 17615, 'McCrudden': 17616, 'moralism': 17617, 'Cattaneo': 17618, 'natter': 17619, 'swaggers': 17620, 'commodified': 17621, 'Viveka': 17622, 'picaresque': 17623, 'meddles': 17624, 'Fassbinder': 17625, 'overreaches': 17626, 'drawling': 17627, 'Painfully': 17628, 'vu': 17629, 'haughtiness': 17630, 'Kurupt': 17631, 'Lends': 17632, 'goofiest': 17633, 'anomie': 17634, 'Bluto': 17635, 'decrepitude': 17636, 'spookily': 17637, 'Genuinely': 17638, 'unpicked': 17639, 'Tufano': 17640, 'ditsy': 17641, 'Kidnapper': 17642, 'classism': 17643, 'Undone': 17644, 'personifying': 17645, 'Creeps': 17646, 'scuzzy': 17647, 'somebodies': 17648, 'insufferably': 17649, 'tuneless': 17650, 'Coarse': 17651, 'Falters': 17652, 'bracingly': 17653, 'lingual': 17654, 'Earnhart': 17655, 'assaultive': 17656, 'Mildly': 17657, 'croaks': 17658, 'Brooms': 17659, 'WEIRD': 17660, 'underplays': 17661, 'Swims': 17662, 'Bjarne': 17663, 'cheesiest': 17664, 'crudity': 17665, 'schmucks': 17666, 'kegger': 17667, 'qual': 17668, 'contriving': 17669, 'moldering': 17670, 'Slackers': 17671, 'sleekness': 17672, 'Fangoria': 17673, 'sleekly': 17674, 'subtexts': 17675, 'puréed': 17676, 'Tsukamoto': 17677, 'dimwits': 17678, 'raffish': 17679, 'Shindler': 17680, 'doodled': 17681, 'malapropisms': 17682, 'Tornatore': 17683, 'Ludicrous': 17684, 'Switchblade': 17685, 'Wannabes': 17686, 'Reinforces': 17687, 'fetishistic': 17688, 'wretchedly': 17689, 'poky': 17690, 'Ichi': 17691, 'Homeric': 17692, 'souvlaki': 17693, 'Bueller': 17694, 'subdues': 17695, 'Marinated': 17696, 'maladjusted': 17697, 'Scarpia': 17698, 'Stale': 17699, 'Gaghan': 17700, 'Murderous': 17701, 'numbingly': 17702, 'Honoré': 17703, 'effusion': 17704, 'wittier': 17705, 'Mazel': 17706, 'cinephile': 17707, 'dramaturgy': 17708, 'vibrance': 17709, 'Abagnale': 17710, 'Swiftly': 17711, 'Stinks': 17712, 'Pasolini': 17713, 'Rohypnol': 17714, 'insightfully': 17715, 'guiltless': 17716, 'wheezy': 17717, 'virulently': 17718, 'nauseatingly': 17719, 'rejigger': 17720, 'Michèle': 17721, 'Buries': 17722, 'obscurities': 17723, 'ultraviolent': 17724, 'Eurotrash': 17725, 'Akasha': 17726, 'Imamura': 17727, 'Hudlin': 17728, 'sharpener': 17729, 'unfree': 17730, 'Reggio': 17731, 'charmers': 17732, 'chiaroscuro': 17733, 'Aggravating': 17734, 'alchemical': 17735, 'Exists': 17736, 'Arwen': 17737, 'despairingly': 17738, 'Jewison': 17739, 'stammers': 17740, 'perceptively': 17741, 'Adroit': 17742, 'flabbergasting': 17743, 'pabulum': 17744, 'setpiece': 17745, 'Auteuil': 17746, 'Goldmember': 17747, 'Carlen': 17748, 'situates': 17749, 'Schnieder': 17750, 'Sirk': 17751, 'mortarboards': 17752, 'Vulgar': 17753, 'prima': 17754, 'peekaboo': 17755, 'passably': 17756, 'kvetch': 17757, 'fudges': 17758, 'jostles': 17759, 'Brainy': 17760, 'Widowmaker': 17761, 'fiascoes': 17762, 'lobotomized': 17763, 'boorishness': 17764, 'Aptly': 17765, 'Thulani': 17766, 'Admirable': 17767, 'Preposterous': 17768, 'characterisations': 17769, 'uncharismatic': 17770, 'staleness': 17771, 'Sparse': 17772, 'deceivingly': 17773, 'Missteps': 17774, 'nincompoop': 17775, 'Chomp': 17776, 'Sunk': 17777, 'Touché': 17778, 'Kouyate': 17779, 'Trivial': 17780, 'hairier': 17781, 'Turnabout': 17782, 'Romanek': 17783, 'Putty': 17784, 'Dripping': 17785, 'overstays': 17786, 'solipsism': 17787, 'debases': 17788, 'Smug': 17789, 'unindicted': 17790, 'Weighty': 17791, 'unrelieved': 17792, 'Dogme': 17793, 'Clearasil': 17794, 'idiotically': 17795, 'Involves': 17796, 'Arthouse': 17797, 'Christelle': 17798, 'Spousal': 17799, 'comedically': 17800, 'bathos': 17801, 'stylishness': 17802, 'Intensely': 17803, 'Subversive': 17804, 'scotches': 17805, 'completists': 17806, 'Yorker': 17807, 'Ahola': 17808, 'careworn': 17809, 'slopped': 17810, 'muy': 17811, 'Rampling': 17812, 'Snuggle': 17813, 'constrictive': 17814, 'Boogaloo': 17815, 'pinheads': 17816, 'Oliviera': 17817, 'Beatnik': 17818, 'fiftysomething': 17819, 'copout': 17820, 'mystification': 17821, 'Assayas': 17822, 'Maudlin': 17823, 'beachcombing': 17824, 'preciously': 17825, 'incurious': 17826, 'inquisitions': 17827, 'Malle': 17828, 'sorrowfully': 17829, 'unendurable': 17830, 'Inherently': 17831, 'laddish': 17832, 'companionable': 17833, 'unselfconscious': 17834, 'mopes': 17835, 'overstimulated': 17836, 'unlistenable': 17837, 'spiffing': 17838, 'Crackerjack': 17839, 'sociologically': 17840, 'Metaphors': 17841, 'dualistic': 17842, 'catsup': 17843, 'Prophecies': 17844, 'Insurrection': 17845, 'S.C.': 17846, 'Anemic': 17847, 'narratively': 17848, 'hooters': 17849, 'temptingly': 17850, 'zags': 17851, 'Giggling': 17852, 'Manhunter': 17853, 'evincing': 17854, 'punchier': 17855, 'mimetic': 17856, 'satyr': 17857, 'chomps': 17858, 'Audiard': 17859, 'lisping': 17860, 'wheedling': 17861, 'lamer': 17862, 'frittered': 17863, 'Jacquot': 17864, 'amiability': 17865, 'Sydow': 17866, 'Lampoon': 17867, 'Indecent': 17868, 'Affable': 17869, 'bewilderingly': 17870, 'quirkily': 17871, 'recapitulation': 17872, 'rejiggering': 17873, 'perkiness': 17874, 'dullard': 17875, 'spookiness': 17876, 'Dazzles': 17877, 'stagy': 17878, 'Chaykin': 17879, 'flakiness': 17880, 'geniality': 17881, 'Resourceful': 17882, 'Cuarón': 17883, 'respites': 17884, 'zigs': 17885, 'setpieces': 17886, 'Imposter': 17887, 'Wachowski': 17888, 'undramatic': 17889, 'slaloming': 17890, 'tastelessness': 17891, 'Upsetting': 17892, 'plotless': 17893, 'byplay': 17894, 'Splashes': 17895, 'Rollerball': 17896, 'indulgently': 17897, 'Hilariously': 17898, 'grandiloquent': 17899, 'spates': 17900, 'Crit': 17901, 'Yosuke': 17902, 'rockumentary': 17903, 'Changer': 17904, 'formalist': 17905, 'lionize': 17906, 'Maik': 17907, 'sunbaked': 17908, 'sentimentalist': 17909, 'unsettlingly': 17910, 'kilted': 17911, 'stagey': 17912, 'lethargically': 17913, 'Belinsky': 17914, 'Ringu': 17915, 'transmute': 17916, 'xXx': 17917, 'Maneuvers': 17918, 'draggy': 17919, 'Celebi': 17920, 'Kazmierski': 17921, 'whippersnappers': 17922, 'restage': 17923, 'flimsier': 17924, 'Leery': 17925, 'Fubar': 17926, 'uncommercial': 17927, 'swashbucklers': 17928, 'Extremities': 17929, 'stupidities': 17930, 'modus': 17931, 'venturesome': 17932, 'Iwai': 17933, 'Kirkegaard': 17934, 'Nachtwey': 17935, 'blisteringly': 17936, 'cultist': 17937, 'inexpressible': 17938, 'outre': 17939, 'playas': 17940, 'Sidey': 17941, 'grandness': 17942, 'Meandering': 17943, 'Nostra': 17944, 'Eerily': 17945, 'erotically': 17946, 'Marxian': 17947, 'seductiveness': 17948, 'jived': 17949, 'regurgitates': 17950, 'slipperiness': 17951, 'circularity': 17952, 'Flounders': 17953, 'falseness': 17954, 'nouvelle': 17955, 'jazzes': 17956, 'aimlessness': 17957, 'CliffsNotes': 17958, 'hyphenate': 17959, 'pretentiously': 17960, 'shallowly': 17961, 'herrings': 17962, 'dullards': 17963, 'Illiterate': 17964, 'Dolgin': 17965, 'dumbness': 17966, 'Dignified': 17967, 'headbanger': 17968, 'Breckin': 17969, 'Exhilarating': 17970, 'wiseacre': 17971, 'Makhmalbaf': 17972, 'enervated': 17973, 'Tykwer': 17974, 'Lugosi': 17975, 'Implicitly': 17976, 'Simplistic': 17977, 'cheesier': 17978, 'fandango': 17979, 'festooning': 17980, 'Wanders': 17981, 'Bogs': 17982, 'ponderously': 17983, 'Ruggero': 17984, 'convolutions': 17985, 'blazingly': 17986, 'squaddie': 17987, 'Ouzo': 17988, 'zings': 17989, 'Bladerunner': 17990, 'Gadzooks': 17991, 'fetishized': 17992, 'Neatly': 17993, 'Dadaist': 17994, 'Crummy': 17995, 'Girardot': 17996, 'Feeble': 17997, 'stubbly': 17998, 'Grainy': 17999, 'Tarkovsky': 18000, '4W': 18001, 'uhhh': 18002, 'spycraft': 18003, 'Bartleby': 18004, 'freakshow': 18005, 'dimness': 18006, 'jags': 18007, 'Shadyac': 18008, 'literarily': 18009, 'Precocious': 18010, 'gorgeousness': 18011, 'unrepentantly': 18012, 'manchild': 18013, 'Cavaradossi': 18014, 'Feelgood': 18015, 'lucks': 18016, 'Entertains': 18017, 'retch': 18018, 'Buñuel': 18019, 'Houseboat': 18020, 'goofily': 18021, 'Cliches': 18022, 'Philibert': 18023, 'Gauls': 18024, 'screwups': 18025, 'incurably': 18026, 'Berling': 18027, 'mythmaking': 18028, 'Dreary': 18029, 'rhapsodize': 18030, 'Kuras': 18031, 'villians': 18032, 'Slapstick': 18033, 'Droll': 18034, 'Unspeakable': 18035, 'Impostor': 18036, 'luridly': 18037, 'Dankworth': 18038, 'Flotsam': 18039, 'Confounding': 18040, 'pleasuring': 18041, 'decipherable': 18042, 'Boisterous': 18043, 'Deflated': 18044, 'glacially': 18045, 'fatalist': 18046, 'actorly': 18047, 'Affectionately': 18048, 'unfilmable': 18049, 'Petroni': 18050, 'animé': 18051, 'Antwone': 18052, 'Nohe': 18053, 'Francophiles': 18054, 'martinet': 18055, 'rainwear': 18056, 'Arliss': 18057, 'Scorcese': 18058, 'postapocalyptic': 18059, 'Deliciously': 18060, 'convolution': 18061, 'Mothman': 18062, 'Frenetic': 18063, 'Flatman': 18064, 'Szpilman': 18065, 'Wimps': 18066, 'Manipulative': 18067, 'megaplexes': 18068, 'tinseltown': 18069, 'Skillful': 18070, 'perspicacious': 18071, 'ame': 18072, 'SC2': 18073, 'Manoel': 18074, 'Idiotic': 18075, 'Brutally': 18076, 'Smothered': 18077, 'bonbon': 18078, 'Irwins': 18079, 'bleu': 18080, 'Aan': 18081, 'Decter': 18082, 'Roussillon': 18083, 'Attal': 18084, 'Downright': 18085, 'Puritanical': 18086, 'disquisition': 18087, 'rootlessness': 18088, 'gullets': 18089, 'scalds': 18090, 'Grabowsky': 18091, 'flashbulb': 18092, 'Superbly': 18093, 'farcically': 18094, 'sprinklings': 18095, 'Observant': 18096, 'Hundert': 18097, 'Reeks': 18098, 'dictums': 18099, 'drabness': 18100, 'ballpoint': 18101, 'luvvies': 18102, 'Aurelie': 18103, 'Otar': 18104, 'Broca': 18105, 'Heartwarming': 18106, 'tantalizes': 18107, 'Tedious': 18108, 'hackery': 18109, 'uproariously': 18110, 'knowingness': 18111, 'Herek': 18112, 'uninvolving': 18113, 'Meeropol': 18114, 'fastidiousness': 18115, 'Sustains': 18116, 'windbags': 18117, 'Admirably': 18118, 'schizo': 18119, 'improbabilities': 18120, 'Muddled': 18121, 'adrenalized': 18122, 'leonine': 18123, 'Jagjit': 18124, 'somnambulant': 18125, 'Rubbo': 18126, 'Chokes': 18127, 'Vaguely': 18128, 'punny': 18129, 'TAY': 18130, 'sidesplitting': 18131, 'Unbearable': 18132, 'plainness': 18133, 'Frontal': 18134, 'coltish': 18135, 'inanely': 18136, 'Flavorful': 18137, 'turntablism': 18138, 'gasbag': 18139, 'Meticulously': 18140, 'complexly': 18141, 'spiritless': 18142, 'moodily': 18143, 'Ohlinger': 18144, 'neurotics': 18145, 'hagiographic': 18146, 'Elegantly': 18147, 'Lovingly': 18148, 'Ryoko': 18149, 'verite': 18150, 'ragbag': 18151, 'Twohy': 18152, 'politesse': 18153, 'leers': 18154, 'Repulsion': 18155, 'desecrations': 18156, 'unsatisfactorily': 18157, 'sexploitation': 18158, 'simpleminded': 18159, 'Floria': 18160, 'Bledel': 18161, 'proctologist': 18162, 'Blethyn': 18163, 'Pretentious': 18164, 'substitutable': 18165, 'completist': 18166, 'Muccino': 18167, 'Insanely': 18168, 'exhaustingly': 18169, 'tiresomely': 18170, 'Fulfills': 18171, 'Dissing': 18172, 'screamingly': 18173, 'hile': 18174, 'dreaminess': 18175, 'doltish': 18176, 'Niccol': 18177, 'Richly': 18178, 'snoozy': 18179, 'Lucía': 18180, 'lucratively': 18181, 'gorefest': 18182, 'incarnates': 18183, 'Tends': 18184, 'hardhearted': 18185, 'Consummate': 18186, 'didacticism': 18187, 'impetuousness': 18188, 'Legged': 18189, 'rhapsodizes': 18190, 'gambol': 18191, 'Crimen': 18192, 'haplessness': 18193, 'métier': 18194, 'sleaziness': 18195, 'CleanFlicks': 18196, 'seriocomic': 18197, 'deliberateness': 18198, 'Laurice': 18199, 'Unfolds': 18200, 'Cantet': 18201, 'pleasurably': 18202, 'swoony': 18203, 'Janszen': 18204, 'odoriferous': 18205, 'engross': 18206, 'Yorkers': 18207, 'amateurishly': 18208, 'incinerates': 18209, 'Medem': 18210, 'Topkapi': 18211, 'kittenish': 18212, 'Distinctly': 18213, 'unessential': 18214, 'mythologizing': 18215, 'Breillat': 18216, 'perceptiveness': 18217, 'Frailty': 18218, 'Windtalkers': 18219, 'Solomonic': 18220, 'Notting': 18221, 'preposterousness': 18222, 'blobby': 18223, 'codswallop': 18224, 'Weaves': 18225, 'forbearing': 18226, 'vidgame': 18227, 'pulchritude': 18228, 'blacklight': 18229, 'exhilaratingly': 18230, 'hamfisted': 18231, 'Musker': 18232, 'Ribisi': 18233, 'swordfights': 18234, 'beause': 18235, 'Snide': 18236, 'sappiness': 18237, 'flava': 18238, 'Pompous': 18239, 'Soulless': 18240, 'Rinzler': 18241, 'Seigner': 18242, 'spoofy': 18243, 'Hopelessly': 18244, 'Retard': 18245, 'showiness': 18246, 'Adobo': 18247, 'naïf': 18248, 'overacted': 18249, 'cloyingly': 18250, 'transferral': 18251, 'litmus': 18252, 'groaners': 18253, 'Kieslowski': 18254, 'Coughs': 18255, 'idealistically': 18256, 'Elfriede': 18257, 'poignance': 18258, 'boogaloo': 18259, 'hmmmmm': 18260, 'affectingly': 18261, 'anteing': 18262, 'hideousness': 18263, 'Savoca': 18264, 'rugrats': 18265, 'corniness': 18266, 'halfwit': 18267, 'unblinkingly': 18268, 'Squandering': 18269, 'funniness': 18270, 'Gulpilil': 18271, 'outlandishness': 18272, 'crosscuts': 18273, 'extemporaneously': 18274, 'Lurid': 18275, 'Partway': 18276, 'Escapism': 18277, 'Exquisitely': 18278, 'chateaus': 18279, 'Headly': 18280, 'Methodical': 18281, 'Desplat': 18282, 'deja': 18283, 'Laggard': 18284, 'actioners': 18285, 'Rusi': 18286, 'gratingly': 18287, 'congeals': 18288, 'groaner': 18289, 'prankish': 18290, 'Horrid': 18291, 'cartoonlike': 18292, 'wolfish': 18293, 'Andys': 18294, 'Preaches': 18295, 'Molested': 18296, 'exasperatingly': 18297, 'fictionalize': 18298, 'Depicts': 18299, 'Brims': 18300, 'Thandie': 18301, 'Depressingly': 18302, 'gelati': 18303, 'Nervy': 18304, 'psychoanalytical': 18305, 'pyschological': 18306, 'Friggin': 18307, 'captivatingly': 18308, 'raison': 18309, 'refracting': 18310, 'wonderous': 18311, 'Jaunty': 18312, 'shellshock': 18313, 'lapdance': 18314, 'Abderrahmane': 18315, 'preciseness': 18316, 'Trite': 18317, 'Rubenesque': 18318, 'Westfeldt': 18319, 'unimaginatively': 18320, 'Shamelessly': 18321, 'brusqueness': 18322, 'suavity': 18323, 'niftiest': 18324, 'sogginess': 18325, 'defecates': 18326, 'mirthless': 18327, 'Wanker': 18328, 'donna': 18329, 'Russos': 18330, 'Cosa': 18331, 'Magnifique': 18332, 'romancer': 18333, 'Perabo': 18334, 'colonics': 18335, 'Farenheit': 18336, 'elliptically': 18337, 'inexpressive': 18338, 'clunkiness': 18339, 'Reeses': 18340, 'Sampi': 18341, 'Videodrome': 18342, 'Carré': 18343, 'Peploe': 18344, 'murkiest': 18345, 'Bolado': 18346, 'Besco': 18347, 'Seamstress': 18348, 'Undressed': 18349, 'infantilized': 18350, 'Opportunists': 18351, 'Thoughtless': 18352, 'Nolden': 18353, 'Stuffy': 18354, 'Highbrow': 18355, 'dizzily': 18356, 'Verdu': 18357, 'depersonalization': 18358, 'Enthusiastically': 18359, 'skippable': 18360, 'amateurishness': 18361, 'Unintelligible': 18362, 'Desplechin': 18363, 'breeziness': 18364, 'moppets': 18365, 'triteness': 18366, 'molto': 18367, 'Forgettable': 18368, 'Predecessors': 18369, 'Slob': 18370, 'SONNY': 18371, 'smeary': 18372, 'dolorous': 18373, 'scripters': 18374, 'aggrandizing': 18375, 'Lightness': 18376, 'Damme': 18377, 'Yimou': 18378, 'grittily': 18379, 'intoxicatingly': 18380, 'Contradicts': 18381, 'corniest': 18382, 'moviehouse': 18383, 'Fatale': 18384, 'Dridi': 18385, 'Carion': 18386, 'Confuses': 18387, 'huggy': 18388, 'bigotries': 18389, 'Wladyslaw': 18390, 'eroticized': 18391, 'Iben': 18392, 'Deblois': 18393, 'Croze': 18394, 'Contrived': 18395, 'Smoochy': 18396, 'Enormously': 18397, 'Pyromania': 18398, 'cornpone': 18399, 'Concubine': 18400, 'turntablists': 18401, 'scarifying': 18402, 'exhilarate': 18403, 'Hunnam': 18404, 'Blaxploitation': 18405, 'Jaglom': 18406, 'Grating': 18407, 'Succumbs': 18408, 'Aloof': 18409, 'divertissement': 18410, 'sinuously': 18411, 'Broomsticks': 18412, 'Pythonesque': 18413, 'Fingered': 18414, 'Befuddled': 18415, 'bona': 18416, 'Fresnadillo': 18417, 'Plodding': 18418, 'unoriginality': 18419, 'Pellington': 18420, 'unengaging': 18421, 'Spectacularly': 18422, 'vengefulness': 18423, 'Characterisation': 18424, 'coheres': 18425, 'miscalculates': 18426, 'Koyaanisqatsi': 18427, 'cannier': 18428, 'sentimentalized': 18429, 'Prancing': 18430, 'Glib': 18431, 'enrapturing': 18432, 'Rambles': 18433, 'Evokes': 18434, 'pushiness': 18435, 'undeterminable': 18436, 'Ryosuke': 18437, 'Skillfully': 18438, 'servicable': 18439, 'IHOPs': 18440, 'ransacks': 18441, 'Darkly': 18442, 'verismo': 18443, 'Elizabethans': 18444, 'overpraised': 18445, 'Cremaster': 18446, 'Graced': 18447, '4ever': 18448, 'Shohei': 18449, 'Scherfig': 18450, 'soullessness': 18451, 'Ziyi': 18452, 'Playfully': 18453, 'Silberling': 18454, 'eclair': 18455, 'encumbers': 18456, 'Fleder': 18457, 'Shainberg': 18458, 'Masseur': 18459, 'funnybone': 18460, 'Strident': 18461, 'sketchiest': 18462, 'sociopathy': 18463, 'larky': 18464, 'Invigorating': 18465, 'avis': 18466, 'Borscht': 18467, 'Anspaugh': 18468, 'filmgoing': 18469, 'Sabara': 18470, 'vivre': 18471, 'Guei': 18472, 'accomodates': 18473, 'KOK': 18474, 'garde': 18475, 'unimpressively': 18476, 'ploddingly': 18477, 'Marivaux': 18478, 'sermonize': 18479, 'profundities': 18480, 'co-writer/director': 18481, 'sparklingly': 18482, 'melodramatics': 18483, 'blighter': 18484, 'Disjointed': 18485, 'likably': 18486, 'uninflected': 18487, 'Vividly': 18488, 'Corcuera': 18489, 'dislikable': 18490, 'Tartakovsky': 18491, 'Sweetly': 18492, 'fluxing': 18493, 'overladen': 18494, 'Impeccably': 18495, 'Resembles': 18496, 'Schweig': 18497, 'repulsively': 18498, 'transmogrification': 18499, 'Brainless': 18500, 'Wendigo': 18501, 'Morlocks': 18502, 'pretention': 18503, 'roundelay': 18504, 'hardass': 18505, 'courageousness': 18506, 'monsterous': 18507, 'directress': 18508, 'harks': 18509, 'Cletis': 18510, 'Fantasma': 18511, 'Borstal': 18512, 'bagatelle': 18513, 'doshas': 18514, 'Writhing': 18515, 'Ellefsen': 18516, 'squareness': 18517, 'uninventive': 18518, 'Wonton': 18519, 'Gloriously': 18520, 'Nonsensical': 18521, 'oes': 18522, 'uncompelling': 18523, 'stiflingly': 18524, 'neverland': 18525, 'Ving': 18526, 'loopiness': 18527, 'slummy': 18528, 'Staggeringly': 18529, 'Woefully': 18530, 'embroils': 18531, 'Juergensen': 18532, 'sheerly': 18533, 'bluescreen': 18534, 'Innocuous': 18535, 'shrieky': 18536, 'anthropologically': 18537, 'romanticization': 18538, 'salaciously': 18539, 'rollerball': 18540, 'Morvern': 18541, 'Ballhaus': 18542, 'Ruzowitzky': 18543, 'meanspirited': 18544, 'indomitability': 18545, 'Peppering': 18546, 'Bedknobs': 18547, 'costumey': 18548, 'Cockettes': 18549, 'Wildean': 18550, 'mordantly': 18551, 'shticks': 18552, 'Kitschy': 18553, 'Tatou': 18554, 'wincingly': 18555, 'Schütte': 18556, 'Purposefully': 18557, 'Gaping': 18558, 'sterotypes': 18559, 'MacGraw': 18560, 'Spielbergian': 18561, 'peerlessly': 18562, 'Sodden': 18563, 'latently': 18564, 'pillages': 18565, 'Giler': 18566, 'Immersing': 18567, 'Draggin': 18568, 'heartstring': 18569, 'SOOOOO': 18570, 'untidily': 18571, 'Gaitskill': 18572, 'Congeniality': 18573, 'Unfunny': 18574, 'Lavishly': 18575, 'Falsehoods': 18576, 'phantasms': 18577, 'Goddammit': 18578, 'ZigZag': 18579, 'Keenly': 18580, 'Flaunts': 18581, 'superheroics': 18582, 'stumblebum': 18583, 'mateys': 18584, 'whimsicality': 18585, 'Forages': 18586, 'Transcends': 18587, 'unentertaining': 18588, 'unflaggingly': 18589, 'Ecks': 18590, 'unforgivingly': 18591, 'Formulaic': 18592, 'Aspires': 18593, 'Schepisi': 18594, 'Soliah': 18595, 'drek': 18596, 'Suffocated': 18597, 'Soapdish': 18598, 'Bogdanich': 18599, 'Laughably': 18600, 'neorealism': 18601, 'Shunji': 18602, 'TUCK': 18603, 'Schwentke': 18604, 'Witless': 18605, 'Leontine': 18606, 'Kozmo': 18607, 'SWEPT': 18608, 'cutes': 18609, 'unamusing': 18610, 'sanctimoniousness': 18611, 'crudities': 18612, 'Besotted': 18613, 'frissons': 18614, 'celebrityhood': 18615, 'Swimfan': 18616, 'drably': 18617, 'greasiest': 18618, 'Nickleby': 18619, 'spangle': 18620, 'flibbertigibbet': 18621, 'unhidden': 18622, 'amours': 18623, 'wankery': 18624, 'howlingly': 18625, 'Losin': 18626, 'emptily': 18627, 'espite': 18628, 'joylessly': 18629, 'Hashiguchi': 18630, 'retitle': 18631, 'Serrault': 18632, 'crowdpleaser': 18633, 'Elicits': 18634, 'drang': 18635, 'Greenfingers': 18636, 'shoplifts': 18637, 'scorchingly': 18638, 'tov': 18639, 'SOLELY': 18640, 'Testud': 18641, 'dreadfulness': 18642, 'Engrossing': 18643, 'transfixes': 18644, 'Kosminsky': 18645, 'sturm': 18646, 'Wickedly': 18647, '4Ever': 18648, 'disquietingly': 18649, 'Tanovic': 18650, 'denouements': 18651, 'frightfest': 18652, 'Captivates': 18653, 'Passable': 18654, 'Scoob': 18655, 'Serviceable': 18656, 'fide': 18657, 'Blackboards': 18658, 'Workmanlike': 18659, 'surehanded': 18660, 'dominatrixes': 18661, 'eldritch': 18662, 'Exploitative': 18663, 'unreligious': 18664, 'sentimentalizing': 18665, 'nowheresville': 18666, 'Journalistically': 18667, 'ineptitudes': 18668, 'brûlée': 18669, 'Laconic': 18670, 'Nenette': 18671, 'bons': 18672, 'Uncommonly': 18673, 'Limps': 18674, 'Drang': 18675, 'chopsocky': 18676, 'SANDLER': 18677, 'leatherbound': 18678, 'Snoots': 18679, 'Jirí': 18680, 'hypermasculine': 18681, 'narcotized': 18682, 'haphazardness': 18683, 'Ratcatcher': 18684, 'excrescence': 18685, 'thumpingly': 18686, 'Blutarsky': 18687, 'Terminally': 18688, 'Degenerates': 18689, 'Incoherence': 18690, 'Overwrought': 18691, 'fountainheads': 18692, 'lumpish': 18693, 'rara': 18694, 'O.K.': 18695, 'Cardellini': 18696, 'D.J.': 18697, 'Pollyana': 18698, 'suspenser': 18699, 'N.M.': 18700, 'Treebeard': 18701, 'También': 18702, 'Addessi': 18703, 'timewaster': 18704, 'soaper': 18705, 'Csokas': 18706, 'Conforms': 18707, 'Bleibtreu': 18708, 'dysfunctionally': 18709, 'Freudianism': 18710, 'P.C.': 18711, 'Prurient': 18712, 'rotoscope': 18713, 'Bleakly': 18714, 'perfervid': 18715, 'untuned': 18716, 'malediction': 18717, 'anciently': 18718, 'kidlets': 18719, 'Absurdities': 18720, 'Watchable': 18721, 'neurasthenic': 18722, 'PA.': 18723, 'CHASES': 18724, 'Kaige': 18725, 'Rechy': 18726, 'Splendidly': 18727, 'operandi': 18728, 'SL2': 18729, 'guessable': 18730, 'GUNFIRE': 18731, 'joie': 18732, 'skeeved': 18733, 'teendom': 18734, 'Musset': 18735, 'goombah': 18736, 'Oedekerk': 18737, 'amusedly': 18738, 'Jolting': 18739, 'Bluer': 18740, 'Saeko': 18741, 'fuddled': 18742, \"ol'\": 18743, 'shmear': 18744, 'reconceptualize': 18745, 'Everlyn': 18746, 'Mamá': 18747, 'Veers': 18748, 'Hatosy': 18749, 'Zealanders': 18750, 'Etoiles': 18751, 'Büttner': 18752, 'crawlies': 18753, 'hotdogging': 18754, 'Igby': 18755, 'Bearable': 18756, 'Cloaks': 18757, 'Ponderous': 18758, 'Sissako': 18759, 'Unwieldy': 18760, 'soaringly': 18761, 'gooeyness': 18762, 'witlessness': 18763, 'Ballesta': 18764, 'Meyjes': 18765, 'Harks': 18766, 'Inconsequential': 18767, 'beseechingly': 18768, 'Believability': 18769, 'Blithely': 18770, 'dorkier': 18771, 'homiletic': 18772, 'RINGING': 18773, 'encomia': 18774, 'stultifyingly': 18775, 'stumblings': 18776, 'elaborateness': 18777, 'inconsequentiality': 18778, 'yawp': 18779, 'forgettably': 18780, 'Liyan': 18781, 'Tashlin': 18782, 'Bergmanesque': 18783, 'psychologizing': 18784, 'sappier': 18785, 'datedness': 18786, 'Allodi': 18787, 'juiceless': 18788, 'Intacto': 18789, 'Münch': 18790, 'Pootie': 18791, 'A.C.': 18792, 'Ozpetek': 18793, 'Pretension': 18794, 'Vulakoro': 18795, 'Excruciatingly': 18796, 'heartwarmingly': 18797, 'Reigen': 18798, 'bizzarre': 18799, 'smashups': 18800, 'rosily': 18801, 'Flaccid': 18802, 'Famuyiwa': 18803, 'Brimful': 18804, 'Hayao': 18805, 'Melds': 18806, 'Sorimachi': 18807, 'Talky': 18808, 'Softener': 18809, 'mumbo': 18810, 'screenful': 18811, 'Yakusho': 18812, 'gorefests': 18813, 'Payami': 18814, 'Dooby': 18815, 'stuffiest': 18816, 'Steadfastly': 18817, 'Godawful': 18818, 'dirgelike': 18819, 'transfigures': 18820, 'hastier': 18821, 'Joffé': 18822, 'erotics': 18823, 'Paymer': 18824, 'undogmatic': 18825, 'bohos': 18826, 'Sensitively': 18827, 'overemphatic': 18828, 'Oozes': 18829, 'Shakesperean': 18830, 'Plods': 18831, 'Béart': 18832, 'Humorless': 18833, 'Vs.': 18834, 'Daringly': 18835, 'Dalloway': 18836, 'overplotted': 18837, 'unshapely': 18838, 'uncinematic': 18839, 'Nettelbeck': 18840, 'sytle': 18841, 'Marvelously': 18842, 'Clockstoppers': 18843, 'parsec': 18844, 'parapsychological': 18845, 'Louiso': 18846, 'hobnail': 18847, 'precollegiate': 18848, 'fuhgeddaboutit': 18849, 'manipulativeness': 18850, 'destin': 18851, 'Mouglalis': 18852, 'Nonchalantly': 18853, 'unfussily': 18854, 'plaintiveness': 18855, 'Bloodwork': 18856, 'nonjudgmentally': 18857, 'claustrophic': 18858, 'Sexpot': 18859, 'humbuggery': 18860, 'Bielinsky': 18861, 'underconfident': 18862, 'Narratively': 18863, 'softheaded': 18864, 'Festers': 18865, 'Powerpuff': 18866, 'Nebrida': 18867, 'Co-writer/director': 18868, 'Pratfalls': 18869, 'Gutterball': 18870, 'Disreputable': 18871, 'Viterelli': 18872, 'lika': 18873, 'Naqoyqatsi': 18874, 'Uzumaki': 18875, 'shimmeringly': 18876, 'Sillier': 18877, 'EVERLASTING': 18878, 'Exudes': 18879, 'Deutchland': 18880, 'Lazily': 18881, 'Kalesniko': 18882, 'Compulsively': 18883, 'Callar': 18884, 'Hirosue': 18885, 'actory': 18886, 'Ferzan': 18887, 'Kurys': 18888, 'schticky': 18889, 'suey': 18890, 'E.T.': 18891, 'Thornberrys': 18892, 'Gedeck': 18893, 'Laissez': 18894, 'Wertmuller': 18895, 'delibrately': 18896, 'Vibrantly': 18897, 'Coriat': 18898, 'Scherick': 18899, 'Yasujiro': 18900, 'Chouraqui': 18901, 'Minac': 18902, 'Næss': 18903, 'debuter': 18904, 'Gussied': 18905, 'Fudges': 18906, 'Cirulnick': 18907, 'Portentous': 18908, 'Bazadona': 18909, 'dilithium': 18910, 'G.I.': 18911, 'Iosseliani': 18912, 'Runteldat': 18913, 'Wolodarsky': 18914, 'disposible': 18915, 'Hjejle': 18916, 'Juwanna': 18917, 'Magimel': 18918, 'ouija': 18919, 'Penotti': 18920, 'J.M.': 18921}\n"
          ]
        }
      ],
      "source": [
        "# YOUR CODE HERE\n",
        "# <unk> token at position 0, <pad> token at position 1\n",
        "vectors = [[0] * 300, [0] * 300]\n",
        "v_new = Vocabulary()\n",
        "file = open(path)\n",
        "\n",
        "for line in file:\n",
        "  stripped_line = line.strip()\n",
        "  line_list = stripped_line.split()\n",
        "  token = line_list[0]\n",
        "  vals = line_list[1:]\n",
        "  vals = [float(val) for val in vals]\n",
        "  #print(len(vals))\n",
        "  vectors.append(vals)\n",
        "  v_new.count_token(token)\n",
        "print(len(vectors))\n",
        "\n",
        "vectors = np.stack(vectors, axis = 0)\n",
        "print(vectors.shape)\n",
        "v_new.build()\n",
        "print(\"Vocabulary size: \", len(v_new.w2i))\n",
        "print(\"Shape of vector: \", vectors.shape)\n",
        "\n",
        "print(v_new.w2i)"
      ]
    },
    {
      "cell_type": "markdown",
      "metadata": {
        "id": "xC-7mRyYNG9b"
      },
      "source": [
        "#### Exercise: words not in our pre-trained set\n",
        "\n",
        "How many words in the training, dev, and test set are also in your vector set?\n",
        "How many words are not there?\n",
        "\n",
        "Store the words that are not in the word vector set in the set below."
      ]
    },
    {
      "cell_type": "code",
      "execution_count": 56,
      "metadata": {
        "colab": {
          "base_uri": "https://localhost:8080/"
        },
        "id": "K6MA3-wF_X5M",
        "outputId": "6b9bedd1-069c-492e-d483-c245d2a99d3c"
      },
      "outputs": [
        {
          "output_type": "stream",
          "name": "stdout",
          "text": [
            "{'accident-prone', 'gore-free', 'water-camera', 'jazz-playing', 'self-control', 'for-fans', '88', 'marvellous', 'Enjoyably', 'hard-won', 'life-altering', 'Jae-eun', 'lip-gloss', 'no-nonsense', 'been-told-a', 'celeb-strewn', 'wide-angle', 'computer-generated', 'soul-stirring', 'movie-esque', 'semi-throwback', 'entendre', 'Indian-American', '19th-century', 'low-budget', 'middle-America', 'quasi-Shakespearean', 'best-sustained', 'self-hatred', 'Unambitious', ';', 'work-in-progress', 'A.S.', 'tried-and-true', 'guilt-suffused', 'fourteen-year', 'actorish', 'PG-rated', 'space-based', 'repellantly', 'on-screen', 'vintage-TV', 'by-the-numbers', 'cop-flick', 'single-minded', '76-minute', 'strong-minded', 'Have-yourself-a-happy-little-Holocaust', 'get-go', 'Horrendously', 'Damon/Bourne', '4/5ths', 'all-star', 'teeth-clenching', 'too-long', 'riot-control', 'force-feed', \"'30s\", 'poorly-constructed', 'Spy-vs', 'semi-improvised', 'ventually', 'straight-faced', 'free-for-all', '1987', 'eighth-grader', 'camera-work', 'die-hard', 'parka-wrapped', 'well-made', 'beat-the-clock', 'buddy-cop', 'modern-day', 'semi-humorous', 'less-than-objective', 'bang-up', 'teen-sleaze', 'strafings', 'ball-and-chain', 'Caton-Jones', 'RINGU', 'derivativeness', 'Imaxy', 'drung', 'Abysmally', '75', '15', 'laugh-filled', '1934', 'self-possessed', 'well-detailed', 'Heremakono', 'auto-pilot', 'open-endedness', 'tough-man', 'cheap-looking', 'Auteil', 'Dognini', 'cheap-shot', 'good-naturedly', 'Otto-Sallies', 'show-stoppingly', 'tear-drenched', 'narcotizing', 'flim-flam', 'big-fisted', 'long-running', 'on-camera', 'ugly-looking', '14-year-old', 'non-God', 'middle-brow', '1970', \"L'Avventura\", 'marveilleux', 'Gerbosi', 'quick-cut', 'Audacious-impossible', 'nonchallenging', 'small-budget', 'husband-and-wife', 'Achero', 'above-average', 'fire-red', 'mean-spirited', 'B-flick', 'in-the-ring', 'action/effects', 'Competently', 'nail-biting', 'gender-bender-baller', 'child-rearing', 'ill-timed', 'done-that', 'Outrageousness', 'strip-mined', 'dog-paddle', 'horror/thriller', 'cold-hearted', 'based-on-truth', '2,500', 'Italian-language', '48', 'large-format', 'skit-com', 'not-nearly', 'built-in', 'culture-clash', 'simple-minded', 'thrill-kill', 'Spider-man', 'Oscar-worthy', 'first-rate', 'single-handed', 'dim-witted', 'self-involved', 'career-defining', 'sixth-grade', 'Oscar-sweeping', 'hit-or-miss', 'screeching-metal', 'Zishe', 'calibre', 'in-jokes', 'hard-bitten', 'watered-down', 'M-16', 'rapid-fire', 'hide-and-seek', 'heart-on-its-sleeve', 'teary-eyed', 'Spanish-American', 'pop-music', 'Juliet/West', 'unclassifiably', 'life-at-arm', 'all-out', 'kitchen-sink', 'long-faced', 'so-inept', 'flat-out', 'unslick', 'two-day', 'FearDotCom', 'something-borrowed', 'ill-advised', 'true-crime', 'the-loose', 'action/comedy', 'tie-in', 'Univac-like', '94-minute', 'Indifferently', 'II-Birkenau', 'Company-style', 'actor/director', 'cadness', 'good-hearted', 'off-puttingly', 'glamour', 'under-7', 'Talkiness', 'kiddie-flick', 'Butterfingered', 'guilt-free', 'movie-starring', \"'til\", '1954', 'all-wise-guys-all-the-time', 'well-put-together', 'barn-side', 'half-dimensional', 'political-action', 'backmasking', 'pro-Serbian', 'even-toned', 'on-board', 'T-shirt', 'no-brainer', 'fang-baring', 'fast-edit', 'nymphette', 'whip-smart', 'even-handedness', 'often-funny', 'flick-knife', '80-minute', 'elegiacally', 'unhibited', 'stable-full', 'feardotcom.com', 'all-too', '78', 'self-important', 'Real-life', 'Age-inspired', 'air-conditioning', 'kid-movie', 'Chicago-based', 'toolbags', 'underrehearsed', 'none-too-original', 'cross-promotion', 'to', 'Djeinaba', 'special-effects-laden', 'cutesy-pie', 'not-exactly', 'gangster/crime', 'curse-free', 'low-life', 'self-absorbed', 'sweet-and-sour', 'reality-snubbing', 'Execrable', 'Deconstructionist', 'amuse-bouche', 'toilet-humor', 'Chou-Chou', 'fuelled', 'dictator-madman', 'three-year-old', 'bodice-ripper', \"'70s\", 'unsuspenseful', 'lip-synching', 'disappearing/reappearing', 'eye-rolling', 'voice-over', 'ivans', 'director/co-writer', 'fleet-footed', '1986', 'shoot-outs', 'action-adventure', 'Wal-Mart', 'clear-cut', '1982', 'flex-a-thon', 'Seldhal', '26-year-old', 'half-an-hour', 'Jaw-droppingly', 'Seldahl', 'full-throated', 'chick-flicks', '18-year-old', 'Hollywood-action', 'hammily', 'corruscating', 'serious-minded', 'shoot-em-up', '11', 'prewarned', 'Satisfyingly', 'out-of-kilter', 'father-and-son', 'one-sidedness', 'monster/science', 'bait-and-tackle', 'creepy-scary', '140', 'Wewannour', 'Compassionately', '40-year-old', 'hard-earned', 'clear-eyed', 'theatres', 'feel-bad', 'Mason-Dixon', 'Mullinski', \"'n\", 'well-behaved', 'techno-tripe', 'cross-cultural', 'fire-breathing', '1949', 'well-written', 'anti-Darwinian', 'splatterfests', 'Apallingly', 'self-analysis', 'teen-targeted', 'centre', 'front-loaded', 'full-blown', 'independent-community', 'A-list', 'favour', '-RRB-', 'comedy-drama', '7.00', '2-day', 'thinly-conceived', 'after-hours', 'Scooby-Doo', 'B-minus', 'ever-escalating', 'three-dimensional', 'Destinees', 'D.W.', 'middle-of-the-road', 'teen-driven', 'bone-crushing', 'show-tunes', 'semimusical', 'Middle-earth', '9-11', 'French-produced', 'inter-family', 'candy-coat', 'hour-and-a-half', 'ex-wife', 'So-so', 'go-for-broke', 'Purports', '1960', 'inner-city', 'Higuchinsky', 'sticky-sweet', 'real-life', 'Black-and-white', 'shiver-inducing', 'not-quite-dead', '2000', '1975', 'Well-written', 'slummer', '20,000', 'open-ended', 'WWII-era', 'body-switching', 'last-minute', 'corporate-sports', 'plot-lines', 'Ya-Ya', '123', 'pin-like', 'inhospitability', 'Equlibrium', 'late-night', 'thought-provoking', 'Ourside', 'world-weary', 'Shayamalan', '1973', 'turkey-on-rolls', 'stunt-hungry', 'video-cam', 'down-and-dirty', 'self-promoter', '10', 'super-serious', 'Star/producer', 'sock-you-in-the-eye', ':', 'pseudo-bio', 'warm-milk', 'two-way', 'kid-friendly', 'non-mystery', 'off-kilter', 'super-dooper-adorability', 'substance-free', 'wise-beyond-her-years', '1933', 'commander-in-chief', 'favourite', 'self-empowering', 'mush-hearted', 'ill-informed', 'portent-heavy', 'mystery/thriller', 'out-bad-act', 'off-season', 'lip-reading', '-', '50-million', 'too-spectacular', 'overcoming-obstacles', 'Nickelodeon-esque', 'character-who-shall', 'young-guns', 'irony-free', 'the-week', 'world-at-large', 'broken-down', 'Disney-style', 'award-winning', 'barn-burningly', 'botch-jobs', 'Direct-to-Video', 'near-fatal', 'demented-funny', 'underventilated', 'be-bop', 'self-conscious', 'custom-made', 'salt-of-the-earth', 'screwed-up', 'animated-movie', 'old-fashioned', 'four-star', 'big-budget/all-star', '1899', 'rough-hewn', 'Fulford-Wierzbicki', '20-car', 'well-structured', 'Lifetime-channel', 'gal-pal', 'beloved-major', 'old-school', 'slash-fest', 'Cineasts', 'two-actor', 'extreme-sports', 'spy-action', 'fear-inducing', 'lump-in-the-throat', 'spring-break', 'sob-story', 'well-lensed', 'show-off', 'oh-those-wacky-Brits', 'pseudo-witty', 'TV-style', 'spaniel-eyed', 'sober-minded', 'one-shot', 'Fast-paced', 'pseudo-hip', 'zero-dimensional', 'save-the-planet', 'Decasia', 'Well-meant', '15-cent', 'awe-inspiring', 'well-defined', 'stand-off', 'bone-chilling', 'ill-fitting', 'dearly-loved', 'epic-horror', '102-minute', 'drug-related', 'socio-histo-political', 'all-powerful', 'Waters-like', 'yahoo-ing', 'laugh-out-loud', 'qatsi', 'drawn-out', 'self-satisfaction', 'match-up', 'out-outrage', 'meat-and-potatoes', 'Well-intentioned', 'art-directed', '66', 'glad-handing', 'flck', 'cash-in', 'third-person', 'light-footed', 'rubber-face', 'Clarke-Williams', 'amped-up', 'obsessive-compulsive', 'prep-school', 'tries-so-hard-to-be-cool', '100-minute', 'Jean-Claude', 'genre-busting', 'shapable', 'near-impossible', 'three-minute', 'sense-of-humour', 'rip-off', 'kiddie-oriented', '49-year-old', 'stripped-down', 'street-smart', 'brain-deadening', '180', 'cliche-riddled', 'wifty', 'late-summer', 'Venice/Venice', 'doofus-on', 'movie-industry', 'fun-for-fun', 'heartbeat-like', 'moulds', 'Tiresomely', 'kung-fu', 'handbag-clutching', 'fantasy-adventure', 'fifteen-year-old', 'clunk-on-the-head', 'girl-on-girl', 'TV-to-movie', 'often-cute', '1990', 'often-hilarious', 'Feardotcom', 'all-inclusive', 'sub-formulaic', 'Copmovieland', '9/11', 'super-sized', 'Well-done', 'well-conceived', '1957', '1920', 'deadeningly', 'Disney-fied', 'over-amorous', 'eye-catching', 'wafer-thin', 'well-produced', 'Brothers-style', 'neo-Hitchcockianism', 'pretty-boy', 'half-step', 'Euro-film', 'Ear-splitting', 'half-sleep', 'Mad-libs', 'self-mocking', 'food-for-thought', 'long-held', 'two-hour-and-fifteen-minute', 'Conan-esque', 'likableness', 'Channel-style', 'NC-17', '21st', 'church-wary', 'fresh-faced', 'heart-pounding', 'off-beat', 'therapy-dependent', '100-year', 'child-centered', 'copyof', 'pathos-filled', 'not-so-big', 'Sluggishly', 'well-shaped', 'hands-on', 'estrogen-free', 'Cacoyannis', 'East-vs', 'pigeonhole-resisting', 'badly-rendered', 'Laugh-out-loud', 'pre-WWII', 'dry-eyed', 'musclefest', 'not-so-Divine', 'labour', 'Spider-Man', 'girl-meets-girl', 'raw-nerved', 'family-friendly', 'tradition-bound', 'fast-moving', \"'50s\", '77', '95', 'ho-hum', 'half-assed', 'spin-off', 'loose-jointed', 'Interminably', 'horror-comedy', 'Depression-era', 'upper-crust', 'oh-so-important', 'Cliff-Notes', 'crummy-looking', 'out-depress', 'self-amused', 'food-spittingly', 'ill-constructed', '24/7', 'open-hearted', 'schlock-filled', 'black-and-white', 'stuporously', 'gone-to-pot', 'highly-praised', 'Montias', 'nit-picky', 'Short-story', 'TV-cops', 'white-empowered', 'Filipino-Americans', 'face-to-face', 'Live-style', 'humour', 'off-handed', 'soft-porn', 'fillm', '1998', 'odour', 'hard-hearted', 'fun-seeking', 'six-packs', 'fairy-tale', 'self-centered', 'counter-cultural', 'non-reactionary', 'little-known', 'involvingly', 'low-wattage', '82', 'hard-to-predict', 'greatest-hits', 'tap-dancing', 'connect-the-dots', 'cold-fish', 'sci-fi', 'too-tepid', 'Oscar-winners', 'Laissez-Passer', 'RunTelDat', 'gang-raped', 'cop-out', 'Brazil-like', 'blood-splattering', 'age-wise', 'out-sized', 'Formuliac', 'world-renowned', 'trend-hoppy', 'M.I.T.', 'artsploitation', '10-year-old', 'real-live', 'trailer-trash', '270', 'truth-telling', 'easy-going', 'faux-urban', 'self-delusion', 'non-Shakespeare', '40', 'self-evaluation', 'Passably', 'lesser-praised', 'mind-bending', 'multi-layered', 'brand-new', 'same-sex', 'All-in-all', '60-second', '1873', 'Deadeningly', 'Cosby-Seinfeld', 'flip-flop', '30-year', 'indie-heads', 'Singer/composer', 'slo-mo', 'warm-blooded', 'hand-held', 'Israeli/Palestinian', 'eye-boggling', 'fuddy-duddy', 'tryingly', '70-year-old', 'Kool-Aid', 'string-pulling', 'affirmational', 'well-executed', 'B-grade', 'headline-fresh', 'wised-up', 'anti-Harry', 'writer/director/producer', 'sub-music', 'prefeminist', 'sequel-itis', 'sex-reassignment', 'well-characterized', 'all-night', 'untugged', 'pop-influenced', 'greaseballs', 'hyper-real', '65', 'ex-Marine', 'wife/colleague', 'stop-go', 'slow-moving', 'Sychowski', 'half-naked', 'non-Jew', '007', 'hard-hitting', '1/2', 'soul-stripping', 'Grown-up', 'the-night', 'port-of-call', 'Goldbacher', 'auto-critique', 'power-lunchers', 'documentary-making', 'jaw-dropping', 'over-dramatic', 'actress-producer', 'whoopee-cushion', 'third-act', 'hour-and-a-half-long', 'water-born', 'Pasach', 'Annie-Mary', 'consciousness-raising', 'Kahlories', '1972', 'feature-length', 'well-wrought', 'Well-meaning', 'whole-heartedly', 'seventy-minute', 'too-hot-for-TV', 'opera-to-film', 'nerve-wracking', 'four-legged', 'crossing-over', 'Director-writer', 'cross-dressing', 'be-all-end-all', 'Outer-space', '1952', 'snazzy-looking', 'action-comedy', 'valley-girl', '19th-Century', 'blue-light-special', 'Gantzes', '1970s', 'high-concept', 'run-of-the-mill', 'title-bout', 'voice-overs', 'recognise', 'life-affirming', 'Mollà', 'fleshed-out', 'idoosyncratic', '146', 'smile-button', 'identity-seeking', 'rat-a-tat', '77-minute', 'PG-13-rated', 'obviation', 'Hawk-style', 'squirm-inducing', 'no-holds-barred', '8-year-old', 'well-known', 'period-piece', 'affectation-free', 'Traffics', 'video-viewing', 'Faultlessly', 'Peter/Spider-Man', 'b-ball', '25', 'middle-agers', 'crass-a-thons', 'socio-political', 'still-raw', 'sugar-sweet', \"'s\", 'fluff-ball', 'first-timer', 'hell-jaunt', 'hyper-time', 'Jaglomized', 'soon-to-be-forgettable', 'Hard-core', 'paper-thin', 'self-righteous', 'pee-related', 'American-Russian', 'tech-geeks', 'docu-Dogma', 'Clericks', '1984', 'bass-heavy', 'autocritique', 'accordion/harmonica/banjo', 'life-changing', '87-minute', 'Norrington-directed', 'outgag', 'lower-class', 'self-loathing', 'live-wire', 'bowel-curdling', 'Z-Boys', 'half-asleep', 'breath-taking', 'romantic-comedy', 'pint-sized', 'round-robin', 'patient/doctor', 'sweet-tempered', 'Phoned-in', 'self-image', 'self-critical', 'triple-espresso', 'thirty-five', 'animaton', 'cheatfully', '95-minute', 'ricture', 'two-hour', 'co-written', '6-year-old', 'colour', 'wannabe-hip', 'trouble-in-the-ghetto', 'long-winded', 'guilt-trip', 'direct-to-void', 'Vereté', 'eye-opening', 'tear-stained', 'well-realized', 'Gator-bashing', 'life-embracing', 'one-of-a-kind', 'buddy-comedy', 'mood-altering', 'show-don', 'already-shallow', 'hard-sell', 'decent-enough', 'Piercingly', 'Blisteringly', 'holiday-season', 'blood-drenched', 'ultra-low-budget', 'tick-tock', 'Kosashvili', 'trance-noir', 'slam-dunk', 'Schneidermeister', 'German-Expressionist', 'consumer-advice', 'bona-fide', 'sex-soaked', 'bad-boy', '15-year', 'fustily', 'boom-bam', 'super-simple', 'Oft-described', 'baaaaaaaaad', 'cliche-ridden', 'roisterous', 'emphasising', 'preachy-keen', 'self-expression', 'well-thought', 'propriety-obsessed', 'multi-million', 'must-own', 'wind-in-the-hair', '15th', 'gender-war', 'soul-searching', '2/3', '170-minute', 'time-it-is', 'lived-in', 'Much-anticipated', 'provocatuers', 'Knockaround', 'set-piece', 'hand-drawn', 'time-switching', 'non-firsthand', 'ugly-duckling', 'cable-sports', '70', 'kids-and-family-oriented', 'revigorates', 'sun-splashed', '1959', 'south-of-the-border', 'grand-scale', '20th', 'hidden-agenda', 'cat-and-mouse', 'TV-movie', 'self-destructiveness', 'ear-pleasing', 'sepia-tinted', '75-minute', 'middle-age', 'bigger-than-life', 'anti-Semitism', 'non-Bondish', '93-minute', 'heart-affecting', 'pop-up', 'behaviour', 'let-down', 'ill-considered', 'spot-on', 'self-congratulation', 'Wince-inducing', '295', 'far-flung', 'G-rated', 'adventues', 'stomach-churning', 'hopped-up', 'pseudo-serious', 'Far-fetched', '96', 'dewy-eyed', 'not-quite-urban', 'side-by-side', 'dudsville', 'hyper-artificiality', 'cipherlike', 'what-if', 'who-wrote-Shakespeare', 'redneck-versus-blueblood', '83', 'grace-in-rebellion', 'rape-payback', 'multi-layers', 'sub-par', 'science-fiction', 'B-scene', 'little-remembered', 'top-heavy', 'Ho-Tep', 'wish-fulfilling', 'kids-cute', 'modern-office', 'rose-colored', 'less-than-magic', 'break-ups', 'paint-by-numbers', 'meets-new', 'high-strung', 'bibbidy-bobbidi-bland', 'Iranian-American', 'dirty-joke', 'dead-end', 'self-reflexive', 'soft-core', 'diciness', 'waydowntown', 'dog-tag', 'rock-solid', 'super-powers', 'Puportedly', 'siuation', 'pitch-perfect', '--', 'middle-fingered', 'do-over', 'Potty-mouthed', '42', 'Japanimator', 'hole-ridden', '129-minute', 'unconned', '1991', 'double-crosses', 'Rashomon-for-dipsticks', 'Margolo', 'all-over-the-map', 'VelJohnson', 'disease-of-the-week', 'skid-row', 'acting-workshop', 'clean-cut', 'nrelentingly', 'achival', 'surfacey', 'learnt', '89', 'P.O.W.', 'updatings', 'lower-wit', 'Jar-Jar', 'Engagingly', 'Rabbit-Proof', 'self-esteem', 'retro-refitting', 'self-made', 'by-the-books', 'well-deserved', 'oft-brilliant', 'renegade-cop', 'I-heard-a-joke', 'Open-minded', 'small-town', 'hack-artist', 'wide-ranging', 'cliché-laden', 'mumbo-jumbo', 'video/DVD', 'sugar-free', 'eye-filling', 'Dogwalker', 're-invents', 'rise-and-fall', 'half-wit', 'banter-filled', 'uni-dimensional', 'gut-busting', 'J.R.R.', 'nature/nurture', 'and/or', 'small-screen', 'flower-power', '10-year', 'self-deprecating', 'pooper-scoopers', 'Writer/director', 'talk-heavy', 'high-octane', \"'\", 'S1M0NE', 'Unflinchingly', 'sleep-inducing', 'Romething', '1967', 'pan-American', 'knock-offs', '71', 'grade-grubbers', 'cyber-horror', 'well-contructed', 'not-so-bright', 'Bond-inspired', 'interspliced', \"'53\", 'guilty-pleasure', 'Mushes', 'full-frontal', 'mid-film', 'whip-crack', 'Made-Up', 'Well-acted', 'crowd-pleaser', 'field-sized', 'tolerable-to-adults', 'bar-scrapping', 'bug-eye', 'hit-man', 'creature-feature', 'crash-and-bash', 'self-determination', 'ages-old', 'period-perfect', 'strung-together', 'pop-cyber', 'mother/daughter', 'one-sided', 'too-conscientious', 'dime-store', 'clone-gag', ',', 'B-film', 'drenched-in-the', 'neo-fascism', 'blood-soaked', 'razor-sided', 'splendid-looking', 'green-guts', 'cinemantic', 'touchy-feely', 'C.H.O.', 'powerment', 'Lynch-like', 'wishy-washy', 'better-than-average', 'in-your-face', 'nerve-rattling', 'minute-by-minute', 'shoot-out', '85-minute', 'movie-star', 'sex-in-the-city', 'ANTWONE', 'hot-blooded', 'big-hearted', '50s', 'memory-as-identity', 'groan-inducing', 'wonder-what', 'dark-as-pitch', 'Driver-esque', '1999', 'spy-savvy', 'knee-jerk', '-LRB-', 'right-hand', 'BarberShop', 'know-how', 'Romoli', 'Glizty', 'difficult-to-swallow', '45-minute', 'brush-up', 'flag-waving', 'Divertingly', 'out-stealth', 'slash-and-hack', 'drive-by', 'farewell-to-innocence', 'self-dramatizing', 'Felinni', 'thousand-times', 'guy-in-a-dress', 'wide-screen', 'not-quite-suburban', 'e-mailing', 'European-set', 'Old-fashioned', 'Rocky-like', '12-year-old', 'homo-eroticism', '800', 'Bettany/McDowell', '1994', 'second-rate', 'closed-off', 'o.k.', 'three-hour', 'sub-aquatic', 'close-to-solid', 'and', 'four-year-old', 'H.G.', 'Digital-video', 'star-studded', 'outer-space', 'right-on', 'rusted-out', 'message-mongering', 'Oscar-size', 'super-stupid', 'high-end', 'under-10', \"''\", 'baseball-playing', 'career-best', 'rom-com', 'non-actors', 'mothball-y', 'good-time', 'snap-crackle', 'too-facile', 'Choquart', 'in-joke', 'clutchy', 'drug-induced', '12-Step', 'hat-in-hand', 'love-hate', 'sword-and-sorcery', 'Over-the-top', 'snow-and-stuntwork', 'non-Disney', 'tear-jerking', 'self-preservation', 'moustache', 'Holofcenter', 'slice-of-depression', 'trash-cinema', 'every-joke-has', 'P.O.V.', 'well-worn', 'film-culture', 'single-handedly', 'unencouraging', 'teen-speak', 'Old-form', 'Devolves', 'shuck-and-jive', 'hell-bent', 'Wisegirls', 'low-heat', 'long-on-the-shelf', 'skyscraper-trapeze', 'too-frosty', 'made-for-movie', 'Malfitano-Domingo', 'gut-wrenching', 'one-note', 'self-inflicted', 'well-formed', 'Janklowicz-Mann', 'high-wattage', '28K', 'ankle-deep', 'ultra-cheesy', '101', 'Priggish', 'Day-Lewis', 'co-operative', 'self-examination', 'matinee-style', '10th-grade', 'well-developed', 'Hollywood-predictable', 'pre-shooting', '18th-century', 'rip-roaring', 'and-miss', 'same-old', 'risk-takers', 'high-minded', 'fully-written', 'push-the-limits', 'over-blown', '52', 'murder-on-campus', 'sleep-inducingly', 'jacked-up', 'teeth-gnashing', 'Top-notch', 'Oprahfication', 'non-exploitive', 'revelled', 'superficiale', 'drop-dead', 'co-stars', 'action-movie', 'foot-age', 'grunge-pirate', 'feardotcom', 'hit-and-miss', 'Compellingly', 're-creations', 'poo-poo', 'over-the-top', 'stalk-and-slash', 'give-a-damn', 'not-quite', 'behind-the-scenes', 'well-crafted', '20-year-old', 'bio-drama', 'natural-seeming', 'still-contemporary', 'self-consciously', 'long-dreaded', 'monster-in-the', 'well-mounted', 'smarty-pants', 'action-and-popcorn', 'cringe-inducing', 'anti-Catholic', 'writer/director', 'Hanna-Barbera', '127', 'hayseeds-vs', 'super-wealthy', 'crapulence', 'love-jealousy', 'hard-to-swallow', 'good-humored', 'war/adventure', 'self-importance', 'gang-infested', \"hors-d'oeuvre\", 't-tell', 'Jean-Claud', 'movie-biz', 'tit-for-tat', 'over-romanticize', 'Open-ended', 'demeanour', 'hoo-ha', 'u-boat', '26-episode', 'image-mongering', 'Ah-nuld', 're-do', 'Globetrotters-Generals', 'daytime-drama', 'world-class', 'school-age', 'tour-de-force', '103-minute', 'Thekids', 'stagecrafts', '9.50', 'gasp-inducing', 'patronising', 'Writer-director', 'J.K.', 'straight-to-video', 'first-class', 'semi-autobiographical', 'neo-realist', 'laser-beam', 'straight-shooting', 'landbound', 'give-and-take', 'Ice-T', 'stomach-turning', 'sailboaters', 'bug-eyed', 'mixed-up', 'Bierbichler', 'imponderably', 'A-Team', 'police-oriented', 'half-lit', 'laser-projected', 'Oscar-caliber', 'computer-animated', '1790', 'T&A', 'foul-mouthed', 'flesh-and-blood', 'page-turning', 'set-up', 'snail-like', 'large-screen', 'largest-ever', 'poor-me', 'grown-ups', 'war-torn', '45', 'uplifter', 'raunch-fests', 'comedy-deficient', '?', 'kiddie-friendly', 'Christmas-tree', 'self-glorified', 'Euro-trash', 'pseudo-intellectual', 'semi-stable', 'heavy-handed', 'cliche-bound', 'Gymkata', 'dumbed-down', 'all-male', 'happily-ever', 'one-hour', 'much-needed', 'nine-tenths', 'open-minded', 'junk-food', 'cinema-besotted', 'well-directed', 'big-screen', 'rag-tag', 'lo-fi', 'gay-niche', 'bare-bones', 'Volletta', 'rough-around-the-edges', 'coming-of-age/coming-out', 'woe-is-me', 'top-billed', 'bottom-of-the-bill', 'hard-to-believe', 'freak-out', 'under-rehearsed', 'inter-species', 'revenge-of-the-nerds', 'dateflick', 'unembarrassing', 'writer/directors', 'peace-and-love', 'Play-Doh', 'smarter-than-thou', 'big-budget', 'fear-reducing', '24-and-unders', 'well-intentioned', 'gabbiest', 'standard-issue', 'cutting-edge', '84', 'three-to-one', 'beyond-lame', 'anti-human', 'made-up', 'Hubac', 'so-called', '3-D', 'pulpiness', 'police-procedural', 'One-sided', 'truth-in-advertising', 'comic-book', 'heart-rending', 'so-five-minutes-ago', 'unplundered', '50-something', 'anti-', 'all-too-familiar', '51st', 'groupie/scholar', 'blue-chip', 'disease-of', 'clung-to', 'pyro-correctly', 'Stortelling', '93', '1980', 'larger-than-life', 'laugh-a-minute', 'Silbersteins', '1988', 'shapelessly', 'wham-bam', 'twenty-first', 'Pie-like', 'wild-and-woolly', '18', 'true-blue', 'street-realist', 'war-ravaged', 'neo-Nazism', 'Easter-egg-colored', 'industrial-model', 'blade-thin', 'long-suffering', 'self-destructive', 'down-home', 'deep-seated', 'eroti-comedy', '72', 'Jean-Luc', 'point-of-view', 'gender-bending', 'triple-crosses', 'middle-class', '91-minute', 'not-being', 'Twenty-three', 'Hopkins/Rock', 'Picpus', 'money-grubbing', 'Bjorkness', 'name-calling', 'truncheoning', 'McKlusky', 'out-to-change-the-world', 'heart-string', 'self-flagellation', 'talking-head', 'fifteen-minute', 'off-center', '79-minute', 'Wollter', 'splendour', 'action-filled', 'cor-blimey-luv-a-duck', 'oh-so-Hollywood', 'high-profile', 'writer-actor', 'By-the-numbers', 'right-thinking', 'Brothers/Abrahams', 'all-time', 'non-believer', 'dead-center', 'Bolly-Holly', 'wall-to-wall', 'audience-pleaser', 'LePlouff', '1.2', 'new-agey', 'never-ending', 'cross-country', 'straight-ahead', 'Solondzian', 'deep-sixed', 'low-rent', 'gut-bustingly', 'montied', 'Frankenstein-like', 'bedevilling', 'funny/gritty', 'not-great', 'Zhuangzhuang', 'R-rated', 'English-language', '85', 'old-time', 'Eckstraordinarily', 'Dogma-like', 'pentacostal', 'made-for-TV', 'self-defeatingly', 'lip-non-synching', 'romance-novel', 'well-drawn', 'digital-effects-heavy', 'self-caricature', 'mass-market', 'over-familiarity', 'walled-off', 'silly-looking', '98', 'majority-oriented', 'from-television', 'through-line', 'Hollywood-ized', 'murder-suicide', 'stage-trained', 'tug-of-war', 'pro-wildlife', 'action-fantasy', 'fun-loving', 'Hip-hop', 'early-on', 'odd-couple', 'Powaqqatsi', 'movie-of-the-week', 'kilt-wearing', 'near-future', 'self-awareness', 'Stevenon', 'quasi-original', 'double-pistoled', 'eye-popping', 'done-to-death', 'worn-out', 'white-trash', 'self-mutilation', 'quick-buck', 'faux-contemporary', 'appétit', 'self-styled', 'razzle-dazzle', 'AM-radio', 'head-trip', 'P.T.', 'true-to-life', 'out-of-field', 'throat-singing', 'S&M', 'low-cut', '/', 'tardier', 'played-out', 'Debrauwer', 'racial-issues', 'art-house', 'day-old', 'meets-John', 'scary-funny', 'Unspools', 'Kalvert', 'non-fan', 'land-based', 're-enactments', 'Heavy-handed', '120', 'Hermocrates', 'mid-section', 'theatre', 'human-scale', 'self-assured', 'spell-casting', 'Friday-night', 'Laissez-passer', 'self-exploitation', 'near-masterpiece', 'Dawdles', 'junior-high', 'free-wheeling', 'niblet', '19th', 'Steinis', 'too-extreme-for-TV', '25-cent', 'would-be', 'star-making', 'self-knowledge', 'side-splittingly', 'kid-pleasing', 'messing-about', 'Recoing', 'pep-talk', 'stress-reducing', '99-minute', 'water-bound', 'run-of-the-filth', 'near-disaster', 'right-wing', 'morning-glory', 'heavy-duty', 'Hip-Hop', 'gut-buster', 'been-there', 'special-interest', '1953', 'pretence', 'co-opted', '90-plus', 'Punch-Drunk', 'Hungry-Man', 'war-weary', 'Marcken', 'Piesiewicz', 'inter-racial', 'spy-movie', 'well-told', 'Merchant-Ivory', 'fourth-rate', 'coma-like', 'Mordantly', 'thrown-together', 'action-packed', \"'em\", 'Ryanovich', 'middle-aged', 'melodrama/character', 'good-looking', 'consciousness-raiser', 'Baader-Meinhof', 'anti-erotic', 'stiff-upper-lip', 'runner-up', 'car-wreck', 'open-mouthed', 'ga-zillionth', 'fish-out-of-water', 'HIV/AIDS', 'even-handed', 'two-lane', 'war-movie', 'well-paced', 'barking-mad', 'gender-provoking', 'Amoses', 'Must-see', 'mild-mannered', 'lovable-loser', 'laid-back', 'ill-conceived', 'money-oriented', 're-assess', 'star-power', 'un-bear-able', 'no-frills', 'Baca-Asay', 'thought-out', 'no-surprise', '20', 'C.I.', 'self-reflection', 'community-college', 'college-spawned', '22-year-old', 'all-stars', 'good-natured', 'star-splashed', 'love-struck', 'hang-ups', 'Gilliam-esque', 'death-defying', 'Asiaphiles', 'pasta-fagioli', '11th', 'well-established', 'sitcom-cute', 'heart-stopping', 'R&B', 'X-Files', '86', 'blood-curdling', 'opera-ish', 'travel-agency', 'pokepie', 'well-shot', 'Vietnamese-born', 'mass-murdering', 'well-oiled', 'half-hour', 'Romijn-Stamos', 'double-cross', 'B.S.', 'burnt-out', 'made-for-cable', '1960s', 'styx', 'kinetically-charged', 'Munchausen-by-proxy', 'beat-charged', 'mistaken-identity', 'mean-spiritedness', 'Kubrick-meets-Spielberg', 'again-courage', 'Idemoto', 'less-is-more', 'self-infatuated', 'hot-button', 'post-war', 'shape-shifting', 'uberviolence', 'inside-show-biz', 'chick-flick', 'two-drink-minimum', '1950', 'you-are-there', 'ex-girlfriend', 'fine-looking', 'Wishy-washy', 'self-appointed', 'self-serious', 'Hjelje', 'well-acted', 'just-above-average', 'minor-league', 'ho-ho-ho', 'out-shock', 'wound-licking', 'sleep-deprived', 'silver-haired', 'two-fifths', 'pseudo-philosophic', 'first-time', 'hard-edged', 'non-Britney', 'multi-dimensional', 'low-brow', 'Good-naturedly', 'foul-natured', 'dialed-up', 'crime-busting', 'Talancón', 'anti-virus', 'jaw-droppingly', '80', 'Two-bit', 'frat-boy', '50-year', 'code-talk', 'screen-eating', 'near-xenophobic', 'self-sacrifice', 'anti-war', 'spy-on-the-run', 'self-referential', 'cut-and-paste', 'small-scale', 'tongue-tied', 'tub-thumpingly', 'she-cute', '99', 'co-wrote', 'unlaughable', 'sad-sack', 'cat-and-mouser', 'low-cal', 'Sandlerian', 'self-regarding', 'well-meaning', 'merchandised-to-the-max', 'Frankenstein-monster', 'eardrum-dicing', 'self-congratulatory', 'thriller/horror', 'Truckzilla', 'Spinotti', 'Israeli-occupied', 'quasi-improvised', 'Rintarô', '1997', 'silent-movie', 'Mary-Louise', 'mesmerised', 'shoot-em-ups', 'teen-Catholic-movie', 'old-movie', 'self-actualization', 'mind-destroying', 'mock-Tarantino', 'self-aware', 'bait-and-switch', '1983', 'derring-do', 'large-frame', 'black-owned', 'Self-congratulatory', 'snore-fest', 'single-mindedness', 'fever-pitched', 'bare-midriff', 'Hellstenius', 'heart-warming', '125-year', 'hip-hop', 'Light-years', 'McBeal-style', 'Xiaoshuai', 'sleight-of-hand', 'fast-paced', 'pun-laden', 'reel-to-reel', 'hyper-realistic', 'bio-doc', 'African-American', '72-year-old', 'media-soaked', '90', '51', '1989', 'Nuttgens', 'heart-felt', 'low-grade', 'half-a-dozen', 'in-depth', 'cross-section', 'way-cool', 'full-blooded', 'sex-as-war', 'large-scale', 'post-Soviet', 'half-formed', 'Reeboir', 'common-man', 'all-too-human', 'Waydowntown', '1980s', 'well-trod', 'poster-boy', 'good-naturedness', '15-year-old', 'male-ridden', 'well-done', 'Dialogue-heavy', 'Ill-considered', 'party-hearty', 'rough-trade', '``', 'sanitised', 'real-time', 'Petin', 'flavours', 'dungpile', 'bargain-basement', 'humourless', 'story-telling', 'boom-box', 'sequel-for-the-sake', \"'n'\", 'life-size', 'Marine/legal', 'Kasem-furnished', 'semi-surrealist', 'two-dimensional', 'over-indulgent', 'girl-woman', 'docu-drama', 'lack-of-attention', 'makeup-deep', 'coming-of-age', 'the-blanks', '1915', 'angst-ridden', 'wide-awake', 'two-wrongs-make-a-right', 'oh-so', 'pouty-lipped', 'Ming-liang', 'Oscar-nominated', 'off-screen', 'of-the-week', 'heart-rate-raising', 'last-second', 'lovers-on-the-run', 'endeavour', 'wise-cracker', 'techno-horror', 'last-place', '104', 'boundary-hopping', 'Je-Gyu', 'good-for-you', 'comedy/thriller', 'off-the-wall', 'down-to-earth', 'Makmalbaf', 'over-25s', 'a-knocking', 'cliche-drenched', 'ever-growing', 'psychodramatics', 'quick-witted', 'boy-meets-girl', '1937', 'time-honored', 'big-time', 'cellophane-pop', 'Verete', 're-release', 'Plotless', 'italicizes', 'I-2-spoofing', 'Crummles', 'time-wasting', 'glass-shattering', '179-minute', 'buzz-obsessed', 'pussy-ass', 'MIBII', 'loosey-goosey', 'character-driven', '?!?', 'fantasti', 'One-of-a-kind', 'junk-calorie', '60s', 'beer-fueled', 'Thing-type', 'self-parody', '1992', 'Greek-American', '2002', 'sucker-punch', 'giant-screen', 'sitcomishly', 'high-adrenaline', 'snake-down-the-throat', '33-year-old', 'spook-a-rama', 'ennui-hobbled', 'self-indulgent', 'sense-spinning', 'fast-forward', 'dead-eyed', 'future-world', 'old-world', 'so-bad-they', 'a-bornin', 'Insufferably', '7th-century', 'two-thirds', 'character-based', 'grey', 'exporing', 'remain-nameless', 'non-porn', 'end-of-year', 'stop-and-start', 'fresh-squeezed', 'slasher-movie', 'ever-watchful', 'one-joke', 'less-compelling', 'one-star', 'Koshashvili', 'slow-motion', 'special-effects', 'Bollywood/Hollywood', 'working-class', 'kibbitzes', 'self-interest', 'one-night', 'teen-gang', 'as-it', 'b.s.', 'twinkly-eyed', 'slam-bam', 'close-ups', '100', 'xtc', 'fizzability', 'point-and-shoot', 'like-themed', 'Sha-Na-Na', 'drive-thru', '1955', 'teen-oriented', 'half-hearted', 'only-in', 'thinks-it-is', 'blank-faced', 'ballistic-pyrotechnic', 'non-stop', 'Komediant', 'Bible-study', 'foot-dragging', 'self-righteousness', 'good-bad', '87', 'talking-animal', 'hard-partying', 'near-miss', '65-year-old', 'co-writers', 'drama/action', 'Oversexed', 'hyper-cliched', '1979', 'tuba-playing', '19', 'anti-Hollywood', 'off-the-rack', 'co-star', 'at-a-frat-party', 'Phocion', '1940s', 'Catch-22', 'Chabrolian', 'masterpeice', 'often-mined', '60', 'big-bug', 'eyeball-to-eyeball', 'Fairy-tale', 'twist-and-turn', 'Chardonne', 'First-time', 'point-to-point', 'thrift-shop', 'romantic/comedy', 'Director-chef', 'Dismally', 'moldy-oldie', 'warmed-over', 'audience-abuse', 'white-knuckled', 'Oscar-winning', 'overstylized', 'has-been', 'plot-wise', '...', 'downy-cheeked', 'dolphin-gasm', 'not-very-funny', '12th', '!?', 'A.I.', 'phoney-feeling', 'Cool-J', 'follow-your-dream', 'exotic-looking', 'even-flowing', 'Ruh-roh', 'freak-outs', 'teeny-bopper', 'action-thriller/dark', 'laugther', 'co-winner', 'worldly-wise', 'caper-comedy', 'high-energy', '!', 'Armenian-Canadian', 'kid-empowerment', 'flavour', \"'40s\", 'all-French', 'stomach-knotting', 'pop-induced', 'decades-spanning', 'cameo-packed', 'huge-screen', 'send-up', '12', 'style-free', 'Splat-Man', 'co-writer', 'tongue-in-cheek', 'best-selling', 'spirit-crushing', 'one-liners', 'ten-year-old', 'media-constructed', 'well-meaningness', 'underdramatized', 'post-production', '20th-century', 'surface-obsession', 'road-and-buddy', 'closed-door', 'flatula', 'Hollywood-itis', 'anti-feminist', '1938', 'shlockmeister', 'savour', 'Pie-type', 'still-inestimable', 'single-mindedly', 'road-trip', 'big-wave', 'pre-dawn', 'follow-up', 'drive-ins', 'loosely-connected', 'in-jokey', 'twenty-some', 'techno-saturation', 're-imagining', 'great-grandson', 'under-inspired', '10,000', 'doing-it-for', '163', 'dead-eye', 'movie-movie', 'sweaty-palmed', 'thirteen-year-old', 'medium-grade', '2001', '8-10', 'A.E.W.', 'Bottom-rung', 'Well-nigh', 'indieflick', 'year-end', 'tailor-made', 'movie-making', 'singer-turned', '400', 'living-room', 'super-cool', 'high-powered', 'gut-clutching', 'off-putting', 'superlarge', 'neo-noir', 'teen-exploitation', 'after-school', 'make-believe', 'Schmaltzy', 'better-focused', 'girl-power', 'humor-seeking', 'heart-breaking', 'go-round', 'mini-mod-madness', 'self-glorification', 'sold-out', 'genre-curling', 'goth-vampire', 'Benshan', 'time-killer', 'prechewed', 'ill-starred', 'sitcom-worthy', 'step-printing', 'telanovela', 'coloured', 'TV-insider', '1978', '3/4th', 'mind-numbingly', 'bone-dry', 'skate/surf', '2525', 'hard-pressed', 'well-timed', 'teen-pop', 'post-modern', 'Næs', '170', '10-inch', 'post-September', 'crime-land', 'talk-show', 'toe-to-toe', 'up-and-coming', 'comic-strip', 'X-Men', 'over-reliance', 'user-friendly', 'post-adolescent', 'self-revealing', 'O2-tank', 'back-stabbing', 'hotsies', 'saucer-eyed', 'video-shot', '22', 'American-style', 'self-contained', 'post-9', 'horror/action', 'critic-proof', 'hit-hungry', 'give-me-an-Oscar', 'groan-to-guffaw', 'Maelström', 'toss-up', 'Hanussen', 'heavy-handedness', 'action-oriented', 'pre-teen', 'ultra-violent', 'Travil', 'eye-opener', 'hack-and-slash', 'three-ring', 'new/old', 'direct-to-video', 'show-biz', 'cross-shaped', 'ultra-provincial', 'testosterone-charged', 'stand-up-comedy', 'in-between', '20th-Century', 'doe-eyed', 'ticket-buyers', 'self-indulgence', '40-minute', 'documentary-like', 'pseudo-educational', 'feel-good', '10th', 'time-consuming', 'post-Saving', 'anti-date', 'PG-13', 'under-12', '13', 'B-movie', 'meet-cute', 'challenge-hungry', 'not-so-funny', 'Control-Alt-Delete', 'flakeball', 'I.Q.', 'self-mutilating', 'Banderas-Lucy', 'well-honed', '21/2', 'hoity-toity', 'no-budget', 'bow-wow', 'best-known', 'late-inning', 'overmanipulative', 'anti-Kieslowski', 'full-bodied', 'nail-biter', 'hook-ups', '1950s', 'get-out', 're-creation', 'luv-spreading', '.', 'lascivious-minded', 'straight-up', 'slow-paced', 'avant-garde', 'old-hat', '13th', 'drippiness', 'Stultifyingly', 'uncharismatically', 'mind-blowing', '800-page', 'strainingly', 'word-of-mouth', 'i.e.', 'extra-large', 'Qatsi', 'stiletto-stomps', 'day-to-day', 'hard-driving', 'sillified', 'snazziness', 'ego-destroying', 'low-key', 'slap-happy', 'Efteriades', 'Jeong-Hyang', 'surfer-girl', 'videologue', '50-year-old', 'message-movie', 'rah-rah', 'nine-year-old', 'fly-on-the-wall', 'kids-in-peril', 'docu-makers', 'pro-fat', 'Discursive', 'Weapon-derived', '1995', 'gone-to-seed', 'rap-metal', 'semi-amusing', 'post-breakup', 'quasi-documentary', '110', 'spy-thriller', \"d'etre\", '401', 'e-graveyard', 'haunted-house', 'Poke-mania', 'democracie', 'soul-killing', 'Well-shot', 'monkeyfun', 'mother-daughter', 'scene-chewing', 'bad-luck', 're-working', 'bang-bang', 'nonethnic', 'campaign-trail', '72-minute', \"'60s\", 'comedy/drama', 'self-discovery', 'ooky-spookies', 'of-a-sequel', 'unfakable', 'Watstein', 'off-the-cuff', 'fabuleux', '1958', 'scene-stealing', 'a', 'hard-eyed', 'moral-condundrum', 'Birot', 'pre-credit', 'derisions', 'quick-cuts', 'beer-soaked', 'near-hypnotic', 'co-director', 'box-office', 'Anne-Sophie', 'voices-from-the-other-side', 'ink-and-paint', 'sixties-style', 'soap-opera', 'achronological', 'Nietzsche-referencing', 'pseudo-rock-video', 'semi-coherent', 'Re-Fried', 'stand-up', 'bump-in', 'ultra-manipulative', '2455', 'writer-director', \"'90s\", 'dumbfoundingly', 'self-aggrandizing', 'overly-familiar', 'sub-sophomoric', 're-voiced', 'made-for-home-video', 'action/thriller', 'pantomimesque', 'zzzzzzzzz', 'nerve-raked', 'ill-wrought', 'mind-numbing', 'self-help', 'Kaputschnik', 'Collosum', 'non-narrative', 'Warmed-over', 'wind-tunnel', 'girls-behaving-badly', 'now-cliched', 'sub-Tarantino', 'all-woman', 'Underachieves', 'Qutting', 'mail-order', 'materalism', 'high-tech', 'scuzbag', 'Shagster', 'pell-mell', 'cremaster', '37-minute', 'than-likely', 'mid-range', 'père-fils', 'pressure-cooker', 'award-worthy', 'crime-film', 'passive-aggressive', 'labelled', 'Hitler-study', 'self-interested', 'kid-vid', 'bore-athon', 'non-threatening', '50', 'tone-deaf', 'stadium-seat', 'self-satisfied', 'shoe-loving', 'dullingly', 'post-feminist', 'fill-in', 'wide-smiling', 'community-therapy', 'third-best', 'late-twenty-somethings', 'sugar-coating', 'four-hour', 'run-on', 'sun-drenched', 'hypertime', 'dust-caked', '11-year-old', 'post-colonialist', '70s', 'labours', 'R&D', 'smack-dab', 'Witch-style', 'unrecommendable', 'sugar-coated', 'time-vaulting', 'bottom-feeder', \"'80s\", 'movie-specific', 'not-too-distant', 'pay-off', 'Ya-Yas', 'tissue-thin', '2-D', '168-minute', 'light-heartedness', 'half-baked', 'heart-tugging', 'all-enveloping', 'lame-old', 'flame-like', 'aborbing', 'rose-tinted', 'female-bonding', 'double-barreled', 'misty-eyed', 'migraine-inducing', 'finding-herself', 'glacier-paced', 'major-league', 'head-banging', '30', 'lighter-than-air', 'crappola', 'techno-sex', 'open-faced', 'Punitively', 'creepy-crawly', 'thriller-noir', 'third-rate', 're-create', '88-minute', 'martial-arts', 'look-see', 'slash-dash', 'First-timer', 'cookie-cutter', 'self-pitying', 'brain-slappingly', 'bigger-name', 'African-Americans', 'date-night', 'hippie-turned-yuppie', 'unemotive', 'sports-movie', 'Slowtime', 'less-than-thrilling', 'gross-out', 'E.T', 'disaffected-indie-film', 'artnering', 'Denlopp', 'categorisation', 'off-Hollywood', '65-minute', 'post-camp', 'gang-member', 'one-room', 'Hypnotically', 'roller-coaster', 'slam-bang', 'paint-by-number', 'head-turner', 'self-promotion', 'all-ages', 'chloroform-soaked', 'to-do', 'giggle-inducing', 'queasy-stomached', 'Blandly', 'Art-house', 'pseudo-sophisticated', 'Less-than-compelling', 'wide-eyed', 'post-Tarantino', 'full-fledged', 'Scene-by-scene', 'well-balanced', 'top-notch', 'best-foreign-film', 'navel-gazing', 'Gaï', 'Brother-Man', '13-year-old', 'ready-made', '1993', 'blown-out', 'bottomlessly', 'Christian-themed', 'self-hating', 'heart-wrenching', 'long-range', 'anti-establishment', 'extra-dry', 'cat-and-cat', 'well-observed', 'ever-ruminating', 'pre-9', 'bliss-less', 'rock-n-rolling', 'egocentricities', 'self-absorption', 'kill-by-numbers', 'toe-tapping', 'killer-thrillers', 'as-nasty', 'studio-produced', 'of', '300', 'summer-camp', 'multi-character', 'hit-to-miss', 'full-on', 'bling-bling', 'no-bull', 'family-oriented', 'mid-to-low', 'work-hours', 'ill-equipped', 'grown-up', 'big-name', 'pencil-thin', 'split-screen', 'mid-seventies', 'belly-dancing', 'candy-like', 'jump-in-your-seat', '1.8', 'Good-looking', 'old-fashioned-movie', 'focus-grouped', 'yarn-spinner', 'cliché-riddled', '26', 'mix-and', 'well-edited', 'must-see', 'light-hearted', 'so-so', 'matter-of-fact', 'gruelling', 'hanky-panky', 'all-American', 'truck-loving', 'smart-aleck', 'head-on', 'collage-form', 'reel/real', 'cold-blooded', 'edge-of-your-seat', 'movie-goers', 'grade-school', 'Ki-Deok', 'white-on-black', 'the-cash', 'handsome-looking', 'alientation', 'comic/thriller', 'second-guess', 'trumped-up', 'self-consciousness', 'bio-pic', 'neo-Augustinian', '1962', 'mind-bender', 'parent-child', '451', 'bang-the-drum', 'goose-pimple', 'Playboy-mansion', 'skin-deep', 'low-tech', '1930s', 's/m', 'Uruk-Hai', 'low-down', 'Baby-faced', 'drama/character', 'Thought-provoking', 'unsalvageability', 'by-the-book', 'one-trick', 'close-up', 're-hash', 'al.', 'Whiffle-Ball', 'anti-adult', 'instalment', 'Bruckheimeresque', '3000', 'swimfan', 'ultra-loud', 'page-turner', 'co-dependence', 'sweet-natured', 'Georgian-Israeli', 'one-dimensional', 'build-up', 'college-friends', 'pile-ups', '112-minute', 'damaged-goods', 'so-bad-it', 'manga-like', 'pop-culture', 'not-so-hot', 'technology-of-the-moment', 'full-length', 'art-conscious', 'not-so-small', 'book-on-tape', 'picture-perfect', 'surface-effect', 'crowd-pleasing', '10-course', 'headbangingly', 'cinema-and-self', 'often-deadly', 'post-Full', 'cutting-room', 'thirty-three', 'gunfest', 'far-fetched', 'back-story', 'live-action', 'Jam-packed', 'direct-to-video/DVD', 'laboriousness', 'dead-on', 'half-bad', 'once-over', 'hands-off', 'non-starter', '105', 'well-rounded', 'B-12', 'K-19', 'Punch-and-Judy', '97', 'long-lived', 'Live-honed', 'beast-within', 'yawn-provoking', 'pro-Serb', 'walking-dead', 'ploughing', 'song-and-dance-man', 'genial-rogue', 'not-so-stock', 'miscasts', 'shock-you-into-laughter', 'half-dozen', 'Brit-com', '90-minute', 'movie-going', 'sure-fire', 'non-techies', 'conflict-powered', '65th', 'dead-undead', 'social/economic/urban', 'hotter-two-years-ago', 'actorliness', 'high-spirited', 'heart-breakingly', 'spiritual-uplift', 'cheese-laced', 'six-time', 'Well-made', 'zombie-land', 'Altman-esque', 'Kafka-inspired', 'girl-buddy', 'family-film', 'time-travel', 'zinger-filled', '3-year-olds', 'video-game-based', 'high-buffed', 'character-oriented', '117', 'none-too-funny', 'laugh-free', 'well-constructed', 'bad-movie', '1971', 'knock-off', 'ham-fisted', 'not-at-all-good', '94', 'writer-producer-director', 'V.S.', 'platinum-blonde', 'good-deed/bad-deed', 'aboul', 'all-around', 'dull-witted', 'Phonce'}\n",
            "2779\n",
            "21699\n",
            "18922\n"
          ]
        }
      ],
      "source": [
        "# YOUR CODE HERE\n",
        "words_not_found = set()\n",
        "words_found = set()\n",
        "\n",
        "token_set = (train_data, dev_data, test_data)\n",
        "\n",
        "for x in token_set:\n",
        "    for data_set in (x,):\n",
        "        for ex in data_set:\n",
        "            for token in ex.tokens:\n",
        "                words_found.add(token)\n",
        "\n",
        "words_not_found = {word for word in words_found if word not in v_new.w2i.keys()}\n",
        "\n",
        "print(words_not_found)\n",
        "print(len(words_not_found))\n",
        "print(len(words_found))\n",
        "print(len(v_new.w2i))\n"
      ]
    },
    {
      "cell_type": "markdown",
      "metadata": {
        "id": "BfEd38W0NnAI"
      },
      "source": [
        "#### Exercise: train Deep CBOW with (fixed) pre-trained embeddings\n",
        "\n",
        "Now train Deep CBOW again using the pre-trained word vectors.\n"
      ]
    },
    {
      "cell_type": "code",
      "execution_count": 57,
      "metadata": {
        "id": "4fLksLPCTRpz"
      },
      "outputs": [],
      "source": [
        "# We define a new class that inherits from DeepCBOW.\n",
        "\n",
        "# class PTDeepCBOW(Deep_CBOW):\n",
        "  #def __init__(self, vocab_size, embedding_dim, hidden_dim, output_dim, vocab):\n",
        "   # super(DeepCBOW, self).__init__(vocab_size, embedding_dim, hidden_dim, output_dim, vocab)\n",
        "\n",
        "class PT_Deep_CBOW(nn.Module):\n",
        "  \"\"\"A simple bag-of-words model\"\"\"\n",
        "\n",
        "  def __init__(self, vocab_size, embedding_dim, hidden_dim, output_dim, vocab):\n",
        "    super(PT_Deep_CBOW, self).__init__()\n",
        "\n",
        "    self.vocab = vocab\n",
        "    \n",
        "    # this is a trainable look-up table with word embeddings\n",
        "    self.embed = nn.Embedding(vocab_size, embedding_dim)\n",
        "    \n",
        "    # Linear layer\n",
        "    self.linear1 = nn.Linear(embedding_dim, hidden_dim)   \n",
        "    self.linear2 = nn.Linear(hidden_dim, hidden_dim) \n",
        "\n",
        "    # Output Projection layer\n",
        "    self.linear3 = nn.Linear(hidden_dim, output_dim)     \n",
        "\n",
        "    #Activation Layer\n",
        "    self.act_fn = nn.Tanh()\n",
        "\n",
        "  def forward(self, inputs):\n",
        "    # this is the forward pass of the neural network\n",
        "    # it applies a function to the input and returns the output\n",
        "\n",
        "    # this looks up the embeddings for each word ID in inputs\n",
        "    # the result is a sequence of word embeddings\n",
        "    output = self.embed(inputs)\n",
        "    output = self.linear1(output)\n",
        "    output = self.act_fn(output)\n",
        "    output = self.linear2(output)\n",
        "    output = self.act_fn(output)\n",
        "    output = self.linear3(output)\n",
        "\n",
        "    \n",
        "    # the output is the sum across the time dimension (1)\n",
        "    # with the bias term added\n",
        "    logits = output.sum(1)\n",
        "\n",
        "    return logits"
      ]
    },
    {
      "cell_type": "code",
      "execution_count": 58,
      "metadata": {
        "colab": {
          "base_uri": "https://localhost:8080/"
        },
        "id": "JfIh4Ni6yuAh",
        "outputId": "7744f0de-949f-45ae-9a6d-5a3b9d5aabf8"
      },
      "outputs": [
        {
          "output_type": "stream",
          "name": "stdout",
          "text": [
            "PT_Deep_CBOW(\n",
            "  (embed): Embedding(18922, 300)\n",
            "  (linear1): Linear(in_features=300, out_features=100, bias=True)\n",
            "  (linear2): Linear(in_features=100, out_features=100, bias=True)\n",
            "  (linear3): Linear(in_features=100, out_features=5, bias=True)\n",
            "  (act_fn): Tanh()\n",
            ")\n",
            "Shuffling training data\n",
            "Iter 1000: loss=1569.8072, time=1.54s\n",
            "iter 1000: dev acc=0.3306\n",
            "new highscore\n",
            "Iter 2000: loss=1455.9259, time=3.51s\n",
            "iter 2000: dev acc=0.3451\n",
            "new highscore\n",
            "Iter 3000: loss=1439.2495, time=5.59s\n",
            "iter 3000: dev acc=0.3460\n",
            "new highscore\n",
            "Iter 4000: loss=1417.1235, time=7.69s\n",
            "iter 4000: dev acc=0.3951\n",
            "new highscore\n",
            "Iter 5000: loss=1378.8042, time=9.64s\n",
            "iter 5000: dev acc=0.3797\n",
            "Iter 6000: loss=1408.6433, time=11.53s\n",
            "iter 6000: dev acc=0.3951\n",
            "Iter 7000: loss=1377.8420, time=13.51s\n",
            "iter 7000: dev acc=0.3824\n",
            "Iter 8000: loss=1381.2391, time=15.39s\n",
            "iter 8000: dev acc=0.3560\n",
            "Shuffling training data\n",
            "Iter 9000: loss=1368.2241, time=17.25s\n",
            "iter 9000: dev acc=0.3642\n",
            "Iter 10000: loss=1373.0585, time=19.07s\n",
            "iter 10000: dev acc=0.3951\n",
            "Iter 11000: loss=1298.1509, time=20.91s\n",
            "iter 11000: dev acc=0.4033\n",
            "new highscore\n",
            "Iter 12000: loss=1397.1946, time=22.77s\n",
            "iter 12000: dev acc=0.3733\n",
            "Iter 13000: loss=1357.2092, time=24.58s\n",
            "iter 13000: dev acc=0.3833\n",
            "Iter 14000: loss=1354.3255, time=26.45s\n",
            "iter 14000: dev acc=0.3887\n",
            "Iter 15000: loss=1360.3237, time=28.31s\n",
            "iter 15000: dev acc=0.4187\n",
            "new highscore\n",
            "Iter 16000: loss=1362.9474, time=30.18s\n",
            "iter 16000: dev acc=0.3924\n",
            "Iter 17000: loss=1325.1195, time=32.00s\n",
            "iter 17000: dev acc=0.4105\n",
            "Shuffling training data\n",
            "Iter 18000: loss=1371.3768, time=33.86s\n",
            "iter 18000: dev acc=0.4114\n",
            "Iter 19000: loss=1305.2366, time=35.75s\n",
            "iter 19000: dev acc=0.4233\n",
            "new highscore\n",
            "Iter 20000: loss=1321.1400, time=37.68s\n",
            "iter 20000: dev acc=0.3942\n",
            "Iter 21000: loss=1333.4084, time=39.58s\n",
            "iter 21000: dev acc=0.4160\n",
            "Iter 22000: loss=1355.0818, time=41.46s\n",
            "iter 22000: dev acc=0.4323\n",
            "new highscore\n",
            "Iter 23000: loss=1343.5659, time=43.47s\n",
            "iter 23000: dev acc=0.4151\n",
            "Iter 24000: loss=1311.9121, time=45.33s\n",
            "iter 24000: dev acc=0.3688\n",
            "Iter 25000: loss=1339.3736, time=47.14s\n",
            "iter 25000: dev acc=0.4124\n",
            "Shuffling training data\n",
            "Iter 26000: loss=1286.1417, time=48.98s\n",
            "iter 26000: dev acc=0.3906\n",
            "Iter 27000: loss=1335.6536, time=50.80s\n",
            "iter 27000: dev acc=0.4351\n",
            "new highscore\n",
            "Iter 28000: loss=1324.0196, time=52.78s\n",
            "iter 28000: dev acc=0.3887\n",
            "Iter 29000: loss=1292.9560, time=54.70s\n",
            "iter 29000: dev acc=0.4169\n",
            "Iter 30000: loss=1319.5291, time=56.59s\n",
            "iter 30000: dev acc=0.4114\n",
            "Iter 31000: loss=1324.9739, time=58.48s\n",
            "iter 31000: dev acc=0.3960\n",
            "Iter 32000: loss=1325.9001, time=60.39s\n",
            "iter 32000: dev acc=0.4051\n",
            "Iter 33000: loss=1315.9932, time=62.30s\n",
            "iter 33000: dev acc=0.4296\n",
            "Iter 34000: loss=1318.3250, time=64.20s\n",
            "iter 34000: dev acc=0.4196\n",
            "Shuffling training data\n",
            "Iter 35000: loss=1293.9850, time=66.14s\n",
            "iter 35000: dev acc=0.4360\n",
            "new highscore\n",
            "Iter 36000: loss=1306.4008, time=68.06s\n",
            "iter 36000: dev acc=0.3896\n",
            "Iter 37000: loss=1298.2912, time=69.96s\n",
            "iter 37000: dev acc=0.4114\n",
            "Iter 38000: loss=1285.0076, time=71.88s\n",
            "iter 38000: dev acc=0.4314\n",
            "Iter 39000: loss=1320.5305, time=73.79s\n",
            "iter 39000: dev acc=0.4314\n",
            "Iter 40000: loss=1289.4873, time=75.61s\n",
            "iter 40000: dev acc=0.4105\n",
            "Iter 41000: loss=1337.2673, time=77.47s\n",
            "iter 41000: dev acc=0.4105\n",
            "Iter 42000: loss=1276.1754, time=79.34s\n",
            "iter 42000: dev acc=0.3678\n",
            "Shuffling training data\n",
            "Iter 43000: loss=1287.1769, time=81.23s\n",
            "iter 43000: dev acc=0.4114\n",
            "Iter 44000: loss=1243.3854, time=83.13s\n",
            "iter 44000: dev acc=0.4124\n",
            "Iter 45000: loss=1283.3329, time=84.98s\n",
            "iter 45000: dev acc=0.4305\n",
            "Done training, model converged\n",
            "Loading best model\n",
            "best model iter 35000: train acc=0.4615, dev acc=0.4360, test acc=0.4344\n"
          ]
        }
      ],
      "source": [
        "# Create a Deep CBOW model with pre-trained embeddings\n",
        "# YOUR CODE HERE\n",
        "\n",
        "num_embed = 300\n",
        "num_hidden = 100\n",
        "\n",
        "pt_deep_cbow_model = PT_Deep_CBOW(vocab_size = len(v_new.i2w), embedding_dim = num_embed, hidden_dim = num_hidden,  output_dim = n_classes, vocab = v_new)\n",
        "print(pt_deep_cbow_model)\n",
        "\n",
        "\n",
        "\n",
        "# copy pre-trained word vectors into embeddings table\n",
        "pt_deep_cbow_model.embed.weight.data.copy_(torch.from_numpy(vectors))\n",
        "\n",
        "# disable training the pre-trained embeddings\n",
        "pt_deep_cbow_model.embed.weight.requires_grad = False\n",
        "\n",
        "# move model to specified device\n",
        "pt_deep_cbow_model = pt_deep_cbow_model.to(device)\n",
        "\n",
        "# train the model\n",
        "# YOUR CODE HERE\n",
        "# If everything is in place we can now train our first model!\n",
        "\n",
        "optimizer = optim.Adam(pt_deep_cbow_model.parameters(), lr=0.0005)\n",
        "\n",
        "model_name = pt_deep_cbow_model.__class__.__name__\n",
        "\n",
        "if not os.path.exists(\"{}.pt\".format(model_name)):\n",
        "    pt_deep_cbow_losses, pt_deep_cbow_accuracies = train_model(\n",
        "    pt_deep_cbow_model, optimizer, num_iterations=30000, \n",
        "    print_every=1000, eval_every=1000)\n",
        "else:\n",
        "    print('Model already trained')\n",
        "    pt_deep_cbow_losses, pt_deep_cbow_accuracies = 'No training done', 'No training done'\n",
        "\n",
        "# get accuracies for each sentence length and store all results\n",
        "path = \"{}.pt\".format(model_name)       \n",
        "ckpt = torch.load(path)\n",
        "pt_deep_cbow_model.load_state_dict(ckpt[\"state_dict\"])\n",
        "\n",
        "_, _, pt_deep_cbow_test_acc = simple_evaluate(pt_deep_cbow_model, test_data, prep_fn=prepare_example)\n",
        "_, _, pt_deep_cbow_sentence_length_accs = eval_sentence_length(pt_deep_cbow_model, test_data, prep_fn=prepare_example)\n",
        "\n",
        "# save results in results dict\n",
        "results_dict[model_name] = {}\n",
        "results_dict[model_name]['train_losses'] = pt_deep_cbow_losses\n",
        "results_dict[model_name]['train_accuracies'] = pt_deep_cbow_accuracies\n",
        "results_dict[model_name]['test_accuracy'] = pt_deep_cbow_test_acc\n",
        "results_dict[model_name]['sentence_length_results'] = pt_deep_cbow_sentence_length_accs\n",
        "\n"
      ]
    },
    {
      "cell_type": "code",
      "execution_count": 59,
      "metadata": {
        "colab": {
          "base_uri": "https://localhost:8080/",
          "height": 284
        },
        "id": "Ufujv3x31ufD",
        "outputId": "a3b0ec58-b2fe-4c09-a508-f0d5ff5d5e50"
      },
      "outputs": [
        {
          "output_type": "execute_result",
          "data": {
            "text/plain": [
              "[<matplotlib.lines.Line2D at 0x7f1a1512fc10>]"
            ]
          },
          "metadata": {},
          "execution_count": 59
        },
        {
          "output_type": "display_data",
          "data": {
            "image/png": "[encoded data removed]",
            "text/plain": [
              "<Figure size 432x288 with 1 Axes>"
            ]
          },
          "metadata": {
            "needs_background": "light"
          }
        }
      ],
      "source": [
        "# plot dev accuracies\n",
        "plt.plot(pt_deep_cbow_accuracies)"
      ]
    },
    {
      "cell_type": "code",
      "execution_count": 60,
      "metadata": {
        "colab": {
          "base_uri": "https://localhost:8080/",
          "height": 282
        },
        "id": "YTJtKBzd7Qjr",
        "outputId": "03d9ed0d-fdc0-4bef-cc83-496bfd7aad50"
      },
      "outputs": [
        {
          "output_type": "execute_result",
          "data": {
            "text/plain": [
              "[<matplotlib.lines.Line2D at 0x7f19c2481450>]"
            ]
          },
          "metadata": {},
          "execution_count": 60
        },
        {
          "output_type": "display_data",
          "data": {
            "image/png": "[encoded data removed]",
            "text/plain": [
              "<Figure size 432x288 with 1 Axes>"
            ]
          },
          "metadata": {
            "needs_background": "light"
          }
        }
      ],
      "source": [
        "# plot train loss\n",
        "plt.plot(pt_deep_cbow_losses)"
      ]
    },
    {
      "cell_type": "markdown",
      "metadata": {
        "id": "yFu8xzCy9XDW"
      },
      "source": [
        "**It looks like we've hit what is possible with just using words.**\n",
        "Let's move on by incorporating word order!"
      ]
    },
    {
      "cell_type": "markdown",
      "metadata": {
        "id": "g41yW4PL9jG0"
      },
      "source": [
        "# LSTM"
      ]
    },
    {
      "cell_type": "markdown",
      "metadata": {
        "id": "ODzXEH0MaGpa"
      },
      "source": [
        "It is time to get more serious. Even with pre-trained word embeddings and multiple layers, we still seem to do pretty badly at sentiment classification. \n",
        "The next step we can take is to introduce word order again, dropping our independence assumptions. In this way, we can get a representation of the sentence as an ordered set of tokens.\n",
        "\n",
        "We will get this representation using a **Long Short-Term Memory** (LSTM). As an exercise, we will code our own LSTM cell, so that we get comfortable with its inner workings.\n",
        "Once we have an LSTM cell, we can call it repeatedly, updating its hidden state one word at a time:\n",
        "\n",
        "```python\n",
        "rnn = MyLSTMCell(input_size, hidden_size)\n",
        "\n",
        "hx = torch.zeros(1, hidden_size)  # initial hidden state\n",
        "cx = torch.zeros(1, hidden_size)  # initial memory cell\n",
        "output = []                       # to save intermediate LSTM states\n",
        "\n",
        "# feed one word at a time\n",
        "for i in range(n_timesteps):\n",
        "  hx, cx = rnn(input[i], (hx, cx))\n",
        "  output.append(hx)\n",
        "```\n",
        "\n",
        "If you need some more help understanding LSTMs, you can check out these resources:\n",
        "- Blog post (highly recommended): http://colah.github.io/posts/2015-08-Understanding-LSTMs/\n",
        "- Paper covering LSTM formulas in detail: https://arxiv.org/abs/1503.04069 \n"
      ]
    },
    {
      "cell_type": "markdown",
      "metadata": {
        "id": "v9f4b45BXKFC"
      },
      "source": [
        "#### Exercise: Finish the LSTM cell below. \n",
        "You will need to implement the LSTM formulas:\n",
        "\n",
        "$$\n",
        "\\begin{array}{ll}\n",
        "        i = \\sigma(W_{ii} x + b_{ii} + W_{hi} h + b_{hi}) \\\\\n",
        "        f = \\sigma(W_{if} x + b_{if} + W_{hf} h + b_{hf}) \\\\\n",
        "        g = \\tanh(W_{ig} x + b_{ig} + W_{hg} h + b_{hg}) \\\\\n",
        "        o = \\sigma(W_{io} x + b_{io} + W_{ho} h + b_{ho}) \\\\\n",
        "        c' = f * c + i * g \\\\\n",
        "        h' = o \\tanh(c') \\\\\n",
        "\\end{array}\n",
        " $$\n",
        "\n",
        "where $\\sigma$ is the sigmoid function.\n",
        "\n",
        "*Note that the LSTM formulas can differ slightly between different papers. We use the PyTorch LSTM formulation here.*"
      ]
    },
    {
      "cell_type": "code",
      "execution_count": 61,
      "metadata": {
        "id": "zJ9m5kLMd7-v"
      },
      "outputs": [],
      "source": [
        "from torch.autograd import Variable\n",
        "\n",
        "class MyLSTMCell(nn.Module):\n",
        "  \"\"\"Our own LSTM cell\"\"\"\n",
        "\n",
        "  def __init__(self, input_size, hidden_size, bias = True):\n",
        "    \"\"\"Creates the weights for this LSTM\"\"\"\n",
        "    super(MyLSTMCell, self).__init__()\n",
        "\n",
        "    self.input_size = input_size\n",
        "    self.hidden_size = hidden_size\n",
        "    self.bias = bias\n",
        "    \n",
        "    # YOUR CODE HERE\n",
        "\n",
        "    self.xh = nn.Linear(input_size, hidden_size * 4, bias=bias)\n",
        "    self.hh = nn.Linear(hidden_size, hidden_size * 4, bias=bias)\n",
        "\n",
        "    self.reset_parameters()\n",
        "\n",
        "  def reset_parameters(self):\n",
        "    \"\"\"This is PyTorch's default initialization method\"\"\"\n",
        "    stdv = 1.0 / math.sqrt(self.hidden_size)\n",
        "    for weight in self.parameters():\n",
        "      weight.data.uniform_(-stdv, stdv)  \n",
        "\n",
        "  def forward(self, input_, hx, mask=None):\n",
        "    \"\"\"\n",
        "    input is (batch, input_size)\n",
        "    hx is ((batch, hidden_size), (batch, hidden_size))\n",
        "    \"\"\"\n",
        "\n",
        "    hx, cx = hx\n",
        "\n",
        "    gates = self.xh(input_) + self.hh(hx)\n",
        "\n",
        "    # Get gates (i_t, f_t, g_t, o_t)\n",
        "    input_gate, forget_gate, cell_gate, output_gate = gates.chunk(4, 1)\n",
        "\n",
        "    i_t = torch.sigmoid(input_gate)\n",
        "    f_t = torch.sigmoid(forget_gate)\n",
        "    g_t = torch.tanh(cell_gate)\n",
        "    o_t = torch.sigmoid(output_gate)\n",
        "\n",
        "    c = cx * f_t + i_t * g_t\n",
        "    h = o_t * torch.tanh(c)\n",
        "    \n",
        "    return h, c\n",
        "  \n",
        "  def __repr__(self):\n",
        "    return \"{}({:d}, {:d})\".format(\n",
        "        self.__class__.__name__, self.input_size, self.hidden_size)"
      ]
    },
    {
      "cell_type": "markdown",
      "metadata": {
        "id": "4JM7xPhkQeE5"
      },
      "source": [
        "#### Optional: Efficient Matrix Multiplication\n",
        "\n",
        "It is more efficient to do a few big matrix multiplications than to do many smaller ones. So we will implement the above cell using just **two** linear layers.\n",
        "\n",
        "This is possible because the eight linear transformations contained in one forward pass through an LSTM cell can be reduced to just two:\n",
        "$$W_h h + b_h$$\n",
        "$$W_i x + b_i $$ \n",
        "\n",
        "with $h = $ `prev_h` and $x = $ `input_`.\n",
        "\n",
        "and where: \n",
        "\n",
        "$W_h =  \\begin{pmatrix}\n",
        "W_{hi}\\\\ \n",
        "W_{hf}\\\\ \n",
        "W_{hg}\\\\ \n",
        "W_{ho}\n",
        "\\end{pmatrix}$, $b_h = \\begin{pmatrix}\n",
        "b_{hi}\\\\ \n",
        "b_{hf}\\\\ \n",
        "b_{hg}\\\\ \n",
        "b_{ho}\n",
        "\\end{pmatrix}$,  $W_i = \\begin{pmatrix}\n",
        "W_{ii}\\\\ \n",
        "W_{if}\\\\ \n",
        "W_{ig}\\\\ \n",
        "W_{io}\n",
        "\\end{pmatrix}$ and $b_i = \\begin{pmatrix}\n",
        "b_{ii}\\\\ \n",
        "b_{if}\\\\ \n",
        "b_{ig}\\\\ \n",
        "b_{io}\n",
        "\\end{pmatrix}$.\n",
        "\n",
        "Convince yourself that, after chunking with [torch.chunk](https://pytorch.org/docs/stable/torch.html?highlight=chunk#torch.chunk), the output of those two linear transformations is equivalent to the output of the eight linear transformations in the LSTM cell calculations above."
      ]
    },
    {
      "cell_type": "markdown",
      "metadata": {
        "id": "X9gA-UcqSBe0"
      },
      "source": [
        "#### LSTM Classifier\n",
        "\n",
        "Having an LSTM cell is not enough: we still need some code that calls it repeatedly, and then makes a prediction from the final hidden state. \n",
        "You will find that code below. Make sure that you understand it."
      ]
    },
    {
      "cell_type": "code",
      "execution_count": 62,
      "metadata": {
        "id": "3iuYZm5poEn5"
      },
      "outputs": [],
      "source": [
        "class LSTMClassifier(nn.Module):\n",
        "  \"\"\"Encodes sentence with an LSTM and projects final hidden state\"\"\"\n",
        "\n",
        "  def __init__(self, vocab_size, embedding_dim, hidden_dim, output_dim, vocab):\n",
        "    super(LSTMClassifier, self).__init__()\n",
        "    self.vocab = vocab\n",
        "    self.hidden_dim = hidden_dim\n",
        "    self.embed = nn.Embedding(vocab_size, embedding_dim, padding_idx=1)\n",
        "    self.rnn = MyLSTMCell(embedding_dim, hidden_dim)\n",
        "    \n",
        "    self.output_layer = nn.Sequential(     \n",
        "        nn.Dropout(p=0.5),  # explained later\n",
        "        nn.Linear(hidden_dim, output_dim)\n",
        "    )\n",
        "\n",
        "  def forward(self, x):\n",
        "    \n",
        "    B = x.size(0)  # batch size (this is 1 for now, i.e. 1 single example)\n",
        "    T = x.size(1)  # timesteps (the number of words in the sentence)\n",
        "    \n",
        "    input_ = self.embed(x)\n",
        "\n",
        "    # here we create initial hidden states containing zeros\n",
        "    # we use a trick here so that, if input is on the GPU, then so are hx and cx\n",
        "    hx = input_.new_zeros(B, self.rnn.hidden_size)\n",
        "    cx = input_.new_zeros(B, self.rnn.hidden_size)\n",
        "    \n",
        "    # process input sentences one word/timestep at a time\n",
        "    # input is batch-major (i.e., batch size is the first dimension)\n",
        "    # so the first word(s) is (are) input_[:, 0]\n",
        "    outputs = []   \n",
        "    for i in range(T):\n",
        "      hx, cx = self.rnn(input_[:, i], (hx, cx))\n",
        "      outputs.append(hx)\n",
        "    \n",
        "    # if we have a single example, our final LSTM state is the last hx\n",
        "    if B == 1:\n",
        "      final = hx\n",
        "    else:\n",
        "      #\n",
        "      # This part is explained in next section, ignore this else-block for now.\n",
        "      #\n",
        "      # We processed sentences with different lengths, so some of the sentences\n",
        "      # had already finished and we have been adding padding inputs to hx.\n",
        "      # We select the final state based on the length of each sentence.\n",
        "      \n",
        "      # two lines below not needed if using LSTM from pytorch\n",
        "      outputs = torch.stack(outputs, dim=0)           # [T, B, D]\n",
        "      outputs = outputs.transpose(0, 1).contiguous()  # [B, T, D]\n",
        "      \n",
        "      # to be super-sure we're not accidentally indexing the wrong state\n",
        "      # we zero out positions that are invalid\n",
        "      pad_positions = (x == 1).unsqueeze(-1)\n",
        "      \n",
        "      outputs = outputs.contiguous()      \n",
        "      outputs = outputs.masked_fill_(pad_positions, 0.)\n",
        "        \n",
        "      mask = (x != 1)  # true for valid positions [B, T]\n",
        "      lengths = mask.sum(dim=1)                 # [B, 1]\n",
        "\n",
        "      indexes = (lengths - 1) + torch.arange(B, device=x.device, dtype=x.dtype) * T\n",
        "      final = outputs.view(-1, self.hidden_dim)[indexes]  # [B, D]\n",
        "    \n",
        "    # we use the last hidden state to classify the sentence\n",
        "    logits = self.output_layer(final)\n",
        "    return logits"
      ]
    },
    {
      "cell_type": "markdown",
      "metadata": {
        "id": "FxFoVpvMPB6g"
      },
      "source": [
        "#### Dropout\n",
        "\n",
        "Data sparsity and a small data set can cause *overfitting*. This is a phenomenom that is very likely to occur when training strong and expressive models, like LSTMs, on small data. In practice, if your model overfits, this means that it will be very good at predicting (or \"remembering\") the sentiment of the training set, but unable to generalise to new, unseen data in the test set. This is undesirable and one technique to mitigate this issue is *dropout*. \n",
        "\n",
        "A dropout layer is defined by the following formula, which can be applied, for example, to a linear layer:\n",
        "\n",
        "$$\\text{tanh}(W(\\mathbf{h}\\odot \\mathbf{d}) + \\mathbf{b})$$\n",
        "\n",
        "where $\\mathbf{d} \\in \\{0, 1\\}^n$, with $d_j \\sim \\text{Bernoulli}(p)$, \n",
        "\n",
        "These formula simply means that we *drop* certain parameters during training (by setting them to zero). Which parameters we drop is stochastically determined by a Bernoulli distribution and the probability of each parameter being dropped is set to $p = 0.5$ in our experiments (see the previous cell of code where we define our output layer). A dropout layer can be applied at many different places in our models. This technique helps against the undesirable effect that a model relies on single parameters for prediction (e.g. if $h^{\\prime}_j$ is large, always predict positive). If we use dropout, the model needs to learn to rely on different parameters, which is desirable to obtain better generalisation to unseen data."
      ]
    },
    {
      "cell_type": "markdown",
      "metadata": {
        "id": "XQjEjLt9z0XW"
      },
      "source": [
        "**Let's train our LSTM!** Note that is will be a lot slower than previous models because we need to do many more computations per sentence.\n",
        "\n",
        "#### Training"
      ]
    },
    {
      "cell_type": "code",
      "execution_count": 63,
      "metadata": {
        "colab": {
          "base_uri": "https://localhost:8080/"
        },
        "id": "LgZoSPD4fsf_",
        "outputId": "cf6a2180-1cce-46ba-8489-e25ae000b556"
      },
      "outputs": [
        {
          "output_type": "stream",
          "name": "stdout",
          "text": [
            "LSTMClassifier(\n",
            "  (embed): Embedding(18922, 300, padding_idx=1)\n",
            "  (rnn): MyLSTMCell(300, 168)\n",
            "  (output_layer): Sequential(\n",
            "    (0): Dropout(p=0.5, inplace=False)\n",
            "    (1): Linear(in_features=168, out_features=5, bias=True)\n",
            "  )\n",
            ")\n",
            "embed.weight             [18922, 300] requires_grad=False\n",
            "rnn.xh.weight            [672, 300]   requires_grad=True\n",
            "rnn.xh.bias              [672]        requires_grad=True\n",
            "rnn.hh.weight            [672, 168]   requires_grad=True\n",
            "rnn.hh.bias              [672]        requires_grad=True\n",
            "output_layer.1.weight    [5, 168]     requires_grad=True\n",
            "output_layer.1.bias      [5]          requires_grad=True\n",
            "\n",
            "Total number of parameters: 5993285\n",
            "\n",
            "Shuffling training data\n",
            "Iter 250: loss=398.7071, time=2.49s\n",
            "Iter 500: loss=395.1019, time=4.88s\n",
            "Iter 750: loss=392.0662, time=7.29s\n",
            "Iter 1000: loss=389.0477, time=9.71s\n",
            "iter 1000: dev acc=0.3170\n",
            "new highscore\n",
            "Iter 1250: loss=376.3069, time=15.80s\n",
            "Iter 1500: loss=361.4372, time=18.17s\n",
            "Iter 1750: loss=370.8229, time=20.88s\n",
            "Iter 2000: loss=353.6101, time=23.49s\n",
            "iter 2000: dev acc=0.3896\n",
            "new highscore\n",
            "Iter 2250: loss=354.0505, time=29.88s\n",
            "Iter 2500: loss=364.5367, time=32.52s\n",
            "Iter 2750: loss=353.7769, time=35.19s\n",
            "Iter 3000: loss=344.9127, time=37.69s\n",
            "iter 3000: dev acc=0.3797\n",
            "Iter 3250: loss=355.4488, time=43.96s\n",
            "Iter 3500: loss=344.5757, time=46.41s\n",
            "Iter 3750: loss=353.8104, time=49.07s\n",
            "Iter 4000: loss=354.7937, time=51.61s\n",
            "iter 4000: dev acc=0.4151\n",
            "new highscore\n",
            "Iter 4250: loss=330.4166, time=57.88s\n",
            "Iter 4500: loss=340.9704, time=60.51s\n",
            "Iter 4750: loss=338.1013, time=63.07s\n",
            "Iter 5000: loss=330.7788, time=65.53s\n",
            "iter 5000: dev acc=0.4114\n",
            "Iter 5250: loss=345.3413, time=71.71s\n",
            "Iter 5500: loss=345.4599, time=74.18s\n",
            "Iter 5750: loss=346.4205, time=76.59s\n",
            "Iter 6000: loss=328.4127, time=78.93s\n",
            "iter 6000: dev acc=0.3887\n",
            "Iter 6250: loss=341.4677, time=85.21s\n",
            "Iter 6500: loss=342.8104, time=87.72s\n",
            "Iter 6750: loss=328.4646, time=90.31s\n",
            "Iter 7000: loss=334.5390, time=92.70s\n",
            "iter 7000: dev acc=0.4042\n",
            "Iter 7250: loss=343.8011, time=98.97s\n",
            "Iter 7500: loss=323.6712, time=101.43s\n",
            "Iter 7750: loss=339.4857, time=103.99s\n",
            "Iter 8000: loss=333.4566, time=106.52s\n",
            "iter 8000: dev acc=0.4305\n",
            "new highscore\n",
            "Iter 8250: loss=346.1352, time=112.69s\n",
            "Iter 8500: loss=328.1828, time=115.27s\n",
            "Shuffling training data\n",
            "Iter 8750: loss=316.2946, time=117.83s\n",
            "Iter 9000: loss=324.9325, time=120.48s\n",
            "iter 9000: dev acc=0.3906\n",
            "Iter 9250: loss=329.7848, time=126.70s\n",
            "Iter 9500: loss=318.1232, time=129.27s\n",
            "Iter 9750: loss=320.3563, time=131.71s\n",
            "Iter 10000: loss=337.3585, time=134.03s\n",
            "iter 10000: dev acc=0.4314\n",
            "new highscore\n",
            "Iter 10250: loss=320.1923, time=140.11s\n",
            "Iter 10500: loss=331.3677, time=142.69s\n",
            "Iter 10750: loss=328.4777, time=145.17s\n",
            "Iter 11000: loss=304.8253, time=147.74s\n",
            "iter 11000: dev acc=0.4178\n",
            "Iter 11250: loss=315.2347, time=153.74s\n",
            "Iter 11500: loss=311.5628, time=156.40s\n",
            "Iter 11750: loss=316.5819, time=159.04s\n",
            "Iter 12000: loss=336.5171, time=161.59s\n",
            "iter 12000: dev acc=0.4114\n",
            "Iter 12250: loss=319.8857, time=167.98s\n",
            "Iter 12500: loss=337.0822, time=170.49s\n",
            "Iter 12750: loss=314.4856, time=173.10s\n",
            "Iter 13000: loss=323.9315, time=175.67s\n",
            "iter 13000: dev acc=0.4351\n",
            "new highscore\n",
            "Iter 13250: loss=320.3574, time=182.08s\n",
            "Iter 13500: loss=313.8176, time=184.56s\n",
            "Iter 13750: loss=310.6002, time=186.95s\n",
            "Iter 14000: loss=314.6772, time=189.42s\n",
            "iter 14000: dev acc=0.4378\n",
            "new highscore\n",
            "Iter 14250: loss=342.1638, time=195.76s\n",
            "Iter 14500: loss=306.6115, time=198.16s\n",
            "Iter 14750: loss=311.7637, time=200.59s\n",
            "Iter 15000: loss=330.1000, time=203.00s\n",
            "iter 15000: dev acc=0.4387\n",
            "new highscore\n",
            "Iter 15250: loss=318.9299, time=209.20s\n",
            "Iter 15500: loss=312.3887, time=211.69s\n",
            "Iter 15750: loss=332.4391, time=214.17s\n",
            "Iter 16000: loss=326.0512, time=216.57s\n",
            "iter 16000: dev acc=0.4387\n",
            "Iter 16250: loss=320.7890, time=222.62s\n",
            "Iter 16500: loss=313.1688, time=225.27s\n",
            "Iter 16750: loss=314.5868, time=227.83s\n",
            "Iter 17000: loss=308.8210, time=230.41s\n",
            "iter 17000: dev acc=0.4087\n",
            "Shuffling training data\n",
            "Iter 17250: loss=317.0142, time=236.92s\n",
            "Iter 17500: loss=307.0964, time=239.65s\n",
            "Iter 17750: loss=304.2430, time=242.19s\n",
            "Iter 18000: loss=311.6110, time=244.85s\n",
            "iter 18000: dev acc=0.4396\n",
            "new highscore\n",
            "Iter 18250: loss=285.9141, time=251.05s\n",
            "Iter 18500: loss=308.6075, time=253.82s\n",
            "Iter 18750: loss=326.0260, time=256.41s\n",
            "Iter 19000: loss=306.5875, time=258.94s\n",
            "iter 19000: dev acc=0.4405\n",
            "new highscore\n",
            "Iter 19250: loss=302.6555, time=265.22s\n",
            "Iter 19500: loss=321.0885, time=267.69s\n",
            "Iter 19750: loss=307.0374, time=270.11s\n",
            "Iter 20000: loss=301.0709, time=272.57s\n",
            "iter 20000: dev acc=0.4233\n",
            "Iter 20250: loss=303.8458, time=278.78s\n",
            "Iter 20500: loss=302.4334, time=281.37s\n",
            "Iter 20750: loss=307.1955, time=283.84s\n",
            "Iter 21000: loss=309.2167, time=286.47s\n",
            "iter 21000: dev acc=0.4342\n",
            "Iter 21250: loss=313.1932, time=292.51s\n",
            "Iter 21500: loss=290.3302, time=294.94s\n",
            "Iter 21750: loss=306.6607, time=297.44s\n",
            "Iter 22000: loss=319.0572, time=299.94s\n",
            "iter 22000: dev acc=0.4169\n",
            "Iter 22250: loss=314.7482, time=305.92s\n",
            "Iter 22500: loss=313.5329, time=308.44s\n",
            "Iter 22750: loss=308.2989, time=310.90s\n",
            "Iter 23000: loss=296.8314, time=313.50s\n",
            "iter 23000: dev acc=0.4369\n",
            "Iter 23250: loss=312.6696, time=319.53s\n",
            "Iter 23500: loss=314.0503, time=322.11s\n",
            "Iter 23750: loss=300.5842, time=324.70s\n",
            "Iter 24000: loss=309.7622, time=327.18s\n",
            "iter 24000: dev acc=0.4369\n",
            "Iter 24250: loss=303.5539, time=333.19s\n",
            "Iter 24500: loss=294.6568, time=335.72s\n",
            "Iter 24750: loss=316.4140, time=338.29s\n",
            "Iter 25000: loss=310.9228, time=340.80s\n",
            "iter 25000: dev acc=0.4287\n",
            "Iter 25250: loss=319.5712, time=346.96s\n",
            "Iter 25500: loss=309.6848, time=349.54s\n",
            "Shuffling training data\n",
            "Iter 25750: loss=289.1212, time=351.99s\n",
            "Iter 26000: loss=312.4270, time=354.58s\n",
            "iter 26000: dev acc=0.4169\n",
            "Iter 26250: loss=295.0631, time=360.82s\n",
            "Iter 26500: loss=305.1248, time=363.25s\n",
            "Iter 26750: loss=281.5837, time=365.87s\n",
            "Iter 27000: loss=282.9100, time=368.35s\n",
            "iter 27000: dev acc=0.4351\n",
            "Iter 27250: loss=298.0366, time=374.37s\n",
            "Iter 27500: loss=311.6369, time=376.92s\n",
            "Iter 27750: loss=281.1559, time=379.33s\n",
            "Iter 28000: loss=296.7995, time=381.79s\n",
            "iter 28000: dev acc=0.4450\n",
            "new highscore\n",
            "Iter 28250: loss=297.8233, time=387.85s\n",
            "Iter 28500: loss=275.3612, time=390.41s\n",
            "Iter 28750: loss=302.2012, time=393.00s\n",
            "Iter 29000: loss=291.7980, time=395.72s\n",
            "iter 29000: dev acc=0.4514\n",
            "new highscore\n",
            "Iter 29250: loss=315.6172, time=401.95s\n",
            "Iter 29500: loss=291.1043, time=404.57s\n",
            "Iter 29750: loss=289.9646, time=407.08s\n",
            "Iter 30000: loss=293.7120, time=409.65s\n",
            "iter 30000: dev acc=0.4423\n",
            "Iter 30250: loss=287.7122, time=415.83s\n",
            "Iter 30500: loss=307.6572, time=418.21s\n",
            "Iter 30750: loss=304.4381, time=420.81s\n",
            "Iter 31000: loss=284.2171, time=423.36s\n",
            "iter 31000: dev acc=0.4559\n",
            "new highscore\n",
            "Iter 31250: loss=308.4299, time=429.68s\n",
            "Iter 31500: loss=289.1459, time=432.13s\n",
            "Iter 31750: loss=289.8256, time=434.60s\n",
            "Iter 32000: loss=304.9055, time=436.99s\n",
            "iter 32000: dev acc=0.4514\n",
            "Iter 32250: loss=285.7096, time=443.06s\n",
            "Iter 32500: loss=314.3626, time=445.63s\n",
            "Iter 32750: loss=291.1475, time=448.02s\n",
            "Iter 33000: loss=291.5785, time=450.64s\n",
            "iter 33000: dev acc=0.4441\n",
            "Iter 33250: loss=291.2170, time=456.67s\n",
            "Iter 33500: loss=285.9622, time=459.20s\n",
            "Iter 33750: loss=284.2813, time=461.74s\n",
            "Iter 34000: loss=292.2070, time=464.43s\n",
            "iter 34000: dev acc=0.4687\n",
            "new highscore\n",
            "Shuffling training data\n",
            "Iter 34250: loss=302.9333, time=470.67s\n",
            "Iter 34500: loss=279.1857, time=473.12s\n",
            "Iter 34750: loss=266.7799, time=475.57s\n",
            "Iter 35000: loss=269.3463, time=478.11s\n",
            "iter 35000: dev acc=0.4360\n",
            "Iter 35250: loss=290.3833, time=484.25s\n",
            "Iter 35500: loss=260.4043, time=486.84s\n",
            "Iter 35750: loss=292.9754, time=489.46s\n",
            "Iter 36000: loss=285.0957, time=491.92s\n",
            "iter 36000: dev acc=0.4469\n",
            "Iter 36250: loss=258.8857, time=498.07s\n",
            "Iter 36500: loss=282.0968, time=500.56s\n",
            "Iter 36750: loss=275.9818, time=503.12s\n",
            "Iter 37000: loss=272.4669, time=505.66s\n",
            "iter 37000: dev acc=0.4496\n",
            "Iter 37250: loss=287.1547, time=511.83s\n",
            "Iter 37500: loss=284.2902, time=514.42s\n",
            "Iter 37750: loss=279.3893, time=517.03s\n",
            "Iter 38000: loss=270.7077, time=519.55s\n",
            "iter 38000: dev acc=0.4478\n",
            "Iter 38250: loss=283.2602, time=525.72s\n",
            "Iter 38500: loss=282.9015, time=528.19s\n",
            "Iter 38750: loss=286.7783, time=530.77s\n",
            "Iter 39000: loss=279.2231, time=533.28s\n",
            "iter 39000: dev acc=0.4342\n",
            "Iter 39250: loss=284.2841, time=539.49s\n",
            "Iter 39500: loss=267.4663, time=542.07s\n",
            "Iter 39750: loss=263.8488, time=544.67s\n",
            "Iter 40000: loss=283.6765, time=547.23s\n",
            "iter 40000: dev acc=0.4578\n",
            "Iter 40250: loss=290.0209, time=553.51s\n",
            "Iter 40500: loss=258.2599, time=555.91s\n",
            "Iter 40750: loss=305.5633, time=558.25s\n",
            "Iter 41000: loss=284.7288, time=560.79s\n",
            "iter 41000: dev acc=0.4532\n",
            "Iter 41250: loss=268.0611, time=566.87s\n",
            "Iter 41500: loss=313.4497, time=569.33s\n",
            "Iter 41750: loss=280.3693, time=571.74s\n",
            "Iter 42000: loss=288.4177, time=574.06s\n",
            "iter 42000: dev acc=0.4696\n",
            "new highscore\n",
            "Iter 42250: loss=284.1343, time=580.18s\n",
            "Iter 42500: loss=293.9547, time=582.73s\n",
            "Shuffling training data\n",
            "Iter 42750: loss=280.0816, time=585.23s\n",
            "Iter 43000: loss=266.7473, time=587.58s\n",
            "iter 43000: dev acc=0.4469\n",
            "Iter 43250: loss=265.9232, time=593.65s\n",
            "Iter 43500: loss=267.7849, time=596.08s\n",
            "Iter 43750: loss=277.1833, time=598.53s\n",
            "Iter 44000: loss=258.5071, time=601.03s\n",
            "iter 44000: dev acc=0.4405\n",
            "Iter 44250: loss=261.9844, time=607.07s\n",
            "Iter 44500: loss=276.0326, time=609.65s\n",
            "Iter 44750: loss=273.1441, time=612.31s\n",
            "Iter 45000: loss=254.9400, time=614.88s\n",
            "iter 45000: dev acc=0.4532\n",
            "Iter 45250: loss=268.9696, time=620.82s\n",
            "Iter 45500: loss=261.5725, time=623.22s\n",
            "Iter 45750: loss=247.4681, time=625.78s\n",
            "Iter 46000: loss=243.2765, time=628.45s\n",
            "iter 46000: dev acc=0.4242\n",
            "Iter 46250: loss=291.5289, time=634.72s\n",
            "Iter 46500: loss=252.3391, time=637.30s\n",
            "Iter 46750: loss=262.2279, time=639.78s\n",
            "Iter 47000: loss=243.4571, time=642.34s\n",
            "iter 47000: dev acc=0.4460\n",
            "Iter 47250: loss=265.5432, time=648.47s\n",
            "Iter 47500: loss=272.3944, time=650.94s\n",
            "Iter 47750: loss=294.1571, time=653.41s\n",
            "Iter 48000: loss=241.1549, time=656.07s\n",
            "iter 48000: dev acc=0.4487\n",
            "Iter 48250: loss=269.4858, time=662.24s\n",
            "Iter 48500: loss=279.9999, time=664.86s\n",
            "Iter 48750: loss=277.8335, time=667.36s\n",
            "Iter 49000: loss=272.8901, time=670.02s\n",
            "iter 49000: dev acc=0.4450\n",
            "Iter 49250: loss=281.0604, time=676.28s\n",
            "Iter 49500: loss=272.2605, time=678.85s\n",
            "Iter 49750: loss=274.7900, time=681.36s\n",
            "Iter 50000: loss=283.9804, time=683.88s\n",
            "iter 50000: dev acc=0.4423\n",
            "Iter 50250: loss=275.2023, time=690.00s\n",
            "Iter 50500: loss=259.1714, time=692.48s\n",
            "Iter 50750: loss=255.5387, time=695.02s\n",
            "Iter 51000: loss=266.6748, time=697.68s\n",
            "iter 51000: dev acc=0.4460\n",
            "Iter 51250: loss=280.0535, time=704.00s\n",
            "Shuffling training data\n",
            "Iter 51500: loss=227.3455, time=706.34s\n",
            "Iter 51750: loss=238.7144, time=708.84s\n",
            "Iter 52000: loss=253.8515, time=711.39s\n",
            "iter 52000: dev acc=0.4541\n",
            "Done training, model converged\n",
            "Loading best model\n",
            "best model iter 42000: train acc=0.5564, dev acc=0.4696, test acc=0.4620\n"
          ]
        }
      ],
      "source": [
        "num_classes = 5\n",
        "lstm_model = LSTMClassifier(len(v_new.w2i), 300, 168, num_classes, v_new)\n",
        "\n",
        "# copy pre-trained word vectors into embeddings table\n",
        "with torch.no_grad():\n",
        "  lstm_model.embed.weight.data.copy_(torch.from_numpy(vectors))\n",
        "  lstm_model.embed.weight.requires_grad = False\n",
        "\n",
        "print(lstm_model)\n",
        "print_parameters(lstm_model)\n",
        "\n",
        "lstm_model = lstm_model.to(device)\n",
        "optimizer = optim.Adam(lstm_model.parameters(), lr=3e-4)\n",
        "\n",
        "\n",
        "\n",
        "model_name = lstm_model .__class__.__name__\n",
        "\n",
        "if not os.path.exists(\"{}.pt\".format(model_name)):\n",
        "    lstm_losses, lstm_accuracies = train_model(lstm_model, optimizer, num_iterations=25000, print_every=250, eval_every=1000)\n",
        "else:\n",
        "    print('Model already trained')\n",
        "    lstm_losses, lstm_accuracies = 'No training done', 'No training done'\n",
        "\n",
        "# get accuracies for each sentence length and store all results\n",
        "path = \"{}.pt\".format(model_name)       \n",
        "ckpt = torch.load(path)\n",
        "lstm_model.load_state_dict(ckpt[\"state_dict\"])\n",
        "\n",
        "_, _, lstm_test_acc = simple_evaluate(lstm_model, test_data, prep_fn=prepare_example)\n",
        "_, _, lstm_sentence_length_accs = eval_sentence_length(lstm_model, test_data, prep_fn=prepare_example)\n",
        "\n",
        "# save results in results dict\n",
        "results_dict[model_name] = {}\n",
        "results_dict[model_name]['train_losses'] = lstm_losses\n",
        "results_dict[model_name]['train_accuracies'] = lstm_accuracies\n",
        "results_dict[model_name]['test_accuracy'] = lstm_test_acc\n",
        "results_dict[model_name]['sentence_length_results'] = lstm_sentence_length_accs"
      ]
    },
    {
      "cell_type": "code",
      "execution_count": 64,
      "metadata": {
        "colab": {
          "base_uri": "https://localhost:8080/",
          "height": 282
        },
        "id": "2BKVnyg0Hq5E",
        "outputId": "ea0c16ef-975d-4410-a3f7-276691a78d38"
      },
      "outputs": [
        {
          "output_type": "execute_result",
          "data": {
            "text/plain": [
              "[<matplotlib.lines.Line2D at 0x7f19c2176e10>]"
            ]
          },
          "metadata": {},
          "execution_count": 64
        },
        {
          "output_type": "display_data",
          "data": {
            "image/png": "[encoded data removed]",
            "text/plain": [
              "<Figure size 432x288 with 1 Axes>"
            ]
          },
          "metadata": {
            "needs_background": "light"
          }
        }
      ],
      "source": [
        "# plot validation accuracy\n",
        "plt.plot(lstm_accuracies)"
      ]
    },
    {
      "cell_type": "code",
      "execution_count": 65,
      "metadata": {
        "colab": {
          "base_uri": "https://localhost:8080/",
          "height": 282
        },
        "id": "ZowTV0EBTb3z",
        "outputId": "b88c7ac4-0a82-4cc9-a46e-ca7d6af26dd2"
      },
      "outputs": [
        {
          "output_type": "execute_result",
          "data": {
            "text/plain": [
              "[<matplotlib.lines.Line2D at 0x7f19c1df2790>]"
            ]
          },
          "metadata": {},
          "execution_count": 65
        },
        {
          "output_type": "display_data",
          "data": {
            "image/png": "[encoded data removed]",
            "text/plain": [
              "<Figure size 432x288 with 1 Axes>"
            ]
          },
          "metadata": {
            "needs_background": "light"
          }
        }
      ],
      "source": [
        "# plot training loss\n",
        "plt.plot(lstm_losses)"
      ]
    },
    {
      "cell_type": "markdown",
      "metadata": {
        "id": "YEw6XHQY_AAQ"
      },
      "source": [
        "# Mini-batching\n",
        "\n"
      ]
    },
    {
      "cell_type": "markdown",
      "metadata": {
        "id": "FPf96wGzBTQJ"
      },
      "source": [
        "**Why is the LSTM so slow?** Despite our best efforts, we still need to make a lot of matrix multiplications per example (linear in the length of the example) just to get a single classification, and we can only process the 2nd word once we have computed the hidden state for the 1st word (sequential computation).\n",
        "\n",
        "GPUs are more efficient if we do a few big matrix multiplications, rather than lots of small ones. If we could process multiple examples at the same time, then we could exploit that. That is, we could still process the input sequentially, but doing so for multiple sentences at the same time.\n",
        "\n",
        "Up to now our \"mini-batches\" consisted of a single example. This was for a reason: the sentences in our data sets have **different lengths**, and this makes it difficult to process them at the same time.\n",
        "\n",
        "Consider a batch of 2 sentences:\n",
        "\n",
        "```\n",
        "this movie is bad\n",
        "this movie is super cool !\n",
        "```\n",
        "\n",
        "Let's say the IDs for these sentences are:\n",
        "\n",
        "```\n",
        "2 3 4 5\n",
        "2 3 4 6 7 8\n",
        "```\n",
        "\n",
        "We cannot feed PyTorch an object with rows of variable length! We need to turn this into a matrix.\n",
        "\n",
        "The solution is to add **padding values** to our mini-batch:\n",
        "\n",
        "```\n",
        "2 3 4 5 1 1\n",
        "2 3 4 6 7 8\n",
        "```\n",
        "\n",
        "Whenever a sentence is shorter than the longest sentence in a mini-batch, we just use a padding value (here: 1) to fill the matrix.\n",
        "\n",
        "In our computation, we should **ignore** the padding positions (e.g. mask them out) so that paddings do not contribute to the loss.\n",
        "\n",
        "#### Mini-batch feed\n",
        "We will now implement a `get_minibatch` function which will replace `get_example` and returns a mini-batch of the requested size."
      ]
    },
    {
      "cell_type": "code",
      "execution_count": 66,
      "metadata": {
        "id": "IoAE2JBiXJ3P"
      },
      "outputs": [],
      "source": [
        "def get_minibatch(data, batch_size=25, shuffle=True):\n",
        "  \"\"\"Return minibatches, optional shuffling\"\"\"\n",
        "  \n",
        "  if shuffle:\n",
        "    print(\"Shuffling training data\")\n",
        "    random.shuffle(data)  # shuffle training data each epoch\n",
        "  \n",
        "  batch = []\n",
        "  \n",
        "  # yield minibatches\n",
        "  for example in data:\n",
        "    batch.append(example)\n",
        "    \n",
        "    if len(batch) == batch_size:\n",
        "      yield batch\n",
        "      batch = []\n",
        "      \n",
        "  # in case there is something left\n",
        "  if len(batch) > 0:\n",
        "    yield batch"
      ]
    },
    {
      "cell_type": "markdown",
      "metadata": {
        "id": "DwZM-XYkT8Zx"
      },
      "source": [
        "#### Padding function\n",
        "We will need a function that adds padding 1s to a sequence of IDs so that\n",
        "it becomes as long as the longest sequence in the minibatch."
      ]
    },
    {
      "cell_type": "code",
      "execution_count": 67,
      "metadata": {
        "colab": {
          "base_uri": "https://localhost:8080/"
        },
        "id": "sp0sK1ghw4Ft",
        "outputId": "d8aa7c9b-4812-43cd-cdf3-c0874cae58d7"
      },
      "outputs": [
        {
          "output_type": "execute_result",
          "data": {
            "text/plain": [
              "[2, 3, 4, 1, 1]"
            ]
          },
          "metadata": {},
          "execution_count": 67
        }
      ],
      "source": [
        "def pad(tokens, length, pad_value=1):\n",
        "  \"\"\"add padding 1s to a sequence to that it has the desired length\"\"\"\n",
        "  return tokens + [pad_value] * (length - len(tokens))\n",
        "\n",
        "# example\n",
        "tokens = [2, 3, 4]\n",
        "pad(tokens, 5)"
      ]
    },
    {
      "cell_type": "markdown",
      "metadata": {
        "id": "SL2iixMYUgfh"
      },
      "source": [
        "#### New `prepare` function\n",
        "\n",
        "We will also need a new function that turns a mini-batch into PyTorch tensors."
      ]
    },
    {
      "cell_type": "code",
      "execution_count": 68,
      "metadata": {
        "id": "ZID0cqozWks8"
      },
      "outputs": [],
      "source": [
        "def prepare_minibatch(mb, vocab):\n",
        "  \"\"\"\n",
        "  Minibatch is a list of examples.\n",
        "  This function converts words to IDs and returns\n",
        "  torch tensors to be used as input/targets.\n",
        "  \"\"\"\n",
        "  batch_size = len(mb)\n",
        "  maxlen = max([len(ex.tokens) for ex in mb])\n",
        "  \n",
        "  # vocab returns 0 if the word is not there\n",
        "  x = [pad([vocab.w2i.get(t, 0) for t in ex.tokens], maxlen) for ex in mb]\n",
        "  \n",
        "  x = torch.LongTensor(x)\n",
        "  x = x.to(device)\n",
        "  \n",
        "  y = [ex.label for ex in mb]\n",
        "  y = torch.LongTensor(y)\n",
        "  y = y.to(device)\n",
        "  \n",
        "  return x, y"
      ]
    },
    {
      "cell_type": "code",
      "execution_count": 69,
      "metadata": {
        "colab": {
          "base_uri": "https://localhost:8080/"
        },
        "id": "OwDAtCv1x2hB",
        "outputId": "1af89963-69f9-482d-cc36-95fc515bbb0a"
      },
      "outputs": [
        {
          "output_type": "stream",
          "name": "stdout",
          "text": [
            "Example(tokens=['Like', 'Brosnan', \"'s\", 'performance', ',', 'Evelyn', 'comes', 'from', 'the', 'heart', '.'], tree=Tree('4', [Tree('3', [Tree('3', ['Like']), Tree('2', [Tree('2', [Tree('2', ['Brosnan']), Tree('2', [\"'s\"])]), Tree('2', ['performance'])])]), Tree('3', [Tree('2', [',']), Tree('3', [Tree('2', ['Evelyn']), Tree('3', [Tree('3', [Tree('3', ['comes']), Tree('2', [Tree('2', ['from']), Tree('2', [Tree('2', ['the']), Tree('2', ['heart'])])])]), Tree('2', ['.'])])])])]), label=4, transitions=[0, 0, 0, 1, 0, 1, 1, 0, 0, 0, 0, 0, 0, 1, 1, 1, 0, 1, 1, 1, 1])\n",
            "Example(tokens=['The', 'movie', 'is', '...', 'very', 'funny', 'as', 'you', 'peek', 'at', 'it', 'through', 'the', 'fingers', 'in', 'front', 'of', 'your', 'eyes', '.'], tree=Tree('3', [Tree('2', [Tree('2', ['The']), Tree('2', ['movie'])]), Tree('3', [Tree('4', [Tree('2', [Tree('2', ['is']), Tree('2', ['...'])]), Tree('3', [Tree('4', [Tree('2', ['very']), Tree('3', ['funny'])]), Tree('3', [Tree('2', ['as']), Tree('3', [Tree('2', ['you']), Tree('3', [Tree('2', [Tree('2', ['peek']), Tree('2', [Tree('2', ['at']), Tree('2', ['it'])])]), Tree('2', [Tree('2', ['through']), Tree('2', [Tree('2', [Tree('2', ['the']), Tree('2', ['fingers'])]), Tree('2', [Tree('2', ['in']), Tree('2', [Tree('2', ['front']), Tree('3', [Tree('2', ['of']), Tree('2', [Tree('2', ['your']), Tree('2', ['eyes'])])])])])])])])])])])]), Tree('2', ['.'])])]), label=3, transitions=[0, 0, 1, 0, 0, 1, 0, 0, 1, 0, 0, 0, 0, 0, 1, 1, 0, 0, 0, 1, 0, 0, 0, 0, 0, 1, 1, 1, 1, 1, 1, 1, 1, 1, 1, 1, 0, 1, 1])\n",
            "Example(tokens=['Sewer', 'rats', 'could', 'watch', 'this', 'movie', 'and', 'be', 'so', 'skeeved', 'out', 'that', 'they', \"'d\", 'need', 'a', 'shower', '.'], tree=Tree('0', [Tree('1', [Tree('2', ['Sewer']), Tree('2', ['rats'])]), Tree('1', [Tree('1', [Tree('2', ['could']), Tree('2', [Tree('2', [Tree('3', [Tree('2', ['watch']), Tree('2', [Tree('2', ['this']), Tree('2', ['movie'])])]), Tree('2', ['and'])]), Tree('2', [Tree('2', ['be']), Tree('3', [Tree('2', ['so']), Tree('1', [Tree('1', ['skeeved']), Tree('2', [Tree('1', ['out']), Tree('2', [Tree('2', ['that']), Tree('2', [Tree('2', ['they']), Tree('1', [Tree('2', [\"'d\"]), Tree('2', [Tree('2', ['need']), Tree('2', [Tree('2', ['a']), Tree('2', ['shower'])])])])])])])])])])])]), Tree('2', ['.'])])]), label=0, transitions=[0, 0, 1, 0, 0, 0, 0, 1, 1, 0, 1, 0, 0, 0, 0, 0, 0, 0, 0, 0, 0, 1, 1, 1, 1, 1, 1, 1, 1, 1, 1, 1, 0, 1, 1])\n"
          ]
        }
      ],
      "source": [
        "# Let's test our new function.\n",
        "# This should give us 3 examples.\n",
        "mb = next(get_minibatch(train_data, batch_size=3, shuffle=False))\n",
        "for ex in mb:\n",
        "  print(ex)"
      ]
    },
    {
      "cell_type": "code",
      "execution_count": 70,
      "metadata": {
        "colab": {
          "base_uri": "https://localhost:8080/"
        },
        "id": "dg8zEK8zyUCH",
        "outputId": "eaf67c29-ee8a-4679-cb0a-5891e0500c0e"
      },
      "outputs": [
        {
          "output_type": "stream",
          "name": "stdout",
          "text": [
            "x tensor([[  232,  2787,     9,   157,     3,  2560,   198,    39,     4,   215,\n",
            "             2,     1,     1,     1,     1,     1,     1,     1,     1,     1],\n",
            "        [   14,    20,    10,    29,    88,    77,    15,    24,  2398,    41,\n",
            "            13,   112,     4,  5010,    12,  1538,     7,    86,   633,     2],\n",
            "        [14862, 14863,   106,   220,    25,    20,     5,    27,    49, 14864,\n",
            "            55,    11,    95,   334,   285,     6,  4662,     2,     1,     1]],\n",
            "       device='cuda:0')\n",
            "y tensor([4, 3, 0], device='cuda:0')\n"
          ]
        }
      ],
      "source": [
        "# We should find padding 1s at the end\n",
        "x, y = prepare_minibatch(mb, v)\n",
        "print(\"x\", x)\n",
        "print(\"y\", y)"
      ]
    },
    {
      "cell_type": "markdown",
      "metadata": {
        "id": "xYBJEoSNUwI0"
      },
      "source": [
        "#### Evaluate (mini-batch version)\n",
        "\n",
        "We can now update our evaluation function to use mini-batches"
      ]
    },
    {
      "cell_type": "code",
      "execution_count": 71,
      "metadata": {
        "id": "eiZZpEghzqou"
      },
      "outputs": [],
      "source": [
        "def evaluate(model, data, \n",
        "             batch_fn=get_minibatch, prep_fn=prepare_minibatch,\n",
        "             batch_size=16):\n",
        "  \"\"\"Accuracy of a model on given data set (using mini-batches)\"\"\"\n",
        "  correct = 0\n",
        "  total = 0\n",
        "  model.eval()  # disable dropout\n",
        "\n",
        "  for mb in batch_fn(data, batch_size=batch_size, shuffle=False):\n",
        "    x, targets = prep_fn(mb, model.vocab)\n",
        "    with torch.no_grad():\n",
        "      logits = model(x)\n",
        "      \n",
        "    predictions = logits.argmax(dim=-1).view(-1)\n",
        "    \n",
        "    # add the number of correct predictions to the total correct\n",
        "    correct += (predictions == targets.view(-1)).sum().item()\n",
        "    total += targets.size(0)\n",
        "\n",
        "  return correct, total, correct / float(total)"
      ]
    },
    {
      "cell_type": "code",
      "execution_count": 72,
      "metadata": {
        "id": "p9lP4S0pf-2A"
      },
      "outputs": [],
      "source": [
        "def sent_length_evaluate_batch(model, data, batch_fn=get_minibatch, prep_fn=prepare_minibatch, batch_size=16):\n",
        "    \"\"\"Accuracy of a model on given data set (using mini-batches)\"\"\"\n",
        "    counts_correct = {}\n",
        "    counts_total = {}\n",
        "    model.eval()  \n",
        "\n",
        "    for mb in batch_fn(data, batch_size=batch_size, shuffle=False):\n",
        "        x, targets = prep_fn(mb, model.vocab)\n",
        "        with torch.no_grad():\n",
        "            logits = model(x)\n",
        "\n",
        "        preds = logits.argmax(dim=-1).view(-1)\n",
        "    \n",
        "        for index, example in enumerate(mb):\n",
        "            l = len(example.tokens)\n",
        "\n",
        "            if l in counts_correct.keys():\n",
        "                counts_correct[l] += (preds[index] == targets.view(-1)[index]).int().item()\n",
        "                counts_total[l] += 1\n",
        "            else:\n",
        "                counts_correct[l] = (preds[index] == targets.view(-1)[index]).int().item()\n",
        "                counts_total[l] = 1\n",
        "\n",
        "\n",
        "    accs = {l: counts_correct[l] / float(counts_total[l]) for l in counts_correct}\n",
        "\n",
        "    accs = OrderedDict(sorted(accs.items()))\n",
        "    \n",
        "    \n",
        "    \n",
        "    return counts_correct, counts_total, accs"
      ]
    },
    {
      "cell_type": "markdown",
      "metadata": {
        "id": "23wAZomozh_2"
      },
      "source": [
        "# LSTM (Mini-batched)"
      ]
    },
    {
      "cell_type": "markdown",
      "metadata": {
        "id": "B-gkPU7jzBe2"
      },
      "source": [
        "With this, let's run the LSTM again but now using mini-batches!"
      ]
    },
    {
      "cell_type": "code",
      "execution_count": 73,
      "metadata": {
        "colab": {
          "base_uri": "https://localhost:8080/"
        },
        "id": "226Xg9OPzFbA",
        "outputId": "da80d2ea-a644-4a7e-945d-4a2e502b40a2"
      },
      "outputs": [
        {
          "output_type": "stream",
          "name": "stdout",
          "text": [
            "LSTMClassifier(\n",
            "  (embed): Embedding(18922, 300, padding_idx=1)\n",
            "  (rnn): MyLSTMCell(300, 168)\n",
            "  (output_layer): Sequential(\n",
            "    (0): Dropout(p=0.5, inplace=False)\n",
            "    (1): Linear(in_features=168, out_features=5, bias=True)\n",
            "  )\n",
            ")\n",
            "embed.weight             [18922, 300] requires_grad=False\n",
            "rnn.xh.weight            [672, 300]   requires_grad=True\n",
            "rnn.xh.bias              [672]        requires_grad=True\n",
            "rnn.hh.weight            [672, 168]   requires_grad=True\n",
            "rnn.hh.bias              [672]        requires_grad=True\n",
            "output_layer.1.weight    [5, 168]     requires_grad=True\n",
            "output_layer.1.bias      [5]          requires_grad=True\n",
            "\n",
            "Total number of parameters: 5993285\n",
            "\n",
            "Shuffling training data\n",
            "Iter 250: loss=392.3679, time=5.06s\n",
            "iter 250: dev acc=0.3533\n",
            "new highscore\n",
            "Shuffling training data\n",
            "Iter 500: loss=358.9361, time=10.45s\n",
            "iter 500: dev acc=0.3933\n",
            "new highscore\n",
            "Shuffling training data\n",
            "Iter 750: loss=339.2280, time=15.78s\n",
            "iter 750: dev acc=0.3969\n",
            "new highscore\n",
            "Iter 1000: loss=330.8482, time=20.99s\n",
            "iter 1000: dev acc=0.3996\n",
            "new highscore\n",
            "Shuffling training data\n",
            "Iter 1250: loss=325.1168, time=26.20s\n",
            "iter 1250: dev acc=0.4314\n",
            "new highscore\n",
            "Shuffling training data\n",
            "Iter 1500: loss=317.4718, time=31.44s\n",
            "iter 1500: dev acc=0.4160\n",
            "Shuffling training data\n",
            "Iter 1750: loss=314.2217, time=36.57s\n",
            "iter 1750: dev acc=0.4387\n",
            "new highscore\n",
            "Iter 2000: loss=313.1607, time=41.95s\n",
            "iter 2000: dev acc=0.4305\n",
            "Shuffling training data\n",
            "Iter 2250: loss=310.2157, time=47.02s\n",
            "iter 2250: dev acc=0.4423\n",
            "new highscore\n",
            "Shuffling training data\n",
            "Iter 2500: loss=306.2986, time=52.33s\n",
            "iter 2500: dev acc=0.4496\n",
            "new highscore\n",
            "Shuffling training data\n",
            "Iter 2750: loss=305.4621, time=57.62s\n",
            "iter 2750: dev acc=0.4550\n",
            "new highscore\n",
            "Iter 3000: loss=300.3803, time=63.14s\n",
            "iter 3000: dev acc=0.4478\n",
            "Shuffling training data\n",
            "Iter 3250: loss=298.5923, time=68.32s\n",
            "iter 3250: dev acc=0.4469\n",
            "Shuffling training data\n",
            "Iter 3500: loss=301.4787, time=73.79s\n",
            "iter 3500: dev acc=0.4623\n",
            "new highscore\n",
            "Iter 3750: loss=292.9155, time=78.93s\n",
            "iter 3750: dev acc=0.4496\n",
            "Shuffling training data\n",
            "Iter 4000: loss=292.4801, time=84.13s\n",
            "iter 4000: dev acc=0.4596\n",
            "Shuffling training data\n",
            "Iter 4250: loss=286.2846, time=89.51s\n",
            "iter 4250: dev acc=0.4569\n",
            "Shuffling training data\n",
            "Iter 4500: loss=290.4315, time=94.79s\n",
            "iter 4500: dev acc=0.4441\n",
            "Iter 4750: loss=284.0745, time=100.00s\n",
            "iter 4750: dev acc=0.4605\n",
            "Shuffling training data\n",
            "Iter 5000: loss=283.6973, time=105.28s\n",
            "iter 5000: dev acc=0.4623\n",
            "Shuffling training data\n",
            "Iter 5250: loss=279.9192, time=110.43s\n",
            "iter 5250: dev acc=0.4441\n",
            "Shuffling training data\n",
            "Iter 5500: loss=277.0194, time=115.70s\n",
            "iter 5500: dev acc=0.4514\n",
            "Iter 5750: loss=272.7509, time=120.95s\n",
            "iter 5750: dev acc=0.4605\n",
            "Shuffling training data\n",
            "Iter 6000: loss=272.2992, time=126.24s\n",
            "iter 6000: dev acc=0.4614\n",
            "Done training, model converged\n",
            "Loading best model\n",
            "best model iter 3500: train acc=0.5035, dev acc=0.4623, test acc=0.4570\n"
          ]
        }
      ],
      "source": [
        "num_classes = 5\n",
        "\n",
        "lstm_model = LSTMClassifier(\n",
        "    len(v_new.w2i), 300, 168, num_classes, v_new)\n",
        "\n",
        "# copy pre-trained vectors into embeddings table\n",
        "with torch.no_grad():\n",
        "  lstm_model.embed.weight.data.copy_(torch.from_numpy(vectors))\n",
        "  lstm_model.embed.weight.requires_grad = False\n",
        "\n",
        "print(lstm_model)\n",
        "print_parameters(lstm_model)  \n",
        "  \n",
        "lstm_model = lstm_model.to(device)\n",
        "\n",
        "batch_size = 25\n",
        "optimizer = optim.Adam(lstm_model.parameters(), lr=2e-4)\n",
        "\n",
        "model_name = lstm_model .__class__.__name__ + '_mb'\n",
        "\n",
        "if not os.path.exists(\"{}.pt\".format(model_name)):\n",
        "    lstm_losses, lstm_accuracies = train_model(lstm_model, optimizer, num_iterations=30000, print_every=250, \n",
        "                                               eval_every=250,\n",
        "                                               batch_size=batch_size, batch_fn=get_minibatch,\n",
        "                                               prep_fn=prepare_minibatch,eval_fn=evaluate, model_name=model_name)\n",
        "else:\n",
        "    print('Model already trained')\n",
        "    lstm_losses, lstm_accuracies = 'No training done', 'No training done'\n",
        "\n",
        "# get accuracies for each sentence length and store all results\n",
        "path = \"{}.pt\".format(model_name)       \n",
        "ckpt = torch.load(path)\n",
        "lstm_model.load_state_dict(ckpt[\"state_dict\"])\n",
        "\n",
        "_, _, lstm_test_acc = evaluate(lstm_model, test_data,  batch_fn=get_minibatch, prep_fn=prepare_minibatch, batch_size=batch_size)\n",
        "_, _, lstm_sentence_length_accs = sent_length_evaluate_batch(lstm_model, test_data, batch_fn=get_minibatch, prep_fn=prepare_minibatch, batch_size=batch_size)\n",
        "\n",
        "# save results in results dict\n",
        "results_dict[model_name] = {}\n",
        "results_dict[model_name]['train_losses'] = lstm_losses\n",
        "results_dict[model_name]['train_accuracies'] = lstm_accuracies\n",
        "results_dict[model_name]['test_accuracy'] = lstm_test_acc\n",
        "results_dict[model_name]['sentence_length_results'] = lstm_sentence_length_accs"
      ]
    },
    {
      "cell_type": "code",
      "execution_count": 74,
      "metadata": {
        "colab": {
          "base_uri": "https://localhost:8080/",
          "height": 320
        },
        "id": "ymj1rLDMvyhp",
        "outputId": "f862d891-e3ad-4ee2-ee61-f251e84a3a2a"
      },
      "outputs": [
        {
          "output_type": "stream",
          "name": "stdout",
          "text": [
            "{'train_losses': [398.70710587501526, 395.1019003391266, 392.06621980667114, 389.04766368865967, 376.3069139122963, 361.43724006414413, 370.8228744864464, 353.61006939411163, 354.050517141819, 364.5366663336754, 353.77688121795654, 344.9127012491226, 355.4488242864609, 344.57574647665024, 353.8103876709938, 354.79369682073593, 330.41663843393326, 340.9704269170761, 338.10131311416626, 330.778825879097, 345.34127420186996, 345.45990777015686, 346.4205029606819, 328.41270446777344, 341.4676961302757, 342.81042274832726, 328.4645586013794, 334.53899919986725, 343.80105024576187, 323.67124980688095, 339.48569828271866, 333.456559330225, 346.1351978480816, 328.1828373670578, 316.2946074157953, 324.9325481802225, 329.78479781746864, 318.12315261363983, 320.35626143217087, 337.3584802597761, 320.1922541856766, 331.36767599731684, 328.47770987451077, 304.8253084719181, 315.23468083143234, 311.56279480457306, 316.5819234587252, 336.5171484053135, 319.88572653383017, 337.08224891126156, 314.485557988286, 323.9315218180418, 320.3574073314667, 313.81759671866894, 310.6001772135496, 314.6771654188633, 342.16375985741615, 306.6115370094776, 311.7637368440628, 330.09999446570873, 318.929861754179, 312.38866925239563, 332.43913716077805, 326.0512072443962, 320.7889565229416, 313.1687866449356, 314.5868091881275, 308.8210340589285, 317.0142089128494, 307.09639109671116, 304.24295777082443, 311.61101508140564, 285.9141298085451, 308.60750564932823, 326.02597576379776, 306.5874971225858, 302.65554724633694, 321.08849900215864, 307.0373944193125, 301.07091922312975, 303.8458213955164, 302.43338918685913, 307.1955295354128, 309.2166703939438, 313.19316083192825, 290.3301823735237, 306.66069063544273, 319.05716340243816, 314.74818237125874, 313.53291764855385, 308.2989358305931, 296.8314184062183, 312.6695907711983, 314.05028331279755, 300.5842063575983, 309.7621897906065, 303.5539356470108, 294.65676774829626, 316.4140402600169, 310.9228371679783, 319.57124511897564, 309.6847895681858, 289.1212404668331, 312.42700247466564, 295.06311494112015, 305.124762840569, 281.5836603194475, 282.90997406840324, 298.03655356168747, 311.63691510260105, 281.1559397429228, 296.79946824908257, 297.8233369663358, 275.36122508347034, 302.2011733353138, 291.7980353310704, 315.6172328442335, 291.1043314486742, 289.96464605629444, 293.71196312457323, 287.712181083858, 307.6572069078684, 304.438115850091, 284.2170651331544, 308.4298953190446, 289.1459256224334, 289.82560220360756, 304.90549106895924, 285.7096323892474, 314.3626410216093, 291.1474567130208, 291.5784846544266, 291.21701661497355, 285.9622132368386, 284.2813152745366, 292.20704370737076, 302.93327432870865, 279.18567787110806, 266.7799035869539, 269.34630846977234, 290.3833493888378, 260.4042950347066, 292.97541120275855, 285.09568759799004, 258.8857156634331, 282.09678694978356, 275.98180751502514, 272.46693032979965, 287.15465470403433, 284.2901930436492, 279.38929010927677, 270.7077167183161, 283.2601902130991, 282.90149680897593, 286.7783070271835, 279.22311491146684, 284.2841303050518, 267.4663226008415, 263.8487702012062, 283.6764731798321, 290.0209081787616, 258.2599472813308, 305.5632889419794, 284.72880658507347, 268.0611069854349, 313.44968685507774, 280.36932238936424, 288.41774167120457, 284.1343042179942, 293.95467849448323, 280.08161491155624, 266.7473119031638, 265.92324900999665, 267.78492107614875, 277.1832837089896, 258.5070735812187, 261.9843733496964, 276.03258374519646, 273.1441385038197, 254.9399999678135, 268.9696338456124, 261.57252122834325, 247.46808126894757, 243.27651701122522, 291.52889446541667, 252.33910086378455, 262.2278951089829, 243.4570913678035, 265.5431653019041, 272.39443095959723, 294.15708046779037, 241.15488603711128, 269.4858446344733, 279.99986722227186, 277.833464499563, 272.890132792294, 281.0604496076703, 272.26050073467195, 274.79004232399166, 283.9804176464677, 275.20227441750467, 259.17141537740827, 255.5387106835842, 266.6747604906559, 280.0535442829132, 227.3454653378576, 238.71442058682442, 253.85147696733475], 'train_accuracies': [0.3169845594913715, 0.3896457765667575, 0.3796548592188919, 0.4150772025431426, 0.4114441416893733, 0.3887375113533152, 0.40417801998183467, 0.4305177111716621, 0.3905540417801998, 0.43142597638510444, 0.4178019981834696, 0.4114441416893733, 0.43505903723887374, 0.43778383287920075, 0.43869209809264303, 0.43869209809264303, 0.4087193460490463, 0.4396003633060854, 0.4405086285195277, 0.4232515894641235, 0.43415077202543145, 0.41689373297002724, 0.4368755676657584, 0.4368755676657584, 0.4287011807447775, 0.41689373297002724, 0.43505903723887374, 0.44504995458673935, 0.4514078110808356, 0.44232515894641233, 0.45594913714804725, 0.4514078110808356, 0.444141689373297, 0.46866485013623976, 0.4359673024523161, 0.44686648501362397, 0.44959128065395093, 0.4477747502270663, 0.43415077202543145, 0.45776566757493187, 0.45322434150772023, 0.4695731153496821, 0.44686648501362397, 0.4405086285195277, 0.45322434150772023, 0.42415985467756584, 0.44595821980018163, 0.44868301544050865, 0.44504995458673935, 0.44232515894641233, 0.44595821980018163, 0.45413260672116257], 'test_accuracy': 0.46199095022624437, 'sentence_length_results': OrderedDict([(2, 0.5), (3, 0.6923076923076923), (4, 0.3), (5, 0.5757575757575758), (6, 0.5263157894736842), (7, 0.5074626865671642), (8, 0.41836734693877553), (9, 0.6268656716417911), (10, 0.49295774647887325), (11, 0.5303030303030303), (12, 0.44871794871794873), (13, 0.47058823529411764), (14, 0.3291139240506329), (15, 0.5053763440860215), (16, 0.5733333333333334), (17, 0.47368421052631576), (18, 0.5048543689320388), (19, 0.4945054945054945), (20, 0.42168674698795183), (21, 0.33783783783783783), (22, 0.42528735632183906), (23, 0.3870967741935484), (24, 0.5125), (25, 0.4393939393939394), (26, 0.4461538461538462), (27, 0.5294117647058824), (28, 0.375), (29, 0.38461538461538464), (30, 0.5), (31, 0.3684210526315789), (32, 0.5), (33, 0.5), (34, 0.30434782608695654), (35, 0.3888888888888889), (36, 0.5), (37, 0.35294117647058826), (38, 0.47368421052631576), (39, 0.3), (40, 0.4444444444444444), (41, 0.6666666666666666), (42, 0.2), (43, 0.5714285714285714), (44, 0.2), (45, 0.3333333333333333), (46, 0.0), (47, 1.0), (48, 0.6666666666666666), (56, 0.0)])}\n"
          ]
        },
        {
          "output_type": "execute_result",
          "data": {
            "text/plain": [
              "[<matplotlib.lines.Line2D at 0x7f19c1103dd0>]"
            ]
          },
          "metadata": {},
          "execution_count": 74
        },
        {
          "output_type": "display_data",
          "data": {
            "image/png": "[encoded data removed]",
            "text/plain": [
              "<Figure size 432x288 with 1 Axes>"
            ]
          },
          "metadata": {
            "needs_background": "light"
          }
        }
      ],
      "source": [
        "# plot validation accuracy\n",
        "print(results_dict['LSTMClassifier'])\n",
        "plt.plot(lstm_accuracies)"
      ]
    },
    {
      "cell_type": "code",
      "execution_count": 75,
      "metadata": {
        "colab": {
          "base_uri": "https://localhost:8080/",
          "height": 282
        },
        "id": "1je5S1RHVC5R",
        "outputId": "d24c06e3-0769-4849-985d-f90ed932a2b1"
      },
      "outputs": [
        {
          "output_type": "execute_result",
          "data": {
            "text/plain": [
              "[<matplotlib.lines.Line2D at 0x7f19c0f66e50>]"
            ]
          },
          "metadata": {},
          "execution_count": 75
        },
        {
          "output_type": "display_data",
          "data": {
            "image/png": "[encoded data removed]",
            "text/plain": [
              "<Figure size 432x288 with 1 Axes>"
            ]
          },
          "metadata": {
            "needs_background": "light"
          }
        }
      ],
      "source": [
        "# plot training loss\n",
        "plt.plot(lstm_losses)"
      ]
    },
    {
      "cell_type": "markdown",
      "metadata": {
        "id": "q7WjcxXntMi5"
      },
      "source": [
        "# Tree-LSTM"
      ]
    },
    {
      "cell_type": "markdown",
      "metadata": {
        "id": "jyj_UD6GtO5M"
      },
      "source": [
        "In the final part of this lab we will exploit the tree structure of the SST data. \n",
        "Until now we only used the surface tokens, but remember that our data examples include binary trees with a sentiment score at every node.\n",
        "\n",
        "In particular, we will implement **N-ary Tree-LSTMs** which are described in:\n",
        "\n",
        "> Kai Sheng Tai, Richard Socher, and Christopher D. Manning. [Improved Semantic Representations From Tree-Structured Long Short-Term Memory Networks](http://aclweb.org/anthology/P/P15/P15-1150.pdf) ACL 2015.\n",
        "\n",
        "Since our trees are binary (i.e., N=2), we can refer to these as *Binary Tree-LSTMs*. If you study equations (9) to (14) in the paper, you will find that they are not all too different from the original LSTM that you already have.\n",
        "\n",
        "You should read this paper carefully and make sure that you understand the approach. You will also find our LSTM baseline there.\n",
        "Note however that Tree-LSTMs were proposed around the same time by two other groups:\n",
        "\n",
        "> Phong Le and Willem Zuidema. [Compositional distributional semantics with long short term memory](http://anthology.aclweb.org/S/S15/S15-1002.pdf). *SEM 2015.\n",
        "\n",
        "> Xiaodan Zhu, Parinaz Sobihani,  and Hongyu Guo. [Long short-term memory over recursive structures](http://proceedings.mlr.press/v37/zhub15.pdf). ICML 2015.\n",
        "\n",
        "It is good scientific practice to cite all three papers in your report.\n",
        "\n",
        "\n"
      ]
    },
    {
      "cell_type": "markdown",
      "metadata": {
        "id": "1rDzvSos3JFp"
      },
      "source": [
        "## Computation\n",
        "\n",
        "Do you remember the `transitions_from_treestring` function all the way in the beginning of this lab? Every example contains a **transition sequence** produced by this function. Let's look at it again:\n",
        "\n"
      ]
    },
    {
      "cell_type": "code",
      "execution_count": 76,
      "metadata": {
        "colab": {
          "base_uri": "https://localhost:8080/"
        },
        "id": "5pg0Xumc3ZUS",
        "outputId": "698f3fa9-aacf-4e95-9739-e21317959127"
      },
      "outputs": [
        {
          "output_type": "stream",
          "name": "stdout",
          "text": [
            "              3                                                                     \n",
            "  ____________|____________________                                                  \n",
            " |                                 4                                                \n",
            " |        _________________________|______________________________________________   \n",
            " |       4                                                                        | \n",
            " |    ___|______________                                                          |  \n",
            " |   |                  4                                                         | \n",
            " |   |         _________|__________                                               |  \n",
            " |   |        |                    3                                              | \n",
            " |   |        |               _____|______________________                        |  \n",
            " |   |        |              |                            4                       | \n",
            " |   |        |              |            ________________|_______                |  \n",
            " |   |        |              |           |                        2               | \n",
            " |   |        |              |           |                 _______|___            |  \n",
            " |   |        3              |           |                |           2           | \n",
            " |   |    ____|_____         |           |                |        ___|_____      |  \n",
            " |   |   |          4        |           3                |       2         |     | \n",
            " |   |   |     _____|___     |      _____|_______         |    ___|___      |     |  \n",
            " 2   2   2    3         2    2     3             2        2   2       2     2     2 \n",
            " |   |   |    |         |    |     |             |        |   |       |     |     |  \n",
            " It  's  a  lovely     film with lovely     performances  by Buy     and Accorsi  . \n",
            "\n",
            "Transitions:\n",
            "[0, 0, 0, 0, 0, 1, 1, 0, 0, 0, 1, 0, 0, 0, 1, 0, 1, 1, 1, 1, 1, 1, 0, 1, 1]\n"
          ]
        }
      ],
      "source": [
        "ex = next(examplereader(\"trees/dev.txt\"))\n",
        "print(TreePrettyPrinter(ex.tree))\n",
        "print(\"Transitions:\")\n",
        "print(ex.transitions)"
      ]
    },
    {
      "cell_type": "markdown",
      "metadata": {
        "id": "ceBFe9fU4BI_"
      },
      "source": [
        "Note that the tree is **binary**. Every node has two children, except for pre-terminal nodes.\n",
        "\n",
        "A tree like this can be described by a sequence of **SHIFT (0)** and **REDUCE (1)** actions.\n",
        "\n",
        "To construct a tree, we can use the transitions as follows:\n",
        "- **reverse** the sentence (a list of tokens) and call this the **buffer**\n",
        "   - the first word is now on top (last in the list), and we would get it when calling pop() on the buffer\n",
        "- create an empty list and call it the **stack**\n",
        "- iterate through the transition sequence:\n",
        "  - if it says SHIFT(0), we pop a word from the buffer, and push it to the stack\n",
        "  - if it says REDUCE(1), we pop the **top two items** from the stack, and combine them (e.g. with a Tree-LSTM!), creating a new node that we push back on the stack\n",
        "  \n",
        "Convince yourself that going through the transition sequence above will result in the tree that you see.\n",
        "For example, we would start by putting the following words on the stack (by shifting 5 times, starting with `It`):\n",
        "\n",
        "```\n",
        "Top of the stack:\n",
        "-----------------\n",
        "film\n",
        "lovely\n",
        "a \n",
        "'s  \n",
        "It\n",
        "```\n",
        "Now we find a REDUCE in the transition sequence, so we get the top two words (film and lovely), and combine them, so our new stack becomes:\n",
        "```\n",
        "Top of the stack:\n",
        "-----------------\n",
        "lovely film\n",
        "a \n",
        "'s  \n",
        "It\n",
        "```\n",
        "\n",
        "We will use this approach when encoding sentences with our Tree-LSTM.\n",
        "Now, our sentence is a reversed list of word embeddings.\n",
        "When we shift, we move a word embedding to the stack.\n",
        "When we reduce, we apply the Tree-LSTM to the top two vectors, and the result is a single vector that we put back on the stack.\n",
        "After going through the whole transition sequence, we will have the root node on our stack! We can use that to classify the sentence.\n",
        "\n"
      ]
    },
    {
      "cell_type": "markdown",
      "metadata": {
        "id": "pDWKShm1AfmR"
      },
      "source": [
        "## Obtaining the transition sequence\n"
      ]
    },
    {
      "cell_type": "markdown",
      "metadata": {
        "id": "fO7VKWVpAbWj"
      },
      "source": [
        "\n",
        "So what goes on in the `transitions_from_treestring` function?\n",
        "\n",
        "The idea ([explained in this blog post](https://devblogs.nvidia.com/recursive-neural-networks-pytorch/)) is that, if we had a tree, we could traverse through the tree, and every time that we find a node containing only a word, we output a SHIFT.\n",
        "Every time **after** we have finished visiting the children of a node, we output a REDUCE.\n",
        "(What is this tree traversal called?)\n",
        "\n",
        "However, our `transitions_from_treestring` function operates directly on the string representation. It works as follows.\n",
        "\n",
        "We start with the representation:\n",
        "\n",
        "```\n",
        "(3 (2 It) (4 (4 (2 's) (4 (3 (2 a) (4 (3 lovely) (2 film))) (3 (2 with) (4 (3 (3 lovely) (2 performances)) (2 (2 by) (2 (2 (2 Buy) (2 and)) (2 Accorsi))))))) (2 .)))\n",
        "```\n",
        "\n",
        "First we remove pre-terminal nodes (and add spaces before closing brackets):\n",
        "\n",
        "```\n",
        "(3 It (4 (4 's (4 (3 a (4 lovely film ) ) (3 with (4 (3 lovely performances ) (2 by (2 (2 Buy and )  Accorsi ) ) ) ) ) ) . ) )\n",
        "```\n",
        "\n",
        "Then we remove node labels:\n",
        "\n",
        "```\n",
        "( It ( ( 's ( ( a ( lovely film ) ) ( with ( ( lovely performances) ( by ( ( Buy and )  Accorsi ) ) ) ) ) ) . ) )\n",
        "```\n",
        "\n",
        "Then we remove opening brackets:\n",
        "\n",
        "```\n",
        "It 's a lovely film ) ) with lovely performances ) by Buy and ) Accorsi ) ) ) ) ) ) . ) )\n",
        "```\n",
        "\n",
        "Now we replace words by S (for SHIFT), and closing brackets by R (for REDUCE):\n",
        "\n",
        "```\n",
        "S S S S S R R S S S R S S S R S R R R R R R S R R\n",
        "0 0 0 0 0 1 1 0 0 0 1 0 0 0 1 0 1 1 1 1 1 1 0 1 1 \n",
        "```\n",
        "\n",
        "Et voilà. We just obtained the transition sequence!"
      ]
    },
    {
      "cell_type": "code",
      "execution_count": 77,
      "metadata": {
        "colab": {
          "base_uri": "https://localhost:8080/"
        },
        "id": "1y069gM4_v64",
        "outputId": "ecaf706d-db6c-48c7-9d5a-bc706dd7a528"
      },
      "outputs": [
        {
          "output_type": "stream",
          "name": "stdout",
          "text": [
            "S S S S S R R S S S R S S S R S R R R R R R S R R\n",
            "0 0 0 0 0 1 1 0 0 0 1 0 0 0 1 0 1 1 1 1 1 1 0 1 1\n"
          ]
        }
      ],
      "source": [
        "# for comparison\n",
        "seq = ex.transitions\n",
        "s = \" \".join([\"S\" if t == 0 else \"R\" for t in seq])\n",
        "print(s)\n",
        "print(\" \".join(map(str, seq)))"
      ]
    },
    {
      "cell_type": "markdown",
      "metadata": {
        "id": "d-qOuKbDAiBn"
      },
      "source": [
        "## Coding the Tree-LSTM\n",
        "\n",
        "The code below contains a Binary Tree-LSTM cell.\n",
        "It is used in the TreeLSTM class below it, which in turn is used in the TreeLSTMClassifier.\n",
        "The job of the TreeLSTM class is to encode a complete sentence and return the root node.\n",
        "The job of the TreeLSTMCell is to return a new state when provided with two children (a reduce action). By repeatedly calling the TreeLSTMCell, the TreeLSTM will encode a sentence. This can be done for multiple sentences at the same time.\n",
        "\n",
        "\n",
        "#### Exercise \n",
        "Check the `forward` function and complete the Tree-LSTM formulas.\n",
        "You can see that we defined a large linear layer for you, that projects the *concatenation* of the left and right child into the input gate, left forget gate, right forget gate, candidate, and output gate."
      ]
    },
    {
      "cell_type": "code",
      "execution_count": 78,
      "metadata": {
        "id": "J9b9mjMlN7Pb"
      },
      "outputs": [],
      "source": [
        "class TreeLSTMCell(nn.Module):\n",
        "  \"\"\"A Binary Tree LSTM cell\"\"\"\n",
        "\n",
        "  def __init__(self, input_size, hidden_size, bias=True):\n",
        "    \"\"\"Creates the weights for this LSTM\"\"\"\n",
        "    super(TreeLSTMCell, self).__init__()\n",
        "\n",
        "    self.input_size = input_size\n",
        "    self.hidden_size = hidden_size\n",
        "    self.bias = bias\n",
        "\n",
        "    self.reduce_layer = nn.Linear(2 * hidden_size, 5 * hidden_size)\n",
        "    self.dropout_layer = nn.Dropout(p=0.25)\n",
        "\n",
        "    self.reset_parameters()\n",
        "\n",
        "  def reset_parameters(self):\n",
        "    \"\"\"This is PyTorch's default initialization method\"\"\"\n",
        "    stdv = 1.0 / math.sqrt(self.hidden_size)\n",
        "    for weight in self.parameters():\n",
        "      weight.data.uniform_(-stdv, stdv)  \n",
        "\n",
        "  def forward(self, hx_l, hx_r, mask=None):\n",
        "    \"\"\"\n",
        "    hx_l is ((batch, hidden_size), (batch, hidden_size))\n",
        "    hx_r is ((batch, hidden_size), (batch, hidden_size))    \n",
        "    \"\"\"\n",
        "    prev_h_l, prev_c_l = hx_l  # left child\n",
        "    prev_h_r, prev_c_r = hx_r  # right child\n",
        "\n",
        "    B = prev_h_l.size(0)\n",
        "\n",
        "    # we concatenate the left and right children\n",
        "    # you can also project from them separately and then sum\n",
        "    children = torch.cat([prev_h_l, prev_h_r], dim=1)\n",
        "    \n",
        "    # project the combined children into a 5D tensor for i,fl,fr,g,o\n",
        "    # this is done for speed, and you could also do it separately\n",
        "    proj = self.reduce_layer(children)  # shape: B x 5D\n",
        "\n",
        "    # each shape: B x D\n",
        "    i, f_l, f_r, g, o = torch.chunk(proj, 5, dim=-1)\n",
        "\n",
        "    # main Tree LSTM computation\n",
        "\n",
        "    i = torch.sigmoid(i)\n",
        "    f_l = torch.sigmoid(f_l)\n",
        "    f_r = torch.sigmoid(f_r)\n",
        "    g = torch.tanh(g)\n",
        "    o = torch.sigmoid(o)\n",
        "    \n",
        "    c = i * g + f_r * prev_c_r + f_l * prev_c_l\n",
        "    h = o * torch.tanh(c)\n",
        "    \n",
        "    return h, c\n",
        "  \n",
        "  def __repr__(self):\n",
        "    return \"{}({:d}, {:d})\".format(\n",
        "        self.__class__.__name__, self.input_size, self.hidden_size)"
      ]
    },
    {
      "cell_type": "markdown",
      "metadata": {
        "id": "Dj5dYSGh_643"
      },
      "source": [
        "## Explanation of the TreeLSTM class\n",
        "\n",
        "\n",
        "The code below contains the TreeLSTM class, which implements everything we need in order to encode a sentence from word embeddings. The calculations are the same as in the paper, implemented such that the class `TreeLSTMCell` above is as general as possible and only takes two children to reduce them into a parent. \n",
        "\n",
        "\n",
        "**Initialize $\\mathbf{h}$ and $\\mathbf{c}$ outside of the cell for the leaves**\n",
        "\n",
        "At the leaves of each tree the children nodes are **empty**, whereas in higher levels the nodes are binary tree nodes that *do* have a left and right child (but no input $x$). By initializing the leaf nodes outside of the cell class (`TreeLSTMCell`), we avoid if-else statements in the forward pass.\n",
        "\n",
        "The `TreeLSTM` class (among other things) pre-calculates an initial $h$ and $c$ for every word in the sentence. Since the initial left and right child are 0, the only calculations we need to do are based on $x$, and we can drop the forget gate calculation (`prev_c_l` and `prev_c_r` are zero). The calculations we do in order to initalize $h$ and $c$ are then:\n",
        "\n",
        "$$\n",
        "c_1 =  W^{(u)}x_1 \\\\\n",
        "o_1 = \\sigma (W^{(i)}x_1) \\\\\n",
        "h_1 = o_1 \\odot \\text{tanh}(c_1)$$\n",
        "*NB: note that these equations are chosen as initializations of $c$ and $h$, other initializations are possible and might work equally well.*\n",
        "\n",
        "**Sentence Representations**\n",
        "\n",
        "All our leaf nodes are now initialized, so we can start processing the sentence in its tree form. Each sentence is represented by a buffer (initially a list with a concatenation of $[h_1, c_1]$ for every word in the reversed sentence), a stack (initially an empty list) and a transition sequence. To encode our sentence, we construct the tree from its transition sequence as explained earlier. \n",
        "\n",
        "*A short example that constructs a tree:*\n",
        "\n",
        "We loop over the time dimension of the batched transition sequences (i.e. row by row), which contain values of 0's, 1's and 2's (representing SHIFT, REDUCE and padding respectively). If we have a batch of size 2 where the first example has a transition sequence given by [0, 0, 1, 0, 0, 0, 1] and the second by [0, 0, 1, 0, 0, 1], our transition batch will be given by the following two-dimensional numpy array:\n",
        "\n",
        "$$\n",
        "\\text{transitions} = \n",
        "\\begin{pmatrix}\n",
        "0 & 0\\\\ \n",
        "0 & 0\\\\ \n",
        "1 & 1\\\\ \n",
        "0 & 0\\\\ \n",
        "0 & 0\\\\ \n",
        "0 & 1\\\\ \n",
        "1 & 2\n",
        "\\end{pmatrix}\n",
        "$$\n",
        "The inner loop (`for transition, buffer, stack in zip(t_batch, buffers, stacks)`) goes over each example in the batch and updates its buffer and stack. The nested loop for this example will then do roughy the following:\n",
        "\n",
        "```\n",
        "Time = 0:  t_batch = [0, 0], the inner loop performs 2 SHIFTs. \n",
        "\n",
        "Time = 1:  t_batch = [0, 0], \"..\"\n",
        "\n",
        "Time = 2:  t_batch = [1, 1], causing the inner loop to fill the list child_l and child_r for both examples in the batch. Now the statement if child_l will return True, triggering a REDUCE action to be performed by our Tree LSTM cell with a batch size of 2. \n",
        "\n",
        "Time = 3:  t_batch = [0, 0], \"..\".\n",
        "\n",
        "Time = 4:  t_batch = [0, 0], \"..\"\n",
        "\n",
        "Time = 5:  t_batch = [0, 1], one SHIFT will be done and another REDUCE action will be performed by our Tree LSTM, this time of batch size 1.  \n",
        "\n",
        "Time = 6:  t_batch = [1, 2], triggering another REDUCE action with batch size 1.\n",
        "```\n",
        "*NB: note that this was an artificial example for the purpose of demonstrating parts of the code, the transition sequences do not necessarily represent actual trees.*\n",
        "\n",
        "**Batching and Unbatching**\n",
        "\n",
        "Within the body of the outer loop over time, we use the functions for batching and unbatching. \n",
        "\n",
        "*Batching*\n",
        "\n",
        "Before passing two lists of children to the reduce layer (an instance of `TreeLSTMCell`), we batch the children as they are at this point a list of tensors of variable length based on how many REDUCE actions there are to perform at a certain time step across the batch (let's call the length `L`). To do an efficient forward pass we want to transform the list to a pair of tensors of shape `([L, D], [L, D])`, which the function `batch` achieves. \n",
        "\n",
        "*Unbatching*\n",
        "\n",
        "In the same line where we batched the children, we unbatch the output of the forward pass to become a list of states of length `L` again. We do this because we need to loop over each example's transition at the current time step and push the children that are reduced into a parent to the stack.\n",
        "\n",
        "*The batch and unbatch functions let us switch between the \"PyTorch world\" (Tensors) and the Python world (easy to manipulate lists).*\n"
      ]
    },
    {
      "cell_type": "code",
      "execution_count": 79,
      "metadata": {
        "id": "5PixvTd4AqsQ"
      },
      "outputs": [],
      "source": [
        "# Helper functions for batching and unbatching states\n",
        "# For speed we want to combine computations by batching, but \n",
        "# for processing logic we want to turn the output into lists again\n",
        "# to easily manipulate.\n",
        "\n",
        "def batch(states):\n",
        "  \"\"\"\n",
        "  Turns a list of states into a single tensor for fast processing. \n",
        "  This function also chunks (splits) each state into a (h, c) pair\"\"\"\n",
        "  return torch.cat(states, 0).chunk(2, 1)\n",
        "\n",
        "def unbatch(state):\n",
        "  \"\"\"\n",
        "  Turns a tensor back into a list of states.\n",
        "  First, (h, c) are merged into a single state.\n",
        "  Then the result is split into a list of sentences.\n",
        "  \"\"\"\n",
        "  return torch.split(torch.cat(state, 1), 1, 0)"
      ]
    },
    {
      "cell_type": "markdown",
      "metadata": {
        "id": "CynltDasaLPt"
      },
      "source": [
        "Take some time to understand the class below, having read the explanation above."
      ]
    },
    {
      "cell_type": "code",
      "execution_count": 80,
      "metadata": {
        "id": "rQOqMXG4gX5G"
      },
      "outputs": [],
      "source": [
        "class TreeLSTM(nn.Module):\n",
        "  \"\"\"Encodes a sentence using a TreeLSTMCell\"\"\"\n",
        "\n",
        "  def __init__(self, input_size, hidden_size, bias=True, childsum=False):\n",
        "    \"\"\"Creates the weights for this LSTM\"\"\"\n",
        "    super(TreeLSTM, self).__init__()\n",
        "\n",
        "    self.input_size = input_size\n",
        "    self.hidden_size = hidden_size\n",
        "    self.bias = bias\n",
        "\n",
        "    if childsum:\n",
        "        self.reduce = ChildSumTreeLSTMCell(input_size, hidden_size)\n",
        "    else:\n",
        "        self.reduce = TreeLSTMCell(input_size, hidden_size)\n",
        "\n",
        "    # project word to initial c\n",
        "    self.proj_x = nn.Linear(input_size, hidden_size)\n",
        "    self.proj_x_gate = nn.Linear(input_size, hidden_size)\n",
        "    \n",
        "    self.buffers_dropout = nn.Dropout(p=0.5)\n",
        "\n",
        "  def forward(self, x, transitions):\n",
        "    \"\"\"\n",
        "    WARNING: assuming x is reversed!\n",
        "    :param x: word embeddings [B, T, E]\n",
        "    :param transitions: [2T-1, B]\n",
        "    :return: root states\n",
        "    \"\"\"\n",
        "\n",
        "    B = x.size(0)  # batch size\n",
        "    T = x.size(1)  # time\n",
        "\n",
        "    # compute an initial c and h for each word\n",
        "    # Note: this corresponds to input x in the Tai et al. Tree LSTM paper.\n",
        "    # We do not handle input x in the TreeLSTMCell itself.\n",
        "    buffers_c = self.proj_x(x)\n",
        "    buffers_h = buffers_c.tanh()\n",
        "    buffers_h_gate = self.proj_x_gate(x).sigmoid()\n",
        "    buffers_h = buffers_h_gate * buffers_h\n",
        "    \n",
        "    # concatenate h and c for each word\n",
        "    buffers = torch.cat([buffers_h, buffers_c], dim=-1)\n",
        "\n",
        "    D = buffers.size(-1) // 2\n",
        "\n",
        "    # we turn buffers into a list of stacks (1 stack for each sentence)\n",
        "    # first we split buffers so that it is a list of sentences (length B)\n",
        "    # then we split each sentence to be a list of word vectors\n",
        "    buffers = buffers.split(1, dim=0)  # Bx[T, 2D]\n",
        "    buffers = [list(b.squeeze(0).split(1, dim=0)) for b in buffers]  # BxTx[2D]\n",
        "\n",
        "    # create B empty stacks\n",
        "    stacks = [[] for _ in buffers]\n",
        "\n",
        "    # t_batch holds 1 transition for each sentence\n",
        "    for t_batch in transitions:\n",
        "\n",
        "      child_l = []  # contains the left child for each sentence with reduce action\n",
        "      child_r = []  # contains the corresponding right child\n",
        "\n",
        "      # iterate over sentences in the batch\n",
        "      # each has a transition t, a buffer and a stack\n",
        "      for transition, buffer, stack in zip(t_batch, buffers, stacks):\n",
        "        if transition == SHIFT:\n",
        "          stack.append(buffer.pop())\n",
        "        elif transition == REDUCE:\n",
        "          assert len(stack) >= 2, \\\n",
        "            \"Stack too small! Should not happen with valid transition sequences\"\n",
        "          child_r.append(stack.pop())  # right child is on top\n",
        "          child_l.append(stack.pop())\n",
        "\n",
        "      # if there are sentences with reduce transition, perform them batched\n",
        "      if child_l:\n",
        "        reduced = iter(unbatch(self.reduce(batch(child_l), batch(child_r))))\n",
        "        for transition, stack in zip(t_batch, stacks):\n",
        "          if transition == REDUCE:\n",
        "            stack.append(next(reduced))\n",
        "\n",
        "    final = [stack.pop().chunk(2, -1)[0] for stack in stacks]\n",
        "    final = torch.cat(final, dim=0)  # tensor [B, D]\n",
        "\n",
        "    return final"
      ]
    },
    {
      "cell_type": "markdown",
      "metadata": {
        "id": "s4EzbVzqaXkw"
      },
      "source": [
        "Just like the LSTM before, we will need an extra class that does the classifications."
      ]
    },
    {
      "cell_type": "code",
      "execution_count": 81,
      "metadata": {
        "id": "nLxpYRvtQKge"
      },
      "outputs": [],
      "source": [
        "class TreeLSTMClassifier(nn.Module):\n",
        "  \"\"\"Encodes sentence with a TreeLSTM and projects final hidden state\"\"\"\n",
        "\n",
        "  def __init__(self, vocab_size, embedding_dim, hidden_dim, output_dim, vocab, childsum=False):\n",
        "    super(TreeLSTMClassifier, self).__init__()\n",
        "    self.vocab = vocab\n",
        "    self.hidden_dim = hidden_dim\n",
        "    self.embed = nn.Embedding(vocab_size, embedding_dim, padding_idx=1)\n",
        "    self.treelstm = TreeLSTM(embedding_dim, hidden_dim, childsum=childsum)\n",
        "    self.output_layer = nn.Sequential(     \n",
        "        nn.Dropout(p=0.5),\n",
        "        nn.Linear(hidden_dim, output_dim, bias=True)\n",
        "    )\n",
        "\n",
        "\n",
        "  def forward(self, x):\n",
        "    \n",
        "    # x is a pair here of words and transitions; we unpack it here.\n",
        "    # x is batch-major: [B, T], transitions is time major [2T-1, B]\n",
        "    x, transitions = x\n",
        "    emb = self.embed(x)\n",
        "    \n",
        "    # we use the root/top state of the Tree LSTM to classify the sentence\n",
        "    root_states = self.treelstm(emb, transitions)\n",
        "\n",
        "    # we use the last hidden state to classify the sentence\n",
        "    logits = self.output_layer(root_states)\n",
        "    return logits"
      ]
    },
    {
      "cell_type": "markdown",
      "metadata": {
        "id": "gh9RbhGwaiLg"
      },
      "source": [
        "## Special `prepare` function for Tree-LSTM\n",
        "\n",
        "We need yet another `prepare` function. For our implementation, sentences need to be *reversed*. We will do that here."
      ]
    },
    {
      "cell_type": "code",
      "execution_count": 82,
      "metadata": {
        "id": "DiqH-_2xdm9H"
      },
      "outputs": [],
      "source": [
        "def prepare_treelstm_minibatch(mb, vocab):\n",
        "  \"\"\"\n",
        "  Returns sentences reversed (last word first)\n",
        "  Returns transitions together with the sentences.  \n",
        "  \"\"\"\n",
        "  batch_size = len(mb)\n",
        "  maxlen = max([len(ex.tokens) for ex in mb])\n",
        "    \n",
        "  # vocab returns 0 if the word is not there\n",
        "  # NOTE: reversed sequence!\n",
        "  x = [pad([vocab.w2i.get(t, 0) for t in ex.tokens], maxlen)[::-1] for ex in mb]\n",
        "  \n",
        "  x = torch.LongTensor(x)\n",
        "  x = x.to(device)\n",
        "  \n",
        "  y = [ex.label for ex in mb]\n",
        "  y = torch.LongTensor(y)\n",
        "  y = y.to(device)\n",
        "  \n",
        "  maxlen_t = max([len(ex.transitions) for ex in mb])\n",
        "  transitions = [pad(ex.transitions, maxlen_t, pad_value=2) for ex in mb]\n",
        "  transitions = np.array(transitions)\n",
        "  transitions = transitions.T  # time-major\n",
        "  \n",
        "  return (x, transitions), y"
      ]
    },
    {
      "cell_type": "markdown",
      "metadata": {
        "id": "IMUsrlL9ayVe"
      },
      "source": [
        "## Training"
      ]
    },
    {
      "cell_type": "code",
      "execution_count": 83,
      "metadata": {
        "colab": {
          "base_uri": "https://localhost:8080/"
        },
        "id": "IpOYUdg2D3v0",
        "outputId": "6767a26a-bf04-4b93-8329-76f2f19d675a"
      },
      "outputs": [
        {
          "output_type": "stream",
          "name": "stdout",
          "text": [
            "TreeLSTMClassifier(\n",
            "  (embed): Embedding(18922, 300, padding_idx=1)\n",
            "  (treelstm): TreeLSTM(\n",
            "    (reduce): TreeLSTMCell(300, 150)\n",
            "    (proj_x): Linear(in_features=300, out_features=150, bias=True)\n",
            "    (proj_x_gate): Linear(in_features=300, out_features=150, bias=True)\n",
            "    (buffers_dropout): Dropout(p=0.5, inplace=False)\n",
            "  )\n",
            "  (output_layer): Sequential(\n",
            "    (0): Dropout(p=0.5, inplace=False)\n",
            "    (1): Linear(in_features=150, out_features=5, bias=True)\n",
            "  )\n",
            ")\n",
            "embed.weight             [18922, 300] requires_grad=False\n",
            "treelstm.reduce.reduce_layer.weight [750, 300]   requires_grad=True\n",
            "treelstm.reduce.reduce_layer.bias [750]        requires_grad=True\n",
            "treelstm.proj_x.weight   [150, 300]   requires_grad=True\n",
            "treelstm.proj_x.bias     [150]        requires_grad=True\n",
            "treelstm.proj_x_gate.weight [150, 300]   requires_grad=True\n",
            "treelstm.proj_x_gate.bias [150]        requires_grad=True\n",
            "output_layer.1.weight    [5, 150]     requires_grad=True\n",
            "output_layer.1.bias      [5]          requires_grad=True\n",
            "\n",
            "Total number of parameters: 5993405\n",
            "\n",
            "Shuffling training data\n",
            "Iter 250: loss=390.6399, time=14.33s\n",
            "iter 250: dev acc=0.3415\n",
            "new highscore\n",
            "Shuffling training data\n",
            "Iter 500: loss=350.3186, time=29.84s\n",
            "iter 500: dev acc=0.4024\n",
            "new highscore\n",
            "Shuffling training data\n",
            "Iter 750: loss=328.2971, time=44.93s\n",
            "iter 750: dev acc=0.4069\n",
            "new highscore\n",
            "Iter 1000: loss=320.7017, time=59.86s\n",
            "iter 1000: dev acc=0.4187\n",
            "new highscore\n",
            "Shuffling training data\n",
            "Iter 1250: loss=313.3339, time=75.08s\n",
            "iter 1250: dev acc=0.4314\n",
            "new highscore\n",
            "Shuffling training data\n",
            "Iter 1500: loss=310.9926, time=90.02s\n",
            "iter 1500: dev acc=0.4478\n",
            "new highscore\n",
            "Shuffling training data\n",
            "Iter 1750: loss=303.8944, time=105.48s\n",
            "iter 1750: dev acc=0.4478\n",
            "Iter 2000: loss=302.1463, time=120.85s\n",
            "iter 2000: dev acc=0.4332\n",
            "Shuffling training data\n",
            "Iter 2250: loss=301.6538, time=135.81s\n",
            "iter 2250: dev acc=0.4478\n",
            "Shuffling training data\n",
            "Iter 2500: loss=293.8847, time=150.74s\n",
            "iter 2500: dev acc=0.4450\n",
            "Shuffling training data\n",
            "Iter 2750: loss=297.4458, time=165.91s\n",
            "iter 2750: dev acc=0.4487\n",
            "new highscore\n",
            "Iter 3000: loss=293.4229, time=181.61s\n",
            "iter 3000: dev acc=0.4414\n",
            "Shuffling training data\n",
            "Iter 3250: loss=287.7185, time=196.22s\n",
            "iter 3250: dev acc=0.4323\n",
            "Shuffling training data\n",
            "Iter 3500: loss=289.2464, time=210.87s\n",
            "iter 3500: dev acc=0.4387\n",
            "Iter 3750: loss=285.7958, time=226.00s\n",
            "iter 3750: dev acc=0.4378\n",
            "Shuffling training data\n",
            "Iter 4000: loss=280.0388, time=240.84s\n",
            "iter 4000: dev acc=0.4423\n",
            "Shuffling training data\n",
            "Iter 4250: loss=283.3161, time=256.11s\n",
            "iter 4250: dev acc=0.4414\n",
            "Shuffling training data\n",
            "Iter 4500: loss=277.0925, time=271.30s\n",
            "iter 4500: dev acc=0.4378\n",
            "Iter 4750: loss=274.9769, time=287.63s\n",
            "iter 4750: dev acc=0.4314\n",
            "Shuffling training data\n",
            "Iter 5000: loss=272.0014, time=303.01s\n",
            "iter 5000: dev acc=0.4351\n",
            "Shuffling training data\n",
            "Iter 5250: loss=270.2948, time=317.89s\n",
            "iter 5250: dev acc=0.4360\n",
            "Done training, model converged\n",
            "Loading best model\n",
            "best model iter 2750: train acc=0.4913, dev acc=0.4487, test acc=0.4643\n"
          ]
        }
      ],
      "source": [
        "# Now let's train the Tree LSTM!\n",
        "num_classes = 5\n",
        "tree_model = TreeLSTMClassifier(\n",
        "    len(v_new.w2i), 300, 150, num_classes, v_new)\n",
        "\n",
        "with torch.no_grad():\n",
        "  tree_model.embed.weight.data.copy_(torch.from_numpy(vectors))\n",
        "  tree_model.embed.weight.requires_grad = False\n",
        "  \n",
        "def do_train(model):\n",
        "  \n",
        "  print(model)\n",
        "  print_parameters(model)\n",
        "\n",
        "  model = model.to(device)\n",
        "\n",
        "  optimizer = optim.Adam(model.parameters(), lr=2e-4)\n",
        "  \n",
        "\n",
        "  return train_model(\n",
        "      model, optimizer, num_iterations=30000, \n",
        "      print_every=250, eval_every=250,\n",
        "      prep_fn=prepare_treelstm_minibatch,\n",
        "      eval_fn=evaluate,\n",
        "      batch_fn=get_minibatch,\n",
        "      batch_size=25, eval_batch_size=25)\n",
        "\n",
        "\n",
        "model_name = tree_model .__class__.__name__\n",
        "\n",
        "if not os.path.exists(\"{}.pt\".format(model_name)):\n",
        "     results = do_train(tree_model)\n",
        "     tree_losses, tree_accuracies = results\n",
        "else:\n",
        "    print('Model already trained')\n",
        "    results = 'No training done', 'No training done'\n",
        "    tree_losses, tree_accuracies = results\n",
        "\n",
        "# get accuracies for each sentence length and store all results\n",
        "path = \"{}.pt\".format(model_name)       \n",
        "ckpt = torch.load(path)\n",
        "tree_model.load_state_dict(ckpt[\"state_dict\"])\n",
        "\n",
        "tree_model.to(device)\n",
        "_, _, tree_test_acc = evaluate(tree_model, test_data,  batch_fn=get_minibatch, prep_fn=prepare_treelstm_minibatch, batch_size=25)\n",
        "_, _, tree_sentence_length_accs = sent_length_evaluate_batch(tree_model, test_data, batch_fn=get_minibatch, prep_fn=prepare_treelstm_minibatch, batch_size=25)\n",
        "\n",
        "# save results in results dict\n",
        "results_dict[model_name] = {}\n",
        "results_dict[model_name]['train_losses'] = tree_losses\n",
        "results_dict[model_name]['train_accuracies'] = tree_accuracies\n",
        "results_dict[model_name]['test_accuracy'] = tree_test_acc\n",
        "results_dict[model_name]['sentence_length_results'] = tree_sentence_length_accs\n"
      ]
    },
    {
      "cell_type": "code",
      "execution_count": 84,
      "metadata": {
        "colab": {
          "base_uri": "https://localhost:8080/",
          "height": 302
        },
        "id": "DHcHHaLtguUg",
        "outputId": "878a3334-2f56-46db-ecb7-69ba50764341"
      },
      "outputs": [
        {
          "output_type": "stream",
          "name": "stdout",
          "text": [
            "OrderedDict([(2, 0.16666666666666666), (3, 0.6153846153846154), (4, 0.3), (5, 0.6060606060606061), (6, 0.47368421052631576), (7, 0.5373134328358209), (8, 0.4489795918367347), (9, 0.6417910447761194), (10, 0.4507042253521127), (11, 0.5303030303030303), (12, 0.4358974358974359), (13, 0.49411764705882355), (14, 0.4050632911392405), (15, 0.5376344086021505), (16, 0.5466666666666666), (17, 0.5684210526315789), (18, 0.4563106796116505), (19, 0.5274725274725275), (20, 0.3855421686746988), (21, 0.33783783783783783), (22, 0.3793103448275862), (23, 0.3548387096774194), (24, 0.45), (25, 0.42424242424242425), (26, 0.49230769230769234), (27, 0.47058823529411764), (28, 0.35714285714285715), (29, 0.46153846153846156), (30, 0.5), (31, 0.2894736842105263), (32, 0.43333333333333335), (33, 0.5526315789473685), (34, 0.43478260869565216), (35, 0.5), (36, 0.5), (37, 0.35294117647058826), (38, 0.5263157894736842), (39, 0.3), (40, 0.5555555555555556), (41, 0.6666666666666666), (42, 0.6), (43, 0.5714285714285714), (44, 0.2), (45, 0.3333333333333333), (46, 0.0), (47, 1.0), (48, 0.6666666666666666), (56, 0.0)])\n"
          ]
        },
        {
          "output_type": "display_data",
          "data": {
            "image/png": "[encoded data removed]",
            "text/plain": [
              "<Figure size 432x288 with 1 Axes>"
            ]
          },
          "metadata": {
            "needs_background": "light"
          }
        }
      ],
      "source": [
        "# plot\n",
        "loss, acc = results\n",
        "plt.plot(acc)\n",
        "print(results_dict['TreeLSTMClassifier']['sentence_length_results'])"
      ]
    },
    {
      "cell_type": "code",
      "execution_count": 85,
      "metadata": {
        "colab": {
          "base_uri": "https://localhost:8080/",
          "height": 282
        },
        "id": "rh9uV2JcTRp7",
        "outputId": "7b82702a-54f0-4d2e-816f-ad2a3e6e3c51"
      },
      "outputs": [
        {
          "output_type": "execute_result",
          "data": {
            "text/plain": [
              "[<matplotlib.lines.Line2D at 0x7f19c06ab950>]"
            ]
          },
          "metadata": {},
          "execution_count": 85
        },
        {
          "output_type": "display_data",
          "data": {
            "image/png": "[encoded data removed]",
            "text/plain": [
              "<Figure size 432x288 with 1 Axes>"
            ]
          },
          "metadata": {
            "needs_background": "light"
          }
        }
      ],
      "source": [
        "plt.plot(loss)"
      ]
    },
    {
      "cell_type": "markdown",
      "metadata": {
        "id": "L9y9xDMf8-YR"
      },
      "source": [
        "## Child Sum LSTM Cell"
      ]
    },
    {
      "cell_type": "code",
      "execution_count": 86,
      "metadata": {
        "id": "EGsheUD_9Z-D"
      },
      "outputs": [],
      "source": [
        "class ChildSumTreeLSTMCell(nn.Module):\n",
        "  \"\"\"A Child Sum Tree LSTM cell\"\"\"\n",
        "\n",
        "  def __init__(self, input_size, hidden_size, bias=True):\n",
        "    \"\"\"Creates the weights for this LSTM\"\"\"\n",
        "    super(ChildSumTreeLSTMCell, self).__init__()\n",
        "\n",
        "    self.input_size = input_size\n",
        "    self.hidden_size = hidden_size\n",
        "    self.bias = bias\n",
        "\n",
        "    self.reduce_layer = nn.Linear(hidden_size, 5 * hidden_size)\n",
        "    self.dropout_layer = nn.Dropout(p=0.25)\n",
        "\n",
        "    self.reset_parameters()\n",
        "\n",
        "  def reset_parameters(self):\n",
        "    \"\"\"This is PyTorch's default initialization method\"\"\"\n",
        "    stdv = 1.0 / math.sqrt(self.hidden_size)\n",
        "    for weight in self.parameters():\n",
        "      weight.data.uniform_(-stdv, stdv)  \n",
        "\n",
        "  def forward(self, hx_l, hx_r, mask=None):\n",
        "    \"\"\"\n",
        "    hx_l is ((batch, hidden_size), (batch, hidden_size))\n",
        "    hx_r is ((batch, hidden_size), (batch, hidden_size))    \n",
        "    \"\"\"\n",
        "\n",
        "    \n",
        "    prev_h_l, prev_c_l = hx_l  # left child\n",
        "    prev_h_r, prev_c_r = hx_r  # right child\n",
        "\n",
        "    B = prev_h_l.size(0)\n",
        "\n",
        "    # sum instead of concat left and right child\n",
        "    children = prev_h_l + prev_h_r\n",
        "    \n",
        "    # project the combined children into a 5D tensor for i,fl,fr,g,o\n",
        "    # this is done for speed, and you could also do it separately\n",
        "    proj = self.reduce_layer(children)  # shape: B x 5D\n",
        "\n",
        "    # each shape: B x D\n",
        "    i, f_l, f_r, g, o = torch.chunk(proj, 5, dim=-1)\n",
        "\n",
        "    # main Tree LSTM computation\n",
        "    i = torch.sigmoid(i)\n",
        "    f_l = torch.sigmoid(f_l)\n",
        "    f_r = torch.sigmoid(f_r)\n",
        "    g = torch.tanh(g)\n",
        "    o = torch.sigmoid(o)\n",
        "    \n",
        "    c = i * g + f_r * prev_c_r + f_l * prev_c_l\n",
        "    h = o * torch.tanh(c)\n",
        "    \n",
        "    return h, c\n",
        "  \n",
        "  def __repr__(self):\n",
        "    return \"{}({:d}, {:d})\".format(\n",
        "        self.__class__.__name__, self.input_size, self.hidden_size)"
      ]
    },
    {
      "cell_type": "code",
      "execution_count": 87,
      "metadata": {
        "colab": {
          "base_uri": "https://localhost:8080/"
        },
        "id": "3oa1nT6j-Yrn",
        "outputId": "6002763a-c3e9-4619-ce32-95739a27fc39"
      },
      "outputs": [
        {
          "output_type": "stream",
          "name": "stdout",
          "text": [
            "TreeLSTMClassifier_childsum\n",
            "TreeLSTMClassifier(\n",
            "  (embed): Embedding(18922, 300, padding_idx=1)\n",
            "  (treelstm): TreeLSTM(\n",
            "    (reduce): ChildSumTreeLSTMCell(300, 150)\n",
            "    (proj_x): Linear(in_features=300, out_features=150, bias=True)\n",
            "    (proj_x_gate): Linear(in_features=300, out_features=150, bias=True)\n",
            "    (buffers_dropout): Dropout(p=0.5, inplace=False)\n",
            "  )\n",
            "  (output_layer): Sequential(\n",
            "    (0): Dropout(p=0.5, inplace=False)\n",
            "    (1): Linear(in_features=150, out_features=5, bias=True)\n",
            "  )\n",
            ")\n",
            "embed.weight             [18922, 300] requires_grad=False\n",
            "treelstm.reduce.reduce_layer.weight [750, 150]   requires_grad=True\n",
            "treelstm.reduce.reduce_layer.bias [750]        requires_grad=True\n",
            "treelstm.proj_x.weight   [150, 300]   requires_grad=True\n",
            "treelstm.proj_x.bias     [150]        requires_grad=True\n",
            "treelstm.proj_x_gate.weight [150, 300]   requires_grad=True\n",
            "treelstm.proj_x_gate.bias [150]        requires_grad=True\n",
            "output_layer.1.weight    [5, 150]     requires_grad=True\n",
            "output_layer.1.bias      [5]          requires_grad=True\n",
            "\n",
            "Total number of parameters: 5880905\n",
            "\n",
            "Shuffling training data\n",
            "Iter 250: loss=387.4067, time=14.38s\n",
            "iter 250: dev acc=0.3515\n",
            "new highscore\n",
            "Shuffling training data\n",
            "Iter 500: loss=342.5728, time=29.05s\n",
            "iter 500: dev acc=0.4151\n",
            "new highscore\n",
            "Shuffling training data\n",
            "Iter 750: loss=329.2958, time=43.71s\n",
            "iter 750: dev acc=0.4242\n",
            "new highscore\n",
            "Iter 1000: loss=321.1181, time=58.38s\n",
            "iter 1000: dev acc=0.4287\n",
            "new highscore\n",
            "Shuffling training data\n",
            "Iter 1250: loss=315.6898, time=73.21s\n",
            "iter 1250: dev acc=0.4323\n",
            "new highscore\n",
            "Shuffling training data\n",
            "Iter 1500: loss=312.1127, time=88.77s\n",
            "iter 1500: dev acc=0.4323\n",
            "Shuffling training data\n",
            "Iter 1750: loss=308.6708, time=103.33s\n",
            "iter 1750: dev acc=0.4505\n",
            "new highscore\n",
            "Iter 2000: loss=305.6724, time=117.99s\n",
            "iter 2000: dev acc=0.4378\n",
            "Shuffling training data\n",
            "Iter 2250: loss=304.1759, time=133.48s\n",
            "iter 2250: dev acc=0.4450\n",
            "Shuffling training data\n",
            "Iter 2500: loss=299.7901, time=148.06s\n",
            "iter 2500: dev acc=0.4569\n",
            "new highscore\n",
            "Shuffling training data\n",
            "Iter 2750: loss=302.3449, time=163.14s\n",
            "iter 2750: dev acc=0.4387\n",
            "Iter 3000: loss=299.1977, time=179.17s\n",
            "iter 3000: dev acc=0.4478\n",
            "Shuffling training data\n",
            "Iter 3250: loss=291.1458, time=194.44s\n",
            "iter 3250: dev acc=0.4559\n",
            "Shuffling training data\n",
            "Iter 3500: loss=298.2520, time=210.08s\n",
            "iter 3500: dev acc=0.4478\n",
            "Iter 3750: loss=294.5236, time=225.33s\n",
            "iter 3750: dev acc=0.4496\n",
            "Shuffling training data\n",
            "Iter 4000: loss=290.4046, time=241.02s\n",
            "iter 4000: dev acc=0.4578\n",
            "new highscore\n",
            "Shuffling training data\n",
            "Iter 4250: loss=292.1160, time=256.94s\n",
            "iter 4250: dev acc=0.4532\n",
            "Shuffling training data\n",
            "Iter 4500: loss=289.1214, time=272.77s\n",
            "iter 4500: dev acc=0.4505\n",
            "Iter 4750: loss=286.9254, time=287.28s\n",
            "iter 4750: dev acc=0.4496\n",
            "Shuffling training data\n",
            "Iter 5000: loss=287.4139, time=302.46s\n",
            "iter 5000: dev acc=0.4378\n",
            "Shuffling training data\n",
            "Iter 5250: loss=283.3255, time=317.95s\n",
            "iter 5250: dev acc=0.4469\n",
            "Shuffling training data\n",
            "Iter 5500: loss=282.4871, time=333.34s\n",
            "iter 5500: dev acc=0.4441\n",
            "Iter 5750: loss=280.8211, time=348.61s\n",
            "iter 5750: dev acc=0.4469\n",
            "Shuffling training data\n",
            "Iter 6000: loss=280.2662, time=363.41s\n",
            "iter 6000: dev acc=0.4487\n",
            "Shuffling training data\n",
            "Iter 6250: loss=279.4195, time=378.51s\n",
            "iter 6250: dev acc=0.4369\n",
            "Shuffling training data\n",
            "Iter 6500: loss=276.7744, time=393.50s\n",
            "iter 6500: dev acc=0.4278\n",
            "Done training, model converged\n",
            "Loading best model\n",
            "best model iter 4000: train acc=0.5053, dev acc=0.4578, test acc=0.4751\n"
          ]
        }
      ],
      "source": [
        "# Now let's train the Child Sum Tree LSTM!\n",
        "\n",
        "\n",
        "num_classes = 5\n",
        "tree_model = TreeLSTMClassifier(\n",
        "    len(v_new.w2i), 300, 150, num_classes, v_new, childsum=True)\n",
        "\n",
        "with torch.no_grad():\n",
        "  tree_model.embed.weight.data.copy_(torch.from_numpy(vectors))\n",
        "  tree_model.embed.weight.requires_grad = False\n",
        "  \n",
        "model_name = tree_model.__class__.__name__ + '_childsum'\n",
        "\n",
        "print(model_name)\n",
        "\n",
        "def do_train(model):\n",
        "  \n",
        "  print(model)\n",
        "  print_parameters(model)\n",
        "\n",
        "  model = model.to(device)\n",
        "\n",
        "  optimizer = optim.Adam(model.parameters(), lr=2e-4)\n",
        "  \n",
        "\n",
        "  return train_model(\n",
        "      model, optimizer, num_iterations=30000, \n",
        "      print_every=250, eval_every=250,\n",
        "      prep_fn=prepare_treelstm_minibatch,\n",
        "      eval_fn=evaluate,\n",
        "      batch_fn=get_minibatch,\n",
        "      batch_size=25, eval_batch_size=25, model_name=model_name)\n",
        "\n",
        "\n",
        "\n",
        "if not os.path.exists(\"{}.pt\".format(model_name)):\n",
        "     results = do_train(tree_model)\n",
        "     tree_losses, tree_accuracies = results\n",
        "else:\n",
        "    print('Model already trained')\n",
        "    results = 'No training done', 'No training done'\n",
        "    tree_losses, tree_accuracies = results\n",
        "\n",
        "# get accuracies for each sentence length and store all results\n",
        "path = \"{}.pt\".format(model_name)       \n",
        "ckpt = torch.load(path)\n",
        "tree_model.load_state_dict(ckpt[\"state_dict\"])\n",
        "\n",
        "tree_model.to(device)\n",
        "_, _, tree_test_acc = evaluate(tree_model, test_data,  batch_fn=get_minibatch, prep_fn=prepare_treelstm_minibatch, batch_size=25)\n",
        "_, _, tree_sentence_length_accs = sent_length_evaluate_batch(tree_model, test_data, batch_fn=get_minibatch, prep_fn=prepare_treelstm_minibatch, batch_size=25)\n",
        "\n",
        "# save results in results dict\n",
        "results_dict[model_name] = {}\n",
        "results_dict[model_name]['train_losses'] = tree_losses\n",
        "results_dict[model_name]['train_accuracies'] = tree_accuracies\n",
        "results_dict[model_name]['test_accuracy'] = tree_test_acc\n",
        "results_dict[model_name]['sentence_length_results'] = tree_sentence_length_accs\n"
      ]
    },
    {
      "cell_type": "code",
      "execution_count": 88,
      "metadata": {
        "colab": {
          "base_uri": "https://localhost:8080/"
        },
        "id": "xlaapYrS1Y_a",
        "outputId": "038445f7-2b23-4483-8495-b0e829ddd302"
      },
      "outputs": [
        {
          "output_type": "stream",
          "name": "stdout",
          "text": [
            "TreeLSTMClassifier(\n",
            "  (embed): Embedding(18922, 300, padding_idx=1)\n",
            "  (treelstm): TreeLSTM(\n",
            "    (reduce): TreeLSTMCell(300, 150)\n",
            "    (proj_x): Linear(in_features=300, out_features=150, bias=True)\n",
            "    (proj_x_gate): Linear(in_features=300, out_features=150, bias=True)\n",
            "    (buffers_dropout): Dropout(p=0.5, inplace=False)\n",
            "  )\n",
            "  (output_layer): Sequential(\n",
            "    (0): Dropout(p=0.5, inplace=False)\n",
            "    (1): Linear(in_features=150, out_features=5, bias=True)\n",
            "  )\n",
            ")\n",
            "embed.weight             [18922, 300] requires_grad=False\n",
            "treelstm.reduce.reduce_layer.weight [750, 300]   requires_grad=True\n",
            "treelstm.reduce.reduce_layer.bias [750]        requires_grad=True\n",
            "treelstm.proj_x.weight   [150, 300]   requires_grad=True\n",
            "treelstm.proj_x.bias     [150]        requires_grad=True\n",
            "treelstm.proj_x_gate.weight [150, 300]   requires_grad=True\n",
            "treelstm.proj_x_gate.bias [150]        requires_grad=True\n",
            "output_layer.1.weight    [5, 150]     requires_grad=True\n",
            "output_layer.1.bias      [5]          requires_grad=True\n",
            "\n",
            "Total number of parameters: 5993405\n",
            "\n",
            "Shuffling training data\n",
            "Iter 250: loss=312.3668, time=7.92s\n",
            "iter 250: dev acc=0.2625\n",
            "new highscore\n",
            "Iter 500: loss=239.9200, time=16.62s\n",
            "iter 500: dev acc=0.2643\n",
            "new highscore\n",
            "Iter 750: loss=220.4773, time=25.33s\n",
            "iter 750: dev acc=0.3433\n",
            "new highscore\n",
            "Iter 1000: loss=200.0780, time=34.18s\n",
            "iter 1000: dev acc=0.3669\n",
            "new highscore\n",
            "Iter 1250: loss=189.3391, time=42.77s\n",
            "iter 1250: dev acc=0.3624\n",
            "Iter 1500: loss=182.3427, time=51.68s\n",
            "iter 1500: dev acc=0.3815\n",
            "new highscore\n",
            "Iter 1750: loss=175.6557, time=60.30s\n",
            "iter 1750: dev acc=0.3806\n",
            "Iter 2000: loss=174.1557, time=69.07s\n",
            "iter 2000: dev acc=0.3906\n",
            "new highscore\n",
            "Iter 2250: loss=169.4313, time=77.66s\n",
            "iter 2250: dev acc=0.3769\n",
            "Iter 2500: loss=164.8012, time=86.23s\n",
            "iter 2500: dev acc=0.3787\n",
            "Iter 2750: loss=165.3369, time=94.61s\n",
            "iter 2750: dev acc=0.3751\n",
            "Iter 3000: loss=164.4888, time=103.37s\n",
            "iter 3000: dev acc=0.3933\n",
            "new highscore\n",
            "Iter 3250: loss=155.8981, time=112.24s\n",
            "iter 3250: dev acc=0.4042\n",
            "new highscore\n",
            "Iter 3500: loss=163.4045, time=121.17s\n",
            "iter 3500: dev acc=0.3987\n",
            "Iter 3750: loss=163.3953, time=130.30s\n",
            "iter 3750: dev acc=0.4105\n",
            "new highscore\n",
            "Iter 4000: loss=158.1365, time=139.08s\n",
            "iter 4000: dev acc=0.4169\n",
            "new highscore\n",
            "Iter 4250: loss=155.9781, time=147.62s\n",
            "iter 4250: dev acc=0.4124\n",
            "Iter 4500: loss=156.4721, time=156.71s\n",
            "iter 4500: dev acc=0.4124\n",
            "Iter 4750: loss=156.8977, time=165.27s\n",
            "iter 4750: dev acc=0.4251\n",
            "new highscore\n",
            "Iter 5000: loss=152.5369, time=173.60s\n",
            "iter 5000: dev acc=0.4087\n",
            "Iter 5250: loss=149.6071, time=182.17s\n",
            "iter 5250: dev acc=0.4223\n",
            "Iter 5500: loss=155.5347, time=190.85s\n",
            "iter 5500: dev acc=0.4160\n",
            "Iter 5750: loss=154.3874, time=199.36s\n",
            "iter 5750: dev acc=0.4287\n",
            "new highscore\n",
            "Iter 6000: loss=155.9453, time=208.15s\n",
            "iter 6000: dev acc=0.4278\n",
            "Iter 6250: loss=152.5493, time=216.96s\n",
            "iter 6250: dev acc=0.4096\n",
            "Iter 6500: loss=152.8239, time=225.43s\n",
            "iter 6500: dev acc=0.4305\n",
            "new highscore\n",
            "Iter 6750: loss=149.7971, time=234.02s\n",
            "iter 6750: dev acc=0.4351\n",
            "new highscore\n",
            "Iter 7000: loss=149.0291, time=242.60s\n",
            "iter 7000: dev acc=0.4196\n",
            "Iter 7250: loss=149.4973, time=251.12s\n",
            "iter 7250: dev acc=0.4351\n",
            "Iter 7500: loss=145.3474, time=259.56s\n",
            "iter 7500: dev acc=0.4332\n",
            "Iter 7750: loss=151.1536, time=267.90s\n",
            "iter 7750: dev acc=0.4387\n",
            "new highscore\n",
            "Iter 8000: loss=144.3240, time=276.23s\n",
            "iter 8000: dev acc=0.4278\n",
            "Iter 8250: loss=151.0155, time=284.96s\n",
            "iter 8250: dev acc=0.4432\n",
            "new highscore\n",
            "Iter 8500: loss=148.8436, time=293.71s\n",
            "iter 8500: dev acc=0.4396\n",
            "Iter 8750: loss=148.7381, time=302.20s\n",
            "iter 8750: dev acc=0.4223\n",
            "Iter 9000: loss=148.9671, time=310.44s\n",
            "iter 9000: dev acc=0.4351\n",
            "Iter 9250: loss=147.1857, time=320.66s\n",
            "iter 9250: dev acc=0.4414\n",
            "Iter 9500: loss=147.6384, time=329.58s\n",
            "iter 9500: dev acc=0.4351\n",
            "Iter 9750: loss=150.8314, time=338.03s\n",
            "iter 9750: dev acc=0.4178\n",
            "Iter 10000: loss=145.4561, time=346.45s\n",
            "iter 10000: dev acc=0.4460\n",
            "new highscore\n",
            "Iter 10250: loss=145.2320, time=354.91s\n",
            "iter 10250: dev acc=0.4214\n",
            "Iter 10500: loss=146.4369, time=363.53s\n",
            "iter 10500: dev acc=0.4369\n",
            "Iter 10750: loss=144.9901, time=372.11s\n",
            "iter 10750: dev acc=0.4423\n",
            "Iter 11000: loss=144.6409, time=380.55s\n",
            "iter 11000: dev acc=0.4414\n",
            "Iter 11250: loss=144.0076, time=388.95s\n",
            "iter 11250: dev acc=0.4351\n",
            "Iter 11500: loss=143.1407, time=397.48s\n",
            "iter 11500: dev acc=0.4296\n",
            "Iter 11750: loss=149.6066, time=406.00s\n",
            "iter 11750: dev acc=0.4369\n",
            "Iter 12000: loss=150.9529, time=414.67s\n",
            "iter 12000: dev acc=0.4387\n",
            "Iter 12250: loss=147.4119, time=423.38s\n",
            "iter 12250: dev acc=0.4405\n",
            "Iter 12500: loss=145.4532, time=432.23s\n",
            "iter 12500: dev acc=0.4360\n",
            "Done training, model converged\n",
            "Loading best model\n",
            "best model iter 10000: train acc=0.7706, dev acc=0.4460, test acc=0.4529\n"
          ]
        }
      ],
      "source": [
        "# Supervise the sentiment at each node in the tree-LSTM\n",
        "\n",
        "# def get_subtrees(s):\n",
        "#   subtrees=[]\n",
        "#   temp=[]\n",
        "#   for c in s:\n",
        "#     if c is not ')':\n",
        "#       temp.append(c)\n",
        "#     else:\n",
        "#       temp1 = temp.pop()\n",
        "#       string = temp1 + c\n",
        "#       while string.count('(') != string.count(')'):  \n",
        "#         temp1 = temp.pop()\n",
        "#         string = temp1 + string\n",
        "#       for i in string:\n",
        "#         temp.append(i)\n",
        "#       subtrees.append(string)\n",
        "#   return subtrees\n",
        "\n",
        "def get_subtrees(s): # simple method to extact sub-trees\n",
        "  stack=[]\n",
        "  subtrees=[]\n",
        "  for c in s:\n",
        "    if c is not ')':\n",
        "      stack.append(c)\n",
        "    else:\n",
        "      s0 = stack.pop()\n",
        "      string = s0 + c\n",
        "      while string.count('(') != string.count(')'):  \n",
        "        s0 = stack.pop()\n",
        "        string = s0 + string\n",
        "      for c0 in string:\n",
        "        stack.append(c0)\n",
        "      subtrees.append(string)\n",
        "  return subtrees\n",
        "\n",
        "   \n",
        "def subtree_examples(path, lower=False):\n",
        "  \"\"\"Returns all examples in a file one by one.\"\"\"\n",
        "  for line in filereader(path):\n",
        "    line = line.lower() if lower else line\n",
        "    subtrees = get_subtrees(line)\n",
        "    for line in subtrees:\n",
        "      tokens = tokens_from_treestring(line)\n",
        "      tree = Tree.fromstring(line) \n",
        "      label = int(line[1])\n",
        "      trans = transitions_from_treestring(line)\n",
        "      yield Example(tokens=tokens, tree=tree, label=label, transitions=trans)\n",
        "\n",
        "# Create new train data\n",
        "train_data = list(subtree_examples(\"trees/train.txt\", lower=LOWER))\n",
        "\n",
        "subtree_model = TreeLSTMClassifier(len(v_new.w2i), 300, 150, len(t2i), v_new) \n",
        "\n",
        "with torch.no_grad():\n",
        "  subtree_model.embed.weight.data.copy_(torch.from_numpy(vectors))\n",
        "  subtree_model.embed.weight.requires_grad = False\n",
        " \n",
        "model_name = subtree_model.__class__.__name__ + '_subtree'\n",
        "  \n",
        "def do_train(model):\n",
        "  \n",
        "  print(model)\n",
        "  print_parameters(model)\n",
        "\n",
        "  model = model.to(device)\n",
        "\n",
        "  optimizer = optim.Adam(model.parameters(), lr=2e-4)\n",
        "\n",
        "  return train_model(\n",
        "      model, optimizer, num_iterations=30000, \n",
        "      print_every=250, eval_every=250,\n",
        "      prep_fn=prepare_treelstm_minibatch,\n",
        "      eval_fn=evaluate,\n",
        "      batch_fn=get_minibatch,\n",
        "      batch_size=25, eval_batch_size=25, model_name=model_name)\n",
        "  \n",
        "if not os.path.exists(\"{}.pt\".format(model_name)):\n",
        "  results = do_train(subtree_model)\n",
        "  subtree_losses, subtree_accuracies = results\n",
        "else:\n",
        "    print('Model already trained')\n",
        "    results = 'No training done', 'No training done'\n",
        "    subtree_losses, subtree_accuracies = results\n",
        "\n",
        "# get accuracies for each sentence length and store all results\n",
        "path = \"{}.pt\".format(model_name)       \n",
        "ckpt = torch.load(path)\n",
        "subtree_model.load_state_dict(ckpt[\"state_dict\"])\n",
        "\n",
        "subtree_model.to(device)\n",
        "_, _, subtree_test_acc = evaluate(subtree_model, test_data,  batch_fn=get_minibatch, prep_fn=prepare_treelstm_minibatch, batch_size=25)\n",
        "_, _, subtree_sentence_length_accs = sent_length_evaluate_batch(subtree_model, test_data, batch_fn=get_minibatch, prep_fn=prepare_treelstm_minibatch, batch_size=25)\n",
        "\n",
        "\n",
        "# save results in results dict\n",
        "results_dict[model_name] = {}\n",
        "results_dict[model_name]['train_losses'] = subtree_losses\n",
        "results_dict[model_name]['train_accuracies'] = subtree_accuracies\n",
        "results_dict[model_name]['test_accuracy'] = subtree_test_acc\n",
        "results_dict[model_name]['sentence_length_results'] = subtree_sentence_length_accs"
      ]
    },
    {
      "cell_type": "code",
      "execution_count": 89,
      "metadata": {
        "colab": {
          "base_uri": "https://localhost:8080/"
        },
        "id": "B_J3ODXC6oSN",
        "outputId": "04b88156-468f-4bc7-fdd8-bb2e741ef6d9"
      },
      "outputs": [
        {
          "output_type": "stream",
          "name": "stdout",
          "text": [
            "Results successfully saved!\n"
          ]
        }
      ],
      "source": [
        "# SAVE RESULTS FROM SEED using Pickle\n",
        "\n",
        "import pickle\n",
        "\n",
        "filename = 'results_seed_{}.pickle'.format(SEED_NUM)\n",
        "\n",
        "with open(filename, 'wb') as handle:\n",
        "    pickle.dump(results_dict, handle, protocol=pickle.HIGHEST_PROTOCOL)\n",
        "\n",
        "with open(filename, 'rb') as handle:\n",
        "    b = pickle.load(handle)\n",
        "\n",
        "if results_dict == b:\n",
        "    print('Results successfully saved!')"
      ]
    },
    {
      "cell_type": "markdown",
      "metadata": {
        "id": "f7QZZH86eHqu"
      },
      "source": [
        "# Further experiments and report\n",
        "\n",
        "For your report, you are expected to answer research questions by doing further experiments.\n",
        "\n",
        "## Research Questions\n",
        "\n",
        "Make sure you cover at least the following:\n",
        "\n",
        "- How important is word order for this task?\n",
        "- Does the tree structure help to get a better accuracy?\n",
        "- How does performance depend on the sentence length? Compare the various models. Is there a model that does better on longer sentences? If so, why?\n",
        "- Do you get better performance if you supervise the sentiment **at each node in the tree**? You can extract more training examples by treating every node in each tree as a separate tree. You will need to write a function that extracts all subtrees given a treestring. \n",
        "    - Warning: NLTK's Tree function seems to result in invalid trees in some cases, so be careful if you want to parse the string to a tree structure before extraction the phrases.\n",
        "\n",
        "**To be able to obtain a full grade (10), you should conduct further investigations.** For example, you can also investigate one the following:\n",
        "\n",
        "- When making a wrong prediction, can you figure out at what point in the tree (sentence) the model fails? You can make a prediction at each node to investigate.\n",
        "- How does N-ary Tree LSTM compare to the Child-Sum Tree LSTM? \n",
        "- How do the Tai et al. Tree LSTMs compare to Le & Zuidema's formulation?\n",
        "- Or... your own research question!\n",
        "\n",
        "These examples should give you an idea of the expected scope of your further investigations.\n",
        "\n",
        "In general:\n",
        "\n",
        "- ***When you report numbers, please report the mean accuracy across 3 (or more) runs with different random seed, together with the standard deviation.*** This is because the final performance may vary per random seed. \n",
        "More precisely, you should run each model with 3 different seeds, and for each of these 3 runs, evaluate the best model (according to the validation) on the test dataset. The validation dataset is used for finding the best model over iterations, but the accuracy you report should be on the test dataset.\n",
        "\n",
        "## Report instructions\n",
        "\n",
        "Your report needs to be written in LaTeX. You are required to use the ACL 2020 template which you can download from or edit directly on [Overleaf](https://www.overleaf.com/latex/templates/instructions-for-acl-2018-proceedings/xzmhqgnmkppc). Make sure your names and student numbers are visible at the top. (Tip: you need to uncomment `\\aclfinalcopy`).\n",
        "You can find some general tips about writing a research paper [here](https://www.microsoft.com/en-us/research/academic-program/write-great-research-paper/), but note that you need to make your own judgment about what is appropriate for this project. \n",
        "\n",
        "We expect you to use the following structure:\n",
        "1. Introduction (~1 page) - describe the problem, your research questions and goals, a summary of your findings and contributions. Please cite related work (models, data set) as part of your introduction here, since this is a short paper.\n",
        "    - Introduce the task and the main goal\n",
        "    - Present your research questions\n",
        "    - Motivate the importance of the questions\n",
        "    - Present and explain your expectations\n",
        "    - Make clear whether the research questions are addressed or not addressed in the literature\n",
        "    - Describe the approach you use to answer the research questions\n",
        "    - Summarise your findings\n",
        "2. Background (~1/2-1 page) -\n",
        "cover the main techniques (\"building blocks\") used in your project (e.g. word embeddings, LSTM, Tree-LSTM) and intuitions behind them. Be accurate and concise.\n",
        "    - How does each technique work? (Don't just copy the formulas)\n",
        "    - What is the relation between the techniques?\n",
        "3. Models (~1/2 page) - Describe the architecture of the final models.\n",
        "    - How do you use LSTM or Tree-LSTM for the sentiment classification task? \n",
        "    - What layers do you have, how do you do classification? \n",
        "    - What is your loss function?\n",
        "    - Etc.\n",
        "4. Experiments (~1/2 page) - Describe your experimental setup. This section should allow someone else to reproduce your experiments. Describe how you evaluate the models.\n",
        "    - Task and the data\n",
        "    - Training (model, data, parameters and hyper parameters, training algorithms, supervision signals, etc.)\n",
        "    - Evaluation (e.g. metrics)\n",
        "5. Results and Analysis (~1 page). Present the results and analyse your findings.\n",
        "    - Answer each of the research questions you raised in the introduction.\n",
        "    - Use figures and tables to highlight interesting patterns\n",
        "    - What are the factors that make model A better than model B in task C? Investigate to prove their effect!\n",
        "6. Conclusion (~1/4 page). Present the conclusions that can be drawn from your experiments.\n",
        "    - What have you learned from you experiments?\n",
        "    - How do your findings relate to what is already known in the literature?\n",
        "    - Were the results as expected? Any surprising results? Why?\n",
        "    - Based on what you learned, what would you suggest doing next?\n",
        "\n",
        "\n",
        "General Tips:\n",
        "\n",
        "- Math notation – define each variable (either in running text, or in a pseudo-legenda after or before the equation).\n",
        "- Define technical terminology you need.\n",
        "- Avoid colloquial language – everything can be said in a scientific-sounding way.\n",
        "- Avoid lengthy sentences, stay to the point.\n",
        "- Do not spend space on \"obvious\" things.\n",
        "- Do not go over the page limit. (We will deduct points for that.)\n",
        "- The page limit is 4 pages excluding references and appendix. This is a strict limit; points will be deducted for longer reports. \n",
        "- There is no strict limit to references and appendix. However, the report needs to remain fully self-contained: the appendix should only include content that is not necessary to understand your work. For example, preprocessing decisions, model parameters, pseudocode, sample system inputs/outputs, and other details that are necessary for the exact replication of your work can be put into the appendix. \n",
        "\n",
        "\n",
        "An ideal report:\n",
        "- Precise, scientific-sounding, technical, to the point \n",
        "  - Little general “waffle”/chit-chat\n",
        "- Not boring – because you don’t explain obvious things too much\n",
        "- Efficient delivery of (only) the facts that we need to know to understand/reimplement\n",
        "- Results visually well-presented and described with the correct priority of importance of sub-results\n",
        "- Insightful analysis – speculation should connect to something interesting and not be too much; the reader “learns something new”\n",
        "- No typos, no colloquialisms – well-considered language\n",
        "- This normally means several re-draftings (re-orderings of information)\n"
      ]
    }
  ],
  "metadata": {
    "accelerator": "GPU",
    "colab": {
      "collapsed_sections": [],
      "name": "practical2_bart_seqlength_childsum_subtrees_fixed_errors.ipynb",
      "provenance": [],
      "machine_shape": "hm"
    },
    "kernelspec": {
      "display_name": "Python 3",
      "language": "python",
      "name": "python3"
    },
    "language_info": {
      "codemirror_mode": {
        "name": "ipython",
        "version": 3
      },
      "file_extension": ".py",
      "mimetype": "text/x-python",
      "name": "python",
      "nbconvert_exporter": "python",
      "pygments_lexer": "ipython3",
      "version": "3.7.10"
    }
  },
  "nbformat": 4,
  "nbformat_minor": 0
}