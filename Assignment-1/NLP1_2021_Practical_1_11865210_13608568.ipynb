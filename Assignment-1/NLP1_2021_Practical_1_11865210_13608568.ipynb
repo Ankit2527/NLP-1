{
 "cells": [
  {
   "cell_type": "markdown",
   "metadata": {
    "id": "1-aRiOgl4nHg"
   },
   "source": [
    "------\n",
    "**You cannot save any changes you make to this file, so please make sure to save it on your Google Colab drive or download it as a .ipynb file.**\n",
    "\n",
    "------\n",
    "\n",
    " "
   ]
  },
  {
   "cell_type": "markdown",
   "metadata": {
    "id": "lIZrAUx57vsM"
   },
   "source": [
    "Practical 1: Sentiment Detection in Movie Reviews\n",
    "========================================\n",
    "\n"
   ]
  },
  {
   "cell_type": "markdown",
   "metadata": {
    "id": "J4kXPMhyngZW"
   },
   "source": [
    "This practical concerns detecting sentiment in movie reviews. This is a typical NLP classification task.\n",
    "In [this file](https://gist.githubusercontent.com/bastings/d47423301cca214e3930061a5a75e177/raw/5113687382919e22b1f09ce71a8fecd1687a5760/reviews.json) (80MB) you will find 1000 positive and 1000 negative **movie reviews**.\n",
    "Each review is a **document** and consists of one or more sentences.\n",
    "\n",
    "To prepare yourself for this practical, you should\n",
    "have a look at a few of these texts to understand the difficulties of\n",
    "the task: how might one go about classifying the texts? You will write\n",
    "code that decides whether a movie review conveys positive or\n",
    "negative sentiment.\n",
    "\n",
    "Please make sure you have read the following paper:\n",
    "\n",
    ">   Bo Pang, Lillian Lee, and Shivakumar Vaithyanathan\n",
    "(2002). \n",
    "[Thumbs up? Sentiment Classification using Machine Learning\n",
    "Techniques](https://dl.acm.org/citation.cfm?id=1118704). EMNLP.\n",
    "\n",
    "Bo Pang et al. introduced the movie review sentiment\n",
    "classification task, and the above paper was one of the first papers on\n",
    "the topic. The first version of your sentiment classifier will do\n",
    "something similar to Pang et al.'s system. If you have questions about it,\n",
    "you should resolve you doubts as soon as possible with your TA.\n"
   ]
  },
  {
   "cell_type": "markdown",
   "metadata": {
    "id": "cb7errgRASzZ"
   },
   "source": [
    "**Advice**\n",
    "\n",
    "Please read through the entire practical and familiarise\n",
    "yourself with all requirements before you start coding or otherwise\n",
    "solving the tasks. Writing clean and concise code can make the difference\n",
    "between solving the assignment in a matter of hours, and taking days to\n",
    "run all experiments.\n",
    "\n",
    "## Environment\n",
    "\n",
    "All code should be written in **Python 3**. \n",
    "This is the default in Google Colab."
   ]
  },
  {
   "cell_type": "code",
   "execution_count": 1,
   "metadata": {
    "id": "SaZnxptMJiD7"
   },
   "outputs": [
    {
     "name": "stderr",
     "output_type": "stream",
     "text": [
      "Python 3.6.13 :: Anaconda, Inc.\n"
     ]
    }
   ],
   "source": [
    "!python --version"
   ]
  },
  {
   "cell_type": "markdown",
   "metadata": {
    "id": "BYZyIF7lJnGn"
   },
   "source": [
    "If you want to run code on your own computer, then download this notebook through `File -> Download .ipynb`.\n",
    "The easiest way to\n",
    "install Python is through downloading\n",
    "[Anaconda](https://www.anaconda.com/download). \n",
    "After installation, you can start the notebook by typing `jupyter notebook filename.ipynb`.\n",
    "You can also use an IDE\n",
    "such as [PyCharm](https://www.jetbrains.com/pycharm/download/) to make\n",
    "coding and debugging easier. It is good practice to create a [virtual\n",
    "environment](https://docs.python.org/3/tutorial/venv.html) for this\n",
    "project, so that any Python packages don’t interfere with other\n",
    "projects. \n",
    " \n",
    "\n",
    "**Learning Python 3**\n",
    "\n",
    "If you are new to Python 3, you may want to check out a few of these resources:\n",
    "- https://learnxinyminutes.com/docs/python3/\n",
    "- https://www.learnpython.org/\n",
    "- https://docs.python.org/3/tutorial/"
   ]
  },
  {
   "cell_type": "code",
   "execution_count": 2,
   "metadata": {
    "id": "hok-BFu9lGoK"
   },
   "outputs": [],
   "source": [
    "import math\n",
    "import os\n",
    "import sys\n",
    "from subprocess import call\n",
    "from nltk import FreqDist\n",
    "from nltk.util import ngrams\n",
    "from nltk.stem.porter import PorterStemmer\n",
    "import sklearn as sk\n",
    "from google.colab import drive\n",
    "import pickle\n",
    "import json\n",
    "from collections import Counter\n",
    "import requests\n",
    "import matplotlib.pyplot as plt\n",
    "import numpy as np"
   ]
  },
  {
   "cell_type": "markdown",
   "metadata": {
    "id": "bXWyGHwE-ieQ"
   },
   "source": [
    "## Loading the data\n",
    "\n",
    "**Download the sentiment lexicon and the movie reviews dataset.**"
   ]
  },
  {
   "cell_type": "code",
   "execution_count": null,
   "metadata": {
    "id": "lm-rakqtlMOT"
   },
   "outputs": [],
   "source": [
    "# download sentiment lexicon\n",
    "!wget https://gist.githubusercontent.com/bastings/d6f99dcb6c82231b94b013031356ba05/raw/f80a0281eba8621b122012c89c8b5e2200b39fd6/sent_lexicon --no-check-certificate\n",
    "# download review data\n",
    "!wget https://gist.githubusercontent.com/bastings/d47423301cca214e3930061a5a75e177/raw/5113687382919e22b1f09ce71a8fecd1687a5760/reviews.json --no-check-certificate"
   ]
  },
  {
   "cell_type": "markdown",
   "metadata": {
    "id": "AkPwuHp5LSuQ"
   },
   "source": [
    "**Load the movie reviews.**\n",
    "\n",
    "Each word in a review comes with its part-of-speech tag. For documentation on POS-tags, see https://catalog.ldc.upenn.edu/docs/LDC99T42/tagguid1.pdf.\n"
   ]
  },
  {
   "cell_type": "code",
   "execution_count": 3,
   "metadata": {
    "id": "careEKj-mRpl"
   },
   "outputs": [
    {
     "name": "stdout",
     "output_type": "stream",
     "text": [
      "Total number of reviews: 2000 \n",
      "\n",
      "0 NEG 29\n",
      "Two/CD teen/JJ couples/NNS go/VBP to/TO a/DT church/NN party/NN ,/, drink/NN and/CC then/RB drive/NN ./.\n",
      "1 NEG 11\n",
      "Damn/JJ that/IN Y2K/CD bug/NN ./.\n",
      "2 NEG 24\n",
      "It/PRP is/VBZ movies/NNS like/IN these/DT that/WDT make/VBP a/DT jaded/JJ movie/NN viewer/NN thankful/JJ for/IN the/DT invention/NN of/IN the/DT Timex/NNP IndiGlo/NNP watch/NN ./.\n",
      "3 NEG 19\n",
      "QUEST/NN FOR/IN CAMELOT/NNP ``/`` Quest/NNP for/IN Camelot/NNP ''/'' is/VBZ Warner/NNP Bros./NNP '/POS first/JJ feature-length/JJ ,/, fully-animated/JJ attempt/NN to/TO steal/VB clout/NN from/IN Disney/NNP 's/POS cartoon/NN empire/NN ,/, but/CC the/DT mouse/NN has/VBZ no/DT reason/NN to/TO be/VB worried/VBN ./.\n",
      "4 NEG 38\n",
      "Synopsis/NNPS :/: A/DT mentally/RB unstable/JJ man/NN undergoing/VBG psychotherapy/NN saves/VBZ a/DT boy/NN from/IN a/DT potentially/RB fatal/JJ accident/NN and/CC then/RB falls/VBZ in/IN love/NN with/IN the/DT boy/NN 's/POS mother/NN ,/, a/DT fledgling/NN restauranteur/NN ./.\n",
      "\n",
      "Number of word types: 47743\n",
      "Number of word tokens: 1512359\n",
      "\n",
      "Most common tokens:\n",
      "         , :    77842\n",
      "       the :    75948\n",
      "         . :    59027\n",
      "         a :    37583\n",
      "       and :    35235\n",
      "        of :    33864\n",
      "        to :    31601\n",
      "        is :    25972\n",
      "        in :    21563\n",
      "        's :    18043\n",
      "        it :    15904\n",
      "      that :    15820\n",
      "     -rrb- :    11768\n",
      "     -lrb- :    11670\n",
      "        as :    11312\n",
      "      with :    10739\n",
      "       for :     9816\n",
      "       his :     9542\n",
      "      this :     9497\n",
      "      film :     9404\n"
     ]
    }
   ],
   "source": [
    "# file structure:\n",
    "# [\n",
    "#  {\"cv\": integer, \"sentiment\": str, \"content\": list} \n",
    "#  {\"cv\": integer, \"sentiment\": str, \"content\": list} \n",
    "#   ..\n",
    "# ]\n",
    "# where `content` is a list of sentences, \n",
    "# with a sentence being a list of (token, pos_tag) pairs.\n",
    "\n",
    "\n",
    "with open(\"reviews.json\", mode=\"r\", encoding=\"utf-8\") as f:\n",
    "  reviews = json.load(f)\n",
    "  \n",
    "print(\"Total number of reviews:\", len(reviews), '\\n')\n",
    "\n",
    "def print_sentence_with_pos(s):\n",
    "  print(\" \".join(\"%s/%s\" % (token, pos_tag) for token, pos_tag in s))\n",
    "\n",
    "for i, r in enumerate(reviews):\n",
    "  print(r[\"cv\"], r[\"sentiment\"], len(r[\"content\"]))  # cv, sentiment, num sents\n",
    "  print_sentence_with_pos(r[\"content\"][0])\n",
    "  if i == 4: \n",
    "    break\n",
    "    \n",
    "c = Counter()\n",
    "for review in reviews:\n",
    "  for sentence in review[\"content\"]:\n",
    "    for token, pos_tag in sentence:\n",
    "      c[token.lower()] += 1\n",
    "      \n",
    "print(\"\\nNumber of word types:\", len(c))\n",
    "print(\"Number of word tokens:\", sum(c.values()))\n",
    "\n",
    "print(\"\\nMost common tokens:\")\n",
    "for token, count in c.most_common(20):\n",
    "  print(\"%10s : %8d\" % (token, count))\n",
    "  "
   ]
  },
  {
   "cell_type": "markdown",
   "metadata": {
    "id": "E6PWaEoh8B34"
   },
   "source": [
    "# Lexicon-based approach (3.5pts)\n",
    "\n"
   ]
  },
  {
   "cell_type": "markdown",
   "metadata": {
    "id": "JsTSMb6ma4E8"
   },
   "source": [
    "A traditional approach to classify documents according to their sentiment is the lexicon-based approach. To implement this approach, you need a **sentiment lexicon**, i.e., a list of words annotated with a sentiment label (e.g., positive and negative, or a score from 0 to 5).\n",
    "\n",
    "In this practical, you will use the sentiment\n",
    "lexicon released by Wilson et al. (2005).\n",
    "\n",
    "> Theresa Wilson, Janyce Wiebe, and Paul Hoffmann\n",
    "(2005). [Recognizing Contextual Polarity in Phrase-Level Sentiment\n",
    "Analysis](http://www.aclweb.org/anthology/H/H05/H05-1044.pdf). HLT-EMNLP.\n",
    "\n",
    "Pay attention to all the information available in the sentiment lexicon. The field *word1* contains the lemma, *priorpolarity* contains the sentiment label (positive, negative, both, or neutral), *type* gives you the magnitude of the word's sentiment (strong or weak), and *pos1* gives you the part-of-speech tag of the lemma. Some lemmas can have multiple part-of-speech tags and thus multiple entries in the lexicon. The path of the lexicon file is `\"sent_lexicon\"`.\n"
   ]
  },
  {
   "cell_type": "code",
   "execution_count": 4,
   "metadata": {
    "id": "Ogq0Eq2hQglh"
   },
   "outputs": [
    {
     "name": "stdout",
     "output_type": "stream",
     "text": [
      "type=weaksubj len=1 word1=abandoned pos1=adj stemmed1=n priorpolarity=negative\n",
      "type=weaksubj len=1 word1=abandonment pos1=noun stemmed1=n priorpolarity=negative\n",
      "type=weaksubj len=1 word1=abandon pos1=verb stemmed1=y priorpolarity=negative\n",
      "type=strongsubj len=1 word1=abase pos1=verb stemmed1=y priorpolarity=negative\n",
      "type=strongsubj len=1 word1=abasement pos1=anypos stemmed1=y priorpolarity=negative\n"
     ]
    }
   ],
   "source": [
    "with open(\"sent_lexicon\", mode=\"r\", encoding=\"utf-8\") as f:\n",
    "  line_cnt = 0\n",
    "  for line in f:\n",
    "    print(line.strip())\n",
    "    line_cnt += 1\n",
    "    if line_cnt > 4:\n",
    "      break"
   ]
  },
  {
   "cell_type": "markdown",
   "metadata": {
    "id": "Mml4nOtIUBhn"
   },
   "source": [
    "Lexica such as this can be used to solve\n",
    "the classification task without using Machine Learning. For example, one might look up every word $w_1 ... w_n$ in a document, and compute a **binary score**\n",
    "$S_{binary}$ by counting how many words have a positive or a\n",
    "negative label in the sentiment lexicon $SLex$.\n",
    "\n",
    "$$S_{binary}(w_1 w_2 ... w_n) = \\sum_{i = 1}^{n}\\text{sign}(SLex\\big[w_i\\big])$$\n",
    "\n",
    "where $\\text{sign}(SLex\\big[w_i\\big])$ refers to the polarity of $w_i$.\n",
    "\n",
    "**Threshold.** On average, there are more positive than negative words per review (~7.13 more positive than negative per review) to take this bias into account you should use a threshold of **8** (roughly the bias itself) to make it harder to classify as positive.\n",
    "\n",
    "$$\n",
    "\\text{classify}(S_{binary}(w_1 w_2 ... w_n)) = \\bigg\\{\\begin{array}{ll}\n",
    "        \\text{positive} & \\text{if } S_{binary}(w_1w_2...w_n) > threshold\\\\\n",
    "        \\text{negative} & \\text{otherwise}\n",
    "        \\end{array}\n",
    "$$\n"
   ]
  },
  {
   "cell_type": "markdown",
   "metadata": {
    "id": "tOFnMvbeeZrc"
   },
   "source": [
    "#### (Q1.1) Implement this approach and report its classification accuracy. (1 pt)"
   ]
  },
  {
   "cell_type": "code",
   "execution_count": 5,
   "metadata": {
    "id": "ED2aTEYutW1-"
   },
   "outputs": [],
   "source": [
    "# YOUR CODE HERE\n",
    "\n",
    "# first create a nice dictionary of the sentiment lexicon\n",
    "sent_dict = {}\n",
    "with open(\"sent_lexicon\", mode=\"r\", encoding=\"utf-8\") as f:\n",
    "  for line in f:\n",
    "    splitted_line = line.split()\n",
    "    word = splitted_line[2].split('=')[1]\n",
    "    magnitude = splitted_line[0].split('=')[1]\n",
    "    polarity = splitted_line[5].split('=')[1]\n",
    "    sent_dict[word] = (polarity, magnitude)"
   ]
  },
  {
   "cell_type": "code",
   "execution_count": 6,
   "metadata": {},
   "outputs": [],
   "source": [
    "def Sbin_review(review, strong_multiplier=1, weak_multiplier=1, threshold=8):\n",
    "  \"\"\"\n",
    "  If not using the magnitude, set strong_multiplier and weak_multiplier to 1 (default)\n",
    "  \"\"\"\n",
    "  scores = []\n",
    "  for sentence in review[\"content\"]:\n",
    "    for token, pos_tag in sentence:\n",
    "      if token.lower() in sent_dict:\n",
    "        pol, magnitude = sent_dict[token.lower()]\n",
    "        if pol == 'positive':\n",
    "          if magnitude == 'strongsubj':\n",
    "            score = strong_multiplier * 1\n",
    "          elif magnitude == 'weaksubj':\n",
    "            score = weak_multiplier * 1\n",
    "        elif pol == 'negative':\n",
    "          if magnitude == 'strongsubj':\n",
    "            score = strong_multiplier * -1\n",
    "          elif magnitude == 'weaksubj':\n",
    "            score = weak_multiplier * -1\n",
    "        else: \n",
    "          score = 0\n",
    "        scores.append(score)\n",
    "\n",
    "  if sum(scores) > threshold:\n",
    "    pred_label = 'POS'\n",
    "  else:\n",
    "    pred_label = 'NEG'\n",
    "\n",
    "  return pred_label\n",
    "          \n"
   ]
  },
  {
   "cell_type": "code",
   "execution_count": 7,
   "metadata": {
    "id": "iy528EUTphz5"
   },
   "outputs": [
    {
     "name": "stdout",
     "output_type": "stream",
     "text": [
      "Accuracy: 0.68\n"
     ]
    }
   ],
   "source": [
    "token_results = []\n",
    "for review in reviews:\n",
    "  target_label = review['sentiment']\n",
    "  pred_label = Sbin_review(review)\n",
    "  if pred_label == target_label:\n",
    "    token_results.append(1)\n",
    "  else:\n",
    "    token_results.append(0)\n",
    "\n",
    "# token_results should be a list of binary indicators; for example [1, 0, 1, ...] \n",
    "# where 1 indicates a correct classification and 0 an incorrect classification.\n",
    "token_accuracy = sum(token_results)/len(token_results)\n",
    "print(\"Accuracy: %0.2f\" % token_accuracy)"
   ]
  },
  {
   "cell_type": "markdown",
   "metadata": {
    "id": "Twox0s_3eS0V"
   },
   "source": [
    "As the sentiment lexicon also has information about the **magnitude** of\n",
    "sentiment (e.g., *“excellent\"* has the same sentiment _polarity_ as *“good\"* but it has a higher magnitude), we can take a more fine-grained approach by adding up all\n",
    "sentiment scores, and deciding the polarity of the movie review using\n",
    "the sign of the weighted score $S_{weighted}$.\n",
    "\n",
    "$$S_{weighted}(w_1w_2...w_n) = \\sum_{i = 1}^{n}SLex\\big[w_i\\big]$$\n",
    "\n",
    "\n",
    "Make sure you define an appropriate threshold for this approach.\n",
    "\n",
    "#### (Q1.2) Now incorporate magnitude information and report the classification accuracy. Don't forget to use the threshold. (1pt)"
   ]
  },
  {
   "cell_type": "code",
   "execution_count": 8,
   "metadata": {
    "id": "qG3hUDnPtkhS"
   },
   "outputs": [
    {
     "name": "stdout",
     "output_type": "stream",
     "text": [
      "Accuracy: 0.694\n"
     ]
    }
   ],
   "source": [
    "# YOUR CODE HERE\n",
    "# the main implementation for this question in done in the previous\n",
    "# function Sbin_review, using multipliers\n",
    "magnitude_results = []\n",
    "for review in reviews:\n",
    "  target_label = review['sentiment']\n",
    "  pred_label = Sbin_review(review, strong_multiplier=2, weak_multiplier=0.5)\n",
    "  if pred_label == target_label:\n",
    "    magnitude_results.append(1)\n",
    "  else:\n",
    "    magnitude_results.append(0)\n",
    "\n",
    "magnitude_accuracy = sum(magnitude_results)/len(magnitude_results) \n",
    "print(\"Accuracy: %0.3f\" % magnitude_accuracy)"
   ]
  },
  {
   "cell_type": "markdown",
   "metadata": {
    "id": "h9SHoGPfsAHV"
   },
   "source": [
    "#### (Q.1.4) Make a barplot of the two results (0.5pt)"
   ]
  },
  {
   "cell_type": "code",
   "execution_count": 9,
   "metadata": {
    "id": "8LgBcYcXsEk3"
   },
   "outputs": [
    {
     "data": {
      "image/png": "[encoded data removed]",
      "text/plain": [
       "<matplotlib.figure.Figure at 0x21b14dfacf8>"
      ]
     },
     "metadata": {
      "needs_background": "light"
     },
     "output_type": "display_data"
    }
   ],
   "source": [
    "# YOUR CODE HERE\n",
    "plt.bar([0, 1], [token_accuracy, magnitude_accuracy])\n",
    "plt.xticks([0, 1], [\"Binary\", \"Weighted\"])\n",
    "plt.ylabel(\"Accuracy\")\n",
    "plt.show()"
   ]
  },
  {
   "cell_type": "markdown",
   "metadata": {
    "id": "sNhS8OCVxMHd"
   },
   "source": [
    "#### (Q1.3) A better threshold (1pt)\n",
    "Above we have defined a threshold to account for an inherent bias in the dataset: there are more positive than negative words per review.\n",
    "However, that threshold does not take into account *document length*. Explain why this is a problem and implement an alternative way to compute the threshold."
   ]
  },
  {
   "cell_type": "markdown",
   "metadata": {
    "id": "xo7gk1I-omLI"
   },
   "source": [
    "*Write your answer here.*\n",
    "\n",
    "##### Answer\n",
    "This threshold is constant, so it is independent from the length of the document/review. It is not based on the relative difference between negative and positive words, but on the absolute difference in negative and positive words. This leads to the problem that documents with a lot of words will always pass this constant threshold although their label is negative, assuming that positive words occur more than negative words relatively.\n",
    "\n",
    "We can solve this problem by calculating a threshold that is relative to the length of each document (or review). We do this by calculating the relative threshold per token, which is multiplied by the length of the review/document to get the document-specific threshold."
   ]
  },
  {
   "cell_type": "code",
   "execution_count": 10,
   "metadata": {
    "id": "Dwt0B8h8aKjr"
   },
   "outputs": [
    {
     "name": "stdout",
     "output_type": "stream",
     "text": [
      "0.009428978172510628\n"
     ]
    }
   ],
   "source": [
    "# YOUR CODE HERE\n",
    "lengths = []\n",
    "for review in reviews:\n",
    "  doc_length = 0\n",
    "  for sentence in review[\"content\"]:\n",
    "    doc_length += len(sentence)\n",
    "  lengths.append(doc_length)\n",
    "\n",
    "avg_doc_length = sum(lengths)/len(lengths)\n",
    "\n",
    "# so for each token:\n",
    "positives_per_token = 7.13 / avg_doc_length\n",
    "\n",
    "# then multiply positives_per_token with the doc_length and you get the\n",
    "# classification threshold for each review \n",
    "print(positives_per_token)"
   ]
  },
  {
   "cell_type": "code",
   "execution_count": 11,
   "metadata": {},
   "outputs": [
    {
     "name": "stdout",
     "output_type": "stream",
     "text": [
      "Accuracy: 0.692\n"
     ]
    }
   ],
   "source": [
    "def flatten(l):\n",
    "   return [item for sublist in l for item in sublist]\n",
    "\n",
    "# get accuracy with better threshold that takes into account document length\n",
    "token_results = []\n",
    "for review in reviews:\n",
    "  target_label = review['sentiment']\n",
    "  thres = len(flatten(review['content']))*positives_per_token\n",
    "  pred_label = Sbin_review(review, strong_multiplier=2, weak_multiplier=0.5, threshold=thres)\n",
    "  if pred_label == target_label:\n",
    "    token_results.append(1)\n",
    "  else:\n",
    "    token_results.append(0)\n",
    "\n",
    "# token_results should be a list of binary indicators; for example [1, 0, 1, ...] \n",
    "# where 1 indicates a correct classification and 0 an incorrect classification.\n",
    "token_accuracy = sum(token_results)/len(token_results)\n",
    "print(\"Accuracy: %0.3f\" % token_accuracy)"
   ]
  },
  {
   "cell_type": "markdown",
   "metadata": {
    "id": "LibV4nR89BXb"
   },
   "source": [
    "# Naive Bayes (9.5pts)"
   ]
  },
  {
   "cell_type": "markdown",
   "metadata": {
    "id": "fnF9adQnuwia"
   },
   "source": [
    "\n",
    "Your second task is to program a simple Machine Learning approach that operates\n",
    "on a simple Bag-of-Words (BoW) representation of the text data, as\n",
    "described by Pang et al. (2002). In this approach, the only features we\n",
    "will consider are the words in the text themselves, without bringing in\n",
    "external sources of information. The BoW model is a popular way of\n",
    "representing texts as vectors, making it\n",
    "easy to apply classical Machine Learning algorithms on NLP tasks.\n",
    "However, the BoW representation is also very crude, since it discards\n",
    "all information related to word order and grammatical structure in the\n",
    "original text—as the name suggests.\n",
    "\n",
    "## Writing your own classifier (4pts)\n",
    "\n",
    "Write your own code to implement the Naive Bayes (NB) classifier. As\n",
    "a reminder, the Naive Bayes classifier works according to the following\n",
    "equation:\n",
    "$$\\hat{c} = \\operatorname*{arg\\,max}_{c \\in C} P(c|\\bar{f}) = \\operatorname*{arg\\,max}_{c \\in C} P(c)\\prod^n_{i=1} P(f_i|c)$$\n",
    "where $C = \\{ \\text{POS}, \\text{NEG} \\}$ is the set of possible classes,\n",
    "$\\hat{c} \\in C$ is the most probable class, and $\\bar{f}$ is the feature\n",
    "vector. Remember that we use the log of these probabilities when making\n",
    "a prediction:\n",
    "$$\\hat{c} = \\operatorname*{arg\\,max}_{c \\in C} \\Big\\{\\log P(c) + \\sum^n_{i=1} \\log P(f_i|c)\\Big\\}$$\n",
    "\n",
    "You can find more details about Naive Bayes in [Jurafsky &\n",
    "Martin](https://web.stanford.edu/~jurafsky/slp3/). You can also look at\n",
    "this helpful\n",
    "[pseudo-code](https://nlp.stanford.edu/IR-book/html/htmledition/naive-bayes-text-classification-1.html).\n",
    "\n",
    "*Note: this section and the next aim to put you in a position to replicate\n",
    "    Pang et al.'s Naive Bayes results. However, your numerical results\n",
    "    will differ from theirs, as they used different data.*\n",
    "\n",
    "**You must write the Naive Bayes training and prediction code from\n",
    "scratch.** You will not be given credit for using off-the-shelf Machine\n",
    "Learning libraries.\n",
    "\n",
    "The data contains the text of the reviews, where each document consists\n",
    "of the sentences in the review, the sentiment of the review and an index\n",
    "(cv) that you will later use for cross-validation. The\n",
    "text has already been tokenised and POS-tagged for you. Your algorithm\n",
    "should read in the text, **lowercase it**, store the words and their\n",
    "frequencies in an appropriate data structure that allows for easy\n",
    "computation of the probabilities used in the Naive Bayes algorithm, and\n",
    "then make predictions for new instances.\n"
   ]
  },
  {
   "cell_type": "markdown",
   "metadata": {
    "id": "vEpyQSBSkb33"
   },
   "source": [
    "#### (Q2.1) Unseen words (1pt)\n",
    "The presence of words in the test dataset that\n",
    "have not been seen during training can cause probabilities in the Naive Bayes classifier to equal $0$.\n",
    "These can be words which are unseen in both positive and negative training reviews (case 1), but also words which are seen in reviews _of only one sentiment class_ in the training dataset (case 2). In both cases, **you should skip these words for both classes**.  What would be the problem instead with skipping words only for one class in case 2? "
   ]
  },
  {
   "cell_type": "markdown",
   "metadata": {
    "id": "BanFiYYnoxDW"
   },
   "source": [
    "*Write your answer here.*\n",
    "\n",
    "##### Answer\n",
    "In case 2 we are skipping words only for one class in the training dataset, this leads to a problem because it increases the llikelihood of the class for which the word was skipped."
   ]
  },
  {
   "cell_type": "markdown",
   "metadata": {
    "id": "gsZRhaI3WvzC"
   },
   "source": [
    "#### (Q2.2) Train your classifier on (positive and negative) reviews with cv-value 000-899, and test it on the remaining (positive and negative) reviews cv900–cv999.  Report results using classification accuracy as your evaluation metric. Your  features are the word vocabulary. The value of a feature is the count of that feature (word) in the document. (2pts)\n"
   ]
  },
  {
   "cell_type": "code",
   "execution_count": 12,
   "metadata": {},
   "outputs": [],
   "source": [
    "def get_n_grams(sentence, n):\n",
    "  tokenized_sent = [token.lower() for token, pos_tag in sentence]\n",
    "\n",
    "  # only get ngrams if sentence is longer or equal than n\n",
    "  if len(tokenized_sent) >= n:\n",
    "    if n == 2:\n",
    "      n_grams_in_sent = list(ngrams(tokenized_sent, n=n)) + list (tokenized_sent)\n",
    "    if n == 3:\n",
    "      n_grams_in_sent = list(ngrams(tokenized_sent, n=n)) + list(ngrams(tokenized_sent, n=n-1)) + list (tokenized_sent)  \n",
    "    return n_grams_in_sent\n",
    "\n",
    "  else:\n",
    "    return None\n",
    "  \n",
    "\n",
    "def NB_train(training_reviews, sm_k=0, stemming=False, bi=False, tri=False):\n",
    "  \"\"\"\n",
    "  Train the NB classifier by creating the frequency dictionary\n",
    "  \"\"\"\n",
    "\n",
    "  if stemming == True:\n",
    "    stemmer = PorterStemmer()\n",
    "    # hold a dictionary for already stemmed words,\n",
    "    # in order to avoid redundant stemming\n",
    "    stem_mem = {}\n",
    "\n",
    "  freqs = {'POS' : {}, 'NEG' : {}}\n",
    "  \n",
    "  pos_count = 0\n",
    "  neg_count = 0\n",
    "\n",
    "  for review in training_reviews:\n",
    "    sentiment = review['sentiment']\n",
    "    if sentiment == 'POS':\n",
    "      pos_count += 1\n",
    "    else:\n",
    "      neg_count += 1\n",
    "\n",
    "    for sentence in review['content']:\n",
    "      for token, pos_tag in sentence:\n",
    "        token = token.lower()\n",
    "        if stemming == True:\n",
    "          if token not in stem_mem:\n",
    "            stemmed_token = stemmer.stem(token)\n",
    "            stem_mem[token] = stemmed_token\n",
    "            token = stemmed_token\n",
    "          else:\n",
    "            token = stem_mem[token]\n",
    "\n",
    "        if token in freqs[sentiment]:\n",
    "          freqs[sentiment][token] += 1\n",
    "        else:\n",
    "          freqs[sentiment][token] = 1\n",
    "\n",
    "      if bi:\n",
    "        bigrams = get_n_grams(sentence, 2)\n",
    "        if bigrams != None:\n",
    "          for bigram in bigrams:\n",
    "            if bigram in freqs[sentiment]:\n",
    "              freqs[sentiment][bigram] += 1\n",
    "            else:\n",
    "              freqs[sentiment][bigram] = 1\n",
    "      if tri:\n",
    "        trigrams = get_n_grams(sentence, 3)\n",
    "        if trigrams != None:\n",
    "          for trigram in trigrams:\n",
    "            if trigram in freqs[sentiment]:\n",
    "              freqs[sentiment][trigram] += 1\n",
    "            else:\n",
    "              freqs[sentiment][trigram] = 1\n",
    "\n",
    "\n",
    "  if sm_k == 0:\n",
    "    # skip the words that don't occur in both NEG and POS\n",
    "    for word in list(freqs[\"NEG\"]):\n",
    "      if word not in freqs[\"POS\"]:\n",
    "        # remove word from dict\n",
    "        del freqs[\"NEG\"][word]\n",
    "    for word in list(freqs[\"POS\"]):\n",
    "      if word not in freqs[\"NEG\"]:\n",
    "        # remove word from dict\n",
    "        del freqs[\"POS\"][word]\n",
    "\n",
    "  elif sm_k > 0:\n",
    "    # apply smoothing for words that don't occur in both NEG and POS\n",
    "    for word in list(freqs[\"NEG\"]):\n",
    "      if word not in freqs[\"POS\"]:\n",
    "        # smooth on class where it didn't exist\n",
    "        freqs[\"POS\"][word] = sm_k\n",
    "      else:\n",
    "        # also add k to other class counts\n",
    "        freqs[\"NEG\"][word] += sm_k\n",
    "\n",
    "    for word in list(freqs[\"POS\"]):\n",
    "      if word not in freqs[\"NEG\"]:\n",
    "        # smooth on class where it didn't exist\n",
    "        freqs[\"NEG\"][word] = sm_k\n",
    "      # also add k to other class counts\n",
    "      else:\n",
    "        freqs[\"POS\"][word] += sm_k\n",
    "\n",
    "\n",
    "  # calculate priors\n",
    "  Ppos = pos_count / (pos_count + neg_count)\n",
    "  Pneg = neg_count / (pos_count + neg_count)\n",
    "\n",
    "  return freqs, Ppos, Pneg\n",
    "\n",
    "def NB_predict(review, freq_dict, Ppos, Pneg, sm_k=0, stemming=False, bi=False, tri=False):\n",
    "\n",
    "  if stemming == True:\n",
    "    stemmer = PorterStemmer()\n",
    "\n",
    "  V_size = len(freq_dict['POS'])\n",
    "  logp_pos = 0\n",
    "  logp_neg = 0\n",
    "\n",
    "  c_p = sum(freq_dict['POS'].values())\n",
    "  c_n = sum(freq_dict['NEG'].values())\n",
    "\n",
    "  for sentence in review[\"content\"]:\n",
    "\n",
    "    # unigram\n",
    "    for token, pos_tag in sentence:\n",
    "      token = token.lower()\n",
    "\n",
    "      if stemming == True:\n",
    "        token = stemmer.stem(token)\n",
    "        \n",
    "      if token in freq_dict['POS']:\n",
    "        \n",
    "        if sm_k > 0:\n",
    "          logp_pos += np.log((freq_dict['POS'][token] + sm_k) / (c_p + V_size))\n",
    "          logp_neg += np.log((freq_dict['NEG'][token] + sm_k) / (c_n + V_size))\n",
    "        else:\n",
    "          logp_pos += np.log(freq_dict['POS'][token] / c_p)\n",
    "          logp_neg += np.log(freq_dict['NEG'][token] / c_n)\n",
    "\n",
    "      elif sm_k > 0:\n",
    "        logp_pos += np.log(sm_k / (c_p + V_size))\n",
    "        logp_neg += np.log(sm_k / (c_n + V_size))\n",
    "\n",
    "    \n",
    "    # bigram\n",
    "    if bi:\n",
    "      logp_pos = 0\n",
    "      logp_neg = 0  \n",
    "      bigrams = get_n_grams(sentence, 2)\n",
    "      if bigrams != None:\n",
    "        for bigram in bigrams:\n",
    "          if bigram in freq_dict['POS']:\n",
    "            if sm_k > 0:\n",
    "              logp_pos += np.log((freq_dict['POS'][bigram] + sm_k) / (c_p + V_size))\n",
    "              logp_neg += np.log((freq_dict['NEG'][bigram] + sm_k) / (c_n + V_size))\n",
    "            else:\n",
    "              logp_pos += np.log(freq_dict['POS'][bigram] / c_p)\n",
    "              logp_neg += np.log(freq_dict['NEG'][bigram] / c_n)\n",
    "\n",
    "          elif sm_k > 0:\n",
    "            logp_pos += np.log(sm_k / (c_p + V_size))\n",
    "            logp_neg += np.log(sm_k / (c_n + V_size))\n",
    "\n",
    "  \n",
    "    # trigram\n",
    "    if tri:\n",
    "      logp_pos = 0\n",
    "      logp_neg = 0\n",
    "      trigrams = get_n_grams(sentence, 3)\n",
    "      if trigrams != None:\n",
    "        for trigram in trigrams:\n",
    "          if trigram in freq_dict['POS']:\n",
    "            if sm_k > 0:\n",
    "              logp_pos += np.log((freq_dict['POS'][trigram] + sm_k) / (c_p + V_size))\n",
    "              logp_neg += np.log((freq_dict['NEG'][trigram] + sm_k) / (c_n + V_size))\n",
    "            else:\n",
    "              logp_pos += np.log(freq_dict['POS'][trigram] / c_p)\n",
    "              logp_neg += np.log(freq_dict['NEG'][trigram] / c_n)\n",
    "\n",
    "          elif sm_k > 0:\n",
    "            logp_pos += np.log(sm_k / (c_p + V_size))\n",
    "            logp_neg += np.log(sm_k/ (c_n + V_size))\n",
    "            \n",
    "          \n",
    "    \n",
    "  # get posterior log probabilities and return class with highest log prob\n",
    "  p = np.log(Ppos) + logp_pos\n",
    "  n = np.log(Pneg) + logp_neg\n",
    "\n",
    "  if n > p:\n",
    "    return 'NEG'\n",
    "  else:\n",
    "    return 'POS'"
   ]
  },
  {
   "cell_type": "code",
   "execution_count": 13,
   "metadata": {},
   "outputs": [
    {
     "name": "stdout",
     "output_type": "stream",
     "text": [
      "Accuracy on the test set: 0.835%\n"
     ]
    }
   ],
   "source": [
    "# create datasets and train Naive Bayes\n",
    "train_reviews = [review for review in reviews if review['cv'] < 900]\n",
    "test_reviews = [review for review in reviews if review['cv'] > 899]\n",
    "freq_dict, Ppos, Pneg = NB_train(train_reviews)\n",
    "\n",
    "# get accuracy on test set\n",
    "accs = []\n",
    "for review in test_reviews:\n",
    "  pred = NB_predict(review, freq_dict, Ppos, Pneg)\n",
    "  if review['sentiment'] == pred:\n",
    "    accs.append(1)\n",
    "  else:\n",
    "    accs.append(0)\n",
    "print('Accuracy on the test set: {}%'.format(sum(accs)/ len(accs)))"
   ]
  },
  {
   "cell_type": "markdown",
   "metadata": {
    "id": "0INK-PBoM6CB"
   },
   "source": [
    "#### (Q2.3) Would you consider accuracy to also be a good way to evaluate your classifier in a situation where 90% of your data instances are of positive movie reviews? (1pt)\n",
    "\n",
    "Simulate this scenario by keeping the positive reviews\n",
    "data unchanged, but only using negative reviews cv000–cv089 for\n",
    "training, and cv900–cv909 for testing. Calculate the classification\n",
    "accuracy, and explain what changed."
   ]
  },
  {
   "cell_type": "markdown",
   "metadata": {
    "id": "oFbcsYlipBAw"
   },
   "source": [
    "*Write your answer here.*\n",
    "\n",
    "#### Answer\n",
    "The accuracy is now 89.1%, which is better. However, if we let the classifier let all test samples classify as positive, the accuracy will be 90%, since the data is unbalanced with 90% positive samples. So accuracy is not a good measure in the case of an unbalanced dataset. Instead, we could use recall."
   ]
  },
  {
   "cell_type": "code",
   "execution_count": 14,
   "metadata": {
    "id": "GWDkt5ZrrFGp"
   },
   "outputs": [
    {
     "name": "stdout",
     "output_type": "stream",
     "text": [
      "Accuracy on the test set: 0.891%\n"
     ]
    }
   ],
   "source": [
    "# YOUR CODE HERE\n",
    "train_reviews = [review for review in reviews if (review['cv'] < 900 and  review['sentiment'] == 'POS') \n",
    "                or (review['cv'] < 89 and review['sentiment'] == 'NEG')]\n",
    "test_reviews = [review for review in reviews if (review['cv'] > 899 and  review['sentiment'] == 'POS') \n",
    "                or (review['cv'] > 899 and review['cv'] < 910 and review['sentiment'] == 'NEG')]\n",
    "\n",
    "freq_dict, Ppos, Pneg = NB_train(train_reviews)\n",
    "accs = []\n",
    "for review in test_reviews:\n",
    "  pred = NB_predict(review, freq_dict, Ppos, Pneg)\n",
    "  if review['sentiment'] == pred:\n",
    "    accs.append(1)\n",
    "  else:\n",
    "    accs.append(0)\n",
    "print('Accuracy on the test set: {}%'.format(round(sum(accs)/ len(accs), 3)))"
   ]
  },
  {
   "cell_type": "markdown",
   "metadata": {
    "id": "6wJzcHX3WUDm"
   },
   "source": [
    "## Smoothing (1pt)\n",
    "\n",
    "As mentioned above, the presence of words in the test dataset that\n",
    "have not been seen during training can cause probabilities in the Naive\n",
    "Bayes classifier to be $0$, thus making that particular test instance\n",
    "undecidable. The standard way to mitigate this effect (as well as to\n",
    "give more clout to rare words) is to use smoothing, in which the\n",
    "probability fraction\n",
    "$$\\frac{\\text{count}(w_i, c)}{\\sum\\limits_{w\\in V} \\text{count}(w, c)}$$ for a word\n",
    "$w_i$ becomes\n",
    "$$\\frac{\\text{count}(w_i, c) + \\text{smoothing}(w_i)}{\\sum\\limits_{w\\in V} \\text{count}(w, c) + \\sum\\limits_{w \\in V} \\text{smoothing}(w)}$$\n",
    "\n",
    "\n",
    "\n"
   ]
  },
  {
   "cell_type": "markdown",
   "metadata": {
    "id": "PBNIcbwUWphC"
   },
   "source": [
    "#### (Q2.4) Implement Laplace feature smoothing (1pt)\n",
    "Implement Laplace smoothing, i.e., smoothing with a constant value ($smoothing(w) = \\kappa, \\forall w \\in V$), in your Naive\n",
    "Bayes classifier’s code, and report the impact on performance. \n",
    "Use $\\kappa = 1$."
   ]
  },
  {
   "cell_type": "code",
   "execution_count": 15,
   "metadata": {
    "id": "g03yflCc9kpW"
   },
   "outputs": [
    {
     "name": "stdout",
     "output_type": "stream",
     "text": [
      "Accuracy on the test set: 0.825%\n"
     ]
    }
   ],
   "source": [
    "# YOUR CODE HERE\n",
    "train_reviews = [review for review in reviews if review['cv'] < 900]\n",
    "test_reviews = [review for review in reviews if review['cv'] > 899]\n",
    "\n",
    "freq_dict, Ppos, Pneg = NB_train(train_reviews, sm_k=1)\n",
    "accs = []\n",
    "for review in test_reviews:\n",
    "  pred = NB_predict(review, freq_dict, Ppos, Pneg, sm_k=1)\n",
    "  if review['sentiment'] == pred:\n",
    "    accs.append(1)\n",
    "  else:\n",
    "    accs.append(0)\n",
    "print('Accuracy on the test set: {}%'.format(sum(accs)/ len(accs)))"
   ]
  },
  {
   "cell_type": "markdown",
   "metadata": {
    "id": "ZiGcgwba87D5"
   },
   "source": [
    "## Cross-Validation (1.5pts)\n",
    "\n",
    "A serious danger in using Machine Learning on small datasets, with many\n",
    "iterations of slightly different versions of the algorithms, is ending up with Type III errors, also called the “testing hypotheses\n",
    "suggested by the data” errors. This type of error occurs when we make\n",
    "repeated improvements to our classifiers by playing with features and\n",
    "their processing, but we don’t get a fresh, never-before seen test\n",
    "dataset every time. Thus, we risk developing a classifier that gets better\n",
    "and better on our data, but only gets worse at generalizing to new, unseen data. In other words, we risk developping a classifier that overfits.\n",
    "\n",
    "A simple method to guard against Type III errors is to use\n",
    "Cross-Validation. In **N-fold Cross-Validation**, we divide the data into N\n",
    "distinct chunks, or folds. Then, we repeat the experiment N times: each\n",
    "time holding out one of the folds for testing, training our classifier\n",
    "on the remaining N - 1 data folds, and reporting performance on the\n",
    "held-out fold. We can use different strategies for dividing the data:\n",
    "\n",
    "-   Consecutive splitting:\n",
    "  - cv000–cv099 = Split 1\n",
    "  - cv100–cv199 = Split 2\n",
    "  - etc.\n",
    "  \n",
    "-   Round-robin splitting (mod 10):\n",
    "  - cv000, cv010, cv020, … = Split 1\n",
    "  - cv001, cv011, cv021, … = Split 2\n",
    "  - etc.\n",
    "\n",
    "-   Random sampling/splitting\n",
    "  - Not used here (but you may choose to split this way in a non-educational situation)\n",
    "\n"
   ]
  },
  {
   "cell_type": "markdown",
   "metadata": {
    "id": "8OeLcbSauGtR"
   },
   "source": [
    "#### (Q2.5) Write the code to implement 10-fold cross-validation using round-robin splitting for your Naive Bayes classifier from Q2.4 and compute the 10 accuracies. Report the final performance, which is the average of the performances per fold. If all splits perform equally well, this is a good sign. (1pt)"
   ]
  },
  {
   "cell_type": "code",
   "execution_count": 16,
   "metadata": {
    "id": "3KeCGPa7Nuzx"
   },
   "outputs": [],
   "source": [
    "# YOUR CODE HERE\n",
    "from collections import defaultdict\n",
    "\n",
    "def create_ten_folds(reviews):\n",
    "  # create folds\n",
    "  ten_folds = defaultdict(list)\n",
    "  for review in reviews:\n",
    "    split_idx = review['cv'] % 10\n",
    "    ten_folds[split_idx].append(review)\n",
    "  return ten_folds\n",
    "\n",
    "# apply cross validation with given parameters \n",
    "def cross_validation(folds, smoothing_k=0, stem=False, bigram=False, trigram=False):\n",
    "  test_split_idx = len(folds) - 1\n",
    "  accs = []\n",
    "\n",
    "  it_n = 0\n",
    "  while True:\n",
    "    \n",
    "    if test_split_idx < 0:\n",
    "      break\n",
    "\n",
    "    it_n += 1\n",
    "    print('Iteration {}/10'.format(it_n))\n",
    "\n",
    "    training_set = []\n",
    "    for split in folds:\n",
    "      if split != test_split_idx:\n",
    "        training_set += folds[split]\n",
    "    \n",
    "    # train on training folds\n",
    "    freq_dict, Ppos, Pneg = NB_train(training_set, sm_k=smoothing_k, stemming=stem, bi=bigram, tri=trigram)\n",
    "\n",
    "    # test on test fold and print accuracy\n",
    "    test_set = folds[test_split_idx]\n",
    "    results = []\n",
    "    for review in test_set:\n",
    "      pred = NB_predict(review, freq_dict, Ppos, Pneg, sm_k=smoothing_k, stemming=stem, bi=bigram, tri=trigram)\n",
    "      if review['sentiment'] == pred:\n",
    "        results.append(1)\n",
    "      else:\n",
    "        results.append(0)\n",
    "\n",
    "    accuracy = sum(results)/len(results)\n",
    "\n",
    "    accs.append(accuracy)\n",
    "    test_split_idx += -1\n",
    "\n",
    "  accs = np.array(accs)\n",
    "\n",
    "  return accs, np.round(np.mean(accs), 3)"
   ]
  },
  {
   "cell_type": "code",
   "execution_count": 17,
   "metadata": {},
   "outputs": [
    {
     "name": "stdout",
     "output_type": "stream",
     "text": [
      "Iteration 1/10\n",
      "Iteration 2/10\n",
      "Iteration 3/10\n",
      "Iteration 4/10\n",
      "Iteration 5/10\n",
      "Iteration 6/10\n",
      "Iteration 7/10\n",
      "Iteration 8/10\n",
      "Iteration 9/10\n",
      "Iteration 10/10\n",
      "Average accuracy: 0.815\n"
     ]
    }
   ],
   "source": [
    "ten_folds = create_ten_folds(reviews)\n",
    "accs, mean_acc = cross_validation(ten_folds, smoothing_k=1)\n",
    "print('Average accuracy:', mean_acc)"
   ]
  },
  {
   "cell_type": "markdown",
   "metadata": {
    "id": "otdlsDXBNyOa"
   },
   "source": [
    "#### (Q2.6) Report the variance of the 10 accuracy scores. (0.5pt)\n",
    "\n",
    "**Please report all future results using 10-fold cross-validation now\n",
    "(unless told to use the held-out test set).**"
   ]
  },
  {
   "cell_type": "code",
   "execution_count": 18,
   "metadata": {
    "id": "ZoBQm1KuNzNR"
   },
   "outputs": [
    {
     "name": "stdout",
     "output_type": "stream",
     "text": [
      "The variance of the 10 accuracy scores is 0.0005772499999999987\n"
     ]
    }
   ],
   "source": [
    "# YOUR CODE HERE\n",
    "print('The variance of the 10 accuracy scores is {}'.format(np.var(accs)))"
   ]
  },
  {
   "cell_type": "markdown",
   "metadata": {
    "id": "s6A2zX9_BRKm"
   },
   "source": [
    "## Features, overfitting, and the curse of dimensionality\n",
    "\n",
    "In the Bag-of-Words model, ideally we would like each distinct word in\n",
    "the text to be mapped to its own dimension in the output vector\n",
    "representation. However, real world text is messy, and we need to decide\n",
    "on what we consider to be a word. For example, is “`word`\" different\n",
    "from “`Word`\", from “`word`”, or from “`words`\"? Too strict a\n",
    "definition, and the number of features explodes, while our algorithm\n",
    "fails to learn anything generalisable. Too lax, and we risk destroying\n",
    "our learning signal. In the following section, you will learn about\n",
    "confronting the feature sparsity and the overfitting problems as they\n",
    "occur in NLP classification tasks."
   ]
  },
  {
   "cell_type": "markdown",
   "metadata": {
    "id": "EKK8FNt8VtcZ"
   },
   "source": [
    "### Stemming (1.5pts)\n",
    "\n",
    "To make your algorithm more robust, use stemming and hash different inflections of a word to the same feature in the BoW vector space. Please use the [Porter stemming\n",
    "    algorithm](http://www.nltk.org/howto/stem.html) from NLTK.\n",
    "\n"
   ]
  },
  {
   "cell_type": "code",
   "execution_count": 19,
   "metadata": {
    "id": "NxtCul1IrBi_"
   },
   "outputs": [
    {
     "name": "stdout",
     "output_type": "stream",
     "text": [
      "Iteration 1/10\n",
      "Iteration 2/10\n",
      "Iteration 3/10\n",
      "Iteration 4/10\n",
      "Iteration 5/10\n",
      "Iteration 6/10\n",
      "Iteration 7/10\n",
      "Iteration 8/10\n",
      "Iteration 9/10\n",
      "Iteration 10/10\n"
     ]
    }
   ],
   "source": [
    "# YOUR CODE HERE\n",
    "ten_folds = create_ten_folds(reviews)\n",
    "accs, mean_acc = cross_validation(ten_folds, smoothing_k=1, stem=True)"
   ]
  },
  {
   "cell_type": "markdown",
   "metadata": {
    "id": "6SrJ1BeLXTnk"
   },
   "source": [
    "#### (Q2.7): How does the performance of your classifier change when you use stemming on your training and test datasets? (1pt)\n",
    "Use cross-validation to evaluate the classifier. \n"
   ]
  },
  {
   "cell_type": "code",
   "execution_count": 20,
   "metadata": {
    "id": "gYqKBOiIrInT"
   },
   "outputs": [
    {
     "name": "stdout",
     "output_type": "stream",
     "text": [
      "Average accuracy when using stemming: 0.809\n",
      "The variance of the 10 accuracy scores is 0.0009639999999999985\n"
     ]
    }
   ],
   "source": [
    "# YOUR ANSWER HERE\n",
    "print('Average accuracy when using stemming:', mean_acc)\n",
    "print('The variance of the 10 accuracy scores is {}'.format(np.var(accs)))"
   ]
  },
  {
   "cell_type": "markdown",
   "metadata": {
    "id": "JkDHVq_1XUVP"
   },
   "source": [
    "#### (Q2.8) What happens to the number of features (i.e., the size of the vocabulary) when using stemming as opposed to (Q2.4)? (0.5pt)\n",
    "Give actual numbers. You can use the held-out training set to determine these."
   ]
  },
  {
   "cell_type": "code",
   "execution_count": 21,
   "metadata": {
    "id": "MA3vee5-rJyy"
   },
   "outputs": [
    {
     "name": "stdout",
     "output_type": "stream",
     "text": [
      "Size of vocabulary without stemming: 45348\n",
      "Size of vocabulary with stemming: 32404\n",
      "So as you can see, the number of features/the size of the vocabulary decreases.\n"
     ]
    }
   ],
   "source": [
    "# YOUR CODE HERE\n",
    "train_reviews = [review for review in reviews if review['cv'] < 900]\n",
    "freq_dict_nostem, _, _ = NB_train(train_reviews, sm_k=1, stemming=False)\n",
    "freq_dict_stem, _, _ = NB_train(train_reviews, sm_k=1, stemming=True)\n",
    "\n",
    "print('Size of vocabulary without stemming: {}'.format(len(freq_dict_nostem['POS'])))\n",
    "print('Size of vocabulary with stemming: {}'.format(len(freq_dict_stem['POS'])))\n",
    "print('So as you can see, the number of features/the size of the vocabulary decreases.')"
   ]
  },
  {
   "cell_type": "markdown",
   "metadata": {
    "id": "SoazfxbNV5Lq"
   },
   "source": [
    "### N-grams (1.5pts)\n",
    "\n",
    "A simple way of retaining some of the word\n",
    "order information when using bag-of-words representations is to use **n-gram** features. \n",
    "\n",
    "\n",
    "\n",
    "\n"
   ]
  },
  {
   "cell_type": "markdown",
   "metadata": {
    "id": "OHjy3I7-qWiu"
   },
   "source": [
    "#### (Q2.9) Retrain your classifier from (Q2.4) using **unigrams+bigrams** and **unigrams+bigrams+trigrams** as features. (1pt)\n",
    "Report accuracy and compare it with that of the approaches you have previously implemented. You are allowed to use NLTK to build n-grams from sentences."
   ]
  },
  {
   "cell_type": "code",
   "execution_count": 22,
   "metadata": {},
   "outputs": [
    {
     "name": "stdout",
     "output_type": "stream",
     "text": [
      "Iteration 1/10\n",
      "Iteration 2/10\n",
      "Iteration 3/10\n",
      "Iteration 4/10\n",
      "Iteration 5/10\n",
      "Iteration 6/10\n",
      "Iteration 7/10\n",
      "Iteration 8/10\n",
      "Iteration 9/10\n",
      "Iteration 10/10\n",
      "Average accuracy with unigrams + bigrams: 0.68\n"
     ]
    }
   ],
   "source": [
    "# YOUR CODE HERE\n",
    "accs, mean_acc = cross_validation(ten_folds, smoothing_k=1, stem=False, bigram=True)\n",
    "print('Average accuracy with unigrams + bigrams:', mean_acc)"
   ]
  },
  {
   "cell_type": "code",
   "execution_count": 23,
   "metadata": {},
   "outputs": [
    {
     "name": "stdout",
     "output_type": "stream",
     "text": [
      "Iteration 1/10\n",
      "Iteration 2/10\n",
      "Iteration 3/10\n",
      "Iteration 4/10\n",
      "Iteration 5/10\n",
      "Iteration 6/10\n",
      "Iteration 7/10\n",
      "Iteration 8/10\n",
      "Iteration 9/10\n",
      "Iteration 10/10\n",
      "Average accuracy with unigrams + bigrams + trigrams: 0.66\n"
     ]
    }
   ],
   "source": [
    "accs, mean_acc = cross_validation(ten_folds, smoothing_k=1, stem=False, bigram=True, trigram=True)\n",
    "print('Average accuracy with unigrams + bigrams + trigrams:', mean_acc)"
   ]
  },
  {
   "cell_type": "markdown",
   "metadata": {
    "id": "dVrGGArkrWoL"
   },
   "source": [
    "\n",
    "#### Q2.10: How many features does the BoW model have to take into account now? (0.5pt)\n",
    "How would you expect the number of features to increase theoretically (e.g., linear, square, cubed, exponential)? How does this number compare, in practice, to the number of features at (Q2.8)?\n",
    "\n",
    "Use the held-out training set once again for this.\n"
   ]
  },
  {
   "cell_type": "markdown",
   "metadata": {
    "id": "yEGZ9SV8pPaa"
   },
   "source": [
    "*Write your answer here.*"
   ]
  },
  {
   "cell_type": "code",
   "execution_count": 24,
   "metadata": {
    "id": "_z8sAJeUrdtM"
   },
   "outputs": [
    {
     "name": "stdout",
     "output_type": "stream",
     "text": [
      "Size of vocabulary with unigrams only: 45348\n",
      "Size of vocabulary with unigrams + bigrams: 465262\n",
      "Size of vocabulary with unigrams + bigrams + trigrams: 1346107\n"
     ]
    }
   ],
   "source": [
    "# YOUR CODE HERE\n",
    "train_reviews = [review for review in reviews if review['cv'] < 900]\n",
    "freq_dict_uni, _, _ = NB_train(train_reviews, sm_k=1)\n",
    "freq_dict_uni_bi, _, _ = NB_train(train_reviews, sm_k=1, bi=True)\n",
    "freq_dict_uni_bi_tri, _, _ = NB_train(train_reviews, sm_k=1, bi=True, tri=True)\n",
    "\n",
    "print('Size of vocabulary with unigrams only: {}'.format(len(freq_dict_uni['POS'])))\n",
    "print('Size of vocabulary with unigrams + bigrams: {}'.format(len(freq_dict_uni_bi['POS'])))\n",
    "print('Size of vocabulary with unigrams + bigrams + trigrams: {}'.format(len(freq_dict_uni_bi_tri['POS'])))"
   ]
  },
  {
   "cell_type": "markdown",
   "metadata": {},
   "source": [
    "#### Answer\n",
    "In theory, it can increase quadratic with bigrams and cubed for trigrams, but this is only in the worst case where bigrams and trigrams occcur that are grammatically or semantically incorrect (e.g. 'The' followed by 'the' etc.). So in practice, this theory will be unlikely. Above you can see what we observed in practice: from unigrams to uni+bigrams we go from 45348 to 465262 features and from that we go to 1346107 features. This is not quadratic or cubed increase, but rather a (highly) linear increase."
   ]
  },
  {
   "cell_type": "markdown",
   "metadata": {
    "id": "CHWKDL3YV6vh"
   },
   "source": [
    "# Support Vector Machines (4pts)"
   ]
  },
  {
   "cell_type": "markdown",
   "metadata": {
    "id": "hJSYhcVaoJGt"
   },
   "source": [
    "Though simple to understand, implement, and debug, one\n",
    "major problem with the Naive Bayes classifier is that its performance\n",
    "deteriorates (becomes skewed) when it is being used with features which\n",
    "are not independent (i.e., are correlated). Another popular classifier\n",
    "that doesn’t scale as well to big data, and is not as simple to debug as\n",
    "Naive Bayes, but that doesn’t assume feature independence is the Support\n",
    "Vector Machine (SVM) classifier.\n",
    "\n",
    "You can find more details about SVMs in Chapter 7 of Bishop: Pattern Recognition and Machine Learning.\n",
    "Other sources for learning SVM:\n",
    "* http://web.mit.edu/zoya/www/SVM.pdf\n",
    "* http://www.cs.columbia.edu/~kathy/cs4701/documents/jason_svm_tutorial.pdf\n",
    "* https://pythonprogramming.net/support-vector-machine-intro-machine-learning-tutorial/\n",
    "\n",
    "\n",
    "\n",
    "\n",
    "\n",
    "\n",
    "\n",
    "Use the scikit-learn implementation of \n",
    "[SVM](http://scikit-learn.org/stable/modules/svm.html) with the default parameters. (You are not expected to perform any hyperparameter tuning, but feel free to do it if you think it gives you good insights for the discussion in question 5.)\n",
    "\n"
   ]
  },
  {
   "cell_type": "markdown",
   "metadata": {
    "id": "0LnzNtQBV8gr"
   },
   "source": [
    "#### (Q3.1): Train SVM and compare to Naive Bayes (2pts)\n",
    "\n",
    "Train an SVM classifier (sklearn.svm.LinearSVC) using the features collected for Naive Bayes. Compare the\n",
    "classification performance of the SVM classifier to that of the Naive\n",
    "Bayes classifier with smoothing.\n",
    "Use cross-validation to evaluate the performance of the classifiers.\n",
    "\n"
   ]
  },
  {
   "cell_type": "code",
   "execution_count": 25,
   "metadata": {
    "id": "JBscui8Mvoz0"
   },
   "outputs": [],
   "source": [
    "# YOUR CODE HERE\n",
    "def flatten(l):\n",
    "   return [item for sublist in l for item in sublist]"
   ]
  },
  {
   "cell_type": "code",
   "execution_count": 26,
   "metadata": {},
   "outputs": [
    {
     "name": "stdout",
     "output_type": "stream",
     "text": [
      "Encoding progress: 2000/2000"
     ]
    }
   ],
   "source": [
    "from copy import deepcopy\n",
    "\n",
    "# create empty vocabulary for encoding \n",
    "empty_vocab = defaultdict(int)\n",
    "for review in reviews:\n",
    "  for sentence in review[\"content\"]:\n",
    "    for token, pos_tag in sentence:\n",
    "      empty_vocab[token.lower()] = 0\n",
    "\n",
    "def encode_review(review):\n",
    "  dictio = deepcopy(empty_vocab)\n",
    "  for word in review:\n",
    "    # use one hot encoding (so based on word presence)\n",
    "    dictio[word] += 1\n",
    "    \n",
    "  return np.array(list(dictio.values()))\n",
    "\n",
    "# now encode each review and create encoded reviews dataset\n",
    "# NOTE: can take a while\n",
    "reviews_dataset = []\n",
    "progress = 0\n",
    "for review in reviews:\n",
    "  print('\\rEncoding progress: {}/{}'.format(progress+1, len(reviews)), end='')\n",
    "  progress += 1\n",
    "  rev = {}\n",
    "  rev['cv'] = review['cv']\n",
    "  rev['sentiment'] = review['sentiment']\n",
    "  rev['content'] = []\n",
    "  for sentence in review[\"content\"]:\n",
    "    sent = []\n",
    "    for token, pos_tag in sentence:\n",
    "      sent.append(token.lower())\n",
    "    rev['content'].append(sent)\n",
    "  rev['content'] = encode_review(flatten(rev['content']))\n",
    "  reviews_dataset.append(rev)\n",
    "  "
   ]
  },
  {
   "cell_type": "code",
   "execution_count": 27,
   "metadata": {},
   "outputs": [
    {
     "name": "stdout",
     "output_type": "stream",
     "text": [
      "SVM performance (accuracy): 0.832\n",
      "Iteration 1/10\n",
      "Iteration 2/10\n",
      "Iteration 3/10\n",
      "Iteration 4/10\n",
      "Iteration 5/10\n",
      "Iteration 6/10\n",
      "Iteration 7/10\n",
      "Iteration 8/10\n",
      "Iteration 9/10\n",
      "Iteration 10/10\n",
      "NB + smoothing performance (accuracy): 0.815\n"
     ]
    }
   ],
   "source": [
    "from sklearn.svm import LinearSVC\n",
    "# create folds\n",
    "ten_fold_set_X = defaultdict(list)\n",
    "ten_fold_set_y = defaultdict(list)\n",
    "for review in reviews_dataset:\n",
    "  split_idx = review['cv'] % 10\n",
    "  ten_fold_set_X[split_idx].append(review['content'])\n",
    "  ten_fold_set_y[split_idx].append(review['sentiment'])\n",
    "\n",
    "# apply 10-fold cross validation\n",
    "test_split_idx = 10-1\n",
    "\n",
    "accs = []\n",
    "while True:\n",
    "  if test_split_idx < 0:\n",
    "    break\n",
    "  training_X = []\n",
    "  training_y = []\n",
    "  for split in ten_fold_set_X:\n",
    "    if split != test_split_idx:\n",
    "      training_X += ten_fold_set_X[split]\n",
    "      training_y += ten_fold_set_y[split]\n",
    "  \n",
    "\n",
    "  # test on test fold and print accuracy\n",
    "  test_X = ten_fold_set_X[test_split_idx]\n",
    "  test_y = ten_fold_set_y[test_split_idx]\n",
    "\n",
    "  # train and test SVM\n",
    "  lsvc = LinearSVC(max_iter=1200000)\n",
    "  lsvc.fit(np.array(training_X), training_y)\n",
    "  score = lsvc.score(np.array(test_X), test_y)\n",
    "  accs.append(score)\n",
    "  test_split_idx += -1\n",
    "accs = np.array(accs)\n",
    "print('SVM performance (accuracy): {}'.format(np.round(np.mean(accs), 3)))\n",
    "\n",
    "# Compare with Naive Bayes\n",
    "ten_folds = create_ten_folds(reviews)\n",
    "accs, mean_acc = cross_validation(ten_folds, smoothing_k=1)\n",
    "print('NB + smoothing performance (accuracy):', mean_acc)"
   ]
  },
  {
   "cell_type": "markdown",
   "metadata": {
    "id": "ifXVWcK0V9qY"
   },
   "source": [
    "### POS disambiguation (2pts)\n",
    "\n",
    "Now add in part-of-speech features. You will find the\n",
    "movie review dataset has already been POS-tagged for you ([here](https://catalog.ldc.upenn.edu/docs/LDC99T42/tagguid1.pdf) you find the tagset). Try to\n",
    "replicate the results obtained by Pang et al. (2002).\n",
    "\n"
   ]
  },
  {
   "cell_type": "markdown",
   "metadata": {
    "id": "xA3I82o4oWGu"
   },
   "source": [
    "####(Q3.2) Replace your features with word+POS features, and report performance with the SVM. Use cross-validation to evaluate the classifier and compare the results with (Q3.1). Does part-of-speech information help? Explain why this may be the case. (1pt)\n"
   ]
  },
  {
   "cell_type": "code",
   "execution_count": 28,
   "metadata": {
    "id": "NOvjYe-t2Br6"
   },
   "outputs": [
    {
     "name": "stdout",
     "output_type": "stream",
     "text": [
      "Encoding progress: 2000/2000"
     ]
    }
   ],
   "source": [
    "# YOUR CODE HERE\n",
    "# create empty vocabulary for encoding, including POS \n",
    "empty_vocab = defaultdict(int)\n",
    "for review in reviews:\n",
    "  for sentence in review[\"content\"]:\n",
    "    for token, pos_tag in sentence:\n",
    "        key = token.lower() + '/' + pos_tag\n",
    "        empty_vocab[key] = 0\n",
    "\n",
    "def encode_review(review):\n",
    "  dictio = deepcopy(empty_vocab)\n",
    "  for word in review:\n",
    "    dictio[word] += 1\n",
    "  return np.array(list(dictio.values()))\n",
    "\n",
    "# now encode each review and create encoded reviews dataset\n",
    "reviews_dataset_pos = []\n",
    "progress = 0\n",
    "for review in reviews:\n",
    "  print('\\rEncoding progress: {}/{}'.format(progress+1, len(reviews)), end='')\n",
    "  progress += 1\n",
    "  rev = {}\n",
    "  rev['cv'] = review['cv']\n",
    "  rev['sentiment'] = review['sentiment']\n",
    "  rev['content'] = []\n",
    "  for sentence in review[\"content\"]:\n",
    "    sent = []\n",
    "    for token, pos_tag in sentence:\n",
    "      sent.append(token.lower() + '/' + pos_tag)\n",
    "    rev['content'].append(sent)\n",
    "  rev['content'] = encode_review(flatten(rev['content']))\n",
    "  reviews_dataset_pos.append(rev)\n",
    "  "
   ]
  },
  {
   "cell_type": "code",
   "execution_count": 29,
   "metadata": {},
   "outputs": [
    {
     "name": "stdout",
     "output_type": "stream",
     "text": [
      "SVM incl. POS tags performance (accuracy): 0.838\n"
     ]
    }
   ],
   "source": [
    "# create folds\n",
    "ten_fold_set_X = defaultdict(list)\n",
    "ten_fold_set_y = defaultdict(list)\n",
    "for review in reviews_dataset_pos:\n",
    "  split_idx = review['cv'] % 10\n",
    "  ten_fold_set_X[split_idx].append(review['content'])\n",
    "  ten_fold_set_y[split_idx].append(review['sentiment'])\n",
    "\n",
    "# apply 10-fold cross validation\n",
    "test_split_idx = 10-1\n",
    "\n",
    "accs = []\n",
    "while True:\n",
    "  if test_split_idx < 0:\n",
    "    break\n",
    "  training_X = []\n",
    "  training_y = []\n",
    "  for split in ten_fold_set_X:\n",
    "    if split != test_split_idx:\n",
    "      training_X += ten_fold_set_X[split]\n",
    "      training_y += ten_fold_set_y[split]\n",
    "  \n",
    "\n",
    "  # test on test fold and print accuracy\n",
    "  test_X = ten_fold_set_X[test_split_idx]\n",
    "  test_y = ten_fold_set_y[test_split_idx]\n",
    "\n",
    "  # train and test SVM\n",
    "  lsvc = LinearSVC(max_iter=1200000)\n",
    "  lsvc.fit(np.array(training_X), training_y)\n",
    "  score = lsvc.score(np.array(test_X), test_y)\n",
    "  accs.append(score)\n",
    "  test_split_idx += -1\n",
    "accs = np.array(accs)\n",
    "print('SVM incl. POS tags performance (accuracy): {}'.format(np.round(np.mean(accs), 3)))"
   ]
  },
  {
   "cell_type": "markdown",
   "metadata": {
    "id": "L0dt_oQupUNe"
   },
   "source": [
    "*Write your answer here.*\n",
    "\n",
    "##### Answer\n",
    "As you can see, the accuracy for SVM increases when coorporating POS tags. However, the increase is small and does not seem significant. This result suggests that adding a POS tag does not encode additional information. "
   ]
  },
  {
   "cell_type": "markdown",
   "metadata": {
    "id": "Su-3w87eMW0w"
   },
   "source": [
    "#### (Q3.3) Discard all closed-class words from your data (keep only nouns, verbs, adjectives, and adverbs), and report performance. Does this help? Use cross-validation to evaluate the classifier and compare the results with (Q3.2). Are closed-class words detrimental to the classifier? Explain why this may be the case. (1pt)"
   ]
  },
  {
   "cell_type": "code",
   "execution_count": 30,
   "metadata": {
    "id": "CCUPlPozCYUX"
   },
   "outputs": [
    {
     "name": "stdout",
     "output_type": "stream",
     "text": [
      "Encoding progress: 2000/2000"
     ]
    }
   ],
   "source": [
    "# YOUR CODE HERE\n",
    "open_class = ['JJ', 'JJR', 'JJS', 'NN', 'NNS', 'NNP', 'NNPS', 'VB', 'RB', 'RBR','RP', 'RBS', 'VBZ','VBP','MD' 'VBD', 'VBG', 'VBN', 'VBZ', 'VBP']\n",
    "\n",
    "# create empty vocabulary for encoding, including POS \n",
    "empty_vocab = defaultdict(int)\n",
    "for review in reviews:\n",
    "  for sentence in review[\"content\"]:\n",
    "    for token, pos_tag in sentence:\n",
    "        if pos_tag in open_class:\n",
    "            key = token.lower() + '/' + pos_tag\n",
    "            empty_vocab[key] = 0\n",
    "\n",
    "def encode_review(review):\n",
    "  dictio = deepcopy(empty_vocab)\n",
    "  for word in review: \n",
    "    dictio[word] += 1\n",
    "  return np.array(list(dictio.values()))\n",
    "\n",
    "# now encode each review and create encoded reviews dataset\n",
    "reviews_dataset_oc = []\n",
    "progress = 0\n",
    "for review in reviews:\n",
    "  print('\\rEncoding progress: {}/{}'.format(progress+1, len(reviews)), end='')\n",
    "  progress += 1\n",
    "  rev = {}\n",
    "  rev['cv'] = review['cv']\n",
    "  rev['sentiment'] = review['sentiment']\n",
    "  rev['content'] = []\n",
    "  for sentence in review[\"content\"]:\n",
    "    sent = []\n",
    "    for token, pos_tag in sentence:\n",
    "      if pos_tag in open_class:\n",
    "        sent.append(token.lower() + '/' + pos_tag)\n",
    "    rev['content'].append(sent)\n",
    "  rev['content'] = encode_review(flatten(rev['content']))\n",
    "  reviews_dataset_oc.append(rev)\n",
    "  "
   ]
  },
  {
   "cell_type": "code",
   "execution_count": 31,
   "metadata": {},
   "outputs": [
    {
     "name": "stdout",
     "output_type": "stream",
     "text": [
      "SVM incl. POS tags without closed-class performance (accuracy): 0.849\n"
     ]
    }
   ],
   "source": [
    "# create folds\n",
    "ten_fold_set_X = defaultdict(list)\n",
    "ten_fold_set_y = defaultdict(list)\n",
    "for review in reviews_dataset_oc:\n",
    "  split_idx = review['cv'] % 10\n",
    "  ten_fold_set_X[split_idx].append(review['content'])\n",
    "  ten_fold_set_y[split_idx].append(review['sentiment'])\n",
    "\n",
    "# apply 10-fold cross validation\n",
    "test_split_idx = 10-1\n",
    "\n",
    "accs = []\n",
    "while True:\n",
    "  if test_split_idx < 0:\n",
    "    break\n",
    "  training_X = []\n",
    "  training_y = []\n",
    "  for split in ten_fold_set_X:\n",
    "    if split != test_split_idx:\n",
    "      training_X += ten_fold_set_X[split]\n",
    "      training_y += ten_fold_set_y[split]\n",
    "  \n",
    "\n",
    "  # test on test fold and print accuracy\n",
    "  test_X = ten_fold_set_X[test_split_idx]\n",
    "  test_y = ten_fold_set_y[test_split_idx]\n",
    "\n",
    "  # train and test SVM\n",
    "  lsvc = LinearSVC(max_iter=1200000)\n",
    "  lsvc.fit(np.array(training_X), training_y)\n",
    "  score = lsvc.score(np.array(test_X), test_y)\n",
    "  accs.append(score)\n",
    "  test_split_idx += -1\n",
    "accs = np.array(accs)\n",
    "print('SVM incl. POS tags without closed-class performance (accuracy): {}'.format(np.round(np.mean(accs), 3)))"
   ]
  },
  {
   "cell_type": "markdown",
   "metadata": {
    "id": "YaxCVrs8pWSp"
   },
   "source": [
    "*Write your answer here.*\n",
    "##### Answer\n",
    "We see that the accuracy when discarding closed class words increases with from 83.8% to 84.9%, which is a small increase. This means that the open class words contain the most important 'information' in the review and discarding the closed class words have no influence. This really makes sense, because the open-class words contain most sentimental meanings, whereas the closed class words (e.g. DET) do not. "
   ]
  },
  {
   "cell_type": "markdown",
   "metadata": {
    "id": "nfwqOciAl2No"
   },
   "source": [
    "# (Q4) Discussion (max. 500 words). (5pts)\n",
    "\n",
    "> Based on your experiments, what are the effective features and techniques in sentiment analysis? What information do different features encode?\n",
    "Why is this important? What are the limitations of these features and techniques?\n",
    " \n"
   ]
  },
  {
   "cell_type": "markdown",
   "metadata": {
    "id": "ZYuse5WLmekZ"
   },
   "source": [
    "*Write your answer here in up to 500 words (-0.25pt for >50 extra words, -0.5 points for >100 extra words, ...)*.\n",
    "\n",
    "##### Answer\n",
    "\n",
    "Throughout the assignment, we implemented three major sentiment detection approaches - The Lexicon-based approach, Naive Bayes, and Support Vector Machines. After working out through the notebook, it can be clearly seen that relation between the word and the sentiment works much better than predefining lexicon based on the threshold which can be evidently seen in the results - 83.5% for Naive Bayes compared to 68% in Lexicon based approach. Incorporating the magnitude for strong and weak words in Lexicon based approach does not significantly improve the accuracy which suggests that magnitude information is not important. Also, it can be seen that the accuracy decreases by 2% on using smoothing in the Naive Bayes approach, this could be described by the inclusion of probabilities of the uncommon words which distorts the probability. \n",
    "\n",
    "Unexpectedly, the best features came out to be original words rather than the stemmed words or the bigrams and trigrams which can be evidently seen from the results(80.9% in Stemming NB, 68% in uni+bi, and 66% in uni+bi+tri). This can be explained by the fact that stemming discards some inherent useful information if there is no context available. An example of this is 'awful'(which is usually negative) and 'awfully' (which could be either, like \"awfully good\"). For n-grams, the accuracy decreases as previously mentioned, this is due to the fact that Naive Bayes assumes conditional independence while n-grams are not conditionally independent.\n",
    "\n",
    "SVM performs better than Naive Bayes with smoothing but the difference is not significant(83.2% for SVM and 81.5% for NB with smoothing). SVM was also performed for POS disambiguation in which the POS tags of the words were also incorporated as there are a few words with different POS tags with respect to the sentiment. There is a very slight increase(0.6%) in the accuracy in this case as compared to the SVM in the previous case(83.8% SVM with POS tags), turns out that the POS tags do not encode additional information. In the final experiment, all the closed class words are discarded, which results in a slight increase in the accuracy (84.9%) which suggests that open class words have contained the more important information as compared to the closed class words, this is because the open-class words contain most sentimental meanings.\n",
    "\n",
    "Thus, we conclude that SVM performs the best followed by Naive Bayes, also original words were the best features as compared to the stemmed words or n-grams."
   ]
  },
  {
   "cell_type": "markdown",
   "metadata": {
    "id": "iwaKwfWQhRk_"
   },
   "source": [
    "# Submission \n"
   ]
  },
  {
   "cell_type": "code",
   "execution_count": 32,
   "metadata": {
    "id": "aOUeaET5ijk-"
   },
   "outputs": [],
   "source": [
    "# Write your names and student numbers here:\n",
    "# Bart van Vulpen #11865210\n",
    "# Ankit 13608568"
   ]
  },
  {
   "cell_type": "markdown",
   "metadata": {
    "id": "3A9K-H6Tii3X"
   },
   "source": [
    "**That's it!**\n",
    "\n",
    "- Check if you answered all questions fully and correctly. \n",
    "- Download your completed notebook using `File -> Download .ipynb` \n",
    "- Check if your answers are all included in the file you submit.\n",
    "- Submit your .ipynb file via *Canvas*. One submission per group. "
   ]
  }
 ],
 "metadata": {
  "colab": {
   "collapsed_sections": [],
   "name": "NLP1 2021 Practical 1 (student version)",
   "provenance": []
  },
  "kernelspec": {
   "display_name": "Python 3",
   "language": "python",
   "name": "python3"
  },
  "language_info": {
   "codemirror_mode": {
    "name": "ipython",
    "version": 3
   },
   "file_extension": ".py",
   "mimetype": "text/x-python",
   "name": "python",
   "nbconvert_exporter": "python",
   "pygments_lexer": "ipython3",
   "version": "3.7.7"
  }
 },
 "nbformat": 4,
 "nbformat_minor": 1
}
